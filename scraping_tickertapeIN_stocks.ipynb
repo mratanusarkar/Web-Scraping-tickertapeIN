{
  "nbformat": 4,
  "nbformat_minor": 0,
  "metadata": {
    "colab": {
      "name": "Web Scraping tickertapeIN - stocks.ipynb",
      "provenance": [],
      "authorship_tag": "ABX9TyPnszOfOHQjPa7WPbRFgwG3",
      "include_colab_link": true
    },
    "kernelspec": {
      "name": "python3",
      "display_name": "Python 3"
    },
    "language_info": {
      "name": "python"
    }
  },
  "cells": [
    {
      "cell_type": "markdown",
      "metadata": {
        "id": "view-in-github",
        "colab_type": "text"
      },
      "source": [
        "<a href=\"https://colab.research.google.com/github/mratanusarkar/Web-Scraping-tickertapeIN/blob/feature%2Fscrape-all-sections/scraping_tickertapeIN_stocks.ipynb\" target=\"_parent\"><img src=\"https://colab.research.google.com/assets/colab-badge.svg\" alt=\"Open In Colab\"/></a>"
      ]
    },
    {
      "cell_type": "markdown",
      "source": [
        "# Web Scraping stock data from tickertape.in"
      ],
      "metadata": {
        "id": "vVeC3IHLbQ1S"
      }
    },
    {
      "cell_type": "markdown",
      "source": [
        "**Input**: stock name in \"https://www.tickertape.in/stocks/{stock-name}\" <br>\n",
        "**Output**: full stock data & predictions from tickertape in JSON/Py Dictionary format\n"
      ],
      "metadata": {
        "id": "gwGMUzOsbfK_"
      }
    },
    {
      "cell_type": "markdown",
      "source": [
        "## Import Packages"
      ],
      "metadata": {
        "id": "OcFpi1cFcDW0"
      }
    },
    {
      "cell_type": "code",
      "source": [
        "import numpy as np\n",
        "import pandas as pd\n",
        "import requests\n",
        "from bs4 import BeautifulSoup\n",
        "\n",
        "import json\n",
        "import time\n",
        "import datetime as dt\n",
        "\n",
        "import matplotlib.pyplot as plt\n",
        "import plotly.express as px"
      ],
      "metadata": {
        "id": "c0wD-RzybeO9"
      },
      "execution_count": 1,
      "outputs": []
    },
    {
      "cell_type": "markdown",
      "source": [
        "## Request and Fetch the Webpage"
      ],
      "metadata": {
        "id": "igOJKmX7cIWj"
      }
    },
    {
      "cell_type": "markdown",
      "source": [
        "Let's try with a sample stock name, say \"TCS\""
      ],
      "metadata": {
        "id": "Pcn82_QzcLGq"
      }
    },
    {
      "cell_type": "code",
      "source": [
        "# enter company subdirectory\n",
        "subdir = \"tata-consultancy-services-TCS\"\n",
        "# subdir = \"adani-green-energy-ADNA\""
      ],
      "metadata": {
        "id": "2VvAxCA37RBN"
      },
      "execution_count": 2,
      "outputs": []
    },
    {
      "cell_type": "code",
      "source": [
        "# hit \"https://www.tickertape.in/stocks/tata-consultancy-services-TCS\"\n",
        "requests.get(\"https://www.tickertape.in/stocks/\" + subdir)"
      ],
      "metadata": {
        "colab": {
          "base_uri": "https://localhost:8080/"
        },
        "id": "uN6CTb4tcWTd",
        "outputId": "80a89b73-a768-43ec-b7ee-05a7eea9fa00"
      },
      "execution_count": 3,
      "outputs": [
        {
          "output_type": "execute_result",
          "data": {
            "text/plain": [
              "<Response [200]>"
            ]
          },
          "metadata": {},
          "execution_count": 3
        }
      ]
    },
    {
      "cell_type": "code",
      "source": [
        "# wow! no restriction for bots! no need of any headers!\n",
        "response = requests.get(\"https://www.tickertape.in/stocks/\" + subdir)\n",
        "response.text[0:500]"
      ],
      "metadata": {
        "colab": {
          "base_uri": "https://localhost:8080/",
          "height": 88
        },
        "id": "O-3k6Ngicr2N",
        "outputId": "40a1cef4-2938-429a-8856-8892d55f0907"
      },
      "execution_count": 4,
      "outputs": [
        {
          "output_type": "execute_result",
          "data": {
            "text/plain": [
              "'<!DOCTYPE html><html lang=\"en-US\"><head><meta http-equiv=\"X-UA-Compatible\" content=\"IE=edge\"/><link rel=\"shortcut icon\" href=\"/favicon/favicon.png\"/><link rel=\"apple-touch-icon\" href=\"/favicon/favicon-192x192.png\"/><link rel=\"manifest\" href=\"/manifest/manifest.json\"/><style type=\"text/css\">:root {--white: #ffffff; --font_primary: #535B62; --font_dark: #2f363f; --font_light: #81878c; --font_blue: #0088ea; --font_lighter: #a2a8ae; --brand_primary: #151e28; --brand_success: #28c39a; --brand_danger:'"
            ],
            "application/vnd.google.colaboratory.intrinsic+json": {
              "type": "string"
            }
          },
          "metadata": {},
          "execution_count": 4
        }
      ]
    },
    {
      "cell_type": "code",
      "source": [
        "# not required for this webpage, use if bot restrictions are added in future.\n",
        "\n",
        "# google chrome browser's request header (to make it look like, we are making this request from a browser)\n",
        "header = {\n",
        "  \"User-Agent\": \"Mozilla/5.0 (Windows NT 10.0; Win64; x64) AppleWebKit/537.36 (KHTML, like Gecko) Chrome/80.0.3987.163 Safari/537.36\"\n",
        "}\n",
        "\n",
        "# hit using the header\n",
        "response = requests.get(\"https://www.tickertape.in/stocks/\" + subdir, headers=header)\n",
        "response.text[0:500]"
      ],
      "metadata": {
        "colab": {
          "base_uri": "https://localhost:8080/",
          "height": 88
        },
        "id": "ZMW71O25c9Hl",
        "outputId": "f503b26a-b76c-42a5-cb43-61218dead580"
      },
      "execution_count": 5,
      "outputs": [
        {
          "output_type": "execute_result",
          "data": {
            "text/plain": [
              "'<!DOCTYPE html><html lang=\"en-US\"><head><meta http-equiv=\"X-UA-Compatible\" content=\"IE=edge\"/><link rel=\"shortcut icon\" href=\"/favicon/favicon.png\"/><link rel=\"apple-touch-icon\" href=\"/favicon/favicon-192x192.png\"/><link rel=\"manifest\" href=\"/manifest/manifest.json\"/><style type=\"text/css\">:root {--white: #ffffff; --font_primary: #535B62; --font_dark: #2f363f; --font_light: #81878c; --font_blue: #0088ea; --font_lighter: #a2a8ae; --brand_primary: #151e28; --brand_success: #28c39a; --brand_danger:'"
            ],
            "application/vnd.google.colaboratory.intrinsic+json": {
              "type": "string"
            }
          },
          "metadata": {},
          "execution_count": 5
        }
      ]
    },
    {
      "cell_type": "markdown",
      "source": [
        "## Pass the fetched webpage response to Beautiful Soup"
      ],
      "metadata": {
        "id": "XJNdAiOReo2n"
      }
    },
    {
      "cell_type": "code",
      "source": [
        "# give the webpage to Beautiful Soup using parsers: \"html.parser\" or \"lxml\"\n",
        "soup = BeautifulSoup(response.text, 'lxml')"
      ],
      "metadata": {
        "id": "RA-dseaKd1GS"
      },
      "execution_count": 6,
      "outputs": []
    },
    {
      "cell_type": "markdown",
      "source": [
        "## Let us try and extract some data from the soup"
      ],
      "metadata": {
        "id": "ZKYRke2Ilhrt"
      }
    },
    {
      "cell_type": "markdown",
      "source": [
        "- we see the whole webpage and how the html dom structure is made\n",
        "- on inspecting, we see that all our required info is mostly inside div blocks with unique class names\n",
        "- few are inside span or h tags, but all blocks has classes\n",
        "- Let us extract few important html dom blocks and see"
      ],
      "metadata": {
        "id": "8pCfA5bWjJRE"
      }
    },
    {
      "cell_type": "markdown",
      "source": [
        "### [1] Basic Company Information"
      ],
      "metadata": {
        "id": "IqCNbmt8l3Ec"
      }
    },
    {
      "cell_type": "code",
      "source": [
        "# company name\n",
        "htmlBlock = soup.find(\"h3\", class_=\"security-name\")\n",
        "print(htmlBlock.prettify())\n",
        "\n",
        "value = htmlBlock.text if htmlBlock is not None else None\n",
        "print(value)"
      ],
      "metadata": {
        "colab": {
          "base_uri": "https://localhost:8080/"
        },
        "id": "2zTscJQSd1In",
        "outputId": "87d8b231-aeb7-4d2b-ad9b-df5370c75613"
      },
      "execution_count": 7,
      "outputs": [
        {
          "output_type": "stream",
          "name": "stdout",
          "text": [
            "<h3 class=\"jsx-2903438179 security-name\">\n",
            " Tata Consultancy Services Ltd\n",
            "</h3>\n",
            "Tata Consultancy Services Ltd\n"
          ]
        }
      ]
    },
    {
      "cell_type": "code",
      "source": [
        "# ticker name\n",
        "htmlBlock = soup.find(\"span\", class_=\"ticker\")\n",
        "print(htmlBlock.prettify())\n",
        "\n",
        "value = htmlBlock.text if htmlBlock is not None else None\n",
        "print(value)"
      ],
      "metadata": {
        "colab": {
          "base_uri": "https://localhost:8080/"
        },
        "id": "HsrIqPujd1LG",
        "outputId": "f05a323a-afb0-4022-af24-c3a9b163de84"
      },
      "execution_count": 8,
      "outputs": [
        {
          "output_type": "stream",
          "name": "stdout",
          "text": [
            "<span class=\"jsx-2903438179 ticker text-teritiary font-medium\">\n",
            " TCS\n",
            "</span>\n",
            "TCS\n"
          ]
        }
      ]
    },
    {
      "cell_type": "code",
      "source": [
        "# type\n",
        "print(\"stocks\")"
      ],
      "metadata": {
        "colab": {
          "base_uri": "https://localhost:8080/"
        },
        "id": "Ls9mQZSa3f46",
        "outputId": "25e872ef-d27a-42e0-be78-eb5089b03d9c"
      },
      "execution_count": 9,
      "outputs": [
        {
          "output_type": "stream",
          "name": "stdout",
          "text": [
            "stocks\n"
          ]
        }
      ]
    },
    {
      "cell_type": "code",
      "source": [
        "# current price\n",
        "htmlBlock = soup.find(\"span\", class_=\"current-price\")\n",
        "print(htmlBlock.prettify())\n",
        "\n",
        "value = htmlBlock.text if htmlBlock is not None else None\n",
        "print(value)"
      ],
      "metadata": {
        "colab": {
          "base_uri": "https://localhost:8080/"
        },
        "id": "zdTUd2Led1NO",
        "outputId": "94bc8f9f-2310-416b-ecde-791a05e179ec"
      },
      "execution_count": 10,
      "outputs": [
        {
          "output_type": "stream",
          "name": "stdout",
          "text": [
            "<span class=\"jsx-3168773259 current-price typography-h1 text-primary\">\n",
            " 3,661.95\n",
            "</span>\n",
            "\n",
            "3,661.95\n"
          ]
        }
      ]
    },
    {
      "cell_type": "code",
      "source": [
        "# marketcap, sector and risk\n",
        "htmlBlock = soup.find(\"div\", class_=\"stock-labels\")\n",
        "htmlBlock = htmlBlock.find_all(\"span\", class_=\"stock-label-title\")\n",
        "for block in htmlBlock:\n",
        "    print(block)\n",
        "\n",
        "value = htmlBlock[0].text if htmlBlock[0] is not None else None\n",
        "print(value)\n",
        "\n",
        "value = htmlBlock[1].text if htmlBlock[1] is not None else None\n",
        "print(value)\n",
        "\n",
        "value = htmlBlock[2].text if htmlBlock[2] is not None else None\n",
        "print(value)"
      ],
      "metadata": {
        "colab": {
          "base_uri": "https://localhost:8080/"
        },
        "id": "ReDtU1Zn3V4x",
        "outputId": "def8b2b1-65a8-4c47-bcd5-b871e4711f97"
      },
      "execution_count": 11,
      "outputs": [
        {
          "output_type": "stream",
          "name": "stdout",
          "text": [
            "<span class=\"jsx-1903139372 stock-label-title typography-body-medium-xs\">Information Technology</span>\n",
            "<span class=\"jsx-1903139372 stock-label-title typography-body-medium-xs\">Largecap</span>\n",
            "<span class=\"jsx-1903139372 stock-label-title typography-body-medium-xs\">Low Risk</span>\n",
            "Information Technology\n",
            "Largecap\n",
            "Low Risk\n"
          ]
        }
      ]
    },
    {
      "cell_type": "code",
      "source": [
        "# profile\n",
        "\n",
        "htmlBlock = soup.find(\"div\", class_=\"peers-card\")\n",
        "# print(htmlBlock.prettify())\n",
        "\n",
        "print(htmlBlock.h2.text)\n",
        "print(htmlBlock.p.text)\n",
        "\n",
        "value_h = htmlBlock.h2.text if htmlBlock.h2 is not None else \"\"\n",
        "value_p = htmlBlock.p.text if htmlBlock.p is not None else \"\"\n",
        "value = value_h + \": \" + value_p if (value_h + value_p) != \"\" else None\n",
        "print(value)"
      ],
      "metadata": {
        "colab": {
          "base_uri": "https://localhost:8080/"
        },
        "id": "mnkbOAIG3V7J",
        "outputId": "543de8a7-2050-46cd-c2bb-5e1c586b9834"
      },
      "execution_count": 12,
      "outputs": [
        {
          "output_type": "stream",
          "name": "stdout",
          "text": [
            "Company Profile\n",
            "Tata Consultancy Services Limited (TCS) is engaged in providing information technology (IT) services, digital and business solutions.\n",
            "Company Profile: Tata Consultancy Services Limited (TCS) is engaged in providing information technology (IT) services, digital and business solutions.\n"
          ]
        }
      ]
    },
    {
      "cell_type": "code",
      "source": [
        ""
      ],
      "metadata": {
        "id": "OqosrS1L3V9y"
      },
      "execution_count": 12,
      "outputs": []
    },
    {
      "cell_type": "markdown",
      "source": [
        "### [2] Overview"
      ],
      "metadata": {
        "id": "Hl7pzStc-rt9"
      }
    },
    {
      "cell_type": "code",
      "source": [
        "# current price\n",
        "htmlBlock = soup.find(\"span\", class_=\"current-price\")\n",
        "print(htmlBlock.prettify())\n",
        "\n",
        "value = htmlBlock.text if htmlBlock is not None else None\n",
        "print(value)"
      ],
      "metadata": {
        "colab": {
          "base_uri": "https://localhost:8080/"
        },
        "id": "kPe2Uab63WAA",
        "outputId": "ef5d2e8b-bdae-4296-9724-3331dc883e8a"
      },
      "execution_count": 13,
      "outputs": [
        {
          "output_type": "stream",
          "name": "stdout",
          "text": [
            "<span class=\"jsx-3168773259 current-price typography-h1 text-primary\">\n",
            " 3,661.95\n",
            "</span>\n",
            "\n",
            "3,661.95\n"
          ]
        }
      ]
    },
    {
      "cell_type": "code",
      "source": [
        "# change absolute-value\n",
        "htmlBlock = soup.find(\"span\", class_=\"absolute-value\")\n",
        "print(htmlBlock.prettify())\n",
        "\n",
        "value = htmlBlock.text if htmlBlock is not None else None\n",
        "print(value)"
      ],
      "metadata": {
        "colab": {
          "base_uri": "https://localhost:8080/"
        },
        "id": "7CvuSrAplDBR",
        "outputId": "8b68c6cc-cee8-4a3a-cebb-f3775407d4c6"
      },
      "execution_count": 14,
      "outputs": [
        {
          "output_type": "stream",
          "name": "stdout",
          "text": [
            "<span class=\"jsx-3168773259 change absolute-value text-14 typography-body-medium-l up\">\n",
            " <i class=\"jsx-3168773259 icon-Green-up\">\n",
            " </i>\n",
            " 0.00\n",
            " <!-- -->\n",
            " %\n",
            "</span>\n",
            "\n",
            "0.00%\n"
          ]
        }
      ]
    },
    {
      "cell_type": "code",
      "source": [
        "# change percentage-value\n",
        "htmlBlock = soup.find(\"span\", class_=\"percentage-value\")\n",
        "print(htmlBlock.prettify())\n",
        "\n",
        "value = str(htmlBlock.text).replace(\"(\", \"\").replace(\")\", \"\").strip() if htmlBlock is not None else None\n",
        "print(value)"
      ],
      "metadata": {
        "colab": {
          "base_uri": "https://localhost:8080/"
        },
        "id": "u_RW7wVYlDEH",
        "outputId": "b4eebc44-54e0-4e7e-ddfa-31111578306c"
      },
      "execution_count": 15,
      "outputs": [
        {
          "output_type": "stream",
          "name": "stdout",
          "text": [
            "<span class=\"jsx-3168773259 change percentage-value text-14 up\">\n",
            " (\n",
            " <!-- -->\n",
            " +\n",
            " <!-- -->\n",
            " 0.00\n",
            " <!-- -->\n",
            " )\n",
            "</span>\n",
            "+0.00\n"
          ]
        }
      ]
    },
    {
      "cell_type": "code",
      "source": [
        "# day high, low, returns\n",
        "htmlBlock = soup.find(\"div\", class_=\"statbox\")\n",
        "print(htmlBlock.prettify())\n",
        "\n",
        "# value = htmlBlock.text if htmlBlock is not None else None\n",
        "# print(value)\n",
        "\n",
        "# NOT POSSIBLE, DYNAMICALLY CALCULATED AFTER PAGE LOAD!!!!"
      ],
      "metadata": {
        "colab": {
          "base_uri": "https://localhost:8080/"
        },
        "id": "dIhdpRgBAUU5",
        "outputId": "46217c2a-28a5-42a0-dec6-98af9ec46201"
      },
      "execution_count": 16,
      "outputs": [
        {
          "output_type": "stream",
          "name": "stdout",
          "text": [
            "<div class=\"jsx-1785027547 statbox \">\n",
            " <div class=\"jsx-3420801268\">\n",
            "  <div class=\"jsx-3420801268 typography-body-regular-m text-secondary \">\n",
            "   High\n",
            "  </div>\n",
            "  <div class=\"jsx-3420801268 value typography-body-medium-l text-primary \">\n",
            "   —\n",
            "  </div>\n",
            " </div>\n",
            " <div class=\"jsx-3420801268\">\n",
            "  <div class=\"jsx-3420801268 typography-body-regular-m text-secondary \">\n",
            "   Low\n",
            "  </div>\n",
            "  <div class=\"jsx-3420801268 value typography-body-medium-l text-primary \">\n",
            "   —\n",
            "  </div>\n",
            " </div>\n",
            " <div class=\"jsx-3420801268\">\n",
            "  <div class=\"jsx-3420801268 typography-body-regular-m text-secondary \">\n",
            "   Returns\n",
            "  </div>\n",
            "  <div class=\"jsx-3420801268 value typography-body-medium-l text-primary \">\n",
            "   —\n",
            "  </div>\n",
            " </div>\n",
            "</div>\n"
          ]
        }
      ]
    },
    {
      "cell_type": "code",
      "source": [
        ""
      ],
      "metadata": {
        "id": "nssx6D3kIQ2L"
      },
      "execution_count": 16,
      "outputs": []
    },
    {
      "cell_type": "code",
      "source": [
        "# we can get the full price data from this url:\n",
        "\n",
        "# for day chart:\n",
        "# \"https://api.tickertape.in/stocks/charts/intra/TCS\"\n",
        "\n",
        "# for other durations:\n",
        "# \"https://api.tickertape.in/stocks/charts/inter/{Ticker}?duration={Duration}\"\n",
        "# dutations: \"1w\" for week, \"1mo\" for month, \"1y\" for 1year, \"5y\" for 5year, \"max\" for full\n",
        "\n",
        "# for SIP:\n",
        "# https://api.tickertape.in/stocks/charts/sip/TCS\n",
        "\n",
        "# Example: \"https://api.tickertape.in/stocks/charts/inter/TCS?duration=1w\"\n"
      ],
      "metadata": {
        "id": "X_5C7HJoEndk"
      },
      "execution_count": 17,
      "outputs": []
    },
    {
      "cell_type": "code",
      "source": [
        "chartData = requests.get(\"https://api.tickertape.in/stocks/charts/intra/TCS\")\n",
        "chartData.text"
      ],
      "metadata": {
        "colab": {
          "base_uri": "https://localhost:8080/",
          "height": 140
        },
        "id": "o7dGoc88Enf5",
        "outputId": "c596b1dd-1be6-443e-e281-6457477df9d7"
      },
      "execution_count": 18,
      "outputs": [
        {
          "output_type": "execute_result",
          "data": {
            "text/plain": [
              "'{\"success\":true,\"data\":[{\"sid\":\"TCS\",\"points\":[{\"ts\":\"2022-04-13T03:46:00.000Z\",\"lp\":3688.35,\"v\":76141},{\"ts\":\"2022-04-13T03:47:00.000Z\",\"lp\":3692.8,\"v\":94216},{\"ts\":\"2022-04-13T03:48:00.000Z\",\"lp\":3692,\"v\":107065},{\"ts\":\"2022-04-13T03:49:00.000Z\",\"lp\":3688.75,\"v\":119125},{\"ts\":\"2022-04-13T03:50:00.000Z\",\"lp\":3693.45,\"v\":127963},{\"ts\":\"2022-04-13T03:51:00.000Z\",\"lp\":3693,\"v\":139217},{\"ts\":\"2022-04-13T03:52:00.000Z\",\"lp\":3695.3,\"v\":146995},{\"ts\":\"2022-04-13T03:53:00.000Z\",\"lp\":3691.85,\"v\":153774},{\"ts\":\"2022-04-13T03:54:00.000Z\",\"lp\":3689.45,\"v\":163929},{\"ts\":\"2022-04-13T03:55:00.000Z\",\"lp\":3691.9,\"v\":168616},{\"ts\":\"2022-04-13T03:56:00.000Z\",\"lp\":3693.1,\"v\":174198},{\"ts\":\"2022-04-13T03:57:00.000Z\",\"lp\":3695.25,\"v\":177894},{\"ts\":\"2022-04-13T03:58:00.000Z\",\"lp\":3694.4,\"v\":182626},{\"ts\":\"2022-04-13T03:59:00.000Z\",\"lp\":3694.75,\"v\":185717},{\"ts\":\"2022-04-13T04:00:00.000Z\",\"lp\":3694.75,\"v\":188090},{\"ts\":\"2022-04-13T04:01:00.000Z\",\"lp\":3698.75,\"v\":194958},{\"ts\":\"2022-04-13T04:02:00.000Z\",\"lp\":3696.8,\"v\":200453},{\"ts\":\"2022-04-13T04:03:00.000Z\",\"lp\":3697.2,\"v\":204132},{\"ts\":\"2022-04-13T04:04:00.000Z\",\"lp\":3692,\"v\":210332},{\"ts\":\"2022-04-13T04:05:00.000Z\",\"lp\":3696.55,\"v\":216445},{\"ts\":\"2022-04-13T04:06:00.000Z\",\"lp\":3697.7,\"v\":218801},{\"ts\":\"2022-04-13T04:07:00.000Z\",\"lp\":3695.65,\"v\":222395},{\"ts\":\"2022-04-13T04:08:00.000Z\",\"lp\":3696.7,\"v\":224812},{\"ts\":\"2022-04-13T04:09:00.000Z\",\"lp\":3692.5,\"v\":227840},{\"ts\":\"2022-04-13T04:10:00.000Z\",\"lp\":3692,\"v\":233943},{\"ts\":\"2022-04-13T04:11:00.000Z\",\"lp\":3691.45,\"v\":238085},{\"ts\":\"2022-04-13T04:12:00.000Z\",\"lp\":3689.9,\"v\":249216},{\"ts\":\"2022-04-13T04:13:00.000Z\",\"lp\":3692,\"v\":254862},{\"ts\":\"2022-04-13T04:14:00.000Z\",\"lp\":3691,\"v\":256694},{\"ts\":\"2022-04-13T04:15:00.000Z\",\"lp\":3688.6,\"v\":259482},{\"ts\":\"2022-04-13T04:16:00.000Z\",\"lp\":3681,\"v\":271065},{\"ts\":\"2022-04-13T04:17:00.000Z\",\"lp\":3680,\"v\":288955},{\"ts\":\"2022-04-13T04:18:00.000Z\",\"lp\":3682.55,\"v\":294234},{\"ts\":\"2022-04-13T04:19:00.000Z\",\"lp\":3685,\"v\":298827},{\"ts\":\"2022-04-13T04:20:00.000Z\",\"lp\":3680.4,\"v\":302878},{\"ts\":\"2022-04-13T04:21:00.000Z\",\"lp\":3682.75,\"v\":307146},{\"ts\":\"2022-04-13T04:22:00.000Z\",\"lp\":3678,\"v\":328064},{\"ts\":\"2022-04-13T04:23:00.000Z\",\"lp\":3675.2,\"v\":335652},{\"ts\":\"2022-04-13T04:24:00.000Z\",\"lp\":3673.4,\"v\":341459},{\"ts\":\"2022-04-13T04:25:00.000Z\",\"lp\":3672,\"v\":351657},{\"ts\":\"2022-04-13T04:26:00.000Z\",\"lp\":3672.2,\"v\":364075},{\"ts\":\"2022-04-13T04:27:00.000Z\",\"lp\":3667.25,\"v\":374872},{\"ts\":\"2022-04-13T04:28:00.000Z\",\"lp\":3664.8,\"v\":387185},{\"ts\":\"2022-04-13T04:29:00.000Z\",\"lp\":3666.95,\"v\":393236},{\"ts\":\"2022-04-13T04:30:00.000Z\",\"lp\":3666.4,\"v\":400339},{\"ts\":\"2022-04-13T04:31:00.000Z\",\"lp\":3670.8,\"v\":416572},{\"ts\":\"2022-04-13T04:32:00.000Z\",\"lp\":3668.35,\"v\":419683},{\"ts\":\"2022-04-13T04:33:00.000Z\",\"lp\":3669.35,\"v\":422609},{\"ts\":\"2022-04-13T04:34:00.000Z\",\"lp\":3672,\"v\":426005},{\"ts\":\"2022-04-13T04:35:00.000Z\",\"lp\":3670.5,\"v\":433115},{\"ts\":\"2022-04-13T04:36:00.000Z\",\"lp\":3669.95,\"v\":436141},{\"ts\":\"2022-04-13T04:37:00.000Z\",\"lp\":3671,\"v\":438432},{\"ts\":\"2022-04-13T04:38:00.000Z\",\"lp\":3669.7,\"v\":443742},{\"ts\":\"2022-04-13T04:39:00.000Z\",\"lp\":3665.5,\"v\":446473},{\"ts\":\"2022-04-13T04:40:00.000Z\",\"lp\":3664.3,\"v\":449926},{\"ts\":\"2022-04-13T04:41:00.000Z\",\"lp\":3663.3,\"v\":458185},{\"ts\":\"2022-04-13T04:42:00.000Z\",\"lp\":3667,\"v\":462400},{\"ts\":\"2022-04-13T04:43:00.000Z\",\"lp\":3665,\"v\":474016},{\"ts\":\"2022-04-13T04:44:00.000Z\",\"lp\":3664.4,\"v\":480931},{\"ts\":\"2022-04-13T04:45:00.000Z\",\"lp\":3662.05,\"v\":489629},{\"ts\":\"2022-04-13T04:46:00.000Z\",\"lp\":3665.2,\"v\":495681},{\"ts\":\"2022-04-13T04:47:00.000Z\",\"lp\":3663,\"v\":498800},{\"ts\":\"2022-04-13T04:48:00.000Z\",\"lp\":3664.5,\"v\":500539},{\"ts\":\"2022-04-13T04:49:00.000Z\",\"lp\":3663.75,\"v\":502502},{\"ts\":\"2022-04-13T04:50:00.000Z\",\"lp\":3663.75,\"v\":503994},{\"ts\":\"2022-04-13T04:51:00.000Z\",\"lp\":3665,\"v\":504940},{\"ts\":\"2022-04-13T04:52:00.000Z\",\"lp\":3666.25,\"v\":506989},{\"ts\":\"2022-04-13T04:53:00.000Z\",\"lp\":3669,\"v\":509084},{\"ts\":\"2022-04-13T04:54:00.000Z\",\"lp\":3667.1,\"v\":511548},{\"ts\":\"2022-04-13T04:55:00.000Z\",\"lp\":3667.6,\"v\":512908},{\"ts\":\"2022-04-13T04:56:00.000Z\",\"lp\":3664.3,\"v\":516970},{\"ts\":\"2022-04-13T04:57:00.000Z\",\"lp\":3662.2,\"v\":521781},{\"ts\":\"2022-04-13T04:58:00.000Z\",\"lp\":3664.9,\"v\":526501},{\"ts\":\"2022-04-13T04:59:00.000Z\",\"lp\":3662.85,\"v\":528985},{\"ts\":\"2022-04-13T05:00:00.000Z\",\"lp\":3664.4,\"v\":531056},{\"ts\":\"2022-04-13T05:01:00.000Z\",\"lp\":3663.9,\"v\":532339},{\"ts\":\"2022-04-13T05:02:00.000Z\",\"lp\":3666.9,\"v\":533996},{\"ts\":\"2022-04-13T05:03:00.000Z\",\"lp\":3666.9,\"v\":535606},{\"ts\":\"2022-04-13T05:04:00.000Z\",\"lp\":3667.55,\"v\":537122},{\"ts\":\"2022-04-13T05:05:00.000Z\",\"lp\":3668.1,\"v\":538318},{\"ts\":\"2022-04-13T05:06:00.000Z\",\"lp\":3668.8,\"v\":539297},{\"ts\":\"2022-04-13T05:07:00.000Z\",\"lp\":3669.8,\"v\":540758},{\"ts\":\"2022-04-13T05:08:00.000Z\",\"lp\":3670.05,\"v\":543701},{\"ts\":\"2022-04-13T05:09:00.000Z\",\"lp\":3666.95,\"v\":545917},{\"ts\":\"2022-04-13T05:10:00.000Z\",\"lp\":3671,\"v\":552446},{\"ts\":\"2022-04-13T05:11:00.000Z\",\"lp\":3667.7,\"v\":553866},{\"ts\":\"2022-04-13T05:12:00.000Z\",\"lp\":3668.15,\"v\":554648},{\"ts\":\"2022-04-13T05:13:00.000Z\",\"lp\":3667.05,\"v\":555876},{\"ts\":\"2022-04-13T05:14:00.000Z\",\"lp\":3667.75,\"v\":556962},{\"ts\":\"2022-04-13T05:15:00.000Z\",\"lp\":3666.95,\"v\":558513},{\"ts\":\"2022-04-13T05:16:00.000Z\",\"lp\":3668,\"v\":559668},{\"ts\":\"2022-04-13T05:17:00.000Z\",\"lp\":3669,\"v\":560393},{\"ts\":\"2022-04-13T05:18:00.000Z\",\"lp\":3668.05,\"v\":561643},{\"ts\":\"2022-04-13T05:19:00.000Z\",\"lp\":3667.5,\"v\":563194},{\"ts\":\"2022-04-13T05:20:00.000Z\",\"lp\":3669.5,\"v\":564112},{\"ts\":\"2022-04-13T05:21:00.000Z\",\"lp\":3669.5,\"v\":565308},{\"ts\":\"2022-04-13T05:22:00.000Z\",\"lp\":3670,\"v\":566452},{\"ts\":\"2022-04-13T05:23:00.000Z\",\"lp\":3669,\"v\":567078},{\"ts\":\"2022-04-13T05:24:00.000Z\",\"lp\":3671,\"v\":568055},{\"ts\":\"2022-04-13T05:25:00.000Z\",\"lp\":3669.95,\"v\":569572},{\"ts\":\"2022-04-13T05:26:00.000Z\",\"lp\":3669.5,\"v\":570318},{\"ts\":\"2022-04-13T05:27:00.000Z\",\"lp\":3668.8,\"v\":571388},{\"ts\":\"2022-04-13T05:28:00.000Z\",\"lp\":3669.75,\"v\":572210},{\"ts\":\"2022-04-13T05:29:00.000Z\",\"lp\":3672.4,\"v\":574382},{\"ts\":\"2022-04-13T05:30:00.000Z\",\"lp\":3671.35,\"v\":575265},{\"ts\":\"2022-04-13T05:31:00.000Z\",\"lp\":3670.55,\"v\":576817},{\"ts\":\"2022-04-13T05:32:00.000Z\",\"lp\":3671.15,\"v\":578599},{\"ts\":\"2022-04-13T05:33:00.000Z\",\"lp\":3671,\"v\":580226},{\"ts\":\"2022-04-13T05:34:00.000Z\",\"lp\":3672.8,\"v\":581269},{\"ts\":\"2022-04-13T05:35:00.000Z\",\"lp\":3673.8,\"v\":585789},{\"ts\":\"2022-04-13T05:36:00.000Z\",\"lp\":3675.85,\"v\":590920},{\"ts\":\"2022-04-13T05:37:00.000Z\",\"lp\":3674.5,\"v\":592973},{\"ts\":\"2022-04-13T05:38:00.000Z\",\"lp\":3674,\"v\":594293},{\"ts\":\"2022-04-13T05:39:00.000Z\",\"lp\":3673,\"v\":596983},{\"ts\":\"2022-04-13T05:40:00.000Z\",\"lp\":3674,\"v\":602753},{\"ts\":\"2022-04-13T05:41:00.000Z\",\"lp\":3674.1,\"v\":603691},{\"ts\":\"2022-04-13T05:42:00.000Z\",\"lp\":3674.8,\"v\":606269},{\"ts\":\"2022-04-13T05:43:00.000Z\",\"lp\":3674.4,\"v\":607836},{\"ts\":\"2022-04-13T05:44:00.000Z\",\"lp\":3673.45,\"v\":609761},{\"ts\":\"2022-04-13T05:45:00.000Z\",\"lp\":3674,\"v\":610834},{\"ts\":\"2022-04-13T05:46:00.000Z\",\"lp\":3674.7,\"v\":611733},{\"ts\":\"2022-04-13T05:47:00.000Z\",\"lp\":3675.15,\"v\":616255},{\"ts\":\"2022-04-13T05:48:00.000Z\",\"lp\":3675.1,\"v\":618114},{\"ts\":\"2022-04-13T05:49:00.000Z\",\"lp\":3676.95,\"v\":619944},{\"ts\":\"2022-04-13T05:50:00.000Z\",\"lp\":3675.8,\"v\":621067},{\"ts\":\"2022-04-13T05:51:00.000Z\",\"lp\":3678.9,\"v\":625343},{\"ts\":\"2022-04-13T05:52:00.000Z\",\"lp\":3678.5,\"v\":628823},{\"ts\":\"2022-04-13T05:53:00.000Z\",\"lp\":3677,\"v\":629503},{\"ts\":\"2022-04-13T05:54:00.000Z\",\"lp\":3676.5,\"v\":630258},{\"ts\":\"2022-04-13T05:55:00.000Z\",\"lp\":3676.25,\"v\":631470},{\"ts\":\"2022-04-13T05:56:00.000Z\",\"lp\":3677,\"v\":635087},{\"ts\":\"2022-04-13T05:57:00.000Z\",\"lp\":3678.8,\"v\":635836},{\"ts\":\"2022-04-13T05:58:00.000Z\",\"lp\":3683,\"v\":644098},{\"ts\":\"2022-04-13T05:59:00.000Z\",\"lp\":3680.4,\"v\":647911},{\"ts\":\"2022-04-13T06:00:00.000Z\",\"lp\":3682,\"v\":650051},{\"ts\":\"2022-04-13T06:01:00.000Z\",\"lp\":3683.1,\"v\":651842},{\"ts\":\"2022-04-13T06:02:00.000Z\",\"lp\":3684.05,\"v\":654667},{\"ts\":\"2022-04-13T06:03:00.000Z\",\"lp\":3685.5,\"v\":663285},{\"ts\":\"2022-04-13T06:04:00.000Z\",\"lp\":3684.5,\"v\":667922},{\"ts\":\"2022-04-13T06:05:00.000Z\",\"lp\":3680,\"v\":694326},{\"ts\":\"2022-04-13T06:06:00.000Z\",\"lp\":3677.75,\"v\":700481},{\"ts\":\"2022-04-13T06:07:00.000Z\",\"lp\":3677.95,\"v\":710839},{\"ts\":\"2022-04-13T06:08:00.000Z\",\"lp\":3676.35,\"v\":721765},{\"ts\":\"2022-04-13T06:09:00.000Z\",\"lp\":3675.8,\"v\":743200},{\"ts\":\"2022-04-13T06:10:00.000Z\",\"lp\":3675.3,\"v\":754844},{\"ts\":\"2022-04-13T06:11:00.000Z\",\"lp\":3675.5,\"v\":760417},{\"ts\":\"2022-04-13T06:12:00.000Z\",\"lp\":3678,\"v\":768793},{\"ts\":\"2022-04-13T06:13:00.000Z\",\"lp\":3676.4,\"v\":779426},{\"ts\":\"2022-04-13T06:14:00.000Z\",\"lp\":3675,\"v\":782374},{\"ts\":\"2022-04-13T06:15:00.000Z\",\"lp\":3678,\"v\":796457},{\"ts\":\"2022-04-13T06:16:00.000Z\",\"lp\":3679.8,\"v\":798681},{\"ts\":\"2022-04-13T06:17:00.000Z\",\"lp\":3680.6,\"v\":800037},{\"ts\":\"2022-04-13T06:18:00.000Z\",\"lp\":3679.35,\"v\":801493},{\"ts\":\"2022-04-13T06:19:00.000Z\",\"lp\":3680,\"v\":803804},{\"ts\":\"2022-04-13T06:20:00.000Z\",\"lp\":3679.95,\"v\":805858},{\"ts\":\"2022-04-13T06:21:00.000Z\",\"lp\":3682.6,\"v\":808565},{\"ts\":\"2022-04-13T06:22:00.000Z\",\"lp\":3682.45,\"v\":809478},{\"ts\":\"2022-04-13T06:23:00.000Z\",\"lp\":3682,\"v\":810701},{\"ts\":\"2022-04-13T06:24:00.000Z\",\"lp\":3681.75,\"v\":811045},{\"ts\":\"2022-04-13T06:25:00.000Z\",\"lp\":3681.95,\"v\":812390},{\"ts\":\"2022-04-13T06:26:00.000Z\",\"lp\":3681,\"v\":815204},{\"ts\":\"2022-04-13T06:27:00.000Z\",\"lp\":3681.9,\"v\":816405},{\"ts\":\"2022-04-13T06:28:00.000Z\",\"lp\":3683.95,\"v\":819446},{\"ts\":\"2022-04-13T06:29:00.000Z\",\"lp\":3684.7,\"v\":822765},{\"ts\":\"2022-04-13T06:30:00.000Z\",\"lp\":3684,\"v\":824821},{\"ts\":\"2022-04-13T06:31:00.000Z\",\"lp\":3682.95,\"v\":826376},{\"ts\":\"2022-04-13T06:32:00.000Z\",\"lp\":3681.9,\"v\":827405},{\"ts\":\"2022-04-13T06:33:00.000Z\",\"lp\":3682,\"v\":829066},{\"ts\":\"2022-04-13T06:34:00.000Z\",\"lp\":3680.85,\"v\":830947},{\"ts\":\"2022-04-13T06:35:00.000Z\",\"lp\":3680,\"v\":831475},{\"ts\":\"2022-04-13T06:36:00.000Z\",\"lp\":3680.9,\"v\":833244},{\"ts\":\"2022-04-13T06:37:00.000Z\",\"lp\":3682.5,\"v\":835189},{\"ts\":\"2022-04-13T06:38:00.000Z\",\"lp\":3681.75,\"v\":836311},{\"ts\":\"2022-04-13T06:39:00.000Z\",\"lp\":3683.4,\"v\":838900},{\"ts\":\"2022-04-13T06:40:00.000Z\",\"lp\":3683.3,\"v\":840030},{\"ts\":\"2022-04-13T06:41:00.000Z\",\"lp\":3683.4,\"v\":842177},{\"ts\":\"2022-04-13T06:42:00.000Z\",\"lp\":3680.55,\"v\":844478},{\"ts\":\"2022-04-13T06:43:00.000Z\",\"lp\":3680.5,\"v\":845014},{\"ts\":\"2022-04-13T06:44:00.000Z\",\"lp\":3678.05,\"v\":850113},{\"ts\":\"2022-04-13T06:45:00.000Z\",\"lp\":3678.3,\"v\":852030},{\"ts\":\"2022-04-13T06:46:00.000Z\",\"lp\":3677.65,\"v\":854863},{\"ts\":\"2022-04-13T06:47:00.000Z\",\"lp\":3677,\"v\":864939},{\"ts\":\"2022-04-13T06:48:00.000Z\",\"lp\":3677.45,\"v\":875262},{\"ts\":\"2022-04-13T06:49:00.000Z\",\"lp\":3677,\"v\":876974},{\"ts\":\"2022-04-13T06:50:00.000Z\",\"lp\":3677.35,\"v\":877455},{\"ts\":\"2022-04-13T06:51:00.000Z\",\"lp\":3677.25,\"v\":880707},{\"ts\":\"2022-04-13T06:52:00.000Z\",\"lp\":3678.6,\"v\":882377},{\"ts\":\"2022-04-13T06:53:00.000Z\",\"lp\":3678.9,\"v\":883397},{\"ts\":\"2022-04-13T06:54:00.000Z\",\"lp\":3679.6,\"v\":884352},{\"ts\":\"2022-04-13T06:55:00.000Z\",\"lp\":3680.15,\"v\":886022},{\"ts\":\"2022-04-13T06:56:00.000Z\",\"lp\":3680.1,\"v\":886612},{\"ts\":\"2022-04-13T06:57:00.000Z\",\"lp\":3678.6,\"v\":887463},{\"ts\":\"2022-04-13T06:58:00.000Z\",\"lp\":3680,\"v\":889255},{\"ts\":\"2022-04-13T06:59:00.000Z\",\"lp\":3680,\"v\":891918},{\"ts\":\"2022-04-13T07:00:00.000Z\",\"lp\":3677.5,\"v\":899186},{\"ts\":\"2022-04-13T07:01:00.000Z\",\"lp\":3676.9,\"v\":900804},{\"ts\":\"2022-04-13T07:02:00.000Z\",\"lp\":3677.7,\"v\":901903},{\"ts\":\"2022-04-13T07:03:00.000Z\",\"lp\":3679.8,\"v\":903487},{\"ts\":\"2022-04-13T07:04:00.000Z\",\"lp\":3677.9,\"v\":904873},{\"ts\":\"2022-04-13T07:05:00.000Z\",\"lp\":3677.05,\"v\":906501},{\"ts\":\"2022-04-13T07:06:00.000Z\",\"lp\":3678.65,\"v\":907158},{\"ts\":\"2022-04-13T07:07:00.000Z\",\"lp\":3675.75,\"v\":908866},{\"ts\":\"2022-04-13T07:08:00.000Z\",\"lp\":3676.6,\"v\":912671},{\"ts\":\"2022-04-13T07:09:00.000Z\",\"lp\":3676.45,\"v\":914448},{\"ts\":\"2022-04-13T07:10:00.000Z\",\"lp\":3675.55,\"v\":915515},{\"ts\":\"2022-04-13T07:11:00.000Z\",\"lp\":3676.5,\"v\":916073},{\"ts\":\"2022-04-13T07:12:00.000Z\",\"lp\":3675.2,\"v\":919384},{\"ts\":\"2022-04-13T07:13:00.000Z\",\"lp\":3675.2,\"v\":920047},{\"ts\":\"2022-04-13T07:14:00.000Z\",\"lp\":3675.6,\"v\":920575},{\"ts\":\"2022-04-13T07:15:00.000Z\",\"lp\":3673.65,\"v\":923440},{\"ts\":\"2022-04-13T07:16:00.000Z\",\"lp\":3673.55,\"v\":926251},{\"ts\":\"2022-04-13T07:17:00.000Z\",\"lp\":3672.7,\"v\":927992},{\"ts\":\"2022-04-13T07:18:00.000Z\",\"lp\":3672.45,\"v\":929156},{\"ts\":\"2022-04-13T07:19:00.000Z\",\"lp\":3671.9,\"v\":930108},{\"ts\":\"2022-04-13T07:20:00.000Z\",\"lp\":3667,\"v\":939738},{\"ts\":\"2022-04-13T07:21:00.000Z\",\"lp\":3668.05,\"v\":941007},{\"ts\":\"2022-04-13T07:22:00.000Z\",\"lp\":3669,\"v\":941728},{\"ts\":\"2022-04-13T07:23:00.000Z\",\"lp\":3668,\"v\":945539},{\"ts\":\"2022-04-13T07:24:00.000Z\",\"lp\":3667.7,\"v\":946779},{\"ts\":\"2022-04-13T07:25:00.000Z\",\"lp\":3667.75,\"v\":947616},{\"ts\":\"2022-04-13T07:26:00.000Z\",\"lp\":3669.45,\"v\":949745},{\"ts\":\"2022-04-13T07:27:00.000Z\",\"lp\":3669.5,\"v\":950680},{\"ts\":\"2022-04-13T07:28:00.000Z\",\"lp\":3668.25,\"v\":951296},{\"ts\":\"2022-04-13T07:29:00.000Z\",\"lp\":3667.55,\"v\":952960},{\"ts\":\"2022-04-13T07:30:00.000Z\",\"lp\":3670.55,\"v\":954873},{\"ts\":\"2022-04-13T07:31:00.000Z\",\"lp\":3669.85,\"v\":960745},{\"ts\":\"2022-04-13T07:32:00.000Z\",\"lp\":3666.35,\"v\":967574},{\"ts\":\"2022-04-13T07:33:00.000Z\",\"lp\":3664.2,\"v\":973772},{\"ts\":\"2022-04-13T07:34:00.000Z\",\"lp\":3665.05,\"v\":974819},{\"ts\":\"2022-04-13T07:35:00.000Z\",\"lp\":3665.75,\"v\":978652},{\"ts\":\"2022-04-13T07:36:00.000Z\",\"lp\":3666.55,\"v\":980587},{\"ts\":\"2022-04-13T07:37:00.000Z\",\"lp\":3667.45,\"v\":982561},{\"ts\":\"2022-04-13T07:38:00.000Z\",\"lp\":3666.05,\"v\":983808},{\"ts\":\"2022-04-13T07:39:00.000Z\",\"lp\":3667.7,\"v\":985086},{\"ts\":\"2022-04-13T07:40:00.000Z\",\"lp\":3669,\"v\":985961},{\"ts\":\"2022-04-13T07:41:00.000Z\",\"lp\":3670.7,\"v\":988980},{\"ts\":\"2022-04-13T07:42:00.000Z\",\"lp\":3671.5,\"v\":990120},{\"ts\":\"2022-04-13T07:43:00.000Z\",\"lp\":3671.55,\"v\":990988},{\"ts\":\"2022-04-13T07:44:00.000Z\",\"lp\":3671.8,\"v\":997154},{\"ts\":\"2022-04-13T07:45:00.000Z\",\"lp\":3675.2,\"v\":1007002},{\"ts\":\"2022-04-13T07:46:00.000Z\",\"lp\":3674,\"v\":1008940},{\"ts\":\"2022-04-13T07:47:00.000Z\",\"lp\":3674.2,\"v\":1010497},{\"ts\":\"2022-04-13T07:48:00.000Z\",\"lp\":3673,\"v\":1011508},{\"ts\":\"2022-04-13T07:49:00.000Z\",\"lp\":3673,\"v\":1013170},{\"ts\":\"2022-04-13T07:50:00.000Z\",\"lp\":3672.8,\"v\":1014229},{\"ts\":\"2022-04-13T07:51:00.000Z\",\"lp\":3674.8,\"v\":1016189},{\"ts\":\"2022-04-13T07:52:00.000Z\",\"lp\":3672.05,\"v\":1017340},{\"ts\":\"2022-04-13T07:53:00.000Z\",\"lp\":3672.45,\"v\":1018477},{\"ts\":\"2022-04-13T07:54:00.000Z\",\"lp\":3672.45,\"v\":1019117},{\"ts\":\"2022-04-13T07:55:00.000Z\",\"lp\":3670.5,\"v\":1021220},{\"ts\":\"2022-04-13T07:56:00.000Z\",\"lp\":3668.85,\"v\":1023356},{\"ts\":\"2022-04-13T07:57:00.000Z\",\"lp\":3670,\"v\":1025913},{\"ts\":\"2022-04-13T07:58:00.000Z\",\"lp\":3667.15,\"v\":1028252},{\"ts\":\"2022-04-13T07:59:00.000Z\",\"lp\":3668,\"v\":1030544},{\"ts\":\"2022-04-13T08:00:00.000Z\",\"lp\":3667.2,\"v\":1031267},{\"ts\":\"2022-04-13T08:01:00.000Z\",\"lp\":3667.45,\"v\":1032321},{\"ts\":\"2022-04-13T08:02:00.000Z\",\"lp\":3669,\"v\":1033322},{\"ts\":\"2022-04-13T08:03:00.000Z\",\"lp\":3669.3,\"v\":1034074},{\"ts\":\"2022-04-13T08:04:00.000Z\",\"lp\":3668.9,\"v\":1034845},{\"ts\":\"2022-04-13T08:05:00.000Z\",\"lp\":3669.5,\"v\":1035729},{\"ts\":\"2022-04-13T08:06:00.000Z\",\"lp\":3669.05,\"v\":1036822},{\"ts\":\"2022-04-13T08:07:00.000Z\",\"lp\":3669.45,\"v\":1039788},{\"ts\":\"2022-04-13T08:08:00.000Z\",\"lp\":3671.05,\"v\":1041500},{\"ts\":\"2022-04-13T08:09:00.000Z\",\"lp\":3670.05,\"v\":1043035},{\"ts\":\"2022-04-13T08:10:00.000Z\",\"lp\":3671.05,\"v\":1047333},{\"ts\":\"2022-04-13T08:11:00.000Z\",\"lp\":3670.05,\"v\":1051305},{\"ts\":\"2022-04-13T08:12:00.000Z\",\"lp\":3669.6,\"v\":1053858},{\"ts\":\"2022-04-13T08:13:00.000Z\",\"lp\":3669.3,\"v\":1055517},{\"ts\":\"2022-04-13T08:14:00.000Z\",\"lp\":3669.95,\"v\":1059595},{\"ts\":\"2022-04-13T08:15:00.000Z\",\"lp\":3665.3,\"v\":1061022},{\"ts\":\"2022-04-13T08:16:00.000Z\",\"lp\":3665.65,\"v\":1062941},{\"ts\":\"2022-04-13T08:17:00.000Z\",\"lp\":3666.6,\"v\":1066228},{\"ts\":\"2022-04-13T08:18:00.000Z\",\"lp\":3665.4,\"v\":1067368},{\"ts\":\"2022-04-13T08:19:00.000Z\",\"lp\":3665.5,\"v\":1068510},{\"ts\":\"2022-04-13T08:20:00.000Z\",\"lp\":3665.45,\"v\":1072828},{\"ts\":\"2022-04-13T08:21:00.000Z\",\"lp\":3666.1,\"v\":1075528},{\"ts\":\"2022-04-13T08:22:00.000Z\",\"lp\":3666.45,\"v\":1077074},{\"ts\":\"2022-04-13T08:23:00.000Z\",\"lp\":3668,\"v\":1079937},{\"ts\":\"2022-04-13T08:24:00.000Z\",\"lp\":3669.55,\"v\":1085475},{\"ts\":\"2022-04-13T08:25:00.000Z\",\"lp\":3668.9,\"v\":1086821},{\"ts\":\"2022-04-13T08:26:00.000Z\",\"lp\":3667.55,\"v\":1088120},{\"ts\":\"2022-04-13T08:27:00.000Z\",\"lp\":3668.5,\"v\":1088880},{\"ts\":\"2022-04-13T08:28:00.000Z\",\"lp\":3668.2,\"v\":1089624},{\"ts\":\"2022-04-13T08:29:00.000Z\",\"lp\":3668.8,\"v\":1090699},{\"ts\":\"2022-04-13T08:30:00.000Z\",\"lp\":3667.95,\"v\":1091364},{\"ts\":\"2022-04-13T08:31:00.000Z\",\"lp\":3668.85,\"v\":1092730},{\"ts\":\"2022-04-13T08:32:00.000Z\",\"lp\":3668.4,\"v\":1093509},{\"ts\":\"2022-04-13T08:33:00.000Z\",\"lp\":3669.4,\"v\":1100269},{\"ts\":\"2022-04-13T08:34:00.000Z\",\"lp\":3668.65,\"v\":1100933},{\"ts\":\"2022-04-13T08:35:00.000Z\",\"lp\":3668.1,\"v\":1101534},{\"ts\":\"2022-04-13T08:36:00.000Z\",\"lp\":3667.15,\"v\":1102972},{\"ts\":\"2022-04-13T08:37:00.000Z\",\"lp\":3667.55,\"v\":1103629},{\"ts\":\"2022-04-13T08:38:00.000Z\",\"lp\":3667.15,\"v\":1104468},{\"ts\":\"2022-04-13T08:39:00.000Z\",\"lp\":3667,\"v\":1105650},{\"ts\":\"2022-04-13T08:40:00.000Z\",\"lp\":3666.55,\"v\":1106878},{\"ts\":\"2022-04-13T08:41:00.000Z\",\"lp\":3667,\"v\":1108742},{\"ts\":\"2022-04-13T08:42:00.000Z\",\"lp\":3667.7,\"v\":1109632},{\"ts\":\"2022-04-13T08:43:00.000Z\",\"lp\":3668,\"v\":1110744},{\"ts\":\"2022-04-13T08:44:00.000Z\",\"lp\":3665.65,\"v\":1112407},{\"ts\":\"2022-04-13T08:45:00.000Z\",\"lp\":3665.6,\"v\":1113600},{\"ts\":\"2022-04-13T08:46:00.000Z\",\"lp\":3666.95,\"v\":1115660},{\"ts\":\"2022-04-13T08:47:00.000Z\",\"lp\":3667.75,\"v\":1118301},{\"ts\":\"2022-04-13T08:48:00.000Z\",\"lp\":3666.75,\"v\":1120080},{\"ts\":\"2022-04-13T08:49:00.000Z\",\"lp\":3661.9,\"v\":1132136},{\"ts\":\"2022-04-13T08:50:00.000Z\",\"lp\":3660.4,\"v\":1146368},{\"ts\":\"2022-04-13T08:51:00.000Z\",\"lp\":3662.4,\"v\":1150712},{\"ts\":\"2022-04-13T08:52:00.000Z\",\"lp\":3660.65,\"v\":1152749},{\"ts\":\"2022-04-13T08:53:00.000Z\",\"lp\":3661,\"v\":1154506},{\"ts\":\"2022-04-13T08:54:00.000Z\",\"lp\":3660,\"v\":1160327},{\"ts\":\"2022-04-13T08:55:00.000Z\",\"lp\":3659.35,\"v\":1180132},{\"ts\":\"2022-04-13T08:56:00.000Z\",\"lp\":3658.75,\"v\":1186850},{\"ts\":\"2022-04-13T08:57:00.000Z\",\"lp\":3661.05,\"v\":1191426},{\"ts\":\"2022-04-13T08:58:00.000Z\",\"lp\":3662,\"v\":1195470},{\"ts\":\"2022-04-13T08:59:00.000Z\",\"lp\":3663.85,\"v\":1200177},{\"ts\":\"2022-04-13T09:00:00.000Z\",\"lp\":3663.95,\"v\":1201716},{\"ts\":\"2022-04-13T09:01:00.000Z\",\"lp\":3663.9,\"v\":1203903},{\"ts\":\"2022-04-13T09:02:00.000Z\",\"lp\":3664,\"v\":1205134},{\"ts\":\"2022-04-13T09:03:00.000Z\",\"lp\":3661.6,\"v\":1211029},{\"ts\":\"2022-04-13T09:04:00.000Z\",\"lp\":3661.9,\"v\":1213246},{\"ts\":\"2022-04-13T09:05:00.000Z\",\"lp\":3661,\"v\":1214873},{\"ts\":\"2022-04-13T09:06:00.000Z\",\"lp\":3661.85,\"v\":1217751},{\"ts\":\"2022-04-13T09:07:00.000Z\",\"lp\":3660,\"v\":1223542},{\"ts\":\"2022-04-13T09:08:00.000Z\",\"lp\":3660.05,\"v\":1226642},{\"ts\":\"2022-04-13T09:09:00.000Z\",\"lp\":3661.6,\"v\":1231134},{\"ts\":\"2022-04-13T09:10:00.000Z\",\"lp\":3665,\"v\":1237907},{\"ts\":\"2022-04-13T09:11:00.000Z\",\"lp\":3667.9,\"v\":1244470},{\"ts\":\"2022-04-13T09:12:00.000Z\",\"lp\":3669.4,\"v\":1253138},{\"ts\":\"2022-04-13T09:13:00.000Z\",\"lp\":3669.7,\"v\":1256709},{\"ts\":\"2022-04-13T09:14:00.000Z\",\"lp\":3669.7,\"v\":1262886},{\"ts\":\"2022-04-13T09:15:00.000Z\",\"lp\":3670.95,\"v\":1268591},{\"ts\":\"2022-04-13T09:16:00.000Z\",\"lp\":3671.6,\"v\":1273369},{\"ts\":\"2022-04-13T09:17:00.000Z\",\"lp\":3671.6,\"v\":1278566},{\"ts\":\"2022-04-13T09:18:00.000Z\",\"lp\":3669.55,\"v\":1283072},{\"ts\":\"2022-04-13T09:19:00.000Z\",\"lp\":3669.75,\"v\":1286140},{\"ts\":\"2022-04-13T09:20:00.000Z\",\"lp\":3667.3,\"v\":1291021},{\"ts\":\"2022-04-13T09:21:00.000Z\",\"lp\":3671,\"v\":1296150},{\"ts\":\"2022-04-13T09:22:00.000Z\",\"lp\":3670.75,\"v\":1300284},{\"ts\":\"2022-04-13T09:23:00.000Z\",\"lp\":3670.5,\"v\":1304593},{\"ts\":\"2022-04-13T09:24:00.000Z\",\"lp\":3670.05,\"v\":1309099},{\"ts\":\"2022-04-13T09:25:00.000Z\",\"lp\":3669,\"v\":1312265},{\"ts\":\"2022-04-13T09:26:00.000Z\",\"lp\":3670.35,\"v\":1316277},{\"ts\":\"2022-04-13T09:27:00.000Z\",\"lp\":3669.15,\"v\":1320747},{\"ts\":\"2022-04-13T09:28:00.000Z\",\"lp\":3666.35,\"v\":1325594},{\"ts\":\"2022-04-13T09:29:00.000Z\",\"lp\":3663.55,\"v\":1331954},{\"ts\":\"2022-04-13T09:30:00.000Z\",\"lp\":3664.9,\"v\":1340864},{\"ts\":\"2022-04-13T09:31:00.000Z\",\"lp\":3664.35,\"v\":1348392},{\"ts\":\"2022-04-13T09:32:00.000Z\",\"lp\":3663.6,\"v\":1354553},{\"ts\":\"2022-04-13T09:33:00.000Z\",\"lp\":3660.75,\"v\":1364258},{\"ts\":\"2022-04-13T09:34:00.000Z\",\"lp\":3661.25,\"v\":1378494},{\"ts\":\"2022-04-13T09:35:00.000Z\",\"lp\":3661,\"v\":1386341},{\"ts\":\"2022-04-13T09:36:00.000Z\",\"lp\":3661,\"v\":1394107},{\"ts\":\"2022-04-13T09:37:00.000Z\",\"lp\":3662.25,\"v\":1401250},{\"ts\":\"2022-04-13T09:38:00.000Z\",\"lp\":3661.45,\"v\":1414819},{\"ts\":\"2022-04-13T09:39:00.000Z\",\"lp\":3661,\"v\":1422302},{\"ts\":\"2022-04-13T09:40:00.000Z\",\"lp\":3662.05,\"v\":1430400},{\"ts\":\"2022-04-13T09:41:00.000Z\",\"lp\":3662.05,\"v\":1436781},{\"ts\":\"2022-04-13T09:42:00.000Z\",\"lp\":3660.95,\"v\":1445134},{\"ts\":\"2022-04-13T09:43:00.000Z\",\"lp\":3659.2,\"v\":1454970},{\"ts\":\"2022-04-13T09:44:00.000Z\",\"lp\":3661.05,\"v\":1464929},{\"ts\":\"2022-04-13T09:45:00.000Z\",\"lp\":3660.55,\"v\":1476692},{\"ts\":\"2022-04-13T09:46:00.000Z\",\"lp\":3660.45,\"v\":1486896},{\"ts\":\"2022-04-13T09:47:00.000Z\",\"lp\":3661.95,\"v\":1498378},{\"ts\":\"2022-04-13T09:48:00.000Z\",\"lp\":3661.5,\"v\":1510955},{\"ts\":\"2022-04-13T09:49:00.000Z\",\"lp\":3661.4,\"v\":1519908},{\"ts\":\"2022-04-13T09:50:00.000Z\",\"lp\":3659.45,\"v\":1536082},{\"ts\":\"2022-04-13T09:51:00.000Z\",\"lp\":3660.4,\"v\":1545302},{\"ts\":\"2022-04-13T09:52:00.000Z\",\"lp\":3661.45,\"v\":1553441},{\"ts\":\"2022-04-13T09:53:00.000Z\",\"lp\":3661.8,\"v\":1560292},{\"ts\":\"2022-04-13T09:54:00.000Z\",\"lp\":3661.95,\"v\":1572781},{\"ts\":\"2022-04-13T09:55:00.000Z\",\"lp\":3663.05,\"v\":1581351},{\"ts\":\"2022-04-13T09:56:00.000Z\",\"lp\":3663.6,\"v\":1588798},{\"ts\":\"2022-04-13T09:57:00.000Z\",\"lp\":3663.05,\"v\":1596415},{\"ts\":\"2022-04-13T09:58:00.000Z\",\"lp\":3664,\"v\":1615670},{\"ts\":\"2022-04-13T09:59:00.000Z\",\"lp\":3661.95,\"v\":1620879}]}],\"error\":null}'"
            ],
            "application/vnd.google.colaboratory.intrinsic+json": {
              "type": "string"
            }
          },
          "metadata": {},
          "execution_count": 18
        }
      ]
    },
    {
      "cell_type": "code",
      "source": [
        "# chartData.json()['data'][0]['points'][0]['lp']\n",
        "x = [dt.datetime.strptime(data['ts'],'%Y-%m-%dT%H:%M:%S.%fZ') for data in chartData.json()['data'][0]['points']]\n",
        "y = [data['lp'] for data in chartData.json()['data'][0]['points']]\n",
        "\n",
        "plt.plot(x, y)\n",
        "plt.show()"
      ],
      "metadata": {
        "colab": {
          "base_uri": "https://localhost:8080/",
          "height": 266
        },
        "id": "TpDTe_DXEnj3",
        "outputId": "de232a44-9a91-427f-d983-bf5476c6c518"
      },
      "execution_count": 19,
      "outputs": [
        {
          "output_type": "display_data",
          "data": {
            "text/plain": [
              "<Figure size 432x288 with 1 Axes>"
            ],
            "image/png": "[encoded data removed]"
          },
          "metadata": {
            "needs_background": "light"
          }
        }
      ]
    },
    {
      "cell_type": "code",
      "source": [
        "rawData = pd.DataFrame(chartData.json()['data'][0]['points'])\n",
        "rawData['ts']= pd.to_datetime(rawData['ts'])\n",
        "rawData.info()"
      ],
      "metadata": {
        "colab": {
          "base_uri": "https://localhost:8080/"
        },
        "id": "on9xpX6II9R3",
        "outputId": "d2fba264-8d3b-45b6-8dc9-a78687b87233"
      },
      "execution_count": 20,
      "outputs": [
        {
          "output_type": "stream",
          "name": "stdout",
          "text": [
            "<class 'pandas.core.frame.DataFrame'>\n",
            "RangeIndex: 374 entries, 0 to 373\n",
            "Data columns (total 3 columns):\n",
            " #   Column  Non-Null Count  Dtype              \n",
            "---  ------  --------------  -----              \n",
            " 0   ts      374 non-null    datetime64[ns, UTC]\n",
            " 1   lp      374 non-null    float64            \n",
            " 2   v       374 non-null    int64              \n",
            "dtypes: datetime64[ns, UTC](1), float64(1), int64(1)\n",
            "memory usage: 8.9 KB\n"
          ]
        }
      ]
    },
    {
      "cell_type": "code",
      "source": [
        "fig = px.line(rawData, x='ts', y=\"lp\")\n",
        "fig.show()"
      ],
      "metadata": {
        "colab": {
          "base_uri": "https://localhost:8080/",
          "height": 542
        },
        "id": "ftcOiWbIWg41",
        "outputId": "ca576c50-e048-4d56-d677-f4dab4638817"
      },
      "execution_count": 21,
      "outputs": [
        {
          "output_type": "display_data",
          "data": {
            "text/html": [
              "<html>\n",
              "<head><meta charset=\"utf-8\" /></head>\n",
              "<body>\n",
              "    <div>            <script src=\"https://cdnjs.cloudflare.com/ajax/libs/mathjax/2.7.5/MathJax.js?config=TeX-AMS-MML_SVG\"></script><script type=\"text/javascript\">if (window.MathJax) {MathJax.Hub.Config({SVG: {font: \"STIX-Web\"}});}</script>                <script type=\"text/javascript\">window.PlotlyConfig = {MathJaxConfig: 'local'};</script>\n",
              "        <script src=\"https://cdn.plot.ly/plotly-2.8.3.min.js\"></script>                <div id=\"201ff749-3b68-4e12-a4d1-e765112b40a3\" class=\"plotly-graph-div\" style=\"height:525px; width:100%;\"></div>            <script type=\"text/javascript\">                                    window.PLOTLYENV=window.PLOTLYENV || {};                                    if (document.getElementById(\"201ff749-3b68-4e12-a4d1-e765112b40a3\")) {                    Plotly.newPlot(                        \"201ff749-3b68-4e12-a4d1-e765112b40a3\",                        [{\"hovertemplate\":\"ts=%{x}<br>lp=%{y}<extra></extra>\",\"legendgroup\":\"\",\"line\":{\"color\":\"#636efa\",\"dash\":\"solid\"},\"marker\":{\"symbol\":\"circle\"},\"mode\":\"lines\",\"name\":\"\",\"orientation\":\"v\",\"showlegend\":false,\"x\":[\"2022-04-13T03:46:00+00:00\",\"2022-04-13T03:47:00+00:00\",\"2022-04-13T03:48:00+00:00\",\"2022-04-13T03:49:00+00:00\",\"2022-04-13T03:50:00+00:00\",\"2022-04-13T03:51:00+00:00\",\"2022-04-13T03:52:00+00:00\",\"2022-04-13T03:53:00+00:00\",\"2022-04-13T03:54:00+00:00\",\"2022-04-13T03:55:00+00:00\",\"2022-04-13T03:56:00+00:00\",\"2022-04-13T03:57:00+00:00\",\"2022-04-13T03:58:00+00:00\",\"2022-04-13T03:59:00+00:00\",\"2022-04-13T04:00:00+00:00\",\"2022-04-13T04:01:00+00:00\",\"2022-04-13T04:02:00+00:00\",\"2022-04-13T04:03:00+00:00\",\"2022-04-13T04:04:00+00:00\",\"2022-04-13T04:05:00+00:00\",\"2022-04-13T04:06:00+00:00\",\"2022-04-13T04:07:00+00:00\",\"2022-04-13T04:08:00+00:00\",\"2022-04-13T04:09:00+00:00\",\"2022-04-13T04:10:00+00:00\",\"2022-04-13T04:11:00+00:00\",\"2022-04-13T04:12:00+00:00\",\"2022-04-13T04:13:00+00:00\",\"2022-04-13T04:14:00+00:00\",\"2022-04-13T04:15:00+00:00\",\"2022-04-13T04:16:00+00:00\",\"2022-04-13T04:17:00+00:00\",\"2022-04-13T04:18:00+00:00\",\"2022-04-13T04:19:00+00:00\",\"2022-04-13T04:20:00+00:00\",\"2022-04-13T04:21:00+00:00\",\"2022-04-13T04:22:00+00:00\",\"2022-04-13T04:23:00+00:00\",\"2022-04-13T04:24:00+00:00\",\"2022-04-13T04:25:00+00:00\",\"2022-04-13T04:26:00+00:00\",\"2022-04-13T04:27:00+00:00\",\"2022-04-13T04:28:00+00:00\",\"2022-04-13T04:29:00+00:00\",\"2022-04-13T04:30:00+00:00\",\"2022-04-13T04:31:00+00:00\",\"2022-04-13T04:32:00+00:00\",\"2022-04-13T04:33:00+00:00\",\"2022-04-13T04:34:00+00:00\",\"2022-04-13T04:35:00+00:00\",\"2022-04-13T04:36:00+00:00\",\"2022-04-13T04:37:00+00:00\",\"2022-04-13T04:38:00+00:00\",\"2022-04-13T04:39:00+00:00\",\"2022-04-13T04:40:00+00:00\",\"2022-04-13T04:41:00+00:00\",\"2022-04-13T04:42:00+00:00\",\"2022-04-13T04:43:00+00:00\",\"2022-04-13T04:44:00+00:00\",\"2022-04-13T04:45:00+00:00\",\"2022-04-13T04:46:00+00:00\",\"2022-04-13T04:47:00+00:00\",\"2022-04-13T04:48:00+00:00\",\"2022-04-13T04:49:00+00:00\",\"2022-04-13T04:50:00+00:00\",\"2022-04-13T04:51:00+00:00\",\"2022-04-13T04:52:00+00:00\",\"2022-04-13T04:53:00+00:00\",\"2022-04-13T04:54:00+00:00\",\"2022-04-13T04:55:00+00:00\",\"2022-04-13T04:56:00+00:00\",\"2022-04-13T04:57:00+00:00\",\"2022-04-13T04:58:00+00:00\",\"2022-04-13T04:59:00+00:00\",\"2022-04-13T05:00:00+00:00\",\"2022-04-13T05:01:00+00:00\",\"2022-04-13T05:02:00+00:00\",\"2022-04-13T05:03:00+00:00\",\"2022-04-13T05:04:00+00:00\",\"2022-04-13T05:05:00+00:00\",\"2022-04-13T05:06:00+00:00\",\"2022-04-13T05:07:00+00:00\",\"2022-04-13T05:08:00+00:00\",\"2022-04-13T05:09:00+00:00\",\"2022-04-13T05:10:00+00:00\",\"2022-04-13T05:11:00+00:00\",\"2022-04-13T05:12:00+00:00\",\"2022-04-13T05:13:00+00:00\",\"2022-04-13T05:14:00+00:00\",\"2022-04-13T05:15:00+00:00\",\"2022-04-13T05:16:00+00:00\",\"2022-04-13T05:17:00+00:00\",\"2022-04-13T05:18:00+00:00\",\"2022-04-13T05:19:00+00:00\",\"2022-04-13T05:20:00+00:00\",\"2022-04-13T05:21:00+00:00\",\"2022-04-13T05:22:00+00:00\",\"2022-04-13T05:23:00+00:00\",\"2022-04-13T05:24:00+00:00\",\"2022-04-13T05:25:00+00:00\",\"2022-04-13T05:26:00+00:00\",\"2022-04-13T05:27:00+00:00\",\"2022-04-13T05:28:00+00:00\",\"2022-04-13T05:29:00+00:00\",\"2022-04-13T05:30:00+00:00\",\"2022-04-13T05:31:00+00:00\",\"2022-04-13T05:32:00+00:00\",\"2022-04-13T05:33:00+00:00\",\"2022-04-13T05:34:00+00:00\",\"2022-04-13T05:35:00+00:00\",\"2022-04-13T05:36:00+00:00\",\"2022-04-13T05:37:00+00:00\",\"2022-04-13T05:38:00+00:00\",\"2022-04-13T05:39:00+00:00\",\"2022-04-13T05:40:00+00:00\",\"2022-04-13T05:41:00+00:00\",\"2022-04-13T05:42:00+00:00\",\"2022-04-13T05:43:00+00:00\",\"2022-04-13T05:44:00+00:00\",\"2022-04-13T05:45:00+00:00\",\"2022-04-13T05:46:00+00:00\",\"2022-04-13T05:47:00+00:00\",\"2022-04-13T05:48:00+00:00\",\"2022-04-13T05:49:00+00:00\",\"2022-04-13T05:50:00+00:00\",\"2022-04-13T05:51:00+00:00\",\"2022-04-13T05:52:00+00:00\",\"2022-04-13T05:53:00+00:00\",\"2022-04-13T05:54:00+00:00\",\"2022-04-13T05:55:00+00:00\",\"2022-04-13T05:56:00+00:00\",\"2022-04-13T05:57:00+00:00\",\"2022-04-13T05:58:00+00:00\",\"2022-04-13T05:59:00+00:00\",\"2022-04-13T06:00:00+00:00\",\"2022-04-13T06:01:00+00:00\",\"2022-04-13T06:02:00+00:00\",\"2022-04-13T06:03:00+00:00\",\"2022-04-13T06:04:00+00:00\",\"2022-04-13T06:05:00+00:00\",\"2022-04-13T06:06:00+00:00\",\"2022-04-13T06:07:00+00:00\",\"2022-04-13T06:08:00+00:00\",\"2022-04-13T06:09:00+00:00\",\"2022-04-13T06:10:00+00:00\",\"2022-04-13T06:11:00+00:00\",\"2022-04-13T06:12:00+00:00\",\"2022-04-13T06:13:00+00:00\",\"2022-04-13T06:14:00+00:00\",\"2022-04-13T06:15:00+00:00\",\"2022-04-13T06:16:00+00:00\",\"2022-04-13T06:17:00+00:00\",\"2022-04-13T06:18:00+00:00\",\"2022-04-13T06:19:00+00:00\",\"2022-04-13T06:20:00+00:00\",\"2022-04-13T06:21:00+00:00\",\"2022-04-13T06:22:00+00:00\",\"2022-04-13T06:23:00+00:00\",\"2022-04-13T06:24:00+00:00\",\"2022-04-13T06:25:00+00:00\",\"2022-04-13T06:26:00+00:00\",\"2022-04-13T06:27:00+00:00\",\"2022-04-13T06:28:00+00:00\",\"2022-04-13T06:29:00+00:00\",\"2022-04-13T06:30:00+00:00\",\"2022-04-13T06:31:00+00:00\",\"2022-04-13T06:32:00+00:00\",\"2022-04-13T06:33:00+00:00\",\"2022-04-13T06:34:00+00:00\",\"2022-04-13T06:35:00+00:00\",\"2022-04-13T06:36:00+00:00\",\"2022-04-13T06:37:00+00:00\",\"2022-04-13T06:38:00+00:00\",\"2022-04-13T06:39:00+00:00\",\"2022-04-13T06:40:00+00:00\",\"2022-04-13T06:41:00+00:00\",\"2022-04-13T06:42:00+00:00\",\"2022-04-13T06:43:00+00:00\",\"2022-04-13T06:44:00+00:00\",\"2022-04-13T06:45:00+00:00\",\"2022-04-13T06:46:00+00:00\",\"2022-04-13T06:47:00+00:00\",\"2022-04-13T06:48:00+00:00\",\"2022-04-13T06:49:00+00:00\",\"2022-04-13T06:50:00+00:00\",\"2022-04-13T06:51:00+00:00\",\"2022-04-13T06:52:00+00:00\",\"2022-04-13T06:53:00+00:00\",\"2022-04-13T06:54:00+00:00\",\"2022-04-13T06:55:00+00:00\",\"2022-04-13T06:56:00+00:00\",\"2022-04-13T06:57:00+00:00\",\"2022-04-13T06:58:00+00:00\",\"2022-04-13T06:59:00+00:00\",\"2022-04-13T07:00:00+00:00\",\"2022-04-13T07:01:00+00:00\",\"2022-04-13T07:02:00+00:00\",\"2022-04-13T07:03:00+00:00\",\"2022-04-13T07:04:00+00:00\",\"2022-04-13T07:05:00+00:00\",\"2022-04-13T07:06:00+00:00\",\"2022-04-13T07:07:00+00:00\",\"2022-04-13T07:08:00+00:00\",\"2022-04-13T07:09:00+00:00\",\"2022-04-13T07:10:00+00:00\",\"2022-04-13T07:11:00+00:00\",\"2022-04-13T07:12:00+00:00\",\"2022-04-13T07:13:00+00:00\",\"2022-04-13T07:14:00+00:00\",\"2022-04-13T07:15:00+00:00\",\"2022-04-13T07:16:00+00:00\",\"2022-04-13T07:17:00+00:00\",\"2022-04-13T07:18:00+00:00\",\"2022-04-13T07:19:00+00:00\",\"2022-04-13T07:20:00+00:00\",\"2022-04-13T07:21:00+00:00\",\"2022-04-13T07:22:00+00:00\",\"2022-04-13T07:23:00+00:00\",\"2022-04-13T07:24:00+00:00\",\"2022-04-13T07:25:00+00:00\",\"2022-04-13T07:26:00+00:00\",\"2022-04-13T07:27:00+00:00\",\"2022-04-13T07:28:00+00:00\",\"2022-04-13T07:29:00+00:00\",\"2022-04-13T07:30:00+00:00\",\"2022-04-13T07:31:00+00:00\",\"2022-04-13T07:32:00+00:00\",\"2022-04-13T07:33:00+00:00\",\"2022-04-13T07:34:00+00:00\",\"2022-04-13T07:35:00+00:00\",\"2022-04-13T07:36:00+00:00\",\"2022-04-13T07:37:00+00:00\",\"2022-04-13T07:38:00+00:00\",\"2022-04-13T07:39:00+00:00\",\"2022-04-13T07:40:00+00:00\",\"2022-04-13T07:41:00+00:00\",\"2022-04-13T07:42:00+00:00\",\"2022-04-13T07:43:00+00:00\",\"2022-04-13T07:44:00+00:00\",\"2022-04-13T07:45:00+00:00\",\"2022-04-13T07:46:00+00:00\",\"2022-04-13T07:47:00+00:00\",\"2022-04-13T07:48:00+00:00\",\"2022-04-13T07:49:00+00:00\",\"2022-04-13T07:50:00+00:00\",\"2022-04-13T07:51:00+00:00\",\"2022-04-13T07:52:00+00:00\",\"2022-04-13T07:53:00+00:00\",\"2022-04-13T07:54:00+00:00\",\"2022-04-13T07:55:00+00:00\",\"2022-04-13T07:56:00+00:00\",\"2022-04-13T07:57:00+00:00\",\"2022-04-13T07:58:00+00:00\",\"2022-04-13T07:59:00+00:00\",\"2022-04-13T08:00:00+00:00\",\"2022-04-13T08:01:00+00:00\",\"2022-04-13T08:02:00+00:00\",\"2022-04-13T08:03:00+00:00\",\"2022-04-13T08:04:00+00:00\",\"2022-04-13T08:05:00+00:00\",\"2022-04-13T08:06:00+00:00\",\"2022-04-13T08:07:00+00:00\",\"2022-04-13T08:08:00+00:00\",\"2022-04-13T08:09:00+00:00\",\"2022-04-13T08:10:00+00:00\",\"2022-04-13T08:11:00+00:00\",\"2022-04-13T08:12:00+00:00\",\"2022-04-13T08:13:00+00:00\",\"2022-04-13T08:14:00+00:00\",\"2022-04-13T08:15:00+00:00\",\"2022-04-13T08:16:00+00:00\",\"2022-04-13T08:17:00+00:00\",\"2022-04-13T08:18:00+00:00\",\"2022-04-13T08:19:00+00:00\",\"2022-04-13T08:20:00+00:00\",\"2022-04-13T08:21:00+00:00\",\"2022-04-13T08:22:00+00:00\",\"2022-04-13T08:23:00+00:00\",\"2022-04-13T08:24:00+00:00\",\"2022-04-13T08:25:00+00:00\",\"2022-04-13T08:26:00+00:00\",\"2022-04-13T08:27:00+00:00\",\"2022-04-13T08:28:00+00:00\",\"2022-04-13T08:29:00+00:00\",\"2022-04-13T08:30:00+00:00\",\"2022-04-13T08:31:00+00:00\",\"2022-04-13T08:32:00+00:00\",\"2022-04-13T08:33:00+00:00\",\"2022-04-13T08:34:00+00:00\",\"2022-04-13T08:35:00+00:00\",\"2022-04-13T08:36:00+00:00\",\"2022-04-13T08:37:00+00:00\",\"2022-04-13T08:38:00+00:00\",\"2022-04-13T08:39:00+00:00\",\"2022-04-13T08:40:00+00:00\",\"2022-04-13T08:41:00+00:00\",\"2022-04-13T08:42:00+00:00\",\"2022-04-13T08:43:00+00:00\",\"2022-04-13T08:44:00+00:00\",\"2022-04-13T08:45:00+00:00\",\"2022-04-13T08:46:00+00:00\",\"2022-04-13T08:47:00+00:00\",\"2022-04-13T08:48:00+00:00\",\"2022-04-13T08:49:00+00:00\",\"2022-04-13T08:50:00+00:00\",\"2022-04-13T08:51:00+00:00\",\"2022-04-13T08:52:00+00:00\",\"2022-04-13T08:53:00+00:00\",\"2022-04-13T08:54:00+00:00\",\"2022-04-13T08:55:00+00:00\",\"2022-04-13T08:56:00+00:00\",\"2022-04-13T08:57:00+00:00\",\"2022-04-13T08:58:00+00:00\",\"2022-04-13T08:59:00+00:00\",\"2022-04-13T09:00:00+00:00\",\"2022-04-13T09:01:00+00:00\",\"2022-04-13T09:02:00+00:00\",\"2022-04-13T09:03:00+00:00\",\"2022-04-13T09:04:00+00:00\",\"2022-04-13T09:05:00+00:00\",\"2022-04-13T09:06:00+00:00\",\"2022-04-13T09:07:00+00:00\",\"2022-04-13T09:08:00+00:00\",\"2022-04-13T09:09:00+00:00\",\"2022-04-13T09:10:00+00:00\",\"2022-04-13T09:11:00+00:00\",\"2022-04-13T09:12:00+00:00\",\"2022-04-13T09:13:00+00:00\",\"2022-04-13T09:14:00+00:00\",\"2022-04-13T09:15:00+00:00\",\"2022-04-13T09:16:00+00:00\",\"2022-04-13T09:17:00+00:00\",\"2022-04-13T09:18:00+00:00\",\"2022-04-13T09:19:00+00:00\",\"2022-04-13T09:20:00+00:00\",\"2022-04-13T09:21:00+00:00\",\"2022-04-13T09:22:00+00:00\",\"2022-04-13T09:23:00+00:00\",\"2022-04-13T09:24:00+00:00\",\"2022-04-13T09:25:00+00:00\",\"2022-04-13T09:26:00+00:00\",\"2022-04-13T09:27:00+00:00\",\"2022-04-13T09:28:00+00:00\",\"2022-04-13T09:29:00+00:00\",\"2022-04-13T09:30:00+00:00\",\"2022-04-13T09:31:00+00:00\",\"2022-04-13T09:32:00+00:00\",\"2022-04-13T09:33:00+00:00\",\"2022-04-13T09:34:00+00:00\",\"2022-04-13T09:35:00+00:00\",\"2022-04-13T09:36:00+00:00\",\"2022-04-13T09:37:00+00:00\",\"2022-04-13T09:38:00+00:00\",\"2022-04-13T09:39:00+00:00\",\"2022-04-13T09:40:00+00:00\",\"2022-04-13T09:41:00+00:00\",\"2022-04-13T09:42:00+00:00\",\"2022-04-13T09:43:00+00:00\",\"2022-04-13T09:44:00+00:00\",\"2022-04-13T09:45:00+00:00\",\"2022-04-13T09:46:00+00:00\",\"2022-04-13T09:47:00+00:00\",\"2022-04-13T09:48:00+00:00\",\"2022-04-13T09:49:00+00:00\",\"2022-04-13T09:50:00+00:00\",\"2022-04-13T09:51:00+00:00\",\"2022-04-13T09:52:00+00:00\",\"2022-04-13T09:53:00+00:00\",\"2022-04-13T09:54:00+00:00\",\"2022-04-13T09:55:00+00:00\",\"2022-04-13T09:56:00+00:00\",\"2022-04-13T09:57:00+00:00\",\"2022-04-13T09:58:00+00:00\",\"2022-04-13T09:59:00+00:00\"],\"xaxis\":\"x\",\"y\":[3688.35,3692.8,3692.0,3688.75,3693.45,3693.0,3695.3,3691.85,3689.45,3691.9,3693.1,3695.25,3694.4,3694.75,3694.75,3698.75,3696.8,3697.2,3692.0,3696.55,3697.7,3695.65,3696.7,3692.5,3692.0,3691.45,3689.9,3692.0,3691.0,3688.6,3681.0,3680.0,3682.55,3685.0,3680.4,3682.75,3678.0,3675.2,3673.4,3672.0,3672.2,3667.25,3664.8,3666.95,3666.4,3670.8,3668.35,3669.35,3672.0,3670.5,3669.95,3671.0,3669.7,3665.5,3664.3,3663.3,3667.0,3665.0,3664.4,3662.05,3665.2,3663.0,3664.5,3663.75,3663.75,3665.0,3666.25,3669.0,3667.1,3667.6,3664.3,3662.2,3664.9,3662.85,3664.4,3663.9,3666.9,3666.9,3667.55,3668.1,3668.8,3669.8,3670.05,3666.95,3671.0,3667.7,3668.15,3667.05,3667.75,3666.95,3668.0,3669.0,3668.05,3667.5,3669.5,3669.5,3670.0,3669.0,3671.0,3669.95,3669.5,3668.8,3669.75,3672.4,3671.35,3670.55,3671.15,3671.0,3672.8,3673.8,3675.85,3674.5,3674.0,3673.0,3674.0,3674.1,3674.8,3674.4,3673.45,3674.0,3674.7,3675.15,3675.1,3676.95,3675.8,3678.9,3678.5,3677.0,3676.5,3676.25,3677.0,3678.8,3683.0,3680.4,3682.0,3683.1,3684.05,3685.5,3684.5,3680.0,3677.75,3677.95,3676.35,3675.8,3675.3,3675.5,3678.0,3676.4,3675.0,3678.0,3679.8,3680.6,3679.35,3680.0,3679.95,3682.6,3682.45,3682.0,3681.75,3681.95,3681.0,3681.9,3683.95,3684.7,3684.0,3682.95,3681.9,3682.0,3680.85,3680.0,3680.9,3682.5,3681.75,3683.4,3683.3,3683.4,3680.55,3680.5,3678.05,3678.3,3677.65,3677.0,3677.45,3677.0,3677.35,3677.25,3678.6,3678.9,3679.6,3680.15,3680.1,3678.6,3680.0,3680.0,3677.5,3676.9,3677.7,3679.8,3677.9,3677.05,3678.65,3675.75,3676.6,3676.45,3675.55,3676.5,3675.2,3675.2,3675.6,3673.65,3673.55,3672.7,3672.45,3671.9,3667.0,3668.05,3669.0,3668.0,3667.7,3667.75,3669.45,3669.5,3668.25,3667.55,3670.55,3669.85,3666.35,3664.2,3665.05,3665.75,3666.55,3667.45,3666.05,3667.7,3669.0,3670.7,3671.5,3671.55,3671.8,3675.2,3674.0,3674.2,3673.0,3673.0,3672.8,3674.8,3672.05,3672.45,3672.45,3670.5,3668.85,3670.0,3667.15,3668.0,3667.2,3667.45,3669.0,3669.3,3668.9,3669.5,3669.05,3669.45,3671.05,3670.05,3671.05,3670.05,3669.6,3669.3,3669.95,3665.3,3665.65,3666.6,3665.4,3665.5,3665.45,3666.1,3666.45,3668.0,3669.55,3668.9,3667.55,3668.5,3668.2,3668.8,3667.95,3668.85,3668.4,3669.4,3668.65,3668.1,3667.15,3667.55,3667.15,3667.0,3666.55,3667.0,3667.7,3668.0,3665.65,3665.6,3666.95,3667.75,3666.75,3661.9,3660.4,3662.4,3660.65,3661.0,3660.0,3659.35,3658.75,3661.05,3662.0,3663.85,3663.95,3663.9,3664.0,3661.6,3661.9,3661.0,3661.85,3660.0,3660.05,3661.6,3665.0,3667.9,3669.4,3669.7,3669.7,3670.95,3671.6,3671.6,3669.55,3669.75,3667.3,3671.0,3670.75,3670.5,3670.05,3669.0,3670.35,3669.15,3666.35,3663.55,3664.9,3664.35,3663.6,3660.75,3661.25,3661.0,3661.0,3662.25,3661.45,3661.0,3662.05,3662.05,3660.95,3659.2,3661.05,3660.55,3660.45,3661.95,3661.5,3661.4,3659.45,3660.4,3661.45,3661.8,3661.95,3663.05,3663.6,3663.05,3664.0,3661.95],\"yaxis\":\"y\",\"type\":\"scatter\"}],                        {\"template\":{\"data\":{\"bar\":[{\"error_x\":{\"color\":\"#2a3f5f\"},\"error_y\":{\"color\":\"#2a3f5f\"},\"marker\":{\"line\":{\"color\":\"#E5ECF6\",\"width\":0.5},\"pattern\":{\"fillmode\":\"overlay\",\"size\":10,\"solidity\":0.2}},\"type\":\"bar\"}],\"barpolar\":[{\"marker\":{\"line\":{\"color\":\"#E5ECF6\",\"width\":0.5},\"pattern\":{\"fillmode\":\"overlay\",\"size\":10,\"solidity\":0.2}},\"type\":\"barpolar\"}],\"carpet\":[{\"aaxis\":{\"endlinecolor\":\"#2a3f5f\",\"gridcolor\":\"white\",\"linecolor\":\"white\",\"minorgridcolor\":\"white\",\"startlinecolor\":\"#2a3f5f\"},\"baxis\":{\"endlinecolor\":\"#2a3f5f\",\"gridcolor\":\"white\",\"linecolor\":\"white\",\"minorgridcolor\":\"white\",\"startlinecolor\":\"#2a3f5f\"},\"type\":\"carpet\"}],\"choropleth\":[{\"colorbar\":{\"outlinewidth\":0,\"ticks\":\"\"},\"type\":\"choropleth\"}],\"contour\":[{\"colorbar\":{\"outlinewidth\":0,\"ticks\":\"\"},\"colorscale\":[[0.0,\"#0d0887\"],[0.1111111111111111,\"#46039f\"],[0.2222222222222222,\"#7201a8\"],[0.3333333333333333,\"#9c179e\"],[0.4444444444444444,\"#bd3786\"],[0.5555555555555556,\"#d8576b\"],[0.6666666666666666,\"#ed7953\"],[0.7777777777777778,\"#fb9f3a\"],[0.8888888888888888,\"#fdca26\"],[1.0,\"#f0f921\"]],\"type\":\"contour\"}],\"contourcarpet\":[{\"colorbar\":{\"outlinewidth\":0,\"ticks\":\"\"},\"type\":\"contourcarpet\"}],\"heatmap\":[{\"colorbar\":{\"outlinewidth\":0,\"ticks\":\"\"},\"colorscale\":[[0.0,\"#0d0887\"],[0.1111111111111111,\"#46039f\"],[0.2222222222222222,\"#7201a8\"],[0.3333333333333333,\"#9c179e\"],[0.4444444444444444,\"#bd3786\"],[0.5555555555555556,\"#d8576b\"],[0.6666666666666666,\"#ed7953\"],[0.7777777777777778,\"#fb9f3a\"],[0.8888888888888888,\"#fdca26\"],[1.0,\"#f0f921\"]],\"type\":\"heatmap\"}],\"heatmapgl\":[{\"colorbar\":{\"outlinewidth\":0,\"ticks\":\"\"},\"colorscale\":[[0.0,\"#0d0887\"],[0.1111111111111111,\"#46039f\"],[0.2222222222222222,\"#7201a8\"],[0.3333333333333333,\"#9c179e\"],[0.4444444444444444,\"#bd3786\"],[0.5555555555555556,\"#d8576b\"],[0.6666666666666666,\"#ed7953\"],[0.7777777777777778,\"#fb9f3a\"],[0.8888888888888888,\"#fdca26\"],[1.0,\"#f0f921\"]],\"type\":\"heatmapgl\"}],\"histogram\":[{\"marker\":{\"pattern\":{\"fillmode\":\"overlay\",\"size\":10,\"solidity\":0.2}},\"type\":\"histogram\"}],\"histogram2d\":[{\"colorbar\":{\"outlinewidth\":0,\"ticks\":\"\"},\"colorscale\":[[0.0,\"#0d0887\"],[0.1111111111111111,\"#46039f\"],[0.2222222222222222,\"#7201a8\"],[0.3333333333333333,\"#9c179e\"],[0.4444444444444444,\"#bd3786\"],[0.5555555555555556,\"#d8576b\"],[0.6666666666666666,\"#ed7953\"],[0.7777777777777778,\"#fb9f3a\"],[0.8888888888888888,\"#fdca26\"],[1.0,\"#f0f921\"]],\"type\":\"histogram2d\"}],\"histogram2dcontour\":[{\"colorbar\":{\"outlinewidth\":0,\"ticks\":\"\"},\"colorscale\":[[0.0,\"#0d0887\"],[0.1111111111111111,\"#46039f\"],[0.2222222222222222,\"#7201a8\"],[0.3333333333333333,\"#9c179e\"],[0.4444444444444444,\"#bd3786\"],[0.5555555555555556,\"#d8576b\"],[0.6666666666666666,\"#ed7953\"],[0.7777777777777778,\"#fb9f3a\"],[0.8888888888888888,\"#fdca26\"],[1.0,\"#f0f921\"]],\"type\":\"histogram2dcontour\"}],\"mesh3d\":[{\"colorbar\":{\"outlinewidth\":0,\"ticks\":\"\"},\"type\":\"mesh3d\"}],\"parcoords\":[{\"line\":{\"colorbar\":{\"outlinewidth\":0,\"ticks\":\"\"}},\"type\":\"parcoords\"}],\"pie\":[{\"automargin\":true,\"type\":\"pie\"}],\"scatter\":[{\"marker\":{\"colorbar\":{\"outlinewidth\":0,\"ticks\":\"\"}},\"type\":\"scatter\"}],\"scatter3d\":[{\"line\":{\"colorbar\":{\"outlinewidth\":0,\"ticks\":\"\"}},\"marker\":{\"colorbar\":{\"outlinewidth\":0,\"ticks\":\"\"}},\"type\":\"scatter3d\"}],\"scattercarpet\":[{\"marker\":{\"colorbar\":{\"outlinewidth\":0,\"ticks\":\"\"}},\"type\":\"scattercarpet\"}],\"scattergeo\":[{\"marker\":{\"colorbar\":{\"outlinewidth\":0,\"ticks\":\"\"}},\"type\":\"scattergeo\"}],\"scattergl\":[{\"marker\":{\"colorbar\":{\"outlinewidth\":0,\"ticks\":\"\"}},\"type\":\"scattergl\"}],\"scattermapbox\":[{\"marker\":{\"colorbar\":{\"outlinewidth\":0,\"ticks\":\"\"}},\"type\":\"scattermapbox\"}],\"scatterpolar\":[{\"marker\":{\"colorbar\":{\"outlinewidth\":0,\"ticks\":\"\"}},\"type\":\"scatterpolar\"}],\"scatterpolargl\":[{\"marker\":{\"colorbar\":{\"outlinewidth\":0,\"ticks\":\"\"}},\"type\":\"scatterpolargl\"}],\"scatterternary\":[{\"marker\":{\"colorbar\":{\"outlinewidth\":0,\"ticks\":\"\"}},\"type\":\"scatterternary\"}],\"surface\":[{\"colorbar\":{\"outlinewidth\":0,\"ticks\":\"\"},\"colorscale\":[[0.0,\"#0d0887\"],[0.1111111111111111,\"#46039f\"],[0.2222222222222222,\"#7201a8\"],[0.3333333333333333,\"#9c179e\"],[0.4444444444444444,\"#bd3786\"],[0.5555555555555556,\"#d8576b\"],[0.6666666666666666,\"#ed7953\"],[0.7777777777777778,\"#fb9f3a\"],[0.8888888888888888,\"#fdca26\"],[1.0,\"#f0f921\"]],\"type\":\"surface\"}],\"table\":[{\"cells\":{\"fill\":{\"color\":\"#EBF0F8\"},\"line\":{\"color\":\"white\"}},\"header\":{\"fill\":{\"color\":\"#C8D4E3\"},\"line\":{\"color\":\"white\"}},\"type\":\"table\"}]},\"layout\":{\"annotationdefaults\":{\"arrowcolor\":\"#2a3f5f\",\"arrowhead\":0,\"arrowwidth\":1},\"autotypenumbers\":\"strict\",\"coloraxis\":{\"colorbar\":{\"outlinewidth\":0,\"ticks\":\"\"}},\"colorscale\":{\"diverging\":[[0,\"#8e0152\"],[0.1,\"#c51b7d\"],[0.2,\"#de77ae\"],[0.3,\"#f1b6da\"],[0.4,\"#fde0ef\"],[0.5,\"#f7f7f7\"],[0.6,\"#e6f5d0\"],[0.7,\"#b8e186\"],[0.8,\"#7fbc41\"],[0.9,\"#4d9221\"],[1,\"#276419\"]],\"sequential\":[[0.0,\"#0d0887\"],[0.1111111111111111,\"#46039f\"],[0.2222222222222222,\"#7201a8\"],[0.3333333333333333,\"#9c179e\"],[0.4444444444444444,\"#bd3786\"],[0.5555555555555556,\"#d8576b\"],[0.6666666666666666,\"#ed7953\"],[0.7777777777777778,\"#fb9f3a\"],[0.8888888888888888,\"#fdca26\"],[1.0,\"#f0f921\"]],\"sequentialminus\":[[0.0,\"#0d0887\"],[0.1111111111111111,\"#46039f\"],[0.2222222222222222,\"#7201a8\"],[0.3333333333333333,\"#9c179e\"],[0.4444444444444444,\"#bd3786\"],[0.5555555555555556,\"#d8576b\"],[0.6666666666666666,\"#ed7953\"],[0.7777777777777778,\"#fb9f3a\"],[0.8888888888888888,\"#fdca26\"],[1.0,\"#f0f921\"]]},\"colorway\":[\"#636efa\",\"#EF553B\",\"#00cc96\",\"#ab63fa\",\"#FFA15A\",\"#19d3f3\",\"#FF6692\",\"#B6E880\",\"#FF97FF\",\"#FECB52\"],\"font\":{\"color\":\"#2a3f5f\"},\"geo\":{\"bgcolor\":\"white\",\"lakecolor\":\"white\",\"landcolor\":\"#E5ECF6\",\"showlakes\":true,\"showland\":true,\"subunitcolor\":\"white\"},\"hoverlabel\":{\"align\":\"left\"},\"hovermode\":\"closest\",\"mapbox\":{\"style\":\"light\"},\"paper_bgcolor\":\"white\",\"plot_bgcolor\":\"#E5ECF6\",\"polar\":{\"angularaxis\":{\"gridcolor\":\"white\",\"linecolor\":\"white\",\"ticks\":\"\"},\"bgcolor\":\"#E5ECF6\",\"radialaxis\":{\"gridcolor\":\"white\",\"linecolor\":\"white\",\"ticks\":\"\"}},\"scene\":{\"xaxis\":{\"backgroundcolor\":\"#E5ECF6\",\"gridcolor\":\"white\",\"gridwidth\":2,\"linecolor\":\"white\",\"showbackground\":true,\"ticks\":\"\",\"zerolinecolor\":\"white\"},\"yaxis\":{\"backgroundcolor\":\"#E5ECF6\",\"gridcolor\":\"white\",\"gridwidth\":2,\"linecolor\":\"white\",\"showbackground\":true,\"ticks\":\"\",\"zerolinecolor\":\"white\"},\"zaxis\":{\"backgroundcolor\":\"#E5ECF6\",\"gridcolor\":\"white\",\"gridwidth\":2,\"linecolor\":\"white\",\"showbackground\":true,\"ticks\":\"\",\"zerolinecolor\":\"white\"}},\"shapedefaults\":{\"line\":{\"color\":\"#2a3f5f\"}},\"ternary\":{\"aaxis\":{\"gridcolor\":\"white\",\"linecolor\":\"white\",\"ticks\":\"\"},\"baxis\":{\"gridcolor\":\"white\",\"linecolor\":\"white\",\"ticks\":\"\"},\"bgcolor\":\"#E5ECF6\",\"caxis\":{\"gridcolor\":\"white\",\"linecolor\":\"white\",\"ticks\":\"\"}},\"title\":{\"x\":0.05},\"xaxis\":{\"automargin\":true,\"gridcolor\":\"white\",\"linecolor\":\"white\",\"ticks\":\"\",\"title\":{\"standoff\":15},\"zerolinecolor\":\"white\",\"zerolinewidth\":2},\"yaxis\":{\"automargin\":true,\"gridcolor\":\"white\",\"linecolor\":\"white\",\"ticks\":\"\",\"title\":{\"standoff\":15},\"zerolinecolor\":\"white\",\"zerolinewidth\":2}}},\"xaxis\":{\"anchor\":\"y\",\"domain\":[0.0,1.0],\"title\":{\"text\":\"ts\"}},\"yaxis\":{\"anchor\":\"x\",\"domain\":[0.0,1.0],\"title\":{\"text\":\"lp\"}},\"legend\":{\"tracegroupgap\":0},\"margin\":{\"t\":60}},                        {\"responsive\": true}                    ).then(function(){\n",
              "                            \n",
              "var gd = document.getElementById('201ff749-3b68-4e12-a4d1-e765112b40a3');\n",
              "var x = new MutationObserver(function (mutations, observer) {{\n",
              "        var display = window.getComputedStyle(gd).display;\n",
              "        if (!display || display === 'none') {{\n",
              "            console.log([gd, 'removed!']);\n",
              "            Plotly.purge(gd);\n",
              "            observer.disconnect();\n",
              "        }}\n",
              "}});\n",
              "\n",
              "// Listen for the removal of the full notebook cells\n",
              "var notebookContainer = gd.closest('#notebook-container');\n",
              "if (notebookContainer) {{\n",
              "    x.observe(notebookContainer, {childList: true});\n",
              "}}\n",
              "\n",
              "// Listen for the clearing of the current output cell\n",
              "var outputEl = gd.closest('.output');\n",
              "if (outputEl) {{\n",
              "    x.observe(outputEl, {childList: true});\n",
              "}}\n",
              "\n",
              "                        })                };                            </script>        </div>\n",
              "</body>\n",
              "</html>"
            ]
          },
          "metadata": {}
        }
      ]
    },
    {
      "cell_type": "code",
      "source": [
        "# TO BE CONTINUED (in other notebook) . . ."
      ],
      "metadata": {
        "id": "9FFnrD1oWg8O"
      },
      "execution_count": 22,
      "outputs": []
    },
    {
      "cell_type": "code",
      "source": [
        ""
      ],
      "metadata": {
        "id": "JWXAtd67I9W2"
      },
      "execution_count": 22,
      "outputs": []
    },
    {
      "cell_type": "code",
      "source": [
        "# marketcap, sector and risk\n",
        "htmlBlock = soup.find(\"div\", class_=\"stock-labels\")\n",
        "titles = htmlBlock.find_all(\"span\", class_=\"stock-label-title\")\n",
        "descs = htmlBlock.find_all(\"span\", class_=\"stock-label-desc\")\n",
        "for title in titles:\n",
        "    print(title)\n",
        "for desc in descs:\n",
        "    print(desc)\n",
        "\n",
        "value = titles[0].text if titles[0] is not None else None\n",
        "print(value)\n",
        "value = descs[0].text if descs[0] is not None else None\n",
        "print(value)\n",
        "\n",
        "value = titles[1].text if titles[1] is not None else None\n",
        "print(value)\n",
        "value = descs[1].text if descs[1] is not None else None\n",
        "print(value)\n",
        "\n",
        "value = titles[2].text if titles[2] is not None else None\n",
        "print(value)\n",
        "value = descs[2].text if descs[2] is not None else None\n",
        "print(value)\n"
      ],
      "metadata": {
        "colab": {
          "base_uri": "https://localhost:8080/"
        },
        "id": "t6scN9siAUXa",
        "outputId": "6f28fe1e-52a4-49a7-f1d6-87e153b7f7b3"
      },
      "execution_count": 23,
      "outputs": [
        {
          "output_type": "stream",
          "name": "stdout",
          "text": [
            "<span class=\"jsx-1903139372 stock-label-title typography-body-medium-xs\">Information Technology</span>\n",
            "<span class=\"jsx-1903139372 stock-label-title typography-body-medium-xs\">Largecap</span>\n",
            "<span class=\"jsx-1903139372 stock-label-title typography-body-medium-xs\">Low Risk</span>\n",
            "<span class=\"jsx-1903139372 stock-label-desc typography-body-regular-m desktop--only\">IT Services &amp; Consulting</span>\n",
            "<span class=\"jsx-1903139372 stock-label-desc typography-body-regular-m desktop--only\">With a market cap of ₹13,54,574 cr, stock is ranked 2</span>\n",
            "<span class=\"jsx-1903139372 stock-label-desc typography-body-regular-m desktop--only\">Stock is 1.30x as volatile as Nifty</span>\n",
            "Information Technology\n",
            "IT Services & Consulting\n",
            "Largecap\n",
            "With a market cap of ₹13,54,574 cr, stock is ranked 2\n",
            "Low Risk\n",
            "Stock is 1.30x as volatile as Nifty\n"
          ]
        }
      ]
    },
    {
      "cell_type": "code",
      "source": [
        ""
      ],
      "metadata": {
        "id": "R6yLMkMlAUZ9"
      },
      "execution_count": 23,
      "outputs": []
    },
    {
      "cell_type": "code",
      "source": [
        ""
      ],
      "metadata": {
        "id": "iGqqb3XkAUca"
      },
      "execution_count": 23,
      "outputs": []
    },
    {
      "cell_type": "markdown",
      "source": [
        "### [3] Investment Checklist"
      ],
      "metadata": {
        "id": "BR3F0yCgpnIw"
      }
    },
    {
      "cell_type": "code",
      "source": [
        "# checklist-item carousel-item\n",
        "htmlBlock = soup.find(\"div\", class_=\"carousel-item\")\n",
        "# print(htmlBlock.prettify())"
      ],
      "metadata": {
        "id": "zg-X1ebllDSY"
      },
      "execution_count": 24,
      "outputs": []
    },
    {
      "cell_type": "code",
      "source": [
        "htmlBlock = soup.find(\"div\", class_=\"carousel-item\")\n",
        "\n",
        "# get all keys and values\n",
        "for item in htmlBlock.childGenerator():\n",
        "    key = item.find(\"span\", class_=\"tooltip-holder\").contents[0]\n",
        "    key = key.title().replace(\" \", \"\")\n",
        "    key = key[0].lower() + key[1:]\n",
        "    value = item.find(\"i\")['class'][3].split(\"-\")[1]\n",
        "\n",
        "    print(key, \"     \\t:\", value)"
      ],
      "metadata": {
        "colab": {
          "base_uri": "https://localhost:8080/"
        },
        "id": "-OZstV6glDcC",
        "outputId": "fa306599-38e2-4326-9a1e-073a2257d758"
      },
      "execution_count": 25,
      "outputs": [
        {
          "output_type": "stream",
          "name": "stdout",
          "text": [
            "intrinsicValue      \t: negative\n",
            "roeVsFdRates      \t: positive\n",
            "dividendReturns      \t: positive\n",
            "entryPoint      \t: positive\n",
            "noRedFlags      \t: positive\n"
          ]
        }
      ]
    },
    {
      "cell_type": "code",
      "source": [
        ""
      ],
      "metadata": {
        "id": "A-uCXOAoBcwB"
      },
      "execution_count": 25,
      "outputs": []
    },
    {
      "cell_type": "markdown",
      "source": [
        "### [4] Key Metrics"
      ],
      "metadata": {
        "id": "eo73RLqK1chc"
      }
    },
    {
      "cell_type": "code",
      "source": [
        "# ratios-card - PERatio, PBRatio, DividendYield, SectorPE, SectorPB, SectorDividendYield\n",
        "\n",
        "htmlBlock = soup.find(\"div\", class_=\"ratios-card\")\n",
        "# print(htmlBlock.prettify())\n",
        "\n",
        "keys = htmlBlock.select(\"span.ellipsis.desktop--only\")\n",
        "values = htmlBlock.find_all(\"div\", class_=\"value\")\n",
        "\n",
        "for i in range(len(keys)):\n",
        "    key = keys[i].text\n",
        "    key = key.replace(\" \", \"\")\n",
        "    value = values[i].text\n",
        "    value = None if str(value) == \"—\" else str(value)\n",
        "    print(key, \"\\t: \", value)\n"
      ],
      "metadata": {
        "id": "iNOzGEBI2D_h",
        "colab": {
          "base_uri": "https://localhost:8080/"
        },
        "outputId": "a76008b5-5f1c-4933-fd0a-81f6995322c1"
      },
      "execution_count": 26,
      "outputs": [
        {
          "output_type": "stream",
          "name": "stdout",
          "text": [
            "PERatio \t:  35.34\n",
            "PBRatio \t:  15.08\n",
            "DividendYield \t:  None\n",
            "SectorPE \t:  34.71\n",
            "SectorPB \t:  9.07\n",
            "SectorDivYld \t:  0.79%\n"
          ]
        }
      ]
    },
    {
      "cell_type": "code",
      "source": [
        ""
      ],
      "metadata": {
        "id": "a8QciuHzcCSK"
      },
      "execution_count": 26,
      "outputs": []
    },
    {
      "cell_type": "markdown",
      "source": [
        "### [5] Forecast & Ratings"
      ],
      "metadata": {
        "id": "_XWI16cP1cj4"
      }
    },
    {
      "cell_type": "code",
      "source": [
        "# Forecast\n",
        "htmlBlock = soup.find(\"div\", class_=\"forecast-radial\")\n",
        "# print(htmlBlock.prettify())"
      ],
      "metadata": {
        "id": "u45ihTJ_1ri8"
      },
      "execution_count": 27,
      "outputs": []
    },
    {
      "cell_type": "code",
      "source": [
        "# get forcast percentage\n",
        "\n",
        "value = htmlBlock.div.span.contents[0] if str(htmlBlock.div.span.contents[0]) != \"—\" else \"\"\n",
        "print(value)\n",
        "\n",
        "symbol = htmlBlock.div.span.span.text if htmlBlock.div.span.span is not None else \"\"\n",
        "print(symbol)\n",
        "\n",
        "print(value + symbol if (value + symbol) != \"\" else None)"
      ],
      "metadata": {
        "colab": {
          "base_uri": "https://localhost:8080/"
        },
        "id": "uhBslxTp38Qe",
        "outputId": "7bb7a681-8f46-478d-84a3-abd74aaf80ba"
      },
      "execution_count": 28,
      "outputs": [
        {
          "output_type": "stream",
          "name": "stdout",
          "text": [
            "51\n",
            "%\n",
            "51%\n"
          ]
        }
      ]
    },
    {
      "cell_type": "code",
      "source": [
        "\"\" + \"\""
      ],
      "metadata": {
        "id": "bSge6J4Z2Joq",
        "colab": {
          "base_uri": "https://localhost:8080/",
          "height": 35
        },
        "outputId": "664428a8-2b86-4c00-d4db-878bc6c79766"
      },
      "execution_count": 29,
      "outputs": [
        {
          "output_type": "execute_result",
          "data": {
            "text/plain": [
              "''"
            ],
            "application/vnd.google.colaboratory.intrinsic+json": {
              "type": "string"
            }
          },
          "metadata": {},
          "execution_count": 29
        }
      ]
    },
    {
      "cell_type": "code",
      "source": [
        "# get forcast text\n",
        "value = htmlBlock.h4.text if htmlBlock.h4 is not None else None\n",
        "print(value)"
      ],
      "metadata": {
        "colab": {
          "base_uri": "https://localhost:8080/"
        },
        "id": "tZj0heN_2JmP",
        "outputId": "40abb100-fb0d-423c-d023-e7c89dbc2458"
      },
      "execution_count": 30,
      "outputs": [
        {
          "output_type": "stream",
          "name": "stdout",
          "text": [
            "Analysts have suggested that investors can buy this stock\n"
          ]
        }
      ]
    },
    {
      "cell_type": "code",
      "source": [
        ""
      ],
      "metadata": {
        "id": "WZDuVZEJ3WCb"
      },
      "execution_count": 30,
      "outputs": []
    },
    {
      "cell_type": "markdown",
      "source": [
        "# Let us try and extract data (from all the pages)"
      ],
      "metadata": {
        "id": "MwF82Yx93WQ3"
      }
    },
    {
      "cell_type": "markdown",
      "source": [
        "Import scraped data containing all stock/etf names and subdirectory, <br>\n",
        "and Hit \"https://www.tickertape.in/stocks/{stock-name}\""
      ],
      "metadata": {
        "id": "3J4teIPY4WR3"
      }
    },
    {
      "cell_type": "code",
      "source": [
        "with open('top-company-list.json', 'r') as fp:\n",
        "    topcompanies = json.load(fp)\n",
        "\n",
        "topcompanies[0]"
      ],
      "metadata": {
        "id": "s-0iLhJd3nVm",
        "outputId": "f69b7319-b764-428d-b85f-189603567332",
        "colab": {
          "base_uri": "https://localhost:8080/"
        }
      },
      "execution_count": 31,
      "outputs": [
        {
          "output_type": "execute_result",
          "data": {
            "text/plain": [
              "{'name': 'Adani Enterprises Ltd',\n",
              " 'subdirectory': 'adani-enterprises-ADEL',\n",
              " 'type': 'stocks'}"
            ]
          },
          "metadata": {},
          "execution_count": 31
        }
      ]
    },
    {
      "cell_type": "code",
      "source": [
        "with open('full-company-list.json', 'r') as fp:\n",
        "    allcompanies = json.load(fp)\n",
        "\n",
        "allcompanies[0]"
      ],
      "metadata": {
        "id": "9dxNjdbj3n6a",
        "outputId": "c9663e03-fc3b-476a-b033-d61814dfd355",
        "colab": {
          "base_uri": "https://localhost:8080/"
        }
      },
      "execution_count": 32,
      "outputs": [
        {
          "output_type": "execute_result",
          "data": {
            "text/plain": [
              "{'name': 'A & M Febcon Ltd',\n",
              " 'subdirectory': 'a-and-m-febcon-AMF',\n",
              " 'type': 'stocks'}"
            ]
          },
          "metadata": {},
          "execution_count": 32
        }
      ]
    },
    {
      "cell_type": "code",
      "source": [
        ""
      ],
      "metadata": {
        "id": "-GSihzev3n8-"
      },
      "execution_count": 32,
      "outputs": []
    },
    {
      "cell_type": "code",
      "source": [
        "def scrapeTickertape(name, stocktype, subdirectory):\n",
        "    _url = \"https://www.tickertape.in/\" + stocktype + \"/\" + subdirectory\n",
        "    _data = {}\n",
        "\n",
        "    try:\n",
        "        # hit the page and get html\n",
        "        _header = {\n",
        "            \"User-Agent\": \"Mozilla/5.0 (Windows NT 10.0; Win64; x64) AppleWebKit/537.36 (KHTML, like Gecko) Chrome/80.0.3987.163 Safari/537.36\"\n",
        "        }\n",
        "        _response = requests.get(_url, headers=_header)\n",
        "\n",
        "        # give the webpage to Beautiful Soup using parsers: \"html.parser\" or \"lxml\"\n",
        "        _soup = BeautifulSoup(_response.text, 'lxml')\n",
        "\n",
        "        ######### extract html data from webpage and form output data #########\n",
        "\n",
        "        ##### [1] Basics #####\n",
        "        # company name\n",
        "        _htmlBlock = _soup.find(\"h3\", class_=\"security-name\")\n",
        "        _data[\"name\"] = _htmlBlock.text if _htmlBlock is not None else None\n",
        "\n",
        "        # ticker name\n",
        "        _htmlBlock = _soup.find(\"span\", class_=\"ticker\")\n",
        "        _data[\"ticker\"] = _htmlBlock.text if _htmlBlock is not None else None\n",
        "\n",
        "        # type\n",
        "        _data[\"type\"] = stocktype\n",
        "\n",
        "        # current price\n",
        "        _htmlBlock = _soup.find(\"span\", class_=\"current-price\")\n",
        "        _data[\"price\"] = _htmlBlock.text if _htmlBlock is not None else None\n",
        "\n",
        "        # marketcap, sector and risk\n",
        "        _htmlBlock = _soup.find(\"div\", class_=\"stock-labels\")\n",
        "        _htmlBlock = _htmlBlock.find_all(\"span\", class_=\"stock-label-title\")\n",
        "        _data[\"sector\"] = _htmlBlock[0].text if _htmlBlock[0] is not None else None\n",
        "        _data[\"marketcap\"] = _htmlBlock[1].text if _htmlBlock[1] is not None else None\n",
        "        _data[\"risk\"] = _htmlBlock[2].text if _htmlBlock[2] is not None else None\n",
        "\n",
        "        # profile\n",
        "        _htmlBlock = _soup.find(\"div\", class_=\"peers-card\")\n",
        "        _value_h = _htmlBlock.h2.text if _htmlBlock.h2 is not None else \"\"\n",
        "        _value_p = _htmlBlock.p.text if _htmlBlock.p is not None else \"\"\n",
        "        _data[\"profile\"] = _value_h + \": \" + _value_p if (_value_h + _value_p) != \"\" else None\n",
        "\n",
        "        ##### [2] Overview #####\n",
        "        _overview = {}\n",
        "\n",
        "        # current price\n",
        "        _htmlBlock = _soup.find(\"span\", class_=\"current-price\")\n",
        "        _overview[\"currentPrice\"] = _htmlBlock.text if _htmlBlock is not None else None\n",
        "\n",
        "        # change absolute-value\n",
        "        _htmlBlock = _soup.find(\"span\", class_=\"absolute-value\")\n",
        "        _overview[\"absoluteChange\"] = _htmlBlock.text if _htmlBlock is not None else None\n",
        "\n",
        "        # change percentage-value\n",
        "        _htmlBlock = _soup.find(\"span\", class_=\"percentage-value\")\n",
        "        _overview[\"percentageChange\"] = str(_htmlBlock.text).replace(\"(\", \"\").replace(\")\", \"\").strip() if _htmlBlock is not None else None\n",
        "\n",
        "        # marketcap, sector and risk\n",
        "        _htmlBlock = _soup.find(\"div\", class_=\"stock-labels\")\n",
        "        _title = _htmlBlock.find_all(\"span\", class_=\"stock-label-title\")\n",
        "        _desc = _htmlBlock.find_all(\"span\", class_=\"stock-label-desc\")\n",
        "\n",
        "        _overview[\"sectorType\"] = _title[0].text if _title[0] is not None else None\n",
        "        _overview[\"sectorDesc\"] = _desc[0].text if _desc[0] is not None else None\n",
        "\n",
        "        _overview[\"capType\"] = _title[1].text if _title[1] is not None else None\n",
        "        _overview[\"capDesc\"] = _desc[1].text if _desc[1] is not None else None\n",
        "\n",
        "        _overview[\"riskType\"] = _title[2].text if _title[2] is not None else None\n",
        "        _overview[\"riskDesc\"] = _desc[2].text if _desc[2] is not None else None\n",
        "\n",
        "        # put overview into data\n",
        "        _data[\"overview\"] = _overview\n",
        "\n",
        "        ##### [3] Investment Checklist #####\n",
        "        _investmentChecklist = {}\n",
        "\n",
        "        # checklist carousel-item get all keys and values\n",
        "        _htmlBlock = _soup.find(\"div\", class_=\"carousel-item\")\n",
        "        for _item in _htmlBlock.childGenerator():\n",
        "            _key = _item.find(\"span\", class_=\"tooltip-holder\").contents[0]\n",
        "            _key = _key.title().replace(\" \", \"\")\n",
        "            _key = _key[0].lower() + _key[1:]\n",
        "            _value = _item.find(\"i\")['class'][3].split(\"-\")[1]\n",
        "            _investmentChecklist[_key] = _value\n",
        "\n",
        "        # put investmentChecklist into data\n",
        "        _data[\"investmentChecklist\"] = _investmentChecklist\n",
        "\n",
        "        ##### [4] Key Metrics #####\n",
        "        _keyMetrics = {}\n",
        "\n",
        "        # PERatio, PBRatio, DividendYield, SectorPE, SectorPB, SectorDividendYield\n",
        "        _htmlBlock = _soup.find(\"div\", class_=\"ratios-card\")\n",
        "        _keys = _htmlBlock.select(\"span.ellipsis.desktop--only\")\n",
        "        _values = _htmlBlock.find_all(\"div\", class_=\"value\")\n",
        "        for i in range(len(_keys)):\n",
        "            _key = _keys[i].text\n",
        "            _key = _key.replace(\" \", \"\")\n",
        "            _value = _values[i].text\n",
        "            _value = None if str(_value) == \"—\" else str(_value)\n",
        "            _keyMetrics[_key] = _value\n",
        "\n",
        "        # put keyMetrics into data\n",
        "        _data[\"keyMetrics\"] = _keyMetrics\n",
        "\n",
        "        ##### [5] Forecast & Ratings #####\n",
        "        _forecasts = {}\n",
        "\n",
        "        # Forecast\n",
        "        _htmlBlock = _soup.find(\"div\", class_=\"forecast-radial\")\n",
        "        _value = _htmlBlock.div.span.contents[0] if str(_htmlBlock.div.span.contents[0]) != \"—\" else \"\"\n",
        "        _symbol = _htmlBlock.div.span.span.text if _htmlBlock.div.span.span is not None else \"\"\n",
        "        _forecasts[\"buyRecommendation\"] = _value + _symbol if (_value + _symbol) != \"\" else None\n",
        "        _forecasts[\"forecast\"] = _htmlBlock.h4.text if _htmlBlock.h4 is not None else None\n",
        "\n",
        "        # put keyMetrics into data\n",
        "        _data[\"forecasts\"] = _forecasts\n",
        "\n",
        "        # return the scraped data\n",
        "        return _data\n",
        "    except Exception as _e:\n",
        "        print(_e)\n",
        "        return []\n"
      ],
      "metadata": {
        "id": "V0fow5JZ6J1W"
      },
      "execution_count": 33,
      "outputs": []
    },
    {
      "cell_type": "code",
      "source": [
        "scrapeTickertape(topcompanies[0][\"name\"], topcompanies[0][\"type\"], topcompanies[0][\"subdirectory\"])"
      ],
      "metadata": {
        "id": "nGBNt8gW6J3v",
        "outputId": "c91c2d60-0aaf-4888-bd6d-5104d9486353",
        "colab": {
          "base_uri": "https://localhost:8080/"
        }
      },
      "execution_count": 34,
      "outputs": [
        {
          "output_type": "execute_result",
          "data": {
            "text/plain": [
              "{'forecasts': {'buyRecommendation': '0%',\n",
              "  'forecast': 'Analysts have suggested that investors can buy this stock'},\n",
              " 'investmentChecklist': {'dividendReturns': 'negative',\n",
              "  'entryPoint': 'negative',\n",
              "  'intrinsicValue': 'negative',\n",
              "  'noRedFlags': 'positive',\n",
              "  'roeVsFdRates': 'negative'},\n",
              " 'keyMetrics': {'DividendYield': '0.05%',\n",
              "  'PBRatio': '12.79',\n",
              "  'PERatio': '262.18',\n",
              "  'SectorDivYld': '0.65%',\n",
              "  'SectorPB': '5.20',\n",
              "  'SectorPE': '67.74'},\n",
              " 'marketcap': 'Largecap',\n",
              " 'name': 'Adani Enterprises Ltd',\n",
              " 'overview': {'absoluteChange': '0.00%',\n",
              "  'capDesc': 'With a market cap of ₹2,41,897 cr, stock is ranked 23',\n",
              "  'capType': 'Largecap',\n",
              "  'currentPrice': '2,199.45',\n",
              "  'percentageChange': '+0.00',\n",
              "  'riskDesc': 'Stock is 2.70x as volatile as Nifty',\n",
              "  'riskType': 'Moderate Risk',\n",
              "  'sectorDesc': 'Commodities Trading',\n",
              "  'sectorType': 'Industrials'},\n",
              " 'price': '2,199.45',\n",
              " 'profile': 'Company Profile: Adani Enterprises Limited is an infrastructure company with businesses spanning coal trading, coal mining, oil and gas exploration, ports, multi-modal logistics, power generation, and transmission and gas distribution. ',\n",
              " 'risk': 'Moderate Risk',\n",
              " 'sector': 'Industrials',\n",
              " 'ticker': 'ADANIENT',\n",
              " 'type': 'stocks'}"
            ]
          },
          "metadata": {},
          "execution_count": 34
        }
      ]
    },
    {
      "cell_type": "code",
      "source": [
        "# let's scrape all the stocks & etfs!\n",
        "topStocksData = []\n",
        "count = 0\n",
        "\n",
        "for companies in topcompanies:\n",
        "    companyName = companies[\"name\"]\n",
        "    companyType = companies[\"type\"]\n",
        "    companyDir = companies[\"subdirectory\"]\n",
        "    print(companyName, \"url: https://www.tickertape.in/\" + companyType + \"/\" + companyDir)\n",
        "    try:\n",
        "        # get data from each page and append to data list\n",
        "        if companyType == \"stocks\":\n",
        "            topStocksData.append(scrapeTickertape(companyName, companyType, companyDir))\n",
        "            print(\"successful!\")\n",
        "            count += 1\n",
        "    except Exception as _e:\n",
        "        # some issue occured, catch exception\n",
        "        print(\"failed!\")\n",
        "        print(_e)\n",
        "\n",
        "print(count, \"/\", len(topcompanies), \"completed\")"
      ],
      "metadata": {
        "id": "b6oT7m8iE-lT",
        "colab": {
          "base_uri": "https://localhost:8080/"
        },
        "outputId": "43123ac3-faed-4199-e2c9-446af49064c5"
      },
      "execution_count": 35,
      "outputs": [
        {
          "output_type": "stream",
          "name": "stdout",
          "text": [
            "Adani Enterprises Ltd url: https://www.tickertape.in/stocks/adani-enterprises-ADEL\n",
            "successful!\n",
            "Adani Green Energy Ltd url: https://www.tickertape.in/stocks/adani-green-energy-ADNA\n",
            "successful!\n",
            "Adani Ports and Special Economic Zone Ltd url: https://www.tickertape.in/stocks/adani-ports-and-special-economic-zone-APSE\n",
            "successful!\n",
            "Adani Power Ltd url: https://www.tickertape.in/stocks/adani-power-ADAN\n",
            "successful!\n",
            "Adani Total Gas Ltd url: https://www.tickertape.in/stocks/adani-gas-ADAG\n",
            "successful!\n",
            "Adani Transmission Ltd url: https://www.tickertape.in/stocks/adani-transmission-ADAI\n",
            "successful!\n",
            "Adani Wilmar Ltd url: https://www.tickertape.in/stocks/adani-wilmar-AWL\n",
            "successful!\n",
            "Ambuja Cements Ltd url: https://www.tickertape.in/stocks/ambuja-cements-ABUJ\n",
            "successful!\n",
            "Apollo Hospitals Enterprise Ltd url: https://www.tickertape.in/stocks/apollo-hospitals-enterprise-APLH\n",
            "successful!\n",
            "Asian Paints Ltd url: https://www.tickertape.in/stocks/asian-paints-ASPN\n",
            "successful!\n",
            "Avenue Supermarts Ltd url: https://www.tickertape.in/stocks/avenue-supermarts-AVEU\n",
            "successful!\n",
            "Axis Bank Ltd url: https://www.tickertape.in/stocks/axis-bank-AXBK\n",
            "successful!\n",
            "Bajaj Auto Ltd url: https://www.tickertape.in/stocks/bajaj-auto-BAJA\n",
            "successful!\n",
            "Bajaj Finance Ltd url: https://www.tickertape.in/stocks/bajaj-finance-BJFN\n",
            "successful!\n",
            "Bajaj Finserv Ltd url: https://www.tickertape.in/stocks/bajaj-finserv-BJFS\n",
            "successful!\n",
            "Bajaj Holdings and Investment Ltd url: https://www.tickertape.in/stocks/bajaj-holdings-and-investment-BJAT\n",
            "successful!\n",
            "Bandhan Bank Ltd url: https://www.tickertape.in/stocks/bandhan-bank-BANH\n",
            "successful!\n",
            "Bank of Baroda Ltd url: https://www.tickertape.in/stocks/bank-of-baroda-BOB\n",
            "successful!\n",
            "Berger Paints India Ltd url: https://www.tickertape.in/stocks/berger-paints-india-BRGR\n",
            "successful!\n",
            "Bharat Electronics Ltd url: https://www.tickertape.in/stocks/bharat-electronics-BAJE\n",
            "successful!\n",
            "Bharat Petroleum Corporation Ltd url: https://www.tickertape.in/stocks/bharat-petroleum-corporation-BPCL\n",
            "successful!\n",
            "Bharti Airtel Ltd url: https://www.tickertape.in/stocks/bharti-airtel-BRTI\n",
            "successful!\n",
            "Britannia Industries Ltd url: https://www.tickertape.in/stocks/britannia-industries-BRIT\n",
            "successful!\n",
            "Cholamandalam Investment and Finance Company Ltd url: https://www.tickertape.in/stocks/cholamandalam-investment-and-finance-company-CHLA\n",
            "successful!\n",
            "Cipla Ltd url: https://www.tickertape.in/stocks/cipla-CIPL\n",
            "successful!\n",
            "Coal India Ltd url: https://www.tickertape.in/stocks/coal-india-COAL\n",
            "successful!\n",
            "DLF Ltd url: https://www.tickertape.in/stocks/dlf-DLF\n",
            "successful!\n",
            "Dabur India Ltd url: https://www.tickertape.in/stocks/dabur-india-DABU\n",
            "successful!\n",
            "Divi's Laboratories Ltd url: https://www.tickertape.in/stocks/divis-laboratories-DIVI\n",
            "successful!\n",
            "Dr Reddy's Laboratories Ltd url: https://www.tickertape.in/stocks/drreddys-laboratories-REDY\n",
            "successful!\n",
            "Eicher Motors Ltd url: https://www.tickertape.in/stocks/eicher-motors-EICH\n",
            "successful!\n",
            "Fsn E-Commerce Ventures Ltd url: https://www.tickertape.in/stocks/fsn-e-commerce-ventures-NYK\n",
            "successful!\n",
            "GAIL (India) Ltd url: https://www.tickertape.in/stocks/gail-india-GAIL\n",
            "successful!\n",
            "Gland Pharma Ltd url: https://www.tickertape.in/stocks/gland-pharma-GLAN\n",
            "successful!\n",
            "Godrej Consumer Products Ltd url: https://www.tickertape.in/stocks/godrej-consumer-products-GOCP\n",
            "successful!\n",
            "Grasim Industries Ltd url: https://www.tickertape.in/stocks/grasim-industries-GRAS\n",
            "successful!\n",
            "HCL Technologies Ltd url: https://www.tickertape.in/stocks/hcl-technologies-HCLT\n",
            "successful!\n",
            "HDFC Bank Ltd url: https://www.tickertape.in/stocks/hdfc-bank-HDBK\n",
            "successful!\n",
            "HDFC Life Insurance Company Ltd url: https://www.tickertape.in/stocks/hdfc-life-insurance-company-HDFL\n",
            "successful!\n",
            "Havells India Ltd url: https://www.tickertape.in/stocks/havells-india-HVEL\n",
            "successful!\n",
            "Hindalco Industries Ltd url: https://www.tickertape.in/stocks/hindalco-industries-HALC\n",
            "successful!\n",
            "Hindustan Aeronautics Ltd url: https://www.tickertape.in/stocks/hindustan-aeronautics-HIAE\n",
            "successful!\n",
            "Hindustan Unilever Ltd url: https://www.tickertape.in/stocks/hindustan-unilever-HLL\n",
            "successful!\n",
            "Hindustan Zinc Ltd url: https://www.tickertape.in/stocks/hindustan-zinc-HZNC\n",
            "successful!\n",
            "Housing Development Finance Corporation Ltd url: https://www.tickertape.in/stocks/housing-development-finance-corporation-HDFC\n",
            "successful!\n",
            "ICICI Bank Ltd url: https://www.tickertape.in/stocks/icici-bank-ICBK\n",
            "successful!\n",
            "ICICI Lombard General Insurance Company Ltd url: https://www.tickertape.in/stocks/icici-lombard-general-insurance-company-ICIL\n",
            "successful!\n",
            "ICICI Prudential Life Insurance Company Ltd url: https://www.tickertape.in/stocks/icici-prudential-life-insurance-company-ICIR\n",
            "successful!\n",
            "ITC Ltd url: https://www.tickertape.in/stocks/itc-ITC\n",
            "successful!\n",
            "Indian Oil Corporation Ltd url: https://www.tickertape.in/stocks/indian-oil-corporation-IOC\n",
            "successful!\n",
            "Indian Railway Catering and Tourism Corporation Ltd url: https://www.tickertape.in/stocks/indian-railway-catering-and-tourism-corporation-INIR\n",
            "successful!\n",
            "Indus Towers Ltd url: https://www.tickertape.in/stocks/bharti-infratel-BHRI\n",
            "successful!\n",
            "Indusind Bank Ltd url: https://www.tickertape.in/stocks/indusind-bank-INBK\n",
            "successful!\n",
            "Info Edge (India) Ltd url: https://www.tickertape.in/stocks/info-edge-india-INED\n",
            "successful!\n",
            "Infosys Ltd url: https://www.tickertape.in/stocks/infosys-INFY\n",
            "successful!\n",
            "Interglobe Aviation Ltd url: https://www.tickertape.in/stocks/interglobe-aviation-INGL\n",
            "successful!\n",
            "JSW Energy Ltd url: https://www.tickertape.in/stocks/jsw-energy-JSWE\n",
            "successful!\n",
            "JSW Steel Ltd url: https://www.tickertape.in/stocks/jsw-steel-JSTL\n",
            "successful!\n",
            "Jindal Steel And Power Ltd url: https://www.tickertape.in/stocks/jindal-steel-and-power-JNSP\n",
            "successful!\n",
            "Kotak Mahindra Bank Ltd url: https://www.tickertape.in/stocks/kotak-mahindra-bank-KTKM\n",
            "successful!\n",
            "L&T Technology Services Ltd url: https://www.tickertape.in/stocks/landt-technology-services-LTEH\n",
            "successful!\n",
            "Larsen & Toubro Infotech Ltd url: https://www.tickertape.in/stocks/larsen-and-toubro-infotech-LRTI\n",
            "successful!\n",
            "Larsen & Toubro Ltd url: https://www.tickertape.in/stocks/larsen-and-toubro-LART\n",
            "successful!\n",
            "Macrotech Developers Ltd url: https://www.tickertape.in/stocks/macrotech-developers-LOD\n",
            "successful!\n",
            "Mahindra and Mahindra Ltd url: https://www.tickertape.in/stocks/mahindra-and-mahindra-MAHM\n",
            "successful!\n",
            "Marico Ltd url: https://www.tickertape.in/stocks/marico-MRCO\n",
            "successful!\n",
            "Maruti Suzuki India Ltd url: https://www.tickertape.in/stocks/maruti-suzuki-india-MRTI\n",
            "successful!\n",
            "MindTree Ltd url: https://www.tickertape.in/stocks/mindtree-MINT\n",
            "successful!\n",
            "Motherson Sumi Systems Ltd url: https://www.tickertape.in/stocks/motherson-sumi-systems-MOSS\n",
            "successful!\n",
            "Mphasis Ltd url: https://www.tickertape.in/stocks/mphasis-MBFL\n",
            "successful!\n",
            "Muthoot Finance Ltd url: https://www.tickertape.in/stocks/muthoot-finance-MUTT\n",
            "successful!\n",
            "NTPC Ltd url: https://www.tickertape.in/stocks/ntpc-NTPC\n",
            "successful!\n",
            "Nestle India Ltd url: https://www.tickertape.in/stocks/nestle-india-NEST\n",
            "successful!\n",
            "Oil and Natural Gas Corporation Ltd url: https://www.tickertape.in/stocks/oil-and-natural-gas-corporation-ONGC\n",
            "successful!\n",
            "Pidilite Industries Ltd url: https://www.tickertape.in/stocks/pidilite-industries-PIDI\n",
            "successful!\n",
            "Piramal Enterprises Ltd url: https://www.tickertape.in/stocks/piramal-enterprises-PIRA\n",
            "successful!\n",
            "Power Grid Corporation of India Ltd url: https://www.tickertape.in/stocks/power-grid-corporation-of-india-PGRD\n",
            "successful!\n",
            "Reliance Industries Ltd url: https://www.tickertape.in/stocks/reliance-industries-RELI\n",
            "successful!\n",
            "SBI Cards and Payment Services Ltd url: https://www.tickertape.in/stocks/sbi-cards-and-payment-services-SBIC\n",
            "successful!\n",
            "SBI Life Insurance Company Ltd url: https://www.tickertape.in/stocks/sbi-life-insurance-company-SBIL\n",
            "successful!\n",
            "SRF Ltd url: https://www.tickertape.in/stocks/srf-SRFL\n",
            "successful!\n",
            "Shree Cement Ltd url: https://www.tickertape.in/stocks/shree-cement-SHCM\n",
            "successful!\n",
            "Siemens Ltd url: https://www.tickertape.in/stocks/siemens-SIEM\n",
            "successful!\n",
            "State Bank of India url: https://www.tickertape.in/stocks/state-bank-of-india-SBI\n",
            "successful!\n",
            "Sun Pharmaceutical Industries Ltd url: https://www.tickertape.in/stocks/sun-pharmaceutical-industries-SUN\n",
            "successful!\n",
            "Tata Consultancy Services Ltd url: https://www.tickertape.in/stocks/tata-consultancy-services-TCS\n",
            "successful!\n",
            "Tata Consumer Products Ltd url: https://www.tickertape.in/stocks/tata-consumer-products-TACN\n",
            "successful!\n",
            "Tata Elxsi Ltd url: https://www.tickertape.in/stocks/tata-elxsi-TTEX\n",
            "successful!\n",
            "Tata Motors Ltd - DVR url: https://www.tickertape.in/stocks/tata-motors---dvr-TAMdv\n",
            "successful!\n",
            "Tata Motors Ltd url: https://www.tickertape.in/stocks/tata-motors-TAMO\n",
            "successful!\n",
            "Tata Power Company Ltd url: https://www.tickertape.in/stocks/tata-power-company-TTPW\n",
            "successful!\n",
            "Tata Steel Ltd url: https://www.tickertape.in/stocks/tata-steel-TISC\n",
            "successful!\n",
            "Tech Mahindra Ltd url: https://www.tickertape.in/stocks/tech-mahindra-TEML\n",
            "successful!\n",
            "Titan Company Ltd url: https://www.tickertape.in/stocks/titan-company-TITN\n",
            "successful!\n",
            "UPL Ltd url: https://www.tickertape.in/stocks/upl-UPLL\n",
            "successful!\n",
            "UltraTech Cement Ltd url: https://www.tickertape.in/stocks/ultratech-cement-ULTC\n",
            "successful!\n",
            "United Spirits Ltd url: https://www.tickertape.in/stocks/united-spirits-UNSP\n",
            "successful!\n",
            "Vedanta Ltd url: https://www.tickertape.in/stocks/vedanta-VDAN\n",
            "successful!\n",
            "Wipro Ltd url: https://www.tickertape.in/stocks/wipro-WIPR\n",
            "successful!\n",
            "Zomato Ltd url: https://www.tickertape.in/stocks/zomato-ZOM\n",
            "successful!\n",
            "100 / 100 completed\n"
          ]
        }
      ]
    },
    {
      "cell_type": "code",
      "source": [
        ""
      ],
      "metadata": {
        "id": "R70dmgT1IVis"
      },
      "execution_count": 35,
      "outputs": []
    },
    {
      "cell_type": "code",
      "source": [
        "# # let's scrape all the stocks & etfs!\n",
        "# allStocksData = []\n",
        "# count = 0\n",
        "\n",
        "# for companies in allcompanies:\n",
        "#     companyName = companies[\"name\"]\n",
        "#     companyType = companies[\"type\"]\n",
        "#     companyDir = companies[\"subdirectory\"]\n",
        "#     print(companyName, \"url: https://www.tickertape.in/\" + companyType + \"/\" + companyDir)\n",
        "#     try:\n",
        "#         # get data from each page and append to data list\n",
        "#         if companyType == \"stocks\":\n",
        "#             topStocksData.append(scrapeTickertape(companyName, companyType, companyDir))\n",
        "#             print(\"successful!\")\n",
        "#             count += 1\n",
        "#     except Exception as _e:\n",
        "#         # some issue occured, catch exception\n",
        "#         print(\"failed!\")\n",
        "#         print(_e)\n",
        "\n",
        "# print(count, \"/\", len(topcompanies), \"completed\")"
      ],
      "metadata": {
        "id": "f6zmsCqVHgA8"
      },
      "execution_count": 36,
      "outputs": []
    },
    {
      "cell_type": "code",
      "source": [
        ""
      ],
      "metadata": {
        "id": "hEI4HLqVIaLB"
      },
      "execution_count": 36,
      "outputs": []
    },
    {
      "cell_type": "markdown",
      "source": [
        "## Exporting the data"
      ],
      "metadata": {
        "id": "6964EOvnJUlX"
      }
    },
    {
      "cell_type": "code",
      "source": [
        "with open(\"top-company-tickertape-data.json\", \"w\") as outfile:\n",
        "    json.dump(topStocksData, outfile)"
      ],
      "metadata": {
        "id": "XjUL8nkcIaOa"
      },
      "execution_count": 37,
      "outputs": []
    },
    {
      "cell_type": "code",
      "source": [
        "# with open(\"all-company-tickertape-data.json\", \"w\") as outfile:\n",
        "#     json.dump(allStocksData, outfile)"
      ],
      "metadata": {
        "id": "hyvH5cFuJbHG"
      },
      "execution_count": 38,
      "outputs": []
    },
    {
      "cell_type": "code",
      "source": [
        ""
      ],
      "metadata": {
        "id": "w-KAZwEXi-3y"
      },
      "execution_count": 38,
      "outputs": []
    }
  ]
}