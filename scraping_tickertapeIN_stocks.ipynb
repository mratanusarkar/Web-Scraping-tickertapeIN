{
  "nbformat": 4,
  "nbformat_minor": 0,
  "metadata": {
    "colab": {
      "name": "Web Scraping tickertapeIN - stocks.ipynb",
      "provenance": [],
      "authorship_tag": "ABX9TyNx1Q/dDBF2qfU1aSDujnlk",
      "include_colab_link": true
    },
    "kernelspec": {
      "name": "python3",
      "display_name": "Python 3"
    },
    "language_info": {
      "name": "python"
    }
  },
  "cells": [
    {
      "cell_type": "markdown",
      "metadata": {
        "id": "view-in-github",
        "colab_type": "text"
      },
      "source": [
        "<a href=\"https://colab.research.google.com/github/mratanusarkar/Web-Scraping-tickertapeIN/blob/feature%2Fscrape-all-sections/scraping_tickertapeIN_stocks.ipynb\" target=\"_parent\"><img src=\"https://colab.research.google.com/assets/colab-badge.svg\" alt=\"Open In Colab\"/></a>"
      ]
    },
    {
      "cell_type": "markdown",
      "source": [
        "# Web Scraping stock data from tickertape.in"
      ],
      "metadata": {
        "id": "vVeC3IHLbQ1S"
      }
    },
    {
      "cell_type": "markdown",
      "source": [
        "**Input**: stock name in \"https://www.tickertape.in/stocks/{stock-name}\" <br>\n",
        "**Output**: full stock data & predictions from tickertape in JSON/Py Dictionary format\n"
      ],
      "metadata": {
        "id": "gwGMUzOsbfK_"
      }
    },
    {
      "cell_type": "markdown",
      "source": [
        "## Import Packages"
      ],
      "metadata": {
        "id": "OcFpi1cFcDW0"
      }
    },
    {
      "cell_type": "code",
      "source": [
        "import numpy as np\n",
        "import pandas as pd\n",
        "import requests\n",
        "from bs4 import BeautifulSoup\n",
        "\n",
        "import json\n",
        "import time\n",
        "from datetime import timedelta"
      ],
      "metadata": {
        "id": "c0wD-RzybeO9"
      },
      "execution_count": 26,
      "outputs": []
    },
    {
      "cell_type": "markdown",
      "source": [
        "## Request and Fetch the Webpage"
      ],
      "metadata": {
        "id": "igOJKmX7cIWj"
      }
    },
    {
      "cell_type": "markdown",
      "source": [
        "Let's try with a sample stock name, say \"TCS\""
      ],
      "metadata": {
        "id": "Pcn82_QzcLGq"
      }
    },
    {
      "cell_type": "code",
      "source": [
        "# enter company subdirectory\n",
        "# subdir = \"tata-consultancy-services-TCS\"\n",
        "subdir = \"adani-green-energy-ADNA\""
      ],
      "metadata": {
        "id": "2VvAxCA37RBN"
      },
      "execution_count": 27,
      "outputs": []
    },
    {
      "cell_type": "code",
      "source": [
        "# hit \"https://www.tickertape.in/stocks/tata-consultancy-services-TCS\"\n",
        "requests.get(\"https://www.tickertape.in/stocks/\" + subdir)"
      ],
      "metadata": {
        "colab": {
          "base_uri": "https://localhost:8080/"
        },
        "id": "uN6CTb4tcWTd",
        "outputId": "a338159f-460d-4dca-cea3-89065750a855"
      },
      "execution_count": 28,
      "outputs": [
        {
          "output_type": "execute_result",
          "data": {
            "text/plain": [
              "<Response [200]>"
            ]
          },
          "metadata": {},
          "execution_count": 28
        }
      ]
    },
    {
      "cell_type": "code",
      "source": [
        "# wow! no restriction for bots! no need of any headers!\n",
        "response = requests.get(\"https://www.tickertape.in/stocks/\" + subdir)\n",
        "response.text[0:500]"
      ],
      "metadata": {
        "colab": {
          "base_uri": "https://localhost:8080/",
          "height": 70
        },
        "id": "O-3k6Ngicr2N",
        "outputId": "851690ab-a9cd-4334-e7a4-78141a1da618"
      },
      "execution_count": 29,
      "outputs": [
        {
          "output_type": "execute_result",
          "data": {
            "text/plain": [
              "'<!DOCTYPE html><html lang=\"en-US\"><head><meta http-equiv=\"X-UA-Compatible\" content=\"IE=edge\"/><link rel=\"shortcut icon\" href=\"/favicon/favicon.png\"/><link rel=\"apple-touch-icon\" href=\"/favicon/favicon-192x192.png\"/><link rel=\"manifest\" href=\"/manifest/manifest.json\"/><style type=\"text/css\">:root {--white: #ffffff; --font_primary: #535B62; --font_dark: #2f363f; --font_light: #81878c; --font_blue: #0088ea; --font_lighter: #a2a8ae; --brand_primary: #151e28; --brand_success: #28c39a; --brand_danger:'"
            ],
            "application/vnd.google.colaboratory.intrinsic+json": {
              "type": "string"
            }
          },
          "metadata": {},
          "execution_count": 29
        }
      ]
    },
    {
      "cell_type": "code",
      "source": [
        "# not required for this webpage, use if bot restrictions are added in future.\n",
        "\n",
        "# google chrome browser's request header (to make it look like, we are making this request from a browser)\n",
        "header = {\n",
        "  \"User-Agent\": \"Mozilla/5.0 (Windows NT 10.0; Win64; x64) AppleWebKit/537.36 (KHTML, like Gecko) Chrome/80.0.3987.163 Safari/537.36\"\n",
        "}\n",
        "\n",
        "# hit using the header\n",
        "response = requests.get(\"https://www.tickertape.in/stocks/\" + subdir, headers=header)\n",
        "response.text[0:500]"
      ],
      "metadata": {
        "colab": {
          "base_uri": "https://localhost:8080/",
          "height": 70
        },
        "id": "ZMW71O25c9Hl",
        "outputId": "76093416-be3f-4599-c515-f8914212abf8"
      },
      "execution_count": 30,
      "outputs": [
        {
          "output_type": "execute_result",
          "data": {
            "text/plain": [
              "'<!DOCTYPE html><html lang=\"en-US\"><head><meta http-equiv=\"X-UA-Compatible\" content=\"IE=edge\"/><link rel=\"shortcut icon\" href=\"/favicon/favicon.png\"/><link rel=\"apple-touch-icon\" href=\"/favicon/favicon-192x192.png\"/><link rel=\"manifest\" href=\"/manifest/manifest.json\"/><style type=\"text/css\">:root {--white: #ffffff; --font_primary: #535B62; --font_dark: #2f363f; --font_light: #81878c; --font_blue: #0088ea; --font_lighter: #a2a8ae; --brand_primary: #151e28; --brand_success: #28c39a; --brand_danger:'"
            ],
            "application/vnd.google.colaboratory.intrinsic+json": {
              "type": "string"
            }
          },
          "metadata": {},
          "execution_count": 30
        }
      ]
    },
    {
      "cell_type": "markdown",
      "source": [
        "## Pass the fetched webpage response to Beautiful Soup"
      ],
      "metadata": {
        "id": "XJNdAiOReo2n"
      }
    },
    {
      "cell_type": "code",
      "source": [
        "# give the webpage to Beautiful Soup using parsers: \"html.parser\" or \"lxml\"\n",
        "soup = BeautifulSoup(response.text, 'lxml')"
      ],
      "metadata": {
        "id": "RA-dseaKd1GS"
      },
      "execution_count": 31,
      "outputs": []
    },
    {
      "cell_type": "markdown",
      "source": [
        "## Let us try and extract some data from the soup"
      ],
      "metadata": {
        "id": "ZKYRke2Ilhrt"
      }
    },
    {
      "cell_type": "markdown",
      "source": [
        "- we see the whole webpage and how the html dom structure is made\n",
        "- on inspecting, we see that all our required info is mostly inside div blocks with unique class names\n",
        "- few are inside span or h tags, but all blocks has classes\n",
        "- Let us extract few important html dom blocks and see"
      ],
      "metadata": {
        "id": "8pCfA5bWjJRE"
      }
    },
    {
      "cell_type": "markdown",
      "source": [
        "### [1] Basic Company Information"
      ],
      "metadata": {
        "id": "IqCNbmt8l3Ec"
      }
    },
    {
      "cell_type": "code",
      "source": [
        "# company name\n",
        "htmlBlock = soup.find(\"h3\", class_=\"security-name\")\n",
        "print(htmlBlock.prettify())\n",
        "\n",
        "value = htmlBlock.text if htmlBlock is not None else None\n",
        "print(value)"
      ],
      "metadata": {
        "colab": {
          "base_uri": "https://localhost:8080/"
        },
        "id": "2zTscJQSd1In",
        "outputId": "fd75e9fa-b5e6-4b79-a59e-86441af38088"
      },
      "execution_count": 32,
      "outputs": [
        {
          "output_type": "stream",
          "name": "stdout",
          "text": [
            "<h3 class=\"jsx-2903438179 security-name\">\n",
            " Adani Green Energy Ltd\n",
            "</h3>\n",
            "Adani Green Energy Ltd\n"
          ]
        }
      ]
    },
    {
      "cell_type": "code",
      "source": [
        "# ticker name\n",
        "htmlBlock = soup.find(\"span\", class_=\"ticker\")\n",
        "print(htmlBlock.prettify())\n",
        "\n",
        "value = htmlBlock.text if htmlBlock is not None else None\n",
        "print(value)"
      ],
      "metadata": {
        "colab": {
          "base_uri": "https://localhost:8080/"
        },
        "id": "HsrIqPujd1LG",
        "outputId": "5d8e1701-aa90-44f4-e096-3f908c0342dd"
      },
      "execution_count": 33,
      "outputs": [
        {
          "output_type": "stream",
          "name": "stdout",
          "text": [
            "<span class=\"jsx-2903438179 ticker text-teritiary font-medium\">\n",
            " ADANIGREEN\n",
            "</span>\n",
            "ADANIGREEN\n"
          ]
        }
      ]
    },
    {
      "cell_type": "code",
      "source": [
        "# current price\n",
        "htmlBlock = soup.find(\"span\", class_=\"current-price\")\n",
        "print(htmlBlock.prettify())\n",
        "\n",
        "value = htmlBlock.text if htmlBlock is not None else None\n",
        "print(value)"
      ],
      "metadata": {
        "colab": {
          "base_uri": "https://localhost:8080/"
        },
        "id": "zdTUd2Led1NO",
        "outputId": "312e31e8-2e67-4d5b-a5f9-da9fb6002e96"
      },
      "execution_count": 34,
      "outputs": [
        {
          "output_type": "stream",
          "name": "stdout",
          "text": [
            "<span class=\"jsx-3168773259 current-price typography-h1 text-primary\">\n",
            " 2,864.30\n",
            "</span>\n",
            "\n",
            "2,864.30\n"
          ]
        }
      ]
    },
    {
      "cell_type": "code",
      "source": [
        "# change absolute-value\n",
        "htmlBlock = soup.find(\"span\", class_=\"absolute-value\")\n",
        "print(htmlBlock.prettify())\n",
        "\n",
        "value = htmlBlock.text if htmlBlock is not None else None\n",
        "print(value)"
      ],
      "metadata": {
        "colab": {
          "base_uri": "https://localhost:8080/"
        },
        "id": "7CvuSrAplDBR",
        "outputId": "83315b76-9042-4e80-af9a-7d3e4671e738"
      },
      "execution_count": 35,
      "outputs": [
        {
          "output_type": "stream",
          "name": "stdout",
          "text": [
            "<span class=\"jsx-3168773259 change absolute-value text-14 typography-body-medium-l up\">\n",
            " <i class=\"jsx-3168773259 icon-Green-up\">\n",
            " </i>\n",
            " 0.00\n",
            " <!-- -->\n",
            " %\n",
            "</span>\n",
            "\n",
            "0.00%\n"
          ]
        }
      ]
    },
    {
      "cell_type": "code",
      "source": [
        "# change percentage-value\n",
        "htmlBlock = soup.find(\"span\", class_=\"percentage-value\")\n",
        "print(htmlBlock.prettify())\n",
        "\n",
        "value = htmlBlock.text if htmlBlock is not None else None\n",
        "print(value)"
      ],
      "metadata": {
        "colab": {
          "base_uri": "https://localhost:8080/"
        },
        "id": "u_RW7wVYlDEH",
        "outputId": "89888638-9623-43cd-8103-326c02df8a98"
      },
      "execution_count": 36,
      "outputs": [
        {
          "output_type": "stream",
          "name": "stdout",
          "text": [
            "<span class=\"jsx-3168773259 change percentage-value text-14 up\">\n",
            " (\n",
            " <!-- -->\n",
            " +\n",
            " <!-- -->\n",
            " 0.00\n",
            " <!-- -->\n",
            " )\n",
            "</span>\n",
            " (+0.00)\n"
          ]
        }
      ]
    },
    {
      "cell_type": "markdown",
      "source": [
        "### [2] Investment Checklist"
      ],
      "metadata": {
        "id": "BR3F0yCgpnIw"
      }
    },
    {
      "cell_type": "code",
      "source": [
        "# checklist-item carousel-item\n",
        "htmlBlock = soup.find(\"div\", class_=\"carousel-item\")\n",
        "print(htmlBlock.prettify())"
      ],
      "metadata": {
        "colab": {
          "base_uri": "https://localhost:8080/"
        },
        "id": "zg-X1ebllDSY",
        "outputId": "6a0af7da-728c-4734-afb6-04b87ed444d9"
      },
      "execution_count": 37,
      "outputs": [
        {
          "output_type": "stream",
          "name": "stdout",
          "text": [
            "<div class=\"jsx-3083281824 checklist-item carousel-item selected\">\n",
            " <div class=\"jsx-3228946760 jsx-482152645 commentary-item-root d-flex-row align-start justify-start \" eventlabel=\"Clicked Checklist Item\">\n",
            "  <i class=\"jsx-3228946760 jsx-482152645 icon-mood icon-neutral-comment text-24 mr12\">\n",
            "  </i>\n",
            "  <div class=\"jsx-3228946760 jsx-482152645 content\">\n",
            "   <h4 class=\"jsx-3228946760 jsx-482152645 typography-body-medium-m text-primary\">\n",
            "    <span class=\"jsx-3228946760 jsx-482152645 relative no-select tooltip-holder\">\n",
            "     Intrinsic Value\n",
            "     <div class=\"jsx-1503855875 tooltip-root sh-tooltip font-regular\">\n",
            "      Intrinsic value is the calculated value of the company and may differ from current stock price. If intrinsic value &gt; current price, price increase is expected in the future to reduce the gap and vice-versa\n",
            "     </div>\n",
            "    </span>\n",
            "   </h4>\n",
            "   <p class=\"jsx-3228946760 jsx-482152645 lh-138 text-13 text-secondary typography-body-regular-m commentary-desc\">\n",
            "    Insufficient Data\n",
            "   </p>\n",
            "  </div>\n",
            " </div>\n",
            " <div class=\"jsx-31738415 jsx-482152645 commentary-item-root d-flex-row align-start justify-start \" eventlabel=\"Clicked Checklist Item\">\n",
            "  <i class=\"jsx-31738415 jsx-482152645 icon-mood icon-negative-comment text-24 mr12\">\n",
            "  </i>\n",
            "  <div class=\"jsx-31738415 jsx-482152645 content\">\n",
            "   <h4 class=\"jsx-31738415 jsx-482152645 typography-body-medium-m text-primary\">\n",
            "    <span class=\"jsx-31738415 jsx-482152645 relative no-select tooltip-holder\">\n",
            "     ROE vs FD rates\n",
            "     <div class=\"jsx-1503855875 tooltip-root sh-tooltip font-regular\">\n",
            "      Fixed Deposit rate is a virtually risk-free rate where the investor assumes almost no risk on their investment. If stock's long term average ROE is lower than this rate, investors are better off investing the amount in a FD\n",
            "     </div>\n",
            "    </span>\n",
            "   </h4>\n",
            "   <p class=\"jsx-31738415 jsx-482152645 lh-138 text-13 text-secondary typography-body-regular-m commentary-desc\">\n",
            "    Stock has not been able to generate better return on equity than bank FD\n",
            "   </p>\n",
            "  </div>\n",
            " </div>\n",
            " <div class=\"jsx-2638469698 jsx-482152645 commentary-item-root d-flex-row align-start justify-start \" eventlabel=\"Clicked Checklist Item\">\n",
            "  <i class=\"jsx-2638469698 jsx-482152645 icon-mood icon-negative-comment text-24 mr12\">\n",
            "  </i>\n",
            "  <div class=\"jsx-2638469698 jsx-482152645 content\">\n",
            "   <h4 class=\"jsx-2638469698 jsx-482152645 typography-body-medium-m text-primary\">\n",
            "    <span class=\"jsx-2638469698 jsx-482152645 relative no-select tooltip-holder\">\n",
            "     Dividend Returns\n",
            "     <div class=\"jsx-1503855875 tooltip-root sh-tooltip font-regular\">\n",
            "      A dividend is the distribution of reward from a portion of company's earnings and is paid to its shareholders. Good dividend returns indicate good health and outlook for the company\n",
            "     </div>\n",
            "    </span>\n",
            "   </h4>\n",
            "   <p class=\"jsx-2638469698 jsx-482152645 lh-138 text-13 text-secondary typography-body-regular-m commentary-desc\">\n",
            "    Stock doesn't offer attractive dividend returns\n",
            "   </p>\n",
            "  </div>\n",
            " </div>\n",
            " <div class=\"jsx-3261526196 jsx-482152645 commentary-item-root d-flex-row align-start justify-start \" eventlabel=\"Clicked Checklist Item\">\n",
            "  <i class=\"jsx-3261526196 jsx-482152645 icon-mood icon-negative-comment text-24 mr12\">\n",
            "  </i>\n",
            "  <div class=\"jsx-3261526196 jsx-482152645 content\">\n",
            "   <h4 class=\"jsx-3261526196 jsx-482152645 typography-body-medium-m text-primary\">\n",
            "    <span class=\"jsx-3261526196 jsx-482152645 relative no-select tooltip-holder\">\n",
            "     Entry Point\n",
            "     <div class=\"jsx-1503855875 tooltip-root sh-tooltip font-regular\">\n",
            "      High demand for a stock increases its price. If the price is pushed up to a level which is not justified, then it's considered to be in the overbought zone, which is not a good time to buy the stock\n",
            "     </div>\n",
            "    </span>\n",
            "   </h4>\n",
            "   <p class=\"jsx-3261526196 jsx-482152645 lh-138 text-13 text-secondary typography-body-regular-m commentary-desc\">\n",
            "    Not a good time to invest, stock is in overbought zone\n",
            "   </p>\n",
            "  </div>\n",
            " </div>\n",
            " <div class=\"jsx-3791761484 jsx-482152645 commentary-item-root d-flex-row align-start justify-start \" eventlabel=\"Clicked Checklist Item\">\n",
            "  <i class=\"jsx-3791761484 jsx-482152645 icon-mood icon-positive-comment text-24 mr12\">\n",
            "  </i>\n",
            "  <div class=\"jsx-3791761484 jsx-482152645 content\">\n",
            "   <h4 class=\"jsx-3791761484 jsx-482152645 typography-body-medium-m text-primary\">\n",
            "    <span class=\"jsx-3791761484 jsx-482152645 relative no-select tooltip-holder\">\n",
            "     No Red Flags\n",
            "     <div class=\"jsx-1503855875 tooltip-root sh-tooltip font-regular\">\n",
            "      ASM and GSM lists are measures to safeguard investors against volatility and unjustified stock prices. Pledging holdings means taking loans against held promoter shares. Stocks in ASM/GSM list or with high pledged promoter holding should be handled with caution. Unsolicited tips are sometimes circulated to manipulate the market. Beware of these stocks\n",
            "     </div>\n",
            "    </span>\n",
            "   </h4>\n",
            "   <p class=\"jsx-3791761484 jsx-482152645 lh-138 text-13 text-secondary typography-body-regular-m commentary-desc\">\n",
            "    Stock not in ASM/GSM lists and not a lot of promoter holding is pledged\n",
            "   </p>\n",
            "  </div>\n",
            " </div>\n",
            "</div>\n",
            "\n"
          ]
        }
      ]
    },
    {
      "cell_type": "code",
      "source": [
        "htmlBlock = soup.find(\"div\", class_=\"carousel-item\")\n",
        "\n",
        "# get all keys and values\n",
        "for item in htmlBlock.childGenerator():\n",
        "    key = item.find(\"span\", class_=\"tooltip-holder\").contents[0]\n",
        "    key = key.title().replace(\" \", \"\")\n",
        "    value = item.find(\"i\")['class'][3].split(\"-\")[1]\n",
        "\n",
        "    print(key, value)"
      ],
      "metadata": {
        "colab": {
          "base_uri": "https://localhost:8080/"
        },
        "id": "-OZstV6glDcC",
        "outputId": "0d7ce1f9-2d99-4870-b029-e8e4b73f2305"
      },
      "execution_count": 38,
      "outputs": [
        {
          "output_type": "stream",
          "name": "stdout",
          "text": [
            "IntrinsicValue neutral\n",
            "RoeVsFdRates negative\n",
            "DividendReturns negative\n",
            "EntryPoint negative\n",
            "NoRedFlags positive\n"
          ]
        }
      ]
    },
    {
      "cell_type": "code",
      "source": [
        ""
      ],
      "metadata": {
        "id": "A-uCXOAoBcwB"
      },
      "execution_count": 38,
      "outputs": []
    },
    {
      "cell_type": "markdown",
      "source": [
        "### [3] Price Chart"
      ],
      "metadata": {
        "id": "orSWUF2B1TPc"
      }
    },
    {
      "cell_type": "code",
      "source": [
        ""
      ],
      "metadata": {
        "id": "tWnS8wzN1ajR"
      },
      "execution_count": 38,
      "outputs": []
    },
    {
      "cell_type": "markdown",
      "source": [
        "### [4] Key Metrics"
      ],
      "metadata": {
        "id": "eo73RLqK1chc"
      }
    },
    {
      "cell_type": "code",
      "source": [
        ""
      ],
      "metadata": {
        "id": "iNOzGEBI2D_h"
      },
      "execution_count": 38,
      "outputs": []
    },
    {
      "cell_type": "markdown",
      "source": [
        "### [5] Forecast & Ratings"
      ],
      "metadata": {
        "id": "_XWI16cP1cj4"
      }
    },
    {
      "cell_type": "code",
      "source": [
        "# Forecast\n",
        "htmlBlock = soup.find(\"div\", class_=\"forecast-radial\")\n",
        "print(htmlBlock.prettify())"
      ],
      "metadata": {
        "colab": {
          "base_uri": "https://localhost:8080/"
        },
        "id": "u45ihTJ_1ri8",
        "outputId": "b2a468d5-af65-484a-ba3e-57224f3fa26c"
      },
      "execution_count": 39,
      "outputs": [
        {
          "output_type": "stream",
          "name": "stdout",
          "text": [
            "<div class=\"jsx-3770717616 forecast-radial\">\n",
            " <div class=\"jsx-3770717616 radial-holder\">\n",
            "  <div class=\"rv-xy-plot rv-radial-chart\" style=\"width:64px;height:64px\">\n",
            "   <svg class=\"rv-xy-plot__inner\" height=\"64\" width=\"64\">\n",
            "    <g class=\"rv-xy-plot__series rv-xy-plot__series--arc \" opacity=\"1\" pointer-events=\"all\" transform=\"translate(32,32)\">\n",
            "     <path class=\"rv-xy-plot__series rv-xy-plot__series--arc-path rv-radial-chart__series--pie__slice \" d=\"M1.959434878635765e-15,-32A32,32,0,1,1,-1.959434878635765e-15,32A32,32,0,1,1,1.959434878635765e-15,-32M1.6907553595872534e-14,-24A24,24,0,1,0,-1.6907553595872534e-14,24A24,24,0,1,0,1.6907553595872534e-14,-24Z\" style=\"opacity:1;stroke:transparent;fill:rgba(129, 135, 140, 0.22)\">\n",
            "     </path>\n",
            "     <path class=\"rv-xy-plot__series rv-xy-plot__series--arc-path rv-radial-chart__series--pie__slice \" d=\"M1.959434878635765e-15,-32L1.4695761589768238e-15,-24Z\" style=\"opacity:1;stroke:transparent;fill:#07d459\">\n",
            "     </path>\n",
            "    </g>\n",
            "   </svg>\n",
            "  </div>\n",
            "  <span class=\"jsx-3770717616 percBuyReco-value typography-h5 text-primary empty\">\n",
            "   —\n",
            "  </span>\n",
            " </div>\n",
            " <span class=\"jsx-3770717616 text-15 text-teritiary lh-138 ml16\">\n",
            "  Forecast data is currently unavailable for this stock\n",
            " </span>\n",
            "</div>\n",
            "\n"
          ]
        }
      ]
    },
    {
      "cell_type": "code",
      "source": [
        "# get forcast percentage\n",
        "\n",
        "value = htmlBlock.div.span.contents[0] if str(htmlBlock.div.span.contents[0]) != \"—\" else \"\"\n",
        "print(value)\n",
        "\n",
        "symbol = htmlBlock.div.span.span.text if htmlBlock.div.span.span is not None else \"\"\n",
        "print(symbol)\n",
        "\n",
        "print(value + symbol if (value + symbol) != \"\" else None)"
      ],
      "metadata": {
        "colab": {
          "base_uri": "https://localhost:8080/"
        },
        "id": "uhBslxTp38Qe",
        "outputId": "8fcc2522-05ba-43e0-937e-7f5c05803cb6"
      },
      "execution_count": 40,
      "outputs": [
        {
          "output_type": "stream",
          "name": "stdout",
          "text": [
            "\n",
            "\n",
            "None\n"
          ]
        }
      ]
    },
    {
      "cell_type": "code",
      "source": [
        "\"\" + \"\""
      ],
      "metadata": {
        "id": "bSge6J4Z2Joq",
        "colab": {
          "base_uri": "https://localhost:8080/",
          "height": 35
        },
        "outputId": "d580e4d1-be09-4c41-bc06-8de07c828994"
      },
      "execution_count": 41,
      "outputs": [
        {
          "output_type": "execute_result",
          "data": {
            "text/plain": [
              "''"
            ],
            "application/vnd.google.colaboratory.intrinsic+json": {
              "type": "string"
            }
          },
          "metadata": {},
          "execution_count": 41
        }
      ]
    },
    {
      "cell_type": "code",
      "source": [
        "# get forcast text\n",
        "value = htmlBlock.h4.text if htmlBlock.h4 is not None else None\n",
        "print(value)"
      ],
      "metadata": {
        "colab": {
          "base_uri": "https://localhost:8080/"
        },
        "id": "tZj0heN_2JmP",
        "outputId": "4922d115-39da-417e-d4cc-f4acc0cd7fc4"
      },
      "execution_count": 42,
      "outputs": [
        {
          "output_type": "stream",
          "name": "stdout",
          "text": [
            "None\n"
          ]
        }
      ]
    },
    {
      "cell_type": "code",
      "source": [
        ""
      ],
      "metadata": {
        "id": "WZDuVZEJ3WCb"
      },
      "execution_count": 42,
      "outputs": []
    },
    {
      "cell_type": "markdown",
      "source": [
        "# Let us try and extract data (from all the pages)"
      ],
      "metadata": {
        "id": "MwF82Yx93WQ3"
      }
    },
    {
      "cell_type": "markdown",
      "source": [
        "Import scraped data containing all stock/etf names and subdirectory, <br>\n",
        "and Hit \"https://www.tickertape.in/stocks/{stock-name}\""
      ],
      "metadata": {
        "id": "3J4teIPY4WR3"
      }
    },
    {
      "cell_type": "code",
      "source": [
        "with open('top-company-list.json', 'r') as fp:\n",
        "    topcompanies = json.load(fp)\n",
        "\n",
        "topcompanies[0]"
      ],
      "metadata": {
        "id": "s-0iLhJd3nVm",
        "outputId": "bfdd18d2-b240-4698-a626-50e7a9c68517",
        "colab": {
          "base_uri": "https://localhost:8080/"
        }
      },
      "execution_count": 43,
      "outputs": [
        {
          "output_type": "execute_result",
          "data": {
            "text/plain": [
              "{'name': 'Adani Enterprises Ltd',\n",
              " 'subdirectory': 'adani-enterprises-ADEL',\n",
              " 'type': 'stocks'}"
            ]
          },
          "metadata": {},
          "execution_count": 43
        }
      ]
    },
    {
      "cell_type": "code",
      "source": [
        "with open('full-company-list.json', 'r') as fp:\n",
        "    allcompanies = json.load(fp)\n",
        "\n",
        "allcompanies[0]"
      ],
      "metadata": {
        "id": "9dxNjdbj3n6a",
        "outputId": "60f01a86-9eea-4e41-a65f-dd7c68d7cde5",
        "colab": {
          "base_uri": "https://localhost:8080/"
        }
      },
      "execution_count": 44,
      "outputs": [
        {
          "output_type": "execute_result",
          "data": {
            "text/plain": [
              "{'name': 'A & M Febcon Ltd',\n",
              " 'subdirectory': 'a-and-m-febcon-AMF',\n",
              " 'type': 'stocks'}"
            ]
          },
          "metadata": {},
          "execution_count": 44
        }
      ]
    },
    {
      "cell_type": "code",
      "source": [
        ""
      ],
      "metadata": {
        "id": "-GSihzev3n8-"
      },
      "execution_count": 44,
      "outputs": []
    },
    {
      "cell_type": "code",
      "source": [
        "def scrapeTickertape(name, stocktype, subdirectory):\n",
        "    _url = \"https://www.tickertape.in/\" + stocktype + \"/\" + subdirectory\n",
        "    _data = {}\n",
        "\n",
        "    try:\n",
        "        # hit the page and get html\n",
        "        _header = {\n",
        "            \"User-Agent\": \"Mozilla/5.0 (Windows NT 10.0; Win64; x64) AppleWebKit/537.36 (KHTML, like Gecko) Chrome/80.0.3987.163 Safari/537.36\"\n",
        "        }\n",
        "        _response = requests.get(_url, headers=_header)\n",
        "\n",
        "        # give the webpage to Beautiful Soup using parsers: \"html.parser\" or \"lxml\"\n",
        "        _soup = BeautifulSoup(_response.text, 'lxml')\n",
        "\n",
        "        ######### extract html data from webpage and form output data #########\n",
        "\n",
        "        # company name\n",
        "        _htmlBlock = _soup.find(\"h3\", class_=\"security-name\")\n",
        "        _data[\"companyName\"] = _htmlBlock.text if _htmlBlock is not None else None\n",
        "\n",
        "        # ticker name\n",
        "        _htmlBlock = _soup.find(\"span\", class_=\"ticker\")\n",
        "        _data[\"ticker\"] = _htmlBlock.text if _htmlBlock is not None else None\n",
        "\n",
        "        # current price\n",
        "        _htmlBlock = _soup.find(\"span\", class_=\"current-price\")\n",
        "        _data[\"currentPrice\"] = _htmlBlock.text if _htmlBlock is not None else None\n",
        "\n",
        "        # checklist carousel-item get all keys and values\n",
        "        _htmlBlock = _soup.find(\"div\", class_=\"carousel-item\")\n",
        "        for _item in _htmlBlock.childGenerator():\n",
        "            _key = _item.find(\"span\", class_=\"tooltip-holder\").contents[0]\n",
        "            _key = _key.title().replace(\" \", \"\")\n",
        "            _value = _item.find(\"i\")['class'][3].split(\"-\")[1]\n",
        "            _data[_key] = _value\n",
        "\n",
        "        # Forecast\n",
        "        _htmlBlock = _soup.find(\"div\", class_=\"forecast-radial\")\n",
        "\n",
        "        _value = _htmlBlock.div.span.contents[0] if str(_htmlBlock.div.span.contents[0]) != \"—\" else \"\"\n",
        "        _symbol = _htmlBlock.div.span.span.text if _htmlBlock.div.span.span is not None else \"\"\n",
        "        _data[\"buyRecommendation\"] = _value + _symbol if (_value + _symbol) != \"\" else None\n",
        "\n",
        "        _data[\"forecast\"] = _htmlBlock.h4.text if _htmlBlock.h4 is not None else None\n",
        "\n",
        "        return _data\n",
        "    except Exception as _e:\n",
        "        print(_e)\n",
        "        return []"
      ],
      "metadata": {
        "id": "V0fow5JZ6J1W"
      },
      "execution_count": 45,
      "outputs": []
    },
    {
      "cell_type": "code",
      "source": [
        "scrapeTickertape(topcompanies[0][\"name\"], topcompanies[0][\"type\"], topcompanies[0][\"subdirectory\"])"
      ],
      "metadata": {
        "id": "nGBNt8gW6J3v",
        "outputId": "fe2b1748-9d09-4946-8378-95c229bf5f81",
        "colab": {
          "base_uri": "https://localhost:8080/"
        }
      },
      "execution_count": 46,
      "outputs": [
        {
          "output_type": "execute_result",
          "data": {
            "text/plain": [
              "{'DividendReturns': 'negative',\n",
              " 'EntryPoint': 'negative',\n",
              " 'IntrinsicValue': 'negative',\n",
              " 'NoRedFlags': 'positive',\n",
              " 'RoeVsFdRates': 'negative',\n",
              " 'buyRecommendation': '0%',\n",
              " 'companyName': 'Adani Enterprises Ltd',\n",
              " 'currentPrice': '2,199.45',\n",
              " 'forecast': 'Analysts have suggested that investors can buy this stock',\n",
              " 'ticker': 'ADANIENT'}"
            ]
          },
          "metadata": {},
          "execution_count": 46
        }
      ]
    },
    {
      "cell_type": "code",
      "source": [
        "# # let's scrape all the stocks & etfs!\n",
        "# topStocksData = []\n",
        "# count = 0\n",
        "\n",
        "# for companies in topcompanies:\n",
        "#     companyName = companies[\"name\"]\n",
        "#     companyType = companies[\"type\"]\n",
        "#     companyDir = companies[\"subdirectory\"]\n",
        "#     print(companyName, \"url: https://www.tickertape.in/\" + companyType + \"/\" + companyDir)\n",
        "#     try:\n",
        "#         # get data from each page and append to data list\n",
        "#         if companyType == \"stocks\":\n",
        "#             topStocksData.append(scrapeTickertape(companyName, companyType, companyDir))\n",
        "#             print(\"successful!\")\n",
        "#             count += 1\n",
        "#     except Exception as _e:\n",
        "#         # some issue occured, catch exception\n",
        "#         print(\"failed!\")\n",
        "#         print(_e)\n",
        "\n",
        "# print(count, \"/\", len(topcompanies), \"completed\")"
      ],
      "metadata": {
        "id": "b6oT7m8iE-lT"
      },
      "execution_count": 47,
      "outputs": []
    },
    {
      "cell_type": "code",
      "source": [
        ""
      ],
      "metadata": {
        "id": "R70dmgT1IVis"
      },
      "execution_count": 47,
      "outputs": []
    },
    {
      "cell_type": "code",
      "source": [
        "# # let's scrape all the stocks & etfs!\n",
        "# allStocksData = []\n",
        "# count = 0\n",
        "\n",
        "# for companies in allcompanies:\n",
        "#     companyName = companies[\"name\"]\n",
        "#     companyType = companies[\"type\"]\n",
        "#     companyDir = companies[\"subdirectory\"]\n",
        "#     print(companyName, \"url: https://www.tickertape.in/\" + companyType + \"/\" + companyDir)\n",
        "#     try:\n",
        "#         # get data from each page and append to data list\n",
        "#         if companyType == \"stocks\":\n",
        "#             topStocksData.append(scrapeTickertape(companyName, companyType, companyDir))\n",
        "#             print(\"successful!\")\n",
        "#             count += 1\n",
        "#     except Exception as _e:\n",
        "#         # some issue occured, catch exception\n",
        "#         print(\"failed!\")\n",
        "#         print(_e)\n",
        "\n",
        "# print(count, \"/\", len(topcompanies), \"completed\")"
      ],
      "metadata": {
        "id": "f6zmsCqVHgA8"
      },
      "execution_count": 48,
      "outputs": []
    },
    {
      "cell_type": "code",
      "source": [
        ""
      ],
      "metadata": {
        "id": "hEI4HLqVIaLB"
      },
      "execution_count": 48,
      "outputs": []
    },
    {
      "cell_type": "markdown",
      "source": [
        "## Exporting the data"
      ],
      "metadata": {
        "id": "6964EOvnJUlX"
      }
    },
    {
      "cell_type": "code",
      "source": [
        "# with open(\"top-company-tickertape-data.json\", \"w\") as outfile:\n",
        "#     json.dump(topStocksData, outfile)"
      ],
      "metadata": {
        "id": "XjUL8nkcIaOa"
      },
      "execution_count": 49,
      "outputs": []
    },
    {
      "cell_type": "code",
      "source": [
        "# with open(\"all-company-tickertape-data.json\", \"w\") as outfile:\n",
        "#     json.dump(allStocksData, outfile)"
      ],
      "metadata": {
        "id": "hyvH5cFuJbHG"
      },
      "execution_count": 50,
      "outputs": []
    },
    {
      "cell_type": "code",
      "source": [
        ""
      ],
      "metadata": {
        "id": "w-KAZwEXi-3y"
      },
      "execution_count": 50,
      "outputs": []
    }
  ]
}