{
  "nbformat": 4,
  "nbformat_minor": 0,
  "metadata": {
    "colab": {
      "name": "Web Scraping tickertapeIN - stocks.ipynb",
      "provenance": [],
      "authorship_tag": "ABX9TyO+eU9UC6c5LHPqf7RUmpFN",
      "include_colab_link": true
    },
    "kernelspec": {
      "name": "python3",
      "display_name": "Python 3"
    },
    "language_info": {
      "name": "python"
    }
  },
  "cells": [
    {
      "cell_type": "markdown",
      "metadata": {
        "id": "view-in-github",
        "colab_type": "text"
      },
      "source": [
        "<a href=\"https://colab.research.google.com/github/mratanusarkar/Web-Scraping-tickertapeIN/blob/feature%2Fscrape-all-sections/scraping_tickertapeIN_stocks.ipynb\" target=\"_parent\"><img src=\"https://colab.research.google.com/assets/colab-badge.svg\" alt=\"Open In Colab\"/></a>"
      ]
    },
    {
      "cell_type": "markdown",
      "source": [
        "# Web Scraping stock data from tickertape.in"
      ],
      "metadata": {
        "id": "vVeC3IHLbQ1S"
      }
    },
    {
      "cell_type": "markdown",
      "source": [
        "**Input**: stock name in \"https://www.tickertape.in/stocks/{stock-name}\" <br>\n",
        "**Output**: full stock data & predictions from tickertape in JSON/Py Dictionary format\n"
      ],
      "metadata": {
        "id": "gwGMUzOsbfK_"
      }
    },
    {
      "cell_type": "markdown",
      "source": [
        "## Import Packages"
      ],
      "metadata": {
        "id": "OcFpi1cFcDW0"
      }
    },
    {
      "cell_type": "code",
      "source": [
        "import numpy as np\n",
        "import pandas as pd\n",
        "import requests\n",
        "from bs4 import BeautifulSoup\n",
        "\n",
        "import json\n",
        "import time\n",
        "from datetime import timedelta"
      ],
      "metadata": {
        "id": "c0wD-RzybeO9"
      },
      "execution_count": 1,
      "outputs": []
    },
    {
      "cell_type": "markdown",
      "source": [
        "## Request and Fetch the Webpage"
      ],
      "metadata": {
        "id": "igOJKmX7cIWj"
      }
    },
    {
      "cell_type": "markdown",
      "source": [
        "Let's try with a sample stock name, say \"TCS\""
      ],
      "metadata": {
        "id": "Pcn82_QzcLGq"
      }
    },
    {
      "cell_type": "code",
      "source": [
        "# enter company subdirectory\n",
        "# subdir = \"tata-consultancy-services-TCS\"\n",
        "subdir = \"adani-green-energy-ADNA\""
      ],
      "metadata": {
        "id": "2VvAxCA37RBN"
      },
      "execution_count": 2,
      "outputs": []
    },
    {
      "cell_type": "code",
      "source": [
        "# hit \"https://www.tickertape.in/stocks/tata-consultancy-services-TCS\"\n",
        "requests.get(\"https://www.tickertape.in/stocks/\" + subdir)"
      ],
      "metadata": {
        "colab": {
          "base_uri": "https://localhost:8080/"
        },
        "id": "uN6CTb4tcWTd",
        "outputId": "7e37fa00-674f-469c-fe9a-cc796f801461"
      },
      "execution_count": 3,
      "outputs": [
        {
          "output_type": "execute_result",
          "data": {
            "text/plain": [
              "<Response [200]>"
            ]
          },
          "metadata": {},
          "execution_count": 3
        }
      ]
    },
    {
      "cell_type": "code",
      "source": [
        "# wow! no restriction for bots! no need of any headers!\n",
        "response = requests.get(\"https://www.tickertape.in/stocks/\" + subdir)\n",
        "response.text[0:500]"
      ],
      "metadata": {
        "colab": {
          "base_uri": "https://localhost:8080/",
          "height": 70
        },
        "id": "O-3k6Ngicr2N",
        "outputId": "21167368-4b34-4bb1-b3fe-881c744c4576"
      },
      "execution_count": 4,
      "outputs": [
        {
          "output_type": "execute_result",
          "data": {
            "text/plain": [
              "'<!DOCTYPE html><html lang=\"en-US\"><head><meta http-equiv=\"X-UA-Compatible\" content=\"IE=edge\"/><link rel=\"shortcut icon\" href=\"/favicon/favicon.png\"/><link rel=\"apple-touch-icon\" href=\"/favicon/favicon-192x192.png\"/><link rel=\"manifest\" href=\"/manifest/manifest.json\"/><style type=\"text/css\">:root {--white: #ffffff; --font_primary: #535B62; --font_dark: #2f363f; --font_light: #81878c; --font_blue: #0088ea; --font_lighter: #a2a8ae; --brand_primary: #151e28; --brand_success: #28c39a; --brand_danger:'"
            ],
            "application/vnd.google.colaboratory.intrinsic+json": {
              "type": "string"
            }
          },
          "metadata": {},
          "execution_count": 4
        }
      ]
    },
    {
      "cell_type": "code",
      "source": [
        "# not required for this webpage, use if bot restrictions are added in future.\n",
        "\n",
        "# google chrome browser's request header (to make it look like, we are making this request from a browser)\n",
        "header = {\n",
        "  \"User-Agent\": \"Mozilla/5.0 (Windows NT 10.0; Win64; x64) AppleWebKit/537.36 (KHTML, like Gecko) Chrome/80.0.3987.163 Safari/537.36\"\n",
        "}\n",
        "\n",
        "# hit using the header\n",
        "response = requests.get(\"https://www.tickertape.in/stocks/\" + subdir, headers=header)\n",
        "response.text[0:500]"
      ],
      "metadata": {
        "colab": {
          "base_uri": "https://localhost:8080/",
          "height": 70
        },
        "id": "ZMW71O25c9Hl",
        "outputId": "03ca5b0d-12be-4948-875f-43c9728b6f9f"
      },
      "execution_count": 5,
      "outputs": [
        {
          "output_type": "execute_result",
          "data": {
            "text/plain": [
              "'<!DOCTYPE html><html lang=\"en-US\"><head><meta http-equiv=\"X-UA-Compatible\" content=\"IE=edge\"/><link rel=\"shortcut icon\" href=\"/favicon/favicon.png\"/><link rel=\"apple-touch-icon\" href=\"/favicon/favicon-192x192.png\"/><link rel=\"manifest\" href=\"/manifest/manifest.json\"/><style type=\"text/css\">:root {--white: #ffffff; --font_primary: #535B62; --font_dark: #2f363f; --font_light: #81878c; --font_blue: #0088ea; --font_lighter: #a2a8ae; --brand_primary: #151e28; --brand_success: #28c39a; --brand_danger:'"
            ],
            "application/vnd.google.colaboratory.intrinsic+json": {
              "type": "string"
            }
          },
          "metadata": {},
          "execution_count": 5
        }
      ]
    },
    {
      "cell_type": "markdown",
      "source": [
        "## Pass the fetched webpage response to Beautiful Soup"
      ],
      "metadata": {
        "id": "XJNdAiOReo2n"
      }
    },
    {
      "cell_type": "code",
      "source": [
        "# give the webpage to Beautiful Soup using parsers: \"html.parser\" or \"lxml\"\n",
        "soup = BeautifulSoup(response.text, 'lxml')"
      ],
      "metadata": {
        "id": "RA-dseaKd1GS"
      },
      "execution_count": 6,
      "outputs": []
    },
    {
      "cell_type": "markdown",
      "source": [
        "## Let us try and extract some data from the soup"
      ],
      "metadata": {
        "id": "ZKYRke2Ilhrt"
      }
    },
    {
      "cell_type": "markdown",
      "source": [
        "- we see the whole webpage and how the html dom structure is made\n",
        "- on inspecting, we see that all our required info is mostly inside div blocks with unique class names\n",
        "- few are inside span or h tags, but all blocks has classes\n",
        "- Let us extract few important html dom blocks and see"
      ],
      "metadata": {
        "id": "8pCfA5bWjJRE"
      }
    },
    {
      "cell_type": "markdown",
      "source": [
        "### [1] Basic Company Information"
      ],
      "metadata": {
        "id": "IqCNbmt8l3Ec"
      }
    },
    {
      "cell_type": "code",
      "source": [
        "# company name\n",
        "htmlBlock = soup.find(\"h3\", class_=\"security-name\")\n",
        "print(htmlBlock.prettify())\n",
        "\n",
        "value = htmlBlock.text if htmlBlock is not None else None\n",
        "print(value)"
      ],
      "metadata": {
        "colab": {
          "base_uri": "https://localhost:8080/"
        },
        "id": "2zTscJQSd1In",
        "outputId": "7b2dba07-4a63-4c9f-d352-4bfbe521460c"
      },
      "execution_count": 7,
      "outputs": [
        {
          "output_type": "stream",
          "name": "stdout",
          "text": [
            "<h3 class=\"jsx-2903438179 security-name\">\n",
            " Adani Green Energy Ltd\n",
            "</h3>\n",
            "Adani Green Energy Ltd\n"
          ]
        }
      ]
    },
    {
      "cell_type": "code",
      "source": [
        "# ticker name\n",
        "htmlBlock = soup.find(\"span\", class_=\"ticker\")\n",
        "print(htmlBlock.prettify())\n",
        "\n",
        "value = htmlBlock.text if htmlBlock is not None else None\n",
        "print(value)"
      ],
      "metadata": {
        "colab": {
          "base_uri": "https://localhost:8080/"
        },
        "id": "HsrIqPujd1LG",
        "outputId": "850dee7f-43a6-41ab-cd59-58f6ac6fdd06"
      },
      "execution_count": 8,
      "outputs": [
        {
          "output_type": "stream",
          "name": "stdout",
          "text": [
            "<span class=\"jsx-2903438179 ticker text-teritiary font-medium\">\n",
            " ADANIGREEN\n",
            "</span>\n",
            "ADANIGREEN\n"
          ]
        }
      ]
    },
    {
      "cell_type": "code",
      "source": [
        "# current price\n",
        "htmlBlock = soup.find(\"span\", class_=\"current-price\")\n",
        "print(htmlBlock.prettify())\n",
        "\n",
        "value = htmlBlock.text if htmlBlock is not None else None\n",
        "print(value)"
      ],
      "metadata": {
        "colab": {
          "base_uri": "https://localhost:8080/"
        },
        "id": "zdTUd2Led1NO",
        "outputId": "202cb506-2d46-4057-8c2b-d2744cf2c85d"
      },
      "execution_count": 9,
      "outputs": [
        {
          "output_type": "stream",
          "name": "stdout",
          "text": [
            "<span class=\"jsx-3168773259 current-price typography-h1 text-primary\">\n",
            " 2,864.30\n",
            "</span>\n",
            "\n",
            "2,864.30\n"
          ]
        }
      ]
    },
    {
      "cell_type": "code",
      "source": [
        "# change absolute-value\n",
        "htmlBlock = soup.find(\"span\", class_=\"absolute-value\")\n",
        "print(htmlBlock.prettify())\n",
        "\n",
        "value = htmlBlock.text if htmlBlock is not None else None\n",
        "print(value)"
      ],
      "metadata": {
        "colab": {
          "base_uri": "https://localhost:8080/"
        },
        "id": "7CvuSrAplDBR",
        "outputId": "bd3b8591-170d-4738-876c-648fa044d817"
      },
      "execution_count": 10,
      "outputs": [
        {
          "output_type": "stream",
          "name": "stdout",
          "text": [
            "<span class=\"jsx-3168773259 change absolute-value text-14 typography-body-medium-l up\">\n",
            " <i class=\"jsx-3168773259 icon-Green-up\">\n",
            " </i>\n",
            " 0.00\n",
            " <!-- -->\n",
            " %\n",
            "</span>\n",
            "\n",
            "0.00%\n"
          ]
        }
      ]
    },
    {
      "cell_type": "code",
      "source": [
        "# change percentage-value\n",
        "htmlBlock = soup.find(\"span\", class_=\"percentage-value\")\n",
        "print(htmlBlock.prettify())\n",
        "\n",
        "value = htmlBlock.text if htmlBlock is not None else None\n",
        "print(value)"
      ],
      "metadata": {
        "colab": {
          "base_uri": "https://localhost:8080/"
        },
        "id": "u_RW7wVYlDEH",
        "outputId": "02728706-dc6e-4346-8f14-ec6fb52dfa5e"
      },
      "execution_count": 11,
      "outputs": [
        {
          "output_type": "stream",
          "name": "stdout",
          "text": [
            "<span class=\"jsx-3168773259 change percentage-value text-14 up\">\n",
            " (\n",
            " <!-- -->\n",
            " +\n",
            " <!-- -->\n",
            " 0.00\n",
            " <!-- -->\n",
            " )\n",
            "</span>\n",
            " (+0.00)\n"
          ]
        }
      ]
    },
    {
      "cell_type": "markdown",
      "source": [
        "### [2] Investment Checklist"
      ],
      "metadata": {
        "id": "BR3F0yCgpnIw"
      }
    },
    {
      "cell_type": "code",
      "source": [
        "# checklist-item carousel-item\n",
        "htmlBlock = soup.find(\"div\", class_=\"carousel-item\")\n",
        "print(htmlBlock.prettify())"
      ],
      "metadata": {
        "colab": {
          "base_uri": "https://localhost:8080/"
        },
        "id": "zg-X1ebllDSY",
        "outputId": "ef43766d-a4e0-4dbc-91fe-c175bfeb3420"
      },
      "execution_count": 12,
      "outputs": [
        {
          "output_type": "stream",
          "name": "stdout",
          "text": [
            "<div class=\"jsx-3083281824 checklist-item carousel-item selected\">\n",
            " <div class=\"jsx-3228946760 jsx-482152645 commentary-item-root d-flex-row align-start justify-start \" eventlabel=\"Clicked Checklist Item\">\n",
            "  <i class=\"jsx-3228946760 jsx-482152645 icon-mood icon-neutral-comment text-24 mr12\">\n",
            "  </i>\n",
            "  <div class=\"jsx-3228946760 jsx-482152645 content\">\n",
            "   <h4 class=\"jsx-3228946760 jsx-482152645 typography-body-medium-m text-primary\">\n",
            "    <span class=\"jsx-3228946760 jsx-482152645 relative no-select tooltip-holder\">\n",
            "     Intrinsic Value\n",
            "     <div class=\"jsx-1503855875 tooltip-root sh-tooltip font-regular\">\n",
            "      Intrinsic value is the calculated value of the company and may differ from current stock price. If intrinsic value &gt; current price, price increase is expected in the future to reduce the gap and vice-versa\n",
            "     </div>\n",
            "    </span>\n",
            "   </h4>\n",
            "   <p class=\"jsx-3228946760 jsx-482152645 lh-138 text-13 text-secondary typography-body-regular-m commentary-desc\">\n",
            "    Insufficient Data\n",
            "   </p>\n",
            "  </div>\n",
            " </div>\n",
            " <div class=\"jsx-31738415 jsx-482152645 commentary-item-root d-flex-row align-start justify-start \" eventlabel=\"Clicked Checklist Item\">\n",
            "  <i class=\"jsx-31738415 jsx-482152645 icon-mood icon-negative-comment text-24 mr12\">\n",
            "  </i>\n",
            "  <div class=\"jsx-31738415 jsx-482152645 content\">\n",
            "   <h4 class=\"jsx-31738415 jsx-482152645 typography-body-medium-m text-primary\">\n",
            "    <span class=\"jsx-31738415 jsx-482152645 relative no-select tooltip-holder\">\n",
            "     ROE vs FD rates\n",
            "     <div class=\"jsx-1503855875 tooltip-root sh-tooltip font-regular\">\n",
            "      Fixed Deposit rate is a virtually risk-free rate where the investor assumes almost no risk on their investment. If stock's long term average ROE is lower than this rate, investors are better off investing the amount in a FD\n",
            "     </div>\n",
            "    </span>\n",
            "   </h4>\n",
            "   <p class=\"jsx-31738415 jsx-482152645 lh-138 text-13 text-secondary typography-body-regular-m commentary-desc\">\n",
            "    Stock has not been able to generate better return on equity than bank FD\n",
            "   </p>\n",
            "  </div>\n",
            " </div>\n",
            " <div class=\"jsx-2638469698 jsx-482152645 commentary-item-root d-flex-row align-start justify-start \" eventlabel=\"Clicked Checklist Item\">\n",
            "  <i class=\"jsx-2638469698 jsx-482152645 icon-mood icon-negative-comment text-24 mr12\">\n",
            "  </i>\n",
            "  <div class=\"jsx-2638469698 jsx-482152645 content\">\n",
            "   <h4 class=\"jsx-2638469698 jsx-482152645 typography-body-medium-m text-primary\">\n",
            "    <span class=\"jsx-2638469698 jsx-482152645 relative no-select tooltip-holder\">\n",
            "     Dividend Returns\n",
            "     <div class=\"jsx-1503855875 tooltip-root sh-tooltip font-regular\">\n",
            "      A dividend is the distribution of reward from a portion of company's earnings and is paid to its shareholders. Good dividend returns indicate good health and outlook for the company\n",
            "     </div>\n",
            "    </span>\n",
            "   </h4>\n",
            "   <p class=\"jsx-2638469698 jsx-482152645 lh-138 text-13 text-secondary typography-body-regular-m commentary-desc\">\n",
            "    Stock doesn't offer attractive dividend returns\n",
            "   </p>\n",
            "  </div>\n",
            " </div>\n",
            " <div class=\"jsx-3261526196 jsx-482152645 commentary-item-root d-flex-row align-start justify-start \" eventlabel=\"Clicked Checklist Item\">\n",
            "  <i class=\"jsx-3261526196 jsx-482152645 icon-mood icon-negative-comment text-24 mr12\">\n",
            "  </i>\n",
            "  <div class=\"jsx-3261526196 jsx-482152645 content\">\n",
            "   <h4 class=\"jsx-3261526196 jsx-482152645 typography-body-medium-m text-primary\">\n",
            "    <span class=\"jsx-3261526196 jsx-482152645 relative no-select tooltip-holder\">\n",
            "     Entry Point\n",
            "     <div class=\"jsx-1503855875 tooltip-root sh-tooltip font-regular\">\n",
            "      High demand for a stock increases its price. If the price is pushed up to a level which is not justified, then it's considered to be in the overbought zone, which is not a good time to buy the stock\n",
            "     </div>\n",
            "    </span>\n",
            "   </h4>\n",
            "   <p class=\"jsx-3261526196 jsx-482152645 lh-138 text-13 text-secondary typography-body-regular-m commentary-desc\">\n",
            "    Not a good time to invest, stock is in overbought zone\n",
            "   </p>\n",
            "  </div>\n",
            " </div>\n",
            " <div class=\"jsx-3791761484 jsx-482152645 commentary-item-root d-flex-row align-start justify-start \" eventlabel=\"Clicked Checklist Item\">\n",
            "  <i class=\"jsx-3791761484 jsx-482152645 icon-mood icon-positive-comment text-24 mr12\">\n",
            "  </i>\n",
            "  <div class=\"jsx-3791761484 jsx-482152645 content\">\n",
            "   <h4 class=\"jsx-3791761484 jsx-482152645 typography-body-medium-m text-primary\">\n",
            "    <span class=\"jsx-3791761484 jsx-482152645 relative no-select tooltip-holder\">\n",
            "     No Red Flags\n",
            "     <div class=\"jsx-1503855875 tooltip-root sh-tooltip font-regular\">\n",
            "      ASM and GSM lists are measures to safeguard investors against volatility and unjustified stock prices. Pledging holdings means taking loans against held promoter shares. Stocks in ASM/GSM list or with high pledged promoter holding should be handled with caution. Unsolicited tips are sometimes circulated to manipulate the market. Beware of these stocks\n",
            "     </div>\n",
            "    </span>\n",
            "   </h4>\n",
            "   <p class=\"jsx-3791761484 jsx-482152645 lh-138 text-13 text-secondary typography-body-regular-m commentary-desc\">\n",
            "    Stock not in ASM/GSM lists and not a lot of promoter holding is pledged\n",
            "   </p>\n",
            "  </div>\n",
            " </div>\n",
            "</div>\n",
            "\n"
          ]
        }
      ]
    },
    {
      "cell_type": "code",
      "source": [
        "htmlBlock = soup.find(\"div\", class_=\"carousel-item\")\n",
        "\n",
        "# get all keys and values\n",
        "for item in htmlBlock.childGenerator():\n",
        "    key = item.find(\"span\", class_=\"tooltip-holder\").contents[0]\n",
        "    key = key.title().replace(\" \", \"\")\n",
        "    value = item.find(\"i\")['class'][3].split(\"-\")[1]\n",
        "\n",
        "    print(key, value)"
      ],
      "metadata": {
        "colab": {
          "base_uri": "https://localhost:8080/"
        },
        "id": "-OZstV6glDcC",
        "outputId": "73f768c4-2337-4f54-9e6f-f5a77c8f9ab6"
      },
      "execution_count": 13,
      "outputs": [
        {
          "output_type": "stream",
          "name": "stdout",
          "text": [
            "IntrinsicValue neutral\n",
            "RoeVsFdRates negative\n",
            "DividendReturns negative\n",
            "EntryPoint negative\n",
            "NoRedFlags positive\n"
          ]
        }
      ]
    },
    {
      "cell_type": "code",
      "source": [
        ""
      ],
      "metadata": {
        "id": "A-uCXOAoBcwB"
      },
      "execution_count": 13,
      "outputs": []
    },
    {
      "cell_type": "markdown",
      "source": [
        "### [3] Price Chart"
      ],
      "metadata": {
        "id": "orSWUF2B1TPc"
      }
    },
    {
      "cell_type": "code",
      "source": [
        ""
      ],
      "metadata": {
        "id": "tWnS8wzN1ajR"
      },
      "execution_count": 13,
      "outputs": []
    },
    {
      "cell_type": "markdown",
      "source": [
        "### [4] Key Metrics"
      ],
      "metadata": {
        "id": "eo73RLqK1chc"
      }
    },
    {
      "cell_type": "code",
      "source": [
        ""
      ],
      "metadata": {
        "id": "iNOzGEBI2D_h"
      },
      "execution_count": 13,
      "outputs": []
    },
    {
      "cell_type": "markdown",
      "source": [
        "### [5] Forecast & Ratings"
      ],
      "metadata": {
        "id": "_XWI16cP1cj4"
      }
    },
    {
      "cell_type": "code",
      "source": [
        "# Forecast\n",
        "htmlBlock = soup.find(\"div\", class_=\"forecast-radial\")\n",
        "print(htmlBlock.prettify())"
      ],
      "metadata": {
        "colab": {
          "base_uri": "https://localhost:8080/"
        },
        "id": "u45ihTJ_1ri8",
        "outputId": "ab36977b-2a0a-452a-9abc-b785c252c3f9"
      },
      "execution_count": 14,
      "outputs": [
        {
          "output_type": "stream",
          "name": "stdout",
          "text": [
            "<div class=\"jsx-3770717616 forecast-radial\">\n",
            " <div class=\"jsx-3770717616 radial-holder\">\n",
            "  <div class=\"rv-xy-plot rv-radial-chart\" style=\"width:64px;height:64px\">\n",
            "   <svg class=\"rv-xy-plot__inner\" height=\"64\" width=\"64\">\n",
            "    <g class=\"rv-xy-plot__series rv-xy-plot__series--arc \" opacity=\"1\" pointer-events=\"all\" transform=\"translate(32,32)\">\n",
            "     <path class=\"rv-xy-plot__series rv-xy-plot__series--arc-path rv-radial-chart__series--pie__slice \" d=\"M1.959434878635765e-15,-32A32,32,0,1,1,-1.959434878635765e-15,32A32,32,0,1,1,1.959434878635765e-15,-32M1.6907553595872534e-14,-24A24,24,0,1,0,-1.6907553595872534e-14,24A24,24,0,1,0,1.6907553595872534e-14,-24Z\" style=\"opacity:1;stroke:transparent;fill:rgba(129, 135, 140, 0.22)\">\n",
            "     </path>\n",
            "     <path class=\"rv-xy-plot__series rv-xy-plot__series--arc-path rv-radial-chart__series--pie__slice \" d=\"M1.959434878635765e-15,-32L1.4695761589768238e-15,-24Z\" style=\"opacity:1;stroke:transparent;fill:#07d459\">\n",
            "     </path>\n",
            "    </g>\n",
            "   </svg>\n",
            "  </div>\n",
            "  <span class=\"jsx-3770717616 percBuyReco-value typography-h5 text-primary empty\">\n",
            "   —\n",
            "  </span>\n",
            " </div>\n",
            " <span class=\"jsx-3770717616 text-15 text-teritiary lh-138 ml16\">\n",
            "  Forecast data is currently unavailable for this stock\n",
            " </span>\n",
            "</div>\n",
            "\n"
          ]
        }
      ]
    },
    {
      "cell_type": "code",
      "source": [
        "# get forcast percentage\n",
        "\n",
        "value = htmlBlock.div.span.contents[0] if str(htmlBlock.div.span.contents[0]) != \"—\" else \"\"\n",
        "print(value)\n",
        "\n",
        "symbol = htmlBlock.div.span.span.text if htmlBlock.div.span.span is not None else \"\"\n",
        "print(symbol)\n",
        "\n",
        "print(value + symbol if (value + symbol) != \"\" else None)"
      ],
      "metadata": {
        "colab": {
          "base_uri": "https://localhost:8080/"
        },
        "id": "uhBslxTp38Qe",
        "outputId": "edf69583-5e07-4912-872e-36aa1a67e9f0"
      },
      "execution_count": 15,
      "outputs": [
        {
          "output_type": "stream",
          "name": "stdout",
          "text": [
            "\n",
            "\n",
            "None\n"
          ]
        }
      ]
    },
    {
      "cell_type": "code",
      "source": [
        "\"\" + \"\""
      ],
      "metadata": {
        "id": "bSge6J4Z2Joq",
        "outputId": "3570f900-4226-458c-feea-0bcb7487091d",
        "colab": {
          "base_uri": "https://localhost:8080/",
          "height": 35
        }
      },
      "execution_count": 16,
      "outputs": [
        {
          "output_type": "execute_result",
          "data": {
            "text/plain": [
              "''"
            ],
            "application/vnd.google.colaboratory.intrinsic+json": {
              "type": "string"
            }
          },
          "metadata": {},
          "execution_count": 16
        }
      ]
    },
    {
      "cell_type": "code",
      "source": [
        "# get forcast text\n",
        "value = htmlBlock.h4.text if htmlBlock.h4 is not None else None\n",
        "print(value)"
      ],
      "metadata": {
        "colab": {
          "base_uri": "https://localhost:8080/"
        },
        "id": "tZj0heN_2JmP",
        "outputId": "f1ad4b6b-bd1c-4854-ce9b-aa906b7c9a61"
      },
      "execution_count": 17,
      "outputs": [
        {
          "output_type": "stream",
          "name": "stdout",
          "text": [
            "None\n"
          ]
        }
      ]
    },
    {
      "cell_type": "code",
      "source": [
        ""
      ],
      "metadata": {
        "id": "WZDuVZEJ3WCb"
      },
      "execution_count": 17,
      "outputs": []
    },
    {
      "cell_type": "markdown",
      "source": [
        "# Let us try and extract data (from all the pages)"
      ],
      "metadata": {
        "id": "MwF82Yx93WQ3"
      }
    },
    {
      "cell_type": "markdown",
      "source": [
        "Import scraped data containing all stock/etf names and subdirectory, <br>\n",
        "and Hit \"https://www.tickertape.in/stocks/{stock-name}\""
      ],
      "metadata": {
        "id": "3J4teIPY4WR3"
      }
    },
    {
      "cell_type": "code",
      "source": [
        "with open('top-company-list.json', 'r') as fp:\n",
        "    topcompanies = json.load(fp)\n",
        "\n",
        "topcompanies[0]"
      ],
      "metadata": {
        "id": "s-0iLhJd3nVm",
        "outputId": "bbe747f9-9a1d-47dc-de3a-20ed9713bc79",
        "colab": {
          "base_uri": "https://localhost:8080/"
        }
      },
      "execution_count": 18,
      "outputs": [
        {
          "output_type": "execute_result",
          "data": {
            "text/plain": [
              "{'name': 'Adani Enterprises Ltd',\n",
              " 'subdirectory': 'adani-enterprises-ADEL',\n",
              " 'type': 'stocks'}"
            ]
          },
          "metadata": {},
          "execution_count": 18
        }
      ]
    },
    {
      "cell_type": "code",
      "source": [
        "with open('full-company-list.json', 'r') as fp:\n",
        "    allcompanies = json.load(fp)\n",
        "\n",
        "allcompanies[0]"
      ],
      "metadata": {
        "id": "9dxNjdbj3n6a",
        "outputId": "d14fecd7-1e30-493b-b8a1-87ff907a1f62",
        "colab": {
          "base_uri": "https://localhost:8080/"
        }
      },
      "execution_count": 19,
      "outputs": [
        {
          "output_type": "execute_result",
          "data": {
            "text/plain": [
              "{'name': 'A & M Febcon Ltd',\n",
              " 'subdirectory': 'a-and-m-febcon-AMF',\n",
              " 'type': 'stocks'}"
            ]
          },
          "metadata": {},
          "execution_count": 19
        }
      ]
    },
    {
      "cell_type": "code",
      "source": [
        ""
      ],
      "metadata": {
        "id": "-GSihzev3n8-"
      },
      "execution_count": 19,
      "outputs": []
    },
    {
      "cell_type": "code",
      "source": [
        "def scrapeTickertape(name, stocktype, subdirectory):\n",
        "    _url = \"https://www.tickertape.in/\" + stocktype + \"/\" + subdirectory\n",
        "    _data = {}\n",
        "\n",
        "    try:\n",
        "        # hit the page and get html\n",
        "        _header = {\n",
        "            \"User-Agent\": \"Mozilla/5.0 (Windows NT 10.0; Win64; x64) AppleWebKit/537.36 (KHTML, like Gecko) Chrome/80.0.3987.163 Safari/537.36\"\n",
        "        }\n",
        "        _response = requests.get(_url, headers=_header)\n",
        "\n",
        "        # give the webpage to Beautiful Soup using parsers: \"html.parser\" or \"lxml\"\n",
        "        _soup = BeautifulSoup(_response.text, 'lxml')\n",
        "\n",
        "        ######### extract html data from webpage and form output data #########\n",
        "\n",
        "        # company name\n",
        "        _htmlBlock = _soup.find(\"h3\", class_=\"security-name\")\n",
        "        _data[\"companyName\"] = _htmlBlock.text if _htmlBlock is not None else None\n",
        "\n",
        "        # ticker name\n",
        "        _htmlBlock = _soup.find(\"span\", class_=\"ticker\")\n",
        "        _data[\"ticker\"] = _htmlBlock.text if _htmlBlock is not None else None\n",
        "\n",
        "        # current price\n",
        "        _htmlBlock = _soup.find(\"span\", class_=\"current-price\")\n",
        "        _data[\"currentPrice\"] = _htmlBlock.text if _htmlBlock is not None else None\n",
        "\n",
        "        # checklist carousel-item get all keys and values\n",
        "        _htmlBlock = _soup.find(\"div\", class_=\"carousel-item\")\n",
        "        for _item in _htmlBlock.childGenerator():\n",
        "            _key = _item.find(\"span\", class_=\"tooltip-holder\").contents[0]\n",
        "            _key = _key.title().replace(\" \", \"\")\n",
        "            _value = _item.find(\"i\")['class'][3].split(\"-\")[1]\n",
        "            _data[_key] = _value\n",
        "\n",
        "        # Forecast\n",
        "        _htmlBlock = _soup.find(\"div\", class_=\"forecast-radial\")\n",
        "\n",
        "        _value = _htmlBlock.div.span.contents[0] if str(_htmlBlock.div.span.contents[0]) != \"—\" else \"\"\n",
        "        _symbol = _htmlBlock.div.span.contents[0] if str(_htmlBlock.div.span.contents[0]) != \"—\" else \"\"\n",
        "        _data[\"buyRecommendation\"] = _value + _symbol if (_value + _symbol) != \"\" else None\n",
        "\n",
        "        _data[\"forecast\"] = _htmlBlock.h4.text if _htmlBlock.h4 is not None else None\n",
        "\n",
        "        return _data\n",
        "    except Exception as _e:\n",
        "        print(_e)\n",
        "        return []"
      ],
      "metadata": {
        "id": "V0fow5JZ6J1W"
      },
      "execution_count": 20,
      "outputs": []
    },
    {
      "cell_type": "code",
      "source": [
        "scrapeTickertape(topcompanies[0][\"name\"], topcompanies[0][\"type\"], topcompanies[0][\"subdirectory\"])"
      ],
      "metadata": {
        "id": "nGBNt8gW6J3v",
        "outputId": "83a37717-6ab1-477b-d047-381a22e901a7",
        "colab": {
          "base_uri": "https://localhost:8080/"
        }
      },
      "execution_count": 21,
      "outputs": [
        {
          "output_type": "execute_result",
          "data": {
            "text/plain": [
              "{'DividendReturns': 'negative',\n",
              " 'EntryPoint': 'negative',\n",
              " 'IntrinsicValue': 'negative',\n",
              " 'NoRedFlags': 'positive',\n",
              " 'RoeVsFdRates': 'negative',\n",
              " 'buyRecommendation': '00',\n",
              " 'companyName': 'Adani Enterprises Ltd',\n",
              " 'currentPrice': '2,199.45',\n",
              " 'forecast': 'Analysts have suggested that investors can buy this stock',\n",
              " 'ticker': 'ADANIENT'}"
            ]
          },
          "metadata": {},
          "execution_count": 21
        }
      ]
    },
    {
      "cell_type": "code",
      "source": [
        "# let's scrape all the stocks & etfs!\n",
        "topStocksData = []\n",
        "\n",
        "for companies in topcompanies:\n",
        "    companyName = companies[\"name\"]\n",
        "    companyType = companies[\"type\"]\n",
        "    companyDir = companies[\"subdirectory\"]\n",
        "    print(companyName, \"url: https://www.tickertape.in/\" + companyType + \"/\" + companyDir)\n",
        "    try:\n",
        "        # get data from each page and append to data list\n",
        "        topStocksData.append(scrapeTickertape(companyName, companyType, companyDir))\n",
        "        print(\"successful!\")\n",
        "    except Exception as _e:\n",
        "        # some issue occured, catch exception\n",
        "        print(\"failed!\")\n",
        "        print(_e)"
      ],
      "metadata": {
        "id": "b6oT7m8iE-lT",
        "outputId": "bde46fa6-a6f6-4038-cf4c-2902a9e45604",
        "colab": {
          "base_uri": "https://localhost:8080/"
        }
      },
      "execution_count": 22,
      "outputs": [
        {
          "output_type": "stream",
          "name": "stdout",
          "text": [
            "Adani Enterprises Ltd url: https://www.tickertape.in/stocks/adani-enterprises-ADEL\n",
            "successful!\n",
            "Adani Green Energy Ltd url: https://www.tickertape.in/stocks/adani-green-energy-ADNA\n",
            "successful!\n",
            "Adani Ports and Special Economic Zone Ltd url: https://www.tickertape.in/stocks/adani-ports-and-special-economic-zone-APSE\n",
            "successful!\n",
            "Adani Power Ltd url: https://www.tickertape.in/stocks/adani-power-ADAN\n",
            "successful!\n",
            "Adani Total Gas Ltd url: https://www.tickertape.in/stocks/adani-gas-ADAG\n",
            "successful!\n",
            "Adani Transmission Ltd url: https://www.tickertape.in/stocks/adani-transmission-ADAI\n",
            "successful!\n",
            "Adani Wilmar Ltd url: https://www.tickertape.in/stocks/adani-wilmar-AWL\n",
            "successful!\n",
            "Ambuja Cements Ltd url: https://www.tickertape.in/stocks/ambuja-cements-ABUJ\n",
            "successful!\n",
            "Apollo Hospitals Enterprise Ltd url: https://www.tickertape.in/stocks/apollo-hospitals-enterprise-APLH\n",
            "successful!\n",
            "Asian Paints Ltd url: https://www.tickertape.in/stocks/asian-paints-ASPN\n",
            "successful!\n",
            "Avenue Supermarts Ltd url: https://www.tickertape.in/stocks/avenue-supermarts-AVEU\n",
            "successful!\n",
            "Axis Bank Ltd url: https://www.tickertape.in/stocks/axis-bank-AXBK\n",
            "successful!\n",
            "Bajaj Auto Ltd url: https://www.tickertape.in/stocks/bajaj-auto-BAJA\n",
            "successful!\n",
            "Bajaj Finance Ltd url: https://www.tickertape.in/stocks/bajaj-finance-BJFN\n",
            "successful!\n",
            "Bajaj Finserv Ltd url: https://www.tickertape.in/stocks/bajaj-finserv-BJFS\n",
            "successful!\n",
            "Bajaj Holdings and Investment Ltd url: https://www.tickertape.in/stocks/bajaj-holdings-and-investment-BJAT\n",
            "successful!\n",
            "Bandhan Bank Ltd url: https://www.tickertape.in/stocks/bandhan-bank-BANH\n",
            "successful!\n",
            "Bank of Baroda Ltd url: https://www.tickertape.in/stocks/bank-of-baroda-BOB\n",
            "successful!\n",
            "Berger Paints India Ltd url: https://www.tickertape.in/stocks/berger-paints-india-BRGR\n",
            "successful!\n",
            "Bharat Electronics Ltd url: https://www.tickertape.in/stocks/bharat-electronics-BAJE\n",
            "successful!\n",
            "Bharat Petroleum Corporation Ltd url: https://www.tickertape.in/stocks/bharat-petroleum-corporation-BPCL\n",
            "successful!\n",
            "Bharti Airtel Ltd url: https://www.tickertape.in/stocks/bharti-airtel-BRTI\n",
            "successful!\n",
            "Britannia Industries Ltd url: https://www.tickertape.in/stocks/britannia-industries-BRIT\n",
            "successful!\n",
            "Cholamandalam Investment and Finance Company Ltd url: https://www.tickertape.in/stocks/cholamandalam-investment-and-finance-company-CHLA\n",
            "successful!\n",
            "Cipla Ltd url: https://www.tickertape.in/stocks/cipla-CIPL\n",
            "successful!\n",
            "Coal India Ltd url: https://www.tickertape.in/stocks/coal-india-COAL\n",
            "successful!\n",
            "DLF Ltd url: https://www.tickertape.in/stocks/dlf-DLF\n",
            "successful!\n",
            "Dabur India Ltd url: https://www.tickertape.in/stocks/dabur-india-DABU\n",
            "successful!\n",
            "Divi's Laboratories Ltd url: https://www.tickertape.in/stocks/divis-laboratories-DIVI\n",
            "successful!\n",
            "Dr Reddy's Laboratories Ltd url: https://www.tickertape.in/stocks/drreddys-laboratories-REDY\n",
            "successful!\n",
            "Eicher Motors Ltd url: https://www.tickertape.in/stocks/eicher-motors-EICH\n",
            "successful!\n",
            "Fsn E-Commerce Ventures Ltd url: https://www.tickertape.in/stocks/fsn-e-commerce-ventures-NYK\n",
            "successful!\n",
            "GAIL (India) Ltd url: https://www.tickertape.in/stocks/gail-india-GAIL\n",
            "successful!\n",
            "Gland Pharma Ltd url: https://www.tickertape.in/stocks/gland-pharma-GLAN\n",
            "successful!\n",
            "Godrej Consumer Products Ltd url: https://www.tickertape.in/stocks/godrej-consumer-products-GOCP\n",
            "successful!\n",
            "Grasim Industries Ltd url: https://www.tickertape.in/stocks/grasim-industries-GRAS\n",
            "successful!\n",
            "HCL Technologies Ltd url: https://www.tickertape.in/stocks/hcl-technologies-HCLT\n",
            "successful!\n",
            "HDFC Bank Ltd url: https://www.tickertape.in/stocks/hdfc-bank-HDBK\n",
            "successful!\n",
            "HDFC Life Insurance Company Ltd url: https://www.tickertape.in/stocks/hdfc-life-insurance-company-HDFL\n",
            "successful!\n",
            "Havells India Ltd url: https://www.tickertape.in/stocks/havells-india-HVEL\n",
            "successful!\n",
            "Hindalco Industries Ltd url: https://www.tickertape.in/stocks/hindalco-industries-HALC\n",
            "successful!\n",
            "Hindustan Aeronautics Ltd url: https://www.tickertape.in/stocks/hindustan-aeronautics-HIAE\n",
            "successful!\n",
            "Hindustan Unilever Ltd url: https://www.tickertape.in/stocks/hindustan-unilever-HLL\n",
            "successful!\n",
            "Hindustan Zinc Ltd url: https://www.tickertape.in/stocks/hindustan-zinc-HZNC\n",
            "successful!\n",
            "Housing Development Finance Corporation Ltd url: https://www.tickertape.in/stocks/housing-development-finance-corporation-HDFC\n",
            "successful!\n",
            "ICICI Bank Ltd url: https://www.tickertape.in/stocks/icici-bank-ICBK\n",
            "successful!\n",
            "ICICI Lombard General Insurance Company Ltd url: https://www.tickertape.in/stocks/icici-lombard-general-insurance-company-ICIL\n",
            "successful!\n",
            "ICICI Prudential Life Insurance Company Ltd url: https://www.tickertape.in/stocks/icici-prudential-life-insurance-company-ICIR\n",
            "successful!\n",
            "ITC Ltd url: https://www.tickertape.in/stocks/itc-ITC\n",
            "successful!\n",
            "Indian Oil Corporation Ltd url: https://www.tickertape.in/stocks/indian-oil-corporation-IOC\n",
            "successful!\n",
            "Indian Railway Catering and Tourism Corporation Ltd url: https://www.tickertape.in/stocks/indian-railway-catering-and-tourism-corporation-INIR\n",
            "successful!\n",
            "Indus Towers Ltd url: https://www.tickertape.in/stocks/bharti-infratel-BHRI\n",
            "successful!\n",
            "Indusind Bank Ltd url: https://www.tickertape.in/stocks/indusind-bank-INBK\n",
            "successful!\n",
            "Info Edge (India) Ltd url: https://www.tickertape.in/stocks/info-edge-india-INED\n",
            "successful!\n",
            "Infosys Ltd url: https://www.tickertape.in/stocks/infosys-INFY\n",
            "successful!\n",
            "Interglobe Aviation Ltd url: https://www.tickertape.in/stocks/interglobe-aviation-INGL\n",
            "successful!\n",
            "JSW Energy Ltd url: https://www.tickertape.in/stocks/jsw-energy-JSWE\n",
            "successful!\n",
            "JSW Steel Ltd url: https://www.tickertape.in/stocks/jsw-steel-JSTL\n",
            "successful!\n",
            "Jindal Steel And Power Ltd url: https://www.tickertape.in/stocks/jindal-steel-and-power-JNSP\n",
            "successful!\n",
            "Kotak Mahindra Bank Ltd url: https://www.tickertape.in/stocks/kotak-mahindra-bank-KTKM\n",
            "successful!\n",
            "L&T Technology Services Ltd url: https://www.tickertape.in/stocks/landt-technology-services-LTEH\n",
            "successful!\n",
            "Larsen & Toubro Infotech Ltd url: https://www.tickertape.in/stocks/larsen-and-toubro-infotech-LRTI\n",
            "successful!\n",
            "Larsen & Toubro Ltd url: https://www.tickertape.in/stocks/larsen-and-toubro-LART\n",
            "successful!\n",
            "Macrotech Developers Ltd url: https://www.tickertape.in/stocks/macrotech-developers-LOD\n",
            "successful!\n",
            "Mahindra and Mahindra Ltd url: https://www.tickertape.in/stocks/mahindra-and-mahindra-MAHM\n",
            "successful!\n",
            "Marico Ltd url: https://www.tickertape.in/stocks/marico-MRCO\n",
            "successful!\n",
            "Maruti Suzuki India Ltd url: https://www.tickertape.in/stocks/maruti-suzuki-india-MRTI\n",
            "successful!\n",
            "MindTree Ltd url: https://www.tickertape.in/stocks/mindtree-MINT\n",
            "successful!\n",
            "Motherson Sumi Systems Ltd url: https://www.tickertape.in/stocks/motherson-sumi-systems-MOSS\n",
            "successful!\n",
            "Mphasis Ltd url: https://www.tickertape.in/stocks/mphasis-MBFL\n",
            "successful!\n",
            "Muthoot Finance Ltd url: https://www.tickertape.in/stocks/muthoot-finance-MUTT\n",
            "successful!\n",
            "NTPC Ltd url: https://www.tickertape.in/stocks/ntpc-NTPC\n",
            "successful!\n",
            "Nestle India Ltd url: https://www.tickertape.in/stocks/nestle-india-NEST\n",
            "successful!\n",
            "Oil and Natural Gas Corporation Ltd url: https://www.tickertape.in/stocks/oil-and-natural-gas-corporation-ONGC\n",
            "successful!\n",
            "Pidilite Industries Ltd url: https://www.tickertape.in/stocks/pidilite-industries-PIDI\n",
            "successful!\n",
            "Piramal Enterprises Ltd url: https://www.tickertape.in/stocks/piramal-enterprises-PIRA\n",
            "successful!\n",
            "Power Grid Corporation of India Ltd url: https://www.tickertape.in/stocks/power-grid-corporation-of-india-PGRD\n",
            "successful!\n",
            "Reliance Industries Ltd url: https://www.tickertape.in/stocks/reliance-industries-RELI\n",
            "successful!\n",
            "SBI Cards and Payment Services Ltd url: https://www.tickertape.in/stocks/sbi-cards-and-payment-services-SBIC\n",
            "successful!\n",
            "SBI Life Insurance Company Ltd url: https://www.tickertape.in/stocks/sbi-life-insurance-company-SBIL\n",
            "successful!\n",
            "SRF Ltd url: https://www.tickertape.in/stocks/srf-SRFL\n",
            "successful!\n",
            "Shree Cement Ltd url: https://www.tickertape.in/stocks/shree-cement-SHCM\n",
            "successful!\n",
            "Siemens Ltd url: https://www.tickertape.in/stocks/siemens-SIEM\n",
            "successful!\n",
            "State Bank of India url: https://www.tickertape.in/stocks/state-bank-of-india-SBI\n",
            "successful!\n",
            "Sun Pharmaceutical Industries Ltd url: https://www.tickertape.in/stocks/sun-pharmaceutical-industries-SUN\n",
            "successful!\n",
            "Tata Consultancy Services Ltd url: https://www.tickertape.in/stocks/tata-consultancy-services-TCS\n",
            "successful!\n",
            "Tata Consumer Products Ltd url: https://www.tickertape.in/stocks/tata-consumer-products-TACN\n",
            "successful!\n",
            "Tata Elxsi Ltd url: https://www.tickertape.in/stocks/tata-elxsi-TTEX\n",
            "successful!\n",
            "Tata Motors Ltd - DVR url: https://www.tickertape.in/stocks/tata-motors---dvr-TAMdv\n",
            "successful!\n",
            "Tata Motors Ltd url: https://www.tickertape.in/stocks/tata-motors-TAMO\n",
            "successful!\n",
            "Tata Power Company Ltd url: https://www.tickertape.in/stocks/tata-power-company-TTPW\n",
            "successful!\n",
            "Tata Steel Ltd url: https://www.tickertape.in/stocks/tata-steel-TISC\n",
            "successful!\n",
            "Tech Mahindra Ltd url: https://www.tickertape.in/stocks/tech-mahindra-TEML\n",
            "successful!\n",
            "Titan Company Ltd url: https://www.tickertape.in/stocks/titan-company-TITN\n",
            "successful!\n",
            "UPL Ltd url: https://www.tickertape.in/stocks/upl-UPLL\n",
            "successful!\n",
            "UltraTech Cement Ltd url: https://www.tickertape.in/stocks/ultratech-cement-ULTC\n",
            "successful!\n",
            "United Spirits Ltd url: https://www.tickertape.in/stocks/united-spirits-UNSP\n",
            "successful!\n",
            "Vedanta Ltd url: https://www.tickertape.in/stocks/vedanta-VDAN\n",
            "successful!\n",
            "Wipro Ltd url: https://www.tickertape.in/stocks/wipro-WIPR\n",
            "successful!\n",
            "Zomato Ltd url: https://www.tickertape.in/stocks/zomato-ZOM\n",
            "successful!\n"
          ]
        }
      ]
    },
    {
      "cell_type": "code",
      "source": [
        ""
      ],
      "metadata": {
        "id": "R70dmgT1IVis"
      },
      "execution_count": 22,
      "outputs": []
    },
    {
      "cell_type": "code",
      "source": [
        "# # let's scrape all the stocks & etfs!\n",
        "# allStocksData = []\n",
        "\n",
        "# for companies in allcompanies:\n",
        "#     companyName = companies[\"name\"]\n",
        "#     companyType = companies[\"type\"]\n",
        "#     companyDir = companies[\"subdirectory\"]\n",
        "#     print(companyName, \"url: https://www.tickertape.in/\" + companyType + \"/\" + companyDir)\n",
        "#     try:\n",
        "#         # get data from each page and append to data list\n",
        "#         allStocksData.append(scrapeTickertape(companyName, companyType, companyDir))\n",
        "#         print(\"successful!\")\n",
        "#     except Exception as _e:\n",
        "#         # some issue occured, catch exception\n",
        "#         print(\"failed!\")\n",
        "#         print(_e)"
      ],
      "metadata": {
        "id": "f6zmsCqVHgA8"
      },
      "execution_count": 23,
      "outputs": []
    },
    {
      "cell_type": "code",
      "source": [
        ""
      ],
      "metadata": {
        "id": "3mqzPU7LIaIv"
      },
      "execution_count": 23,
      "outputs": []
    },
    {
      "cell_type": "code",
      "source": [
        ""
      ],
      "metadata": {
        "id": "hEI4HLqVIaLB"
      },
      "execution_count": 23,
      "outputs": []
    },
    {
      "cell_type": "markdown",
      "source": [
        "## Exporting the data"
      ],
      "metadata": {
        "id": "6964EOvnJUlX"
      }
    },
    {
      "cell_type": "code",
      "source": [
        "with open(\"top-company-tickertape-data.json\", \"w\") as outfile:\n",
        "    json.dump(topStocksData, outfile)"
      ],
      "metadata": {
        "id": "XjUL8nkcIaOa"
      },
      "execution_count": 24,
      "outputs": []
    },
    {
      "cell_type": "code",
      "source": [
        ""
      ],
      "metadata": {
        "id": "hyvH5cFuJbHG"
      },
      "execution_count": 24,
      "outputs": []
    }
  ]
}