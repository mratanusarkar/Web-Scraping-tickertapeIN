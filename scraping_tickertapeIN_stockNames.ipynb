{
  "nbformat": 4,
  "nbformat_minor": 0,
  "metadata": {
    "colab": {
      "name": "Web Scraping tickertapeIN - stock names.ipynb",
      "provenance": [],
      "authorship_tag": "ABX9TyMDHYwByf9AhwGP3Zu3GNbv",
      "include_colab_link": true
    },
    "kernelspec": {
      "name": "python3",
      "display_name": "Python 3"
    },
    "language_info": {
      "name": "python"
    }
  },
  "cells": [
    {
      "cell_type": "markdown",
      "metadata": {
        "id": "view-in-github",
        "colab_type": "text"
      },
      "source": [
        "<a href=\"https://colab.research.google.com/github/mratanusarkar/Web-Scraping-tickertapeIN/blob/basic-scraper-colab/scraping_tickertapeIN_stockNames.ipynb\" target=\"_parent\"><img src=\"https://colab.research.google.com/assets/colab-badge.svg\" alt=\"Open In Colab\"/></a>"
      ]
    },
    {
      "cell_type": "markdown",
      "source": [
        "# Web Scraping all stock names from tickertape.in"
      ],
      "metadata": {
        "id": "jFWK4XraZsGc"
      }
    },
    {
      "cell_type": "markdown",
      "source": [
        "**Input**: None <br>\n",
        "**Output**: 2 list of strings containing \"Top\" stock names and \"All\" stock names on \"https://www.tickertape.in/stocks\""
      ],
      "metadata": {
        "id": "SjQw016pZ5bg"
      }
    },
    {
      "cell_type": "markdown",
      "source": [
        "## Import Packages"
      ],
      "metadata": {
        "id": "OcFpi1cFcDW0"
      }
    },
    {
      "cell_type": "code",
      "source": [
        "import numpy as np\n",
        "import pandas as pd\n",
        "import requests\n",
        "from bs4 import BeautifulSoup\n",
        "\n",
        "import time\n",
        "from datetime import timedelta"
      ],
      "metadata": {
        "id": "c0wD-RzybeO9"
      },
      "execution_count": 10,
      "outputs": []
    },
    {
      "cell_type": "markdown",
      "source": [
        "## Request and Fetch the Webpage (for one sample page)"
      ],
      "metadata": {
        "id": "igOJKmX7cIWj"
      }
    },
    {
      "cell_type": "code",
      "source": [
        "# hit \"https://www.tickertape.in/stocks?filter=<filter-value>\"\n",
        "requests.get(\"https://www.tickertape.in/stocks?filter=a\")"
      ],
      "metadata": {
        "colab": {
          "base_uri": "https://localhost:8080/"
        },
        "id": "uN6CTb4tcWTd",
        "outputId": "a0c84739-422b-45bc-a567-5b464bd1ca13"
      },
      "execution_count": 12,
      "outputs": [
        {
          "output_type": "execute_result",
          "data": {
            "text/plain": [
              "<Response [200]>"
            ]
          },
          "metadata": {},
          "execution_count": 12
        }
      ]
    },
    {
      "cell_type": "code",
      "source": [
        "# wow! no restriction for bots! no need of any headers!\n",
        "response = requests.get(\"https://www.tickertape.in/stocks?filter=a\")\n",
        "response.text[0:500]"
      ],
      "metadata": {
        "colab": {
          "base_uri": "https://localhost:8080/",
          "height": 70
        },
        "id": "O-3k6Ngicr2N",
        "outputId": "f23ffd17-d933-4bd0-9bfb-61c16b72ab25"
      },
      "execution_count": 13,
      "outputs": [
        {
          "output_type": "execute_result",
          "data": {
            "text/plain": [
              "'<!DOCTYPE html><html lang=\"en-US\"><head><meta http-equiv=\"X-UA-Compatible\" content=\"IE=edge\"/><link rel=\"shortcut icon\" href=\"/favicon/favicon.png\"/><link rel=\"apple-touch-icon\" href=\"/favicon/favicon-192x192.png\"/><link rel=\"manifest\" href=\"/manifest/manifest.json\"/><style type=\"text/css\">:root {--white: #ffffff; --font_primary: #535B62; --font_dark: #2f363f; --font_light: #81878c; --font_blue: #0088ea; --font_lighter: #a2a8ae; --brand_primary: #151e28; --brand_success: #28c39a; --brand_danger:'"
            ],
            "application/vnd.google.colaboratory.intrinsic+json": {
              "type": "string"
            }
          },
          "metadata": {},
          "execution_count": 13
        }
      ]
    },
    {
      "cell_type": "code",
      "source": [
        "# not required for this webpage, use if bot restrictions are added in future.\n",
        "\n",
        "# google chrome browser's request header (to make it look like, we are making this request from a browser)\n",
        "header = {\n",
        "  \"User-Agent\": \"Mozilla/5.0 (Windows NT 10.0; Win64; x64) AppleWebKit/537.36 (KHTML, like Gecko) Chrome/80.0.3987.163 Safari/537.36\"\n",
        "}\n",
        "\n",
        "# hit using the header\n",
        "response = requests.get(\"https://www.tickertape.in/stocks?filter=a\", headers=header)\n",
        "response.text[0:500]"
      ],
      "metadata": {
        "colab": {
          "base_uri": "https://localhost:8080/",
          "height": 70
        },
        "id": "ZMW71O25c9Hl",
        "outputId": "274ac76f-6172-47a8-e958-a651e7b8fb9b"
      },
      "execution_count": 14,
      "outputs": [
        {
          "output_type": "execute_result",
          "data": {
            "text/plain": [
              "'<!DOCTYPE html><html lang=\"en-US\"><head><meta http-equiv=\"X-UA-Compatible\" content=\"IE=edge\"/><link rel=\"shortcut icon\" href=\"/favicon/favicon.png\"/><link rel=\"apple-touch-icon\" href=\"/favicon/favicon-192x192.png\"/><link rel=\"manifest\" href=\"/manifest/manifest.json\"/><style type=\"text/css\">:root {--white: #ffffff; --font_primary: #535B62; --font_dark: #2f363f; --font_light: #81878c; --font_blue: #0088ea; --font_lighter: #a2a8ae; --brand_primary: #151e28; --brand_success: #28c39a; --brand_danger:'"
            ],
            "application/vnd.google.colaboratory.intrinsic+json": {
              "type": "string"
            }
          },
          "metadata": {},
          "execution_count": 14
        }
      ]
    },
    {
      "cell_type": "markdown",
      "source": [
        "## Pass the fetched webpage response to Beautiful Soup"
      ],
      "metadata": {
        "id": "XJNdAiOReo2n"
      }
    },
    {
      "cell_type": "code",
      "source": [
        "# give the webpage to Beautiful Soup using parsers: \"html.parser\" or \"lxml\"\n",
        "soup = BeautifulSoup(response.text, 'lxml')"
      ],
      "metadata": {
        "id": "RA-dseaKd1GS"
      },
      "execution_count": 15,
      "outputs": []
    },
    {
      "cell_type": "markdown",
      "source": [
        "## Let us try and extract data (from one sample page)"
      ],
      "metadata": {
        "id": "ZKYRke2Ilhrt"
      }
    },
    {
      "cell_type": "markdown",
      "source": [
        "- extract one company name in the page\n",
        "- extract all company name in the page"
      ],
      "metadata": {
        "id": "8pCfA5bWjJRE"
      }
    },
    {
      "cell_type": "markdown",
      "source": [
        "### Extracting one company name"
      ],
      "metadata": {
        "id": "IqCNbmt8l3Ec"
      }
    },
    {
      "cell_type": "code",
      "source": [
        "# company name\n",
        "htmlBlock = soup.find(\"li\")\n",
        "print(htmlBlock)"
      ],
      "metadata": {
        "colab": {
          "base_uri": "https://localhost:8080/"
        },
        "id": "2zTscJQSd1In",
        "outputId": "deb054e3-08f7-47b0-fb0e-b44a04b7d63a"
      },
      "execution_count": 18,
      "outputs": [
        {
          "output_type": "stream",
          "name": "stdout",
          "text": [
            "<li class=\"jsx-1528870203\"><a class=\"jsx-1528870203\" href=\"/stocks/ab-cotspin-india-ABCO\">A B Cotspin India Ltd</a></li>\n"
          ]
        }
      ]
    },
    {
      "cell_type": "code",
      "source": [
        "htmlBlock.a['href'].split('/')[2]"
      ],
      "metadata": {
        "colab": {
          "base_uri": "https://localhost:8080/",
          "height": 35
        },
        "id": "bSlioJ9SZzuT",
        "outputId": "365bfb54-1bb2-43b3-83ff-de4462322b2f"
      },
      "execution_count": 23,
      "outputs": [
        {
          "output_type": "execute_result",
          "data": {
            "text/plain": [
              "'ab-cotspin-india-ABCO'"
            ],
            "application/vnd.google.colaboratory.intrinsic+json": {
              "type": "string"
            }
          },
          "metadata": {},
          "execution_count": 23
        }
      ]
    },
    {
      "cell_type": "code",
      "source": [
        "htmlBlock.a.text"
      ],
      "metadata": {
        "colab": {
          "base_uri": "https://localhost:8080/",
          "height": 35
        },
        "id": "ogWuUENpiNMD",
        "outputId": "a675706a-bb24-4935-96c7-06e70ceedbc8"
      },
      "execution_count": 24,
      "outputs": [
        {
          "output_type": "execute_result",
          "data": {
            "text/plain": [
              "'A B Cotspin India Ltd'"
            ],
            "application/vnd.google.colaboratory.intrinsic+json": {
              "type": "string"
            }
          },
          "metadata": {},
          "execution_count": 24
        }
      ]
    },
    {
      "cell_type": "code",
      "source": [
        ""
      ],
      "metadata": {
        "id": "pd7cxn9siiGm"
      },
      "execution_count": null,
      "outputs": []
    },
    {
      "cell_type": "markdown",
      "source": [
        "### Extracting all the company names"
      ],
      "metadata": {
        "id": "xQuKNj_vjAUc"
      }
    },
    {
      "cell_type": "code",
      "source": [
        "# company name\n",
        "htmlBlock = soup.find_all(\"li\")\n",
        "print(htmlBlock)"
      ],
      "metadata": {
        "colab": {
          "base_uri": "https://localhost:8080/"
        },
        "id": "fG_2Jwx9jD8w",
        "outputId": "6aecd10d-8107-4b3b-8cdc-4ceaa3d4b3fc"
      },
      "execution_count": 28,
      "outputs": [
        {
          "output_type": "stream",
          "name": "stdout",
          "text": [
            "[<li class=\"jsx-1528870203\"><a class=\"jsx-1528870203\" href=\"/stocks/ab-cotspin-india-ABCO\">A B Cotspin India Ltd</a></li>, <li class=\"jsx-1528870203\"><a class=\"jsx-1528870203\" href=\"/stocks/a-b-infrabuild-ABIN\">A B Infrabuild Ltd</a></li>, <li class=\"jsx-1528870203\"><a class=\"jsx-1528870203\" href=\"/stocks/a-f-enterprises-AFE\">A F Enterprises Ltd</a></li>, <li class=\"jsx-1528870203\"><a class=\"jsx-1528870203\" href=\"/stocks/a-infrastructure-AIN\">A Infrastructure Ltd</a></li>, <li class=\"jsx-1528870203\"><a class=\"jsx-1528870203\" href=\"/stocks/akcapital-services-AKC\">A K Capital Services Ltd</a></li>, <li class=\"jsx-1528870203\"><a class=\"jsx-1528870203\" href=\"/stocks/a-and-m-jumbo-bags-AMJU\">A and M Jumbo Bags Ltd</a></li>, <li class=\"jsx-1528870203\"><a class=\"jsx-1528870203\" href=\"/stocks/a-1-acid-AAL\">A-1 Acid Ltd</a></li>, <li class=\"jsx-1528870203\"><a class=\"jsx-1528870203\" href=\"/stocks/a2z-infra-engineering-A2ZI\">A2z Infra Engineering Ltd</a></li>, <li class=\"jsx-1528870203\"><a class=\"jsx-1528870203\" href=\"/stocks/aa-plus-tradelink-AAP\">AA Plus Tradelink Ltd</a></li>, <li class=\"jsx-1528870203\"><a class=\"jsx-1528870203\" href=\"/stocks/aaa-technologies-AAA\">AAA Technologies Ltd</a></li>, <li class=\"jsx-1528870203\"><a class=\"jsx-1528870203\" href=\"/stocks/aar-commercial-company-AARC\">AAR Commercial Co Ltd</a></li>, <li class=\"jsx-1528870203\"><a class=\"jsx-1528870203\" href=\"/stocks/aar-shyam-india-investment-company-AARS\">AAR Shyam India Investment Company Ltd</a></li>, <li class=\"jsx-1528870203\"><a class=\"jsx-1528870203\" href=\"/stocks/aarv-infratel-AARV\">AARV Infratel Ltd</a></li>, <li class=\"jsx-1528870203\"><a class=\"jsx-1528870203\" href=\"/stocks/abb-india-ABB\">ABB India Ltd</a></li>, <li class=\"jsx-1528870203\"><a class=\"jsx-1528870203\" href=\"/stocks/abc-india-ABC\">ABC India Ltd</a></li>, <li class=\"jsx-1528870203\"><a class=\"jsx-1528870203\" href=\"/stocks/abm-knowledgeware-ABM\">ABM Knowledgeware Ltd</a></li>, <li class=\"jsx-1528870203\"><a class=\"jsx-1528870203\" href=\"/stocks/acc-ACC\">ACC Ltd</a></li>, <li class=\"jsx-1528870203\"><a class=\"jsx-1528870203\" href=\"/stocks/ace-software-exports-ACES\">ACE Software Exports Ltd</a></li>, <li class=\"jsx-1528870203\"><a class=\"jsx-1528870203\" href=\"/stocks/aci-infocom-ACII\">ACI Infocom Ltd</a></li>, <li class=\"jsx-1528870203\"><a class=\"jsx-1528870203\" href=\"/stocks/ad-manum-finance-ADM\">AD- Manum Finance Ltd</a></li>, <li class=\"jsx-1528870203\"><a class=\"jsx-1528870203\" href=\"/stocks/adc-india-communications-KRO\">ADC India Communications Ltd</a></li>, <li class=\"jsx-1528870203\"><a class=\"jsx-1528870203\" href=\"/stocks/adf-foods-AMRN\">ADF Foods Ltd</a></li>, <li class=\"jsx-1528870203\"><a class=\"jsx-1528870203\" href=\"/stocks/agi-infra-AGI\">AGI Infra Ltd</a></li>, <li class=\"jsx-1528870203\"><a class=\"jsx-1528870203\" href=\"/stocks/ags-transact-technologies-AGS\">AGS Transact Technologies Ltd</a></li>, <li class=\"jsx-1528870203\"><a class=\"jsx-1528870203\" href=\"/stocks/aia-engineering-AIAE\">AIA Engineering Ltd</a></li>, <li class=\"jsx-1528870203\"><a class=\"jsx-1528870203\" href=\"/stocks/gammon-infrastructure-projects-GAIN\">AJR Infra and Tolling Ltd</a></li>, <li class=\"jsx-1528870203\"><a class=\"jsx-1528870203\" href=\"/stocks/a-k-spintex-AKSP\">AK Spintex Ltd</a></li>, <li class=\"jsx-1528870203\"><a class=\"jsx-1528870203\" href=\"/stocks/akg-exim-AKGE\">AKG Exim Ltd</a></li>, <li class=\"jsx-1528870203\"><a class=\"jsx-1528870203\" href=\"/stocks/aki-india-AKI\">AKI India Ltd</a></li>, <li class=\"jsx-1528870203\"><a class=\"jsx-1528870203\" href=\"/stocks/akm-lace-and-embrotex-AKM\">AKM Lace and Embrotex Ltd</a></li>, <li class=\"jsx-1528870203\"><a class=\"jsx-1528870203\" href=\"/stocks/amd-industries-AMDM\">AMD Industries Ltd</a></li>, <li class=\"jsx-1528870203\"><a class=\"jsx-1528870203\" href=\"/stocks/amj-land-holdings-AMJL\">AMJ Land Holdings Ltd</a></li>, <li class=\"jsx-1528870203\"><a class=\"jsx-1528870203\" href=\"/stocks/ams-polymers-AMM\">AMS Polymers Ltd</a></li>, <li class=\"jsx-1528870203\"><a class=\"jsx-1528870203\" href=\"/stocks/ang-industries-ANGI\">ANG Industries Ltd</a></li>, <li class=\"jsx-1528870203\"><a class=\"jsx-1528870203\" href=\"/stocks/ang-lifesciences-india-ANA\">ANG Lifesciences India Ltd</a></li>, <li class=\"jsx-1528870203\"><a class=\"jsx-1528870203\" href=\"/stocks/ani-integrated-services-ANII\">ANI Integrated Services Ltd</a></li>, <li class=\"jsx-1528870203\"><a class=\"jsx-1528870203\" href=\"/stocks/ans-industries-ANS\">ANS Industries Ltd</a></li>, <li class=\"jsx-1528870203\"><a class=\"jsx-1528870203\" href=\"/stocks/apl-apollo-tubes-APLA\">APL Apollo Tubes Ltd</a></li>, <li class=\"jsx-1528870203\"><a class=\"jsx-1528870203\" href=\"/stocks/apm-finvest-APM\">APM Finvest Ltd</a></li>, <li class=\"jsx-1528870203\"><a class=\"jsx-1528870203\" href=\"/stocks/apm-industries-APMI\">APM Industries Ltd</a></li>, <li class=\"jsx-1528870203\"><a class=\"jsx-1528870203\" href=\"/stocks/a-r-c-finance-ARC\">ARC Finance Ltd</a></li>, <li class=\"jsx-1528870203\"><a class=\"jsx-1528870203\" href=\"/stocks/arss-infrastructure-projects-ARSS\">ARSS Infrastructure Projects Ltd</a></li>, <li class=\"jsx-1528870203\"><a class=\"jsx-1528870203\" href=\"/stocks/asi-industries-ASO\">ASI Industries Ltd</a></li>, <li class=\"jsx-1528870203\"><a class=\"jsx-1528870203\" href=\"/stocks/asl-industries-ASLI\">ASL Industries Ltd</a></li>, <li class=\"jsx-1528870203\"><a class=\"jsx-1528870203\" href=\"/stocks/asm-technologies-ASM\">ASM Technologies Ltd</a></li>, <li class=\"jsx-1528870203\"><a class=\"jsx-1528870203\" href=\"/stocks/atn-international-ASGM\">ATN International Ltd</a></li>, <li class=\"jsx-1528870203\"><a class=\"jsx-1528870203\" href=\"/stocks/atv-projects-india-ATVP\">ATV Projects India Ltd</a></li>, <li class=\"jsx-1528870203\"><a class=\"jsx-1528870203\" href=\"/stocks/au-small-finance-bank-AUFI\">AU Small Finance Bank Ltd</a></li>, <li class=\"jsx-1528870203\"><a class=\"jsx-1528870203\" href=\"/stocks/avg-logistics-AVGL\">AVG Logistics Ltd</a></li>, <li class=\"jsx-1528870203\"><a class=\"jsx-1528870203\" href=\"/stocks/avi-polymers-AVI\">AVI Polymers Ltd</a></li>, <li class=\"jsx-1528870203\"><a class=\"jsx-1528870203\" href=\"/stocks/avi-products-india-APIL\">AVI Products India Ltd</a></li>, <li class=\"jsx-1528870203\"><a class=\"jsx-1528870203\" href=\"/stocks/avsl-industries-AVSL\">AVSL Industries Ltd</a></li>, <li class=\"jsx-1528870203\"><a class=\"jsx-1528870203\" href=\"/stocks/avt-natural-products-AVTN\">AVT Natural Products Ltd</a></li>, <li class=\"jsx-1528870203\"><a class=\"jsx-1528870203\" href=\"/stocks/aadi-industries-AADI\">Aadi Industries Ltd</a></li>, <li class=\"jsx-1528870203\"><a class=\"jsx-1528870203\" href=\"/stocks/aakash-exploration-services-AAKA\">Aakash Exploration Services Ltd</a></li>, <li class=\"jsx-1528870203\"><a class=\"jsx-1528870203\" href=\"/stocks/aananda-lakshmi-spinning-mills-AANA\">Aananda Lakshmi Spinning Mills Ltd</a></li>, <li class=\"jsx-1528870203\"><a class=\"jsx-1528870203\" href=\"/stocks/aanchal-ispat-AAN\">Aanchal Ispat Ltd</a></li>, <li class=\"jsx-1528870203\"><a class=\"jsx-1528870203\" href=\"/stocks/aarcon-facilities-RBG\">Aarcon Facilities Ltd</a></li>, <li class=\"jsx-1528870203\"><a class=\"jsx-1528870203\" href=\"/stocks/aarey-drugs-and-pharmaceuticals-AREY\">Aarey Drugs and Pharmaceuticals Ltd</a></li>, <li class=\"jsx-1528870203\"><a class=\"jsx-1528870203\" href=\"/stocks/aarnav-fashions-AARNA\">Aarnav Fashions Ltd</a></li>, <li class=\"jsx-1528870203\"><a class=\"jsx-1528870203\" href=\"/stocks/aaron-industries-AARN\">Aaron Industries Ltd</a></li>, <li class=\"jsx-1528870203\"><a class=\"jsx-1528870203\" href=\"/stocks/aartech-solonics-AAR\">Aartech Solonics Ltd</a></li>, <li class=\"jsx-1528870203\"><a class=\"jsx-1528870203\" href=\"/stocks/aarti-drugs-ADRG\">Aarti Drugs Ltd</a></li>, <li class=\"jsx-1528870203\"><a class=\"jsx-1528870203\" href=\"/stocks/aarti-industries-ARTI\">Aarti Industries Ltd</a></li>, <li class=\"jsx-1528870203\"><a class=\"jsx-1528870203\" href=\"/stocks/aarti-surfactants-AARU\">Aarti Surfactants Ltd</a></li>, <li class=\"jsx-1528870203\"><a class=\"jsx-1528870203\" href=\"/stocks/aarvee-denims-and-exports-AADM\">Aarvee Denims and Exports Ltd</a></li>, <li class=\"jsx-1528870203\"><a class=\"jsx-1528870203\" href=\"/stocks/aarvi-encon-AARI\">Aarvi Encon Ltd</a></li>, <li class=\"jsx-1528870203\"><a class=\"jsx-1528870203\" href=\"/stocks/aashka-hospitals-AAS\">Aashka Hospitals Ltd</a></li>, <li class=\"jsx-1528870203\"><a class=\"jsx-1528870203\" href=\"/stocks/upasana-finance-UPA\">Aastamangalam Finance Ltd</a></li>, <li class=\"jsx-1528870203\"><a class=\"jsx-1528870203\" href=\"/stocks/aaswa-trading-and-exports-ASW\">Aaswa Trading and Exports Ltd</a></li>, <li class=\"jsx-1528870203\"><a class=\"jsx-1528870203\" href=\"/stocks/aavas-financiers-AVAS\">Aavas Financiers Ltd</a></li>, <li class=\"jsx-1528870203\"><a class=\"jsx-1528870203\" href=\"/stocks/aayush-food-and-herbs-AAY\">Aayush Food and Herbs Ltd</a></li>, <li class=\"jsx-1528870203\"><a class=\"jsx-1528870203\" href=\"/stocks/aban-offshore-ABAN\">Aban Offshore Ltd</a></li>, <li class=\"jsx-1528870203\"><a class=\"jsx-1528870203\" href=\"/stocks/abans-enterprises-ABA\">Abans Enterprises Ltd</a></li>, <li class=\"jsx-1528870203\"><a class=\"jsx-1528870203\" href=\"/stocks/abbott-india-ABOT\">Abbott India Ltd</a></li>, <li class=\"jsx-1528870203\"><a class=\"jsx-1528870203\" href=\"/stocks/abhinav-capital-services-ABHIC\">Abhinav Capital Services Ltd</a></li>, <li class=\"jsx-1528870203\"><a class=\"jsx-1528870203\" href=\"/stocks/abhinav-leasing-and-finance-ALF\">Abhinav Leasing &amp; Finance Ltd</a></li>, <li class=\"jsx-1528870203\"><a class=\"jsx-1528870203\" href=\"/stocks/abhishek-finlease-ABHIF\">Abhishek Finlease Ltd</a></li>, <li class=\"jsx-1528870203\"><a class=\"jsx-1528870203\" href=\"/stocks/abhishek-infraventures-ABHI\">Abhishek Infraventures Ltd</a></li>, <li class=\"jsx-1528870203\"><a class=\"jsx-1528870203\" href=\"/stocks/abhishek-integrations-AIL\">Abhishek Integrations Ltd</a></li>, <li class=\"jsx-1528870203\"><a class=\"jsx-1528870203\" href=\"/stocks/abirami-financial-services-india-ABI\">Abirami Financial Services (India) Ltd</a></li>, <li class=\"jsx-1528870203\"><a class=\"jsx-1528870203\" href=\"/stocks/abm-international-ABMN\">Abm International Ltd</a></li>, <li class=\"jsx-1528870203\"><a class=\"jsx-1528870203\" href=\"/stocks/ecom-infotech-india-ECO\">Accedere Ltd</a></li>, <li class=\"jsx-1528870203\"><a class=\"jsx-1528870203\" href=\"/stocks/accel-ACCE\">Accel Ltd</a></li>, <li class=\"jsx-1528870203\"><a class=\"jsx-1528870203\" href=\"/stocks/accelya-solutions-india-ACCY\">Accelya Solutions India Ltd</a></li>, <li class=\"jsx-1528870203\"><a class=\"jsx-1528870203\" href=\"/stocks/accord-synergy-ACCO\">Accord Synergy Ltd</a></li>, <li class=\"jsx-1528870203\"><a class=\"jsx-1528870203\" href=\"/stocks/accuracy-shipping-ACCU\">Accuracy Shipping Ltd</a></li>, <li class=\"jsx-1528870203\"><a class=\"jsx-1528870203\" href=\"/stocks/ace-integrated-solutions-ACEN\">Ace Integrated Solutions Ltd</a></li>, <li class=\"jsx-1528870203\"><a class=\"jsx-1528870203\" href=\"/stocks/ace-men-engg-works-ACE\">Ace men engg works Ltd</a></li>, <li class=\"jsx-1528870203\"><a class=\"jsx-1528870203\" href=\"/stocks/acewin-agriteck-ACEW\">Acewin Agriteck Ltd</a></li>, <li class=\"jsx-1528870203\"><a class=\"jsx-1528870203\" href=\"/stocks/achyut-healthcare-ACHY\">Achyut Healthcare Ltd</a></li>, <li class=\"jsx-1528870203\"><a class=\"jsx-1528870203\" href=\"/stocks/acknit-industries-ACK\">Acknit Industries Ltd</a></li>, <li class=\"jsx-1528870203\"><a class=\"jsx-1528870203\" href=\"/stocks/acme-resources-ACME\">Acme Resources Ltd</a></li>, <li class=\"jsx-1528870203\"><a class=\"jsx-1528870203\" href=\"/stocks/acrow-india-ACRO\">Acrow India Ltd</a></li>, <li class=\"jsx-1528870203\"><a class=\"jsx-1528870203\" href=\"/stocks/acrysil-ACR\">Acrysil Ltd</a></li>, <li class=\"jsx-1528870203\"><a class=\"jsx-1528870203\" href=\"/stocks/action-construction-equipment-ACEL\">Action Construction Equipment Ltd</a></li>, <li class=\"jsx-1528870203\"><a class=\"jsx-1528870203\" href=\"/stocks/active-clothing-co-ACT\">Active Clothing Co Ltd</a></li>, <li class=\"jsx-1528870203\"><a class=\"jsx-1528870203\" href=\"/stocks/adani-enterprises-ADEL\">Adani Enterprises Ltd</a></li>, <li class=\"jsx-1528870203\"><a class=\"jsx-1528870203\" href=\"/stocks/adani-green-energy-ADNA\">Adani Green Energy Ltd</a></li>, <li class=\"jsx-1528870203\"><a class=\"jsx-1528870203\" href=\"/stocks/adani-ports-and-special-economic-zone-APSE\">Adani Ports and Special Economic Zone Ltd</a></li>, <li class=\"jsx-1528870203\"><a class=\"jsx-1528870203\" href=\"/stocks/adani-power-ADAN\">Adani Power Ltd</a></li>, <li class=\"jsx-1528870203\"><a class=\"jsx-1528870203\" href=\"/stocks/adani-gas-ADAG\">Adani Total Gas Ltd</a></li>, <li class=\"jsx-1528870203\"><a class=\"jsx-1528870203\" href=\"/stocks/adani-transmission-ADAI\">Adani Transmission Ltd</a></li>, <li class=\"jsx-1528870203\"><a class=\"jsx-1528870203\" href=\"/stocks/adani-wilmar-AWL\">Adani Wilmar Ltd</a></li>, <li class=\"jsx-1528870203\"><a class=\"jsx-1528870203\" href=\"/stocks/adarsh-mercantile-ADA\">Adarsh Mercantile Ltd</a></li>, <li class=\"jsx-1528870203\"><a class=\"jsx-1528870203\" href=\"/stocks/adarsh-plant-protect-ADAR\">Adarsh Plant Protect Ltd</a></li>, <li class=\"jsx-1528870203\"><a class=\"jsx-1528870203\" href=\"/stocks/adcon-capital-services-ADC\">Adcon Capital Services Ltd</a></li>, <li class=\"jsx-1528870203\"><a class=\"jsx-1528870203\" href=\"/stocks/add-shop-e-retail-ASR\">Add-Shop E-Retail Ltd</a></li>, <li class=\"jsx-1528870203\"><a class=\"jsx-1528870203\" href=\"/stocks/addi-industries-ADD\">Addi Industries Ltd</a></li>, <li class=\"jsx-1528870203\"><a class=\"jsx-1528870203\" href=\"/stocks/adeshwar-meditex-ADE\">Adeshwar Meditex Ltd</a></li>, <li class=\"jsx-1528870203\"><a class=\"jsx-1528870203\" href=\"/stocks/adharshila-capital-services-ADHA\">Adharshila Capital Services Ltd</a></li>, <li class=\"jsx-1528870203\"><a class=\"jsx-1528870203\" href=\"/stocks/adinath-exim-resources-ADIE\">Adinath Exim Resources Ltd</a></li>, <li class=\"jsx-1528870203\"><a class=\"jsx-1528870203\" href=\"/stocks/adinath-textiles-ADIN\">Adinath Textiles Ltd</a></li>, <li class=\"jsx-1528870203\"><a class=\"jsx-1528870203\" href=\"/stocks/adishakti-loha-and-ispat-ADISH\">Adishakti Loha &amp; Ispat Ltd</a></li>, <li class=\"jsx-1528870203\"><a class=\"jsx-1528870203\" href=\"/etfs/aditya-bsl-gold-etf-AITY\">Aditya BSL Gold ETF</a></li>, <li class=\"jsx-1528870203\"><a class=\"jsx-1528870203\" href=\"/etfs/aditya-bsl-nifty-50-etf-ADIY\">Aditya BSL Nifty 50 ETF</a></li>, <li class=\"jsx-1528870203\"><a class=\"jsx-1528870203\" href=\"/etfs/aditya-bsl-sensex-30-etf-BSL\">Aditya BSL Sensex 30 ETF</a></li>, <li class=\"jsx-1528870203\"><a class=\"jsx-1528870203\" href=\"/stocks/aditya-birla-capital-ADTB\">Aditya Birla Capital Ltd</a></li>, <li class=\"jsx-1528870203\"><a class=\"jsx-1528870203\" href=\"/stocks/aditya-birla-fashion-and-retail-ADIA\">Aditya Birla Fashion and Retail Ltd</a></li>, <li class=\"jsx-1528870203\"><a class=\"jsx-1528870203\" href=\"/stocks/aditya-birla-money-ABML\">Aditya Birla Money Ltd</a></li>, <li class=\"jsx-1528870203\"><a class=\"jsx-1528870203\" href=\"/stocks/aditya-birla-sun-life-amc-ABS\">Aditya Birla Sun Life Amc Ltd</a></li>, <li class=\"jsx-1528870203\"><a class=\"jsx-1528870203\" href=\"/etfs/aditya-birla-sun-life-nifty-healthcare-etf-HEALT\">Aditya Birla Sun Life NIFTY Healthcare ETF</a></li>, <li class=\"jsx-1528870203\"><a class=\"jsx-1528870203\" href=\"/etfs/aditya-birla-sun-life-nifty-bank-etf-ADIL\">Aditya Birla Sun Life Nifty Bank ETF</a></li>, <li class=\"jsx-1528870203\"><a class=\"jsx-1528870203\" href=\"/etfs/aditya-birla-sun-life-nifty-it-etf-TECT\">Aditya Birla Sun Life Nifty IT ETF</a></li>, <li class=\"jsx-1528870203\"><a class=\"jsx-1528870203\" href=\"/etfs/aditya-birla-sun-life-nifty-next-50-etf-ADIB\">Aditya Birla Sun Life Nifty Next 50 ETF</a></li>, <li class=\"jsx-1528870203\"><a class=\"jsx-1528870203\" href=\"/etfs/aditya-birla-sun-life-silver-etf-SILVR\">Aditya Birla Sun Life Silver ETF</a></li>, <li class=\"jsx-1528870203\"><a class=\"jsx-1528870203\" href=\"/stocks/aditya-consumer-marketing-ACM\">Aditya Consumer Marketing Ltd</a></li>, <li class=\"jsx-1528870203\"><a class=\"jsx-1528870203\" href=\"/stocks/aditya-ispat-ADITY\">Aditya Ispat Ltd</a></li>, <li class=\"jsx-1528870203\"><a class=\"jsx-1528870203\" href=\"/stocks/aditya-spinners-ADIT\">Aditya Spinners Ltd</a></li>, <li class=\"jsx-1528870203\"><a class=\"jsx-1528870203\" href=\"/stocks/aditya-vision-AVL\">Aditya Vision Ltd</a></li>, <li class=\"jsx-1528870203\"><a class=\"jsx-1528870203\" href=\"/stocks/adjia-technologies-ADJ\">Adjia Technologies Ltd</a></li>, <li class=\"jsx-1528870203\"><a class=\"jsx-1528870203\" href=\"/stocks/kamron-laboratories-KAMR\">Adline Chem Lab Ltd</a></li>, <li class=\"jsx-1528870203\"><a class=\"jsx-1528870203\" href=\"/stocks/ador-fontech-ADO\">Ador Fontech Ltd</a></li>, <li class=\"jsx-1528870203\"><a class=\"jsx-1528870203\" href=\"/stocks/ador-multi-products-ADORM\">Ador Multi Products Ltd</a></li>, <li class=\"jsx-1528870203\"><a class=\"jsx-1528870203\" href=\"/stocks/ador-welding-ADOR\">Ador Welding Ltd</a></li>, <li class=\"jsx-1528870203\"><a class=\"jsx-1528870203\" href=\"/stocks/adroit-infotech-AROI\">Adroit Infotech Ltd</a></li>, <li class=\"jsx-1528870203\"><a class=\"jsx-1528870203\" href=\"/stocks/advait-infratech-ADVA\">Advait Infratech Ltd</a></li>, <li class=\"jsx-1528870203\"><a class=\"jsx-1528870203\" href=\"/stocks/advance-lifestyles-ADVL\">Advance Lifestyles Ltd</a></li>, <li class=\"jsx-1528870203\"><a class=\"jsx-1528870203\" href=\"/stocks/advance-metering-technology-AMTL\">Advance Metering Technology Ltd</a></li>, <li class=\"jsx-1528870203\"><a class=\"jsx-1528870203\" href=\"/stocks/advance-petrochemicals-ADVPE\">Advance Petrochemicals Ltd</a></li>, <li class=\"jsx-1528870203\"><a class=\"jsx-1528870203\" href=\"/stocks/advance-syntex-ASY\">Advance Syntex Ltd</a></li>, <li class=\"jsx-1528870203\"><a class=\"jsx-1528870203\" href=\"/stocks/advanced-enzyme-technologies-ADEN\">Advanced Enzyme Technologies Ltd</a></li>, <li class=\"jsx-1528870203\"><a class=\"jsx-1528870203\" href=\"/stocks/advani-hotels-and-resorts-india-ADHO\">Advani Hotels and Resorts (India) Ltd</a></li>, <li class=\"jsx-1528870203\"><a class=\"jsx-1528870203\" href=\"/stocks/advik-capital-ADVI\">Advik Capital Ltd</a></li>, <li class=\"jsx-1528870203\"><a class=\"jsx-1528870203\" href=\"/stocks/aegis-logistics-AEGS\">Aegis Logistics Ltd</a></li>, <li class=\"jsx-1528870203\"><a class=\"jsx-1528870203\" href=\"/stocks/affle-india-AFFL\">Affle (India) Ltd</a></li>, <li class=\"jsx-1528870203\"><a class=\"jsx-1528870203\" href=\"/stocks/affordable-robotic-and-automation-AFF\">Affordable Robotic &amp; Automation Ltd</a></li>, <li class=\"jsx-1528870203\"><a class=\"jsx-1528870203\" href=\"/stocks/agarwal-industrial-corporation-AGWL\">Agarwal Industrial Corporation Ltd</a></li>, <li class=\"jsx-1528870203\"><a class=\"jsx-1528870203\" href=\"/stocks/agio-paper-and-industries-AGIO\">Agio Paper &amp; Industries Ltd</a></li>, <li class=\"jsx-1528870203\"><a class=\"jsx-1528870203\" href=\"/stocks/agri-tech-india-AGTL\">Agri-Tech (India) Ltd</a></li>, <li class=\"jsx-1528870203\"><a class=\"jsx-1528870203\" href=\"/stocks/agrimony-commodities-AGR\">Agrimony Commodities Ltd</a></li>, <li class=\"jsx-1528870203\"><a class=\"jsx-1528870203\" href=\"/stocks/agro-phos-india-AGRP\">Agro Phos India Ltd</a></li>, <li class=\"jsx-1528870203\"><a class=\"jsx-1528870203\" href=\"/stocks/agro-tech-foods-AGRO\">Agro Tech Foods Ltd</a></li>, <li class=\"jsx-1528870203\"><a class=\"jsx-1528870203\" href=\"/stocks/ahimsa-industries-AHIN\">Ahimsa Industries Ltd</a></li>, <li class=\"jsx-1528870203\"><a class=\"jsx-1528870203\" href=\"/stocks/ahlada-engineers-AHLA\">Ahlada Engineers Ltd</a></li>, <li class=\"jsx-1528870203\"><a class=\"jsx-1528870203\" href=\"/stocks/ahluwalia-contracts-india-AHLU\">Ahluwalia Contracts (India) Ltd</a></li>, <li class=\"jsx-1528870203\"><a class=\"jsx-1528870203\" href=\"/stocks/ahmedabad-steelcraft-AHM\">Ahmedabad Steel Craft Ltd</a></li>, <li class=\"jsx-1528870203\"><a class=\"jsx-1528870203\" href=\"/stocks/ai-champdany-industries-AICI\">Ai Champdany Industries Ltd</a></li>, <li class=\"jsx-1528870203\"><a class=\"jsx-1528870203\" href=\"/stocks/aimco-pesticides-AIMC\">Aimco Pesticides Ltd</a></li>, <li class=\"jsx-1528870203\"><a class=\"jsx-1528870203\" href=\"/stocks/airan-AIRA\">Airan Ltd</a></li>, <li class=\"jsx-1528870203\"><a class=\"jsx-1528870203\" href=\"/stocks/airolam-AIRO\">AiroLam Ltd</a></li>, <li class=\"jsx-1528870203\"><a class=\"jsx-1528870203\" href=\"/stocks/aishwarya-technologies-and-telecom-AIS\">Aishwarya Technologies and Telecom Ltd</a></li>, <li class=\"jsx-1528870203\"><a class=\"jsx-1528870203\" href=\"/stocks/ajanta-pharma-AJPH\">Ajanta Pharma Ltd</a></li>, <li class=\"jsx-1528870203\"><a class=\"jsx-1528870203\" href=\"/stocks/ajanta-soya-AJA\">Ajanta Soya Ltd</a></li>, <li class=\"jsx-1528870203\"><a class=\"jsx-1528870203\" href=\"/stocks/ajcon-global-services-AJC\">Ajcon Global Services Ltd</a></li>, <li class=\"jsx-1528870203\"><a class=\"jsx-1528870203\" href=\"/stocks/ajel-AJE\">Ajel Ltd</a></li>, <li class=\"jsx-1528870203\"><a class=\"jsx-1528870203\" href=\"/stocks/ajmera-realty-and-infra-india-AJME\">Ajmera Realty &amp; Infra India Ltd</a></li>, <li class=\"jsx-1528870203\"><a class=\"jsx-1528870203\" href=\"/stocks/ajooni-biotech-AJOO\">Ajooni Biotech Ltd</a></li>, <li class=\"jsx-1528870203\"><a class=\"jsx-1528870203\" href=\"/stocks/ajwa-fun-world-and-resort-AJW\">Ajwa Fun World and Resort Ltd</a></li>, <li class=\"jsx-1528870203\"><a class=\"jsx-1528870203\" href=\"/stocks/akar-auto-industries-AAI\">Akar Auto Industries Ltd</a></li>, <li class=\"jsx-1528870203\"><a class=\"jsx-1528870203\" href=\"/stocks/akash-infra-projects-AKAS\">Akash Infra-Projects Ltd</a></li>, <li class=\"jsx-1528870203\"><a class=\"jsx-1528870203\" href=\"/stocks/akashdeep-metal-industries-AKA\">Akashdeep Metal Industries Ltd</a></li>, <li class=\"jsx-1528870203\"><a class=\"jsx-1528870203\" href=\"/stocks/aksh-optifibre-AKSO\">Aksh Optifibre Ltd</a></li>, <li class=\"jsx-1528870203\"><a class=\"jsx-1528870203\" href=\"/stocks/akshar-spintex-AKS\">Akshar Spintex Ltd</a></li>, <li class=\"jsx-1528870203\"><a class=\"jsx-1528870203\" href=\"/stocks/aksharchem-india-AKSH\">Aksharchem (India) Ltd</a></li>, <li class=\"jsx-1528870203\"><a class=\"jsx-1528870203\" href=\"/stocks/akzo-nobel-india-AKZO\">Akzo Nobel India Ltd</a></li>, <li class=\"jsx-1528870203\"><a class=\"jsx-1528870203\" href=\"/stocks/alacrity-securities-ALSA\">Alacrity Securities Ltd</a></li>, <li class=\"jsx-1528870203\"><a class=\"jsx-1528870203\" href=\"/stocks/alan-scott-industries-ALAN\">Alan Scott Industriess Ltd</a></li>, <li class=\"jsx-1528870203\"><a class=\"jsx-1528870203\" href=\"/stocks/alankit-ALAK\">Alankit Ltd</a></li>, <li class=\"jsx-1528870203\"><a class=\"jsx-1528870203\" href=\"/stocks/albert-david-ALBD\">Albert David Ltd</a></li>, <li class=\"jsx-1528870203\"><a class=\"jsx-1528870203\" href=\"/stocks/alchemist-corporation-ALC\">Alchemist Corporation Ltd</a></li>, <li class=\"jsx-1528870203\"><a class=\"jsx-1528870203\" href=\"/stocks/alchemist-ALCL\">Alchemist Ltd</a></li>, <li class=\"jsx-1528870203\"><a class=\"jsx-1528870203\" href=\"/stocks/alembic-ALMC\">Alembic Ltd</a></li>, <li class=\"jsx-1528870203\"><a class=\"jsx-1528870203\" href=\"/stocks/alembic-pharmaceuticals-ALEM\">Alembic Pharmaceuticals Ltd</a></li>, <li class=\"jsx-1528870203\"><a class=\"jsx-1528870203\" href=\"/stocks/alexander-stamps-and-coin-ALE\">Alexander Stamps and Coin Ltd</a></li>, <li class=\"jsx-1528870203\"><a class=\"jsx-1528870203\" href=\"/stocks/alfa-ica-india-ALFAI\">Alfa Ica India Ltd</a></li>, <li class=\"jsx-1528870203\"><a class=\"jsx-1528870203\" href=\"/stocks/alfa-transformers-ALFAT\">Alfa Transformers Ltd</a></li>, <li class=\"jsx-1528870203\"><a class=\"jsx-1528870203\" href=\"/stocks/alfavision-overseas-ALFA\">Alfavision Overseas (India) Ltd</a></li>, <li class=\"jsx-1528870203\"><a class=\"jsx-1528870203\" href=\"/stocks/alfred-herbert-india-ALFR\">Alfred Herbert (India) Ltd</a></li>, <li class=\"jsx-1528870203\"><a class=\"jsx-1528870203\" href=\"/stocks/hindustan-everest-tools-HINDE\">Algoquant Fintech Ltd</a></li>, <li class=\"jsx-1528870203\"><a class=\"jsx-1528870203\" href=\"/stocks/alicon-castalloy-ALIO\">Alicon Castalloy Ltd</a></li>, <li class=\"jsx-1528870203\"><a class=\"jsx-1528870203\" href=\"/stocks/alkali-metals-ALML\">Alkali Metals Ltd</a></li>, <li class=\"jsx-1528870203\"><a class=\"jsx-1528870203\" href=\"/stocks/alkem-laboratories-ALKE\">Alkem Laboratories Ltd</a></li>, <li class=\"jsx-1528870203\"><a class=\"jsx-1528870203\" href=\"/stocks/alkosign-ALKO\">Alkosign Ltd</a></li>, <li class=\"jsx-1528870203\"><a class=\"jsx-1528870203\" href=\"/stocks/alkyl-amines-chemicals-ALKY\">Alkyl Amines Chemicals Ltd</a></li>, <li class=\"jsx-1528870203\"><a class=\"jsx-1528870203\" href=\"/stocks/allcargo-logistics-ACLL\">Allcargo Logistics Ltd</a></li>, <li class=\"jsx-1528870203\"><a class=\"jsx-1528870203\" href=\"/stocks/alliance-integrated-metaliks-AIM\">Alliance Integrated Metaliks Ltd</a></li>, <li class=\"jsx-1528870203\"><a class=\"jsx-1528870203\" href=\"/stocks/allied-digital-services-ADIS\">Allied Digital Services Ltd</a></li>, <li class=\"jsx-1528870203\"><a class=\"jsx-1528870203\" href=\"/stocks/allsec-technologies-ALLS\">Allsec Technologies Ltd</a></li>, <li class=\"jsx-1528870203\"><a class=\"jsx-1528870203\" href=\"/stocks/almondz-global-securities-ALSL\">Almondz Global Securities Ltd</a></li>, <li class=\"jsx-1528870203\"><a class=\"jsx-1528870203\" href=\"/stocks/alna-trading-and-exports-ALN\">Alna Trading and Exports Ltd</a></li>, <li class=\"jsx-1528870203\"><a class=\"jsx-1528870203\" href=\"/stocks/alok-industries-ALOK\">Alok Industries Ltd</a></li>, <li class=\"jsx-1528870203\"><a class=\"jsx-1528870203\" href=\"/stocks/alpa-laboratories-ALPA\">Alpa Laboratories Ltd</a></li>, <li class=\"jsx-1528870203\"><a class=\"jsx-1528870203\" href=\"/stocks/alphageo-india-ALPI\">Alphageo (India) Ltd</a></li>, <li class=\"jsx-1528870203\"><a class=\"jsx-1528870203\" href=\"/stocks/alphalogic-techsys-ALP\">Alphalogic Techsys Ltd</a></li>, <li class=\"jsx-1528870203\"><a class=\"jsx-1528870203\" href=\"/stocks/alpine-housing-development-corporation-ALPIN\">Alpine Housing Development Corporation Limited</a></li>, <li class=\"jsx-1528870203\"><a class=\"jsx-1528870203\" href=\"/stocks/alps-industries-ALPS\">Alps Industries Ltd</a></li>, <li class=\"jsx-1528870203\"><a class=\"jsx-1528870203\" href=\"/stocks/alstone-textiles-india-ALS\">Alstone Textiles (India) Ltd</a></li>, <li class=\"jsx-1528870203\"><a class=\"jsx-1528870203\" href=\"/stocks/alufluoride-ALU\">Alufluoride Ltd</a></li>, <li class=\"jsx-1528870203\"><a class=\"jsx-1528870203\" href=\"/stocks/amal-AMAA\">Amal Ltd</a></li>, <li class=\"jsx-1528870203\"><a class=\"jsx-1528870203\" href=\"/stocks/amalgamated-electricity-company-AMAL\">Amalgamated Electricity Company Ltd</a></li>, <li class=\"jsx-1528870203\"><a class=\"jsx-1528870203\" href=\"/stocks/amara-raja-batteries-AMAR\">Amara Raja Batteries Ltd</a></li>, <li class=\"jsx-1528870203\"><a class=\"jsx-1528870203\" href=\"/stocks/amarjothi-spinning-mills-AMARJ\">Amarjothi Spinning Mills Ltd</a></li>, <li class=\"jsx-1528870203\"><a class=\"jsx-1528870203\" href=\"/stocks/amarnath-securities-AMARS\">Amarnath Securities Ltd</a></li>, <li class=\"jsx-1528870203\"><a class=\"jsx-1528870203\" href=\"/stocks/amba-enterprises-AEL\">Amba Enterprises Ltd</a></li>, <li class=\"jsx-1528870203\"><a class=\"jsx-1528870203\" href=\"/stocks/ambalal-sarabhai-enterprises-AMBAS\">Ambalal Sarabhai Enterprises Ltd</a></li>, <li class=\"jsx-1528870203\"><a class=\"jsx-1528870203\" href=\"/stocks/ambani-organics-AMBN\">Ambani Organics Ltd</a></li>, <li class=\"jsx-1528870203\"><a class=\"jsx-1528870203\" href=\"/stocks/ambar-protein-industries-AMBA\">Ambar Protein Industries Ltd</a></li>, <li class=\"jsx-1528870203\"><a class=\"jsx-1528870203\" href=\"/stocks/ambassador-intra-holdings-AIH\">Ambassador Intra Holdings Ltd</a></li>, <li class=\"jsx-1528870203\"><a class=\"jsx-1528870203\" href=\"/stocks/amber-enterprises-india-AMBE\">Amber Enterprises India Ltd</a></li>, <li class=\"jsx-1528870203\"><a class=\"jsx-1528870203\" href=\"/stocks/ambica-agarbathies-aroma-and-industries-AAAI\">Ambica Agarbathies Aroma &amp; Industries Ltd</a></li>, <li class=\"jsx-1528870203\"><a class=\"jsx-1528870203\" href=\"/stocks/ambika-cotton-mills-AMBK\">Ambika Cotton Mills Ltd</a></li>, <li class=\"jsx-1528870203\"><a class=\"jsx-1528870203\" href=\"/stocks/ambition-mica-AMB\">Ambition Mica Ltd</a></li>, <li class=\"jsx-1528870203\"><a class=\"jsx-1528870203\" href=\"/stocks/ambuja-cements-ABUJ\">Ambuja Cements Ltd</a></li>, <li class=\"jsx-1528870203\"><a class=\"jsx-1528870203\" href=\"/stocks/amco-india-AMC\">Amco India Ltd</a></li>, <li class=\"jsx-1528870203\"><a class=\"jsx-1528870203\" href=\"/stocks/amradeep-industries-AMARD\">Amerise Biosciences Ltd</a></li>, <li class=\"jsx-1528870203\"><a class=\"jsx-1528870203\" href=\"/stocks/amforge-industries-AMFO\">Amforge Industries Ltd</a></li>, <li class=\"jsx-1528870203\"><a class=\"jsx-1528870203\" href=\"/stocks/ami-organics-AMIO\">Ami Organics Ltd</a></li>, <li class=\"jsx-1528870203\"><a class=\"jsx-1528870203\" href=\"/stocks/amin-tannery-AMI\">Amin Tannery Ltd</a></li>, <li class=\"jsx-1528870203\"><a class=\"jsx-1528870203\" href=\"/stocks/amines-and-plasticizers-AMN\">Amines and Plasticizers Ltd</a></li>, <li class=\"jsx-1528870203\"><a class=\"jsx-1528870203\" href=\"/stocks/amit-international-AMIT\">Amit International Ltd</a></li>, <li class=\"jsx-1528870203\"><a class=\"jsx-1528870203\" href=\"/stocks/amrapali-capital-and-finance-services-ACF\">Amrapali Capital and Finance Services Ltd</a></li>, <li class=\"jsx-1528870203\"><a class=\"jsx-1528870203\" href=\"/stocks/amrapali-fincap-AMR\">Amrapali Fincap Ltd</a></li>, <li class=\"jsx-1528870203\"><a class=\"jsx-1528870203\" href=\"/stocks/amrapali-industries-AMRAP\">Amrapali Industries Ltd</a></li>, <li class=\"jsx-1528870203\"><a class=\"jsx-1528870203\" href=\"/stocks/amraworld-agrico-AMRA\">Amraworld Agrico Ltd</a></li>, <li class=\"jsx-1528870203\"><a class=\"jsx-1528870203\" href=\"/stocks/amrit-corp-AMRI\">Amrit Corp Ltd</a></li>, <li class=\"jsx-1528870203\"><a class=\"jsx-1528870203\" href=\"/stocks/amrutanjan-health-care-AJAN\">Amrutanjan Health Care Ltd</a></li>, <li class=\"jsx-1528870203\"><a class=\"jsx-1528870203\" href=\"/stocks/anand-projects-ANAN\">Anand Projects Ltd</a></li>, <li class=\"jsx-1528870203\"><a class=\"jsx-1528870203\" href=\"/stocks/anand-rathi-wealth-ANAND\">Anand Rathi Wealth Ltd</a></li>, <li class=\"jsx-1528870203\"><a class=\"jsx-1528870203\" href=\"/stocks/anand-rayons-ARL\">Anand Rayons Ltd</a></li>, <li class=\"jsx-1528870203\"><a class=\"jsx-1528870203\" href=\"/stocks/anant-raj-ANRA\">Anant Raj Ltd</a></li>, <li class=\"jsx-1528870203\"><a class=\"jsx-1528870203\" href=\"/stocks/andhra-cements-ANDC\">Andhra Cements Ltd</a></li>, <li class=\"jsx-1528870203\"><a class=\"jsx-1528870203\" href=\"/stocks/andhra-paper-ANDA\">Andhra Paper Ltd</a></li>, <li class=\"jsx-1528870203\"><a class=\"jsx-1528870203\" href=\"/stocks/andhra-petrochemicals-AND\">Andhra Petrochemicals Ltd</a></li>, <li class=\"jsx-1528870203\"><a class=\"jsx-1528870203\" href=\"/stocks/andhra-sugars-ANDS\">Andhra Sugars Ltd</a></li>, <li class=\"jsx-1528870203\"><a class=\"jsx-1528870203\" href=\"/stocks/andrew-yule-and-company-ANDR\">Andrew Yule &amp; Co Ltd</a></li>, <li class=\"jsx-1528870203\"><a class=\"jsx-1528870203\" href=\"/stocks/aneri-fincap-ANE\">Aneri Fincap Ltd</a></li>, <li class=\"jsx-1528870203\"><a class=\"jsx-1528870203\" href=\"/stocks/angel-fibers-ANG\">Angel Fibers Ltd</a></li>, <li class=\"jsx-1528870203\"><a class=\"jsx-1528870203\" href=\"/stocks/angel-broking-ANGE\">Angel One Ltd</a></li>, <li class=\"jsx-1528870203\"><a class=\"jsx-1528870203\" href=\"/stocks/anik-industries-ANIK\">Anik Industries Ltd</a></li>, <li class=\"jsx-1528870203\"><a class=\"jsx-1528870203\" href=\"/stocks/anjani-finance-ANJ\">Anjani Finance Ltd</a></li>, <li class=\"jsx-1528870203\"><a class=\"jsx-1528870203\" href=\"/stocks/anjani-foods-ANJA\">Anjani Foods Ltd</a></li>, <li class=\"jsx-1528870203\"><a class=\"jsx-1528870203\" href=\"/stocks/anjani-portland-cement-ANCM\">Anjani Portland Cement Ltd</a></li>, <li class=\"jsx-1528870203\"><a class=\"jsx-1528870203\" href=\"/stocks/anjani-synthetics-ANJAN\">Anjani Synthetics Ltd</a></li>, <li class=\"jsx-1528870203\"><a class=\"jsx-1528870203\" href=\"/stocks/anka-india-ANK\">Anka India Ltd</a></li>, <li class=\"jsx-1528870203\"><a class=\"jsx-1528870203\" href=\"/stocks/ankit-metal-and-power-AMPL\">Ankit Metal &amp; Power Ltd</a></li>, <li class=\"jsx-1528870203\"><a class=\"jsx-1528870203\" href=\"/stocks/anmol-india-ANM\">Anmol India Ltd</a></li>, <li class=\"jsx-1528870203\"><a class=\"jsx-1528870203\" href=\"/stocks/anna-infrastructures-ANN\">Anna Infrastructures Ltd</a></li>, <li class=\"jsx-1528870203\"><a class=\"jsx-1528870203\" href=\"/stocks/ansal-buildwell-ANSA\">Ansal Buildwell Ltd</a></li>, <li class=\"jsx-1528870203\"><a class=\"jsx-1528870203\" href=\"/stocks/ansal-housing-ANSL\">Ansal Housing Ltd</a></li>, <li class=\"jsx-1528870203\"><a class=\"jsx-1528870203\" href=\"/stocks/ansal-properties-and-infrastructure-ANSP\">Ansal Properties and Infrastructure Ltd</a></li>, <li class=\"jsx-1528870203\"><a class=\"jsx-1528870203\" href=\"/stocks/anshuni-commercials-ANSH\">Anshuni Commercials Ltd</a></li>, <li class=\"jsx-1528870203\"><a class=\"jsx-1528870203\" href=\"/stocks/antarctica-ANTC\">Antarctica Ltd</a></li>, <li class=\"jsx-1528870203\"><a class=\"jsx-1528870203\" href=\"/stocks/antariksh-industries-ANT\">Antariksh Industries Ltd</a></li>, <li class=\"jsx-1528870203\"><a class=\"jsx-1528870203\" href=\"/stocks/antony-waste-handling-cell-AWH\">Antony Waste Handling Cell Ltd</a></li>, <li class=\"jsx-1528870203\"><a class=\"jsx-1528870203\" href=\"/stocks/anuh-pharma-ANUH\">Anuh Pharma Ltd</a></li>, <li class=\"jsx-1528870203\"><a class=\"jsx-1528870203\" href=\"/stocks/anup-engineering-ANUE\">Anup Engineering Ltd</a></li>, <li class=\"jsx-1528870203\"><a class=\"jsx-1528870203\" href=\"/stocks/anupam-finserv-ANUPA\">Anupam Finserv Ltd</a></li>, <li class=\"jsx-1528870203\"><a class=\"jsx-1528870203\" href=\"/stocks/anupam-rasayan-india-ANUR\">Anupam Rasayan India Ltd</a></li>, <li class=\"jsx-1528870203\"><a class=\"jsx-1528870203\" href=\"/stocks/anuroop-packaging-ANU\">Anuroop Packaging Ltd</a></li>, <li class=\"jsx-1528870203\"><a class=\"jsx-1528870203\" href=\"/stocks/apar-industries-APAR\">Apar Industries Ltd</a></li>, <li class=\"jsx-1528870203\"><a class=\"jsx-1528870203\" href=\"/stocks/apcotex-industries-APCI\">Apcotex Industries Ltd</a></li>, <li class=\"jsx-1528870203\"><a class=\"jsx-1528870203\" href=\"/stocks/apex-capital-and-finance-ACFL\">Apex Capital and Finance Ltd</a></li>, <li class=\"jsx-1528870203\"><a class=\"jsx-1528870203\" href=\"/stocks/apex-frozen-foods-APEX\">Apex Frozen Foods Ltd</a></li>, <li class=\"jsx-1528870203\"><a class=\"jsx-1528870203\" href=\"/stocks/apis-india-API\">Apis India Ltd</a></li>, <li class=\"jsx-1528870203\"><a class=\"jsx-1528870203\" href=\"/stocks/aplab-APLAB\">Aplab Ltd</a></li>, <li class=\"jsx-1528870203\"><a class=\"jsx-1528870203\" href=\"/stocks/apollo-finvest-india-APOLL\">Apollo Finvest (India) Ltd</a></li>, <li class=\"jsx-1528870203\"><a class=\"jsx-1528870203\" href=\"/stocks/apollo-hospitals-enterprise-APLH\">Apollo Hospitals Enterprise Ltd</a></li>, <li class=\"jsx-1528870203\"><a class=\"jsx-1528870203\" href=\"/stocks/apollo-micro-systems-APLL\">Apollo Micro Systems Ltd</a></li>, <li class=\"jsx-1528870203\"><a class=\"jsx-1528870203\" href=\"/stocks/apollo-pipes-AOLL\">Apollo Pipes Ltd</a></li>, <li class=\"jsx-1528870203\"><a class=\"jsx-1528870203\" href=\"/stocks/apollo-sindoori-hotels-APOS\">Apollo Sindoori Hotels Ltd</a></li>, <li class=\"jsx-1528870203\"><a class=\"jsx-1528870203\" href=\"/stocks/apollo-tricoat-tubes-APOL\">Apollo Tricoat Tubes Ltd</a></li>, <li class=\"jsx-1528870203\"><a class=\"jsx-1528870203\" href=\"/stocks/apollo-tyres-APLO\">Apollo Tyres Limited</a></li>, <li class=\"jsx-1528870203\"><a class=\"jsx-1528870203\" href=\"/stocks/apoorva-leasing-finance-and-investment-co-APO\">Apoorva Leasing Finance and Investment Company Ltd</a></li>, <li class=\"jsx-1528870203\"><a class=\"jsx-1528870203\" href=\"/stocks/aptech-APTA\">Aptech Ltd</a></li>, <li class=\"jsx-1528870203\"><a class=\"jsx-1528870203\" href=\"/stocks/aptus-value-housing-finance-india-APTU\">Aptus Value Housing Finance India Ltd</a></li>, <li class=\"jsx-1528870203\"><a class=\"jsx-1528870203\" href=\"/stocks/aravali-securities-and-finance-ARAV\">Aravali Securities and Finance Ltd</a></li>, <li class=\"jsx-1528870203\"><a class=\"jsx-1528870203\" href=\"/stocks/arcee-industries-ARCE\">Arcee Industries Ltd</a></li>, <li class=\"jsx-1528870203\"><a class=\"jsx-1528870203\" href=\"/stocks/archidply-decor-ADL\">Archidply Decor Ltd</a></li>, <li class=\"jsx-1528870203\"><a class=\"jsx-1528870203\" href=\"/stocks/archidply-industries-ARCY\">Archidply Industries Ltd</a></li>, <li class=\"jsx-1528870203\"><a class=\"jsx-1528870203\" href=\"/stocks/archies-ARGG\">Archies Ltd</a></li>, <li class=\"jsx-1528870203\"><a class=\"jsx-1528870203\" href=\"/stocks/archit-organosys-ARCH\">Archit Organosys Ltd</a></li>, <li class=\"jsx-1528870203\"><a class=\"jsx-1528870203\" href=\"/stocks/arcotech-ARCO\">Arcotech Ltd</a></li>, <li class=\"jsx-1528870203\"><a class=\"jsx-1528870203\" href=\"/stocks/arex-industries-AREX\">Arex Industries Ltd</a></li>, <li class=\"jsx-1528870203\"><a class=\"jsx-1528870203\" href=\"/stocks/arfin-india-ARF\">Arfin India Ltd</a></li>, <li class=\"jsx-1528870203\"><a class=\"jsx-1528870203\" href=\"/stocks/aries-agro-ARAI\">Aries Agro Ltd</a></li>, <li class=\"jsx-1528870203\"><a class=\"jsx-1528870203\" href=\"/stocks/arihant-capital-markets-ARIH\">Arihant Capital Markets Ltd</a></li>, <li class=\"jsx-1528870203\"><a class=\"jsx-1528870203\" href=\"/stocks/arihant-foundations-and-housing-ARFL\">Arihant Foundations &amp; Housing Ltd</a></li>, <li class=\"jsx-1528870203\"><a class=\"jsx-1528870203\" href=\"/stocks/arihant-superstructures-ARIS\">Arihant Superstructures Ltd</a></li>, <li class=\"jsx-1528870203\"><a class=\"jsx-1528870203\" href=\"/stocks/arihant-tournesol-ARH\">Arihant Tournesol Ltd</a></li>, <li class=\"jsx-1528870203\"><a class=\"jsx-1528870203\" href=\"/stocks/arihants-securities-ARISE\">Arihant's Securities Ltd</a></li>, <li class=\"jsx-1528870203\"><a class=\"jsx-1528870203\" href=\"/stocks/aris-international-ARISI\">Aris International Ltd</a></li>, <li class=\"jsx-1528870203\"><a class=\"jsx-1528870203\" href=\"/stocks/arman-financial-services-ARLF\">Arman Financial Services Ltd</a></li>, <li class=\"jsx-1528870203\"><a class=\"jsx-1528870203\" href=\"/stocks/arman-holdings-ARM\">Arman Holdings Ltd</a></li>, <li class=\"jsx-1528870203\"><a class=\"jsx-1528870203\" href=\"/stocks/arnold-holdings-ARN\">Arnold Holdings Ltd</a></li>, <li class=\"jsx-1528870203\"><a class=\"jsx-1528870203\" href=\"/stocks/aro-granite-industries-AROG\">Aro Granite Industries Ltd</a></li>, <li class=\"jsx-1528870203\"><a class=\"jsx-1528870203\" href=\"/stocks/aroma-enterprises-india-ARO\">Aroma Enterprises (India) Ltd</a></li>, <li class=\"jsx-1528870203\"><a class=\"jsx-1528870203\" href=\"/stocks/arrow-greentech-ARRO\">Arrow Greentech Ltd</a></li>, <li class=\"jsx-1528870203\"><a class=\"jsx-1528870203\" href=\"/stocks/arshiya-ARSH\">Arshiya Ltd</a></li>, <li class=\"jsx-1528870203\"><a class=\"jsx-1528870203\" href=\"/stocks/art-nirman-ARTN\">Art Nirman Ltd</a></li>, <li class=\"jsx-1528870203\"><a class=\"jsx-1528870203\" href=\"/stocks/artedz-fabs-ARTD\">Artedz Fabs Ltd</a></li>, <li class=\"jsx-1528870203\"><a class=\"jsx-1528870203\" href=\"/stocks/artefact-projects-ARTE\">Artefact Projects Ltd</a></li>, <li class=\"jsx-1528870203\"><a class=\"jsx-1528870203\" href=\"/stocks/artemis-electricals-ART\">Artemis Electricals and Projects Ltd</a></li>, <li class=\"jsx-1528870203\"><a class=\"jsx-1528870203\" href=\"/stocks/artemis-medicare-services-ATEM\">Artemis Medicare Services Ltd</a></li>, <li class=\"jsx-1528870203\"><a class=\"jsx-1528870203\" href=\"/stocks/artson-engineering-ARTS\">Artson Engineering Ltd</a></li>, <li class=\"jsx-1528870203\"><a class=\"jsx-1528870203\" href=\"/stocks/aruna-hotels-ARU\">Aruna Hotels Ltd</a></li>, <li class=\"jsx-1528870203\"><a class=\"jsx-1528870203\" href=\"/stocks/m-b-parikh-finstock-MBP\">Arunis Abode Ltd</a></li>, <li class=\"jsx-1528870203\"><a class=\"jsx-1528870203\" href=\"/stocks/arunjyoti-bio-ventures-ABV\">Arunjyoti Bio Ventures Ltd</a></li>, <li class=\"jsx-1528870203\"><a class=\"jsx-1528870203\" href=\"/stocks/arvee-laboratories-india-ARVE\">Arvee Laboratories (India) Ltd</a></li>, <li class=\"jsx-1528870203\"><a class=\"jsx-1528870203\" href=\"/stocks/arvind-fashions-ARVF\">Arvind Fashions Ltd</a></li>, <li class=\"jsx-1528870203\"><a class=\"jsx-1528870203\" href=\"/stocks/arvind-fashions-partly-paidup-AFL\">Arvind Fashions Ltd</a></li>, <li class=\"jsx-1528870203\"><a class=\"jsx-1528870203\" href=\"/stocks/arvind-ARVN\">Arvind Ltd</a></li>, <li class=\"jsx-1528870203\"><a class=\"jsx-1528870203\" href=\"/stocks/arvind-smartspaces-ARVD\">Arvind Smartspaces Ltd</a></li>, <li class=\"jsx-1528870203\"><a class=\"jsx-1528870203\" href=\"/stocks/aryaman-capital-markets-ARYA\">Aryaman Capital Markets Ltd</a></li>, <li class=\"jsx-1528870203\"><a class=\"jsx-1528870203\" href=\"/stocks/aryaman-financial-services-ARYAM\">Aryaman Financial Services Ltd</a></li>, <li class=\"jsx-1528870203\"><a class=\"jsx-1528870203\" href=\"/stocks/aryan-share-and-stock-brokers-ARY\">Aryan Share &amp; Stock Brokers Ltd</a></li>, <li class=\"jsx-1528870203\"><a class=\"jsx-1528870203\" href=\"/stocks/aryavan-enterprise-ARYAV\">Aryavan Enterprise Ltd</a></li>, <li class=\"jsx-1528870203\"><a class=\"jsx-1528870203\" href=\"/stocks/asahi-india-glass-AISG\">Asahi India Glass Ltd</a></li>, <li class=\"jsx-1528870203\"><a class=\"jsx-1528870203\" href=\"/stocks/asahi-industries-ASA\">Asahi Industries Ltd</a></li>, <li class=\"jsx-1528870203\"><a class=\"jsx-1528870203\" href=\"/stocks/asahi-songwon-colors-lucky-laminates-ASSC\">Asahi Songwon Colors Lucky Laminates Ltd</a></li>, <li class=\"jsx-1528870203\"><a class=\"jsx-1528870203\" href=\"/stocks/ascensive-educare-ASC\">Ascensive Educare Ltd</a></li>, <li class=\"jsx-1528870203\"><a class=\"jsx-1528870203\" href=\"/stocks/ascom-leasing-and-investments-ASCM\">Ascom Leasing &amp; Investments Ltd</a></li>, <li class=\"jsx-1528870203\"><a class=\"jsx-1528870203\" href=\"/stocks/ashapura-minechem-ASHM\">Ashapura Minechem Ltd</a></li>, <li class=\"jsx-1528870203\"><a class=\"jsx-1528870203\" href=\"/stocks/ashapuri-gold-ornament-AGO\">Ashapuri Gold Ornament Ltd</a></li>, <li class=\"jsx-1528870203\"><a class=\"jsx-1528870203\" href=\"/stocks/ashiana-agro-industries-ASHAI\">Ashiana Agro Industries Ltd</a></li>, <li class=\"jsx-1528870203\"><a class=\"jsx-1528870203\" href=\"/stocks/ashiana-housing-AHFN\">Ashiana Housing Ltd</a></li>, <li class=\"jsx-1528870203\"><a class=\"jsx-1528870203\" href=\"/stocks/ashiana-ispat-ASHIA\">Ashiana Ispat Ltd</a></li>, <li class=\"jsx-1528870203\"><a class=\"jsx-1528870203\" href=\"/stocks/ashika-credit-capital-ASHI\">Ashika Credit Capital Ltd</a></li>, <li class=\"jsx-1528870203\"><a class=\"jsx-1528870203\" href=\"/stocks/ashima-ASHL\">Ashima Ltd</a></li>, <li class=\"jsx-1528870203\"><a class=\"jsx-1528870203\" href=\"/stocks/ashirwad-capital-ASHC\">Ashirwad Capital Ltd</a></li>, <li class=\"jsx-1528870203\"><a class=\"jsx-1528870203\" href=\"/stocks/ashirwad-steels-and-industries-ASHS\">Ashirwad Steels And Industries Ltd</a></li>, <li class=\"jsx-1528870203\"><a class=\"jsx-1528870203\" href=\"/stocks/ashish-polyplast-ASHIS\">Ashish Polyplast Ltd</a></li>, <li class=\"jsx-1528870203\"><a class=\"jsx-1528870203\" href=\"/stocks/ashnisha-industries-ASH\">Ashnisha Industries Ltd</a></li>, <li class=\"jsx-1528870203\"><a class=\"jsx-1528870203\" href=\"/stocks/ashnoor-textile-mills-ASHN\">Ashnoor Textile Mills Ltd</a></li>, <li class=\"jsx-1528870203\"><a class=\"jsx-1528870203\" href=\"/stocks/ashok-alco-chem-ASHOK\">Ashok Alco-Chem Ltd</a></li>, <li class=\"jsx-1528870203\"><a class=\"jsx-1528870203\" href=\"/stocks/ashok-leyland-ASOK\">Ashok Leyland Ltd</a></li>, <li class=\"jsx-1528870203\"><a class=\"jsx-1528870203\" href=\"/stocks/ashoka-buildcon-ABDL\">Ashoka Buildcon Ltd</a></li>, <li class=\"jsx-1528870203\"><a class=\"jsx-1528870203\" href=\"/stocks/ashoka-metcast-AML\">Ashoka Metcast Ltd</a></li>, <li class=\"jsx-1528870203\"><a class=\"jsx-1528870203\" href=\"/stocks/ashoka-refineries-ASHO\">Ashoka Refineries Ltd</a></li>, <li class=\"jsx-1528870203\"><a class=\"jsx-1528870203\" href=\"/stocks/ashram-onlinecom-TATIA\">Ashram Online Com Ltd</a></li>, <li class=\"jsx-1528870203\"><a class=\"jsx-1528870203\" href=\"/stocks/asia-capital-ASI\">Asia Capital Ltd</a></li>, <li class=\"jsx-1528870203\"><a class=\"jsx-1528870203\" href=\"/stocks/asia-pack-ASIA\">Asia Pack Ltd</a></li>, <li class=\"jsx-1528870203\"><a class=\"jsx-1528870203\" href=\"/stocks/asian-oilfield-services-ASIAO\">Asian Energy Services Ltd</a></li>, <li class=\"jsx-1528870203\"><a class=\"jsx-1528870203\" href=\"/stocks/asian-granito-india-ASGI\">Asian Granito India Ltd</a></li>, <li class=\"jsx-1528870203\"><a class=\"jsx-1528870203\" href=\"/stocks/asian-hotels-north-ASHT\">Asian Hotels (North) Ltd</a></li>, <li class=\"jsx-1528870203\"><a class=\"jsx-1528870203\" href=\"/stocks/asian-hotels-west-ASHW\">Asian Hotels (West) Ltd</a></li>, <li class=\"jsx-1528870203\"><a class=\"jsx-1528870203\" href=\"/stocks/asian-hotels-east-ASHE\">Asian Hotels East Ltd</a></li>, <li class=\"jsx-1528870203\"><a class=\"jsx-1528870203\" href=\"/stocks/asian-paints-ASPN\">Asian Paints Ltd</a></li>, <li class=\"jsx-1528870203\"><a class=\"jsx-1528870203\" href=\"/stocks/asian-petroproducts-and-exports-ASIN\">Asian Petro Products and Exports Ltd</a></li>, <li class=\"jsx-1528870203\"><a class=\"jsx-1528870203\" href=\"/stocks/asian-star-company-AST\">Asian Star Co Ltd</a></li>, <li class=\"jsx-1528870203\"><a class=\"jsx-1528870203\" href=\"/stocks/asian-tea-and-exports-ASIAT\">Asian Tea &amp; Exports Ltd</a></li>, <li class=\"jsx-1528870203\"><a class=\"jsx-1528870203\" href=\"/stocks/asit-c-mehta-financial-services-ASIT\">Asit C Mehta Financial Services Ltd</a></li>, <li class=\"jsx-1528870203\"><a class=\"jsx-1528870203\" href=\"/stocks/aspinwall-and-co-ASPI\">Aspinwall &amp; Co Ltd</a></li>, <li class=\"jsx-1528870203\"><a class=\"jsx-1528870203\" href=\"/stocks/aspira-pathlab-and-diagnostics-ASP\">Aspira Pathlab &amp; Diagnostics Ltd</a></li>, <li class=\"jsx-1528870203\"><a class=\"jsx-1528870203\" href=\"/stocks/assam-entrade-ASS\">Assam Entrade Ltd</a></li>, <li class=\"jsx-1528870203\"><a class=\"jsx-1528870203\" href=\"/stocks/associated-alcohols-and-breweries-ASAL\">Associated Alcohols &amp; Breweries Ltd</a></li>, <li class=\"jsx-1528870203\"><a class=\"jsx-1528870203\" href=\"/stocks/astec-lifesciences-ASTE\">Astec Lifesciences Ltd</a></li>, <li class=\"jsx-1528870203\"><a class=\"jsx-1528870203\" href=\"/stocks/aster-dm-healthcare-ATRD\">Aster DM Healthcare Ltd</a></li>, <li class=\"jsx-1528870203\"><a class=\"jsx-1528870203\" href=\"/stocks/astra-micro-wave-products-ASTM\">Astra Micro Wave Products Ltd</a></li>, <li class=\"jsx-1528870203\"><a class=\"jsx-1528870203\" href=\"/stocks/astral-poly-technik-ASPT\">Astral Ltd</a></li>, <li class=\"jsx-1528870203\"><a class=\"jsx-1528870203\" href=\"/stocks/astrazeneca-pharma-india-ASTR\">Astrazeneca Pharma India Ltd</a></li>, <li class=\"jsx-1528870203\"><a class=\"jsx-1528870203\" href=\"/stocks/astron-paper-and-board-mill-ASTO\">Astron Paper &amp; Board Mill Ltd</a></li>, <li class=\"jsx-1528870203\"><a class=\"jsx-1528870203\" href=\"/stocks/asutosh-enterprises-ASU\">Asutosh Enterprises Ltd</a></li>, <li class=\"jsx-1528870203\"><a class=\"jsx-1528870203\" href=\"/stocks/atal-realtech-ATAL\">Atal Realtech Ltd</a></li>, <li class=\"jsx-1528870203\"><a class=\"jsx-1528870203\" href=\"/stocks/atam-valves-ATA\">Atam Valves Ltd</a></li>, <li class=\"jsx-1528870203\"><a class=\"jsx-1528870203\" href=\"/stocks/atharv-enterprises-ATHA\">Atharv Enterprises Ltd</a></li>, <li class=\"jsx-1528870203\"><a class=\"jsx-1528870203\" href=\"/stocks/athena-constructions-ATH\">Athena Constructions Ltd</a></li>, <li class=\"jsx-1528870203\"><a class=\"jsx-1528870203\" href=\"/stocks/athena-global-technologies-ATHE\">Athena Global Technologies Ltd</a></li>, <li class=\"jsx-1528870203\"><a class=\"jsx-1528870203\" href=\"/stocks/atishay-ATI\">Atishay Ltd</a></li>, <li class=\"jsx-1528870203\"><a class=\"jsx-1528870203\" href=\"/stocks/atlanta-ATLT\">Atlanta Ltd</a></li>, <li class=\"jsx-1528870203\"><a class=\"jsx-1528870203\" href=\"/stocks/atlas-cycles-haryana-ATCY\">Atlas Cycles Haryana Ltd</a></li>, <li class=\"jsx-1528870203\"><a class=\"jsx-1528870203\" href=\"/stocks/atlas-jewellery-india-AJI\">Atlas Jewellery India Ltd</a></li>, <li class=\"jsx-1528870203\"><a class=\"jsx-1528870203\" href=\"/stocks/atul-auto-ATUL\">Atul Auto Ltd</a></li>, <li class=\"jsx-1528870203\"><a class=\"jsx-1528870203\" href=\"/stocks/atul-ATLP\">Atul Ltd</a></li>, <li class=\"jsx-1528870203\"><a class=\"jsx-1528870203\" href=\"/stocks/aurangabad-distillery-AURA\">Aurangabad Distillery Ltd</a></li>, <li class=\"jsx-1528870203\"><a class=\"jsx-1528870203\" href=\"/stocks/aurionpro-solutions-APSL\">Aurionpro Solutions Ltd</a></li>, <li class=\"jsx-1528870203\"><a class=\"jsx-1528870203\" href=\"/stocks/auro-laboratories-AURO\">Auro Laboratories Ltd</a></li>, <li class=\"jsx-1528870203\"><a class=\"jsx-1528870203\" href=\"/stocks/aurobindo-pharma-ARBN\">Aurobindo Pharma Ltd</a></li>, <li class=\"jsx-1528870203\"><a class=\"jsx-1528870203\" href=\"/stocks/majesco-MAJC\">Aurum Proptech Ltd</a></li>, <li class=\"jsx-1528870203\"><a class=\"jsx-1528870203\" href=\"/stocks/ausom-enterprise-AUSM\">Ausom Enterprise Ltd</a></li>, <li class=\"jsx-1528870203\"><a class=\"jsx-1528870203\" href=\"/stocks/austin-engineering-company-AUS\">Austin Engineering Company Ltd</a></li>, <li class=\"jsx-1528870203\"><a class=\"jsx-1528870203\" href=\"/stocks/authum-investment-and-infrastructure-AII\">Authum Investment &amp; Infrastructure Ltd</a></li>, <li class=\"jsx-1528870203\"><a class=\"jsx-1528870203\" href=\"/stocks/auto-pins-india-AUTO\">Auto Pins India Ltd</a></li>, <li class=\"jsx-1528870203\"><a class=\"jsx-1528870203\" href=\"/stocks/autoline-industries-AUIN\">Autoline Industries Ltd</a></li>, <li class=\"jsx-1528870203\"><a class=\"jsx-1528870203\" href=\"/stocks/autolite-india-AUTL\">Autolite India Ltd</a></li>, <li class=\"jsx-1528870203\"><a class=\"jsx-1528870203\" href=\"/stocks/automobile-corporation-of-goa-AUTOC\">Automobile Corp Of Goa Ltd</a></li>, <li class=\"jsx-1528870203\"><a class=\"jsx-1528870203\" href=\"/stocks/automotive-axles-ATOA\">Automotive Axles Ltd</a></li>, <li class=\"jsx-1528870203\"><a class=\"jsx-1528870203\" href=\"/stocks/automotive-stampings-and-assemblies-ASAS\">Automotive Stampings and Assemblies Ltd</a></li>, <li class=\"jsx-1528870203\"><a class=\"jsx-1528870203\" href=\"/stocks/autoriders-international-AUTOI\">Autoriders International Ltd</a></li>, <li class=\"jsx-1528870203\"><a class=\"jsx-1528870203\" href=\"/stocks/autumn-builders-AUT\">Autumn Builders Ltd</a></li>, <li class=\"jsx-1528870203\"><a class=\"jsx-1528870203\" href=\"/stocks/avadh-sugar-and-energy-AVAD\">Avadh Sugar &amp; Energy Ltd</a></li>, <li class=\"jsx-1528870203\"><a class=\"jsx-1528870203\" href=\"/stocks/available-finance-AVAI\">Available Finance Ltd</a></li>, <li class=\"jsx-1528870203\"><a class=\"jsx-1528870203\" href=\"/stocks/avantel-AVA\">Avantel Ltd</a></li>, <li class=\"jsx-1528870203\"><a class=\"jsx-1528870203\" href=\"/stocks/avanti-feeds-AVNT\">Avanti Feeds Ltd</a></li>, <li class=\"jsx-1528870203\"><a class=\"jsx-1528870203\" href=\"/stocks/avenue-supermarts-AVEU\">Avenue Supermarts Ltd</a></li>, <li class=\"jsx-1528870203\"><a class=\"jsx-1528870203\" href=\"/stocks/aviva-industries-AVIV\">Aviva Industries Ltd</a></li>, <li class=\"jsx-1528870203\"><a class=\"jsx-1528870203\" href=\"/stocks/avonmore-capital-and-management-services-AVON\">Avonmore Capital &amp; Management Services Ltd</a></li>, <li class=\"jsx-1528870203\"><a class=\"jsx-1528870203\" href=\"/stocks/avro-india-AVRI\">Avro India Ltd</a></li>, <li class=\"jsx-1528870203\"><a class=\"jsx-1528870203\" href=\"/stocks/axel-polymers-AXE\">Axel Polymers Ltd</a></li>, <li class=\"jsx-1528870203\"><a class=\"jsx-1528870203\" href=\"/etfs/axis-aaa-bond-plus-sdl-etf-2026-matur-reg-growth-AXISB\">Axis AAA Bond Plus SDL ETF-2026 Matur. Reg. Growth</a></li>, <li class=\"jsx-1528870203\"><a class=\"jsx-1528870203\" href=\"/stocks/axis-bank-AXBK\">Axis Bank Ltd</a></li>, <li class=\"jsx-1528870203\"><a class=\"jsx-1528870203\" href=\"/etfs/axis-banking-etf-AXIS\">Axis Banking ETF</a></li>, <li class=\"jsx-1528870203\"><a class=\"jsx-1528870203\" href=\"/etfs/axis-consumption-etf-AXISC\">Axis Consumption ETF</a></li>, <li class=\"jsx-1528870203\"><a class=\"jsx-1528870203\" href=\"/etfs/axis-gold-etf-AXGF\">Axis Gold ETF</a></li>, <li class=\"jsx-1528870203\"><a class=\"jsx-1528870203\" href=\"/etfs/axis-healthcare-etf-AXISH\">Axis Healthcare ETF</a></li>, <li class=\"jsx-1528870203\"><a class=\"jsx-1528870203\" href=\"/etfs/axis-nifty-50-etf-AISN\">Axis Nifty 50 ETF</a></li>, <li class=\"jsx-1528870203\"><a class=\"jsx-1528870203\" href=\"/etfs/axis-technology-etf-regular-growth-AXIST\">Axis Technology ETF Regular Growth</a></li>, <li class=\"jsx-1528870203\"><a class=\"jsx-1528870203\" href=\"/stocks/axiscades-technologies-AXIT\">Axiscades Technologies Ltd</a></li>, <li class=\"jsx-1528870203\"><a class=\"jsx-1528870203\" href=\"/stocks/axita-cotton-AXI\">Axita Cotton Ltd</a></li>, <li class=\"jsx-1528870203\"><a class=\"jsx-1528870203\" href=\"/stocks/axtel-industries-AXT\">Axtel Industries Ltd</a></li>, <li class=\"jsx-1528870203\"><a class=\"jsx-1528870203\" href=\"/stocks/aym-syntex-AYMS\">Aym Syntex Ltd</a></li>, <li class=\"jsx-1528870203\"><a class=\"jsx-1528870203\" href=\"/stocks/ayoki-merchantile-AYO\">Ayoki Merchantile Ltd</a></li>, <li class=\"jsx-3952893776\"><a class=\"jsx-3952893776\" href=\"/screener/equity\">Stock Screener</a></li>, <li class=\"jsx-3952893776\"><a class=\"jsx-3952893776\" href=\"/screener/mutual-fund\">MF Screener</a></li>, <li class=\"jsx-3952893776\"><a class=\"jsx-3952893776\" href=\"/market-mood-index\">MMI</a></li>, <li class=\"jsx-3952893776\"><a class=\"jsx-3952893776\" href=\"/stockdeals\">Stock Deals</a></li>, <li class=\"jsx-3952893776\"><a class=\"jsx-3952893776\" href=\"http://www.tickertape.in/learn/\" rel=\"noopener noreferrer\" target=\"_blank\">Learn</a></li>, <li class=\"jsx-3952893776\"><a class=\"jsx-3952893776\" href=\"https://www.tickertape.in/blog/\" rel=\"noopener noreferrer\" target=\"_blank\">Blog</a></li>, <li class=\"jsx-3952893776\"><a class=\"jsx-3952893776\" href=\"/pricing\">Pricing</a></li>, <li class=\"jsx-3952893776\"><a class=\"jsx-3952893776\" href=\"/meta/cancellation\" rel=\"noopener noreferrer nofollow\">Cancellation Policy</a></li>, <li class=\"jsx-3952893776\"><a class=\"jsx-3952893776\" href=\"/meta/terms\">Terms</a></li>, <li class=\"jsx-3952893776\"><a class=\"jsx-3952893776\" href=\"/meta/privacy\">Privacy</a></li>, <li class=\"jsx-3952893776\"><a class=\"jsx-3952893776\" href=\"/meta/disclaimer\">Disclaimers</a></li>, <li class=\"jsx-3952893776\"><a class=\"jsx-3952893776\" href=\"/meta/about\">About Us</a></li>, <li class=\"jsx-3952893776\"><a class=\"jsx-3952893776\" href=\"http://help.tickertape.in/\" rel=\"noopener noreferrer\" target=\"_blank\">Support</a></li>, <li class=\"jsx-3952893776\"><a class=\"jsx-3952893776\" href=\"/meta/about#contact\">Contact Us</a></li>]\n"
          ]
        }
      ]
    },
    {
      "cell_type": "code",
      "source": [
        "htmlBlock[0]"
      ],
      "metadata": {
        "colab": {
          "base_uri": "https://localhost:8080/"
        },
        "id": "iKLzlPeikk3R",
        "outputId": "440207ea-ad70-4c37-a1e6-62d63f967076"
      },
      "execution_count": 29,
      "outputs": [
        {
          "output_type": "execute_result",
          "data": {
            "text/plain": [
              "<li class=\"jsx-1528870203\"><a class=\"jsx-1528870203\" href=\"/stocks/ab-cotspin-india-ABCO\">A B Cotspin India Ltd</a></li>"
            ]
          },
          "metadata": {},
          "execution_count": 29
        }
      ]
    },
    {
      "cell_type": "code",
      "source": [
        "htmlBlock[0].a['href'].split('/')[2]"
      ],
      "metadata": {
        "colab": {
          "base_uri": "https://localhost:8080/",
          "height": 35
        },
        "id": "SeCk6rkok1eZ",
        "outputId": "364383bd-cf86-4a5a-a0cc-4642c4a6ddfa"
      },
      "execution_count": 31,
      "outputs": [
        {
          "output_type": "execute_result",
          "data": {
            "text/plain": [
              "'ab-cotspin-india-ABCO'"
            ],
            "application/vnd.google.colaboratory.intrinsic+json": {
              "type": "string"
            }
          },
          "metadata": {},
          "execution_count": 31
        }
      ]
    },
    {
      "cell_type": "code",
      "source": [
        "fullList = list(map(lambda element: element.a['href'], htmlBlock))\n",
        "fullList"
      ],
      "metadata": {
        "colab": {
          "base_uri": "https://localhost:8080/"
        },
        "id": "pb-7SN0PjJq9",
        "outputId": "4a5e267e-b0e1-4e3b-af84-3ed1190c9c04"
      },
      "execution_count": 42,
      "outputs": [
        {
          "output_type": "execute_result",
          "data": {
            "text/plain": [
              "['/stocks/ab-cotspin-india-ABCO',\n",
              " '/stocks/a-b-infrabuild-ABIN',\n",
              " '/stocks/a-f-enterprises-AFE',\n",
              " '/stocks/a-infrastructure-AIN',\n",
              " '/stocks/akcapital-services-AKC',\n",
              " '/stocks/a-and-m-jumbo-bags-AMJU',\n",
              " '/stocks/a-1-acid-AAL',\n",
              " '/stocks/a2z-infra-engineering-A2ZI',\n",
              " '/stocks/aa-plus-tradelink-AAP',\n",
              " '/stocks/aaa-technologies-AAA',\n",
              " '/stocks/aar-commercial-company-AARC',\n",
              " '/stocks/aar-shyam-india-investment-company-AARS',\n",
              " '/stocks/aarv-infratel-AARV',\n",
              " '/stocks/abb-india-ABB',\n",
              " '/stocks/abc-india-ABC',\n",
              " '/stocks/abm-knowledgeware-ABM',\n",
              " '/stocks/acc-ACC',\n",
              " '/stocks/ace-software-exports-ACES',\n",
              " '/stocks/aci-infocom-ACII',\n",
              " '/stocks/ad-manum-finance-ADM',\n",
              " '/stocks/adc-india-communications-KRO',\n",
              " '/stocks/adf-foods-AMRN',\n",
              " '/stocks/agi-infra-AGI',\n",
              " '/stocks/ags-transact-technologies-AGS',\n",
              " '/stocks/aia-engineering-AIAE',\n",
              " '/stocks/gammon-infrastructure-projects-GAIN',\n",
              " '/stocks/a-k-spintex-AKSP',\n",
              " '/stocks/akg-exim-AKGE',\n",
              " '/stocks/aki-india-AKI',\n",
              " '/stocks/akm-lace-and-embrotex-AKM',\n",
              " '/stocks/amd-industries-AMDM',\n",
              " '/stocks/amj-land-holdings-AMJL',\n",
              " '/stocks/ams-polymers-AMM',\n",
              " '/stocks/ang-industries-ANGI',\n",
              " '/stocks/ang-lifesciences-india-ANA',\n",
              " '/stocks/ani-integrated-services-ANII',\n",
              " '/stocks/ans-industries-ANS',\n",
              " '/stocks/apl-apollo-tubes-APLA',\n",
              " '/stocks/apm-finvest-APM',\n",
              " '/stocks/apm-industries-APMI',\n",
              " '/stocks/a-r-c-finance-ARC',\n",
              " '/stocks/arss-infrastructure-projects-ARSS',\n",
              " '/stocks/asi-industries-ASO',\n",
              " '/stocks/asl-industries-ASLI',\n",
              " '/stocks/asm-technologies-ASM',\n",
              " '/stocks/atn-international-ASGM',\n",
              " '/stocks/atv-projects-india-ATVP',\n",
              " '/stocks/au-small-finance-bank-AUFI',\n",
              " '/stocks/avg-logistics-AVGL',\n",
              " '/stocks/avi-polymers-AVI',\n",
              " '/stocks/avi-products-india-APIL',\n",
              " '/stocks/avsl-industries-AVSL',\n",
              " '/stocks/avt-natural-products-AVTN',\n",
              " '/stocks/aadi-industries-AADI',\n",
              " '/stocks/aakash-exploration-services-AAKA',\n",
              " '/stocks/aananda-lakshmi-spinning-mills-AANA',\n",
              " '/stocks/aanchal-ispat-AAN',\n",
              " '/stocks/aarcon-facilities-RBG',\n",
              " '/stocks/aarey-drugs-and-pharmaceuticals-AREY',\n",
              " '/stocks/aarnav-fashions-AARNA',\n",
              " '/stocks/aaron-industries-AARN',\n",
              " '/stocks/aartech-solonics-AAR',\n",
              " '/stocks/aarti-drugs-ADRG',\n",
              " '/stocks/aarti-industries-ARTI',\n",
              " '/stocks/aarti-surfactants-AARU',\n",
              " '/stocks/aarvee-denims-and-exports-AADM',\n",
              " '/stocks/aarvi-encon-AARI',\n",
              " '/stocks/aashka-hospitals-AAS',\n",
              " '/stocks/upasana-finance-UPA',\n",
              " '/stocks/aaswa-trading-and-exports-ASW',\n",
              " '/stocks/aavas-financiers-AVAS',\n",
              " '/stocks/aayush-food-and-herbs-AAY',\n",
              " '/stocks/aban-offshore-ABAN',\n",
              " '/stocks/abans-enterprises-ABA',\n",
              " '/stocks/abbott-india-ABOT',\n",
              " '/stocks/abhinav-capital-services-ABHIC',\n",
              " '/stocks/abhinav-leasing-and-finance-ALF',\n",
              " '/stocks/abhishek-finlease-ABHIF',\n",
              " '/stocks/abhishek-infraventures-ABHI',\n",
              " '/stocks/abhishek-integrations-AIL',\n",
              " '/stocks/abirami-financial-services-india-ABI',\n",
              " '/stocks/abm-international-ABMN',\n",
              " '/stocks/ecom-infotech-india-ECO',\n",
              " '/stocks/accel-ACCE',\n",
              " '/stocks/accelya-solutions-india-ACCY',\n",
              " '/stocks/accord-synergy-ACCO',\n",
              " '/stocks/accuracy-shipping-ACCU',\n",
              " '/stocks/ace-integrated-solutions-ACEN',\n",
              " '/stocks/ace-men-engg-works-ACE',\n",
              " '/stocks/acewin-agriteck-ACEW',\n",
              " '/stocks/achyut-healthcare-ACHY',\n",
              " '/stocks/acknit-industries-ACK',\n",
              " '/stocks/acme-resources-ACME',\n",
              " '/stocks/acrow-india-ACRO',\n",
              " '/stocks/acrysil-ACR',\n",
              " '/stocks/action-construction-equipment-ACEL',\n",
              " '/stocks/active-clothing-co-ACT',\n",
              " '/stocks/adani-enterprises-ADEL',\n",
              " '/stocks/adani-green-energy-ADNA',\n",
              " '/stocks/adani-ports-and-special-economic-zone-APSE',\n",
              " '/stocks/adani-power-ADAN',\n",
              " '/stocks/adani-gas-ADAG',\n",
              " '/stocks/adani-transmission-ADAI',\n",
              " '/stocks/adani-wilmar-AWL',\n",
              " '/stocks/adarsh-mercantile-ADA',\n",
              " '/stocks/adarsh-plant-protect-ADAR',\n",
              " '/stocks/adcon-capital-services-ADC',\n",
              " '/stocks/add-shop-e-retail-ASR',\n",
              " '/stocks/addi-industries-ADD',\n",
              " '/stocks/adeshwar-meditex-ADE',\n",
              " '/stocks/adharshila-capital-services-ADHA',\n",
              " '/stocks/adinath-exim-resources-ADIE',\n",
              " '/stocks/adinath-textiles-ADIN',\n",
              " '/stocks/adishakti-loha-and-ispat-ADISH',\n",
              " '/etfs/aditya-bsl-gold-etf-AITY',\n",
              " '/etfs/aditya-bsl-nifty-50-etf-ADIY',\n",
              " '/etfs/aditya-bsl-sensex-30-etf-BSL',\n",
              " '/stocks/aditya-birla-capital-ADTB',\n",
              " '/stocks/aditya-birla-fashion-and-retail-ADIA',\n",
              " '/stocks/aditya-birla-money-ABML',\n",
              " '/stocks/aditya-birla-sun-life-amc-ABS',\n",
              " '/etfs/aditya-birla-sun-life-nifty-healthcare-etf-HEALT',\n",
              " '/etfs/aditya-birla-sun-life-nifty-bank-etf-ADIL',\n",
              " '/etfs/aditya-birla-sun-life-nifty-it-etf-TECT',\n",
              " '/etfs/aditya-birla-sun-life-nifty-next-50-etf-ADIB',\n",
              " '/etfs/aditya-birla-sun-life-silver-etf-SILVR',\n",
              " '/stocks/aditya-consumer-marketing-ACM',\n",
              " '/stocks/aditya-ispat-ADITY',\n",
              " '/stocks/aditya-spinners-ADIT',\n",
              " '/stocks/aditya-vision-AVL',\n",
              " '/stocks/adjia-technologies-ADJ',\n",
              " '/stocks/kamron-laboratories-KAMR',\n",
              " '/stocks/ador-fontech-ADO',\n",
              " '/stocks/ador-multi-products-ADORM',\n",
              " '/stocks/ador-welding-ADOR',\n",
              " '/stocks/adroit-infotech-AROI',\n",
              " '/stocks/advait-infratech-ADVA',\n",
              " '/stocks/advance-lifestyles-ADVL',\n",
              " '/stocks/advance-metering-technology-AMTL',\n",
              " '/stocks/advance-petrochemicals-ADVPE',\n",
              " '/stocks/advance-syntex-ASY',\n",
              " '/stocks/advanced-enzyme-technologies-ADEN',\n",
              " '/stocks/advani-hotels-and-resorts-india-ADHO',\n",
              " '/stocks/advik-capital-ADVI',\n",
              " '/stocks/aegis-logistics-AEGS',\n",
              " '/stocks/affle-india-AFFL',\n",
              " '/stocks/affordable-robotic-and-automation-AFF',\n",
              " '/stocks/agarwal-industrial-corporation-AGWL',\n",
              " '/stocks/agio-paper-and-industries-AGIO',\n",
              " '/stocks/agri-tech-india-AGTL',\n",
              " '/stocks/agrimony-commodities-AGR',\n",
              " '/stocks/agro-phos-india-AGRP',\n",
              " '/stocks/agro-tech-foods-AGRO',\n",
              " '/stocks/ahimsa-industries-AHIN',\n",
              " '/stocks/ahlada-engineers-AHLA',\n",
              " '/stocks/ahluwalia-contracts-india-AHLU',\n",
              " '/stocks/ahmedabad-steelcraft-AHM',\n",
              " '/stocks/ai-champdany-industries-AICI',\n",
              " '/stocks/aimco-pesticides-AIMC',\n",
              " '/stocks/airan-AIRA',\n",
              " '/stocks/airolam-AIRO',\n",
              " '/stocks/aishwarya-technologies-and-telecom-AIS',\n",
              " '/stocks/ajanta-pharma-AJPH',\n",
              " '/stocks/ajanta-soya-AJA',\n",
              " '/stocks/ajcon-global-services-AJC',\n",
              " '/stocks/ajel-AJE',\n",
              " '/stocks/ajmera-realty-and-infra-india-AJME',\n",
              " '/stocks/ajooni-biotech-AJOO',\n",
              " '/stocks/ajwa-fun-world-and-resort-AJW',\n",
              " '/stocks/akar-auto-industries-AAI',\n",
              " '/stocks/akash-infra-projects-AKAS',\n",
              " '/stocks/akashdeep-metal-industries-AKA',\n",
              " '/stocks/aksh-optifibre-AKSO',\n",
              " '/stocks/akshar-spintex-AKS',\n",
              " '/stocks/aksharchem-india-AKSH',\n",
              " '/stocks/akzo-nobel-india-AKZO',\n",
              " '/stocks/alacrity-securities-ALSA',\n",
              " '/stocks/alan-scott-industries-ALAN',\n",
              " '/stocks/alankit-ALAK',\n",
              " '/stocks/albert-david-ALBD',\n",
              " '/stocks/alchemist-corporation-ALC',\n",
              " '/stocks/alchemist-ALCL',\n",
              " '/stocks/alembic-ALMC',\n",
              " '/stocks/alembic-pharmaceuticals-ALEM',\n",
              " '/stocks/alexander-stamps-and-coin-ALE',\n",
              " '/stocks/alfa-ica-india-ALFAI',\n",
              " '/stocks/alfa-transformers-ALFAT',\n",
              " '/stocks/alfavision-overseas-ALFA',\n",
              " '/stocks/alfred-herbert-india-ALFR',\n",
              " '/stocks/hindustan-everest-tools-HINDE',\n",
              " '/stocks/alicon-castalloy-ALIO',\n",
              " '/stocks/alkali-metals-ALML',\n",
              " '/stocks/alkem-laboratories-ALKE',\n",
              " '/stocks/alkosign-ALKO',\n",
              " '/stocks/alkyl-amines-chemicals-ALKY',\n",
              " '/stocks/allcargo-logistics-ACLL',\n",
              " '/stocks/alliance-integrated-metaliks-AIM',\n",
              " '/stocks/allied-digital-services-ADIS',\n",
              " '/stocks/allsec-technologies-ALLS',\n",
              " '/stocks/almondz-global-securities-ALSL',\n",
              " '/stocks/alna-trading-and-exports-ALN',\n",
              " '/stocks/alok-industries-ALOK',\n",
              " '/stocks/alpa-laboratories-ALPA',\n",
              " '/stocks/alphageo-india-ALPI',\n",
              " '/stocks/alphalogic-techsys-ALP',\n",
              " '/stocks/alpine-housing-development-corporation-ALPIN',\n",
              " '/stocks/alps-industries-ALPS',\n",
              " '/stocks/alstone-textiles-india-ALS',\n",
              " '/stocks/alufluoride-ALU',\n",
              " '/stocks/amal-AMAA',\n",
              " '/stocks/amalgamated-electricity-company-AMAL',\n",
              " '/stocks/amara-raja-batteries-AMAR',\n",
              " '/stocks/amarjothi-spinning-mills-AMARJ',\n",
              " '/stocks/amarnath-securities-AMARS',\n",
              " '/stocks/amba-enterprises-AEL',\n",
              " '/stocks/ambalal-sarabhai-enterprises-AMBAS',\n",
              " '/stocks/ambani-organics-AMBN',\n",
              " '/stocks/ambar-protein-industries-AMBA',\n",
              " '/stocks/ambassador-intra-holdings-AIH',\n",
              " '/stocks/amber-enterprises-india-AMBE',\n",
              " '/stocks/ambica-agarbathies-aroma-and-industries-AAAI',\n",
              " '/stocks/ambika-cotton-mills-AMBK',\n",
              " '/stocks/ambition-mica-AMB',\n",
              " '/stocks/ambuja-cements-ABUJ',\n",
              " '/stocks/amco-india-AMC',\n",
              " '/stocks/amradeep-industries-AMARD',\n",
              " '/stocks/amforge-industries-AMFO',\n",
              " '/stocks/ami-organics-AMIO',\n",
              " '/stocks/amin-tannery-AMI',\n",
              " '/stocks/amines-and-plasticizers-AMN',\n",
              " '/stocks/amit-international-AMIT',\n",
              " '/stocks/amrapali-capital-and-finance-services-ACF',\n",
              " '/stocks/amrapali-fincap-AMR',\n",
              " '/stocks/amrapali-industries-AMRAP',\n",
              " '/stocks/amraworld-agrico-AMRA',\n",
              " '/stocks/amrit-corp-AMRI',\n",
              " '/stocks/amrutanjan-health-care-AJAN',\n",
              " '/stocks/anand-projects-ANAN',\n",
              " '/stocks/anand-rathi-wealth-ANAND',\n",
              " '/stocks/anand-rayons-ARL',\n",
              " '/stocks/anant-raj-ANRA',\n",
              " '/stocks/andhra-cements-ANDC',\n",
              " '/stocks/andhra-paper-ANDA',\n",
              " '/stocks/andhra-petrochemicals-AND',\n",
              " '/stocks/andhra-sugars-ANDS',\n",
              " '/stocks/andrew-yule-and-company-ANDR',\n",
              " '/stocks/aneri-fincap-ANE',\n",
              " '/stocks/angel-fibers-ANG',\n",
              " '/stocks/angel-broking-ANGE',\n",
              " '/stocks/anik-industries-ANIK',\n",
              " '/stocks/anjani-finance-ANJ',\n",
              " '/stocks/anjani-foods-ANJA',\n",
              " '/stocks/anjani-portland-cement-ANCM',\n",
              " '/stocks/anjani-synthetics-ANJAN',\n",
              " '/stocks/anka-india-ANK',\n",
              " '/stocks/ankit-metal-and-power-AMPL',\n",
              " '/stocks/anmol-india-ANM',\n",
              " '/stocks/anna-infrastructures-ANN',\n",
              " '/stocks/ansal-buildwell-ANSA',\n",
              " '/stocks/ansal-housing-ANSL',\n",
              " '/stocks/ansal-properties-and-infrastructure-ANSP',\n",
              " '/stocks/anshuni-commercials-ANSH',\n",
              " '/stocks/antarctica-ANTC',\n",
              " '/stocks/antariksh-industries-ANT',\n",
              " '/stocks/antony-waste-handling-cell-AWH',\n",
              " '/stocks/anuh-pharma-ANUH',\n",
              " '/stocks/anup-engineering-ANUE',\n",
              " '/stocks/anupam-finserv-ANUPA',\n",
              " '/stocks/anupam-rasayan-india-ANUR',\n",
              " '/stocks/anuroop-packaging-ANU',\n",
              " '/stocks/apar-industries-APAR',\n",
              " '/stocks/apcotex-industries-APCI',\n",
              " '/stocks/apex-capital-and-finance-ACFL',\n",
              " '/stocks/apex-frozen-foods-APEX',\n",
              " '/stocks/apis-india-API',\n",
              " '/stocks/aplab-APLAB',\n",
              " '/stocks/apollo-finvest-india-APOLL',\n",
              " '/stocks/apollo-hospitals-enterprise-APLH',\n",
              " '/stocks/apollo-micro-systems-APLL',\n",
              " '/stocks/apollo-pipes-AOLL',\n",
              " '/stocks/apollo-sindoori-hotels-APOS',\n",
              " '/stocks/apollo-tricoat-tubes-APOL',\n",
              " '/stocks/apollo-tyres-APLO',\n",
              " '/stocks/apoorva-leasing-finance-and-investment-co-APO',\n",
              " '/stocks/aptech-APTA',\n",
              " '/stocks/aptus-value-housing-finance-india-APTU',\n",
              " '/stocks/aravali-securities-and-finance-ARAV',\n",
              " '/stocks/arcee-industries-ARCE',\n",
              " '/stocks/archidply-decor-ADL',\n",
              " '/stocks/archidply-industries-ARCY',\n",
              " '/stocks/archies-ARGG',\n",
              " '/stocks/archit-organosys-ARCH',\n",
              " '/stocks/arcotech-ARCO',\n",
              " '/stocks/arex-industries-AREX',\n",
              " '/stocks/arfin-india-ARF',\n",
              " '/stocks/aries-agro-ARAI',\n",
              " '/stocks/arihant-capital-markets-ARIH',\n",
              " '/stocks/arihant-foundations-and-housing-ARFL',\n",
              " '/stocks/arihant-superstructures-ARIS',\n",
              " '/stocks/arihant-tournesol-ARH',\n",
              " '/stocks/arihants-securities-ARISE',\n",
              " '/stocks/aris-international-ARISI',\n",
              " '/stocks/arman-financial-services-ARLF',\n",
              " '/stocks/arman-holdings-ARM',\n",
              " '/stocks/arnold-holdings-ARN',\n",
              " '/stocks/aro-granite-industries-AROG',\n",
              " '/stocks/aroma-enterprises-india-ARO',\n",
              " '/stocks/arrow-greentech-ARRO',\n",
              " '/stocks/arshiya-ARSH',\n",
              " '/stocks/art-nirman-ARTN',\n",
              " '/stocks/artedz-fabs-ARTD',\n",
              " '/stocks/artefact-projects-ARTE',\n",
              " '/stocks/artemis-electricals-ART',\n",
              " '/stocks/artemis-medicare-services-ATEM',\n",
              " '/stocks/artson-engineering-ARTS',\n",
              " '/stocks/aruna-hotels-ARU',\n",
              " '/stocks/m-b-parikh-finstock-MBP',\n",
              " '/stocks/arunjyoti-bio-ventures-ABV',\n",
              " '/stocks/arvee-laboratories-india-ARVE',\n",
              " '/stocks/arvind-fashions-ARVF',\n",
              " '/stocks/arvind-fashions-partly-paidup-AFL',\n",
              " '/stocks/arvind-ARVN',\n",
              " '/stocks/arvind-smartspaces-ARVD',\n",
              " '/stocks/aryaman-capital-markets-ARYA',\n",
              " '/stocks/aryaman-financial-services-ARYAM',\n",
              " '/stocks/aryan-share-and-stock-brokers-ARY',\n",
              " '/stocks/aryavan-enterprise-ARYAV',\n",
              " '/stocks/asahi-india-glass-AISG',\n",
              " '/stocks/asahi-industries-ASA',\n",
              " '/stocks/asahi-songwon-colors-lucky-laminates-ASSC',\n",
              " '/stocks/ascensive-educare-ASC',\n",
              " '/stocks/ascom-leasing-and-investments-ASCM',\n",
              " '/stocks/ashapura-minechem-ASHM',\n",
              " '/stocks/ashapuri-gold-ornament-AGO',\n",
              " '/stocks/ashiana-agro-industries-ASHAI',\n",
              " '/stocks/ashiana-housing-AHFN',\n",
              " '/stocks/ashiana-ispat-ASHIA',\n",
              " '/stocks/ashika-credit-capital-ASHI',\n",
              " '/stocks/ashima-ASHL',\n",
              " '/stocks/ashirwad-capital-ASHC',\n",
              " '/stocks/ashirwad-steels-and-industries-ASHS',\n",
              " '/stocks/ashish-polyplast-ASHIS',\n",
              " '/stocks/ashnisha-industries-ASH',\n",
              " '/stocks/ashnoor-textile-mills-ASHN',\n",
              " '/stocks/ashok-alco-chem-ASHOK',\n",
              " '/stocks/ashok-leyland-ASOK',\n",
              " '/stocks/ashoka-buildcon-ABDL',\n",
              " '/stocks/ashoka-metcast-AML',\n",
              " '/stocks/ashoka-refineries-ASHO',\n",
              " '/stocks/ashram-onlinecom-TATIA',\n",
              " '/stocks/asia-capital-ASI',\n",
              " '/stocks/asia-pack-ASIA',\n",
              " '/stocks/asian-oilfield-services-ASIAO',\n",
              " '/stocks/asian-granito-india-ASGI',\n",
              " '/stocks/asian-hotels-north-ASHT',\n",
              " '/stocks/asian-hotels-west-ASHW',\n",
              " '/stocks/asian-hotels-east-ASHE',\n",
              " '/stocks/asian-paints-ASPN',\n",
              " '/stocks/asian-petroproducts-and-exports-ASIN',\n",
              " '/stocks/asian-star-company-AST',\n",
              " '/stocks/asian-tea-and-exports-ASIAT',\n",
              " '/stocks/asit-c-mehta-financial-services-ASIT',\n",
              " '/stocks/aspinwall-and-co-ASPI',\n",
              " '/stocks/aspira-pathlab-and-diagnostics-ASP',\n",
              " '/stocks/assam-entrade-ASS',\n",
              " '/stocks/associated-alcohols-and-breweries-ASAL',\n",
              " '/stocks/astec-lifesciences-ASTE',\n",
              " '/stocks/aster-dm-healthcare-ATRD',\n",
              " '/stocks/astra-micro-wave-products-ASTM',\n",
              " '/stocks/astral-poly-technik-ASPT',\n",
              " '/stocks/astrazeneca-pharma-india-ASTR',\n",
              " '/stocks/astron-paper-and-board-mill-ASTO',\n",
              " '/stocks/asutosh-enterprises-ASU',\n",
              " '/stocks/atal-realtech-ATAL',\n",
              " '/stocks/atam-valves-ATA',\n",
              " '/stocks/atharv-enterprises-ATHA',\n",
              " '/stocks/athena-constructions-ATH',\n",
              " '/stocks/athena-global-technologies-ATHE',\n",
              " '/stocks/atishay-ATI',\n",
              " '/stocks/atlanta-ATLT',\n",
              " '/stocks/atlas-cycles-haryana-ATCY',\n",
              " '/stocks/atlas-jewellery-india-AJI',\n",
              " '/stocks/atul-auto-ATUL',\n",
              " '/stocks/atul-ATLP',\n",
              " '/stocks/aurangabad-distillery-AURA',\n",
              " '/stocks/aurionpro-solutions-APSL',\n",
              " '/stocks/auro-laboratories-AURO',\n",
              " '/stocks/aurobindo-pharma-ARBN',\n",
              " '/stocks/majesco-MAJC',\n",
              " '/stocks/ausom-enterprise-AUSM',\n",
              " '/stocks/austin-engineering-company-AUS',\n",
              " '/stocks/authum-investment-and-infrastructure-AII',\n",
              " '/stocks/auto-pins-india-AUTO',\n",
              " '/stocks/autoline-industries-AUIN',\n",
              " '/stocks/autolite-india-AUTL',\n",
              " '/stocks/automobile-corporation-of-goa-AUTOC',\n",
              " '/stocks/automotive-axles-ATOA',\n",
              " '/stocks/automotive-stampings-and-assemblies-ASAS',\n",
              " '/stocks/autoriders-international-AUTOI',\n",
              " '/stocks/autumn-builders-AUT',\n",
              " '/stocks/avadh-sugar-and-energy-AVAD',\n",
              " '/stocks/available-finance-AVAI',\n",
              " '/stocks/avantel-AVA',\n",
              " '/stocks/avanti-feeds-AVNT',\n",
              " '/stocks/avenue-supermarts-AVEU',\n",
              " '/stocks/aviva-industries-AVIV',\n",
              " '/stocks/avonmore-capital-and-management-services-AVON',\n",
              " '/stocks/avro-india-AVRI',\n",
              " '/stocks/axel-polymers-AXE',\n",
              " '/etfs/axis-aaa-bond-plus-sdl-etf-2026-matur-reg-growth-AXISB',\n",
              " '/stocks/axis-bank-AXBK',\n",
              " '/etfs/axis-banking-etf-AXIS',\n",
              " '/etfs/axis-consumption-etf-AXISC',\n",
              " '/etfs/axis-gold-etf-AXGF',\n",
              " '/etfs/axis-healthcare-etf-AXISH',\n",
              " '/etfs/axis-nifty-50-etf-AISN',\n",
              " '/etfs/axis-technology-etf-regular-growth-AXIST',\n",
              " '/stocks/axiscades-technologies-AXIT',\n",
              " '/stocks/axita-cotton-AXI',\n",
              " '/stocks/axtel-industries-AXT',\n",
              " '/stocks/aym-syntex-AYMS',\n",
              " '/stocks/ayoki-merchantile-AYO',\n",
              " '/screener/equity',\n",
              " '/screener/mutual-fund',\n",
              " '/market-mood-index',\n",
              " '/stockdeals',\n",
              " 'http://www.tickertape.in/learn/',\n",
              " 'https://www.tickertape.in/blog/',\n",
              " '/pricing',\n",
              " '/meta/cancellation',\n",
              " '/meta/terms',\n",
              " '/meta/privacy',\n",
              " '/meta/disclaimer',\n",
              " '/meta/about',\n",
              " 'http://help.tickertape.in/',\n",
              " '/meta/about#contact']"
            ]
          },
          "metadata": {},
          "execution_count": 42
        }
      ]
    },
    {
      "cell_type": "code",
      "source": [
        "stocksList = list(map(lambda x: x.split('/')[2], filter(lambda x: True if \"stocks\" in x else False, fullList)))\n",
        "stocksList"
      ],
      "metadata": {
        "colab": {
          "base_uri": "https://localhost:8080/"
        },
        "id": "xznU5MmHkAM2",
        "outputId": "c748b70f-5cf0-4c36-e570-561055d73028"
      },
      "execution_count": 43,
      "outputs": [
        {
          "output_type": "execute_result",
          "data": {
            "text/plain": [
              "['ab-cotspin-india-ABCO',\n",
              " 'a-b-infrabuild-ABIN',\n",
              " 'a-f-enterprises-AFE',\n",
              " 'a-infrastructure-AIN',\n",
              " 'akcapital-services-AKC',\n",
              " 'a-and-m-jumbo-bags-AMJU',\n",
              " 'a-1-acid-AAL',\n",
              " 'a2z-infra-engineering-A2ZI',\n",
              " 'aa-plus-tradelink-AAP',\n",
              " 'aaa-technologies-AAA',\n",
              " 'aar-commercial-company-AARC',\n",
              " 'aar-shyam-india-investment-company-AARS',\n",
              " 'aarv-infratel-AARV',\n",
              " 'abb-india-ABB',\n",
              " 'abc-india-ABC',\n",
              " 'abm-knowledgeware-ABM',\n",
              " 'acc-ACC',\n",
              " 'ace-software-exports-ACES',\n",
              " 'aci-infocom-ACII',\n",
              " 'ad-manum-finance-ADM',\n",
              " 'adc-india-communications-KRO',\n",
              " 'adf-foods-AMRN',\n",
              " 'agi-infra-AGI',\n",
              " 'ags-transact-technologies-AGS',\n",
              " 'aia-engineering-AIAE',\n",
              " 'gammon-infrastructure-projects-GAIN',\n",
              " 'a-k-spintex-AKSP',\n",
              " 'akg-exim-AKGE',\n",
              " 'aki-india-AKI',\n",
              " 'akm-lace-and-embrotex-AKM',\n",
              " 'amd-industries-AMDM',\n",
              " 'amj-land-holdings-AMJL',\n",
              " 'ams-polymers-AMM',\n",
              " 'ang-industries-ANGI',\n",
              " 'ang-lifesciences-india-ANA',\n",
              " 'ani-integrated-services-ANII',\n",
              " 'ans-industries-ANS',\n",
              " 'apl-apollo-tubes-APLA',\n",
              " 'apm-finvest-APM',\n",
              " 'apm-industries-APMI',\n",
              " 'a-r-c-finance-ARC',\n",
              " 'arss-infrastructure-projects-ARSS',\n",
              " 'asi-industries-ASO',\n",
              " 'asl-industries-ASLI',\n",
              " 'asm-technologies-ASM',\n",
              " 'atn-international-ASGM',\n",
              " 'atv-projects-india-ATVP',\n",
              " 'au-small-finance-bank-AUFI',\n",
              " 'avg-logistics-AVGL',\n",
              " 'avi-polymers-AVI',\n",
              " 'avi-products-india-APIL',\n",
              " 'avsl-industries-AVSL',\n",
              " 'avt-natural-products-AVTN',\n",
              " 'aadi-industries-AADI',\n",
              " 'aakash-exploration-services-AAKA',\n",
              " 'aananda-lakshmi-spinning-mills-AANA',\n",
              " 'aanchal-ispat-AAN',\n",
              " 'aarcon-facilities-RBG',\n",
              " 'aarey-drugs-and-pharmaceuticals-AREY',\n",
              " 'aarnav-fashions-AARNA',\n",
              " 'aaron-industries-AARN',\n",
              " 'aartech-solonics-AAR',\n",
              " 'aarti-drugs-ADRG',\n",
              " 'aarti-industries-ARTI',\n",
              " 'aarti-surfactants-AARU',\n",
              " 'aarvee-denims-and-exports-AADM',\n",
              " 'aarvi-encon-AARI',\n",
              " 'aashka-hospitals-AAS',\n",
              " 'upasana-finance-UPA',\n",
              " 'aaswa-trading-and-exports-ASW',\n",
              " 'aavas-financiers-AVAS',\n",
              " 'aayush-food-and-herbs-AAY',\n",
              " 'aban-offshore-ABAN',\n",
              " 'abans-enterprises-ABA',\n",
              " 'abbott-india-ABOT',\n",
              " 'abhinav-capital-services-ABHIC',\n",
              " 'abhinav-leasing-and-finance-ALF',\n",
              " 'abhishek-finlease-ABHIF',\n",
              " 'abhishek-infraventures-ABHI',\n",
              " 'abhishek-integrations-AIL',\n",
              " 'abirami-financial-services-india-ABI',\n",
              " 'abm-international-ABMN',\n",
              " 'ecom-infotech-india-ECO',\n",
              " 'accel-ACCE',\n",
              " 'accelya-solutions-india-ACCY',\n",
              " 'accord-synergy-ACCO',\n",
              " 'accuracy-shipping-ACCU',\n",
              " 'ace-integrated-solutions-ACEN',\n",
              " 'ace-men-engg-works-ACE',\n",
              " 'acewin-agriteck-ACEW',\n",
              " 'achyut-healthcare-ACHY',\n",
              " 'acknit-industries-ACK',\n",
              " 'acme-resources-ACME',\n",
              " 'acrow-india-ACRO',\n",
              " 'acrysil-ACR',\n",
              " 'action-construction-equipment-ACEL',\n",
              " 'active-clothing-co-ACT',\n",
              " 'adani-enterprises-ADEL',\n",
              " 'adani-green-energy-ADNA',\n",
              " 'adani-ports-and-special-economic-zone-APSE',\n",
              " 'adani-power-ADAN',\n",
              " 'adani-gas-ADAG',\n",
              " 'adani-transmission-ADAI',\n",
              " 'adani-wilmar-AWL',\n",
              " 'adarsh-mercantile-ADA',\n",
              " 'adarsh-plant-protect-ADAR',\n",
              " 'adcon-capital-services-ADC',\n",
              " 'add-shop-e-retail-ASR',\n",
              " 'addi-industries-ADD',\n",
              " 'adeshwar-meditex-ADE',\n",
              " 'adharshila-capital-services-ADHA',\n",
              " 'adinath-exim-resources-ADIE',\n",
              " 'adinath-textiles-ADIN',\n",
              " 'adishakti-loha-and-ispat-ADISH',\n",
              " 'aditya-birla-capital-ADTB',\n",
              " 'aditya-birla-fashion-and-retail-ADIA',\n",
              " 'aditya-birla-money-ABML',\n",
              " 'aditya-birla-sun-life-amc-ABS',\n",
              " 'aditya-consumer-marketing-ACM',\n",
              " 'aditya-ispat-ADITY',\n",
              " 'aditya-spinners-ADIT',\n",
              " 'aditya-vision-AVL',\n",
              " 'adjia-technologies-ADJ',\n",
              " 'kamron-laboratories-KAMR',\n",
              " 'ador-fontech-ADO',\n",
              " 'ador-multi-products-ADORM',\n",
              " 'ador-welding-ADOR',\n",
              " 'adroit-infotech-AROI',\n",
              " 'advait-infratech-ADVA',\n",
              " 'advance-lifestyles-ADVL',\n",
              " 'advance-metering-technology-AMTL',\n",
              " 'advance-petrochemicals-ADVPE',\n",
              " 'advance-syntex-ASY',\n",
              " 'advanced-enzyme-technologies-ADEN',\n",
              " 'advani-hotels-and-resorts-india-ADHO',\n",
              " 'advik-capital-ADVI',\n",
              " 'aegis-logistics-AEGS',\n",
              " 'affle-india-AFFL',\n",
              " 'affordable-robotic-and-automation-AFF',\n",
              " 'agarwal-industrial-corporation-AGWL',\n",
              " 'agio-paper-and-industries-AGIO',\n",
              " 'agri-tech-india-AGTL',\n",
              " 'agrimony-commodities-AGR',\n",
              " 'agro-phos-india-AGRP',\n",
              " 'agro-tech-foods-AGRO',\n",
              " 'ahimsa-industries-AHIN',\n",
              " 'ahlada-engineers-AHLA',\n",
              " 'ahluwalia-contracts-india-AHLU',\n",
              " 'ahmedabad-steelcraft-AHM',\n",
              " 'ai-champdany-industries-AICI',\n",
              " 'aimco-pesticides-AIMC',\n",
              " 'airan-AIRA',\n",
              " 'airolam-AIRO',\n",
              " 'aishwarya-technologies-and-telecom-AIS',\n",
              " 'ajanta-pharma-AJPH',\n",
              " 'ajanta-soya-AJA',\n",
              " 'ajcon-global-services-AJC',\n",
              " 'ajel-AJE',\n",
              " 'ajmera-realty-and-infra-india-AJME',\n",
              " 'ajooni-biotech-AJOO',\n",
              " 'ajwa-fun-world-and-resort-AJW',\n",
              " 'akar-auto-industries-AAI',\n",
              " 'akash-infra-projects-AKAS',\n",
              " 'akashdeep-metal-industries-AKA',\n",
              " 'aksh-optifibre-AKSO',\n",
              " 'akshar-spintex-AKS',\n",
              " 'aksharchem-india-AKSH',\n",
              " 'akzo-nobel-india-AKZO',\n",
              " 'alacrity-securities-ALSA',\n",
              " 'alan-scott-industries-ALAN',\n",
              " 'alankit-ALAK',\n",
              " 'albert-david-ALBD',\n",
              " 'alchemist-corporation-ALC',\n",
              " 'alchemist-ALCL',\n",
              " 'alembic-ALMC',\n",
              " 'alembic-pharmaceuticals-ALEM',\n",
              " 'alexander-stamps-and-coin-ALE',\n",
              " 'alfa-ica-india-ALFAI',\n",
              " 'alfa-transformers-ALFAT',\n",
              " 'alfavision-overseas-ALFA',\n",
              " 'alfred-herbert-india-ALFR',\n",
              " 'hindustan-everest-tools-HINDE',\n",
              " 'alicon-castalloy-ALIO',\n",
              " 'alkali-metals-ALML',\n",
              " 'alkem-laboratories-ALKE',\n",
              " 'alkosign-ALKO',\n",
              " 'alkyl-amines-chemicals-ALKY',\n",
              " 'allcargo-logistics-ACLL',\n",
              " 'alliance-integrated-metaliks-AIM',\n",
              " 'allied-digital-services-ADIS',\n",
              " 'allsec-technologies-ALLS',\n",
              " 'almondz-global-securities-ALSL',\n",
              " 'alna-trading-and-exports-ALN',\n",
              " 'alok-industries-ALOK',\n",
              " 'alpa-laboratories-ALPA',\n",
              " 'alphageo-india-ALPI',\n",
              " 'alphalogic-techsys-ALP',\n",
              " 'alpine-housing-development-corporation-ALPIN',\n",
              " 'alps-industries-ALPS',\n",
              " 'alstone-textiles-india-ALS',\n",
              " 'alufluoride-ALU',\n",
              " 'amal-AMAA',\n",
              " 'amalgamated-electricity-company-AMAL',\n",
              " 'amara-raja-batteries-AMAR',\n",
              " 'amarjothi-spinning-mills-AMARJ',\n",
              " 'amarnath-securities-AMARS',\n",
              " 'amba-enterprises-AEL',\n",
              " 'ambalal-sarabhai-enterprises-AMBAS',\n",
              " 'ambani-organics-AMBN',\n",
              " 'ambar-protein-industries-AMBA',\n",
              " 'ambassador-intra-holdings-AIH',\n",
              " 'amber-enterprises-india-AMBE',\n",
              " 'ambica-agarbathies-aroma-and-industries-AAAI',\n",
              " 'ambika-cotton-mills-AMBK',\n",
              " 'ambition-mica-AMB',\n",
              " 'ambuja-cements-ABUJ',\n",
              " 'amco-india-AMC',\n",
              " 'amradeep-industries-AMARD',\n",
              " 'amforge-industries-AMFO',\n",
              " 'ami-organics-AMIO',\n",
              " 'amin-tannery-AMI',\n",
              " 'amines-and-plasticizers-AMN',\n",
              " 'amit-international-AMIT',\n",
              " 'amrapali-capital-and-finance-services-ACF',\n",
              " 'amrapali-fincap-AMR',\n",
              " 'amrapali-industries-AMRAP',\n",
              " 'amraworld-agrico-AMRA',\n",
              " 'amrit-corp-AMRI',\n",
              " 'amrutanjan-health-care-AJAN',\n",
              " 'anand-projects-ANAN',\n",
              " 'anand-rathi-wealth-ANAND',\n",
              " 'anand-rayons-ARL',\n",
              " 'anant-raj-ANRA',\n",
              " 'andhra-cements-ANDC',\n",
              " 'andhra-paper-ANDA',\n",
              " 'andhra-petrochemicals-AND',\n",
              " 'andhra-sugars-ANDS',\n",
              " 'andrew-yule-and-company-ANDR',\n",
              " 'aneri-fincap-ANE',\n",
              " 'angel-fibers-ANG',\n",
              " 'angel-broking-ANGE',\n",
              " 'anik-industries-ANIK',\n",
              " 'anjani-finance-ANJ',\n",
              " 'anjani-foods-ANJA',\n",
              " 'anjani-portland-cement-ANCM',\n",
              " 'anjani-synthetics-ANJAN',\n",
              " 'anka-india-ANK',\n",
              " 'ankit-metal-and-power-AMPL',\n",
              " 'anmol-india-ANM',\n",
              " 'anna-infrastructures-ANN',\n",
              " 'ansal-buildwell-ANSA',\n",
              " 'ansal-housing-ANSL',\n",
              " 'ansal-properties-and-infrastructure-ANSP',\n",
              " 'anshuni-commercials-ANSH',\n",
              " 'antarctica-ANTC',\n",
              " 'antariksh-industries-ANT',\n",
              " 'antony-waste-handling-cell-AWH',\n",
              " 'anuh-pharma-ANUH',\n",
              " 'anup-engineering-ANUE',\n",
              " 'anupam-finserv-ANUPA',\n",
              " 'anupam-rasayan-india-ANUR',\n",
              " 'anuroop-packaging-ANU',\n",
              " 'apar-industries-APAR',\n",
              " 'apcotex-industries-APCI',\n",
              " 'apex-capital-and-finance-ACFL',\n",
              " 'apex-frozen-foods-APEX',\n",
              " 'apis-india-API',\n",
              " 'aplab-APLAB',\n",
              " 'apollo-finvest-india-APOLL',\n",
              " 'apollo-hospitals-enterprise-APLH',\n",
              " 'apollo-micro-systems-APLL',\n",
              " 'apollo-pipes-AOLL',\n",
              " 'apollo-sindoori-hotels-APOS',\n",
              " 'apollo-tricoat-tubes-APOL',\n",
              " 'apollo-tyres-APLO',\n",
              " 'apoorva-leasing-finance-and-investment-co-APO',\n",
              " 'aptech-APTA',\n",
              " 'aptus-value-housing-finance-india-APTU',\n",
              " 'aravali-securities-and-finance-ARAV',\n",
              " 'arcee-industries-ARCE',\n",
              " 'archidply-decor-ADL',\n",
              " 'archidply-industries-ARCY',\n",
              " 'archies-ARGG',\n",
              " 'archit-organosys-ARCH',\n",
              " 'arcotech-ARCO',\n",
              " 'arex-industries-AREX',\n",
              " 'arfin-india-ARF',\n",
              " 'aries-agro-ARAI',\n",
              " 'arihant-capital-markets-ARIH',\n",
              " 'arihant-foundations-and-housing-ARFL',\n",
              " 'arihant-superstructures-ARIS',\n",
              " 'arihant-tournesol-ARH',\n",
              " 'arihants-securities-ARISE',\n",
              " 'aris-international-ARISI',\n",
              " 'arman-financial-services-ARLF',\n",
              " 'arman-holdings-ARM',\n",
              " 'arnold-holdings-ARN',\n",
              " 'aro-granite-industries-AROG',\n",
              " 'aroma-enterprises-india-ARO',\n",
              " 'arrow-greentech-ARRO',\n",
              " 'arshiya-ARSH',\n",
              " 'art-nirman-ARTN',\n",
              " 'artedz-fabs-ARTD',\n",
              " 'artefact-projects-ARTE',\n",
              " 'artemis-electricals-ART',\n",
              " 'artemis-medicare-services-ATEM',\n",
              " 'artson-engineering-ARTS',\n",
              " 'aruna-hotels-ARU',\n",
              " 'm-b-parikh-finstock-MBP',\n",
              " 'arunjyoti-bio-ventures-ABV',\n",
              " 'arvee-laboratories-india-ARVE',\n",
              " 'arvind-fashions-ARVF',\n",
              " 'arvind-fashions-partly-paidup-AFL',\n",
              " 'arvind-ARVN',\n",
              " 'arvind-smartspaces-ARVD',\n",
              " 'aryaman-capital-markets-ARYA',\n",
              " 'aryaman-financial-services-ARYAM',\n",
              " 'aryan-share-and-stock-brokers-ARY',\n",
              " 'aryavan-enterprise-ARYAV',\n",
              " 'asahi-india-glass-AISG',\n",
              " 'asahi-industries-ASA',\n",
              " 'asahi-songwon-colors-lucky-laminates-ASSC',\n",
              " 'ascensive-educare-ASC',\n",
              " 'ascom-leasing-and-investments-ASCM',\n",
              " 'ashapura-minechem-ASHM',\n",
              " 'ashapuri-gold-ornament-AGO',\n",
              " 'ashiana-agro-industries-ASHAI',\n",
              " 'ashiana-housing-AHFN',\n",
              " 'ashiana-ispat-ASHIA',\n",
              " 'ashika-credit-capital-ASHI',\n",
              " 'ashima-ASHL',\n",
              " 'ashirwad-capital-ASHC',\n",
              " 'ashirwad-steels-and-industries-ASHS',\n",
              " 'ashish-polyplast-ASHIS',\n",
              " 'ashnisha-industries-ASH',\n",
              " 'ashnoor-textile-mills-ASHN',\n",
              " 'ashok-alco-chem-ASHOK',\n",
              " 'ashok-leyland-ASOK',\n",
              " 'ashoka-buildcon-ABDL',\n",
              " 'ashoka-metcast-AML',\n",
              " 'ashoka-refineries-ASHO',\n",
              " 'ashram-onlinecom-TATIA',\n",
              " 'asia-capital-ASI',\n",
              " 'asia-pack-ASIA',\n",
              " 'asian-oilfield-services-ASIAO',\n",
              " 'asian-granito-india-ASGI',\n",
              " 'asian-hotels-north-ASHT',\n",
              " 'asian-hotels-west-ASHW',\n",
              " 'asian-hotels-east-ASHE',\n",
              " 'asian-paints-ASPN',\n",
              " 'asian-petroproducts-and-exports-ASIN',\n",
              " 'asian-star-company-AST',\n",
              " 'asian-tea-and-exports-ASIAT',\n",
              " 'asit-c-mehta-financial-services-ASIT',\n",
              " 'aspinwall-and-co-ASPI',\n",
              " 'aspira-pathlab-and-diagnostics-ASP',\n",
              " 'assam-entrade-ASS',\n",
              " 'associated-alcohols-and-breweries-ASAL',\n",
              " 'astec-lifesciences-ASTE',\n",
              " 'aster-dm-healthcare-ATRD',\n",
              " 'astra-micro-wave-products-ASTM',\n",
              " 'astral-poly-technik-ASPT',\n",
              " 'astrazeneca-pharma-india-ASTR',\n",
              " 'astron-paper-and-board-mill-ASTO',\n",
              " 'asutosh-enterprises-ASU',\n",
              " 'atal-realtech-ATAL',\n",
              " 'atam-valves-ATA',\n",
              " 'atharv-enterprises-ATHA',\n",
              " 'athena-constructions-ATH',\n",
              " 'athena-global-technologies-ATHE',\n",
              " 'atishay-ATI',\n",
              " 'atlanta-ATLT',\n",
              " 'atlas-cycles-haryana-ATCY',\n",
              " 'atlas-jewellery-india-AJI',\n",
              " 'atul-auto-ATUL',\n",
              " 'atul-ATLP',\n",
              " 'aurangabad-distillery-AURA',\n",
              " 'aurionpro-solutions-APSL',\n",
              " 'auro-laboratories-AURO',\n",
              " 'aurobindo-pharma-ARBN',\n",
              " 'majesco-MAJC',\n",
              " 'ausom-enterprise-AUSM',\n",
              " 'austin-engineering-company-AUS',\n",
              " 'authum-investment-and-infrastructure-AII',\n",
              " 'auto-pins-india-AUTO',\n",
              " 'autoline-industries-AUIN',\n",
              " 'autolite-india-AUTL',\n",
              " 'automobile-corporation-of-goa-AUTOC',\n",
              " 'automotive-axles-ATOA',\n",
              " 'automotive-stampings-and-assemblies-ASAS',\n",
              " 'autoriders-international-AUTOI',\n",
              " 'autumn-builders-AUT',\n",
              " 'avadh-sugar-and-energy-AVAD',\n",
              " 'available-finance-AVAI',\n",
              " 'avantel-AVA',\n",
              " 'avanti-feeds-AVNT',\n",
              " 'avenue-supermarts-AVEU',\n",
              " 'aviva-industries-AVIV',\n",
              " 'avonmore-capital-and-management-services-AVON',\n",
              " 'avro-india-AVRI',\n",
              " 'axel-polymers-AXE',\n",
              " 'axis-bank-AXBK',\n",
              " 'axiscades-technologies-AXIT',\n",
              " 'axita-cotton-AXI',\n",
              " 'axtel-industries-AXT',\n",
              " 'aym-syntex-AYMS',\n",
              " 'ayoki-merchantile-AYO']"
            ]
          },
          "metadata": {},
          "execution_count": 43
        }
      ]
    },
    {
      "cell_type": "code",
      "source": [
        "etfsList = list(map(lambda x: x.split('/')[2], filter(lambda x: True if \"etfs\" in x else False, fullList)))\n",
        "etfsList"
      ],
      "metadata": {
        "colab": {
          "base_uri": "https://localhost:8080/"
        },
        "id": "LmUJL9sQp6Hg",
        "outputId": "fa2de316-f255-4e53-eef8-c8537333bb0c"
      },
      "execution_count": 44,
      "outputs": [
        {
          "output_type": "execute_result",
          "data": {
            "text/plain": [
              "['aditya-bsl-gold-etf-AITY',\n",
              " 'aditya-bsl-nifty-50-etf-ADIY',\n",
              " 'aditya-bsl-sensex-30-etf-BSL',\n",
              " 'aditya-birla-sun-life-nifty-healthcare-etf-HEALT',\n",
              " 'aditya-birla-sun-life-nifty-bank-etf-ADIL',\n",
              " 'aditya-birla-sun-life-nifty-it-etf-TECT',\n",
              " 'aditya-birla-sun-life-nifty-next-50-etf-ADIB',\n",
              " 'aditya-birla-sun-life-silver-etf-SILVR',\n",
              " 'axis-aaa-bond-plus-sdl-etf-2026-matur-reg-growth-AXISB',\n",
              " 'axis-banking-etf-AXIS',\n",
              " 'axis-consumption-etf-AXISC',\n",
              " 'axis-gold-etf-AXGF',\n",
              " 'axis-healthcare-etf-AXISH',\n",
              " 'axis-nifty-50-etf-AISN',\n",
              " 'axis-technology-etf-regular-growth-AXIST']"
            ]
          },
          "metadata": {},
          "execution_count": 44
        }
      ]
    },
    {
      "cell_type": "code",
      "source": [
        ""
      ],
      "metadata": {
        "id": "37f4vyMTqDvZ"
      },
      "execution_count": null,
      "outputs": []
    },
    {
      "cell_type": "markdown",
      "source": [
        "## Let us try and extract data (from all the pages)"
      ],
      "metadata": {
        "id": "S3qKyYSUuBFN"
      }
    },
    {
      "cell_type": "markdown",
      "source": [
        "Hit \"https://www.tickertape.in/stocks?filter={filter}\" with filter = \"Top\", \"A\"-\"Z\" and \"Others\""
      ],
      "metadata": {
        "id": "Pcn82_QzcLGq"
      }
    },
    {
      "cell_type": "code",
      "source": [
        "# declare the filter values for all the pages\n",
        "top = [\"top\"]\n",
        "a_z = list(\"abcdefghijklmnopqrstuvwxyz\")\n",
        "others = [\"others\"]"
      ],
      "metadata": {
        "id": "Xt7sHvpKcwQ5"
      },
      "execution_count": 45,
      "outputs": []
    },
    {
      "cell_type": "code",
      "source": [
        "# TODO"
      ],
      "metadata": {
        "id": "W4Z92OZJuGHt"
      },
      "execution_count": 46,
      "outputs": []
    },
    {
      "cell_type": "code",
      "source": [
        ""
      ],
      "metadata": {
        "id": "EiKv3TYMuHUt"
      },
      "execution_count": null,
      "outputs": []
    }
  ]
}