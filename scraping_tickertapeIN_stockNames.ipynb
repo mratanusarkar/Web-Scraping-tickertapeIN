{
  "nbformat": 4,
  "nbformat_minor": 0,
  "metadata": {
    "colab": {
      "name": "Web Scraping tickertapeIN - stock names.ipynb",
      "provenance": [],
      "authorship_tag": "ABX9TyN/3RInZIZm+j6z5TGDhtL4",
      "include_colab_link": true
    },
    "kernelspec": {
      "name": "python3",
      "display_name": "Python 3"
    },
    "language_info": {
      "name": "python"
    }
  },
  "cells": [
    {
      "cell_type": "markdown",
      "metadata": {
        "id": "view-in-github",
        "colab_type": "text"
      },
      "source": [
        "<a href=\"https://colab.research.google.com/github/mratanusarkar/Web-Scraping-tickertapeIN/blob/basic-scraper-colab/scraping_tickertapeIN_stockNames.ipynb\" target=\"_parent\"><img src=\"https://colab.research.google.com/assets/colab-badge.svg\" alt=\"Open In Colab\"/></a>"
      ]
    },
    {
      "cell_type": "markdown",
      "source": [
        "# Web Scraping all stock names from tickertape.in"
      ],
      "metadata": {
        "id": "jFWK4XraZsGc"
      }
    },
    {
      "cell_type": "markdown",
      "source": [
        "**Input**: None <br>\n",
        "**Output**: 2 list of strings containing \"Top\" stock names and \"All\" stock names on \"https://www.tickertape.in/stocks\""
      ],
      "metadata": {
        "id": "SjQw016pZ5bg"
      }
    },
    {
      "cell_type": "markdown",
      "source": [
        "## Import Packages"
      ],
      "metadata": {
        "id": "OcFpi1cFcDW0"
      }
    },
    {
      "cell_type": "code",
      "source": [
        "import numpy as np\n",
        "import pandas as pd\n",
        "import requests\n",
        "from bs4 import BeautifulSoup\n",
        "\n",
        "import time\n",
        "from datetime import timedelta"
      ],
      "metadata": {
        "id": "c0wD-RzybeO9"
      },
      "execution_count": 1,
      "outputs": []
    },
    {
      "cell_type": "markdown",
      "source": [
        "## Request and Fetch the Webpage (for one sample page)"
      ],
      "metadata": {
        "id": "igOJKmX7cIWj"
      }
    },
    {
      "cell_type": "code",
      "source": [
        "# hit \"https://www.tickertape.in/stocks?filter=<filter-value>\"\n",
        "requests.get(\"https://www.tickertape.in/stocks?filter=a\")"
      ],
      "metadata": {
        "colab": {
          "base_uri": "https://localhost:8080/"
        },
        "id": "uN6CTb4tcWTd",
        "outputId": "16187f1f-1f9f-4af4-d281-424a698d8ff2"
      },
      "execution_count": 2,
      "outputs": [
        {
          "output_type": "execute_result",
          "data": {
            "text/plain": [
              "<Response [200]>"
            ]
          },
          "metadata": {},
          "execution_count": 2
        }
      ]
    },
    {
      "cell_type": "code",
      "source": [
        "# wow! no restriction for bots! no need of any headers!\n",
        "response = requests.get(\"https://www.tickertape.in/stocks?filter=a\")\n",
        "response.text[0:500]"
      ],
      "metadata": {
        "colab": {
          "base_uri": "https://localhost:8080/",
          "height": 70
        },
        "id": "O-3k6Ngicr2N",
        "outputId": "572b1290-6305-4fc5-b6bd-1b6eaa985bd7"
      },
      "execution_count": 3,
      "outputs": [
        {
          "output_type": "execute_result",
          "data": {
            "text/plain": [
              "'<!DOCTYPE html><html lang=\"en-US\"><head><meta http-equiv=\"X-UA-Compatible\" content=\"IE=edge\"/><link rel=\"shortcut icon\" href=\"/favicon/favicon.png\"/><link rel=\"apple-touch-icon\" href=\"/favicon/favicon-192x192.png\"/><link rel=\"manifest\" href=\"/manifest/manifest.json\"/><style type=\"text/css\">:root {--white: #ffffff; --font_primary: #535B62; --font_dark: #2f363f; --font_light: #81878c; --font_blue: #0088ea; --font_lighter: #a2a8ae; --brand_primary: #151e28; --brand_success: #28c39a; --brand_danger:'"
            ],
            "application/vnd.google.colaboratory.intrinsic+json": {
              "type": "string"
            }
          },
          "metadata": {},
          "execution_count": 3
        }
      ]
    },
    {
      "cell_type": "code",
      "source": [
        "# not required for this webpage, use if bot restrictions are added in future.\n",
        "\n",
        "# google chrome browser's request header (to make it look like, we are making this request from a browser)\n",
        "header = {\n",
        "  \"User-Agent\": \"Mozilla/5.0 (Windows NT 10.0; Win64; x64) AppleWebKit/537.36 (KHTML, like Gecko) Chrome/80.0.3987.163 Safari/537.36\"\n",
        "}\n",
        "\n",
        "# hit using the header\n",
        "response = requests.get(\"https://www.tickertape.in/stocks?filter=a\", headers=header)\n",
        "response.text[0:500]"
      ],
      "metadata": {
        "colab": {
          "base_uri": "https://localhost:8080/",
          "height": 70
        },
        "id": "ZMW71O25c9Hl",
        "outputId": "223b172f-ddaa-428e-bed1-2ef3e3d892f6"
      },
      "execution_count": 4,
      "outputs": [
        {
          "output_type": "execute_result",
          "data": {
            "text/plain": [
              "'<!DOCTYPE html><html lang=\"en-US\"><head><meta http-equiv=\"X-UA-Compatible\" content=\"IE=edge\"/><link rel=\"shortcut icon\" href=\"/favicon/favicon.png\"/><link rel=\"apple-touch-icon\" href=\"/favicon/favicon-192x192.png\"/><link rel=\"manifest\" href=\"/manifest/manifest.json\"/><style type=\"text/css\">:root {--white: #ffffff; --font_primary: #535B62; --font_dark: #2f363f; --font_light: #81878c; --font_blue: #0088ea; --font_lighter: #a2a8ae; --brand_primary: #151e28; --brand_success: #28c39a; --brand_danger:'"
            ],
            "application/vnd.google.colaboratory.intrinsic+json": {
              "type": "string"
            }
          },
          "metadata": {},
          "execution_count": 4
        }
      ]
    },
    {
      "cell_type": "markdown",
      "source": [
        "## Pass the fetched webpage response to Beautiful Soup"
      ],
      "metadata": {
        "id": "XJNdAiOReo2n"
      }
    },
    {
      "cell_type": "code",
      "source": [
        "# give the webpage to Beautiful Soup using parsers: \"html.parser\" or \"lxml\"\n",
        "soup = BeautifulSoup(response.text, 'lxml')"
      ],
      "metadata": {
        "id": "RA-dseaKd1GS"
      },
      "execution_count": 5,
      "outputs": []
    },
    {
      "cell_type": "markdown",
      "source": [
        "## Let us try and extract data (from one sample page)"
      ],
      "metadata": {
        "id": "ZKYRke2Ilhrt"
      }
    },
    {
      "cell_type": "markdown",
      "source": [
        "- extract one company name in the page\n",
        "- extract all company name in the page"
      ],
      "metadata": {
        "id": "8pCfA5bWjJRE"
      }
    },
    {
      "cell_type": "markdown",
      "source": [
        "### Extracting one company name"
      ],
      "metadata": {
        "id": "IqCNbmt8l3Ec"
      }
    },
    {
      "cell_type": "code",
      "source": [
        "# company name\n",
        "htmlBlock = soup.find(\"li\")\n",
        "print(htmlBlock)"
      ],
      "metadata": {
        "colab": {
          "base_uri": "https://localhost:8080/"
        },
        "id": "2zTscJQSd1In",
        "outputId": "8eceb548-4253-42d8-ce48-3ffc5b7d702b"
      },
      "execution_count": 6,
      "outputs": [
        {
          "output_type": "stream",
          "name": "stdout",
          "text": [
            "<li class=\"jsx-1528870203\"><a class=\"jsx-1528870203\" href=\"/stocks/ab-cotspin-india-ABCO\">A B Cotspin India Ltd</a></li>\n"
          ]
        }
      ]
    },
    {
      "cell_type": "code",
      "source": [
        "htmlBlock.a['href'].split('/')[2]"
      ],
      "metadata": {
        "colab": {
          "base_uri": "https://localhost:8080/",
          "height": 35
        },
        "id": "bSlioJ9SZzuT",
        "outputId": "24aed778-9f87-4d62-d215-bb76424eb9ad"
      },
      "execution_count": 7,
      "outputs": [
        {
          "output_type": "execute_result",
          "data": {
            "text/plain": [
              "'ab-cotspin-india-ABCO'"
            ],
            "application/vnd.google.colaboratory.intrinsic+json": {
              "type": "string"
            }
          },
          "metadata": {},
          "execution_count": 7
        }
      ]
    },
    {
      "cell_type": "code",
      "source": [
        "htmlBlock.a.text"
      ],
      "metadata": {
        "colab": {
          "base_uri": "https://localhost:8080/",
          "height": 35
        },
        "id": "ogWuUENpiNMD",
        "outputId": "5a689a1d-b6d7-41d8-ac57-d1ed508cdb0c"
      },
      "execution_count": 8,
      "outputs": [
        {
          "output_type": "execute_result",
          "data": {
            "text/plain": [
              "'A B Cotspin India Ltd'"
            ],
            "application/vnd.google.colaboratory.intrinsic+json": {
              "type": "string"
            }
          },
          "metadata": {},
          "execution_count": 8
        }
      ]
    },
    {
      "cell_type": "code",
      "source": [
        ""
      ],
      "metadata": {
        "id": "pd7cxn9siiGm"
      },
      "execution_count": 8,
      "outputs": []
    },
    {
      "cell_type": "markdown",
      "source": [
        "### Extracting all the company names"
      ],
      "metadata": {
        "id": "xQuKNj_vjAUc"
      }
    },
    {
      "cell_type": "code",
      "source": [
        "# find all li\n",
        "htmlBlock = soup.find_all(\"li\")\n",
        "# print(htmlBlock)"
      ],
      "metadata": {
        "id": "fG_2Jwx9jD8w"
      },
      "execution_count": 9,
      "outputs": []
    },
    {
      "cell_type": "code",
      "source": [
        "# let's see one of the li\n",
        "htmlBlock[0]"
      ],
      "metadata": {
        "colab": {
          "base_uri": "https://localhost:8080/"
        },
        "id": "iKLzlPeikk3R",
        "outputId": "a14c6da7-368b-45d2-dd3a-7377c1ebcbb0"
      },
      "execution_count": 10,
      "outputs": [
        {
          "output_type": "execute_result",
          "data": {
            "text/plain": [
              "<li class=\"jsx-1528870203\"><a class=\"jsx-1528870203\" href=\"/stocks/ab-cotspin-india-ABCO\">A B Cotspin India Ltd</a></li>"
            ]
          },
          "metadata": {},
          "execution_count": 10
        }
      ]
    },
    {
      "cell_type": "code",
      "source": [
        "# let's extract the company name\n",
        "htmlBlock[0].a.text"
      ],
      "metadata": {
        "colab": {
          "base_uri": "https://localhost:8080/",
          "height": 35
        },
        "id": "MREv_HziDQVD",
        "outputId": "31f8deac-6005-487b-876a-1458801212ad"
      },
      "execution_count": 11,
      "outputs": [
        {
          "output_type": "execute_result",
          "data": {
            "text/plain": [
              "'A B Cotspin India Ltd'"
            ],
            "application/vnd.google.colaboratory.intrinsic+json": {
              "type": "string"
            }
          },
          "metadata": {},
          "execution_count": 11
        }
      ]
    },
    {
      "cell_type": "code",
      "source": [
        "# let's extract the link or path to the url subdirectory\n",
        "htmlBlock[0].a['href'].split('/')[2]"
      ],
      "metadata": {
        "colab": {
          "base_uri": "https://localhost:8080/",
          "height": 35
        },
        "id": "SeCk6rkok1eZ",
        "outputId": "9e26b9fa-f040-49ec-8a0c-c58456be5550"
      },
      "execution_count": 12,
      "outputs": [
        {
          "output_type": "execute_result",
          "data": {
            "text/plain": [
              "'ab-cotspin-india-ABCO'"
            ],
            "application/vnd.google.colaboratory.intrinsic+json": {
              "type": "string"
            }
          },
          "metadata": {},
          "execution_count": 12
        }
      ]
    },
    {
      "cell_type": "code",
      "source": [
        "# let's apply the map to all the list of li\n",
        "fullList = list(map(lambda element: element.a['href'], htmlBlock))\n",
        "fullList[0:9]"
      ],
      "metadata": {
        "colab": {
          "base_uri": "https://localhost:8080/"
        },
        "id": "pb-7SN0PjJq9",
        "outputId": "f9812ba4-2c21-4d6a-8b44-9cb9f8143c57"
      },
      "execution_count": 13,
      "outputs": [
        {
          "output_type": "execute_result",
          "data": {
            "text/plain": [
              "['/stocks/ab-cotspin-india-ABCO',\n",
              " '/stocks/a-b-infrabuild-ABIN',\n",
              " '/stocks/a-f-enterprises-AFE',\n",
              " '/stocks/a-infrastructure-AIN',\n",
              " '/stocks/akcapital-services-AKC',\n",
              " '/stocks/a-and-m-jumbo-bags-AMJU',\n",
              " '/stocks/a-1-acid-AAL',\n",
              " '/stocks/a2z-infra-engineering-A2ZI',\n",
              " '/stocks/aa-plus-tradelink-AAP']"
            ]
          },
          "metadata": {},
          "execution_count": 13
        }
      ]
    },
    {
      "cell_type": "code",
      "source": [
        "# apply map & filter to pick the stock links only, as we found other links too in the list\n",
        "stocksList = list(map(lambda x: x.split('/')[2], filter(lambda x: True if \"stocks\" in x else False, fullList)))\n",
        "print(len(stocksList))\n",
        "stocksList[0:10]"
      ],
      "metadata": {
        "colab": {
          "base_uri": "https://localhost:8080/"
        },
        "id": "xznU5MmHkAM2",
        "outputId": "fd0a09bc-b063-4085-fb09-d1430fe07102"
      },
      "execution_count": 14,
      "outputs": [
        {
          "output_type": "stream",
          "name": "stdout",
          "text": [
            "407\n"
          ]
        },
        {
          "output_type": "execute_result",
          "data": {
            "text/plain": [
              "['ab-cotspin-india-ABCO',\n",
              " 'a-b-infrabuild-ABIN',\n",
              " 'a-f-enterprises-AFE',\n",
              " 'a-infrastructure-AIN',\n",
              " 'akcapital-services-AKC',\n",
              " 'a-and-m-jumbo-bags-AMJU',\n",
              " 'a-1-acid-AAL',\n",
              " 'a2z-infra-engineering-A2ZI',\n",
              " 'aa-plus-tradelink-AAP',\n",
              " 'aaa-technologies-AAA']"
            ]
          },
          "metadata": {},
          "execution_count": 14
        }
      ]
    },
    {
      "cell_type": "code",
      "source": [
        "# similarty, apply map & filter to pick the etfs only\n",
        "etfsList = list(map(lambda x: x.split('/')[2], filter(lambda x: True if \"etfs\" in x else False, fullList)))\n",
        "print(len(etfsList))\n",
        "etfsList[0:10]"
      ],
      "metadata": {
        "colab": {
          "base_uri": "https://localhost:8080/"
        },
        "id": "LmUJL9sQp6Hg",
        "outputId": "cb9d68c2-06ee-4118-cd0e-1675263785b8"
      },
      "execution_count": 15,
      "outputs": [
        {
          "output_type": "stream",
          "name": "stdout",
          "text": [
            "15\n"
          ]
        },
        {
          "output_type": "execute_result",
          "data": {
            "text/plain": [
              "['aditya-bsl-gold-etf-AITY',\n",
              " 'aditya-bsl-nifty-50-etf-ADIY',\n",
              " 'aditya-bsl-sensex-30-etf-BSL',\n",
              " 'aditya-birla-sun-life-nifty-healthcare-etf-HEALT',\n",
              " 'aditya-birla-sun-life-nifty-bank-etf-ADIL',\n",
              " 'aditya-birla-sun-life-nifty-it-etf-TECT',\n",
              " 'aditya-birla-sun-life-nifty-next-50-etf-ADIB',\n",
              " 'aditya-birla-sun-life-silver-etf-SILVR',\n",
              " 'axis-aaa-bond-plus-sdl-etf-2026-matur-reg-growth-AXISB',\n",
              " 'axis-banking-etf-AXIS']"
            ]
          },
          "metadata": {},
          "execution_count": 15
        }
      ]
    },
    {
      "cell_type": "code",
      "source": [
        "# combining to get full list of all the stocks and etfs\n",
        "list(filter(lambda x: True if \"etfs\" in x or \"stocks\" in x else False, fullList))[0:10]"
      ],
      "metadata": {
        "id": "37f4vyMTqDvZ",
        "colab": {
          "base_uri": "https://localhost:8080/"
        },
        "outputId": "0dcf18d2-1abf-40cb-e184-def2b8b2e696"
      },
      "execution_count": 16,
      "outputs": [
        {
          "output_type": "execute_result",
          "data": {
            "text/plain": [
              "['/stocks/ab-cotspin-india-ABCO',\n",
              " '/stocks/a-b-infrabuild-ABIN',\n",
              " '/stocks/a-f-enterprises-AFE',\n",
              " '/stocks/a-infrastructure-AIN',\n",
              " '/stocks/akcapital-services-AKC',\n",
              " '/stocks/a-and-m-jumbo-bags-AMJU',\n",
              " '/stocks/a-1-acid-AAL',\n",
              " '/stocks/a2z-infra-engineering-A2ZI',\n",
              " '/stocks/aa-plus-tradelink-AAP',\n",
              " '/stocks/aaa-technologies-AAA']"
            ]
          },
          "metadata": {},
          "execution_count": 16
        }
      ]
    },
    {
      "cell_type": "code",
      "source": [
        "# let's come up with another map & filter, to form a full json/dictionary list with type, instead of two separate lists of stocks & etfs\n",
        "filteredHtmlBlock = list(filter(lambda x: True if \"etfs\" in x.a['href'] or \"stocks\" in x.a['href'] else False, htmlBlock))\n",
        "# filteredHtmlBlock[0:10]"
      ],
      "metadata": {
        "id": "i_tgI14AFDRD"
      },
      "execution_count": 17,
      "outputs": []
    },
    {
      "cell_type": "code",
      "source": [
        "# and... done!\n",
        "data = list(map(lambda x: {\"name\": x.a.text, \"type\": x.a['href'].split('/')[1], \"subdirectory\": x.a['href'].split('/')[2]}, filteredHtmlBlock))\n",
        "print(len(data))\n",
        "data[0:5]"
      ],
      "metadata": {
        "colab": {
          "base_uri": "https://localhost:8080/"
        },
        "id": "xeEApaA4EQXG",
        "outputId": "ccaf82ff-c5fc-4fa7-ca81-3a012498e0f6"
      },
      "execution_count": 18,
      "outputs": [
        {
          "output_type": "stream",
          "name": "stdout",
          "text": [
            "422\n"
          ]
        },
        {
          "output_type": "execute_result",
          "data": {
            "text/plain": [
              "[{'name': 'A B Cotspin India Ltd',\n",
              "  'subdirectory': 'ab-cotspin-india-ABCO',\n",
              "  'type': 'stocks'},\n",
              " {'name': 'A B Infrabuild Ltd',\n",
              "  'subdirectory': 'a-b-infrabuild-ABIN',\n",
              "  'type': 'stocks'},\n",
              " {'name': 'A F Enterprises Ltd',\n",
              "  'subdirectory': 'a-f-enterprises-AFE',\n",
              "  'type': 'stocks'},\n",
              " {'name': 'A Infrastructure Ltd',\n",
              "  'subdirectory': 'a-infrastructure-AIN',\n",
              "  'type': 'stocks'},\n",
              " {'name': 'A K Capital Services Ltd',\n",
              "  'subdirectory': 'akcapital-services-AKC',\n",
              "  'type': 'stocks'}]"
            ]
          },
          "metadata": {},
          "execution_count": 18
        }
      ]
    },
    {
      "cell_type": "markdown",
      "source": [
        "## Let us try and extract data (from all the pages)"
      ],
      "metadata": {
        "id": "S3qKyYSUuBFN"
      }
    },
    {
      "cell_type": "markdown",
      "source": [
        "Hit \"https://www.tickertape.in/stocks?filter={filter}\" with filter = \"Top\", \"A\"-\"Z\" and \"Others\""
      ],
      "metadata": {
        "id": "Pcn82_QzcLGq"
      }
    },
    {
      "cell_type": "code",
      "source": [
        "\"https://www.tickertape.in/stocks?filter=\"+\"a\""
      ],
      "metadata": {
        "colab": {
          "base_uri": "https://localhost:8080/",
          "height": 35
        },
        "id": "skiE61NtK6_c",
        "outputId": "c75eaf84-6d8d-495f-d86d-6f62a538bcb9"
      },
      "execution_count": 19,
      "outputs": [
        {
          "output_type": "execute_result",
          "data": {
            "text/plain": [
              "'https://www.tickertape.in/stocks?filter=a'"
            ],
            "application/vnd.google.colaboratory.intrinsic+json": {
              "type": "string"
            }
          },
          "metadata": {},
          "execution_count": 19
        }
      ]
    },
    {
      "cell_type": "code",
      "source": [
        "def getNames(url_filter):\n",
        "\n",
        "  # _header = None\n",
        "  # _response = None\n",
        "  # _soup = None\n",
        "  # _htmlBlock = None\n",
        "  # _filteredHtmlBlock = []\n",
        "  # _data = []\n",
        "\n",
        "  # try:\n",
        "    # hit the page and get html\n",
        "    _header = {\n",
        "      \"User-Agent\": \"Mozilla/5.0 (Windows NT 10.0; Win64; x64) AppleWebKit/537.36 (KHTML, like Gecko) Chrome/80.0.3987.163 Safari/537.36\"\n",
        "    }\n",
        "    _response = requests.get(\"https://www.tickertape.in/stocks?filter=\"+url_filter, headers=_header)\n",
        "\n",
        "    # give the webpage to Beautiful Soup using parsers: \"html.parser\" or \"lxml\"\n",
        "    _soup = BeautifulSoup(_response.text, 'lxml')\n",
        "\n",
        "    # find all li\n",
        "    _htmlBlock = _soup.find_all(\"li\")\n",
        "\n",
        "    # filter out lis that doesn't contain our data\n",
        "    _filteredHtmlBlock = list(filter(lambda _x: True if \"etfs\" in _x.a['href'] or \"stocks\" in _x.a['href'] else False, _htmlBlock))\n",
        "\n",
        "    # get the data\n",
        "    _data = list(map(lambda _y: {\"name\": _y.a.text, \"type\": _y.a['href'].split('/')[1], \"subdirectory\": _y.a['href'].split('/')[2]}, _filteredHtmlBlock))\n",
        "\n",
        "    return _data\n",
        "  # except Exception as _e:\n",
        "  #   print(_e)\n",
        "  #   return []"
      ],
      "metadata": {
        "id": "uxga6bveKhwi"
      },
      "execution_count": 20,
      "outputs": []
    },
    {
      "cell_type": "code",
      "source": [
        "getNames('a')[0]"
      ],
      "metadata": {
        "colab": {
          "base_uri": "https://localhost:8080/"
        },
        "id": "zhbs41YCNsaV",
        "outputId": "afb16812-851b-413c-fae5-bb0660a71ac2"
      },
      "execution_count": 21,
      "outputs": [
        {
          "output_type": "execute_result",
          "data": {
            "text/plain": [
              "{'name': 'A B Cotspin India Ltd',\n",
              " 'subdirectory': 'ab-cotspin-india-ABCO',\n",
              " 'type': 'stocks'}"
            ]
          },
          "metadata": {},
          "execution_count": 21
        }
      ]
    },
    {
      "cell_type": "code",
      "source": [
        "# declare the filter values for all the pages\n",
        "# top = [\"top\"]\n",
        "url_filters = list(\"abcdefghijklmnopqrstuvwxyz\") + [\"others\"]\n",
        "print(url_filters)"
      ],
      "metadata": {
        "id": "Xt7sHvpKcwQ5",
        "colab": {
          "base_uri": "https://localhost:8080/"
        },
        "outputId": "b3e6a59c-ee4c-40f4-abb2-bacf9606873c"
      },
      "execution_count": 22,
      "outputs": [
        {
          "output_type": "stream",
          "name": "stdout",
          "text": [
            "['a', 'b', 'c', 'd', 'e', 'f', 'g', 'h', 'i', 'j', 'k', 'l', 'm', 'n', 'o', 'p', 'q', 'r', 's', 't', 'u', 'v', 'w', 'x', 'y', 'z', 'others']\n"
          ]
        }
      ]
    },
    {
      "cell_type": "code",
      "source": [
        "# let's scrape all the pages!\n",
        "fulldata = []\n",
        "\n",
        "for filter in url_filters:\n",
        "  # get data from each page and append to data list\n",
        "  print(\"https://www.tickertape.in/stocks?filter=\"+filter)\n",
        "\n",
        "  ## bug!!\n",
        "  # fulldata = fulldata + getNames(filter)"
      ],
      "metadata": {
        "id": "EiKv3TYMuHUt",
        "colab": {
          "base_uri": "https://localhost:8080/"
        },
        "outputId": "31d9f4c3-f279-4638-cd3f-8e6c794da6c3"
      },
      "execution_count": 23,
      "outputs": [
        {
          "output_type": "stream",
          "name": "stdout",
          "text": [
            "https://www.tickertape.in/stocks?filter=a\n",
            "https://www.tickertape.in/stocks?filter=b\n",
            "https://www.tickertape.in/stocks?filter=c\n",
            "https://www.tickertape.in/stocks?filter=d\n",
            "https://www.tickertape.in/stocks?filter=e\n",
            "https://www.tickertape.in/stocks?filter=f\n",
            "https://www.tickertape.in/stocks?filter=g\n",
            "https://www.tickertape.in/stocks?filter=h\n",
            "https://www.tickertape.in/stocks?filter=i\n",
            "https://www.tickertape.in/stocks?filter=j\n",
            "https://www.tickertape.in/stocks?filter=k\n",
            "https://www.tickertape.in/stocks?filter=l\n",
            "https://www.tickertape.in/stocks?filter=m\n",
            "https://www.tickertape.in/stocks?filter=n\n",
            "https://www.tickertape.in/stocks?filter=o\n",
            "https://www.tickertape.in/stocks?filter=p\n",
            "https://www.tickertape.in/stocks?filter=q\n",
            "https://www.tickertape.in/stocks?filter=r\n",
            "https://www.tickertape.in/stocks?filter=s\n",
            "https://www.tickertape.in/stocks?filter=t\n",
            "https://www.tickertape.in/stocks?filter=u\n",
            "https://www.tickertape.in/stocks?filter=v\n",
            "https://www.tickertape.in/stocks?filter=w\n",
            "https://www.tickertape.in/stocks?filter=x\n",
            "https://www.tickertape.in/stocks?filter=y\n",
            "https://www.tickertape.in/stocks?filter=z\n",
            "https://www.tickertape.in/stocks?filter=others\n"
          ]
        }
      ]
    },
    {
      "cell_type": "code",
      "source": [
        "fulldata"
      ],
      "metadata": {
        "colab": {
          "base_uri": "https://localhost:8080/"
        },
        "id": "oCW71TXSJ7T-",
        "outputId": "290d670d-8ddc-468f-f45e-92bdb4e19fd0"
      },
      "execution_count": 24,
      "outputs": [
        {
          "output_type": "execute_result",
          "data": {
            "text/plain": [
              "[]"
            ]
          },
          "metadata": {},
          "execution_count": 24
        }
      ]
    },
    {
      "cell_type": "code",
      "source": [
        ""
      ],
      "metadata": {
        "id": "u0dYJfQ6NOR0"
      },
      "execution_count": 24,
      "outputs": []
    }
  ]
}