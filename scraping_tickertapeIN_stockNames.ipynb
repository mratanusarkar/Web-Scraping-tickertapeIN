{
  "nbformat": 4,
  "nbformat_minor": 0,
  "metadata": {
    "colab": {
      "name": "Web Scraping tickertapeIN - stock names.ipynb",
      "provenance": [],
      "authorship_tag": "ABX9TyNZgmnJ4RaOYI1M9TTq8mZ6",
      "include_colab_link": true
    },
    "kernelspec": {
      "name": "python3",
      "display_name": "Python 3"
    },
    "language_info": {
      "name": "python"
    }
  },
  "cells": [
    {
      "cell_type": "markdown",
      "metadata": {
        "id": "view-in-github",
        "colab_type": "text"
      },
      "source": [
        "<a href=\"https://colab.research.google.com/github/mratanusarkar/Web-Scraping-tickertapeIN/blob/basic-scraper-colab/scraping_tickertapeIN_stockNames.ipynb\" target=\"_parent\"><img src=\"https://colab.research.google.com/assets/colab-badge.svg\" alt=\"Open In Colab\"/></a>"
      ]
    },
    {
      "cell_type": "markdown",
      "source": [
        "# Web Scraping all stock names from tickertape.in"
      ],
      "metadata": {
        "id": "jFWK4XraZsGc"
      }
    },
    {
      "cell_type": "markdown",
      "source": [
        "**Input**: None <br>\n",
        "**Output**: 2 list of strings containing \"Top\" stock names and \"All\" stock names on \"https://www.tickertape.in/stocks\""
      ],
      "metadata": {
        "id": "SjQw016pZ5bg"
      }
    },
    {
      "cell_type": "markdown",
      "source": [
        "## Import Packages"
      ],
      "metadata": {
        "id": "OcFpi1cFcDW0"
      }
    },
    {
      "cell_type": "code",
      "source": [
        "import numpy as np\n",
        "import pandas as pd\n",
        "import requests\n",
        "from bs4 import BeautifulSoup\n",
        "\n",
        "import time\n",
        "from datetime import timedelta"
      ],
      "metadata": {
        "id": "c0wD-RzybeO9"
      },
      "execution_count": 1,
      "outputs": []
    },
    {
      "cell_type": "markdown",
      "source": [
        "## Request and Fetch the Webpage (for one sample page)"
      ],
      "metadata": {
        "id": "igOJKmX7cIWj"
      }
    },
    {
      "cell_type": "code",
      "source": [
        "# hit \"https://www.tickertape.in/stocks?filter=<filter-value>\"\n",
        "requests.get(\"https://www.tickertape.in/stocks?filter=a\")"
      ],
      "metadata": {
        "colab": {
          "base_uri": "https://localhost:8080/"
        },
        "id": "uN6CTb4tcWTd",
        "outputId": "dd8b4fcf-9a75-42b2-8f16-2ad2aad4265f"
      },
      "execution_count": 2,
      "outputs": [
        {
          "output_type": "execute_result",
          "data": {
            "text/plain": [
              "<Response [200]>"
            ]
          },
          "metadata": {},
          "execution_count": 2
        }
      ]
    },
    {
      "cell_type": "code",
      "source": [
        "# wow! no restriction for bots! no need of any headers!\n",
        "response = requests.get(\"https://www.tickertape.in/stocks?filter=a\")\n",
        "response.text[0:500]"
      ],
      "metadata": {
        "colab": {
          "base_uri": "https://localhost:8080/",
          "height": 70
        },
        "id": "O-3k6Ngicr2N",
        "outputId": "6618b247-a4e3-4ee5-84bc-f4986808eac8"
      },
      "execution_count": 3,
      "outputs": [
        {
          "output_type": "execute_result",
          "data": {
            "text/plain": [
              "'<!DOCTYPE html><html lang=\"en-US\"><head><meta http-equiv=\"X-UA-Compatible\" content=\"IE=edge\"/><link rel=\"shortcut icon\" href=\"/favicon/favicon.png\"/><link rel=\"apple-touch-icon\" href=\"/favicon/favicon-192x192.png\"/><link rel=\"manifest\" href=\"/manifest/manifest.json\"/><style type=\"text/css\">:root {--white: #ffffff; --font_primary: #535B62; --font_dark: #2f363f; --font_light: #81878c; --font_blue: #0088ea; --font_lighter: #a2a8ae; --brand_primary: #151e28; --brand_success: #28c39a; --brand_danger:'"
            ],
            "application/vnd.google.colaboratory.intrinsic+json": {
              "type": "string"
            }
          },
          "metadata": {},
          "execution_count": 3
        }
      ]
    },
    {
      "cell_type": "code",
      "source": [
        "# not required for this webpage, use if bot restrictions are added in future.\n",
        "\n",
        "# google chrome browser's request header (to make it look like, we are making this request from a browser)\n",
        "header = {\n",
        "  \"User-Agent\": \"Mozilla/5.0 (Windows NT 10.0; Win64; x64) AppleWebKit/537.36 (KHTML, like Gecko) Chrome/80.0.3987.163 Safari/537.36\"\n",
        "}\n",
        "\n",
        "# hit using the header\n",
        "response = requests.get(\"https://www.tickertape.in/stocks?filter=a\", headers=header)\n",
        "response.text[0:500]"
      ],
      "metadata": {
        "colab": {
          "base_uri": "https://localhost:8080/",
          "height": 70
        },
        "id": "ZMW71O25c9Hl",
        "outputId": "81a0f1e2-0658-4cef-fc0d-1c1a73ed6842"
      },
      "execution_count": 4,
      "outputs": [
        {
          "output_type": "execute_result",
          "data": {
            "text/plain": [
              "'<!DOCTYPE html><html lang=\"en-US\"><head><meta http-equiv=\"X-UA-Compatible\" content=\"IE=edge\"/><link rel=\"shortcut icon\" href=\"/favicon/favicon.png\"/><link rel=\"apple-touch-icon\" href=\"/favicon/favicon-192x192.png\"/><link rel=\"manifest\" href=\"/manifest/manifest.json\"/><style type=\"text/css\">:root {--white: #ffffff; --font_primary: #535B62; --font_dark: #2f363f; --font_light: #81878c; --font_blue: #0088ea; --font_lighter: #a2a8ae; --brand_primary: #151e28; --brand_success: #28c39a; --brand_danger:'"
            ],
            "application/vnd.google.colaboratory.intrinsic+json": {
              "type": "string"
            }
          },
          "metadata": {},
          "execution_count": 4
        }
      ]
    },
    {
      "cell_type": "markdown",
      "source": [
        "## Pass the fetched webpage response to Beautiful Soup"
      ],
      "metadata": {
        "id": "XJNdAiOReo2n"
      }
    },
    {
      "cell_type": "code",
      "source": [
        "# give the webpage to Beautiful Soup using parsers: \"html.parser\" or \"lxml\"\n",
        "soup = BeautifulSoup(response.text, 'lxml')"
      ],
      "metadata": {
        "id": "RA-dseaKd1GS"
      },
      "execution_count": 5,
      "outputs": []
    },
    {
      "cell_type": "markdown",
      "source": [
        "## Let us try and extract data (from one sample page)"
      ],
      "metadata": {
        "id": "ZKYRke2Ilhrt"
      }
    },
    {
      "cell_type": "markdown",
      "source": [
        "- extract one company name in the page\n",
        "- extract all company name in the page"
      ],
      "metadata": {
        "id": "8pCfA5bWjJRE"
      }
    },
    {
      "cell_type": "markdown",
      "source": [
        "### Extracting one company name"
      ],
      "metadata": {
        "id": "IqCNbmt8l3Ec"
      }
    },
    {
      "cell_type": "code",
      "source": [
        "# company name\n",
        "htmlBlock = soup.find(\"li\")\n",
        "print(htmlBlock)"
      ],
      "metadata": {
        "colab": {
          "base_uri": "https://localhost:8080/"
        },
        "id": "2zTscJQSd1In",
        "outputId": "0bed0e76-3944-4ca8-f9bb-e079812978c2"
      },
      "execution_count": 6,
      "outputs": [
        {
          "output_type": "stream",
          "name": "stdout",
          "text": [
            "<li class=\"jsx-1528870203\"><a class=\"jsx-1528870203\" href=\"/stocks/a-and-m-febcon-AMF\">A &amp; M Febcon Ltd</a></li>\n"
          ]
        }
      ]
    },
    {
      "cell_type": "code",
      "source": [
        "htmlBlock.a['href'].split('/')[2]"
      ],
      "metadata": {
        "colab": {
          "base_uri": "https://localhost:8080/",
          "height": 35
        },
        "id": "bSlioJ9SZzuT",
        "outputId": "faf34069-bf5a-4362-8956-6ff911dfec2c"
      },
      "execution_count": 7,
      "outputs": [
        {
          "output_type": "execute_result",
          "data": {
            "text/plain": [
              "'a-and-m-febcon-AMF'"
            ],
            "application/vnd.google.colaboratory.intrinsic+json": {
              "type": "string"
            }
          },
          "metadata": {},
          "execution_count": 7
        }
      ]
    },
    {
      "cell_type": "code",
      "source": [
        "htmlBlock.a.text"
      ],
      "metadata": {
        "colab": {
          "base_uri": "https://localhost:8080/",
          "height": 35
        },
        "id": "ogWuUENpiNMD",
        "outputId": "9c52b5f1-8b32-41f0-b721-2c55821ee864"
      },
      "execution_count": 8,
      "outputs": [
        {
          "output_type": "execute_result",
          "data": {
            "text/plain": [
              "'A & M Febcon Ltd'"
            ],
            "application/vnd.google.colaboratory.intrinsic+json": {
              "type": "string"
            }
          },
          "metadata": {},
          "execution_count": 8
        }
      ]
    },
    {
      "cell_type": "code",
      "source": [
        ""
      ],
      "metadata": {
        "id": "pd7cxn9siiGm"
      },
      "execution_count": 8,
      "outputs": []
    },
    {
      "cell_type": "markdown",
      "source": [
        "### Extracting all the company names"
      ],
      "metadata": {
        "id": "xQuKNj_vjAUc"
      }
    },
    {
      "cell_type": "code",
      "source": [
        "# find all li\n",
        "htmlBlock = soup.find_all(\"li\")\n",
        "print(htmlBlock)"
      ],
      "metadata": {
        "colab": {
          "base_uri": "https://localhost:8080/"
        },
        "id": "fG_2Jwx9jD8w",
        "outputId": "fd7089c8-af63-465c-987c-dcdd3eb77a9d"
      },
      "execution_count": 9,
      "outputs": [
        {
          "output_type": "stream",
          "name": "stdout",
          "text": [
            "[<li class=\"jsx-1528870203\"><a class=\"jsx-1528870203\" href=\"/stocks/a-and-m-febcon-AMF\">A &amp; M Febcon Ltd</a></li>, <li class=\"jsx-1528870203\"><a class=\"jsx-1528870203\" href=\"/stocks/ab-cotspin-india-ABCO\">A B Cotspin India Ltd</a></li>, <li class=\"jsx-1528870203\"><a class=\"jsx-1528870203\" href=\"/stocks/a-b-infrabuild-ABIN\">A B Infrabuild Ltd</a></li>, <li class=\"jsx-1528870203\"><a class=\"jsx-1528870203\" href=\"/stocks/a-f-enterprises-AFE\">A F Enterprises Ltd</a></li>, <li class=\"jsx-1528870203\"><a class=\"jsx-1528870203\" href=\"/stocks/a-infrastructure-AIN\">A Infrastructure Ltd</a></li>, <li class=\"jsx-1528870203\"><a class=\"jsx-1528870203\" href=\"/stocks/akcapital-services-AKC\">A K Capital Services Ltd</a></li>, <li class=\"jsx-1528870203\"><a class=\"jsx-1528870203\" href=\"/stocks/a-and-m-jumbo-bags-AMJU\">A and M Jumbo Bags Ltd</a></li>, <li class=\"jsx-1528870203\"><a class=\"jsx-1528870203\" href=\"/stocks/a-1-acid-AAL\">A-1 Acid Ltd</a></li>, <li class=\"jsx-1528870203\"><a class=\"jsx-1528870203\" href=\"/stocks/a2z-infra-engineering-A2ZI\">A2z Infra Engineering Ltd</a></li>, <li class=\"jsx-1528870203\"><a class=\"jsx-1528870203\" href=\"/stocks/aa-plus-tradelink-AAP\">AA Plus Tradelink Ltd</a></li>, <li class=\"jsx-1528870203\"><a class=\"jsx-1528870203\" href=\"/stocks/aaa-technologies-AAA\">AAA Technologies Ltd</a></li>, <li class=\"jsx-1528870203\"><a class=\"jsx-1528870203\" href=\"/stocks/aar-commercial-company-AARC\">AAR Commercial Co Ltd</a></li>, <li class=\"jsx-1528870203\"><a class=\"jsx-1528870203\" href=\"/stocks/aar-shyam-india-investment-company-AARS\">AAR Shyam India Investment Company Ltd</a></li>, <li class=\"jsx-1528870203\"><a class=\"jsx-1528870203\" href=\"/stocks/aarv-infratel-AARV\">AARV Infratel Ltd</a></li>, <li class=\"jsx-1528870203\"><a class=\"jsx-1528870203\" href=\"/stocks/abb-india-ABB\">ABB India Ltd</a></li>, <li class=\"jsx-1528870203\"><a class=\"jsx-1528870203\" href=\"/stocks/abc-gas-international-ABCG\">ABC Gas (International) Ltd</a></li>, <li class=\"jsx-1528870203\"><a class=\"jsx-1528870203\" href=\"/stocks/abc-india-ABC\">ABC India Ltd</a></li>, <li class=\"jsx-1528870203\"><a class=\"jsx-1528870203\" href=\"/stocks/abm-knowledgeware-ABM\">ABM Knowledgeware Ltd</a></li>, <li class=\"jsx-1528870203\"><a class=\"jsx-1528870203\" href=\"/stocks/acc-ACC\">ACC Ltd</a></li>, <li class=\"jsx-1528870203\"><a class=\"jsx-1528870203\" href=\"/stocks/ace-software-exports-ACES\">ACE Software Exports Ltd</a></li>, <li class=\"jsx-1528870203\"><a class=\"jsx-1528870203\" href=\"/stocks/aci-infocom-ACII\">ACI Infocom Ltd</a></li>, <li class=\"jsx-1528870203\"><a class=\"jsx-1528870203\" href=\"/stocks/ad-manum-finance-ADM\">AD- Manum Finance Ltd</a></li>, <li class=\"jsx-1528870203\"><a class=\"jsx-1528870203\" href=\"/stocks/adc-india-communications-KRO\">ADC India Communications Ltd</a></li>, <li class=\"jsx-1528870203\"><a class=\"jsx-1528870203\" href=\"/stocks/adf-foods-AMRN\">ADF Foods Ltd</a></li>, <li class=\"jsx-1528870203\"><a class=\"jsx-1528870203\" href=\"/stocks/agi-infra-AGI\">AGI Infra Ltd</a></li>, <li class=\"jsx-1528870203\"><a class=\"jsx-1528870203\" href=\"/stocks/ags-transact-technologies-AGS\">AGS Transact Technologies Ltd</a></li>, <li class=\"jsx-1528870203\"><a class=\"jsx-1528870203\" href=\"/stocks/aia-engineering-AIAE\">AIA Engineering Ltd</a></li>, <li class=\"jsx-1528870203\"><a class=\"jsx-1528870203\" href=\"/stocks/gammon-infrastructure-projects-GAIN\">AJR Infra and Tolling Ltd</a></li>, <li class=\"jsx-1528870203\"><a class=\"jsx-1528870203\" href=\"/stocks/a-k-spintex-AKSP\">AK Spintex Ltd</a></li>, <li class=\"jsx-1528870203\"><a class=\"jsx-1528870203\" href=\"/stocks/akg-exim-AKGE\">AKG Exim Ltd</a></li>, <li class=\"jsx-1528870203\"><a class=\"jsx-1528870203\" href=\"/stocks/aki-india-AKI\">AKI India Ltd</a></li>, <li class=\"jsx-1528870203\"><a class=\"jsx-1528870203\" href=\"/stocks/akm-lace-and-embrotex-AKM\">AKM Lace and Embrotex Ltd</a></li>, <li class=\"jsx-1528870203\"><a class=\"jsx-1528870203\" href=\"/stocks/amd-industries-AMDM\">AMD Industries Ltd</a></li>, <li class=\"jsx-1528870203\"><a class=\"jsx-1528870203\" href=\"/stocks/amj-land-holdings-AMJL\">AMJ Land Holdings Ltd</a></li>, <li class=\"jsx-1528870203\"><a class=\"jsx-1528870203\" href=\"/stocks/ams-polymers-AMM\">AMS Polymers Ltd</a></li>, <li class=\"jsx-1528870203\"><a class=\"jsx-1528870203\" href=\"/stocks/ang-industries-ANGI\">ANG Industries Ltd</a></li>, <li class=\"jsx-1528870203\"><a class=\"jsx-1528870203\" href=\"/stocks/ang-lifesciences-india-ANA\">ANG Lifesciences India Ltd</a></li>, <li class=\"jsx-1528870203\"><a class=\"jsx-1528870203\" href=\"/stocks/ani-integrated-services-ANII\">ANI Integrated Services Ltd</a></li>, <li class=\"jsx-1528870203\"><a class=\"jsx-1528870203\" href=\"/stocks/ans-industries-ANS\">ANS Industries Ltd</a></li>, <li class=\"jsx-1528870203\"><a class=\"jsx-1528870203\" href=\"/stocks/apl-apollo-tubes-APLA\">APL Apollo Tubes Ltd</a></li>, <li class=\"jsx-1528870203\"><a class=\"jsx-1528870203\" href=\"/stocks/apm-finvest-APM\">APM Finvest Ltd</a></li>, <li class=\"jsx-1528870203\"><a class=\"jsx-1528870203\" href=\"/stocks/apm-industries-APMI\">APM Industries Ltd</a></li>, <li class=\"jsx-1528870203\"><a class=\"jsx-1528870203\" href=\"/stocks/a-r-c-finance-ARC\">ARC Finance Ltd</a></li>, <li class=\"jsx-1528870203\"><a class=\"jsx-1528870203\" href=\"/stocks/arss-infrastructure-projects-ARSS\">ARSS Infrastructure Projects Ltd</a></li>, <li class=\"jsx-1528870203\"><a class=\"jsx-1528870203\" href=\"/stocks/asi-industries-ASO\">ASI Industries Ltd</a></li>, <li class=\"jsx-1528870203\"><a class=\"jsx-1528870203\" href=\"/stocks/asl-industries-ASLI\">ASL Industries Ltd</a></li>, <li class=\"jsx-1528870203\"><a class=\"jsx-1528870203\" href=\"/stocks/asm-technologies-ASM\">ASM Technologies Ltd</a></li>, <li class=\"jsx-1528870203\"><a class=\"jsx-1528870203\" href=\"/stocks/atn-international-ASGM\">ATN International Ltd</a></li>, <li class=\"jsx-1528870203\"><a class=\"jsx-1528870203\" href=\"/stocks/atv-projects-india-ATVP\">ATV Projects India Ltd</a></li>, <li class=\"jsx-1528870203\"><a class=\"jsx-1528870203\" href=\"/stocks/au-small-finance-bank-AUFI\">AU Small Finance Bank Ltd</a></li>, <li class=\"jsx-1528870203\"><a class=\"jsx-1528870203\" href=\"/stocks/avg-logistics-AVGL\">AVG Logistics Ltd</a></li>, <li class=\"jsx-1528870203\"><a class=\"jsx-1528870203\" href=\"/stocks/avi-polymers-AVI\">AVI Polymers Ltd</a></li>, <li class=\"jsx-1528870203\"><a class=\"jsx-1528870203\" href=\"/stocks/avi-products-india-APIL\">AVI Products India Ltd</a></li>, <li class=\"jsx-1528870203\"><a class=\"jsx-1528870203\" href=\"/stocks/avsl-industries-AVSL\">AVSL Industries Ltd</a></li>, <li class=\"jsx-1528870203\"><a class=\"jsx-1528870203\" href=\"/stocks/avt-natural-products-AVTN\">AVT Natural Products Ltd</a></li>, <li class=\"jsx-1528870203\"><a class=\"jsx-1528870203\" href=\"/stocks/aadi-industries-AADI\">Aadi Industries Ltd</a></li>, <li class=\"jsx-1528870203\"><a class=\"jsx-1528870203\" href=\"/stocks/aakash-exploration-services-AAKA\">Aakash Exploration Services Ltd</a></li>, <li class=\"jsx-1528870203\"><a class=\"jsx-1528870203\" href=\"/stocks/aananda-lakshmi-spinning-mills-AANA\">Aananda Lakshmi Spinning Mills Ltd</a></li>, <li class=\"jsx-1528870203\"><a class=\"jsx-1528870203\" href=\"/stocks/aanchal-ispat-AAN\">Aanchal Ispat Ltd</a></li>, <li class=\"jsx-1528870203\"><a class=\"jsx-1528870203\" href=\"/stocks/aarcon-facilities-RBG\">Aarcon Facilities Ltd</a></li>, <li class=\"jsx-1528870203\"><a class=\"jsx-1528870203\" href=\"/stocks/aarey-drugs-and-pharmaceuticals-AREY\">Aarey Drugs and Pharmaceuticals Ltd</a></li>, <li class=\"jsx-1528870203\"><a class=\"jsx-1528870203\" href=\"/stocks/aarnav-fashions-AARNA\">Aarnav Fashions Ltd</a></li>, <li class=\"jsx-1528870203\"><a class=\"jsx-1528870203\" href=\"/stocks/aaron-industries-AARN\">Aaron Industries Ltd</a></li>, <li class=\"jsx-1528870203\"><a class=\"jsx-1528870203\" href=\"/stocks/aartech-solonics-AAR\">Aartech Solonics Ltd</a></li>, <li class=\"jsx-1528870203\"><a class=\"jsx-1528870203\" href=\"/stocks/aarti-drugs-ADRG\">Aarti Drugs Ltd</a></li>, <li class=\"jsx-1528870203\"><a class=\"jsx-1528870203\" href=\"/stocks/aarti-industries-ARTI\">Aarti Industries Ltd</a></li>, <li class=\"jsx-1528870203\"><a class=\"jsx-1528870203\" href=\"/stocks/aarti-surfactants-AARU\">Aarti Surfactants Ltd</a></li>, <li class=\"jsx-1528870203\"><a class=\"jsx-1528870203\" href=\"/stocks/aarvee-denims-and-exports-AADM\">Aarvee Denims and Exports Ltd</a></li>, <li class=\"jsx-1528870203\"><a class=\"jsx-1528870203\" href=\"/stocks/aarvi-encon-AARI\">Aarvi Encon Ltd</a></li>, <li class=\"jsx-1528870203\"><a class=\"jsx-1528870203\" href=\"/stocks/aashka-hospitals-AAS\">Aashka Hospitals Ltd</a></li>, <li class=\"jsx-1528870203\"><a class=\"jsx-1528870203\" href=\"/stocks/upasana-finance-UPA\">Aastamangalam Finance Ltd</a></li>, <li class=\"jsx-1528870203\"><a class=\"jsx-1528870203\" href=\"/stocks/aaswa-trading-and-exports-ASW\">Aaswa Trading and Exports Ltd</a></li>, <li class=\"jsx-1528870203\"><a class=\"jsx-1528870203\" href=\"/stocks/aavas-financiers-AVAS\">Aavas Financiers Ltd</a></li>, <li class=\"jsx-1528870203\"><a class=\"jsx-1528870203\" href=\"/stocks/aayush-food-and-herbs-AAY\">Aayush Food and Herbs Ltd</a></li>, <li class=\"jsx-1528870203\"><a class=\"jsx-1528870203\" href=\"/stocks/aban-offshore-ABAN\">Aban Offshore Ltd</a></li>, <li class=\"jsx-1528870203\"><a class=\"jsx-1528870203\" href=\"/stocks/abans-enterprises-ABA\">Abans Enterprises Ltd</a></li>, <li class=\"jsx-1528870203\"><a class=\"jsx-1528870203\" href=\"/stocks/trijal-industries-TRIJ\">Abate As Industries Ltd</a></li>, <li class=\"jsx-1528870203\"><a class=\"jsx-1528870203\" href=\"/stocks/abbott-india-ABOT\">Abbott India Ltd</a></li>, <li class=\"jsx-1528870203\"><a class=\"jsx-1528870203\" href=\"/stocks/abhijit-trading-company-ABH\">Abhijit Trading Co Ltd</a></li>, <li class=\"jsx-1528870203\"><a class=\"jsx-1528870203\" href=\"/stocks/abhinav-capital-services-ABHIC\">Abhinav Capital Services Ltd</a></li>, <li class=\"jsx-1528870203\"><a class=\"jsx-1528870203\" href=\"/stocks/abhinav-leasing-and-finance-ALF\">Abhinav Leasing &amp; Finance Ltd</a></li>, <li class=\"jsx-1528870203\"><a class=\"jsx-1528870203\" href=\"/stocks/abhishek-finlease-ABHIF\">Abhishek Finlease Ltd</a></li>, <li class=\"jsx-1528870203\"><a class=\"jsx-1528870203\" href=\"/stocks/abhishek-infraventures-ABHI\">Abhishek Infraventures Ltd</a></li>, <li class=\"jsx-1528870203\"><a class=\"jsx-1528870203\" href=\"/stocks/abhishek-integrations-AIL\">Abhishek Integrations Ltd</a></li>, <li class=\"jsx-1528870203\"><a class=\"jsx-1528870203\" href=\"/stocks/abirami-financial-services-india-ABI\">Abirami Financial Services (India) Ltd</a></li>, <li class=\"jsx-1528870203\"><a class=\"jsx-1528870203\" href=\"/stocks/abm-international-ABMN\">Abm International Ltd</a></li>, <li class=\"jsx-1528870203\"><a class=\"jsx-1528870203\" href=\"/stocks/ecom-infotech-india-ECO\">Accedere Ltd</a></li>, <li class=\"jsx-1528870203\"><a class=\"jsx-1528870203\" href=\"/stocks/accel-ACCE\">Accel Ltd</a></li>, <li class=\"jsx-1528870203\"><a class=\"jsx-1528870203\" href=\"/stocks/accelya-solutions-india-ACCY\">Accelya Solutions India Ltd</a></li>, <li class=\"jsx-1528870203\"><a class=\"jsx-1528870203\" href=\"/stocks/accord-synergy-ACCO\">Accord Synergy Ltd</a></li>, <li class=\"jsx-1528870203\"><a class=\"jsx-1528870203\" href=\"/stocks/accuracy-shipping-ACCU\">Accuracy Shipping Ltd</a></li>, <li class=\"jsx-1528870203\"><a class=\"jsx-1528870203\" href=\"/stocks/ace-edutrend-ACEE\">Ace Edutrend Ltd</a></li>, <li class=\"jsx-1528870203\"><a class=\"jsx-1528870203\" href=\"/stocks/ace-integrated-solutions-ACEN\">Ace Integrated Solutions Ltd</a></li>, <li class=\"jsx-1528870203\"><a class=\"jsx-1528870203\" href=\"/stocks/ace-men-engg-works-ACE\">Ace men engg works Ltd</a></li>, <li class=\"jsx-1528870203\"><a class=\"jsx-1528870203\" href=\"/stocks/acewin-agriteck-ACEW\">Acewin Agriteck Ltd</a></li>, <li class=\"jsx-1528870203\"><a class=\"jsx-1528870203\" href=\"/stocks/achyut-healthcare-ACHY\">Achyut Healthcare Ltd</a></li>, <li class=\"jsx-1528870203\"><a class=\"jsx-1528870203\" href=\"/stocks/acknit-industries-ACK\">Acknit Industries Ltd</a></li>, <li class=\"jsx-1528870203\"><a class=\"jsx-1528870203\" href=\"/stocks/acme-resources-ACME\">Acme Resources Ltd</a></li>, <li class=\"jsx-1528870203\"><a class=\"jsx-1528870203\" href=\"/stocks/acrow-india-ACRO\">Acrow India Ltd</a></li>, <li class=\"jsx-1528870203\"><a class=\"jsx-1528870203\" href=\"/stocks/acrysil-ACR\">Acrysil Ltd</a></li>, <li class=\"jsx-1528870203\"><a class=\"jsx-1528870203\" href=\"/stocks/action-construction-equipment-ACEL\">Action Construction Equipment Ltd</a></li>, <li class=\"jsx-1528870203\"><a class=\"jsx-1528870203\" href=\"/stocks/active-clothing-co-ACT\">Active Clothing Co Ltd</a></li>, <li class=\"jsx-1528870203\"><a class=\"jsx-1528870203\" href=\"/stocks/adani-enterprises-ADEL\">Adani Enterprises Ltd</a></li>, <li class=\"jsx-1528870203\"><a class=\"jsx-1528870203\" href=\"/stocks/adani-green-energy-ADNA\">Adani Green Energy Ltd</a></li>, <li class=\"jsx-1528870203\"><a class=\"jsx-1528870203\" href=\"/stocks/adani-ports-and-special-economic-zone-APSE\">Adani Ports and Special Economic Zone Ltd</a></li>, <li class=\"jsx-1528870203\"><a class=\"jsx-1528870203\" href=\"/stocks/adani-power-ADAN\">Adani Power Ltd</a></li>, <li class=\"jsx-1528870203\"><a class=\"jsx-1528870203\" href=\"/stocks/adani-gas-ADAG\">Adani Total Gas Ltd</a></li>, <li class=\"jsx-1528870203\"><a class=\"jsx-1528870203\" href=\"/stocks/adani-transmission-ADAI\">Adani Transmission Ltd</a></li>, <li class=\"jsx-1528870203\"><a class=\"jsx-1528870203\" href=\"/stocks/adani-wilmar-AWL\">Adani Wilmar Ltd</a></li>, <li class=\"jsx-1528870203\"><a class=\"jsx-1528870203\" href=\"/stocks/adarsh-mercantile-ADA\">Adarsh Mercantile Ltd</a></li>, <li class=\"jsx-1528870203\"><a class=\"jsx-1528870203\" href=\"/stocks/adarsh-plant-protect-ADAR\">Adarsh Plant Protect Ltd</a></li>, <li class=\"jsx-1528870203\"><a class=\"jsx-1528870203\" href=\"/stocks/adcon-capital-services-ADC\">Adcon Capital Services Ltd</a></li>, <li class=\"jsx-1528870203\"><a class=\"jsx-1528870203\" href=\"/stocks/add-shop-e-retail-ASR\">Add-Shop E-Retail Ltd</a></li>, <li class=\"jsx-1528870203\"><a class=\"jsx-1528870203\" href=\"/stocks/addi-industries-ADD\">Addi Industries Ltd</a></li>, <li class=\"jsx-1528870203\"><a class=\"jsx-1528870203\" href=\"/stocks/adeshwar-meditex-ADE\">Adeshwar Meditex Ltd</a></li>, <li class=\"jsx-1528870203\"><a class=\"jsx-1528870203\" href=\"/stocks/adharshila-capital-services-ADHA\">Adharshila Capital Services Ltd</a></li>, <li class=\"jsx-1528870203\"><a class=\"jsx-1528870203\" href=\"/stocks/adhbhut-infrastructure-ADHB\">Adhbhut Infrastructure Ltd</a></li>, <li class=\"jsx-1528870203\"><a class=\"jsx-1528870203\" href=\"/stocks/adinath-exim-resources-ADIE\">Adinath Exim Resources Ltd</a></li>, <li class=\"jsx-1528870203\"><a class=\"jsx-1528870203\" href=\"/stocks/adinath-textiles-ADIN\">Adinath Textiles Ltd</a></li>, <li class=\"jsx-1528870203\"><a class=\"jsx-1528870203\" href=\"/stocks/adishakti-loha-and-ispat-ADISH\">Adishakti Loha &amp; Ispat Ltd</a></li>, <li class=\"jsx-1528870203\"><a class=\"jsx-1528870203\" href=\"/etfs/aditya-bsl-gold-etf-AITY\">Aditya BSL Gold ETF</a></li>, <li class=\"jsx-1528870203\"><a class=\"jsx-1528870203\" href=\"/etfs/aditya-bsl-nifty-50-etf-ADIY\">Aditya BSL Nifty 50 ETF</a></li>, <li class=\"jsx-1528870203\"><a class=\"jsx-1528870203\" href=\"/etfs/aditya-bsl-sensex-30-etf-BSL\">Aditya BSL Sensex 30 ETF</a></li>, <li class=\"jsx-1528870203\"><a class=\"jsx-1528870203\" href=\"/stocks/aditya-birla-capital-ADTB\">Aditya Birla Capital Ltd</a></li>, <li class=\"jsx-1528870203\"><a class=\"jsx-1528870203\" href=\"/stocks/aditya-birla-fashion-and-retail-ADIA\">Aditya Birla Fashion and Retail Ltd</a></li>, <li class=\"jsx-1528870203\"><a class=\"jsx-1528870203\" href=\"/stocks/aditya-birla-money-ABML\">Aditya Birla Money Ltd</a></li>, <li class=\"jsx-1528870203\"><a class=\"jsx-1528870203\" href=\"/stocks/aditya-birla-sun-life-amc-ABS\">Aditya Birla Sun Life Amc Ltd</a></li>, <li class=\"jsx-1528870203\"><a class=\"jsx-1528870203\" href=\"/etfs/aditya-birla-sun-life-nifty-healthcare-etf-HEALT\">Aditya Birla Sun Life NIFTY Healthcare ETF</a></li>, <li class=\"jsx-1528870203\"><a class=\"jsx-1528870203\" href=\"/etfs/aditya-birla-sun-life-nifty-bank-etf-ADIL\">Aditya Birla Sun Life Nifty Bank ETF</a></li>, <li class=\"jsx-1528870203\"><a class=\"jsx-1528870203\" href=\"/etfs/aditya-birla-sun-life-nifty-it-etf-TECT\">Aditya Birla Sun Life Nifty IT ETF</a></li>, <li class=\"jsx-1528870203\"><a class=\"jsx-1528870203\" href=\"/etfs/aditya-birla-sun-life-nifty-next-50-etf-ADIB\">Aditya Birla Sun Life Nifty Next 50 ETF</a></li>, <li class=\"jsx-1528870203\"><a class=\"jsx-1528870203\" href=\"/etfs/aditya-birla-sun-life-silver-etf-SILVR\">Aditya Birla Sun Life Silver ETF</a></li>, <li class=\"jsx-1528870203\"><a class=\"jsx-1528870203\" href=\"/stocks/aditya-consumer-marketing-ACM\">Aditya Consumer Marketing Ltd</a></li>, <li class=\"jsx-1528870203\"><a class=\"jsx-1528870203\" href=\"/stocks/aditya-ispat-ADITY\">Aditya Ispat Ltd</a></li>, <li class=\"jsx-1528870203\"><a class=\"jsx-1528870203\" href=\"/stocks/aditya-spinners-ADIT\">Aditya Spinners Ltd</a></li>, <li class=\"jsx-1528870203\"><a class=\"jsx-1528870203\" href=\"/stocks/aditya-vision-AVL\">Aditya Vision Ltd</a></li>, <li class=\"jsx-1528870203\"><a class=\"jsx-1528870203\" href=\"/stocks/adjia-technologies-ADJ\">Adjia Technologies Ltd</a></li>, <li class=\"jsx-1528870203\"><a class=\"jsx-1528870203\" href=\"/stocks/kamron-laboratories-KAMR\">Adline Chem Lab Ltd</a></li>, <li class=\"jsx-1528870203\"><a class=\"jsx-1528870203\" href=\"/stocks/ador-fontech-ADO\">Ador Fontech Ltd</a></li>, <li class=\"jsx-1528870203\"><a class=\"jsx-1528870203\" href=\"/stocks/ador-multi-products-ADORM\">Ador Multi Products Ltd</a></li>, <li class=\"jsx-1528870203\"><a class=\"jsx-1528870203\" href=\"/stocks/ador-welding-ADOR\">Ador Welding Ltd</a></li>, <li class=\"jsx-1528870203\"><a class=\"jsx-1528870203\" href=\"/stocks/adroit-infotech-AROI\">Adroit Infotech Ltd</a></li>, <li class=\"jsx-1528870203\"><a class=\"jsx-1528870203\" href=\"/stocks/advait-infratech-ADVA\">Advait Infratech Ltd</a></li>, <li class=\"jsx-1528870203\"><a class=\"jsx-1528870203\" href=\"/stocks/advance-lifestyles-ADVL\">Advance Lifestyles Ltd</a></li>, <li class=\"jsx-1528870203\"><a class=\"jsx-1528870203\" href=\"/stocks/advance-metering-technology-AMTL\">Advance Metering Technology Ltd</a></li>, <li class=\"jsx-1528870203\"><a class=\"jsx-1528870203\" href=\"/stocks/advance-petrochemicals-ADVPE\">Advance Petrochemicals Ltd</a></li>, <li class=\"jsx-1528870203\"><a class=\"jsx-1528870203\" href=\"/stocks/advance-syntex-ASY\">Advance Syntex Ltd</a></li>, <li class=\"jsx-1528870203\"><a class=\"jsx-1528870203\" href=\"/stocks/advanced-enzyme-technologies-ADEN\">Advanced Enzyme Technologies Ltd</a></li>, <li class=\"jsx-1528870203\"><a class=\"jsx-1528870203\" href=\"/stocks/advani-hotels-and-resorts-india-ADHO\">Advani Hotels and Resorts (India) Ltd</a></li>, <li class=\"jsx-1528870203\"><a class=\"jsx-1528870203\" href=\"/stocks/advik-capital-ADVI\">Advik Capital Ltd</a></li>, <li class=\"jsx-1528870203\"><a class=\"jsx-1528870203\" href=\"/stocks/advik-laboratories-ADVIK\">Advik Laboratories Ltd</a></li>, <li class=\"jsx-1528870203\"><a class=\"jsx-1528870203\" href=\"/stocks/aegis-logistics-AEGS\">Aegis Logistics Ltd</a></li>, <li class=\"jsx-1528870203\"><a class=\"jsx-1528870203\" href=\"/stocks/affle-india-AFFL\">Affle (India) Ltd</a></li>, <li class=\"jsx-1528870203\"><a class=\"jsx-1528870203\" href=\"/stocks/affordable-robotic-and-automation-AFF\">Affordable Robotic &amp; Automation Ltd</a></li>, <li class=\"jsx-1528870203\"><a class=\"jsx-1528870203\" href=\"/stocks/agarwal-industrial-corporation-AGWL\">Agarwal Industrial Corporation Ltd</a></li>, <li class=\"jsx-1528870203\"><a class=\"jsx-1528870203\" href=\"/stocks/agio-paper-and-industries-AGIO\">Agio Paper &amp; Industries Ltd</a></li>, <li class=\"jsx-1528870203\"><a class=\"jsx-1528870203\" href=\"/stocks/agri-tech-india-AGTL\">Agri-Tech (India) Ltd</a></li>, <li class=\"jsx-1528870203\"><a class=\"jsx-1528870203\" href=\"/stocks/agrimony-commodities-AGR\">Agrimony Commodities Ltd</a></li>, <li class=\"jsx-1528870203\"><a class=\"jsx-1528870203\" href=\"/stocks/agro-phos-india-AGRP\">Agro Phos India Ltd</a></li>, <li class=\"jsx-1528870203\"><a class=\"jsx-1528870203\" href=\"/stocks/agro-tech-foods-AGRO\">Agro Tech Foods Ltd</a></li>, <li class=\"jsx-1528870203\"><a class=\"jsx-1528870203\" href=\"/stocks/ahimsa-industries-AHIN\">Ahimsa Industries Ltd</a></li>, <li class=\"jsx-1528870203\"><a class=\"jsx-1528870203\" href=\"/stocks/ahlada-engineers-AHLA\">Ahlada Engineers Ltd</a></li>, <li class=\"jsx-1528870203\"><a class=\"jsx-1528870203\" href=\"/stocks/ahluwalia-contracts-india-AHLU\">Ahluwalia Contracts (India) Ltd</a></li>, <li class=\"jsx-1528870203\"><a class=\"jsx-1528870203\" href=\"/stocks/ahmedabad-steelcraft-AHM\">Ahmedabad Steel Craft Ltd</a></li>, <li class=\"jsx-1528870203\"><a class=\"jsx-1528870203\" href=\"/stocks/ai-champdany-industries-AICI\">Ai Champdany Industries Ltd</a></li>, <li class=\"jsx-1528870203\"><a class=\"jsx-1528870203\" href=\"/stocks/aimco-pesticides-AIMC\">Aimco Pesticides Ltd</a></li>, <li class=\"jsx-1528870203\"><a class=\"jsx-1528870203\" href=\"/stocks/airan-AIRA\">Airan Ltd</a></li>, <li class=\"jsx-1528870203\"><a class=\"jsx-1528870203\" href=\"/stocks/airolam-AIRO\">AiroLam Ltd</a></li>, <li class=\"jsx-1528870203\"><a class=\"jsx-1528870203\" href=\"/stocks/aishwarya-technologies-and-telecom-AIS\">Aishwarya Technologies and Telecom Ltd</a></li>, <li class=\"jsx-1528870203\"><a class=\"jsx-1528870203\" href=\"/stocks/ajanta-pharma-AJPH\">Ajanta Pharma Ltd</a></li>, <li class=\"jsx-1528870203\"><a class=\"jsx-1528870203\" href=\"/stocks/ajanta-soya-AJA\">Ajanta Soya Ltd</a></li>, <li class=\"jsx-1528870203\"><a class=\"jsx-1528870203\" href=\"/stocks/ajcon-global-services-AJC\">Ajcon Global Services Ltd</a></li>, <li class=\"jsx-1528870203\"><a class=\"jsx-1528870203\" href=\"/stocks/ajel-AJE\">Ajel Ltd</a></li>, <li class=\"jsx-1528870203\"><a class=\"jsx-1528870203\" href=\"/stocks/ajmera-realty-and-infra-india-AJME\">Ajmera Realty &amp; Infra India Ltd</a></li>, <li class=\"jsx-1528870203\"><a class=\"jsx-1528870203\" href=\"/stocks/ajooni-biotech-AJOO\">Ajooni Biotech Ltd</a></li>, <li class=\"jsx-1528870203\"><a class=\"jsx-1528870203\" href=\"/stocks/ajwa-fun-world-and-resort-AJW\">Ajwa Fun World and Resort Ltd</a></li>, <li class=\"jsx-1528870203\"><a class=\"jsx-1528870203\" href=\"/stocks/akar-auto-industries-AAI\">Akar Auto Industries Ltd</a></li>, <li class=\"jsx-1528870203\"><a class=\"jsx-1528870203\" href=\"/stocks/akash-infra-projects-AKAS\">Akash Infra-Projects Ltd</a></li>, <li class=\"jsx-1528870203\"><a class=\"jsx-1528870203\" href=\"/stocks/akashdeep-metal-industries-AKA\">Akashdeep Metal Industries Ltd</a></li>, <li class=\"jsx-1528870203\"><a class=\"jsx-1528870203\" href=\"/stocks/aksh-optifibre-AKSO\">Aksh Optifibre Ltd</a></li>, <li class=\"jsx-1528870203\"><a class=\"jsx-1528870203\" href=\"/stocks/akshar-spintex-AKS\">Akshar Spintex Ltd</a></li>, <li class=\"jsx-1528870203\"><a class=\"jsx-1528870203\" href=\"/stocks/aksharchem-india-AKSH\">Aksharchem (India) Ltd</a></li>, <li class=\"jsx-1528870203\"><a class=\"jsx-1528870203\" href=\"/stocks/akzo-nobel-india-AKZO\">Akzo Nobel India Ltd</a></li>, <li class=\"jsx-1528870203\"><a class=\"jsx-1528870203\" href=\"/stocks/alacrity-securities-ALSA\">Alacrity Securities Ltd</a></li>, <li class=\"jsx-1528870203\"><a class=\"jsx-1528870203\" href=\"/stocks/alan-scott-industries-ALAN\">Alan Scott Industriess Ltd</a></li>, <li class=\"jsx-1528870203\"><a class=\"jsx-1528870203\" href=\"/stocks/alankit-ALAK\">Alankit Ltd</a></li>, <li class=\"jsx-1528870203\"><a class=\"jsx-1528870203\" href=\"/stocks/albert-david-ALBD\">Albert David Ltd</a></li>, <li class=\"jsx-1528870203\"><a class=\"jsx-1528870203\" href=\"/stocks/alchemist-corporation-ALC\">Alchemist Corporation Ltd</a></li>, <li class=\"jsx-1528870203\"><a class=\"jsx-1528870203\" href=\"/stocks/alchemist-ALCL\">Alchemist Ltd</a></li>, <li class=\"jsx-1528870203\"><a class=\"jsx-1528870203\" href=\"/stocks/alembic-ALMC\">Alembic Ltd</a></li>, <li class=\"jsx-1528870203\"><a class=\"jsx-1528870203\" href=\"/stocks/alembic-pharmaceuticals-ALEM\">Alembic Pharmaceuticals Ltd</a></li>, <li class=\"jsx-1528870203\"><a class=\"jsx-1528870203\" href=\"/stocks/alexander-stamps-and-coin-ALE\">Alexander Stamps and Coin Ltd</a></li>, <li class=\"jsx-1528870203\"><a class=\"jsx-1528870203\" href=\"/stocks/alfa-ica-india-ALFAI\">Alfa Ica India Ltd</a></li>, <li class=\"jsx-1528870203\"><a class=\"jsx-1528870203\" href=\"/stocks/alfa-transformers-ALFAT\">Alfa Transformers Ltd</a></li>, <li class=\"jsx-1528870203\"><a class=\"jsx-1528870203\" href=\"/stocks/alfavision-overseas-ALFA\">Alfavision Overseas (India) Ltd</a></li>, <li class=\"jsx-1528870203\"><a class=\"jsx-1528870203\" href=\"/stocks/alfred-herbert-india-ALFR\">Alfred Herbert (India) Ltd</a></li>, <li class=\"jsx-1528870203\"><a class=\"jsx-1528870203\" href=\"/stocks/hindustan-everest-tools-HINDE\">Algoquant Fintech Ltd</a></li>, <li class=\"jsx-1528870203\"><a class=\"jsx-1528870203\" href=\"/stocks/alicon-castalloy-ALIO\">Alicon Castalloy Ltd</a></li>, <li class=\"jsx-1528870203\"><a class=\"jsx-1528870203\" href=\"/stocks/alka-securities-ALK\">Alka Securities Ltd</a></li>, <li class=\"jsx-1528870203\"><a class=\"jsx-1528870203\" href=\"/stocks/alkali-metals-ALML\">Alkali Metals Ltd</a></li>, <li class=\"jsx-1528870203\"><a class=\"jsx-1528870203\" href=\"/stocks/alkem-laboratories-ALKE\">Alkem Laboratories Ltd</a></li>, <li class=\"jsx-1528870203\"><a class=\"jsx-1528870203\" href=\"/stocks/alkosign-ALKO\">Alkosign Ltd</a></li>, <li class=\"jsx-1528870203\"><a class=\"jsx-1528870203\" href=\"/stocks/alkyl-amines-chemicals-ALKY\">Alkyl Amines Chemicals Ltd</a></li>, <li class=\"jsx-1528870203\"><a class=\"jsx-1528870203\" href=\"/stocks/allcargo-logistics-ACLL\">Allcargo Logistics Ltd</a></li>, <li class=\"jsx-1528870203\"><a class=\"jsx-1528870203\" href=\"/stocks/alliance-integrated-metaliks-AIM\">Alliance Integrated Metaliks Ltd</a></li>, <li class=\"jsx-1528870203\"><a class=\"jsx-1528870203\" href=\"/stocks/allied-digital-services-ADIS\">Allied Digital Services Ltd</a></li>, <li class=\"jsx-1528870203\"><a class=\"jsx-1528870203\" href=\"/stocks/allsec-technologies-ALLS\">Allsec Technologies Ltd</a></li>, <li class=\"jsx-1528870203\"><a class=\"jsx-1528870203\" href=\"/stocks/almondz-global-securities-ALSL\">Almondz Global Securities Ltd</a></li>, <li class=\"jsx-1528870203\"><a class=\"jsx-1528870203\" href=\"/stocks/alna-trading-and-exports-ALN\">Alna Trading and Exports Ltd</a></li>, <li class=\"jsx-1528870203\"><a class=\"jsx-1528870203\" href=\"/stocks/alok-industries-ALOK\">Alok Industries Ltd</a></li>, <li class=\"jsx-1528870203\"><a class=\"jsx-1528870203\" href=\"/stocks/alpa-laboratories-ALPA\">Alpa Laboratories Ltd</a></li>, <li class=\"jsx-1528870203\"><a class=\"jsx-1528870203\" href=\"/stocks/alphageo-india-ALPI\">Alphageo (India) Ltd</a></li>, <li class=\"jsx-1528870203\"><a class=\"jsx-1528870203\" href=\"/stocks/alphalogic-techsys-ALP\">Alphalogic Techsys Ltd</a></li>, <li class=\"jsx-1528870203\"><a class=\"jsx-1528870203\" href=\"/stocks/alpine-housing-development-corporation-ALPIN\">Alpine Housing Development Corporation Limited</a></li>, <li class=\"jsx-1528870203\"><a class=\"jsx-1528870203\" href=\"/stocks/alps-industries-ALPS\">Alps Industries Ltd</a></li>, <li class=\"jsx-1528870203\"><a class=\"jsx-1528870203\" href=\"/stocks/alps-motor-finance-ALPSM\">Alps Motor Finance Ltd</a></li>, <li class=\"jsx-1528870203\"><a class=\"jsx-1528870203\" href=\"/stocks/alstone-textiles-india-ALS\">Alstone Textiles (India) Ltd</a></li>, <li class=\"jsx-1528870203\"><a class=\"jsx-1528870203\" href=\"/stocks/alufluoride-ALU\">Alufluoride Ltd</a></li>, <li class=\"jsx-1528870203\"><a class=\"jsx-1528870203\" href=\"/stocks/amal-AMAA\">Amal Ltd</a></li>, <li class=\"jsx-1528870203\"><a class=\"jsx-1528870203\" href=\"/stocks/amalgamated-electricity-company-AMAL\">Amalgamated Electricity Company Ltd</a></li>, <li class=\"jsx-1528870203\"><a class=\"jsx-1528870203\" href=\"/stocks/amani-trading-and-exports-AMAN\">Amani Trading and Exports Ltd</a></li>, <li class=\"jsx-1528870203\"><a class=\"jsx-1528870203\" href=\"/stocks/amara-raja-batteries-AMAR\">Amara Raja Batteries Ltd</a></li>, <li class=\"jsx-1528870203\"><a class=\"jsx-1528870203\" href=\"/stocks/amarjothi-spinning-mills-AMARJ\">Amarjothi Spinning Mills Ltd</a></li>, <li class=\"jsx-1528870203\"><a class=\"jsx-1528870203\" href=\"/stocks/amarnath-securities-AMARS\">Amarnath Securities Ltd</a></li>, <li class=\"jsx-1528870203\"><a class=\"jsx-1528870203\" href=\"/stocks/amba-enterprises-AEL\">Amba Enterprises Ltd</a></li>, <li class=\"jsx-1528870203\"><a class=\"jsx-1528870203\" href=\"/stocks/ambalal-sarabhai-enterprises-AMBAS\">Ambalal Sarabhai Enterprises Ltd</a></li>, <li class=\"jsx-1528870203\"><a class=\"jsx-1528870203\" href=\"/stocks/ambani-organics-AMBN\">Ambani Organics Ltd</a></li>, <li class=\"jsx-1528870203\"><a class=\"jsx-1528870203\" href=\"/stocks/ambar-protein-industries-AMBA\">Ambar Protein Industries Ltd</a></li>, <li class=\"jsx-1528870203\"><a class=\"jsx-1528870203\" href=\"/stocks/ambassador-intra-holdings-AIH\">Ambassador Intra Holdings Ltd</a></li>, <li class=\"jsx-1528870203\"><a class=\"jsx-1528870203\" href=\"/stocks/amber-enterprises-india-AMBE\">Amber Enterprises India Ltd</a></li>, <li class=\"jsx-1528870203\"><a class=\"jsx-1528870203\" href=\"/stocks/ambica-agarbathies-aroma-and-industries-AAAI\">Ambica Agarbathies Aroma &amp; Industries Ltd</a></li>, <li class=\"jsx-1528870203\"><a class=\"jsx-1528870203\" href=\"/stocks/ambika-cotton-mills-AMBK\">Ambika Cotton Mills Ltd</a></li>, <li class=\"jsx-1528870203\"><a class=\"jsx-1528870203\" href=\"/stocks/ambition-mica-AMB\">Ambition Mica Ltd</a></li>, <li class=\"jsx-1528870203\"><a class=\"jsx-1528870203\" href=\"/stocks/ambuja-cements-ABUJ\">Ambuja Cements Ltd</a></li>, <li class=\"jsx-1528870203\"><a class=\"jsx-1528870203\" href=\"/stocks/amco-india-AMC\">Amco India Ltd</a></li>, <li class=\"jsx-1528870203\"><a class=\"jsx-1528870203\" href=\"/stocks/amradeep-industries-AMARD\">Amerise Biosciences Ltd</a></li>, <li class=\"jsx-1528870203\"><a class=\"jsx-1528870203\" href=\"/stocks/amforge-industries-AMFO\">Amforge Industries Ltd</a></li>, <li class=\"jsx-1528870203\"><a class=\"jsx-1528870203\" href=\"/stocks/ami-organics-AMIO\">Ami Organics Ltd</a></li>, <li class=\"jsx-1528870203\"><a class=\"jsx-1528870203\" href=\"/stocks/amin-tannery-AMI\">Amin Tannery Ltd</a></li>, <li class=\"jsx-1528870203\"><a class=\"jsx-1528870203\" href=\"/stocks/amines-and-plasticizers-AMN\">Amines and Plasticizers Ltd</a></li>, <li class=\"jsx-1528870203\"><a class=\"jsx-1528870203\" href=\"/stocks/amit-international-AMIT\">Amit International Ltd</a></li>, <li class=\"jsx-1528870203\"><a class=\"jsx-1528870203\" href=\"/stocks/amrapali-capital-and-finance-services-ACF\">Amrapali Capital and Finance Services Ltd</a></li>, <li class=\"jsx-1528870203\"><a class=\"jsx-1528870203\" href=\"/stocks/amrapali-fincap-AMR\">Amrapali Fincap Ltd</a></li>, <li class=\"jsx-1528870203\"><a class=\"jsx-1528870203\" href=\"/stocks/amrapali-industries-AMRAP\">Amrapali Industries Ltd</a></li>, <li class=\"jsx-1528870203\"><a class=\"jsx-1528870203\" href=\"/stocks/amraworld-agrico-AMRA\">Amraworld Agrico Ltd</a></li>, <li class=\"jsx-1528870203\"><a class=\"jsx-1528870203\" href=\"/stocks/amrit-corp-AMRI\">Amrit Corp Ltd</a></li>, <li class=\"jsx-1528870203\"><a class=\"jsx-1528870203\" href=\"/stocks/amrutanjan-health-care-AJAN\">Amrutanjan Health Care Ltd</a></li>, <li class=\"jsx-1528870203\"><a class=\"jsx-1528870203\" href=\"/stocks/anand-projects-ANAN\">Anand Projects Ltd</a></li>, <li class=\"jsx-1528870203\"><a class=\"jsx-1528870203\" href=\"/stocks/anand-rathi-wealth-ANAND\">Anand Rathi Wealth Ltd</a></li>, <li class=\"jsx-1528870203\"><a class=\"jsx-1528870203\" href=\"/stocks/anand-rayons-ARL\">Anand Rayons Ltd</a></li>, <li class=\"jsx-1528870203\"><a class=\"jsx-1528870203\" href=\"/stocks/anant-raj-ANRA\">Anant Raj Ltd</a></li>, <li class=\"jsx-1528870203\"><a class=\"jsx-1528870203\" href=\"/stocks/andhra-cements-ANDC\">Andhra Cements Ltd</a></li>, <li class=\"jsx-1528870203\"><a class=\"jsx-1528870203\" href=\"/stocks/andhra-paper-ANDA\">Andhra Paper Ltd</a></li>, <li class=\"jsx-1528870203\"><a class=\"jsx-1528870203\" href=\"/stocks/andhra-petrochemicals-AND\">Andhra Petrochemicals Ltd</a></li>, <li class=\"jsx-1528870203\"><a class=\"jsx-1528870203\" href=\"/stocks/andhra-sugars-ANDS\">Andhra Sugars Ltd</a></li>, <li class=\"jsx-1528870203\"><a class=\"jsx-1528870203\" href=\"/stocks/andrew-yule-and-company-ANDR\">Andrew Yule &amp; Co Ltd</a></li>, <li class=\"jsx-1528870203\"><a class=\"jsx-1528870203\" href=\"/stocks/aneri-fincap-ANE\">Aneri Fincap Ltd</a></li>, <li class=\"jsx-1528870203\"><a class=\"jsx-1528870203\" href=\"/stocks/angel-fibers-ANG\">Angel Fibers Ltd</a></li>, <li class=\"jsx-1528870203\"><a class=\"jsx-1528870203\" href=\"/stocks/angel-broking-ANGE\">Angel One Ltd</a></li>, <li class=\"jsx-1528870203\"><a class=\"jsx-1528870203\" href=\"/stocks/anik-industries-ANIK\">Anik Industries Ltd</a></li>, <li class=\"jsx-1528870203\"><a class=\"jsx-1528870203\" href=\"/stocks/anjani-finance-ANJ\">Anjani Finance Ltd</a></li>, <li class=\"jsx-1528870203\"><a class=\"jsx-1528870203\" href=\"/stocks/anjani-foods-ANJA\">Anjani Foods Ltd</a></li>, <li class=\"jsx-1528870203\"><a class=\"jsx-1528870203\" href=\"/stocks/anjani-portland-cement-ANCM\">Anjani Portland Cement Ltd</a></li>, <li class=\"jsx-1528870203\"><a class=\"jsx-1528870203\" href=\"/stocks/anjani-synthetics-ANJAN\">Anjani Synthetics Ltd</a></li>, <li class=\"jsx-1528870203\"><a class=\"jsx-1528870203\" href=\"/stocks/anka-india-ANK\">Anka India Ltd</a></li>, <li class=\"jsx-1528870203\"><a class=\"jsx-1528870203\" href=\"/stocks/ankit-metal-and-power-AMPL\">Ankit Metal &amp; Power Ltd</a></li>, <li class=\"jsx-1528870203\"><a class=\"jsx-1528870203\" href=\"/stocks/anmol-india-ANM\">Anmol India Ltd</a></li>, <li class=\"jsx-1528870203\"><a class=\"jsx-1528870203\" href=\"/stocks/anna-infrastructures-ANN\">Anna Infrastructures Ltd</a></li>, <li class=\"jsx-1528870203\"><a class=\"jsx-1528870203\" href=\"/stocks/ansal-buildwell-ANSA\">Ansal Buildwell Ltd</a></li>, <li class=\"jsx-1528870203\"><a class=\"jsx-1528870203\" href=\"/stocks/ansal-housing-ANSL\">Ansal Housing Ltd</a></li>, <li class=\"jsx-1528870203\"><a class=\"jsx-1528870203\" href=\"/stocks/ansal-properties-and-infrastructure-ANSP\">Ansal Properties and Infrastructure Ltd</a></li>, <li class=\"jsx-1528870203\"><a class=\"jsx-1528870203\" href=\"/stocks/anshuni-commercials-ANSH\">Anshuni Commercials Ltd</a></li>, <li class=\"jsx-1528870203\"><a class=\"jsx-1528870203\" href=\"/stocks/antarctica-ANTC\">Antarctica Ltd</a></li>, <li class=\"jsx-1528870203\"><a class=\"jsx-1528870203\" href=\"/stocks/antariksh-industries-ANT\">Antariksh Industries Ltd</a></li>, <li class=\"jsx-1528870203\"><a class=\"jsx-1528870203\" href=\"/stocks/antony-waste-handling-cell-AWH\">Antony Waste Handling Cell Ltd</a></li>, <li class=\"jsx-1528870203\"><a class=\"jsx-1528870203\" href=\"/stocks/anubhav-infrastructure-ANUB\">Anubhav Infrastructure Ltd</a></li>, <li class=\"jsx-1528870203\"><a class=\"jsx-1528870203\" href=\"/stocks/anuh-pharma-ANUH\">Anuh Pharma Ltd</a></li>, <li class=\"jsx-1528870203\"><a class=\"jsx-1528870203\" href=\"/stocks/anup-engineering-ANUE\">Anup Engineering Ltd</a></li>, <li class=\"jsx-1528870203\"><a class=\"jsx-1528870203\" href=\"/stocks/anupam-finserv-ANUPA\">Anupam Finserv Ltd</a></li>, <li class=\"jsx-1528870203\"><a class=\"jsx-1528870203\" href=\"/stocks/anupam-rasayan-india-ANUR\">Anupam Rasayan India Ltd</a></li>, <li class=\"jsx-1528870203\"><a class=\"jsx-1528870203\" href=\"/stocks/anuroop-packaging-ANU\">Anuroop Packaging Ltd</a></li>, <li class=\"jsx-1528870203\"><a class=\"jsx-1528870203\" href=\"/stocks/apar-industries-APAR\">Apar Industries Ltd</a></li>, <li class=\"jsx-1528870203\"><a class=\"jsx-1528870203\" href=\"/stocks/apcotex-industries-APCI\">Apcotex Industries Ltd</a></li>, <li class=\"jsx-1528870203\"><a class=\"jsx-1528870203\" href=\"/stocks/apex-capital-and-finance-ACFL\">Apex Capital and Finance Ltd</a></li>, <li class=\"jsx-1528870203\"><a class=\"jsx-1528870203\" href=\"/stocks/apex-frozen-foods-APEX\">Apex Frozen Foods Ltd</a></li>, <li class=\"jsx-1528870203\"><a class=\"jsx-1528870203\" href=\"/stocks/apis-india-API\">Apis India Ltd</a></li>, <li class=\"jsx-1528870203\"><a class=\"jsx-1528870203\" href=\"/stocks/aplab-APLAB\">Aplab Ltd</a></li>, <li class=\"jsx-1528870203\"><a class=\"jsx-1528870203\" href=\"/stocks/apollo-finvest-india-APOLL\">Apollo Finvest (India) Ltd</a></li>, <li class=\"jsx-1528870203\"><a class=\"jsx-1528870203\" href=\"/stocks/apollo-hospitals-enterprise-APLH\">Apollo Hospitals Enterprise Ltd</a></li>, <li class=\"jsx-1528870203\"><a class=\"jsx-1528870203\" href=\"/stocks/apollo-micro-systems-APLL\">Apollo Micro Systems Ltd</a></li>, <li class=\"jsx-1528870203\"><a class=\"jsx-1528870203\" href=\"/stocks/apollo-pipes-AOLL\">Apollo Pipes Ltd</a></li>, <li class=\"jsx-1528870203\"><a class=\"jsx-1528870203\" href=\"/stocks/apollo-sindoori-hotels-APOS\">Apollo Sindoori Hotels Ltd</a></li>, <li class=\"jsx-1528870203\"><a class=\"jsx-1528870203\" href=\"/stocks/apollo-tricoat-tubes-APOL\">Apollo Tricoat Tubes Ltd</a></li>, <li class=\"jsx-1528870203\"><a class=\"jsx-1528870203\" href=\"/stocks/apollo-tyres-APLO\">Apollo Tyres Limited</a></li>, <li class=\"jsx-1528870203\"><a class=\"jsx-1528870203\" href=\"/stocks/apoorva-leasing-finance-and-investment-co-APO\">Apoorva Leasing Finance and Investment Company Ltd</a></li>, <li class=\"jsx-1528870203\"><a class=\"jsx-1528870203\" href=\"/stocks/aptech-APTA\">Aptech Ltd</a></li>, <li class=\"jsx-1528870203\"><a class=\"jsx-1528870203\" href=\"/stocks/aptus-value-housing-finance-india-APTU\">Aptus Value Housing Finance India Ltd</a></li>, <li class=\"jsx-1528870203\"><a class=\"jsx-1528870203\" href=\"/stocks/arambhan-hospitality-services-ARA\">Arambhan Hospitality Services Ltd</a></li>, <li class=\"jsx-1528870203\"><a class=\"jsx-1528870203\" href=\"/stocks/aravali-securities-and-finance-ARAV\">Aravali Securities and Finance Ltd</a></li>, <li class=\"jsx-1528870203\"><a class=\"jsx-1528870203\" href=\"/stocks/arcee-industries-ARCE\">Arcee Industries Ltd</a></li>, <li class=\"jsx-1528870203\"><a class=\"jsx-1528870203\" href=\"/stocks/archana-software-ARSW\">Archana Software Ltd</a></li>, <li class=\"jsx-1528870203\"><a class=\"jsx-1528870203\" href=\"/stocks/archidply-decor-ADL\">Archidply Decor Ltd</a></li>, <li class=\"jsx-1528870203\"><a class=\"jsx-1528870203\" href=\"/stocks/archidply-industries-ARCY\">Archidply Industries Ltd</a></li>, <li class=\"jsx-1528870203\"><a class=\"jsx-1528870203\" href=\"/stocks/archies-ARGG\">Archies Ltd</a></li>, <li class=\"jsx-1528870203\"><a class=\"jsx-1528870203\" href=\"/stocks/archit-organosys-ARCH\">Archit Organosys Ltd</a></li>, <li class=\"jsx-1528870203\"><a class=\"jsx-1528870203\" href=\"/stocks/arcotech-ARCO\">Arcotech Ltd</a></li>, <li class=\"jsx-1528870203\"><a class=\"jsx-1528870203\" href=\"/stocks/arex-industries-AREX\">Arex Industries Ltd</a></li>, <li class=\"jsx-1528870203\"><a class=\"jsx-1528870203\" href=\"/stocks/arfin-india-ARF\">Arfin India Ltd</a></li>, <li class=\"jsx-1528870203\"><a class=\"jsx-1528870203\" href=\"/stocks/aries-agro-ARAI\">Aries Agro Ltd</a></li>, <li class=\"jsx-1528870203\"><a class=\"jsx-1528870203\" href=\"/stocks/arihant-capital-markets-ARIH\">Arihant Capital Markets Ltd</a></li>, <li class=\"jsx-1528870203\"><a class=\"jsx-1528870203\" href=\"/stocks/arihant-foundations-and-housing-ARFL\">Arihant Foundations &amp; Housing Ltd</a></li>, <li class=\"jsx-1528870203\"><a class=\"jsx-1528870203\" href=\"/stocks/arihant-superstructures-ARIS\">Arihant Superstructures Ltd</a></li>, <li class=\"jsx-1528870203\"><a class=\"jsx-1528870203\" href=\"/stocks/arihant-tournesol-ARH\">Arihant Tournesol Ltd</a></li>, <li class=\"jsx-1528870203\"><a class=\"jsx-1528870203\" href=\"/stocks/arihants-securities-ARISE\">Arihant's Securities Ltd</a></li>, <li class=\"jsx-1528870203\"><a class=\"jsx-1528870203\" href=\"/stocks/aris-international-ARISI\">Aris International Ltd</a></li>, <li class=\"jsx-1528870203\"><a class=\"jsx-1528870203\" href=\"/stocks/arman-financial-services-ARLF\">Arman Financial Services Ltd</a></li>, <li class=\"jsx-1528870203\"><a class=\"jsx-1528870203\" href=\"/stocks/arman-holdings-ARM\">Arman Holdings Ltd</a></li>, <li class=\"jsx-1528870203\"><a class=\"jsx-1528870203\" href=\"/stocks/arnold-holdings-ARN\">Arnold Holdings Ltd</a></li>, <li class=\"jsx-1528870203\"><a class=\"jsx-1528870203\" href=\"/stocks/aro-granite-industries-AROG\">Aro Granite Industries Ltd</a></li>, <li class=\"jsx-1528870203\"><a class=\"jsx-1528870203\" href=\"/stocks/aroma-enterprises-india-ARO\">Aroma Enterprises (India) Ltd</a></li>, <li class=\"jsx-1528870203\"><a class=\"jsx-1528870203\" href=\"/stocks/arrow-greentech-ARRO\">Arrow Greentech Ltd</a></li>, <li class=\"jsx-1528870203\"><a class=\"jsx-1528870203\" href=\"/stocks/arshiya-ARSH\">Arshiya Ltd</a></li>, <li class=\"jsx-1528870203\"><a class=\"jsx-1528870203\" href=\"/stocks/art-nirman-ARTN\">Art Nirman Ltd</a></li>, <li class=\"jsx-1528870203\"><a class=\"jsx-1528870203\" href=\"/stocks/artedz-fabs-ARTD\">Artedz Fabs Ltd</a></li>, <li class=\"jsx-1528870203\"><a class=\"jsx-1528870203\" href=\"/stocks/artefact-projects-ARTE\">Artefact Projects Ltd</a></li>, <li class=\"jsx-1528870203\"><a class=\"jsx-1528870203\" href=\"/stocks/artemis-electricals-ART\">Artemis Electricals and Projects Ltd</a></li>, <li class=\"jsx-1528870203\"><a class=\"jsx-1528870203\" href=\"/stocks/artemis-medicare-services-ATEM\">Artemis Medicare Services Ltd</a></li>, <li class=\"jsx-1528870203\"><a class=\"jsx-1528870203\" href=\"/stocks/artson-engineering-ARTS\">Artson Engineering Ltd</a></li>, <li class=\"jsx-1528870203\"><a class=\"jsx-1528870203\" href=\"/stocks/aruna-hotels-ARU\">Aruna Hotels Ltd</a></li>, <li class=\"jsx-1528870203\"><a class=\"jsx-1528870203\" href=\"/stocks/m-b-parikh-finstock-MBP\">Arunis Abode Ltd</a></li>, <li class=\"jsx-1528870203\"><a class=\"jsx-1528870203\" href=\"/stocks/arunjyoti-bio-ventures-ABV\">Arunjyoti Bio Ventures Ltd</a></li>, <li class=\"jsx-1528870203\"><a class=\"jsx-1528870203\" href=\"/stocks/arvee-laboratories-india-ARVE\">Arvee Laboratories (India) Ltd</a></li>, <li class=\"jsx-1528870203\"><a class=\"jsx-1528870203\" href=\"/stocks/arvind-fashions-ARVF\">Arvind Fashions Ltd</a></li>, <li class=\"jsx-1528870203\"><a class=\"jsx-1528870203\" href=\"/stocks/arvind-fashions-partly-paidup-AFL\">Arvind Fashions Ltd</a></li>, <li class=\"jsx-1528870203\"><a class=\"jsx-1528870203\" href=\"/stocks/arvind-ARVN\">Arvind Ltd</a></li>, <li class=\"jsx-1528870203\"><a class=\"jsx-1528870203\" href=\"/stocks/arvind-smartspaces-ARVD\">Arvind Smartspaces Ltd</a></li>, <li class=\"jsx-1528870203\"><a class=\"jsx-1528870203\" href=\"/stocks/aryaman-capital-markets-ARYA\">Aryaman Capital Markets Ltd</a></li>, <li class=\"jsx-1528870203\"><a class=\"jsx-1528870203\" href=\"/stocks/aryaman-financial-services-ARYAM\">Aryaman Financial Services Ltd</a></li>, <li class=\"jsx-1528870203\"><a class=\"jsx-1528870203\" href=\"/stocks/aryan-share-and-stock-brokers-ARY\">Aryan Share &amp; Stock Brokers Ltd</a></li>, <li class=\"jsx-1528870203\"><a class=\"jsx-1528870203\" href=\"/stocks/aryavan-enterprise-ARYAV\">Aryavan Enterprise Ltd</a></li>, <li class=\"jsx-1528870203\"><a class=\"jsx-1528870203\" href=\"/stocks/asahi-india-glass-AISG\">Asahi India Glass Ltd</a></li>, <li class=\"jsx-1528870203\"><a class=\"jsx-1528870203\" href=\"/stocks/asahi-industries-ASA\">Asahi Industries Ltd</a></li>, <li class=\"jsx-1528870203\"><a class=\"jsx-1528870203\" href=\"/stocks/asahi-songwon-colors-lucky-laminates-ASSC\">Asahi Songwon Colors Lucky Laminates Ltd</a></li>, <li class=\"jsx-1528870203\"><a class=\"jsx-1528870203\" href=\"/stocks/ascensive-educare-ASC\">Ascensive Educare Ltd</a></li>, <li class=\"jsx-1528870203\"><a class=\"jsx-1528870203\" href=\"/stocks/ascom-leasing-and-investments-ASCM\">Ascom Leasing &amp; Investments Ltd</a></li>, <li class=\"jsx-1528870203\"><a class=\"jsx-1528870203\" href=\"/stocks/ashapura-minechem-ASHM\">Ashapura Minechem Ltd</a></li>, <li class=\"jsx-1528870203\"><a class=\"jsx-1528870203\" href=\"/stocks/ashapuri-gold-ornament-AGO\">Ashapuri Gold Ornament Ltd</a></li>, <li class=\"jsx-1528870203\"><a class=\"jsx-1528870203\" href=\"/stocks/ashiana-agro-industries-ASHAI\">Ashiana Agro Industries Ltd</a></li>, <li class=\"jsx-1528870203\"><a class=\"jsx-1528870203\" href=\"/stocks/ashiana-housing-AHFN\">Ashiana Housing Ltd</a></li>, <li class=\"jsx-1528870203\"><a class=\"jsx-1528870203\" href=\"/stocks/ashiana-ispat-ASHIA\">Ashiana Ispat Ltd</a></li>, <li class=\"jsx-1528870203\"><a class=\"jsx-1528870203\" href=\"/stocks/ashika-credit-capital-ASHI\">Ashika Credit Capital Ltd</a></li>, <li class=\"jsx-1528870203\"><a class=\"jsx-1528870203\" href=\"/stocks/ashima-ASHL\">Ashima Ltd</a></li>, <li class=\"jsx-1528870203\"><a class=\"jsx-1528870203\" href=\"/stocks/ashirwad-capital-ASHC\">Ashirwad Capital Ltd</a></li>, <li class=\"jsx-1528870203\"><a class=\"jsx-1528870203\" href=\"/stocks/ashirwad-steels-and-industries-ASHS\">Ashirwad Steels And Industries Ltd</a></li>, <li class=\"jsx-1528870203\"><a class=\"jsx-1528870203\" href=\"/stocks/ashish-polyplast-ASHIS\">Ashish Polyplast Ltd</a></li>, <li class=\"jsx-1528870203\"><a class=\"jsx-1528870203\" href=\"/stocks/ashnisha-industries-ASH\">Ashnisha Industries Ltd</a></li>, <li class=\"jsx-1528870203\"><a class=\"jsx-1528870203\" href=\"/stocks/ashnoor-textile-mills-ASHN\">Ashnoor Textile Mills Ltd</a></li>, <li class=\"jsx-1528870203\"><a class=\"jsx-1528870203\" href=\"/stocks/ashok-alco-chem-ASHOK\">Ashok Alco-Chem Ltd</a></li>, <li class=\"jsx-1528870203\"><a class=\"jsx-1528870203\" href=\"/stocks/ashok-leyland-ASOK\">Ashok Leyland Ltd</a></li>, <li class=\"jsx-1528870203\"><a class=\"jsx-1528870203\" href=\"/stocks/ashoka-buildcon-ABDL\">Ashoka Buildcon Ltd</a></li>, <li class=\"jsx-1528870203\"><a class=\"jsx-1528870203\" href=\"/stocks/ashoka-metcast-AML\">Ashoka Metcast Ltd</a></li>, <li class=\"jsx-1528870203\"><a class=\"jsx-1528870203\" href=\"/stocks/ashoka-refineries-ASHO\">Ashoka Refineries Ltd</a></li>, <li class=\"jsx-1528870203\"><a class=\"jsx-1528870203\" href=\"/stocks/ashram-onlinecom-TATIA\">Ashram Online Com Ltd</a></li>, <li class=\"jsx-1528870203\"><a class=\"jsx-1528870203\" href=\"/stocks/asia-capital-ASI\">Asia Capital Ltd</a></li>, <li class=\"jsx-1528870203\"><a class=\"jsx-1528870203\" href=\"/stocks/asia-pack-ASIA\">Asia Pack Ltd</a></li>, <li class=\"jsx-1528870203\"><a class=\"jsx-1528870203\" href=\"/stocks/asian-oilfield-services-ASIAO\">Asian Energy Services Ltd</a></li>, <li class=\"jsx-1528870203\"><a class=\"jsx-1528870203\" href=\"/stocks/asian-granito-india-ASGI\">Asian Granito India Ltd</a></li>, <li class=\"jsx-1528870203\"><a class=\"jsx-1528870203\" href=\"/stocks/asian-hotels-north-ASHT\">Asian Hotels (North) Ltd</a></li>, <li class=\"jsx-1528870203\"><a class=\"jsx-1528870203\" href=\"/stocks/asian-hotels-west-ASHW\">Asian Hotels (West) Ltd</a></li>, <li class=\"jsx-1528870203\"><a class=\"jsx-1528870203\" href=\"/stocks/asian-hotels-east-ASHE\">Asian Hotels East Ltd</a></li>, <li class=\"jsx-1528870203\"><a class=\"jsx-1528870203\" href=\"/stocks/asian-paints-ASPN\">Asian Paints Ltd</a></li>, <li class=\"jsx-1528870203\"><a class=\"jsx-1528870203\" href=\"/stocks/asian-petroproducts-and-exports-ASIN\">Asian Petro Products and Exports Ltd</a></li>, <li class=\"jsx-1528870203\"><a class=\"jsx-1528870203\" href=\"/stocks/asian-star-company-AST\">Asian Star Co Ltd</a></li>, <li class=\"jsx-1528870203\"><a class=\"jsx-1528870203\" href=\"/stocks/asian-tea-and-exports-ASIAT\">Asian Tea &amp; Exports Ltd</a></li>, <li class=\"jsx-1528870203\"><a class=\"jsx-1528870203\" href=\"/stocks/asit-c-mehta-financial-services-ASIT\">Asit C Mehta Financial Services Ltd</a></li>, <li class=\"jsx-1528870203\"><a class=\"jsx-1528870203\" href=\"/stocks/aspinwall-and-co-ASPI\">Aspinwall &amp; Co Ltd</a></li>, <li class=\"jsx-1528870203\"><a class=\"jsx-1528870203\" href=\"/stocks/aspira-pathlab-and-diagnostics-ASP\">Aspira Pathlab &amp; Diagnostics Ltd</a></li>, <li class=\"jsx-1528870203\"><a class=\"jsx-1528870203\" href=\"/stocks/assam-entrade-ASS\">Assam Entrade Ltd</a></li>, <li class=\"jsx-1528870203\"><a class=\"jsx-1528870203\" href=\"/stocks/associated-alcohols-and-breweries-ASAL\">Associated Alcohols &amp; Breweries Ltd</a></li>, <li class=\"jsx-1528870203\"><a class=\"jsx-1528870203\" href=\"/stocks/astec-lifesciences-ASTE\">Astec Lifesciences Ltd</a></li>, <li class=\"jsx-1528870203\"><a class=\"jsx-1528870203\" href=\"/stocks/aster-dm-healthcare-ATRD\">Aster DM Healthcare Ltd</a></li>, <li class=\"jsx-1528870203\"><a class=\"jsx-1528870203\" href=\"/stocks/astra-micro-wave-products-ASTM\">Astra Micro Wave Products Ltd</a></li>, <li class=\"jsx-1528870203\"><a class=\"jsx-1528870203\" href=\"/stocks/astral-poly-technik-ASPT\">Astral Ltd</a></li>, <li class=\"jsx-1528870203\"><a class=\"jsx-1528870203\" href=\"/stocks/astrazeneca-pharma-india-ASTR\">Astrazeneca Pharma India Ltd</a></li>, <li class=\"jsx-1528870203\"><a class=\"jsx-1528870203\" href=\"/stocks/astron-paper-and-board-mill-ASTO\">Astron Paper &amp; Board Mill Ltd</a></li>, <li class=\"jsx-1528870203\"><a class=\"jsx-1528870203\" href=\"/stocks/asutosh-enterprises-ASU\">Asutosh Enterprises Ltd</a></li>, <li class=\"jsx-1528870203\"><a class=\"jsx-1528870203\" href=\"/stocks/asya-infosoft-ASYA\">Asya Infosoft Ltd</a></li>, <li class=\"jsx-1528870203\"><a class=\"jsx-1528870203\" href=\"/stocks/atal-realtech-ATAL\">Atal Realtech Ltd</a></li>, <li class=\"jsx-1528870203\"><a class=\"jsx-1528870203\" href=\"/stocks/atam-valves-ATA\">Atam Valves Ltd</a></li>, <li class=\"jsx-1528870203\"><a class=\"jsx-1528870203\" href=\"/stocks/atharv-enterprises-ATHA\">Atharv Enterprises Ltd</a></li>, <li class=\"jsx-1528870203\"><a class=\"jsx-1528870203\" href=\"/stocks/athena-constructions-ATH\">Athena Constructions Ltd</a></li>, <li class=\"jsx-1528870203\"><a class=\"jsx-1528870203\" href=\"/stocks/athena-global-technologies-ATHE\">Athena Global Technologies Ltd</a></li>, <li class=\"jsx-1528870203\"><a class=\"jsx-1528870203\" href=\"/stocks/atishay-ATI\">Atishay Ltd</a></li>, <li class=\"jsx-1528870203\"><a class=\"jsx-1528870203\" href=\"/stocks/atlanta-ATLT\">Atlanta Ltd</a></li>, <li class=\"jsx-1528870203\"><a class=\"jsx-1528870203\" href=\"/stocks/atlas-cycles-haryana-ATCY\">Atlas Cycles Haryana Ltd</a></li>, <li class=\"jsx-1528870203\"><a class=\"jsx-1528870203\" href=\"/stocks/atlas-jewellery-india-AJI\">Atlas Jewellery India Ltd</a></li>, <li class=\"jsx-1528870203\"><a class=\"jsx-1528870203\" href=\"/stocks/atul-auto-ATUL\">Atul Auto Ltd</a></li>, <li class=\"jsx-1528870203\"><a class=\"jsx-1528870203\" href=\"/stocks/atul-ATLP\">Atul Ltd</a></li>, <li class=\"jsx-1528870203\"><a class=\"jsx-1528870203\" href=\"/stocks/aurangabad-distillery-AURA\">Aurangabad Distillery Ltd</a></li>, <li class=\"jsx-1528870203\"><a class=\"jsx-1528870203\" href=\"/stocks/aurionpro-solutions-APSL\">Aurionpro Solutions Ltd</a></li>, <li class=\"jsx-1528870203\"><a class=\"jsx-1528870203\" href=\"/stocks/auro-laboratories-AURO\">Auro Laboratories Ltd</a></li>, <li class=\"jsx-1528870203\"><a class=\"jsx-1528870203\" href=\"/stocks/aurobindo-pharma-ARBN\">Aurobindo Pharma Ltd</a></li>, <li class=\"jsx-1528870203\"><a class=\"jsx-1528870203\" href=\"/stocks/majesco-MAJC\">Aurum Proptech Ltd</a></li>, <li class=\"jsx-1528870203\"><a class=\"jsx-1528870203\" href=\"/stocks/ausom-enterprise-AUSM\">Ausom Enterprise Ltd</a></li>, <li class=\"jsx-1528870203\"><a class=\"jsx-1528870203\" href=\"/stocks/austin-engineering-company-AUS\">Austin Engineering Company Ltd</a></li>, <li class=\"jsx-1528870203\"><a class=\"jsx-1528870203\" href=\"/stocks/authum-investment-and-infrastructure-AII\">Authum Investment &amp; Infrastructure Ltd</a></li>, <li class=\"jsx-1528870203\"><a class=\"jsx-1528870203\" href=\"/stocks/auto-pins-india-AUTO\">Auto Pins India Ltd</a></li>, <li class=\"jsx-1528870203\"><a class=\"jsx-1528870203\" href=\"/stocks/autoline-industries-AUIN\">Autoline Industries Ltd</a></li>, <li class=\"jsx-1528870203\"><a class=\"jsx-1528870203\" href=\"/stocks/autolite-india-AUTL\">Autolite India Ltd</a></li>, <li class=\"jsx-1528870203\"><a class=\"jsx-1528870203\" href=\"/stocks/automobile-corporation-of-goa-AUTOC\">Automobile Corp Of Goa Ltd</a></li>, <li class=\"jsx-1528870203\"><a class=\"jsx-1528870203\" href=\"/stocks/automotive-axles-ATOA\">Automotive Axles Ltd</a></li>, <li class=\"jsx-1528870203\"><a class=\"jsx-1528870203\" href=\"/stocks/automotive-stampings-and-assemblies-ASAS\">Automotive Stampings and Assemblies Ltd</a></li>, <li class=\"jsx-1528870203\"><a class=\"jsx-1528870203\" href=\"/stocks/autoriders-international-AUTOI\">Autoriders International Ltd</a></li>, <li class=\"jsx-1528870203\"><a class=\"jsx-1528870203\" href=\"/stocks/autumn-builders-AUT\">Autumn Builders Ltd</a></li>, <li class=\"jsx-1528870203\"><a class=\"jsx-1528870203\" href=\"/stocks/avadh-sugar-and-energy-AVAD\">Avadh Sugar &amp; Energy Ltd</a></li>, <li class=\"jsx-1528870203\"><a class=\"jsx-1528870203\" href=\"/stocks/available-finance-AVAI\">Available Finance Ltd</a></li>, <li class=\"jsx-1528870203\"><a class=\"jsx-1528870203\" href=\"/stocks/avantel-AVA\">Avantel Ltd</a></li>, <li class=\"jsx-1528870203\"><a class=\"jsx-1528870203\" href=\"/stocks/avanti-feeds-AVNT\">Avanti Feeds Ltd</a></li>, <li class=\"jsx-1528870203\"><a class=\"jsx-1528870203\" href=\"/stocks/avenue-supermarts-AVEU\">Avenue Supermarts Ltd</a></li>, <li class=\"jsx-1528870203\"><a class=\"jsx-1528870203\" href=\"/stocks/aviva-industries-AVIV\">Aviva Industries Ltd</a></li>, <li class=\"jsx-1528870203\"><a class=\"jsx-1528870203\" href=\"/stocks/avonmore-capital-and-management-services-AVON\">Avonmore Capital &amp; Management Services Ltd</a></li>, <li class=\"jsx-1528870203\"><a class=\"jsx-1528870203\" href=\"/stocks/avro-india-AVRI\">Avro India Ltd</a></li>, <li class=\"jsx-1528870203\"><a class=\"jsx-1528870203\" href=\"/stocks/axel-polymers-AXE\">Axel Polymers Ltd</a></li>, <li class=\"jsx-1528870203\"><a class=\"jsx-1528870203\" href=\"/etfs/axis-aaa-bond-plus-sdl-etf-2026-matur-reg-growth-AXISB\">Axis AAA Bond Plus SDL ETF-2026 Matur. Reg. Growth</a></li>, <li class=\"jsx-1528870203\"><a class=\"jsx-1528870203\" href=\"/stocks/axis-bank-AXBK\">Axis Bank Ltd</a></li>, <li class=\"jsx-1528870203\"><a class=\"jsx-1528870203\" href=\"/etfs/axis-banking-etf-AXIS\">Axis Banking ETF</a></li>, <li class=\"jsx-1528870203\"><a class=\"jsx-1528870203\" href=\"/etfs/axis-consumption-etf-AXISC\">Axis Consumption ETF</a></li>, <li class=\"jsx-1528870203\"><a class=\"jsx-1528870203\" href=\"/etfs/axis-gold-etf-AXGF\">Axis Gold ETF</a></li>, <li class=\"jsx-1528870203\"><a class=\"jsx-1528870203\" href=\"/etfs/axis-healthcare-etf-AXISH\">Axis Healthcare ETF</a></li>, <li class=\"jsx-1528870203\"><a class=\"jsx-1528870203\" href=\"/etfs/axis-nifty-50-etf-AISN\">Axis Nifty 50 ETF</a></li>, <li class=\"jsx-1528870203\"><a class=\"jsx-1528870203\" href=\"/etfs/axis-technology-etf-regular-growth-AXIST\">Axis Technology ETF Regular Growth</a></li>, <li class=\"jsx-1528870203\"><a class=\"jsx-1528870203\" href=\"/stocks/axiscades-technologies-AXIT\">Axiscades Technologies Ltd</a></li>, <li class=\"jsx-1528870203\"><a class=\"jsx-1528870203\" href=\"/stocks/axita-cotton-AXI\">Axita Cotton Ltd</a></li>, <li class=\"jsx-1528870203\"><a class=\"jsx-1528870203\" href=\"/stocks/axtel-industries-AXT\">Axtel Industries Ltd</a></li>, <li class=\"jsx-1528870203\"><a class=\"jsx-1528870203\" href=\"/stocks/aym-syntex-AYMS\">Aym Syntex Ltd</a></li>, <li class=\"jsx-1528870203\"><a class=\"jsx-1528870203\" href=\"/stocks/ayoki-merchantile-AYO\">Ayoki Merchantile Ltd</a></li>, <li class=\"jsx-3952893776\"><a class=\"jsx-3952893776\" href=\"/screener/equity\">Stock Screener</a></li>, <li class=\"jsx-3952893776\"><a class=\"jsx-3952893776\" href=\"/screener/mutual-fund\">MF Screener</a></li>, <li class=\"jsx-3952893776\"><a class=\"jsx-3952893776\" href=\"/market-mood-index\">MMI</a></li>, <li class=\"jsx-3952893776\"><a class=\"jsx-3952893776\" href=\"/stockdeals\">Stock Deals</a></li>, <li class=\"jsx-3952893776\"><a class=\"jsx-3952893776\" href=\"http://www.tickertape.in/learn/\" rel=\"noopener noreferrer\" target=\"_blank\">Learn</a></li>, <li class=\"jsx-3952893776\"><a class=\"jsx-3952893776\" href=\"https://www.tickertape.in/blog/\" rel=\"noopener noreferrer\" target=\"_blank\">Blog</a></li>, <li class=\"jsx-3952893776\"><a class=\"jsx-3952893776\" href=\"/pricing\">Pricing</a></li>, <li class=\"jsx-3952893776\"><a class=\"jsx-3952893776\" href=\"/meta/cancellation\" rel=\"noopener noreferrer nofollow\">Cancellation Policy</a></li>, <li class=\"jsx-3952893776\"><a class=\"jsx-3952893776\" href=\"/meta/terms\">Terms</a></li>, <li class=\"jsx-3952893776\"><a class=\"jsx-3952893776\" href=\"/meta/privacy\">Privacy</a></li>, <li class=\"jsx-3952893776\"><a class=\"jsx-3952893776\" href=\"/meta/disclaimer\">Disclaimers</a></li>, <li class=\"jsx-3952893776\"><a class=\"jsx-3952893776\" href=\"/meta/about\">About Us</a></li>, <li class=\"jsx-3952893776\"><a class=\"jsx-3952893776\" href=\"http://help.tickertape.in/\" rel=\"noopener noreferrer\" target=\"_blank\">Support</a></li>, <li class=\"jsx-3952893776\"><a class=\"jsx-3952893776\" href=\"/meta/about#contact\">Contact Us</a></li>]\n"
          ]
        }
      ]
    },
    {
      "cell_type": "code",
      "source": [
        "# let's see one of the li\n",
        "htmlBlock[0]"
      ],
      "metadata": {
        "colab": {
          "base_uri": "https://localhost:8080/"
        },
        "id": "iKLzlPeikk3R",
        "outputId": "19a5a056-532f-4fdb-c1f2-d2e0c183d270"
      },
      "execution_count": 10,
      "outputs": [
        {
          "output_type": "execute_result",
          "data": {
            "text/plain": [
              "<li class=\"jsx-1528870203\"><a class=\"jsx-1528870203\" href=\"/stocks/a-and-m-febcon-AMF\">A &amp; M Febcon Ltd</a></li>"
            ]
          },
          "metadata": {},
          "execution_count": 10
        }
      ]
    },
    {
      "cell_type": "code",
      "source": [
        "# let's extract the company name\n",
        "htmlBlock[0].a.text"
      ],
      "metadata": {
        "id": "MREv_HziDQVD",
        "outputId": "2f3ae4bc-2823-4a0d-b444-d20d78faadc5",
        "colab": {
          "base_uri": "https://localhost:8080/",
          "height": 35
        }
      },
      "execution_count": 11,
      "outputs": [
        {
          "output_type": "execute_result",
          "data": {
            "text/plain": [
              "'A & M Febcon Ltd'"
            ],
            "application/vnd.google.colaboratory.intrinsic+json": {
              "type": "string"
            }
          },
          "metadata": {},
          "execution_count": 11
        }
      ]
    },
    {
      "cell_type": "code",
      "source": [
        "# let's extract the link or path to the url subdirectory\n",
        "htmlBlock[0].a['href'].split('/')[2]"
      ],
      "metadata": {
        "colab": {
          "base_uri": "https://localhost:8080/",
          "height": 35
        },
        "id": "SeCk6rkok1eZ",
        "outputId": "f488d912-1b6e-42ce-96d4-f5fbda7f7859"
      },
      "execution_count": 12,
      "outputs": [
        {
          "output_type": "execute_result",
          "data": {
            "text/plain": [
              "'a-and-m-febcon-AMF'"
            ],
            "application/vnd.google.colaboratory.intrinsic+json": {
              "type": "string"
            }
          },
          "metadata": {},
          "execution_count": 12
        }
      ]
    },
    {
      "cell_type": "code",
      "source": [
        "# let's apply the map to all the list of li\n",
        "fullList = list(map(lambda element: element.a['href'], htmlBlock))\n",
        "fullList[0:9]"
      ],
      "metadata": {
        "colab": {
          "base_uri": "https://localhost:8080/"
        },
        "id": "pb-7SN0PjJq9",
        "outputId": "b313ed6a-977e-4d34-9910-fc0cbeaa4be5"
      },
      "execution_count": 13,
      "outputs": [
        {
          "output_type": "execute_result",
          "data": {
            "text/plain": [
              "['/stocks/a-and-m-febcon-AMF',\n",
              " '/stocks/ab-cotspin-india-ABCO',\n",
              " '/stocks/a-b-infrabuild-ABIN',\n",
              " '/stocks/a-f-enterprises-AFE',\n",
              " '/stocks/a-infrastructure-AIN',\n",
              " '/stocks/akcapital-services-AKC',\n",
              " '/stocks/a-and-m-jumbo-bags-AMJU',\n",
              " '/stocks/a-1-acid-AAL',\n",
              " '/stocks/a2z-infra-engineering-A2ZI']"
            ]
          },
          "metadata": {},
          "execution_count": 13
        }
      ]
    },
    {
      "cell_type": "code",
      "source": [
        "# apply map & filter to pick the stock links only, as we found other links too in the list\n",
        "stocksList = list(map(lambda x: x.split('/')[2], filter(lambda x: True if \"stocks\" in x else False, fullList)))\n",
        "stocksList[0:10]"
      ],
      "metadata": {
        "colab": {
          "base_uri": "https://localhost:8080/"
        },
        "id": "xznU5MmHkAM2",
        "outputId": "8b66bdde-91c6-4813-955e-c61cef129e8f"
      },
      "execution_count": 14,
      "outputs": [
        {
          "output_type": "execute_result",
          "data": {
            "text/plain": [
              "['a-and-m-febcon-AMF',\n",
              " 'ab-cotspin-india-ABCO',\n",
              " 'a-b-infrabuild-ABIN',\n",
              " 'a-f-enterprises-AFE',\n",
              " 'a-infrastructure-AIN',\n",
              " 'akcapital-services-AKC',\n",
              " 'a-and-m-jumbo-bags-AMJU',\n",
              " 'a-1-acid-AAL',\n",
              " 'a2z-infra-engineering-A2ZI',\n",
              " 'aa-plus-tradelink-AAP']"
            ]
          },
          "metadata": {},
          "execution_count": 14
        }
      ]
    },
    {
      "cell_type": "code",
      "source": [
        "# similarty, apply map & filter to pick the etfs only\n",
        "etfsList = list(map(lambda x: x.split('/')[2], filter(lambda x: True if \"etfs\" in x else False, fullList)))\n",
        "etfsList[0:10]"
      ],
      "metadata": {
        "colab": {
          "base_uri": "https://localhost:8080/"
        },
        "id": "LmUJL9sQp6Hg",
        "outputId": "219804db-54cc-456f-ced3-271b393feb9b"
      },
      "execution_count": 15,
      "outputs": [
        {
          "output_type": "execute_result",
          "data": {
            "text/plain": [
              "['aditya-bsl-gold-etf-AITY',\n",
              " 'aditya-bsl-nifty-50-etf-ADIY',\n",
              " 'aditya-bsl-sensex-30-etf-BSL',\n",
              " 'aditya-birla-sun-life-nifty-healthcare-etf-HEALT',\n",
              " 'aditya-birla-sun-life-nifty-bank-etf-ADIL',\n",
              " 'aditya-birla-sun-life-nifty-it-etf-TECT',\n",
              " 'aditya-birla-sun-life-nifty-next-50-etf-ADIB',\n",
              " 'aditya-birla-sun-life-silver-etf-SILVR',\n",
              " 'axis-aaa-bond-plus-sdl-etf-2026-matur-reg-growth-AXISB',\n",
              " 'axis-banking-etf-AXIS']"
            ]
          },
          "metadata": {},
          "execution_count": 15
        }
      ]
    },
    {
      "cell_type": "code",
      "source": [
        "# combining to get full list of all the stocks and etfs\n",
        "list(filter(lambda x: True if \"etfs\" in x or \"stocks\" in x else False, fullList))[0:10]"
      ],
      "metadata": {
        "id": "37f4vyMTqDvZ",
        "outputId": "c28f97c1-f593-4705-8504-828a6d866b74",
        "colab": {
          "base_uri": "https://localhost:8080/"
        }
      },
      "execution_count": 16,
      "outputs": [
        {
          "output_type": "execute_result",
          "data": {
            "text/plain": [
              "['/stocks/a-and-m-febcon-AMF',\n",
              " '/stocks/ab-cotspin-india-ABCO',\n",
              " '/stocks/a-b-infrabuild-ABIN',\n",
              " '/stocks/a-f-enterprises-AFE',\n",
              " '/stocks/a-infrastructure-AIN',\n",
              " '/stocks/akcapital-services-AKC',\n",
              " '/stocks/a-and-m-jumbo-bags-AMJU',\n",
              " '/stocks/a-1-acid-AAL',\n",
              " '/stocks/a2z-infra-engineering-A2ZI',\n",
              " '/stocks/aa-plus-tradelink-AAP']"
            ]
          },
          "metadata": {},
          "execution_count": 16
        }
      ]
    },
    {
      "cell_type": "code",
      "source": [
        "# let's come up with another map & filter, to form a full json/dictionary list with type, instead of two separate lists of stocks & etfs\n",
        "filteredHtmlBlock = list(filter(lambda x: True if \"etfs\" in x.a['href'] or \"stocks\" in x.a['href'] else False, htmlBlock))\n",
        "filteredHtmlBlock[0:10]"
      ],
      "metadata": {
        "id": "i_tgI14AFDRD",
        "outputId": "b84c4818-52f7-4d41-c63a-b81dc202e365",
        "colab": {
          "base_uri": "https://localhost:8080/"
        }
      },
      "execution_count": 17,
      "outputs": [
        {
          "output_type": "execute_result",
          "data": {
            "text/plain": [
              "[<li class=\"jsx-1528870203\"><a class=\"jsx-1528870203\" href=\"/stocks/a-and-m-febcon-AMF\">A &amp; M Febcon Ltd</a></li>,\n",
              " <li class=\"jsx-1528870203\"><a class=\"jsx-1528870203\" href=\"/stocks/ab-cotspin-india-ABCO\">A B Cotspin India Ltd</a></li>,\n",
              " <li class=\"jsx-1528870203\"><a class=\"jsx-1528870203\" href=\"/stocks/a-b-infrabuild-ABIN\">A B Infrabuild Ltd</a></li>,\n",
              " <li class=\"jsx-1528870203\"><a class=\"jsx-1528870203\" href=\"/stocks/a-f-enterprises-AFE\">A F Enterprises Ltd</a></li>,\n",
              " <li class=\"jsx-1528870203\"><a class=\"jsx-1528870203\" href=\"/stocks/a-infrastructure-AIN\">A Infrastructure Ltd</a></li>,\n",
              " <li class=\"jsx-1528870203\"><a class=\"jsx-1528870203\" href=\"/stocks/akcapital-services-AKC\">A K Capital Services Ltd</a></li>,\n",
              " <li class=\"jsx-1528870203\"><a class=\"jsx-1528870203\" href=\"/stocks/a-and-m-jumbo-bags-AMJU\">A and M Jumbo Bags Ltd</a></li>,\n",
              " <li class=\"jsx-1528870203\"><a class=\"jsx-1528870203\" href=\"/stocks/a-1-acid-AAL\">A-1 Acid Ltd</a></li>,\n",
              " <li class=\"jsx-1528870203\"><a class=\"jsx-1528870203\" href=\"/stocks/a2z-infra-engineering-A2ZI\">A2z Infra Engineering Ltd</a></li>,\n",
              " <li class=\"jsx-1528870203\"><a class=\"jsx-1528870203\" href=\"/stocks/aa-plus-tradelink-AAP\">AA Plus Tradelink Ltd</a></li>]"
            ]
          },
          "metadata": {},
          "execution_count": 17
        }
      ]
    },
    {
      "cell_type": "code",
      "source": [
        "# and... done!\n",
        "data = list(map(lambda x: {\"name\": x.a.text, \"type\": x.a['href'].split('/')[1], \"subdirectory\": x.a['href'].split('/')[2]}, filteredHtmlBlock))\n",
        "data[0:5]"
      ],
      "metadata": {
        "id": "xeEApaA4EQXG",
        "outputId": "ee6a0c57-dbcb-42e0-fe3a-2b853ef4e9aa",
        "colab": {
          "base_uri": "https://localhost:8080/"
        }
      },
      "execution_count": 18,
      "outputs": [
        {
          "output_type": "execute_result",
          "data": {
            "text/plain": [
              "[{'name': 'A & M Febcon Ltd',\n",
              "  'subdirectory': 'a-and-m-febcon-AMF',\n",
              "  'type': 'stocks'},\n",
              " {'name': 'A B Cotspin India Ltd',\n",
              "  'subdirectory': 'ab-cotspin-india-ABCO',\n",
              "  'type': 'stocks'},\n",
              " {'name': 'A B Infrabuild Ltd',\n",
              "  'subdirectory': 'a-b-infrabuild-ABIN',\n",
              "  'type': 'stocks'},\n",
              " {'name': 'A F Enterprises Ltd',\n",
              "  'subdirectory': 'a-f-enterprises-AFE',\n",
              "  'type': 'stocks'},\n",
              " {'name': 'A Infrastructure Ltd',\n",
              "  'subdirectory': 'a-infrastructure-AIN',\n",
              "  'type': 'stocks'}]"
            ]
          },
          "metadata": {},
          "execution_count": 18
        }
      ]
    },
    {
      "cell_type": "markdown",
      "source": [
        "## Let us try and extract data (from all the pages)"
      ],
      "metadata": {
        "id": "S3qKyYSUuBFN"
      }
    },
    {
      "cell_type": "markdown",
      "source": [
        "Hit \"https://www.tickertape.in/stocks?filter={filter}\" with filter = \"Top\", \"A\"-\"Z\" and \"Others\""
      ],
      "metadata": {
        "id": "Pcn82_QzcLGq"
      }
    },
    {
      "cell_type": "code",
      "source": [
        "# declare the filter values for all the pages\n",
        "top = [\"top\"]\n",
        "a_z = list(\"abcdefghijklmnopqrstuvwxyz\")\n",
        "others = [\"others\"]"
      ],
      "metadata": {
        "id": "Xt7sHvpKcwQ5"
      },
      "execution_count": 19,
      "outputs": []
    },
    {
      "cell_type": "code",
      "source": [
        "# TODO"
      ],
      "metadata": {
        "id": "W4Z92OZJuGHt"
      },
      "execution_count": 20,
      "outputs": []
    },
    {
      "cell_type": "code",
      "source": [
        ""
      ],
      "metadata": {
        "id": "EiKv3TYMuHUt"
      },
      "execution_count": 20,
      "outputs": []
    }
  ]
}