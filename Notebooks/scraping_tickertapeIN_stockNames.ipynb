{
  "nbformat": 4,
  "nbformat_minor": 0,
  "metadata": {
    "colab": {
      "name": "Web Scraping tickertapeIN - stock names.ipynb",
      "provenance": [],
      "authorship_tag": "ABX9TyPpptJhpbHr2b29O2DgW+D2",
      "include_colab_link": true
    },
    "kernelspec": {
      "name": "python3",
      "display_name": "Python 3"
    },
    "language_info": {
      "name": "python"
    }
  },
  "cells": [
    {
      "cell_type": "markdown",
      "metadata": {
        "id": "view-in-github",
        "colab_type": "text"
      },
      "source": [
        "<a href=\"https://colab.research.google.com/github/mratanusarkar/Web-Scraping-tickertapeIN/blob/main/Notebooks/scraping_tickertapeIN_stockNames.ipynb\" target=\"_parent\"><img src=\"https://colab.research.google.com/assets/colab-badge.svg\" alt=\"Open In Colab\"/></a>"
      ]
    },
    {
      "cell_type": "markdown",
      "source": [
        "# Web Scraping all stock names from tickertape.in"
      ],
      "metadata": {
        "id": "jFWK4XraZsGc"
      }
    },
    {
      "cell_type": "markdown",
      "source": [
        "**Input**: None <br>\n",
        "**Output**: 2 list of strings containing \"Top\" stock names and \"All\" stock names on \"https://www.tickertape.in/stocks\""
      ],
      "metadata": {
        "id": "SjQw016pZ5bg"
      }
    },
    {
      "cell_type": "markdown",
      "source": [
        "## Import Packages"
      ],
      "metadata": {
        "id": "OcFpi1cFcDW0"
      }
    },
    {
      "cell_type": "code",
      "source": [
        "import numpy as np\n",
        "import pandas as pd\n",
        "import requests\n",
        "from bs4 import BeautifulSoup\n",
        "\n",
        "import json\n",
        "import time\n",
        "from datetime import timedelta"
      ],
      "metadata": {
        "id": "c0wD-RzybeO9"
      },
      "execution_count": 1,
      "outputs": []
    },
    {
      "cell_type": "markdown",
      "source": [
        "## Request and Fetch the Webpage (for one sample page)"
      ],
      "metadata": {
        "id": "igOJKmX7cIWj"
      }
    },
    {
      "cell_type": "code",
      "source": [
        "# hit \"https://www.tickertape.in/stocks?filter=<filter-value>\"\n",
        "requests.get(\"https://www.tickertape.in/stocks?filter=a\")"
      ],
      "metadata": {
        "colab": {
          "base_uri": "https://localhost:8080/"
        },
        "id": "uN6CTb4tcWTd",
        "outputId": "ed449ef1-cbd5-4f66-b013-32579c57e62c"
      },
      "execution_count": 2,
      "outputs": [
        {
          "output_type": "execute_result",
          "data": {
            "text/plain": [
              "<Response [200]>"
            ]
          },
          "metadata": {},
          "execution_count": 2
        }
      ]
    },
    {
      "cell_type": "code",
      "source": [
        "# wow! no restriction for bots! no need of any headers!\n",
        "response = requests.get(\"https://www.tickertape.in/stocks?filter=a\")\n",
        "response.text[0:500]"
      ],
      "metadata": {
        "colab": {
          "base_uri": "https://localhost:8080/",
          "height": 70
        },
        "id": "O-3k6Ngicr2N",
        "outputId": "f209a69e-10a1-4072-e4dd-0e028f19eb26"
      },
      "execution_count": 3,
      "outputs": [
        {
          "output_type": "execute_result",
          "data": {
            "text/plain": [
              "'<!DOCTYPE html><html lang=\"en-US\"><head><meta http-equiv=\"X-UA-Compatible\" content=\"IE=edge\"/><link rel=\"shortcut icon\" href=\"/favicon/favicon.png\"/><link rel=\"apple-touch-icon\" href=\"/favicon/favicon-192x192.png\"/><link rel=\"manifest\" href=\"/manifest/manifest.json\"/><style type=\"text/css\">:root {--white: #ffffff; --font_primary: #535B62; --font_dark: #2f363f; --font_light: #81878c; --font_blue: #0088ea; --font_lighter: #a2a8ae; --brand_primary: #151e28; --brand_success: #28c39a; --brand_danger:'"
            ],
            "application/vnd.google.colaboratory.intrinsic+json": {
              "type": "string"
            }
          },
          "metadata": {},
          "execution_count": 3
        }
      ]
    },
    {
      "cell_type": "code",
      "source": [
        "# not required for this webpage, use if bot restrictions are added in future.\n",
        "\n",
        "# google chrome browser's request header (to make it look like, we are making this request from a browser)\n",
        "header = {\n",
        "  \"User-Agent\": \"Mozilla/5.0 (Windows NT 10.0; Win64; x64) AppleWebKit/537.36 (KHTML, like Gecko) Chrome/80.0.3987.163 Safari/537.36\"\n",
        "}\n",
        "\n",
        "# hit using the header\n",
        "response = requests.get(\"https://www.tickertape.in/stocks?filter=a\", headers=header)\n",
        "response.text[0:500]"
      ],
      "metadata": {
        "colab": {
          "base_uri": "https://localhost:8080/",
          "height": 70
        },
        "id": "ZMW71O25c9Hl",
        "outputId": "66d348e3-ac7f-4ffe-a1bf-261a864974ec"
      },
      "execution_count": 4,
      "outputs": [
        {
          "output_type": "execute_result",
          "data": {
            "text/plain": [
              "'<!DOCTYPE html><html lang=\"en-US\"><head><meta http-equiv=\"X-UA-Compatible\" content=\"IE=edge\"/><link rel=\"shortcut icon\" href=\"/favicon/favicon.png\"/><link rel=\"apple-touch-icon\" href=\"/favicon/favicon-192x192.png\"/><link rel=\"manifest\" href=\"/manifest/manifest.json\"/><style type=\"text/css\">:root {--white: #ffffff; --font_primary: #535B62; --font_dark: #2f363f; --font_light: #81878c; --font_blue: #0088ea; --font_lighter: #a2a8ae; --brand_primary: #151e28; --brand_success: #28c39a; --brand_danger:'"
            ],
            "application/vnd.google.colaboratory.intrinsic+json": {
              "type": "string"
            }
          },
          "metadata": {},
          "execution_count": 4
        }
      ]
    },
    {
      "cell_type": "markdown",
      "source": [
        "## Pass the fetched webpage response to Beautiful Soup"
      ],
      "metadata": {
        "id": "XJNdAiOReo2n"
      }
    },
    {
      "cell_type": "code",
      "source": [
        "# give the webpage to Beautiful Soup using parsers: \"html.parser\" or \"lxml\"\n",
        "soup = BeautifulSoup(response.text, 'lxml')"
      ],
      "metadata": {
        "id": "RA-dseaKd1GS"
      },
      "execution_count": 5,
      "outputs": []
    },
    {
      "cell_type": "markdown",
      "source": [
        "## Let us try and extract data (from one sample page)"
      ],
      "metadata": {
        "id": "ZKYRke2Ilhrt"
      }
    },
    {
      "cell_type": "markdown",
      "source": [
        "- extract one company name in the page\n",
        "- extract all company name in the page"
      ],
      "metadata": {
        "id": "8pCfA5bWjJRE"
      }
    },
    {
      "cell_type": "markdown",
      "source": [
        "### Extracting one company name"
      ],
      "metadata": {
        "id": "IqCNbmt8l3Ec"
      }
    },
    {
      "cell_type": "code",
      "source": [
        "# company name\n",
        "htmlBlock = soup.find(\"li\")\n",
        "print(htmlBlock)"
      ],
      "metadata": {
        "colab": {
          "base_uri": "https://localhost:8080/"
        },
        "id": "2zTscJQSd1In",
        "outputId": "e3ef1077-083d-4713-aca0-4daa1f1ab9af"
      },
      "execution_count": 6,
      "outputs": [
        {
          "output_type": "stream",
          "name": "stdout",
          "text": [
            "<li class=\"jsx-1528870203\"><a class=\"jsx-1528870203\" href=\"/stocks/a-and-m-febcon-AMF\">A &amp; M Febcon Ltd</a></li>\n"
          ]
        }
      ]
    },
    {
      "cell_type": "code",
      "source": [
        "htmlBlock.a['href'].split('/')[2]"
      ],
      "metadata": {
        "colab": {
          "base_uri": "https://localhost:8080/",
          "height": 35
        },
        "id": "bSlioJ9SZzuT",
        "outputId": "dcf6504a-4bd9-4363-ddcc-0019d06888de"
      },
      "execution_count": 7,
      "outputs": [
        {
          "output_type": "execute_result",
          "data": {
            "text/plain": [
              "'a-and-m-febcon-AMF'"
            ],
            "application/vnd.google.colaboratory.intrinsic+json": {
              "type": "string"
            }
          },
          "metadata": {},
          "execution_count": 7
        }
      ]
    },
    {
      "cell_type": "code",
      "source": [
        "htmlBlock.a.text"
      ],
      "metadata": {
        "colab": {
          "base_uri": "https://localhost:8080/",
          "height": 35
        },
        "id": "ogWuUENpiNMD",
        "outputId": "aa85c899-90d3-4a1f-dbb3-893aa329a1ba"
      },
      "execution_count": 8,
      "outputs": [
        {
          "output_type": "execute_result",
          "data": {
            "text/plain": [
              "'A & M Febcon Ltd'"
            ],
            "application/vnd.google.colaboratory.intrinsic+json": {
              "type": "string"
            }
          },
          "metadata": {},
          "execution_count": 8
        }
      ]
    },
    {
      "cell_type": "code",
      "source": [
        ""
      ],
      "metadata": {
        "id": "pd7cxn9siiGm"
      },
      "execution_count": 8,
      "outputs": []
    },
    {
      "cell_type": "markdown",
      "source": [
        "### Extracting all the company names"
      ],
      "metadata": {
        "id": "xQuKNj_vjAUc"
      }
    },
    {
      "cell_type": "code",
      "source": [
        "# find all li\n",
        "htmlBlock = soup.find_all(\"li\")\n",
        "# print(htmlBlock)"
      ],
      "metadata": {
        "id": "fG_2Jwx9jD8w"
      },
      "execution_count": 9,
      "outputs": []
    },
    {
      "cell_type": "code",
      "source": [
        "# let's see one of the li\n",
        "htmlBlock[0]"
      ],
      "metadata": {
        "colab": {
          "base_uri": "https://localhost:8080/"
        },
        "id": "iKLzlPeikk3R",
        "outputId": "c367e9f3-6034-46fa-9f62-5a6296d2498c"
      },
      "execution_count": 10,
      "outputs": [
        {
          "output_type": "execute_result",
          "data": {
            "text/plain": [
              "<li class=\"jsx-1528870203\"><a class=\"jsx-1528870203\" href=\"/stocks/a-and-m-febcon-AMF\">A &amp; M Febcon Ltd</a></li>"
            ]
          },
          "metadata": {},
          "execution_count": 10
        }
      ]
    },
    {
      "cell_type": "code",
      "source": [
        "# let's extract the company name\n",
        "htmlBlock[0].a.text"
      ],
      "metadata": {
        "colab": {
          "base_uri": "https://localhost:8080/",
          "height": 35
        },
        "id": "MREv_HziDQVD",
        "outputId": "e2b8ff81-f9b8-46de-990e-3c41096452f4"
      },
      "execution_count": 11,
      "outputs": [
        {
          "output_type": "execute_result",
          "data": {
            "text/plain": [
              "'A & M Febcon Ltd'"
            ],
            "application/vnd.google.colaboratory.intrinsic+json": {
              "type": "string"
            }
          },
          "metadata": {},
          "execution_count": 11
        }
      ]
    },
    {
      "cell_type": "code",
      "source": [
        "# let's extract the link or path to the url subdirectory\n",
        "htmlBlock[0].a['href'].split('/')[2]"
      ],
      "metadata": {
        "colab": {
          "base_uri": "https://localhost:8080/",
          "height": 35
        },
        "id": "SeCk6rkok1eZ",
        "outputId": "89528a22-52aa-432d-af0a-41f83e2786c0"
      },
      "execution_count": 12,
      "outputs": [
        {
          "output_type": "execute_result",
          "data": {
            "text/plain": [
              "'a-and-m-febcon-AMF'"
            ],
            "application/vnd.google.colaboratory.intrinsic+json": {
              "type": "string"
            }
          },
          "metadata": {},
          "execution_count": 12
        }
      ]
    },
    {
      "cell_type": "code",
      "source": [
        "# let's apply the map to all the list of li\n",
        "fullList = list(map(lambda element: element.a['href'], htmlBlock))\n",
        "fullList[0:9]"
      ],
      "metadata": {
        "colab": {
          "base_uri": "https://localhost:8080/"
        },
        "id": "pb-7SN0PjJq9",
        "outputId": "ce50b482-270d-41bb-dbb6-e6de6be44278"
      },
      "execution_count": 13,
      "outputs": [
        {
          "output_type": "execute_result",
          "data": {
            "text/plain": [
              "['/stocks/a-and-m-febcon-AMF',\n",
              " '/stocks/ab-cotspin-india-ABCO',\n",
              " '/stocks/a-b-infrabuild-ABIN',\n",
              " '/stocks/a-f-enterprises-AFE',\n",
              " '/stocks/a-infrastructure-AIN',\n",
              " '/stocks/akcapital-services-AKC',\n",
              " '/stocks/a-and-m-jumbo-bags-AMJU',\n",
              " '/stocks/a-1-acid-AAL',\n",
              " '/stocks/a2z-infra-engineering-A2ZI']"
            ]
          },
          "metadata": {},
          "execution_count": 13
        }
      ]
    },
    {
      "cell_type": "code",
      "source": [
        "# apply map & filter to pick the stock links only, as we found other links too in the list\n",
        "stocksList = list(map(lambda x: x.split('/')[2], filter(lambda x: True if \"stocks\" in x else False, fullList)))\n",
        "print(len(stocksList))\n",
        "stocksList[0:10]"
      ],
      "metadata": {
        "colab": {
          "base_uri": "https://localhost:8080/"
        },
        "id": "xznU5MmHkAM2",
        "outputId": "78e99ca1-cdab-4729-eba9-136946813409"
      },
      "execution_count": 14,
      "outputs": [
        {
          "output_type": "stream",
          "name": "stdout",
          "text": [
            "421\n"
          ]
        },
        {
          "output_type": "execute_result",
          "data": {
            "text/plain": [
              "['a-and-m-febcon-AMF',\n",
              " 'ab-cotspin-india-ABCO',\n",
              " 'a-b-infrabuild-ABIN',\n",
              " 'a-f-enterprises-AFE',\n",
              " 'a-infrastructure-AIN',\n",
              " 'akcapital-services-AKC',\n",
              " 'a-and-m-jumbo-bags-AMJU',\n",
              " 'a-1-acid-AAL',\n",
              " 'a2z-infra-engineering-A2ZI',\n",
              " 'aa-plus-tradelink-AAP']"
            ]
          },
          "metadata": {},
          "execution_count": 14
        }
      ]
    },
    {
      "cell_type": "code",
      "source": [
        "# similarty, apply map & filter to pick the etfs only\n",
        "etfsList = list(map(lambda x: x.split('/')[2], filter(lambda x: True if \"etfs\" in x else False, fullList)))\n",
        "print(len(etfsList))\n",
        "etfsList[0:10]"
      ],
      "metadata": {
        "colab": {
          "base_uri": "https://localhost:8080/"
        },
        "id": "LmUJL9sQp6Hg",
        "outputId": "2bdaf053-441f-4197-87b0-8a2530fc130f"
      },
      "execution_count": 15,
      "outputs": [
        {
          "output_type": "stream",
          "name": "stdout",
          "text": [
            "15\n"
          ]
        },
        {
          "output_type": "execute_result",
          "data": {
            "text/plain": [
              "['aditya-bsl-gold-etf-AITY',\n",
              " 'aditya-bsl-nifty-50-etf-ADIY',\n",
              " 'aditya-bsl-sensex-30-etf-BSL',\n",
              " 'aditya-birla-sun-life-nifty-healthcare-etf-HEALT',\n",
              " 'aditya-birla-sun-life-nifty-bank-etf-ADIL',\n",
              " 'aditya-birla-sun-life-nifty-it-etf-TECT',\n",
              " 'aditya-birla-sun-life-nifty-next-50-etf-ADIB',\n",
              " 'aditya-birla-sun-life-silver-etf-SILVR',\n",
              " 'axis-aaa-bond-plus-sdl-etf-2026-matur-reg-growth-AXISB',\n",
              " 'axis-banking-etf-AXIS']"
            ]
          },
          "metadata": {},
          "execution_count": 15
        }
      ]
    },
    {
      "cell_type": "code",
      "source": [
        "# combining to get full list of all the stocks and etfs\n",
        "list(filter(lambda x: True if \"etfs\" in x or \"stocks\" in x else False, fullList))[0:10]"
      ],
      "metadata": {
        "id": "37f4vyMTqDvZ",
        "colab": {
          "base_uri": "https://localhost:8080/"
        },
        "outputId": "01dea4da-53f6-4e57-dbef-4478534a7f59"
      },
      "execution_count": 16,
      "outputs": [
        {
          "output_type": "execute_result",
          "data": {
            "text/plain": [
              "['/stocks/a-and-m-febcon-AMF',\n",
              " '/stocks/ab-cotspin-india-ABCO',\n",
              " '/stocks/a-b-infrabuild-ABIN',\n",
              " '/stocks/a-f-enterprises-AFE',\n",
              " '/stocks/a-infrastructure-AIN',\n",
              " '/stocks/akcapital-services-AKC',\n",
              " '/stocks/a-and-m-jumbo-bags-AMJU',\n",
              " '/stocks/a-1-acid-AAL',\n",
              " '/stocks/a2z-infra-engineering-A2ZI',\n",
              " '/stocks/aa-plus-tradelink-AAP']"
            ]
          },
          "metadata": {},
          "execution_count": 16
        }
      ]
    },
    {
      "cell_type": "code",
      "source": [
        "# let's come up with another map & filter, to form a full json/dictionary list with type, instead of two separate lists of stocks & etfs\n",
        "filteredHtmlBlock = list(filter(lambda x: True if \"etfs\" in x.a['href'] or \"stocks\" in x.a['href'] else False, htmlBlock))\n",
        "# filteredHtmlBlock[0:10]"
      ],
      "metadata": {
        "id": "i_tgI14AFDRD"
      },
      "execution_count": 17,
      "outputs": []
    },
    {
      "cell_type": "code",
      "source": [
        "# and... done!\n",
        "data = list(map(lambda x: {\"name\": x.a.text, \"type\": x.a['href'].split('/')[1], \"subdirectory\": x.a['href'].split('/')[2]}, filteredHtmlBlock))\n",
        "print(len(data))\n",
        "data[0:5]"
      ],
      "metadata": {
        "colab": {
          "base_uri": "https://localhost:8080/"
        },
        "id": "xeEApaA4EQXG",
        "outputId": "f867f8da-452e-4d5a-ef65-51b4574cc7c2"
      },
      "execution_count": 18,
      "outputs": [
        {
          "output_type": "stream",
          "name": "stdout",
          "text": [
            "436\n"
          ]
        },
        {
          "output_type": "execute_result",
          "data": {
            "text/plain": [
              "[{'name': 'A & M Febcon Ltd',\n",
              "  'subdirectory': 'a-and-m-febcon-AMF',\n",
              "  'type': 'stocks'},\n",
              " {'name': 'A B Cotspin India Ltd',\n",
              "  'subdirectory': 'ab-cotspin-india-ABCO',\n",
              "  'type': 'stocks'},\n",
              " {'name': 'A B Infrabuild Ltd',\n",
              "  'subdirectory': 'a-b-infrabuild-ABIN',\n",
              "  'type': 'stocks'},\n",
              " {'name': 'A F Enterprises Ltd',\n",
              "  'subdirectory': 'a-f-enterprises-AFE',\n",
              "  'type': 'stocks'},\n",
              " {'name': 'A Infrastructure Ltd',\n",
              "  'subdirectory': 'a-infrastructure-AIN',\n",
              "  'type': 'stocks'}]"
            ]
          },
          "metadata": {},
          "execution_count": 18
        }
      ]
    },
    {
      "cell_type": "markdown",
      "source": [
        "### avoid bugs with non-functional approach"
      ],
      "metadata": {
        "id": "ahz7da-wJ1a5"
      }
    },
    {
      "cell_type": "code",
      "source": [
        "# since the map & filter is throwing errors and bugs on function call, \n",
        "# let's move out of this functional progrmming and write our custom functions!"
      ],
      "metadata": {
        "id": "spey0yP4Jvnu"
      },
      "execution_count": 19,
      "outputs": []
    },
    {
      "cell_type": "code",
      "source": [
        "htmlBlock[0:5]"
      ],
      "metadata": {
        "colab": {
          "base_uri": "https://localhost:8080/"
        },
        "id": "SXxbifuILNEH",
        "outputId": "e0f7df12-c0f3-4213-f023-d48cd7c83768"
      },
      "execution_count": 20,
      "outputs": [
        {
          "output_type": "execute_result",
          "data": {
            "text/plain": [
              "[<li class=\"jsx-1528870203\"><a class=\"jsx-1528870203\" href=\"/stocks/a-and-m-febcon-AMF\">A &amp; M Febcon Ltd</a></li>,\n",
              " <li class=\"jsx-1528870203\"><a class=\"jsx-1528870203\" href=\"/stocks/ab-cotspin-india-ABCO\">A B Cotspin India Ltd</a></li>,\n",
              " <li class=\"jsx-1528870203\"><a class=\"jsx-1528870203\" href=\"/stocks/a-b-infrabuild-ABIN\">A B Infrabuild Ltd</a></li>,\n",
              " <li class=\"jsx-1528870203\"><a class=\"jsx-1528870203\" href=\"/stocks/a-f-enterprises-AFE\">A F Enterprises Ltd</a></li>,\n",
              " <li class=\"jsx-1528870203\"><a class=\"jsx-1528870203\" href=\"/stocks/a-infrastructure-AIN\">A Infrastructure Ltd</a></li>]"
            ]
          },
          "metadata": {},
          "execution_count": 20
        }
      ]
    },
    {
      "cell_type": "code",
      "source": [
        "# custom filter function\n",
        "def filter_data_list_fn(listBlock):\n",
        "    href = listBlock.a['href']\n",
        "    return \"etfs\" in href or \"stocks\" in href"
      ],
      "metadata": {
        "id": "MXt4yzXpJvqM"
      },
      "execution_count": 21,
      "outputs": []
    },
    {
      "cell_type": "code",
      "source": [
        "# function to apply filter to htmlBlock and return the filtered htmlBlock \n",
        "def get_filtered_html_blocks_list(htmlBlock):\n",
        "    filtered_html_blocks_list = []\n",
        "    for block in htmlBlock:\n",
        "        if filter_data_list_fn(block):\n",
        "            filtered_html_blocks_list.append(block)\n",
        "    return filtered_html_blocks_list"
      ],
      "metadata": {
        "id": "BRr1qV2ILZCJ"
      },
      "execution_count": 22,
      "outputs": []
    },
    {
      "cell_type": "code",
      "source": [
        "# function to map filtered html block to desired data json/dictionary\n",
        "def map_html_block_list_to_data_list(filteredHtmlBlock):\n",
        "    data_list = []\n",
        "    for block in filteredHtmlBlock:\n",
        "        data_obj = {\n",
        "            \"name\": block.a.text,\n",
        "            \"type\": block.a['href'].split('/')[1],\n",
        "            \"subdirectory\": block.a['href'].split('/')[2]\n",
        "        }\n",
        "        data_list.append(data_obj)\n",
        "    return data_list"
      ],
      "metadata": {
        "id": "cVHOjYfwMalv"
      },
      "execution_count": 23,
      "outputs": []
    },
    {
      "cell_type": "code",
      "source": [
        "# and... done as above approach, but now with our custom, bug free functions\n",
        "filteredHtmlBlock = get_filtered_html_blocks_list(htmlBlock)\n",
        "data = map_html_block_list_to_data_list(filteredHtmlBlock)\n",
        "print(len(data))\n",
        "data[0:5]"
      ],
      "metadata": {
        "colab": {
          "base_uri": "https://localhost:8080/"
        },
        "id": "6CcC6aYOJvsf",
        "outputId": "14150b90-6f8d-47b0-de7d-95743e938df2"
      },
      "execution_count": 24,
      "outputs": [
        {
          "output_type": "stream",
          "name": "stdout",
          "text": [
            "436\n"
          ]
        },
        {
          "output_type": "execute_result",
          "data": {
            "text/plain": [
              "[{'name': 'A & M Febcon Ltd',\n",
              "  'subdirectory': 'a-and-m-febcon-AMF',\n",
              "  'type': 'stocks'},\n",
              " {'name': 'A B Cotspin India Ltd',\n",
              "  'subdirectory': 'ab-cotspin-india-ABCO',\n",
              "  'type': 'stocks'},\n",
              " {'name': 'A B Infrabuild Ltd',\n",
              "  'subdirectory': 'a-b-infrabuild-ABIN',\n",
              "  'type': 'stocks'},\n",
              " {'name': 'A F Enterprises Ltd',\n",
              "  'subdirectory': 'a-f-enterprises-AFE',\n",
              "  'type': 'stocks'},\n",
              " {'name': 'A Infrastructure Ltd',\n",
              "  'subdirectory': 'a-infrastructure-AIN',\n",
              "  'type': 'stocks'}]"
            ]
          },
          "metadata": {},
          "execution_count": 24
        }
      ]
    },
    {
      "cell_type": "code",
      "source": [
        ""
      ],
      "metadata": {
        "id": "miwRAXbuJvvK"
      },
      "execution_count": 24,
      "outputs": []
    },
    {
      "cell_type": "code",
      "source": [
        ""
      ],
      "metadata": {
        "id": "59R4FfPsJv1W"
      },
      "execution_count": null,
      "outputs": []
    },
    {
      "cell_type": "markdown",
      "source": [
        "## Let us try and extract data (from all the pages)"
      ],
      "metadata": {
        "id": "S3qKyYSUuBFN"
      }
    },
    {
      "cell_type": "markdown",
      "source": [
        "Hit \"https://www.tickertape.in/stocks?filter={filter}\" with filter = \"Top\", \"A\"-\"Z\" and \"Others\""
      ],
      "metadata": {
        "id": "Pcn82_QzcLGq"
      }
    },
    {
      "cell_type": "code",
      "source": [
        "\"https://www.tickertape.in/stocks?filter=\"+\"a\""
      ],
      "metadata": {
        "colab": {
          "base_uri": "https://localhost:8080/",
          "height": 35
        },
        "id": "skiE61NtK6_c",
        "outputId": "64395aea-76be-451b-e2ae-d58f37533139"
      },
      "execution_count": null,
      "outputs": [
        {
          "output_type": "execute_result",
          "data": {
            "text/plain": [
              "'https://www.tickertape.in/stocks?filter=a'"
            ],
            "application/vnd.google.colaboratory.intrinsic+json": {
              "type": "string"
            }
          },
          "metadata": {},
          "execution_count": 25
        }
      ]
    },
    {
      "cell_type": "code",
      "source": [
        "def getNames(url_filter):\n",
        "\n",
        "    ########## define custom functions: ##########\n",
        "\n",
        "    # custom filter function\n",
        "    def __filter_data_list_fn(listBlock):\n",
        "        href = listBlock.a['href']\n",
        "        return \"etfs\" in href or \"stocks\" in href\n",
        "    \n",
        "    # function to apply filter to htmlBlock and return the filtered htmlBlock \n",
        "    def __get_filtered_html_blocks_list(htmlBlock):\n",
        "        filtered_html_blocks_list = []\n",
        "        for block in htmlBlock:\n",
        "            if filter_data_list_fn(block):\n",
        "                filtered_html_blocks_list.append(block)\n",
        "        return filtered_html_blocks_list\n",
        "    \n",
        "    # function to map filtered html block to desired data json/dictionary\n",
        "    def __map_html_block_list_to_data_list(filteredHtmlBlock):\n",
        "        data_list = []\n",
        "        for block in filteredHtmlBlock:\n",
        "            data_obj = {\n",
        "                \"name\": block.a.text,\n",
        "                \"type\": block.a['href'].split('/')[1],\n",
        "                \"subdirectory\": block.a['href'].split('/')[2]\n",
        "            }\n",
        "            data_list.append(data_obj)\n",
        "        return data_list\n",
        "\n",
        "    ########## get html data from webpage and transform to req data ##########\n",
        "    try:\n",
        "        # hit the page and get html\n",
        "        _header = {\n",
        "            \"User-Agent\": \"Mozilla/5.0 (Windows NT 10.0; Win64; x64) AppleWebKit/537.36 (KHTML, like Gecko) Chrome/80.0.3987.163 Safari/537.36\"\n",
        "        }\n",
        "        _response = requests.get(\"https://www.tickertape.in/stocks?filter=\"+url_filter, headers=_header)\n",
        "\n",
        "        # give the webpage to Beautiful Soup using parsers: \"html.parser\" or \"lxml\"\n",
        "        _soup = BeautifulSoup(_response.text, 'lxml')\n",
        "\n",
        "        # find all li\n",
        "        _htmlBlock = _soup.find_all(\"li\")\n",
        "\n",
        "        # filter out lis that doesn't contain our data\n",
        "        _filteredHtmlBlock = __get_filtered_html_blocks_list(_htmlBlock)\n",
        "\n",
        "        # get the data\n",
        "        _data = __map_html_block_list_to_data_list(_filteredHtmlBlock)\n",
        "\n",
        "        return _data\n",
        "    except Exception as _e:\n",
        "        print(_e)\n",
        "        return []"
      ],
      "metadata": {
        "id": "uxga6bveKhwi"
      },
      "execution_count": null,
      "outputs": []
    },
    {
      "cell_type": "code",
      "source": [
        "getNames('a')[0]"
      ],
      "metadata": {
        "colab": {
          "base_uri": "https://localhost:8080/"
        },
        "id": "zhbs41YCNsaV",
        "outputId": "76820f09-e67c-4011-d292-15d1614840bf"
      },
      "execution_count": null,
      "outputs": [
        {
          "output_type": "execute_result",
          "data": {
            "text/plain": [
              "{'name': 'A & M Febcon Ltd',\n",
              " 'subdirectory': 'a-and-m-febcon-AMF',\n",
              " 'type': 'stocks'}"
            ]
          },
          "metadata": {},
          "execution_count": 27
        }
      ]
    },
    {
      "cell_type": "code",
      "source": [
        "# declare the filter values for all the page urls\n",
        "tickertape_stocks_top = [\"top\"]\n",
        "tickertape_stocks_all = list(\"abcdefghijklmnopqrstuvwxyz\") + [\"others\"]\n",
        "print(tickertape_stocks_top)\n",
        "print(tickertape_stocks_all)"
      ],
      "metadata": {
        "id": "Xt7sHvpKcwQ5",
        "colab": {
          "base_uri": "https://localhost:8080/"
        },
        "outputId": "05399579-3d04-4e36-d934-a411d3cdd034"
      },
      "execution_count": null,
      "outputs": [
        {
          "output_type": "stream",
          "name": "stdout",
          "text": [
            "['top']\n",
            "['a', 'b', 'c', 'd', 'e', 'f', 'g', 'h', 'i', 'j', 'k', 'l', 'm', 'n', 'o', 'p', 'q', 'r', 's', 't', 'u', 'v', 'w', 'x', 'y', 'z', 'others']\n"
          ]
        }
      ]
    },
    {
      "cell_type": "code",
      "source": [
        "# let's scrape all the pages!\n",
        "fulldata = []\n",
        "\n",
        "for filter in tickertape_stocks_all:\n",
        "    print(\"https://www.tickertape.in/stocks?filter=\"+filter)\n",
        "    try:\n",
        "        # get data from each page and append to data list\n",
        "        fulldata = fulldata + getNames(filter)\n",
        "        print(\"successful!\")\n",
        "    except Exception as _e:\n",
        "        # some issue occured, catch exception\n",
        "        print(\"failed!\")\n",
        "        print(_e)"
      ],
      "metadata": {
        "id": "EiKv3TYMuHUt",
        "colab": {
          "base_uri": "https://localhost:8080/"
        },
        "outputId": "ed0181eb-4d92-40bd-8b9a-a28b13e49a81"
      },
      "execution_count": null,
      "outputs": [
        {
          "output_type": "stream",
          "name": "stdout",
          "text": [
            "https://www.tickertape.in/stocks?filter=a\n",
            "successful!\n",
            "https://www.tickertape.in/stocks?filter=b\n",
            "successful!\n",
            "https://www.tickertape.in/stocks?filter=c\n",
            "successful!\n",
            "https://www.tickertape.in/stocks?filter=d\n",
            "successful!\n",
            "https://www.tickertape.in/stocks?filter=e\n",
            "successful!\n",
            "https://www.tickertape.in/stocks?filter=f\n",
            "successful!\n",
            "https://www.tickertape.in/stocks?filter=g\n",
            "successful!\n",
            "https://www.tickertape.in/stocks?filter=h\n",
            "successful!\n",
            "https://www.tickertape.in/stocks?filter=i\n",
            "successful!\n",
            "https://www.tickertape.in/stocks?filter=j\n",
            "successful!\n",
            "https://www.tickertape.in/stocks?filter=k\n",
            "successful!\n",
            "https://www.tickertape.in/stocks?filter=l\n",
            "successful!\n",
            "https://www.tickertape.in/stocks?filter=m\n",
            "successful!\n",
            "https://www.tickertape.in/stocks?filter=n\n",
            "successful!\n",
            "https://www.tickertape.in/stocks?filter=o\n",
            "successful!\n",
            "https://www.tickertape.in/stocks?filter=p\n",
            "successful!\n",
            "https://www.tickertape.in/stocks?filter=q\n",
            "successful!\n",
            "https://www.tickertape.in/stocks?filter=r\n",
            "successful!\n",
            "https://www.tickertape.in/stocks?filter=s\n",
            "successful!\n",
            "https://www.tickertape.in/stocks?filter=t\n",
            "successful!\n",
            "https://www.tickertape.in/stocks?filter=u\n",
            "successful!\n",
            "https://www.tickertape.in/stocks?filter=v\n",
            "successful!\n",
            "https://www.tickertape.in/stocks?filter=w\n",
            "successful!\n",
            "https://www.tickertape.in/stocks?filter=x\n",
            "successful!\n",
            "https://www.tickertape.in/stocks?filter=y\n",
            "successful!\n",
            "https://www.tickertape.in/stocks?filter=z\n",
            "successful!\n",
            "https://www.tickertape.in/stocks?filter=others\n",
            "successful!\n"
          ]
        }
      ]
    },
    {
      "cell_type": "code",
      "source": [
        "print(len(fulldata))\n",
        "fulldata[-1]"
      ],
      "metadata": {
        "colab": {
          "base_uri": "https://localhost:8080/"
        },
        "id": "oCW71TXSJ7T-",
        "outputId": "55e86356-aa4f-401b-a5ef-038bbbbc462a"
      },
      "execution_count": null,
      "outputs": [
        {
          "output_type": "stream",
          "name": "stdout",
          "text": [
            "4626\n"
          ]
        },
        {
          "output_type": "execute_result",
          "data": {
            "text/plain": [
              "{'name': '7Seas Entertainment Ltd',\n",
              " 'subdirectory': '7seas-entertainment-SEAS',\n",
              " 'type': 'stocks'}"
            ]
          },
          "metadata": {},
          "execution_count": 30
        }
      ]
    },
    {
      "cell_type": "code",
      "source": [
        "print(type(fulldata))\n",
        "print(type(fulldata[0]))"
      ],
      "metadata": {
        "id": "u0dYJfQ6NOR0",
        "colab": {
          "base_uri": "https://localhost:8080/"
        },
        "outputId": "3b1a8735-0ca9-4243-e889-325d036daffc"
      },
      "execution_count": null,
      "outputs": [
        {
          "output_type": "stream",
          "name": "stdout",
          "text": [
            "<class 'list'>\n",
            "<class 'dict'>\n"
          ]
        }
      ]
    },
    {
      "cell_type": "code",
      "source": [
        ""
      ],
      "metadata": {
        "id": "_0zu_QrsR5qV"
      },
      "execution_count": null,
      "outputs": []
    },
    {
      "cell_type": "code",
      "source": [
        "topdata = getNames(tickertape_stocks_top[0])"
      ],
      "metadata": {
        "id": "W367bNnV0lB9"
      },
      "execution_count": null,
      "outputs": []
    },
    {
      "cell_type": "code",
      "source": [
        "print(len(topdata))\n",
        "topdata[0]"
      ],
      "metadata": {
        "id": "RntGp0_U0lEk",
        "outputId": "f16d3c81-6851-4d85-d2a5-dd409992094f",
        "colab": {
          "base_uri": "https://localhost:8080/"
        }
      },
      "execution_count": null,
      "outputs": [
        {
          "output_type": "stream",
          "name": "stdout",
          "text": [
            "100\n"
          ]
        },
        {
          "output_type": "execute_result",
          "data": {
            "text/plain": [
              "{'name': 'Adani Enterprises Ltd',\n",
              " 'subdirectory': 'adani-enterprises-ADEL',\n",
              " 'type': 'stocks'}"
            ]
          },
          "metadata": {},
          "execution_count": 33
        }
      ]
    },
    {
      "cell_type": "code",
      "source": [
        "print(type(topdata))\n",
        "print(type(topdata[0]))"
      ],
      "metadata": {
        "id": "vygoQWgr1J3K",
        "outputId": "a0513c18-a541-4575-fc5c-f87362364b77",
        "colab": {
          "base_uri": "https://localhost:8080/"
        }
      },
      "execution_count": null,
      "outputs": [
        {
          "output_type": "stream",
          "name": "stdout",
          "text": [
            "<class 'list'>\n",
            "<class 'dict'>\n"
          ]
        }
      ]
    },
    {
      "cell_type": "markdown",
      "source": [
        "## Exporting the data"
      ],
      "metadata": {
        "id": "3y8dt5I9y-jc"
      }
    },
    {
      "cell_type": "code",
      "source": [
        "# # Serializing json\n",
        "# json_object = json.dumps(fulldata) \n",
        "# print(json_object)"
      ],
      "metadata": {
        "id": "bTxccFcty9Yb"
      },
      "execution_count": null,
      "outputs": []
    },
    {
      "cell_type": "code",
      "source": [
        "with open(\"full-company-list.json\", \"w\") as outfile:\n",
        "    json.dump(fulldata, outfile)"
      ],
      "metadata": {
        "id": "Y2qvuXSjzJnV"
      },
      "execution_count": null,
      "outputs": []
    },
    {
      "cell_type": "code",
      "source": [
        "with open(\"top-company-list.json\", \"w\") as outfile:\n",
        "    json.dump(topdata, outfile)"
      ],
      "metadata": {
        "id": "wOzduW5CzqOb"
      },
      "execution_count": null,
      "outputs": []
    },
    {
      "cell_type": "code",
      "source": [
        ""
      ],
      "metadata": {
        "id": "eLI0S2yo1YyE"
      },
      "execution_count": null,
      "outputs": []
    }
  ]
}