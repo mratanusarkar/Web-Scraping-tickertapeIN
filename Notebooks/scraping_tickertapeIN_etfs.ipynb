{
  "nbformat": 4,
  "nbformat_minor": 0,
  "metadata": {
    "colab": {
      "name": "Web Scraping tickertapeIN - etfs.ipynb",
      "provenance": [],
      "authorship_tag": "ABX9TyOzSyNS8vZQ8vADkc7jYtTZ",
      "include_colab_link": true
    },
    "kernelspec": {
      "name": "python3",
      "display_name": "Python 3"
    },
    "language_info": {
      "name": "python"
    }
  },
  "cells": [
    {
      "cell_type": "markdown",
      "metadata": {
        "id": "view-in-github",
        "colab_type": "text"
      },
      "source": [
        "<a href=\"https://colab.research.google.com/github/mratanusarkar/Web-Scraping-tickertapeIN/blob/main/Notebooks/scraping_tickertapeIN_etfs.ipynb\" target=\"_parent\"><img src=\"https://colab.research.google.com/assets/colab-badge.svg\" alt=\"Open In Colab\"/></a>"
      ]
    },
    {
      "cell_type": "markdown",
      "source": [
        "# Web Scraping etf data from tickertape.in"
      ],
      "metadata": {
        "id": "vVeC3IHLbQ1S"
      }
    },
    {
      "cell_type": "markdown",
      "source": [
        "**Input**: etf name in \"https://www.tickertape.in/etfs/{etf-name}\" <br>\n",
        "**Output**: full etf data & predictions from tickertape in JSON/Py Dictionary format\n"
      ],
      "metadata": {
        "id": "gwGMUzOsbfK_"
      }
    },
    {
      "cell_type": "markdown",
      "source": [
        "## Import Packages"
      ],
      "metadata": {
        "id": "OcFpi1cFcDW0"
      }
    },
    {
      "cell_type": "code",
      "source": [
        "import numpy as np\n",
        "import pandas as pd\n",
        "import requests\n",
        "from bs4 import BeautifulSoup\n",
        "\n",
        "import json\n",
        "import time\n",
        "import datetime as dt\n",
        "\n",
        "import matplotlib.pyplot as plt\n",
        "import plotly.express as px"
      ],
      "metadata": {
        "id": "c0wD-RzybeO9"
      },
      "execution_count": 1,
      "outputs": []
    },
    {
      "cell_type": "markdown",
      "source": [
        "## Request and Fetch the Webpage"
      ],
      "metadata": {
        "id": "igOJKmX7cIWj"
      }
    },
    {
      "cell_type": "markdown",
      "source": [
        "Let's try with a sample etf name, say \"NIFTYBEES\""
      ],
      "metadata": {
        "id": "Pcn82_QzcLGq"
      }
    },
    {
      "cell_type": "code",
      "source": [
        "# enter etf subdirectory\n",
        "subdir = \"nippon-india-nifty-50-bees-etf-NBES\"\n",
        "# subdir = \"nippon-india-silver-etf-NETFS\""
      ],
      "metadata": {
        "id": "2VvAxCA37RBN"
      },
      "execution_count": 2,
      "outputs": []
    },
    {
      "cell_type": "code",
      "source": [
        "# hit \"https://www.tickertape.in/etfs/nippon-india-nifty-50-bees-etf-NBES\"\n",
        "requests.get(\"https://www.tickertape.in/etfs/\" + subdir)"
      ],
      "metadata": {
        "colab": {
          "base_uri": "https://localhost:8080/"
        },
        "id": "uN6CTb4tcWTd",
        "outputId": "9f409195-f63b-40af-c7cc-39d44d619091"
      },
      "execution_count": 3,
      "outputs": [
        {
          "output_type": "execute_result",
          "data": {
            "text/plain": [
              "<Response [200]>"
            ]
          },
          "metadata": {},
          "execution_count": 3
        }
      ]
    },
    {
      "cell_type": "code",
      "source": [
        "# wow! no restriction for bots! no need of any headers!\n",
        "response = requests.get(\"https://www.tickertape.in/etfs/\" + subdir)\n",
        "response.text[0:500]"
      ],
      "metadata": {
        "colab": {
          "base_uri": "https://localhost:8080/",
          "height": 70
        },
        "id": "O-3k6Ngicr2N",
        "outputId": "c99721a7-5916-42e3-bad8-f45f80c13c97"
      },
      "execution_count": 4,
      "outputs": [
        {
          "output_type": "execute_result",
          "data": {
            "text/plain": [
              "'<!DOCTYPE html><html lang=\"en-US\"><head><meta http-equiv=\"X-UA-Compatible\" content=\"IE=edge\"/><link rel=\"shortcut icon\" href=\"/favicon/favicon.png\"/><link rel=\"apple-touch-icon\" href=\"/favicon/favicon-192x192.png\"/><link rel=\"manifest\" href=\"/manifest/manifest.json\"/><style type=\"text/css\">:root {--white: #ffffff; --font_primary: #535B62; --font_dark: #2f363f; --font_light: #81878c; --font_blue: #0088ea; --font_lighter: #a2a8ae; --brand_primary: #151e28; --brand_success: #28c39a; --brand_danger:'"
            ],
            "application/vnd.google.colaboratory.intrinsic+json": {
              "type": "string"
            }
          },
          "metadata": {},
          "execution_count": 4
        }
      ]
    },
    {
      "cell_type": "code",
      "source": [
        "# not required for this webpage, use if bot restrictions are added in future.\n",
        "\n",
        "# google chrome browser's request header (to make it look like, we are making this request from a browser)\n",
        "header = {\n",
        "  \"User-Agent\": \"Mozilla/5.0 (Windows NT 10.0; Win64; x64) AppleWebKit/537.36 (KHTML, like Gecko) Chrome/80.0.3987.163 Safari/537.36\"\n",
        "}\n",
        "\n",
        "# hit using the header\n",
        "response = requests.get(\"https://www.tickertape.in/etfs/\" + subdir, headers=header)\n",
        "response.text[0:500]"
      ],
      "metadata": {
        "colab": {
          "base_uri": "https://localhost:8080/",
          "height": 70
        },
        "id": "ZMW71O25c9Hl",
        "outputId": "1d2563f5-a060-48c5-9187-87134c5d5e2a"
      },
      "execution_count": 5,
      "outputs": [
        {
          "output_type": "execute_result",
          "data": {
            "text/plain": [
              "'<!DOCTYPE html><html lang=\"en-US\"><head><meta http-equiv=\"X-UA-Compatible\" content=\"IE=edge\"/><link rel=\"shortcut icon\" href=\"/favicon/favicon.png\"/><link rel=\"apple-touch-icon\" href=\"/favicon/favicon-192x192.png\"/><link rel=\"manifest\" href=\"/manifest/manifest.json\"/><style type=\"text/css\">:root {--white: #ffffff; --font_primary: #535B62; --font_dark: #2f363f; --font_light: #81878c; --font_blue: #0088ea; --font_lighter: #a2a8ae; --brand_primary: #151e28; --brand_success: #28c39a; --brand_danger:'"
            ],
            "application/vnd.google.colaboratory.intrinsic+json": {
              "type": "string"
            }
          },
          "metadata": {},
          "execution_count": 5
        }
      ]
    },
    {
      "cell_type": "markdown",
      "source": [
        "## Pass the fetched webpage response to Beautiful Soup"
      ],
      "metadata": {
        "id": "XJNdAiOReo2n"
      }
    },
    {
      "cell_type": "code",
      "source": [
        "# give the webpage to Beautiful Soup using parsers: \"html.parser\" or \"lxml\"\n",
        "soup = BeautifulSoup(response.text, 'lxml')"
      ],
      "metadata": {
        "id": "RA-dseaKd1GS"
      },
      "execution_count": 6,
      "outputs": []
    },
    {
      "cell_type": "markdown",
      "source": [
        "## Let us try and extract some data from the soup"
      ],
      "metadata": {
        "id": "ZKYRke2Ilhrt"
      }
    },
    {
      "cell_type": "markdown",
      "source": [
        "- we see the whole webpage and how the html dom structure is made\n",
        "- on inspecting, we see that all our required info is mostly inside div blocks with unique class names\n",
        "- few are inside span or h tags, but all blocks has classes\n",
        "- Let us extract few important html dom blocks and see"
      ],
      "metadata": {
        "id": "8pCfA5bWjJRE"
      }
    },
    {
      "cell_type": "markdown",
      "source": [
        "### [1] Basic ETF Information"
      ],
      "metadata": {
        "id": "IqCNbmt8l3Ec"
      }
    },
    {
      "cell_type": "code",
      "source": [
        "# etf name\n",
        "htmlBlock = soup.find(\"h3\", class_=\"security-name\")\n",
        "print(htmlBlock.prettify())\n",
        "\n",
        "value = htmlBlock.text if htmlBlock is not None else None\n",
        "print(value)"
      ],
      "metadata": {
        "colab": {
          "base_uri": "https://localhost:8080/"
        },
        "id": "2zTscJQSd1In",
        "outputId": "bd4154ab-eb5a-4594-97f3-d36e7fb129ee"
      },
      "execution_count": 7,
      "outputs": [
        {
          "output_type": "stream",
          "name": "stdout",
          "text": [
            "<h3 class=\"jsx-2903438179 security-name\">\n",
            " Nippon India Nifty 50 Bees ETF\n",
            "</h3>\n",
            "Nippon India Nifty 50 Bees ETF\n"
          ]
        }
      ]
    },
    {
      "cell_type": "code",
      "source": [
        "# ticker name\n",
        "htmlBlock = soup.find(\"span\", class_=\"ticker\")\n",
        "print(htmlBlock.prettify())\n",
        "\n",
        "value = htmlBlock.text if htmlBlock is not None else None\n",
        "print(value)"
      ],
      "metadata": {
        "colab": {
          "base_uri": "https://localhost:8080/"
        },
        "id": "HsrIqPujd1LG",
        "outputId": "5515bfe6-3564-491a-8f6c-3f3121573a9e"
      },
      "execution_count": 8,
      "outputs": [
        {
          "output_type": "stream",
          "name": "stdout",
          "text": [
            "<span class=\"jsx-2903438179 ticker text-teritiary font-medium\">\n",
            " NIFTYBEES\n",
            "</span>\n",
            "\n",
            "NIFTYBEES\n"
          ]
        }
      ]
    },
    {
      "cell_type": "code",
      "source": [
        "# type\n",
        "print(\"etfs\")"
      ],
      "metadata": {
        "colab": {
          "base_uri": "https://localhost:8080/"
        },
        "id": "Ls9mQZSa3f46",
        "outputId": "5b191e3d-9cc6-4b74-91cc-03f547638f31"
      },
      "execution_count": 9,
      "outputs": [
        {
          "output_type": "stream",
          "name": "stdout",
          "text": [
            "etfs\n"
          ]
        }
      ]
    },
    {
      "cell_type": "code",
      "source": [
        "# tracking\n",
        "htmlBlock = soup.find(\"p\", class_=\"mb12\")\n",
        "print(htmlBlock.prettify())\n",
        "\n",
        "value = htmlBlock.text if htmlBlock is not None else None\n",
        "print(value)"
      ],
      "metadata": {
        "colab": {
          "base_uri": "https://localhost:8080/"
        },
        "id": "3fgWs3BQQpmp",
        "outputId": "aea429b7-952f-4fb5-b8c6-e951b25f7096"
      },
      "execution_count": 10,
      "outputs": [
        {
          "output_type": "stream",
          "name": "stdout",
          "text": [
            "<p class=\"text-12 desktop--only mb12 text-12\">\n",
            " Tracking\n",
            " <!-- -->\n",
            " <a class=\"typography-body-medium-xs pointer text-blue text-uppercase\" href=\"https://www.tickertape.in/indices/nifty-index-.NSEI\" rel=\"noreferrer noopener\" target=\"_blank\" title=\"Nifty Index\">\n",
            "  Nifty Index\n",
            " </a>\n",
            "</p>\n",
            "\n",
            "Tracking Nifty Index\n"
          ]
        }
      ]
    },
    {
      "cell_type": "code",
      "source": [
        "# current price\n",
        "htmlBlock = soup.find(\"span\", class_=\"current-price\")\n",
        "print(htmlBlock.prettify())\n",
        "\n",
        "value = htmlBlock.text if htmlBlock is not None else None\n",
        "print(value)"
      ],
      "metadata": {
        "colab": {
          "base_uri": "https://localhost:8080/"
        },
        "id": "zdTUd2Led1NO",
        "outputId": "306c1ad6-68d4-45e1-94e5-dff17eea3473"
      },
      "execution_count": 11,
      "outputs": [
        {
          "output_type": "stream",
          "name": "stdout",
          "text": [
            "<span class=\"jsx-3168773259 current-price typography-h1 text-primary\">\n",
            " 186.23\n",
            "</span>\n",
            "\n",
            "186.23\n"
          ]
        }
      ]
    },
    {
      "cell_type": "code",
      "source": [
        "# marketcap, sector and risk\n",
        "htmlBlock = soup.find(\"div\", class_=\"stock-labels\")\n",
        "htmlBlock = htmlBlock.find_all(\"span\", class_=\"stock-label-title\")\n",
        "for block in htmlBlock:\n",
        "    print(block)\n",
        "\n",
        "value = htmlBlock[0].text if htmlBlock[0] is not None else None\n",
        "print(value)\n",
        "\n",
        "value = htmlBlock[1].text if htmlBlock[1] is not None else None\n",
        "print(value)\n",
        "\n",
        "value = htmlBlock[2].text if htmlBlock[2] is not None else None\n",
        "print(value)"
      ],
      "metadata": {
        "colab": {
          "base_uri": "https://localhost:8080/"
        },
        "id": "ReDtU1Zn3V4x",
        "outputId": "6d62a55b-7523-4067-c748-32d70a9d0dd8"
      },
      "execution_count": 12,
      "outputs": [
        {
          "output_type": "stream",
          "name": "stdout",
          "text": [
            "<span class=\"jsx-1903139372 stock-label-title typography-body-medium-xs\">ETF</span>\n",
            "<span class=\"jsx-1903139372 stock-label-title typography-body-medium-xs\">Large Cap</span>\n",
            "<span class=\"jsx-1903139372 stock-label-title typography-body-medium-xs\">High Liquidity</span>\n",
            "ETF\n",
            "Large Cap\n",
            "High Liquidity\n"
          ]
        }
      ]
    },
    {
      "cell_type": "code",
      "source": [
        "# profile\n",
        "\n",
        "htmlBlock = soup.find(\"div\", class_=\"amc-profile\")\n",
        "# print(htmlBlock.prettify())\n",
        "\n",
        "print(htmlBlock.h2.text)\n",
        "print(htmlBlock.p.text)\n",
        "\n",
        "value_h = htmlBlock.h2.text if htmlBlock.h2 is not None else \"\"\n",
        "value_p = htmlBlock.p.text if htmlBlock.p is not None else \"\"\n",
        "value = value_h + \": \" + value_p if (value_h + value_p) != \"\" else None\n",
        "print(value)"
      ],
      "metadata": {
        "colab": {
          "base_uri": "https://localhost:8080/"
        },
        "id": "mnkbOAIG3V7J",
        "outputId": "016c6d36-8217-490e-e2a0-28a65ef11f00"
      },
      "execution_count": 13,
      "outputs": [
        {
          "output_type": "stream",
          "name": "stdout",
          "text": [
            "AMC profile\n",
            "Reliance Nippon Life Asset Management or RNAM is one of India’s two largest asset management companies. Currently, it has over $60 billion in its corpus. It is a wholly owned subsidiary of the Reliance Anil Dhirubhai Ambani or ADA Group.\n",
            "AMC profile: Reliance Nippon Life Asset Management or RNAM is one of India’s two largest asset management companies. Currently, it has over $60 billion in its corpus. It is a wholly owned subsidiary of the Reliance Anil Dhirubhai Ambani or ADA Group.\n"
          ]
        }
      ]
    },
    {
      "cell_type": "code",
      "source": [
        ""
      ],
      "metadata": {
        "id": "OqosrS1L3V9y"
      },
      "execution_count": 13,
      "outputs": []
    },
    {
      "cell_type": "markdown",
      "source": [
        "### [2] Overview"
      ],
      "metadata": {
        "id": "Hl7pzStc-rt9"
      }
    },
    {
      "cell_type": "code",
      "source": [
        "# current price\n",
        "htmlBlock = soup.find(\"span\", class_=\"current-price\")\n",
        "print(htmlBlock.prettify())\n",
        "\n",
        "value = htmlBlock.text if htmlBlock is not None else None\n",
        "print(value)"
      ],
      "metadata": {
        "colab": {
          "base_uri": "https://localhost:8080/"
        },
        "id": "kPe2Uab63WAA",
        "outputId": "74afedcb-fbe9-4d3d-ec6f-33575381db4b"
      },
      "execution_count": 14,
      "outputs": [
        {
          "output_type": "stream",
          "name": "stdout",
          "text": [
            "<span class=\"jsx-3168773259 current-price typography-h1 text-primary\">\n",
            " 186.23\n",
            "</span>\n",
            "\n",
            "186.23\n"
          ]
        }
      ]
    },
    {
      "cell_type": "code",
      "source": [
        "# change absolute-value\n",
        "htmlBlock = soup.find(\"span\", class_=\"absolute-value\")\n",
        "print(htmlBlock.prettify())\n",
        "\n",
        "value = htmlBlock.text if htmlBlock is not None else None\n",
        "print(value)"
      ],
      "metadata": {
        "colab": {
          "base_uri": "https://localhost:8080/"
        },
        "id": "7CvuSrAplDBR",
        "outputId": "8566099f-37ec-40b8-d706-774c324d85ae"
      },
      "execution_count": 15,
      "outputs": [
        {
          "output_type": "stream",
          "name": "stdout",
          "text": [
            "<span class=\"jsx-3168773259 change absolute-value text-14 typography-body-medium-l down\">\n",
            " <i class=\"jsx-3168773259 icon-Red-down\">\n",
            " </i>\n",
            " 1.75\n",
            " <!-- -->\n",
            " %\n",
            "</span>\n",
            "\n",
            "1.75%\n"
          ]
        }
      ]
    },
    {
      "cell_type": "code",
      "source": [
        "# change percentage-value\n",
        "htmlBlock = soup.find(\"span\", class_=\"percentage-value\")\n",
        "print(htmlBlock.prettify())\n",
        "\n",
        "value = str(htmlBlock.text).replace(\"(\", \"\").replace(\")\", \"\").strip() if htmlBlock is not None else None\n",
        "print(value)"
      ],
      "metadata": {
        "colab": {
          "base_uri": "https://localhost:8080/"
        },
        "id": "u_RW7wVYlDEH",
        "outputId": "669bbef0-2a65-4446-e22e-87ed2492af5a"
      },
      "execution_count": 16,
      "outputs": [
        {
          "output_type": "stream",
          "name": "stdout",
          "text": [
            "<span class=\"jsx-3168773259 change percentage-value text-14 down\">\n",
            " (\n",
            " <!-- -->\n",
            " -\n",
            " <!-- -->\n",
            " 3.31\n",
            " <!-- -->\n",
            " )\n",
            "</span>\n",
            "-3.31\n"
          ]
        }
      ]
    },
    {
      "cell_type": "code",
      "source": [
        "# tracking\n",
        "htmlBlock = soup.find(\"p\", class_=\"mb12\")\n",
        "print(htmlBlock.prettify())\n",
        "\n",
        "value = htmlBlock.text if htmlBlock is not None else None\n",
        "print(value)"
      ],
      "metadata": {
        "colab": {
          "base_uri": "https://localhost:8080/"
        },
        "id": "kqbW592-Yrax",
        "outputId": "2767e42f-9f74-4c06-c08f-5f5b16451edc"
      },
      "execution_count": 17,
      "outputs": [
        {
          "output_type": "stream",
          "name": "stdout",
          "text": [
            "<p class=\"text-12 desktop--only mb12 text-12\">\n",
            " Tracking\n",
            " <!-- -->\n",
            " <a class=\"typography-body-medium-xs pointer text-blue text-uppercase\" href=\"https://www.tickertape.in/indices/nifty-index-.NSEI\" rel=\"noreferrer noopener\" target=\"_blank\" title=\"Nifty Index\">\n",
            "  Nifty Index\n",
            " </a>\n",
            "</p>\n",
            "\n",
            "Tracking Nifty Index\n"
          ]
        }
      ]
    },
    {
      "cell_type": "code",
      "source": [
        "# day high, low, returns\n",
        "htmlBlock = soup.find(\"div\", class_=\"statbox\")\n",
        "print(htmlBlock.prettify())\n",
        "\n",
        "# value = htmlBlock.text if htmlBlock is not None else None\n",
        "# print(value)\n",
        "\n",
        "# NOT POSSIBLE, DYNAMICALLY CALCULATED AFTER PAGE LOAD!!!!"
      ],
      "metadata": {
        "colab": {
          "base_uri": "https://localhost:8080/"
        },
        "id": "dIhdpRgBAUU5",
        "outputId": "100c2dbc-9fe2-424c-8ff8-acc5f9bb6a0e"
      },
      "execution_count": 18,
      "outputs": [
        {
          "output_type": "stream",
          "name": "stdout",
          "text": [
            "<div class=\"jsx-1785027547 statbox \">\n",
            " <div class=\"jsx-3420801268\">\n",
            "  <div class=\"jsx-3420801268 typography-body-regular-m text-secondary \">\n",
            "   High\n",
            "  </div>\n",
            "  <div class=\"jsx-3420801268 value typography-body-medium-l text-primary \">\n",
            "   —\n",
            "  </div>\n",
            " </div>\n",
            " <div class=\"jsx-3420801268\">\n",
            "  <div class=\"jsx-3420801268 typography-body-regular-m text-secondary \">\n",
            "   Low\n",
            "  </div>\n",
            "  <div class=\"jsx-3420801268 value typography-body-medium-l text-primary \">\n",
            "   —\n",
            "  </div>\n",
            " </div>\n",
            " <div class=\"jsx-3420801268\">\n",
            "  <div class=\"jsx-3420801268 typography-body-regular-m text-secondary \">\n",
            "   Returns\n",
            "  </div>\n",
            "  <div class=\"jsx-3420801268 value typography-body-medium-l text-primary \">\n",
            "   —\n",
            "  </div>\n",
            " </div>\n",
            "</div>\n"
          ]
        }
      ]
    },
    {
      "cell_type": "code",
      "source": [
        ""
      ],
      "metadata": {
        "id": "nssx6D3kIQ2L"
      },
      "execution_count": 18,
      "outputs": []
    },
    {
      "cell_type": "code",
      "source": [
        "# we can get the full price data from this url:\n",
        "\n",
        "# for day chart:\n",
        "# \"https://api.tickertape.in/stocks/charts/intra/{some-internal-code-name}\"\n",
        "\n",
        "# for other durations:\n",
        "# \"https://api.tickertape.in/stocks/charts/inter/{some-internal-code-name}?duration={Duration}\"\n",
        "# dutations: \"1w\" for week, \"1mo\" for month, \"1y\" for 1year, \"5y\" for 5year, \"max\" for full\n",
        "\n",
        "# for SIP:\n",
        "# https://api.tickertape.in/stocks/charts/sip/{some-internal-code-name}\n",
        "\n",
        "# Example: \"https://api.tickertape.in/stocks/charts/inter/NBES?duration=1w\"\n",
        "\n",
        "## NEED INVESTIGATION ON HOW TO EXTRACT THE CODE NAMES\n",
        "## (Found: it's the last keyword in caps at the end of the url)"
      ],
      "metadata": {
        "id": "X_5C7HJoEndk"
      },
      "execution_count": 19,
      "outputs": []
    },
    {
      "cell_type": "code",
      "source": [
        "chartData = requests.get(\"https://api.tickertape.in/stocks/charts/inter/NBES?duration=1w\")\n",
        "chartData.text"
      ],
      "metadata": {
        "colab": {
          "base_uri": "https://localhost:8080/",
          "height": 122
        },
        "id": "o7dGoc88Enf5",
        "outputId": "47d5b93c-4c32-466e-d2fc-edaffb6812c7"
      },
      "execution_count": 20,
      "outputs": [
        {
          "output_type": "execute_result",
          "data": {
            "text/plain": [
              "'{\"success\":true,\"data\":[{\"points\":[{\"lp\":191.62,\"v\":207033,\"ts\":\"2022-04-11T03:49:00.000Z\"},{\"lp\":191.36,\"v\":327401,\"ts\":\"2022-04-11T03:54:00.000Z\"},{\"lp\":191.28,\"v\":439119,\"ts\":\"2022-04-11T03:59:00.000Z\"},{\"lp\":191.4,\"v\":516523,\"ts\":\"2022-04-11T04:04:00.000Z\"},{\"lp\":191.45,\"v\":561202,\"ts\":\"2022-04-11T04:09:00.000Z\"},{\"lp\":191.11,\"v\":732095,\"ts\":\"2022-04-11T04:14:00.000Z\"},{\"lp\":191.17,\"v\":761637,\"ts\":\"2022-04-11T04:19:00.000Z\"},{\"lp\":191.28,\"v\":811203,\"ts\":\"2022-04-11T04:24:00.000Z\"},{\"lp\":191.49,\"v\":847923,\"ts\":\"2022-04-11T04:29:00.000Z\"},{\"lp\":191.43,\"v\":893493,\"ts\":\"2022-04-11T04:34:00.000Z\"},{\"lp\":191.63,\"v\":914914,\"ts\":\"2022-04-11T04:39:00.000Z\"},{\"lp\":191.62,\"v\":964588,\"ts\":\"2022-04-11T04:44:00.000Z\"},{\"lp\":191.65,\"v\":1021729,\"ts\":\"2022-04-11T04:49:00.000Z\"},{\"lp\":191.64,\"v\":1035659,\"ts\":\"2022-04-11T04:54:00.000Z\"},{\"lp\":191.75,\"v\":1058755,\"ts\":\"2022-04-11T04:59:00.000Z\"},{\"lp\":191.54,\"v\":1086648,\"ts\":\"2022-04-11T05:04:00.000Z\"},{\"lp\":191.56,\"v\":1109422,\"ts\":\"2022-04-11T05:09:00.000Z\"},{\"lp\":191.35,\"v\":1143466,\"ts\":\"2022-04-11T05:14:00.000Z\"},{\"lp\":191.38,\"v\":1168520,\"ts\":\"2022-04-11T05:19:00.000Z\"},{\"lp\":191.33,\"v\":1186315,\"ts\":\"2022-04-11T05:24:00.000Z\"},{\"lp\":191.35,\"v\":1213213,\"ts\":\"2022-04-11T05:29:00.000Z\"},{\"lp\":191.29,\"v\":1235539,\"ts\":\"2022-04-11T05:34:00.000Z\"},{\"lp\":191.34,\"v\":1255180,\"ts\":\"2022-04-11T05:39:00.000Z\"},{\"lp\":191.48,\"v\":1305949,\"ts\":\"2022-04-11T05:44:00.000Z\"},{\"lp\":191.48,\"v\":1329267,\"ts\":\"2022-04-11T05:49:00.000Z\"},{\"lp\":191.5,\"v\":1351861,\"ts\":\"2022-04-11T05:54:00.000Z\"},{\"lp\":191.58,\"v\":1367602,\"ts\":\"2022-04-11T05:59:00.000Z\"},{\"lp\":191.64,\"v\":1382176,\"ts\":\"2022-04-11T06:04:00.000Z\"},{\"lp\":191.65,\"v\":1406367,\"ts\":\"2022-04-11T06:09:00.000Z\"},{\"lp\":191.72,\"v\":1417600,\"ts\":\"2022-04-11T06:14:00.000Z\"},{\"lp\":191.87,\"v\":1637679,\"ts\":\"2022-04-11T06:19:00.000Z\"},{\"lp\":191.86,\"v\":1647840,\"ts\":\"2022-04-11T06:24:00.000Z\"},{\"lp\":191.9,\"v\":1960019,\"ts\":\"2022-04-11T06:29:00.000Z\"},{\"lp\":192.05,\"v\":2173681,\"ts\":\"2022-04-11T06:34:00.000Z\"},{\"lp\":192.1,\"v\":2285948,\"ts\":\"2022-04-11T06:39:00.000Z\"},{\"lp\":192.26,\"v\":2310624,\"ts\":\"2022-04-11T06:44:00.000Z\"},{\"lp\":192.34,\"v\":2418826,\"ts\":\"2022-04-11T06:49:00.000Z\"},{\"lp\":192.15,\"v\":2653887,\"ts\":\"2022-04-11T06:54:00.000Z\"},{\"lp\":192.03,\"v\":2962191,\"ts\":\"2022-04-11T06:59:00.000Z\"},{\"lp\":191.81,\"v\":3022439,\"ts\":\"2022-04-11T07:04:00.000Z\"},{\"lp\":191.89,\"v\":3039572,\"ts\":\"2022-04-11T07:09:00.000Z\"},{\"lp\":191.84,\"v\":3050780,\"ts\":\"2022-04-11T07:14:00.000Z\"},{\"lp\":191.91,\"v\":3056907,\"ts\":\"2022-04-11T07:19:00.000Z\"},{\"lp\":192.08,\"v\":3084469,\"ts\":\"2022-04-11T07:24:00.000Z\"},{\"lp\":192.3,\"v\":3107271,\"ts\":\"2022-04-11T07:29:00.000Z\"},{\"lp\":192.42,\"v\":3146654,\"ts\":\"2022-04-11T07:34:00.000Z\"},{\"lp\":192.29,\"v\":3163660,\"ts\":\"2022-04-11T07:39:00.000Z\"},{\"lp\":192.34,\"v\":3170187,\"ts\":\"2022-04-11T07:44:00.000Z\"},{\"lp\":192.45,\"v\":3221690,\"ts\":\"2022-04-11T07:49:00.000Z\"},{\"lp\":192.42,\"v\":3231672,\"ts\":\"2022-04-11T07:54:00.000Z\"},{\"lp\":192.4,\"v\":3245819,\"ts\":\"2022-04-11T07:59:00.000Z\"},{\"lp\":192.52,\"v\":3274582,\"ts\":\"2022-04-11T08:04:00.000Z\"},{\"lp\":192.64,\"v\":3296236,\"ts\":\"2022-04-11T08:09:00.000Z\"},{\"lp\":192.26,\"v\":3317198,\"ts\":\"2022-04-11T08:14:00.000Z\"},{\"lp\":192.2,\"v\":3334251,\"ts\":\"2022-04-11T08:19:00.000Z\"},{\"lp\":192.27,\"v\":3348196,\"ts\":\"2022-04-11T08:24:00.000Z\"},{\"lp\":192.1,\"v\":3359907,\"ts\":\"2022-04-11T08:29:00.000Z\"},{\"lp\":192.08,\"v\":3370437,\"ts\":\"2022-04-11T08:34:00.000Z\"},{\"lp\":192.31,\"v\":3380629,\"ts\":\"2022-04-11T08:39:00.000Z\"},{\"lp\":192.25,\"v\":3384500,\"ts\":\"2022-04-11T08:44:00.000Z\"},{\"lp\":192.2,\"v\":3390605,\"ts\":\"2022-04-11T08:49:00.000Z\"},{\"lp\":192.35,\"v\":3424241,\"ts\":\"2022-04-11T08:54:00.000Z\"},{\"lp\":192.38,\"v\":3431203,\"ts\":\"2022-04-11T08:59:00.000Z\"},{\"lp\":192.2,\"v\":3443980,\"ts\":\"2022-04-11T09:04:00.000Z\"},{\"lp\":192.24,\"v\":3453391,\"ts\":\"2022-04-11T09:09:00.000Z\"},{\"lp\":191.84,\"v\":3478906,\"ts\":\"2022-04-11T09:14:00.000Z\"},{\"lp\":191.82,\"v\":3518773,\"ts\":\"2022-04-11T09:19:00.000Z\"},{\"lp\":191.95,\"v\":3541204,\"ts\":\"2022-04-11T09:24:00.000Z\"},{\"lp\":191.85,\"v\":3557703,\"ts\":\"2022-04-11T09:29:00.000Z\"},{\"lp\":191.71,\"v\":3623507,\"ts\":\"2022-04-11T09:34:00.000Z\"},{\"lp\":191.79,\"v\":3666327,\"ts\":\"2022-04-11T09:39:00.000Z\"},{\"lp\":191.74,\"v\":3743774,\"ts\":\"2022-04-11T09:44:00.000Z\"},{\"lp\":191.65,\"v\":3801714,\"ts\":\"2022-04-11T09:49:00.000Z\"},{\"lp\":191.7,\"v\":3862659,\"ts\":\"2022-04-11T09:54:00.000Z\"},{\"lp\":191.67,\"v\":3910752,\"ts\":\"2022-04-11T09:59:00.000Z\"},{\"lp\":191.67,\"v\":3910786,\"ts\":\"2022-04-11T10:14:00.000Z\"},{\"lp\":191.67,\"v\":3910821,\"ts\":\"2022-04-11T10:19:00.000Z\"},{\"lp\":191.67,\"v\":3910869,\"ts\":\"2022-04-11T10:23:00.000Z\"},{\"lp\":190.51,\"v\":0,\"ts\":\"2022-04-11T10:25:00.000Z\"},{\"lp\":190.35,\"v\":192148,\"ts\":\"2022-04-12T03:49:00.000Z\"},{\"lp\":190.44,\"v\":250606,\"ts\":\"2022-04-12T03:54:00.000Z\"},{\"lp\":190.57,\"v\":294698,\"ts\":\"2022-04-12T03:59:00.000Z\"},{\"lp\":190.01,\"v\":381265,\"ts\":\"2022-04-12T04:04:00.000Z\"},{\"lp\":190.19,\"v\":566930,\"ts\":\"2022-04-12T04:09:00.000Z\"},{\"lp\":190.36,\"v\":610848,\"ts\":\"2022-04-12T04:14:00.000Z\"},{\"lp\":190.2,\"v\":643360,\"ts\":\"2022-04-12T04:19:00.000Z\"},{\"lp\":190.15,\"v\":682894,\"ts\":\"2022-04-12T04:24:00.000Z\"},{\"lp\":189.92,\"v\":769793,\"ts\":\"2022-04-12T04:29:00.000Z\"},{\"lp\":189.81,\"v\":871392,\"ts\":\"2022-04-12T04:34:00.000Z\"},{\"lp\":189.84,\"v\":973245,\"ts\":\"2022-04-12T04:39:00.000Z\"},{\"lp\":189.7,\"v\":1057933,\"ts\":\"2022-04-12T04:44:00.000Z\"},{\"lp\":189.59,\"v\":1175852,\"ts\":\"2022-04-12T04:49:00.000Z\"},{\"lp\":189.54,\"v\":1274170,\"ts\":\"2022-04-12T04:54:00.000Z\"},{\"lp\":189.57,\"v\":1350666,\"ts\":\"2022-04-12T04:59:00.000Z\"},{\"lp\":189.68,\"v\":1402068,\"ts\":\"2022-04-12T05:04:00.000Z\"},{\"lp\":189.75,\"v\":1447524,\"ts\":\"2022-04-12T05:09:00.000Z\"},{\"lp\":189.97,\"v\":1492950,\"ts\":\"2022-04-12T05:14:00.000Z\"},{\"lp\":189.86,\"v\":1530509,\"ts\":\"2022-04-12T05:19:00.000Z\"},{\"lp\":189.82,\"v\":1559020,\"ts\":\"2022-04-12T05:24:00.000Z\"},{\"lp\":189.75,\"v\":1598340,\"ts\":\"2022-04-12T05:29:00.000Z\"},{\"lp\":189.95,\"v\":1631796,\"ts\":\"2022-04-12T05:34:00.000Z\"},{\"lp\":189.88,\"v\":1668092,\"ts\":\"2022-04-12T05:39:00.000Z\"},{\"lp\":189.7,\"v\":1706978,\"ts\":\"2022-04-12T05:44:00.000Z\"},{\"lp\":189.89,\"v\":1747689,\"ts\":\"2022-04-12T05:49:00.000Z\"},{\"lp\":189.87,\"v\":1778475,\"ts\":\"2022-04-12T05:54:00.000Z\"},{\"lp\":189.81,\"v\":1810866,\"ts\":\"2022-04-12T05:59:00.000Z\"},{\"lp\":189.61,\"v\":1839626,\"ts\":\"2022-04-12T06:04:00.000Z\"},{\"lp\":189.77,\"v\":1883403,\"ts\":\"2022-04-12T06:09:00.000Z\"},{\"lp\":189.87,\"v\":1914510,\"ts\":\"2022-04-12T06:14:00.000Z\"},{\"lp\":189.81,\"v\":1967899,\"ts\":\"2022-04-12T06:19:00.000Z\"},{\"lp\":189.94,\"v\":2016820,\"ts\":\"2022-04-12T06:24:00.000Z\"},{\"lp\":189.87,\"v\":2051972,\"ts\":\"2022-04-12T06:29:00.000Z\"},{\"lp\":189.81,\"v\":2083675,\"ts\":\"2022-04-12T06:34:00.000Z\"},{\"lp\":189.95,\"v\":2112981,\"ts\":\"2022-04-12T06:39:00.000Z\"},{\"lp\":189.81,\"v\":2139662,\"ts\":\"2022-04-12T06:44:00.000Z\"},{\"lp\":189.76,\"v\":2170498,\"ts\":\"2022-04-12T06:49:00.000Z\"},{\"lp\":189.7,\"v\":2199360,\"ts\":\"2022-04-12T06:54:00.000Z\"},{\"lp\":189.68,\"v\":2227976,\"ts\":\"2022-04-12T06:59:00.000Z\"},{\"lp\":189.64,\"v\":2261249,\"ts\":\"2022-04-12T07:04:00.000Z\"},{\"lp\":189.52,\"v\":2312933,\"ts\":\"2022-04-12T07:09:00.000Z\"},{\"lp\":189.65,\"v\":2340882,\"ts\":\"2022-04-12T07:14:00.000Z\"},{\"lp\":189.51,\"v\":2365927,\"ts\":\"2022-04-12T07:19:00.000Z\"},{\"lp\":189.6,\"v\":2401855,\"ts\":\"2022-04-12T07:24:00.000Z\"},{\"lp\":189.59,\"v\":2427848,\"ts\":\"2022-04-12T07:29:00.000Z\"},{\"lp\":189.64,\"v\":2474269,\"ts\":\"2022-04-12T07:34:00.000Z\"},{\"lp\":189.5,\"v\":2507053,\"ts\":\"2022-04-12T07:39:00.000Z\"},{\"lp\":189.35,\"v\":2554245,\"ts\":\"2022-04-12T07:44:00.000Z\"},{\"lp\":189.31,\"v\":2575762,\"ts\":\"2022-04-12T07:49:00.000Z\"},{\"lp\":189.4,\"v\":2606129,\"ts\":\"2022-04-12T07:54:00.000Z\"},{\"lp\":189.4,\"v\":2641571,\"ts\":\"2022-04-12T07:59:00.000Z\"},{\"lp\":189.47,\"v\":2678075,\"ts\":\"2022-04-12T08:04:00.000Z\"},{\"lp\":189.45,\"v\":2701605,\"ts\":\"2022-04-12T08:09:00.000Z\"},{\"lp\":189.25,\"v\":2807750,\"ts\":\"2022-04-12T08:14:00.000Z\"},{\"lp\":189.37,\"v\":2872559,\"ts\":\"2022-04-12T08:19:00.000Z\"},{\"lp\":189.47,\"v\":2910342,\"ts\":\"2022-04-12T08:24:00.000Z\"},{\"lp\":189.59,\"v\":2951454,\"ts\":\"2022-04-12T08:29:00.000Z\"},{\"lp\":189.76,\"v\":3027475,\"ts\":\"2022-04-12T08:34:00.000Z\"},{\"lp\":190.04,\"v\":3120728,\"ts\":\"2022-04-12T08:39:00.000Z\"},{\"lp\":190,\"v\":3181766,\"ts\":\"2022-04-12T08:44:00.000Z\"},{\"lp\":190.05,\"v\":3230863,\"ts\":\"2022-04-12T08:49:00.000Z\"},{\"lp\":190.25,\"v\":3319167,\"ts\":\"2022-04-12T08:54:00.000Z\"},{\"lp\":190.46,\"v\":3458469,\"ts\":\"2022-04-12T08:59:00.000Z\"},{\"lp\":190.46,\"v\":3543721,\"ts\":\"2022-04-12T09:04:00.000Z\"},{\"lp\":190.45,\"v\":3674695,\"ts\":\"2022-04-12T09:09:00.000Z\"},{\"lp\":190.49,\"v\":3737997,\"ts\":\"2022-04-12T09:14:00.000Z\"},{\"lp\":190.12,\"v\":3942562,\"ts\":\"2022-04-12T09:19:00.000Z\"},{\"lp\":190.21,\"v\":3980886,\"ts\":\"2022-04-12T09:24:00.000Z\"},{\"lp\":190.52,\"v\":4929794,\"ts\":\"2022-04-12T09:29:00.000Z\"},{\"lp\":190.33,\"v\":6670093,\"ts\":\"2022-04-12T09:34:00.000Z\"},{\"lp\":190.24,\"v\":7110063,\"ts\":\"2022-04-12T09:39:00.000Z\"},{\"lp\":190.13,\"v\":7218002,\"ts\":\"2022-04-12T09:44:00.000Z\"},{\"lp\":189.98,\"v\":7298581,\"ts\":\"2022-04-12T09:49:00.000Z\"},{\"lp\":190.06,\"v\":7329826,\"ts\":\"2022-04-12T09:54:00.000Z\"},{\"lp\":190.42,\"v\":7385890,\"ts\":\"2022-04-12T09:59:00.000Z\"},{\"lp\":190.42,\"v\":7386042,\"ts\":\"2022-04-12T10:14:00.000Z\"},{\"lp\":190.42,\"v\":7386075,\"ts\":\"2022-04-12T10:19:00.000Z\"},{\"lp\":190.42,\"v\":7386085,\"ts\":\"2022-04-12T10:21:00.000Z\"},{\"lp\":190.9,\"v\":0,\"ts\":\"2022-04-12T10:28:00.000Z\"},{\"lp\":190.98,\"v\":113355,\"ts\":\"2022-04-13T03:49:00.000Z\"},{\"lp\":191.07,\"v\":160511,\"ts\":\"2022-04-13T03:54:00.000Z\"},{\"lp\":191.2,\"v\":181801,\"ts\":\"2022-04-13T03:59:00.000Z\"},{\"lp\":191.23,\"v\":225259,\"ts\":\"2022-04-13T04:04:00.000Z\"},{\"lp\":191.27,\"v\":250744,\"ts\":\"2022-04-13T04:09:00.000Z\"},{\"lp\":191,\"v\":265047,\"ts\":\"2022-04-13T04:14:00.000Z\"},{\"lp\":191.07,\"v\":286376,\"ts\":\"2022-04-13T04:19:00.000Z\"},{\"lp\":191.04,\"v\":299263,\"ts\":\"2022-04-13T04:24:00.000Z\"},{\"lp\":190.85,\"v\":323686,\"ts\":\"2022-04-13T04:29:00.000Z\"},{\"lp\":190.6,\"v\":362218,\"ts\":\"2022-04-13T04:34:00.000Z\"},{\"lp\":190.53,\"v\":383629,\"ts\":\"2022-04-13T04:39:00.000Z\"},{\"lp\":190.36,\"v\":420453,\"ts\":\"2022-04-13T04:44:00.000Z\"},{\"lp\":190.36,\"v\":447877,\"ts\":\"2022-04-13T04:49:00.000Z\"},{\"lp\":190.35,\"v\":461497,\"ts\":\"2022-04-13T04:54:00.000Z\"},{\"lp\":190.17,\"v\":499852,\"ts\":\"2022-04-13T04:59:00.000Z\"},{\"lp\":190.16,\"v\":556079,\"ts\":\"2022-04-13T05:04:00.000Z\"},{\"lp\":190.38,\"v\":586464,\"ts\":\"2022-04-13T05:09:00.000Z\"},{\"lp\":190.28,\"v\":599414,\"ts\":\"2022-04-13T05:14:00.000Z\"},{\"lp\":190.23,\"v\":664304,\"ts\":\"2022-04-13T05:19:00.000Z\"},{\"lp\":190.32,\"v\":674060,\"ts\":\"2022-04-13T05:24:00.000Z\"},{\"lp\":190.2,\"v\":684344,\"ts\":\"2022-04-13T05:29:00.000Z\"},{\"lp\":190.3,\"v\":692192,\"ts\":\"2022-04-13T05:34:00.000Z\"},{\"lp\":190.25,\"v\":706615,\"ts\":\"2022-04-13T05:39:00.000Z\"},{\"lp\":190.2,\"v\":719677,\"ts\":\"2022-04-13T05:44:00.000Z\"},{\"lp\":190.32,\"v\":734737,\"ts\":\"2022-04-13T05:49:00.000Z\"},{\"lp\":190.32,\"v\":742983,\"ts\":\"2022-04-13T05:54:00.000Z\"},{\"lp\":190.4,\"v\":749417,\"ts\":\"2022-04-13T05:59:00.000Z\"},{\"lp\":190.35,\"v\":756611,\"ts\":\"2022-04-13T06:04:00.000Z\"},{\"lp\":190.17,\"v\":781251,\"ts\":\"2022-04-13T06:09:00.000Z\"},{\"lp\":189.95,\"v\":850269,\"ts\":\"2022-04-13T06:14:00.000Z\"},{\"lp\":190,\"v\":928129,\"ts\":\"2022-04-13T06:19:00.000Z\"},{\"lp\":190.1,\"v\":950064,\"ts\":\"2022-04-13T06:24:00.000Z\"},{\"lp\":190.12,\"v\":961767,\"ts\":\"2022-04-13T06:29:00.000Z\"},{\"lp\":189.93,\"v\":975876,\"ts\":\"2022-04-13T06:34:00.000Z\"},{\"lp\":189.83,\"v\":990646,\"ts\":\"2022-04-13T06:39:00.000Z\"},{\"lp\":189.66,\"v\":1004604,\"ts\":\"2022-04-13T06:44:00.000Z\"},{\"lp\":189.55,\"v\":1051273,\"ts\":\"2022-04-13T06:49:00.000Z\"},{\"lp\":189.65,\"v\":1081814,\"ts\":\"2022-04-13T06:54:00.000Z\"},{\"lp\":189.52,\"v\":1095177,\"ts\":\"2022-04-13T06:59:00.000Z\"},{\"lp\":189.66,\"v\":1143483,\"ts\":\"2022-04-13T07:04:00.000Z\"},{\"lp\":189.6,\"v\":1156711,\"ts\":\"2022-04-13T07:09:00.000Z\"},{\"lp\":189.61,\"v\":1169324,\"ts\":\"2022-04-13T07:14:00.000Z\"},{\"lp\":189.73,\"v\":1175531,\"ts\":\"2022-04-13T07:19:00.000Z\"},{\"lp\":189.56,\"v\":1215261,\"ts\":\"2022-04-13T07:24:00.000Z\"},{\"lp\":189.58,\"v\":1225767,\"ts\":\"2022-04-13T07:29:00.000Z\"},{\"lp\":189.51,\"v\":1237808,\"ts\":\"2022-04-13T07:34:00.000Z\"},{\"lp\":189.68,\"v\":1247981,\"ts\":\"2022-04-13T07:39:00.000Z\"},{\"lp\":189.87,\"v\":1266702,\"ts\":\"2022-04-13T07:44:00.000Z\"},{\"lp\":189.9,\"v\":1283104,\"ts\":\"2022-04-13T07:49:00.000Z\"},{\"lp\":189.84,\"v\":1288014,\"ts\":\"2022-04-13T07:54:00.000Z\"},{\"lp\":189.76,\"v\":1306155,\"ts\":\"2022-04-13T07:59:00.000Z\"},{\"lp\":189.78,\"v\":1313143,\"ts\":\"2022-04-13T08:04:00.000Z\"},{\"lp\":189.73,\"v\":1329428,\"ts\":\"2022-04-13T08:09:00.000Z\"},{\"lp\":189.74,\"v\":1357883,\"ts\":\"2022-04-13T08:14:00.000Z\"},{\"lp\":189.55,\"v\":1371324,\"ts\":\"2022-04-13T08:19:00.000Z\"},{\"lp\":189.7,\"v\":1384456,\"ts\":\"2022-04-13T08:24:00.000Z\"},{\"lp\":189.69,\"v\":1389969,\"ts\":\"2022-04-13T08:29:00.000Z\"},{\"lp\":189.8,\"v\":1399926,\"ts\":\"2022-04-13T08:34:00.000Z\"},{\"lp\":189.82,\"v\":1413944,\"ts\":\"2022-04-13T08:39:00.000Z\"},{\"lp\":189.89,\"v\":1721540,\"ts\":\"2022-04-13T08:44:00.000Z\"},{\"lp\":190,\"v\":1766224,\"ts\":\"2022-04-13T08:49:00.000Z\"},{\"lp\":189.88,\"v\":1778557,\"ts\":\"2022-04-13T08:54:00.000Z\"},{\"lp\":189.95,\"v\":1793061,\"ts\":\"2022-04-13T08:59:00.000Z\"},{\"lp\":189.83,\"v\":1803754,\"ts\":\"2022-04-13T09:04:00.000Z\"},{\"lp\":189.92,\"v\":1861277,\"ts\":\"2022-04-13T09:09:00.000Z\"},{\"lp\":190,\"v\":1871920,\"ts\":\"2022-04-13T09:14:00.000Z\"},{\"lp\":189.9,\"v\":2430304,\"ts\":\"2022-04-13T09:19:00.000Z\"},{\"lp\":189.9,\"v\":2619936,\"ts\":\"2022-04-13T09:24:00.000Z\"},{\"lp\":189.8,\"v\":2668499,\"ts\":\"2022-04-13T09:29:00.000Z\"},{\"lp\":189.6,\"v\":2694349,\"ts\":\"2022-04-13T09:34:00.000Z\"},{\"lp\":189.55,\"v\":2775008,\"ts\":\"2022-04-13T09:39:00.000Z\"},{\"lp\":189.51,\"v\":3093553,\"ts\":\"2022-04-13T09:44:00.000Z\"},{\"lp\":189.55,\"v\":3177153,\"ts\":\"2022-04-13T09:49:00.000Z\"},{\"lp\":189.57,\"v\":3253645,\"ts\":\"2022-04-13T09:54:00.000Z\"},{\"lp\":189.54,\"v\":3321649,\"ts\":\"2022-04-13T09:59:00.000Z\"},{\"lp\":189.54,\"v\":3322225,\"ts\":\"2022-04-13T10:13:00.000Z\"},{\"lp\":189.54,\"v\":3322377,\"ts\":\"2022-04-13T10:17:00.000Z\"},{\"lp\":187.99,\"v\":0,\"ts\":\"2022-04-13T10:28:00.000Z\"}],\"sid\":\"NBES\",\"h\":210,\"l\":189.2,\"r\":-1.9557734432043392}],\"error\":null}'"
            ],
            "application/vnd.google.colaboratory.intrinsic+json": {
              "type": "string"
            }
          },
          "metadata": {},
          "execution_count": 20
        }
      ]
    },
    {
      "cell_type": "code",
      "source": [
        "# chartData.json()['data'][0]['points'][0]['lp']\n",
        "x = [dt.datetime.strptime(data['ts'],'%Y-%m-%dT%H:%M:%S.%fZ') for data in chartData.json()['data'][0]['points']]\n",
        "y = [data['lp'] for data in chartData.json()['data'][0]['points']]\n",
        "\n",
        "plt.plot(x, y)\n",
        "plt.show()"
      ],
      "metadata": {
        "colab": {
          "base_uri": "https://localhost:8080/",
          "height": 265
        },
        "id": "TpDTe_DXEnj3",
        "outputId": "ac05cdaf-cb6f-4cec-84ba-41890f1aaeab"
      },
      "execution_count": 21,
      "outputs": [
        {
          "output_type": "display_data",
          "data": {
            "text/plain": [
              "<Figure size 432x288 with 1 Axes>"
            ],
            "image/png": "[encoded data removed]"
          },
          "metadata": {
            "needs_background": "light"
          }
        }
      ]
    },
    {
      "cell_type": "code",
      "source": [
        "rawData = pd.DataFrame(chartData.json()['data'][0]['points'])\n",
        "rawData['ts']= pd.to_datetime(rawData['ts'])\n",
        "rawData.info()"
      ],
      "metadata": {
        "colab": {
          "base_uri": "https://localhost:8080/"
        },
        "id": "on9xpX6II9R3",
        "outputId": "d255fc45-3b65-4eaf-9e88-6e6ff9ecfcfc"
      },
      "execution_count": 22,
      "outputs": [
        {
          "output_type": "stream",
          "name": "stdout",
          "text": [
            "<class 'pandas.core.frame.DataFrame'>\n",
            "RangeIndex: 236 entries, 0 to 235\n",
            "Data columns (total 3 columns):\n",
            " #   Column  Non-Null Count  Dtype              \n",
            "---  ------  --------------  -----              \n",
            " 0   lp      236 non-null    float64            \n",
            " 1   v       236 non-null    int64              \n",
            " 2   ts      236 non-null    datetime64[ns, UTC]\n",
            "dtypes: datetime64[ns, UTC](1), float64(1), int64(1)\n",
            "memory usage: 5.7 KB\n"
          ]
        }
      ]
    },
    {
      "cell_type": "code",
      "source": [
        "fig = px.line(rawData, x='ts', y=\"lp\")\n",
        "fig.show()"
      ],
      "metadata": {
        "colab": {
          "base_uri": "https://localhost:8080/",
          "height": 542
        },
        "id": "ftcOiWbIWg41",
        "outputId": "45295176-db86-4f10-91b4-fbf361a3fa74"
      },
      "execution_count": 23,
      "outputs": [
        {
          "output_type": "display_data",
          "data": {
            "text/html": [
              "<html>\n",
              "<head><meta charset=\"utf-8\" /></head>\n",
              "<body>\n",
              "    <div>            <script src=\"https://cdnjs.cloudflare.com/ajax/libs/mathjax/2.7.5/MathJax.js?config=TeX-AMS-MML_SVG\"></script><script type=\"text/javascript\">if (window.MathJax) {MathJax.Hub.Config({SVG: {font: \"STIX-Web\"}});}</script>                <script type=\"text/javascript\">window.PlotlyConfig = {MathJaxConfig: 'local'};</script>\n",
              "        <script src=\"https://cdn.plot.ly/plotly-2.8.3.min.js\"></script>                <div id=\"7a4eed92-11d0-498f-b32f-71d02850e604\" class=\"plotly-graph-div\" style=\"height:525px; width:100%;\"></div>            <script type=\"text/javascript\">                                    window.PLOTLYENV=window.PLOTLYENV || {};                                    if (document.getElementById(\"7a4eed92-11d0-498f-b32f-71d02850e604\")) {                    Plotly.newPlot(                        \"7a4eed92-11d0-498f-b32f-71d02850e604\",                        [{\"hovertemplate\":\"ts=%{x}<br>lp=%{y}<extra></extra>\",\"legendgroup\":\"\",\"line\":{\"color\":\"#636efa\",\"dash\":\"solid\"},\"marker\":{\"symbol\":\"circle\"},\"mode\":\"lines\",\"name\":\"\",\"orientation\":\"v\",\"showlegend\":false,\"x\":[\"2022-04-11T03:49:00+00:00\",\"2022-04-11T03:54:00+00:00\",\"2022-04-11T03:59:00+00:00\",\"2022-04-11T04:04:00+00:00\",\"2022-04-11T04:09:00+00:00\",\"2022-04-11T04:14:00+00:00\",\"2022-04-11T04:19:00+00:00\",\"2022-04-11T04:24:00+00:00\",\"2022-04-11T04:29:00+00:00\",\"2022-04-11T04:34:00+00:00\",\"2022-04-11T04:39:00+00:00\",\"2022-04-11T04:44:00+00:00\",\"2022-04-11T04:49:00+00:00\",\"2022-04-11T04:54:00+00:00\",\"2022-04-11T04:59:00+00:00\",\"2022-04-11T05:04:00+00:00\",\"2022-04-11T05:09:00+00:00\",\"2022-04-11T05:14:00+00:00\",\"2022-04-11T05:19:00+00:00\",\"2022-04-11T05:24:00+00:00\",\"2022-04-11T05:29:00+00:00\",\"2022-04-11T05:34:00+00:00\",\"2022-04-11T05:39:00+00:00\",\"2022-04-11T05:44:00+00:00\",\"2022-04-11T05:49:00+00:00\",\"2022-04-11T05:54:00+00:00\",\"2022-04-11T05:59:00+00:00\",\"2022-04-11T06:04:00+00:00\",\"2022-04-11T06:09:00+00:00\",\"2022-04-11T06:14:00+00:00\",\"2022-04-11T06:19:00+00:00\",\"2022-04-11T06:24:00+00:00\",\"2022-04-11T06:29:00+00:00\",\"2022-04-11T06:34:00+00:00\",\"2022-04-11T06:39:00+00:00\",\"2022-04-11T06:44:00+00:00\",\"2022-04-11T06:49:00+00:00\",\"2022-04-11T06:54:00+00:00\",\"2022-04-11T06:59:00+00:00\",\"2022-04-11T07:04:00+00:00\",\"2022-04-11T07:09:00+00:00\",\"2022-04-11T07:14:00+00:00\",\"2022-04-11T07:19:00+00:00\",\"2022-04-11T07:24:00+00:00\",\"2022-04-11T07:29:00+00:00\",\"2022-04-11T07:34:00+00:00\",\"2022-04-11T07:39:00+00:00\",\"2022-04-11T07:44:00+00:00\",\"2022-04-11T07:49:00+00:00\",\"2022-04-11T07:54:00+00:00\",\"2022-04-11T07:59:00+00:00\",\"2022-04-11T08:04:00+00:00\",\"2022-04-11T08:09:00+00:00\",\"2022-04-11T08:14:00+00:00\",\"2022-04-11T08:19:00+00:00\",\"2022-04-11T08:24:00+00:00\",\"2022-04-11T08:29:00+00:00\",\"2022-04-11T08:34:00+00:00\",\"2022-04-11T08:39:00+00:00\",\"2022-04-11T08:44:00+00:00\",\"2022-04-11T08:49:00+00:00\",\"2022-04-11T08:54:00+00:00\",\"2022-04-11T08:59:00+00:00\",\"2022-04-11T09:04:00+00:00\",\"2022-04-11T09:09:00+00:00\",\"2022-04-11T09:14:00+00:00\",\"2022-04-11T09:19:00+00:00\",\"2022-04-11T09:24:00+00:00\",\"2022-04-11T09:29:00+00:00\",\"2022-04-11T09:34:00+00:00\",\"2022-04-11T09:39:00+00:00\",\"2022-04-11T09:44:00+00:00\",\"2022-04-11T09:49:00+00:00\",\"2022-04-11T09:54:00+00:00\",\"2022-04-11T09:59:00+00:00\",\"2022-04-11T10:14:00+00:00\",\"2022-04-11T10:19:00+00:00\",\"2022-04-11T10:23:00+00:00\",\"2022-04-11T10:25:00+00:00\",\"2022-04-12T03:49:00+00:00\",\"2022-04-12T03:54:00+00:00\",\"2022-04-12T03:59:00+00:00\",\"2022-04-12T04:04:00+00:00\",\"2022-04-12T04:09:00+00:00\",\"2022-04-12T04:14:00+00:00\",\"2022-04-12T04:19:00+00:00\",\"2022-04-12T04:24:00+00:00\",\"2022-04-12T04:29:00+00:00\",\"2022-04-12T04:34:00+00:00\",\"2022-04-12T04:39:00+00:00\",\"2022-04-12T04:44:00+00:00\",\"2022-04-12T04:49:00+00:00\",\"2022-04-12T04:54:00+00:00\",\"2022-04-12T04:59:00+00:00\",\"2022-04-12T05:04:00+00:00\",\"2022-04-12T05:09:00+00:00\",\"2022-04-12T05:14:00+00:00\",\"2022-04-12T05:19:00+00:00\",\"2022-04-12T05:24:00+00:00\",\"2022-04-12T05:29:00+00:00\",\"2022-04-12T05:34:00+00:00\",\"2022-04-12T05:39:00+00:00\",\"2022-04-12T05:44:00+00:00\",\"2022-04-12T05:49:00+00:00\",\"2022-04-12T05:54:00+00:00\",\"2022-04-12T05:59:00+00:00\",\"2022-04-12T06:04:00+00:00\",\"2022-04-12T06:09:00+00:00\",\"2022-04-12T06:14:00+00:00\",\"2022-04-12T06:19:00+00:00\",\"2022-04-12T06:24:00+00:00\",\"2022-04-12T06:29:00+00:00\",\"2022-04-12T06:34:00+00:00\",\"2022-04-12T06:39:00+00:00\",\"2022-04-12T06:44:00+00:00\",\"2022-04-12T06:49:00+00:00\",\"2022-04-12T06:54:00+00:00\",\"2022-04-12T06:59:00+00:00\",\"2022-04-12T07:04:00+00:00\",\"2022-04-12T07:09:00+00:00\",\"2022-04-12T07:14:00+00:00\",\"2022-04-12T07:19:00+00:00\",\"2022-04-12T07:24:00+00:00\",\"2022-04-12T07:29:00+00:00\",\"2022-04-12T07:34:00+00:00\",\"2022-04-12T07:39:00+00:00\",\"2022-04-12T07:44:00+00:00\",\"2022-04-12T07:49:00+00:00\",\"2022-04-12T07:54:00+00:00\",\"2022-04-12T07:59:00+00:00\",\"2022-04-12T08:04:00+00:00\",\"2022-04-12T08:09:00+00:00\",\"2022-04-12T08:14:00+00:00\",\"2022-04-12T08:19:00+00:00\",\"2022-04-12T08:24:00+00:00\",\"2022-04-12T08:29:00+00:00\",\"2022-04-12T08:34:00+00:00\",\"2022-04-12T08:39:00+00:00\",\"2022-04-12T08:44:00+00:00\",\"2022-04-12T08:49:00+00:00\",\"2022-04-12T08:54:00+00:00\",\"2022-04-12T08:59:00+00:00\",\"2022-04-12T09:04:00+00:00\",\"2022-04-12T09:09:00+00:00\",\"2022-04-12T09:14:00+00:00\",\"2022-04-12T09:19:00+00:00\",\"2022-04-12T09:24:00+00:00\",\"2022-04-12T09:29:00+00:00\",\"2022-04-12T09:34:00+00:00\",\"2022-04-12T09:39:00+00:00\",\"2022-04-12T09:44:00+00:00\",\"2022-04-12T09:49:00+00:00\",\"2022-04-12T09:54:00+00:00\",\"2022-04-12T09:59:00+00:00\",\"2022-04-12T10:14:00+00:00\",\"2022-04-12T10:19:00+00:00\",\"2022-04-12T10:21:00+00:00\",\"2022-04-12T10:28:00+00:00\",\"2022-04-13T03:49:00+00:00\",\"2022-04-13T03:54:00+00:00\",\"2022-04-13T03:59:00+00:00\",\"2022-04-13T04:04:00+00:00\",\"2022-04-13T04:09:00+00:00\",\"2022-04-13T04:14:00+00:00\",\"2022-04-13T04:19:00+00:00\",\"2022-04-13T04:24:00+00:00\",\"2022-04-13T04:29:00+00:00\",\"2022-04-13T04:34:00+00:00\",\"2022-04-13T04:39:00+00:00\",\"2022-04-13T04:44:00+00:00\",\"2022-04-13T04:49:00+00:00\",\"2022-04-13T04:54:00+00:00\",\"2022-04-13T04:59:00+00:00\",\"2022-04-13T05:04:00+00:00\",\"2022-04-13T05:09:00+00:00\",\"2022-04-13T05:14:00+00:00\",\"2022-04-13T05:19:00+00:00\",\"2022-04-13T05:24:00+00:00\",\"2022-04-13T05:29:00+00:00\",\"2022-04-13T05:34:00+00:00\",\"2022-04-13T05:39:00+00:00\",\"2022-04-13T05:44:00+00:00\",\"2022-04-13T05:49:00+00:00\",\"2022-04-13T05:54:00+00:00\",\"2022-04-13T05:59:00+00:00\",\"2022-04-13T06:04:00+00:00\",\"2022-04-13T06:09:00+00:00\",\"2022-04-13T06:14:00+00:00\",\"2022-04-13T06:19:00+00:00\",\"2022-04-13T06:24:00+00:00\",\"2022-04-13T06:29:00+00:00\",\"2022-04-13T06:34:00+00:00\",\"2022-04-13T06:39:00+00:00\",\"2022-04-13T06:44:00+00:00\",\"2022-04-13T06:49:00+00:00\",\"2022-04-13T06:54:00+00:00\",\"2022-04-13T06:59:00+00:00\",\"2022-04-13T07:04:00+00:00\",\"2022-04-13T07:09:00+00:00\",\"2022-04-13T07:14:00+00:00\",\"2022-04-13T07:19:00+00:00\",\"2022-04-13T07:24:00+00:00\",\"2022-04-13T07:29:00+00:00\",\"2022-04-13T07:34:00+00:00\",\"2022-04-13T07:39:00+00:00\",\"2022-04-13T07:44:00+00:00\",\"2022-04-13T07:49:00+00:00\",\"2022-04-13T07:54:00+00:00\",\"2022-04-13T07:59:00+00:00\",\"2022-04-13T08:04:00+00:00\",\"2022-04-13T08:09:00+00:00\",\"2022-04-13T08:14:00+00:00\",\"2022-04-13T08:19:00+00:00\",\"2022-04-13T08:24:00+00:00\",\"2022-04-13T08:29:00+00:00\",\"2022-04-13T08:34:00+00:00\",\"2022-04-13T08:39:00+00:00\",\"2022-04-13T08:44:00+00:00\",\"2022-04-13T08:49:00+00:00\",\"2022-04-13T08:54:00+00:00\",\"2022-04-13T08:59:00+00:00\",\"2022-04-13T09:04:00+00:00\",\"2022-04-13T09:09:00+00:00\",\"2022-04-13T09:14:00+00:00\",\"2022-04-13T09:19:00+00:00\",\"2022-04-13T09:24:00+00:00\",\"2022-04-13T09:29:00+00:00\",\"2022-04-13T09:34:00+00:00\",\"2022-04-13T09:39:00+00:00\",\"2022-04-13T09:44:00+00:00\",\"2022-04-13T09:49:00+00:00\",\"2022-04-13T09:54:00+00:00\",\"2022-04-13T09:59:00+00:00\",\"2022-04-13T10:13:00+00:00\",\"2022-04-13T10:17:00+00:00\",\"2022-04-13T10:28:00+00:00\"],\"xaxis\":\"x\",\"y\":[191.62,191.36,191.28,191.4,191.45,191.11,191.17,191.28,191.49,191.43,191.63,191.62,191.65,191.64,191.75,191.54,191.56,191.35,191.38,191.33,191.35,191.29,191.34,191.48,191.48,191.5,191.58,191.64,191.65,191.72,191.87,191.86,191.9,192.05,192.1,192.26,192.34,192.15,192.03,191.81,191.89,191.84,191.91,192.08,192.3,192.42,192.29,192.34,192.45,192.42,192.4,192.52,192.64,192.26,192.2,192.27,192.1,192.08,192.31,192.25,192.2,192.35,192.38,192.2,192.24,191.84,191.82,191.95,191.85,191.71,191.79,191.74,191.65,191.7,191.67,191.67,191.67,191.67,190.51,190.35,190.44,190.57,190.01,190.19,190.36,190.2,190.15,189.92,189.81,189.84,189.7,189.59,189.54,189.57,189.68,189.75,189.97,189.86,189.82,189.75,189.95,189.88,189.7,189.89,189.87,189.81,189.61,189.77,189.87,189.81,189.94,189.87,189.81,189.95,189.81,189.76,189.7,189.68,189.64,189.52,189.65,189.51,189.6,189.59,189.64,189.5,189.35,189.31,189.4,189.4,189.47,189.45,189.25,189.37,189.47,189.59,189.76,190.04,190.0,190.05,190.25,190.46,190.46,190.45,190.49,190.12,190.21,190.52,190.33,190.24,190.13,189.98,190.06,190.42,190.42,190.42,190.42,190.9,190.98,191.07,191.2,191.23,191.27,191.0,191.07,191.04,190.85,190.6,190.53,190.36,190.36,190.35,190.17,190.16,190.38,190.28,190.23,190.32,190.2,190.3,190.25,190.2,190.32,190.32,190.4,190.35,190.17,189.95,190.0,190.1,190.12,189.93,189.83,189.66,189.55,189.65,189.52,189.66,189.6,189.61,189.73,189.56,189.58,189.51,189.68,189.87,189.9,189.84,189.76,189.78,189.73,189.74,189.55,189.7,189.69,189.8,189.82,189.89,190.0,189.88,189.95,189.83,189.92,190.0,189.9,189.9,189.8,189.6,189.55,189.51,189.55,189.57,189.54,189.54,189.54,187.99],\"yaxis\":\"y\",\"type\":\"scatter\"}],                        {\"template\":{\"data\":{\"bar\":[{\"error_x\":{\"color\":\"#2a3f5f\"},\"error_y\":{\"color\":\"#2a3f5f\"},\"marker\":{\"line\":{\"color\":\"#E5ECF6\",\"width\":0.5},\"pattern\":{\"fillmode\":\"overlay\",\"size\":10,\"solidity\":0.2}},\"type\":\"bar\"}],\"barpolar\":[{\"marker\":{\"line\":{\"color\":\"#E5ECF6\",\"width\":0.5},\"pattern\":{\"fillmode\":\"overlay\",\"size\":10,\"solidity\":0.2}},\"type\":\"barpolar\"}],\"carpet\":[{\"aaxis\":{\"endlinecolor\":\"#2a3f5f\",\"gridcolor\":\"white\",\"linecolor\":\"white\",\"minorgridcolor\":\"white\",\"startlinecolor\":\"#2a3f5f\"},\"baxis\":{\"endlinecolor\":\"#2a3f5f\",\"gridcolor\":\"white\",\"linecolor\":\"white\",\"minorgridcolor\":\"white\",\"startlinecolor\":\"#2a3f5f\"},\"type\":\"carpet\"}],\"choropleth\":[{\"colorbar\":{\"outlinewidth\":0,\"ticks\":\"\"},\"type\":\"choropleth\"}],\"contour\":[{\"colorbar\":{\"outlinewidth\":0,\"ticks\":\"\"},\"colorscale\":[[0.0,\"#0d0887\"],[0.1111111111111111,\"#46039f\"],[0.2222222222222222,\"#7201a8\"],[0.3333333333333333,\"#9c179e\"],[0.4444444444444444,\"#bd3786\"],[0.5555555555555556,\"#d8576b\"],[0.6666666666666666,\"#ed7953\"],[0.7777777777777778,\"#fb9f3a\"],[0.8888888888888888,\"#fdca26\"],[1.0,\"#f0f921\"]],\"type\":\"contour\"}],\"contourcarpet\":[{\"colorbar\":{\"outlinewidth\":0,\"ticks\":\"\"},\"type\":\"contourcarpet\"}],\"heatmap\":[{\"colorbar\":{\"outlinewidth\":0,\"ticks\":\"\"},\"colorscale\":[[0.0,\"#0d0887\"],[0.1111111111111111,\"#46039f\"],[0.2222222222222222,\"#7201a8\"],[0.3333333333333333,\"#9c179e\"],[0.4444444444444444,\"#bd3786\"],[0.5555555555555556,\"#d8576b\"],[0.6666666666666666,\"#ed7953\"],[0.7777777777777778,\"#fb9f3a\"],[0.8888888888888888,\"#fdca26\"],[1.0,\"#f0f921\"]],\"type\":\"heatmap\"}],\"heatmapgl\":[{\"colorbar\":{\"outlinewidth\":0,\"ticks\":\"\"},\"colorscale\":[[0.0,\"#0d0887\"],[0.1111111111111111,\"#46039f\"],[0.2222222222222222,\"#7201a8\"],[0.3333333333333333,\"#9c179e\"],[0.4444444444444444,\"#bd3786\"],[0.5555555555555556,\"#d8576b\"],[0.6666666666666666,\"#ed7953\"],[0.7777777777777778,\"#fb9f3a\"],[0.8888888888888888,\"#fdca26\"],[1.0,\"#f0f921\"]],\"type\":\"heatmapgl\"}],\"histogram\":[{\"marker\":{\"pattern\":{\"fillmode\":\"overlay\",\"size\":10,\"solidity\":0.2}},\"type\":\"histogram\"}],\"histogram2d\":[{\"colorbar\":{\"outlinewidth\":0,\"ticks\":\"\"},\"colorscale\":[[0.0,\"#0d0887\"],[0.1111111111111111,\"#46039f\"],[0.2222222222222222,\"#7201a8\"],[0.3333333333333333,\"#9c179e\"],[0.4444444444444444,\"#bd3786\"],[0.5555555555555556,\"#d8576b\"],[0.6666666666666666,\"#ed7953\"],[0.7777777777777778,\"#fb9f3a\"],[0.8888888888888888,\"#fdca26\"],[1.0,\"#f0f921\"]],\"type\":\"histogram2d\"}],\"histogram2dcontour\":[{\"colorbar\":{\"outlinewidth\":0,\"ticks\":\"\"},\"colorscale\":[[0.0,\"#0d0887\"],[0.1111111111111111,\"#46039f\"],[0.2222222222222222,\"#7201a8\"],[0.3333333333333333,\"#9c179e\"],[0.4444444444444444,\"#bd3786\"],[0.5555555555555556,\"#d8576b\"],[0.6666666666666666,\"#ed7953\"],[0.7777777777777778,\"#fb9f3a\"],[0.8888888888888888,\"#fdca26\"],[1.0,\"#f0f921\"]],\"type\":\"histogram2dcontour\"}],\"mesh3d\":[{\"colorbar\":{\"outlinewidth\":0,\"ticks\":\"\"},\"type\":\"mesh3d\"}],\"parcoords\":[{\"line\":{\"colorbar\":{\"outlinewidth\":0,\"ticks\":\"\"}},\"type\":\"parcoords\"}],\"pie\":[{\"automargin\":true,\"type\":\"pie\"}],\"scatter\":[{\"marker\":{\"colorbar\":{\"outlinewidth\":0,\"ticks\":\"\"}},\"type\":\"scatter\"}],\"scatter3d\":[{\"line\":{\"colorbar\":{\"outlinewidth\":0,\"ticks\":\"\"}},\"marker\":{\"colorbar\":{\"outlinewidth\":0,\"ticks\":\"\"}},\"type\":\"scatter3d\"}],\"scattercarpet\":[{\"marker\":{\"colorbar\":{\"outlinewidth\":0,\"ticks\":\"\"}},\"type\":\"scattercarpet\"}],\"scattergeo\":[{\"marker\":{\"colorbar\":{\"outlinewidth\":0,\"ticks\":\"\"}},\"type\":\"scattergeo\"}],\"scattergl\":[{\"marker\":{\"colorbar\":{\"outlinewidth\":0,\"ticks\":\"\"}},\"type\":\"scattergl\"}],\"scattermapbox\":[{\"marker\":{\"colorbar\":{\"outlinewidth\":0,\"ticks\":\"\"}},\"type\":\"scattermapbox\"}],\"scatterpolar\":[{\"marker\":{\"colorbar\":{\"outlinewidth\":0,\"ticks\":\"\"}},\"type\":\"scatterpolar\"}],\"scatterpolargl\":[{\"marker\":{\"colorbar\":{\"outlinewidth\":0,\"ticks\":\"\"}},\"type\":\"scatterpolargl\"}],\"scatterternary\":[{\"marker\":{\"colorbar\":{\"outlinewidth\":0,\"ticks\":\"\"}},\"type\":\"scatterternary\"}],\"surface\":[{\"colorbar\":{\"outlinewidth\":0,\"ticks\":\"\"},\"colorscale\":[[0.0,\"#0d0887\"],[0.1111111111111111,\"#46039f\"],[0.2222222222222222,\"#7201a8\"],[0.3333333333333333,\"#9c179e\"],[0.4444444444444444,\"#bd3786\"],[0.5555555555555556,\"#d8576b\"],[0.6666666666666666,\"#ed7953\"],[0.7777777777777778,\"#fb9f3a\"],[0.8888888888888888,\"#fdca26\"],[1.0,\"#f0f921\"]],\"type\":\"surface\"}],\"table\":[{\"cells\":{\"fill\":{\"color\":\"#EBF0F8\"},\"line\":{\"color\":\"white\"}},\"header\":{\"fill\":{\"color\":\"#C8D4E3\"},\"line\":{\"color\":\"white\"}},\"type\":\"table\"}]},\"layout\":{\"annotationdefaults\":{\"arrowcolor\":\"#2a3f5f\",\"arrowhead\":0,\"arrowwidth\":1},\"autotypenumbers\":\"strict\",\"coloraxis\":{\"colorbar\":{\"outlinewidth\":0,\"ticks\":\"\"}},\"colorscale\":{\"diverging\":[[0,\"#8e0152\"],[0.1,\"#c51b7d\"],[0.2,\"#de77ae\"],[0.3,\"#f1b6da\"],[0.4,\"#fde0ef\"],[0.5,\"#f7f7f7\"],[0.6,\"#e6f5d0\"],[0.7,\"#b8e186\"],[0.8,\"#7fbc41\"],[0.9,\"#4d9221\"],[1,\"#276419\"]],\"sequential\":[[0.0,\"#0d0887\"],[0.1111111111111111,\"#46039f\"],[0.2222222222222222,\"#7201a8\"],[0.3333333333333333,\"#9c179e\"],[0.4444444444444444,\"#bd3786\"],[0.5555555555555556,\"#d8576b\"],[0.6666666666666666,\"#ed7953\"],[0.7777777777777778,\"#fb9f3a\"],[0.8888888888888888,\"#fdca26\"],[1.0,\"#f0f921\"]],\"sequentialminus\":[[0.0,\"#0d0887\"],[0.1111111111111111,\"#46039f\"],[0.2222222222222222,\"#7201a8\"],[0.3333333333333333,\"#9c179e\"],[0.4444444444444444,\"#bd3786\"],[0.5555555555555556,\"#d8576b\"],[0.6666666666666666,\"#ed7953\"],[0.7777777777777778,\"#fb9f3a\"],[0.8888888888888888,\"#fdca26\"],[1.0,\"#f0f921\"]]},\"colorway\":[\"#636efa\",\"#EF553B\",\"#00cc96\",\"#ab63fa\",\"#FFA15A\",\"#19d3f3\",\"#FF6692\",\"#B6E880\",\"#FF97FF\",\"#FECB52\"],\"font\":{\"color\":\"#2a3f5f\"},\"geo\":{\"bgcolor\":\"white\",\"lakecolor\":\"white\",\"landcolor\":\"#E5ECF6\",\"showlakes\":true,\"showland\":true,\"subunitcolor\":\"white\"},\"hoverlabel\":{\"align\":\"left\"},\"hovermode\":\"closest\",\"mapbox\":{\"style\":\"light\"},\"paper_bgcolor\":\"white\",\"plot_bgcolor\":\"#E5ECF6\",\"polar\":{\"angularaxis\":{\"gridcolor\":\"white\",\"linecolor\":\"white\",\"ticks\":\"\"},\"bgcolor\":\"#E5ECF6\",\"radialaxis\":{\"gridcolor\":\"white\",\"linecolor\":\"white\",\"ticks\":\"\"}},\"scene\":{\"xaxis\":{\"backgroundcolor\":\"#E5ECF6\",\"gridcolor\":\"white\",\"gridwidth\":2,\"linecolor\":\"white\",\"showbackground\":true,\"ticks\":\"\",\"zerolinecolor\":\"white\"},\"yaxis\":{\"backgroundcolor\":\"#E5ECF6\",\"gridcolor\":\"white\",\"gridwidth\":2,\"linecolor\":\"white\",\"showbackground\":true,\"ticks\":\"\",\"zerolinecolor\":\"white\"},\"zaxis\":{\"backgroundcolor\":\"#E5ECF6\",\"gridcolor\":\"white\",\"gridwidth\":2,\"linecolor\":\"white\",\"showbackground\":true,\"ticks\":\"\",\"zerolinecolor\":\"white\"}},\"shapedefaults\":{\"line\":{\"color\":\"#2a3f5f\"}},\"ternary\":{\"aaxis\":{\"gridcolor\":\"white\",\"linecolor\":\"white\",\"ticks\":\"\"},\"baxis\":{\"gridcolor\":\"white\",\"linecolor\":\"white\",\"ticks\":\"\"},\"bgcolor\":\"#E5ECF6\",\"caxis\":{\"gridcolor\":\"white\",\"linecolor\":\"white\",\"ticks\":\"\"}},\"title\":{\"x\":0.05},\"xaxis\":{\"automargin\":true,\"gridcolor\":\"white\",\"linecolor\":\"white\",\"ticks\":\"\",\"title\":{\"standoff\":15},\"zerolinecolor\":\"white\",\"zerolinewidth\":2},\"yaxis\":{\"automargin\":true,\"gridcolor\":\"white\",\"linecolor\":\"white\",\"ticks\":\"\",\"title\":{\"standoff\":15},\"zerolinecolor\":\"white\",\"zerolinewidth\":2}}},\"xaxis\":{\"anchor\":\"y\",\"domain\":[0.0,1.0],\"title\":{\"text\":\"ts\"}},\"yaxis\":{\"anchor\":\"x\",\"domain\":[0.0,1.0],\"title\":{\"text\":\"lp\"}},\"legend\":{\"tracegroupgap\":0},\"margin\":{\"t\":60}},                        {\"responsive\": true}                    ).then(function(){\n",
              "                            \n",
              "var gd = document.getElementById('7a4eed92-11d0-498f-b32f-71d02850e604');\n",
              "var x = new MutationObserver(function (mutations, observer) {{\n",
              "        var display = window.getComputedStyle(gd).display;\n",
              "        if (!display || display === 'none') {{\n",
              "            console.log([gd, 'removed!']);\n",
              "            Plotly.purge(gd);\n",
              "            observer.disconnect();\n",
              "        }}\n",
              "}});\n",
              "\n",
              "// Listen for the removal of the full notebook cells\n",
              "var notebookContainer = gd.closest('#notebook-container');\n",
              "if (notebookContainer) {{\n",
              "    x.observe(notebookContainer, {childList: true});\n",
              "}}\n",
              "\n",
              "// Listen for the clearing of the current output cell\n",
              "var outputEl = gd.closest('.output');\n",
              "if (outputEl) {{\n",
              "    x.observe(outputEl, {childList: true});\n",
              "}}\n",
              "\n",
              "                        })                };                            </script>        </div>\n",
              "</body>\n",
              "</html>"
            ]
          },
          "metadata": {}
        }
      ]
    },
    {
      "cell_type": "code",
      "source": [
        "# TO BE CONTINUED (in other notebook) . . ."
      ],
      "metadata": {
        "id": "9FFnrD1oWg8O"
      },
      "execution_count": 24,
      "outputs": []
    },
    {
      "cell_type": "code",
      "source": [
        ""
      ],
      "metadata": {
        "id": "JWXAtd67I9W2"
      },
      "execution_count": 24,
      "outputs": []
    },
    {
      "cell_type": "code",
      "source": [
        "# marketcap, sector and risk\n",
        "htmlBlock = soup.find(\"div\", class_=\"stock-labels\")\n",
        "titles = htmlBlock.find_all(\"span\", class_=\"stock-label-title\")\n",
        "descs = htmlBlock.find_all(\"span\", class_=\"stock-label-desc\")\n",
        "for title in titles:\n",
        "    print(title)\n",
        "for desc in descs:\n",
        "    print(desc)\n",
        "\n",
        "value = titles[0].text if titles[0] is not None else None\n",
        "print(value)\n",
        "value = descs[0].text if descs[0] is not None else None\n",
        "print(value)\n",
        "\n",
        "value = titles[1].text if titles[1] is not None else None\n",
        "print(value)\n",
        "value = descs[1].text if descs[1] is not None else None\n",
        "print(value)\n",
        "\n",
        "value = titles[2].text if titles[2] is not None else None\n",
        "print(value)\n",
        "value = descs[2].text if descs[2] is not None else None\n",
        "print(value)\n"
      ],
      "metadata": {
        "colab": {
          "base_uri": "https://localhost:8080/"
        },
        "id": "t6scN9siAUXa",
        "outputId": "4d9069a1-197d-4ddf-ba80-1b16224fd1d7"
      },
      "execution_count": 25,
      "outputs": [
        {
          "output_type": "stream",
          "name": "stdout",
          "text": [
            "<span class=\"jsx-1903139372 stock-label-title typography-body-medium-xs\">ETF</span>\n",
            "<span class=\"jsx-1903139372 stock-label-title typography-body-medium-xs\">Large Cap</span>\n",
            "<span class=\"jsx-1903139372 stock-label-title typography-body-medium-xs\">High Liquidity</span>\n",
            "<span class=\"jsx-1903139372 stock-label-desc typography-body-regular-m desktop--only\">Equity</span>\n",
            "<span class=\"jsx-1903139372 stock-label-desc typography-body-regular-m desktop--only\"></span>\n",
            "<span class=\"jsx-1903139372 stock-label-desc typography-body-regular-m desktop--only\">Average daily traded value of the ETF is high</span>\n",
            "ETF\n",
            "Equity\n",
            "Large Cap\n",
            "\n",
            "High Liquidity\n",
            "Average daily traded value of the ETF is high\n"
          ]
        }
      ]
    },
    {
      "cell_type": "code",
      "source": [
        ""
      ],
      "metadata": {
        "id": "R6yLMkMlAUZ9"
      },
      "execution_count": 25,
      "outputs": []
    },
    {
      "cell_type": "code",
      "source": [
        ""
      ],
      "metadata": {
        "id": "iGqqb3XkAUca"
      },
      "execution_count": 25,
      "outputs": []
    },
    {
      "cell_type": "markdown",
      "source": [
        "### [3] Investment Checklist"
      ],
      "metadata": {
        "id": "BR3F0yCgpnIw"
      }
    },
    {
      "cell_type": "code",
      "source": [
        "# checklist-item carousel-item\n",
        "htmlBlock = soup.find(\"div\", class_=\"inv-chk-root\")\n",
        "# print(htmlBlock.prettify())\n",
        "\n",
        "htmlBlock.find_all(\"div\", class_=\"commentary-item-root\")"
      ],
      "metadata": {
        "id": "zg-X1ebllDSY",
        "colab": {
          "base_uri": "https://localhost:8080/"
        },
        "outputId": "01223389-45cd-4afc-e9ab-e0491b8f9a23"
      },
      "execution_count": 26,
      "outputs": [
        {
          "output_type": "execute_result",
          "data": {
            "text/plain": [
              "[<div class=\"jsx-2732034756 jsx-482152645 commentary-item-root d-flex-row align-start justify-start \" eventlabel=\"Clicked Checklist Item\"><i class=\"jsx-2732034756 jsx-482152645 icon-mood icon-positive-comment text-24 mr12\"></i><div class=\"jsx-2732034756 jsx-482152645 content\"><h4 class=\"jsx-2732034756 jsx-482152645 typography-body-medium-m text-primary\"><span class=\"jsx-2732034756 jsx-482152645 relative no-select tooltip-holder\">NAV<div class=\"jsx-1503855875 tooltip-root sh-tooltip font-regular\">The net asset value (NAV) of an ETF is based on the current prices of the stocks/assets in the fund and an actual accounting of the total cash in the fund at the time of calculation. Market price can be different from real time NAV due to late market activity and both tend to converge periodically. A market price close to real time NAV is much better for investment!</div></span></h4><p class=\"jsx-2732034756 jsx-482152645 lh-138 text-13 text-secondary typography-body-regular-m commentary-desc\">Current price is close to the real time NAV</p></div></div>,\n",
              " <div class=\"jsx-2137651844 jsx-482152645 commentary-item-root d-flex-row align-start justify-start \" eventlabel=\"Clicked Checklist Item\"><i class=\"jsx-2137651844 jsx-482152645 icon-mood icon-positive-comment text-24 mr12\"></i><div class=\"jsx-2137651844 jsx-482152645 content\"><h4 class=\"jsx-2137651844 jsx-482152645 typography-body-medium-m text-primary\"><span class=\"jsx-2137651844 jsx-482152645 relative no-select tooltip-holder\">Expense Ratio<div class=\"jsx-1503855875 tooltip-root sh-tooltip font-regular\">ETFs charge their shareholders an expense ratio to cover the fund’s operating expenses, which is expressed as a percentage of the fund’s average net assets. This directly reduces the fund’s returns to its shareholders, and, therefore, the value of the investment. Lower is always better!</div></span></h4><p class=\"jsx-2137651844 jsx-482152645 lh-138 text-13 text-secondary typography-body-regular-m commentary-desc\">Less expense ratio implies better returns over the long term</p></div></div>,\n",
              " <div class=\"jsx-2906938702 jsx-482152645 commentary-item-root d-flex-row align-start justify-start \" eventlabel=\"Clicked Checklist Item\"><i class=\"jsx-2906938702 jsx-482152645 icon-mood icon-positive-comment text-24 mr12\"></i><div class=\"jsx-2906938702 jsx-482152645 content\"><h4 class=\"jsx-2906938702 jsx-482152645 typography-body-medium-m text-primary\"><span class=\"jsx-2906938702 jsx-482152645 relative no-select tooltip-holder\">Tracking Error<div class=\"jsx-1503855875 tooltip-root sh-tooltip font-regular\">Tracking error is the difference between the performance of the ETF and that of the underlying benchmark it's tracking. It's an important metric for investors who want to replicate an index's performance by investing in the ETF. The lower the tracking error, the better is the ETF's performance aligned with the investor's expectations</div></span></h4><p class=\"jsx-2906938702 jsx-482152645 lh-138 text-13 text-secondary typography-body-regular-m commentary-desc\">ETF has been able to closely match its benchmark's returns</p></div></div>,\n",
              " <div class=\"jsx-3514943789 jsx-482152645 commentary-item-root d-flex-row align-start justify-start \" eventlabel=\"Clicked Checklist Item\"><i class=\"jsx-3514943789 jsx-482152645 icon-mood icon-positive-comment text-24 mr12\"></i><div class=\"jsx-3514943789 jsx-482152645 content\"><h4 class=\"jsx-3514943789 jsx-482152645 typography-body-medium-m text-primary\"><span class=\"jsx-3514943789 jsx-482152645 relative no-select tooltip-holder\">Return vs FD Rates<div class=\"jsx-1503855875 tooltip-root sh-tooltip font-regular\">Fixed Deposit rate is a virtually risk-free rate where the investor assumes almost no risk on their investment. If the ETFs price return is lower than this rate, investors are better off investing the amount in a FD</div></span></h4><p class=\"jsx-3514943789 jsx-482152645 lh-138 text-13 text-secondary typography-body-regular-m commentary-desc\">ETF has been generating better price return than bank FD</p></div></div>,\n",
              " <div class=\"jsx-2983376578 jsx-482152645 commentary-item-root d-flex-row align-start justify-start \" eventlabel=\"Clicked Checklist Item\"><i class=\"jsx-2983376578 jsx-482152645 icon-mood icon-positive-comment text-24 mr12\"></i><div class=\"jsx-2983376578 jsx-482152645 content\"><h4 class=\"jsx-2983376578 jsx-482152645 typography-body-medium-m text-primary\"><span class=\"jsx-2983376578 jsx-482152645 relative no-select tooltip-holder\">Entry Point<div class=\"jsx-1503855875 tooltip-root sh-tooltip font-regular\">High demand for an ETF increases its price. If the price is pushed up to a level which is not justified, then it's considered to be in the overbought zone, which is not a good time to buy the ETF</div></span></h4><p class=\"jsx-2983376578 jsx-482152645 lh-138 text-13 text-secondary typography-body-regular-m commentary-desc\">Good time to consider, as ETF is not in overbought zone</p></div></div>]"
            ]
          },
          "metadata": {},
          "execution_count": 26
        }
      ]
    },
    {
      "cell_type": "code",
      "source": [
        "htmlBlock = soup.find(\"div\", class_=\"inv-chk-root\")\n",
        "htmlBlock = htmlBlock.find_all(\"div\", class_=\"commentary-item-root\")\n",
        "\n",
        "# get all keys and values\n",
        "for item in htmlBlock:\n",
        "    key = item.find(\"span\", class_=\"tooltip-holder\").contents[0]\n",
        "    key = key.title().replace(\" \", \"\")\n",
        "    key = key[0].lower() + key[1:]\n",
        "    value = item.find(\"i\")['class'][3].split(\"-\")[1]\n",
        "\n",
        "    print(key, \"     \\t:\", value)"
      ],
      "metadata": {
        "colab": {
          "base_uri": "https://localhost:8080/"
        },
        "id": "-OZstV6glDcC",
        "outputId": "e9c7561e-da57-4bcd-b220-4e9a909f8e5c"
      },
      "execution_count": 27,
      "outputs": [
        {
          "output_type": "stream",
          "name": "stdout",
          "text": [
            "nav      \t: positive\n",
            "expenseRatio      \t: positive\n",
            "trackingError      \t: positive\n",
            "returnVsFdRates      \t: positive\n",
            "entryPoint      \t: positive\n"
          ]
        }
      ]
    },
    {
      "cell_type": "code",
      "source": [
        ""
      ],
      "metadata": {
        "id": "A-uCXOAoBcwB"
      },
      "execution_count": 27,
      "outputs": []
    },
    {
      "cell_type": "markdown",
      "source": [
        "### [4] Key Metrics"
      ],
      "metadata": {
        "id": "eo73RLqK1chc"
      }
    },
    {
      "cell_type": "code",
      "source": [
        "# ratios-card - PERatio, PBRatio, DividendYield, SectorPE, SectorPB, SectorDividendYield\n",
        "\n",
        "htmlBlock = soup.find(\"div\", class_=\"ratios-card\")\n",
        "# print(htmlBlock.prettify())\n",
        "\n",
        "keys = htmlBlock.select(\"span.ellipsis.desktop--only\")\n",
        "values = htmlBlock.find_all(\"div\", class_=\"value\")\n",
        "\n",
        "for i in range(len(keys)):\n",
        "    key = keys[i].text\n",
        "    key = key.replace(\" \", \"\")\n",
        "    value = values[i].text\n",
        "    value = None if str(value) == \"—\" else str(value)\n",
        "    print(key, \": \", value)\n"
      ],
      "metadata": {
        "id": "iNOzGEBI2D_h",
        "colab": {
          "base_uri": "https://localhost:8080/"
        },
        "outputId": "19154788-f4e2-4f74-de6b-8f43b8253288"
      },
      "execution_count": 28,
      "outputs": [
        {
          "output_type": "stream",
          "name": "stdout",
          "text": [
            "RealtimeNAV :  ₹ 185.80\n",
            "AUM :  ₹ 7,549.02cr\n",
            "ExpenseRatio :  0.05%\n",
            "SectorExpenseRatio :  0.23%\n",
            "TrackingError :  0.03%\n",
            "SectorTrackingError :  1,55,607.19%\n"
          ]
        }
      ]
    },
    {
      "cell_type": "code",
      "source": [
        ""
      ],
      "metadata": {
        "id": "a8QciuHzcCSK"
      },
      "execution_count": 28,
      "outputs": []
    },
    {
      "cell_type": "code",
      "source": [
        ""
      ],
      "metadata": {
        "id": "fGjgggatGz3-"
      },
      "execution_count": null,
      "outputs": []
    },
    {
      "cell_type": "markdown",
      "source": [
        "# Let us try and extract data (from all the pages)"
      ],
      "metadata": {
        "id": "MwF82Yx93WQ3"
      }
    },
    {
      "cell_type": "markdown",
      "source": [
        "Import scraped data containing all stock/etf names and subdirectory, <br>\n",
        "and Hit \"https://www.tickertape.in/etfs/{etf-name}\""
      ],
      "metadata": {
        "id": "3J4teIPY4WR3"
      }
    },
    {
      "cell_type": "code",
      "source": [
        "with open('top-company-list.json', 'r') as fp:\n",
        "    topcompanies = json.load(fp)\n",
        "\n",
        "topcompanies[0]"
      ],
      "metadata": {
        "id": "s-0iLhJd3nVm",
        "outputId": "a09e3e72-c74d-4565-8bab-872dfbd0ce01",
        "colab": {
          "base_uri": "https://localhost:8080/"
        }
      },
      "execution_count": null,
      "outputs": [
        {
          "output_type": "execute_result",
          "data": {
            "text/plain": [
              "{'name': 'Adani Enterprises Ltd',\n",
              " 'subdirectory': 'adani-enterprises-ADEL',\n",
              " 'type': 'stocks'}"
            ]
          },
          "metadata": {},
          "execution_count": 32
        }
      ]
    },
    {
      "cell_type": "code",
      "source": [
        "with open('full-company-list.json', 'r') as fp:\n",
        "    allcompanies = json.load(fp)\n",
        "\n",
        "allcompanies[0]"
      ],
      "metadata": {
        "id": "9dxNjdbj3n6a",
        "outputId": "e660bc84-5ea3-4119-b713-9a04e5d8d9ed",
        "colab": {
          "base_uri": "https://localhost:8080/"
        }
      },
      "execution_count": null,
      "outputs": [
        {
          "output_type": "execute_result",
          "data": {
            "text/plain": [
              "{'name': 'A & M Febcon Ltd',\n",
              " 'subdirectory': 'a-and-m-febcon-AMF',\n",
              " 'type': 'stocks'}"
            ]
          },
          "metadata": {},
          "execution_count": 33
        }
      ]
    },
    {
      "cell_type": "code",
      "source": [
        ""
      ],
      "metadata": {
        "id": "-GSihzev3n8-"
      },
      "execution_count": null,
      "outputs": []
    },
    {
      "cell_type": "code",
      "source": [
        "def scrapeTickertape(name, stocktype, subdirectory):\n",
        "    _url = \"https://www.tickertape.in/\" + stocktype + \"/\" + subdirectory\n",
        "    _data = {}\n",
        "\n",
        "    try:\n",
        "        # hit the page and get html\n",
        "        _header = {\n",
        "            \"User-Agent\": \"Mozilla/5.0 (Windows NT 10.0; Win64; x64) AppleWebKit/537.36 (KHTML, like Gecko) Chrome/80.0.3987.163 Safari/537.36\"\n",
        "        }\n",
        "        _response = requests.get(_url, headers=_header)\n",
        "\n",
        "        # give the webpage to Beautiful Soup using parsers: \"html.parser\" or \"lxml\"\n",
        "        _soup = BeautifulSoup(_response.text, 'lxml')\n",
        "\n",
        "        ######### extract html data from webpage and form output data #########\n",
        "\n",
        "        ##### [1] Basics #####\n",
        "        # etf name\n",
        "        _htmlBlock = _soup.find(\"h3\", class_=\"security-name\")\n",
        "        _data[\"name\"] = _htmlBlock.text if _htmlBlock is not None else None\n",
        "\n",
        "        # ticker name\n",
        "        _htmlBlock = _soup.find(\"span\", class_=\"ticker\")\n",
        "        _data[\"ticker\"] = _htmlBlock.text if _htmlBlock is not None else None\n",
        "\n",
        "        # type\n",
        "        _data[\"type\"] = stocktype\n",
        "\n",
        "        # tracking\n",
        "        _htmlBlock = _soup.find(\"p\", class_=\"mb12\")\n",
        "        _data[\"tracking\"] = _htmlBlock.text if _htmlBlock is not None else None\n",
        "\n",
        "        # current price\n",
        "        _htmlBlock = _soup.find(\"span\", class_=\"current-price\")\n",
        "        _data[\"price\"] = _htmlBlock.text if _htmlBlock is not None else None\n",
        "\n",
        "        # marketcap, sector and risk\n",
        "        _htmlBlock = _soup.find(\"div\", class_=\"stock-labels\")\n",
        "        _htmlBlock = _htmlBlock.find_all(\"span\", class_=\"stock-label-title\")\n",
        "        _data[\"sector\"] = _htmlBlock[0].text if _htmlBlock[0] is not None else None\n",
        "        _data[\"marketcap\"] = _htmlBlock[1].text if _htmlBlock[1] is not None else None\n",
        "        _data[\"risk\"] = _htmlBlock[2].text if _htmlBlock[2] is not None else None\n",
        "\n",
        "        # profile\n",
        "        _htmlBlock = _soup.find(\"div\", class_=\"amc-profile\")\n",
        "        _value_h = _htmlBlock.h2.text if _htmlBlock.h2 is not None else \"\"\n",
        "        _value_p = _htmlBlock.p.text if _htmlBlock.p is not None else \"\"\n",
        "        _data[\"profile\"] = _value_h + \": \" + _value_p if (_value_h + _value_p) != \"\" else None\n",
        "\n",
        "        ##### [2] Overview #####\n",
        "        _overview = {}\n",
        "\n",
        "        # current price\n",
        "        _htmlBlock = _soup.find(\"span\", class_=\"current-price\")\n",
        "        _overview[\"currentPrice\"] = _htmlBlock.text if _htmlBlock is not None else None\n",
        "\n",
        "        # change absolute-value\n",
        "        _htmlBlock = _soup.find(\"span\", class_=\"absolute-value\")\n",
        "        _overview[\"absoluteChange\"] = _htmlBlock.text if _htmlBlock is not None else None\n",
        "\n",
        "        # change percentage-value\n",
        "        _htmlBlock = _soup.find(\"span\", class_=\"percentage-value\")\n",
        "        _overview[\"percentageChange\"] = str(_htmlBlock.text).replace(\"(\", \"\").replace(\")\", \"\").strip() if _htmlBlock is not None else None\n",
        "\n",
        "        # tracking\n",
        "        _htmlBlock = _soup.find(\"p\", class_=\"mb12\")\n",
        "        _data[\"tracking\"] = _htmlBlock.text if _htmlBlock is not None else None\n",
        "\n",
        "        # marketcap, sector and risk\n",
        "        _htmlBlock = _soup.find(\"div\", class_=\"stock-labels\")\n",
        "        _title = _htmlBlock.find_all(\"span\", class_=\"stock-label-title\")\n",
        "        _desc = _htmlBlock.find_all(\"span\", class_=\"stock-label-desc\")\n",
        "\n",
        "        _overview[\"sectorType\"] = _title[0].text if _title[0] is not None else None\n",
        "        _overview[\"sectorDesc\"] = _desc[0].text if _desc[0] is not None else None\n",
        "\n",
        "        _overview[\"capType\"] = _title[1].text if _title[1] is not None else None\n",
        "        _overview[\"capDesc\"] = _desc[1].text if _desc[1] is not None else None\n",
        "\n",
        "        _overview[\"riskType\"] = _title[2].text if _title[2] is not None else None\n",
        "        _overview[\"riskDesc\"] = _desc[2].text if _desc[2] is not None else None\n",
        "\n",
        "        # put overview into data\n",
        "        _data[\"overview\"] = _overview\n",
        "\n",
        "        ##### [3] Investment Checklist #####\n",
        "        _investmentChecklist = {}\n",
        "\n",
        "        # checklist carousel-item get all keys and values\n",
        "        _htmlBlock = _soup.find(\"div\", class_=\"inv-chk-root\")\n",
        "        _htmlBlock = _htmlBlock.find_all(\"div\", class_=\"commentary-item-root\")\n",
        "        for _item in _htmlBlock:\n",
        "            _key = _item.find(\"span\", class_=\"tooltip-holder\").contents[0]\n",
        "            _key = _key.title().replace(\" \", \"\")\n",
        "            _key = _key[0].lower() + _key[1:]\n",
        "            _value = _item.find(\"i\")['class'][3].split(\"-\")[1]\n",
        "            _investmentChecklist[_key] = _value\n",
        "\n",
        "        # put investmentChecklist into data\n",
        "        _data[\"investmentChecklist\"] = _investmentChecklist\n",
        "\n",
        "        ##### [4] Key Metrics #####\n",
        "        _keyMetrics = {}\n",
        "\n",
        "        # PERatio, PBRatio, DividendYield, SectorPE, SectorPB, SectorDividendYield\n",
        "        _htmlBlock = _soup.find(\"div\", class_=\"ratios-card\")\n",
        "        _keys = _htmlBlock.select(\"span.ellipsis.desktop--only\")\n",
        "        _values = _htmlBlock.find_all(\"div\", class_=\"value\")\n",
        "        for i in range(len(_keys)):\n",
        "            _key = _keys[i].text\n",
        "            _key = _key.replace(\" \", \"\")\n",
        "            _value = _values[i].text\n",
        "            _value = None if str(_value) == \"—\" else str(_value)\n",
        "            _keyMetrics[_key] = _value\n",
        "\n",
        "        # put keyMetrics into data\n",
        "        _data[\"keyMetrics\"] = _keyMetrics\n",
        "\n",
        "        # return the scraped data\n",
        "        return _data\n",
        "    except Exception as _e:\n",
        "        print(_e)\n",
        "        return []\n"
      ],
      "metadata": {
        "id": "V0fow5JZ6J1W"
      },
      "execution_count": null,
      "outputs": []
    },
    {
      "cell_type": "code",
      "source": [
        "scrapeTickertape(\"Nippon India Nifty 50 Bees ETF\", \"etfs\", \"nippon-india-nifty-50-bees-etf-NBES\")"
      ],
      "metadata": {
        "id": "nGBNt8gW6J3v",
        "outputId": "b18e58c0-d2b9-46b2-b6d1-cc3d60bb88ee",
        "colab": {
          "base_uri": "https://localhost:8080/"
        }
      },
      "execution_count": null,
      "outputs": [
        {
          "output_type": "execute_result",
          "data": {
            "text/plain": [
              "{'investmentChecklist': {'entryPoint': 'positive',\n",
              "  'expenseRatio': 'positive',\n",
              "  'nav': 'positive',\n",
              "  'returnVsFdRates': 'positive',\n",
              "  'trackingError': 'positive'},\n",
              " 'keyMetrics': {'AUM': '₹ 6,442.61cr',\n",
              "  'ExpenseRatio': '0.05%',\n",
              "  'RealtimeNAV': '₹ 189.07',\n",
              "  'SectorExpenseRatio': '0.23%',\n",
              "  'SectorTrackingError': '1,55,607.21%',\n",
              "  'TrackingError': '0.03%'},\n",
              " 'marketcap': 'Large Cap',\n",
              " 'name': 'Nippon India Nifty 50 Bees ETF',\n",
              " 'overview': {'absoluteChange': '0.00%',\n",
              "  'capDesc': '',\n",
              "  'capType': 'Large Cap',\n",
              "  'currentPrice': '189.54',\n",
              "  'percentageChange': '+0.00',\n",
              "  'riskDesc': 'Average daily traded value of the ETF is high',\n",
              "  'riskType': 'High Liquidity',\n",
              "  'sectorDesc': 'Equity',\n",
              "  'sectorType': 'ETF'},\n",
              " 'price': '189.54',\n",
              " 'profile': 'AMC profile: Reliance Nippon Life Asset Management or RNAM is one of India’s two largest asset management companies. Currently, it has over $60 billion in its corpus. It is a wholly owned subsidiary of the Reliance Anil Dhirubhai Ambani or ADA Group.',\n",
              " 'risk': 'High Liquidity',\n",
              " 'sector': 'ETF',\n",
              " 'ticker': 'NIFTYBEES',\n",
              " 'tracking': 'Tracking\\xa0Nifty Index',\n",
              " 'type': 'etfs'}"
            ]
          },
          "metadata": {},
          "execution_count": 36
        }
      ]
    },
    {
      "cell_type": "code",
      "source": [
        ""
      ],
      "metadata": {
        "id": "R70dmgT1IVis"
      },
      "execution_count": null,
      "outputs": []
    },
    {
      "cell_type": "code",
      "source": [
        "# # let's scrape all the stocks & etfs!\n",
        "# allETFsData = []\n",
        "# count = 0\n",
        "\n",
        "# for companies in allcompanies:\n",
        "#     companyName = companies[\"name\"]\n",
        "#     companyType = companies[\"type\"]\n",
        "#     companyDir = companies[\"subdirectory\"]\n",
        "\n",
        "#     if companyType != \"etfs\":\n",
        "#         continue\n",
        "    \n",
        "#     print(companyName, \"url: https://www.tickertape.in/\" + companyType + \"/\" + companyDir)\n",
        "#     try:\n",
        "#         # get data from each page and append to data list\n",
        "#         if companyType == \"etfs\":\n",
        "#             allETFsData.append(scrapeTickertape(companyName, companyType, companyDir))\n",
        "#             print(\"successful!\")\n",
        "#             count += 1\n",
        "#     except Exception as _e:\n",
        "#         # some issue occured, catch exception\n",
        "#         print(\"failed!\")\n",
        "#         print(_e)\n",
        "\n",
        "# print(count, \"/\", len(allcompanies), \"completed\")"
      ],
      "metadata": {
        "id": "f6zmsCqVHgA8"
      },
      "execution_count": 29,
      "outputs": []
    },
    {
      "cell_type": "code",
      "source": [
        ""
      ],
      "metadata": {
        "id": "hEI4HLqVIaLB"
      },
      "execution_count": null,
      "outputs": []
    },
    {
      "cell_type": "markdown",
      "source": [
        "## Exporting the data"
      ],
      "metadata": {
        "id": "6964EOvnJUlX"
      }
    },
    {
      "cell_type": "code",
      "source": [
        "# with open(\"all-etfs-tickertape-data.json\", \"w\") as outfile:\n",
        "#     json.dump(allETFsData, outfile)"
      ],
      "metadata": {
        "id": "XjUL8nkcIaOa"
      },
      "execution_count": null,
      "outputs": []
    },
    {
      "cell_type": "code",
      "source": [
        ""
      ],
      "metadata": {
        "id": "w-KAZwEXi-3y"
      },
      "execution_count": null,
      "outputs": []
    }
  ]
}