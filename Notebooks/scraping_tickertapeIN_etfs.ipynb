{
  "nbformat": 4,
  "nbformat_minor": 0,
  "metadata": {
    "colab": {
      "name": "Web Scraping tickertapeIN - etfs.ipynb",
      "provenance": [],
      "authorship_tag": "ABX9TyOQnsNP6YmPfOdmhHr1jwO1",
      "include_colab_link": true
    },
    "kernelspec": {
      "name": "python3",
      "display_name": "Python 3"
    },
    "language_info": {
      "name": "python"
    }
  },
  "cells": [
    {
      "cell_type": "markdown",
      "metadata": {
        "id": "view-in-github",
        "colab_type": "text"
      },
      "source": [
        "<a href=\"https://colab.research.google.com/github/mratanusarkar/Web-Scraping-tickertapeIN/blob/feature%2Ffilter-and-sort/Notebooks/scraping_tickertapeIN_etfs.ipynb\" target=\"_parent\"><img src=\"https://colab.research.google.com/assets/colab-badge.svg\" alt=\"Open In Colab\"/></a>"
      ]
    },
    {
      "cell_type": "markdown",
      "source": [
        "# Web Scraping etf data from tickertape.in"
      ],
      "metadata": {
        "id": "vVeC3IHLbQ1S"
      }
    },
    {
      "cell_type": "markdown",
      "source": [
        "**Input**: etf name in \"https://www.tickertape.in/etfs/{etf-name}\" <br>\n",
        "**Output**: full etf data & predictions from tickertape in JSON/Py Dictionary format\n"
      ],
      "metadata": {
        "id": "gwGMUzOsbfK_"
      }
    },
    {
      "cell_type": "markdown",
      "source": [
        "## Import Packages"
      ],
      "metadata": {
        "id": "OcFpi1cFcDW0"
      }
    },
    {
      "cell_type": "code",
      "source": [
        "import numpy as np\n",
        "import pandas as pd\n",
        "import requests\n",
        "from bs4 import BeautifulSoup\n",
        "\n",
        "import json\n",
        "import time\n",
        "import datetime as dt\n",
        "\n",
        "import matplotlib.pyplot as plt\n",
        "import plotly.express as px"
      ],
      "metadata": {
        "id": "c0wD-RzybeO9"
      },
      "execution_count": 1,
      "outputs": []
    },
    {
      "cell_type": "markdown",
      "source": [
        "## Request and Fetch the Webpage"
      ],
      "metadata": {
        "id": "igOJKmX7cIWj"
      }
    },
    {
      "cell_type": "markdown",
      "source": [
        "Let's try with a sample etf name, say \"NIFTYBEES\""
      ],
      "metadata": {
        "id": "Pcn82_QzcLGq"
      }
    },
    {
      "cell_type": "code",
      "source": [
        "# enter etf subdirectory\n",
        "subdir = \"nippon-india-nifty-50-bees-etf-NBES\"\n",
        "# subdir = \"nippon-india-silver-etf-NETFS\""
      ],
      "metadata": {
        "id": "2VvAxCA37RBN"
      },
      "execution_count": 2,
      "outputs": []
    },
    {
      "cell_type": "code",
      "source": [
        "# hit \"https://www.tickertape.in/etfs/nippon-india-nifty-50-bees-etf-NBES\"\n",
        "requests.get(\"https://www.tickertape.in/etfs/\" + subdir)"
      ],
      "metadata": {
        "colab": {
          "base_uri": "https://localhost:8080/"
        },
        "id": "uN6CTb4tcWTd",
        "outputId": "8fd453f0-60a7-4f74-db7a-f54c0be325e2"
      },
      "execution_count": 3,
      "outputs": [
        {
          "output_type": "execute_result",
          "data": {
            "text/plain": [
              "<Response [200]>"
            ]
          },
          "metadata": {},
          "execution_count": 3
        }
      ]
    },
    {
      "cell_type": "code",
      "source": [
        "# wow! no restriction for bots! no need of any headers!\n",
        "response = requests.get(\"https://www.tickertape.in/etfs/\" + subdir)\n",
        "response.text[0:500]"
      ],
      "metadata": {
        "colab": {
          "base_uri": "https://localhost:8080/",
          "height": 70
        },
        "id": "O-3k6Ngicr2N",
        "outputId": "ec4ba017-9362-43d4-8ca6-630eee3c5789"
      },
      "execution_count": 4,
      "outputs": [
        {
          "output_type": "execute_result",
          "data": {
            "text/plain": [
              "'<!DOCTYPE html><html lang=\"en-US\"><head><meta http-equiv=\"X-UA-Compatible\" content=\"IE=edge\"/><link rel=\"shortcut icon\" href=\"/favicon/favicon.png\"/><link rel=\"apple-touch-icon\" href=\"/favicon/favicon-192x192.png\"/><link rel=\"manifest\" href=\"/manifest/manifest.json\"/><style type=\"text/css\">:root {--white: #ffffff; --font_primary: #535B62; --font_dark: #2f363f; --font_light: #81878c; --font_blue: #0088ea; --font_lighter: #a2a8ae; --brand_primary: #151e28; --brand_success: #28c39a; --brand_danger:'"
            ],
            "application/vnd.google.colaboratory.intrinsic+json": {
              "type": "string"
            }
          },
          "metadata": {},
          "execution_count": 4
        }
      ]
    },
    {
      "cell_type": "code",
      "source": [
        "# not required for this webpage, use if bot restrictions are added in future.\n",
        "\n",
        "# google chrome browser's request header (to make it look like, we are making this request from a browser)\n",
        "header = {\n",
        "  \"User-Agent\": \"Mozilla/5.0 (Windows NT 10.0; Win64; x64) AppleWebKit/537.36 (KHTML, like Gecko) Chrome/80.0.3987.163 Safari/537.36\"\n",
        "}\n",
        "\n",
        "# hit using the header\n",
        "response = requests.get(\"https://www.tickertape.in/etfs/\" + subdir, headers=header)\n",
        "response.text[0:500]"
      ],
      "metadata": {
        "colab": {
          "base_uri": "https://localhost:8080/",
          "height": 70
        },
        "id": "ZMW71O25c9Hl",
        "outputId": "990b9146-5e7d-4cc9-9262-b2d3aba2ef8e"
      },
      "execution_count": 5,
      "outputs": [
        {
          "output_type": "execute_result",
          "data": {
            "text/plain": [
              "'<!DOCTYPE html><html lang=\"en-US\"><head><meta http-equiv=\"X-UA-Compatible\" content=\"IE=edge\"/><link rel=\"shortcut icon\" href=\"/favicon/favicon.png\"/><link rel=\"apple-touch-icon\" href=\"/favicon/favicon-192x192.png\"/><link rel=\"manifest\" href=\"/manifest/manifest.json\"/><style type=\"text/css\">:root {--white: #ffffff; --font_primary: #535B62; --font_dark: #2f363f; --font_light: #81878c; --font_blue: #0088ea; --font_lighter: #a2a8ae; --brand_primary: #151e28; --brand_success: #28c39a; --brand_danger:'"
            ],
            "application/vnd.google.colaboratory.intrinsic+json": {
              "type": "string"
            }
          },
          "metadata": {},
          "execution_count": 5
        }
      ]
    },
    {
      "cell_type": "markdown",
      "source": [
        "## Pass the fetched webpage response to Beautiful Soup"
      ],
      "metadata": {
        "id": "XJNdAiOReo2n"
      }
    },
    {
      "cell_type": "code",
      "source": [
        "# give the webpage to Beautiful Soup using parsers: \"html.parser\" or \"lxml\"\n",
        "soup = BeautifulSoup(response.text, 'lxml')"
      ],
      "metadata": {
        "id": "RA-dseaKd1GS"
      },
      "execution_count": 6,
      "outputs": []
    },
    {
      "cell_type": "markdown",
      "source": [
        "## Let us try and extract some data from the soup"
      ],
      "metadata": {
        "id": "ZKYRke2Ilhrt"
      }
    },
    {
      "cell_type": "markdown",
      "source": [
        "- we see the whole webpage and how the html dom structure is made\n",
        "- on inspecting, we see that all our required info is mostly inside div blocks with unique class names\n",
        "- few are inside span or h tags, but all blocks has classes\n",
        "- Let us extract few important html dom blocks and see"
      ],
      "metadata": {
        "id": "8pCfA5bWjJRE"
      }
    },
    {
      "cell_type": "markdown",
      "source": [
        "### [1] Basic ETF Information"
      ],
      "metadata": {
        "id": "IqCNbmt8l3Ec"
      }
    },
    {
      "cell_type": "code",
      "source": [
        "# etf name\n",
        "htmlBlock = soup.find(\"h3\", class_=\"security-name\")\n",
        "print(htmlBlock.prettify())\n",
        "\n",
        "value = htmlBlock.text if htmlBlock is not None else None\n",
        "print(value)"
      ],
      "metadata": {
        "colab": {
          "base_uri": "https://localhost:8080/"
        },
        "id": "2zTscJQSd1In",
        "outputId": "82a48fe9-b10b-4244-e955-e918bda0b600"
      },
      "execution_count": 7,
      "outputs": [
        {
          "output_type": "stream",
          "name": "stdout",
          "text": [
            "<h3 class=\"jsx-2903438179 security-name\">\n",
            " Nippon India Nifty 50 Bees ETF\n",
            "</h3>\n",
            "Nippon India Nifty 50 Bees ETF\n"
          ]
        }
      ]
    },
    {
      "cell_type": "code",
      "source": [
        "# ticker name\n",
        "htmlBlock = soup.find(\"span\", class_=\"ticker\")\n",
        "print(htmlBlock.prettify())\n",
        "\n",
        "value = htmlBlock.text if htmlBlock is not None else None\n",
        "print(value)"
      ],
      "metadata": {
        "colab": {
          "base_uri": "https://localhost:8080/"
        },
        "id": "HsrIqPujd1LG",
        "outputId": "9557417e-e1e9-4f05-938a-fb27dd57c9a4"
      },
      "execution_count": 8,
      "outputs": [
        {
          "output_type": "stream",
          "name": "stdout",
          "text": [
            "<span class=\"jsx-2903438179 ticker text-teritiary font-medium\">\n",
            " NIFTYBEES\n",
            "</span>\n",
            "\n",
            "NIFTYBEES\n"
          ]
        }
      ]
    },
    {
      "cell_type": "code",
      "source": [
        "# type\n",
        "print(\"etfs\")"
      ],
      "metadata": {
        "colab": {
          "base_uri": "https://localhost:8080/"
        },
        "id": "Ls9mQZSa3f46",
        "outputId": "8d3ce62e-df75-45d8-c989-07f22a38b654"
      },
      "execution_count": 9,
      "outputs": [
        {
          "output_type": "stream",
          "name": "stdout",
          "text": [
            "etfs\n"
          ]
        }
      ]
    },
    {
      "cell_type": "code",
      "source": [
        "# tracking\n",
        "htmlBlock = soup.find(\"p\", class_=\"mb12\")\n",
        "print(htmlBlock.prettify())\n",
        "\n",
        "value = htmlBlock.text if htmlBlock is not None else None\n",
        "print(value)"
      ],
      "metadata": {
        "colab": {
          "base_uri": "https://localhost:8080/"
        },
        "id": "3fgWs3BQQpmp",
        "outputId": "d1d2051b-6fa6-484a-8164-da7d2ca3fe61"
      },
      "execution_count": 10,
      "outputs": [
        {
          "output_type": "stream",
          "name": "stdout",
          "text": [
            "<p class=\"text-12 desktop--only mb12 text-12\">\n",
            " Tracking\n",
            " <!-- -->\n",
            " <a class=\"typography-body-medium-xs pointer text-blue text-uppercase\" href=\"https://www.tickertape.in/indices/nifty-index-.NSEI\" rel=\"noreferrer noopener\" target=\"_blank\" title=\"Nifty Index\">\n",
            "  Nifty Index\n",
            " </a>\n",
            "</p>\n",
            "\n",
            "Tracking Nifty Index\n"
          ]
        }
      ]
    },
    {
      "cell_type": "code",
      "source": [
        "# current price\n",
        "htmlBlock = soup.find(\"span\", class_=\"current-price\")\n",
        "print(htmlBlock.prettify())\n",
        "\n",
        "value = htmlBlock.text if htmlBlock is not None else None\n",
        "print(value)"
      ],
      "metadata": {
        "colab": {
          "base_uri": "https://localhost:8080/"
        },
        "id": "zdTUd2Led1NO",
        "outputId": "b917eb47-d9f3-4ac1-98f6-57bcf1dca426"
      },
      "execution_count": 11,
      "outputs": [
        {
          "output_type": "stream",
          "name": "stdout",
          "text": [
            "<span class=\"jsx-3168773259 current-price typography-h1 text-primary\">\n",
            " 184.78\n",
            "</span>\n",
            "\n",
            "184.78\n"
          ]
        }
      ]
    },
    {
      "cell_type": "code",
      "source": [
        "# marketcap, sector and risk\n",
        "htmlBlock = soup.find(\"div\", class_=\"stock-labels\")\n",
        "htmlBlock = htmlBlock.find_all(\"span\", class_=\"stock-label-title\")\n",
        "for block in htmlBlock:\n",
        "    print(block)\n",
        "\n",
        "value = htmlBlock[0].text if htmlBlock[0] is not None else None\n",
        "print(value)\n",
        "\n",
        "value = htmlBlock[1].text if htmlBlock[1] is not None else None\n",
        "print(value)\n",
        "\n",
        "value = htmlBlock[2].text if htmlBlock[2] is not None else None\n",
        "print(value)"
      ],
      "metadata": {
        "colab": {
          "base_uri": "https://localhost:8080/"
        },
        "id": "ReDtU1Zn3V4x",
        "outputId": "f5856f93-5767-4261-da71-6269fc198d64"
      },
      "execution_count": 12,
      "outputs": [
        {
          "output_type": "stream",
          "name": "stdout",
          "text": [
            "<span class=\"jsx-1903139372 stock-label-title typography-body-medium-xs\">ETF</span>\n",
            "<span class=\"jsx-1903139372 stock-label-title typography-body-medium-xs\">Large Cap</span>\n",
            "<span class=\"jsx-1903139372 stock-label-title typography-body-medium-xs\">High Liquidity</span>\n",
            "ETF\n",
            "Large Cap\n",
            "High Liquidity\n"
          ]
        }
      ]
    },
    {
      "cell_type": "code",
      "source": [
        "# profile\n",
        "\n",
        "htmlBlock = soup.find(\"div\", class_=\"amc-profile\")\n",
        "# print(htmlBlock.prettify())\n",
        "\n",
        "print(htmlBlock.h2.text)\n",
        "print(htmlBlock.p.text)\n",
        "\n",
        "value_h = htmlBlock.h2.text if htmlBlock.h2 is not None else \"\"\n",
        "value_p = htmlBlock.p.text if htmlBlock.p is not None else \"\"\n",
        "value = value_h + \": \" + value_p if (value_h + value_p) != \"\" else None\n",
        "print(value)"
      ],
      "metadata": {
        "colab": {
          "base_uri": "https://localhost:8080/"
        },
        "id": "mnkbOAIG3V7J",
        "outputId": "bca9a50d-839d-47dd-846b-3e9d0bf913a6"
      },
      "execution_count": 13,
      "outputs": [
        {
          "output_type": "stream",
          "name": "stdout",
          "text": [
            "AMC profile\n",
            "Reliance Nippon Life Asset Management or RNAM is one of India’s two largest asset management companies. Currently, it has over $60 billion in its corpus. It is a wholly owned subsidiary of the Reliance Anil Dhirubhai Ambani or ADA Group.\n",
            "AMC profile: Reliance Nippon Life Asset Management or RNAM is one of India’s two largest asset management companies. Currently, it has over $60 billion in its corpus. It is a wholly owned subsidiary of the Reliance Anil Dhirubhai Ambani or ADA Group.\n"
          ]
        }
      ]
    },
    {
      "cell_type": "code",
      "source": [
        ""
      ],
      "metadata": {
        "id": "OqosrS1L3V9y"
      },
      "execution_count": 13,
      "outputs": []
    },
    {
      "cell_type": "markdown",
      "source": [
        "### [2] Overview"
      ],
      "metadata": {
        "id": "Hl7pzStc-rt9"
      }
    },
    {
      "cell_type": "code",
      "source": [
        "# current price\n",
        "htmlBlock = soup.find(\"span\", class_=\"current-price\")\n",
        "print(htmlBlock.prettify())\n",
        "\n",
        "value = htmlBlock.text if htmlBlock is not None else None\n",
        "print(value)"
      ],
      "metadata": {
        "colab": {
          "base_uri": "https://localhost:8080/"
        },
        "id": "kPe2Uab63WAA",
        "outputId": "c18c5ac4-4a01-470d-af9c-b38ebb37bfe3"
      },
      "execution_count": 14,
      "outputs": [
        {
          "output_type": "stream",
          "name": "stdout",
          "text": [
            "<span class=\"jsx-3168773259 current-price typography-h1 text-primary\">\n",
            " 184.78\n",
            "</span>\n",
            "\n",
            "184.78\n"
          ]
        }
      ]
    },
    {
      "cell_type": "code",
      "source": [
        "# change absolute-value\n",
        "htmlBlock = soup.find(\"span\", class_=\"absolute-value\")\n",
        "print(htmlBlock.prettify())\n",
        "\n",
        "value = htmlBlock.text if htmlBlock is not None else None\n",
        "print(value)"
      ],
      "metadata": {
        "colab": {
          "base_uri": "https://localhost:8080/"
        },
        "id": "7CvuSrAplDBR",
        "outputId": "10951598-4cf8-47dd-c3e8-c0edb41c1be8"
      },
      "execution_count": 15,
      "outputs": [
        {
          "output_type": "stream",
          "name": "stdout",
          "text": [
            "<span class=\"jsx-3168773259 change absolute-value text-14 typography-body-medium-l down\">\n",
            " <i class=\"jsx-3168773259 icon-Red-down\">\n",
            " </i>\n",
            " 0.71\n",
            " <!-- -->\n",
            " %\n",
            "</span>\n",
            "\n",
            "0.71%\n"
          ]
        }
      ]
    },
    {
      "cell_type": "code",
      "source": [
        "# change percentage-value\n",
        "htmlBlock = soup.find(\"span\", class_=\"percentage-value\")\n",
        "print(htmlBlock.prettify())\n",
        "\n",
        "value = str(htmlBlock.text).replace(\"(\", \"\").replace(\")\", \"\").strip() if htmlBlock is not None else None\n",
        "print(value)"
      ],
      "metadata": {
        "colab": {
          "base_uri": "https://localhost:8080/"
        },
        "id": "u_RW7wVYlDEH",
        "outputId": "747e5669-aff8-4919-c6a0-c2e8d1c42c4a"
      },
      "execution_count": 16,
      "outputs": [
        {
          "output_type": "stream",
          "name": "stdout",
          "text": [
            "<span class=\"jsx-3168773259 change percentage-value text-14 down\">\n",
            " (\n",
            " <!-- -->\n",
            " -\n",
            " <!-- -->\n",
            " 1.33\n",
            " <!-- -->\n",
            " )\n",
            "</span>\n",
            "-1.33\n"
          ]
        }
      ]
    },
    {
      "cell_type": "code",
      "source": [
        "# tracking\n",
        "htmlBlock = soup.find(\"p\", class_=\"mb12\")\n",
        "print(htmlBlock.prettify())\n",
        "\n",
        "value = htmlBlock.text if htmlBlock is not None else None\n",
        "print(value)"
      ],
      "metadata": {
        "colab": {
          "base_uri": "https://localhost:8080/"
        },
        "id": "kqbW592-Yrax",
        "outputId": "26120bb9-ccf9-4105-c4ea-19a31671073d"
      },
      "execution_count": 17,
      "outputs": [
        {
          "output_type": "stream",
          "name": "stdout",
          "text": [
            "<p class=\"text-12 desktop--only mb12 text-12\">\n",
            " Tracking\n",
            " <!-- -->\n",
            " <a class=\"typography-body-medium-xs pointer text-blue text-uppercase\" href=\"https://www.tickertape.in/indices/nifty-index-.NSEI\" rel=\"noreferrer noopener\" target=\"_blank\" title=\"Nifty Index\">\n",
            "  Nifty Index\n",
            " </a>\n",
            "</p>\n",
            "\n",
            "Tracking Nifty Index\n"
          ]
        }
      ]
    },
    {
      "cell_type": "code",
      "source": [
        "# day high, low, returns\n",
        "htmlBlock = soup.find(\"div\", class_=\"statbox\")\n",
        "print(htmlBlock.prettify())\n",
        "\n",
        "# value = htmlBlock.text if htmlBlock is not None else None\n",
        "# print(value)\n",
        "\n",
        "# NOT POSSIBLE, DYNAMICALLY CALCULATED AFTER PAGE LOAD!!!!"
      ],
      "metadata": {
        "colab": {
          "base_uri": "https://localhost:8080/"
        },
        "id": "dIhdpRgBAUU5",
        "outputId": "b3f446fa-746a-4c50-a7bf-8125e13cae87"
      },
      "execution_count": 18,
      "outputs": [
        {
          "output_type": "stream",
          "name": "stdout",
          "text": [
            "<div class=\"jsx-1785027547 statbox \">\n",
            " <div class=\"jsx-3420801268\">\n",
            "  <div class=\"jsx-3420801268 typography-body-regular-m text-secondary \">\n",
            "   High\n",
            "  </div>\n",
            "  <div class=\"jsx-3420801268 value typography-body-medium-l text-primary \">\n",
            "   —\n",
            "  </div>\n",
            " </div>\n",
            " <div class=\"jsx-3420801268\">\n",
            "  <div class=\"jsx-3420801268 typography-body-regular-m text-secondary \">\n",
            "   Low\n",
            "  </div>\n",
            "  <div class=\"jsx-3420801268 value typography-body-medium-l text-primary \">\n",
            "   —\n",
            "  </div>\n",
            " </div>\n",
            " <div class=\"jsx-3420801268\">\n",
            "  <div class=\"jsx-3420801268 typography-body-regular-m text-secondary \">\n",
            "   Returns\n",
            "  </div>\n",
            "  <div class=\"jsx-3420801268 value typography-body-medium-l text-primary \">\n",
            "   —\n",
            "  </div>\n",
            " </div>\n",
            "</div>\n"
          ]
        }
      ]
    },
    {
      "cell_type": "code",
      "source": [
        ""
      ],
      "metadata": {
        "id": "nssx6D3kIQ2L"
      },
      "execution_count": 18,
      "outputs": []
    },
    {
      "cell_type": "code",
      "source": [
        "# we can get the full price data from this url:\n",
        "\n",
        "# for day chart:\n",
        "# \"https://api.tickertape.in/stocks/charts/intra/{some-internal-code-name}\"\n",
        "\n",
        "# for other durations:\n",
        "# \"https://api.tickertape.in/stocks/charts/inter/{some-internal-code-name}?duration={Duration}\"\n",
        "# dutations: \"1w\" for week, \"1mo\" for month, \"1y\" for 1year, \"5y\" for 5year, \"max\" for full\n",
        "\n",
        "# for SIP:\n",
        "# https://api.tickertape.in/stocks/charts/sip/{some-internal-code-name}\n",
        "\n",
        "# Example: \"https://api.tickertape.in/stocks/charts/inter/NBES?duration=1w\"\n",
        "\n",
        "## NEED INVESTIGATION ON HOW TO EXTRACT THE CODE NAMES\n",
        "## (Found: it's the last keyword in caps at the end of the url)"
      ],
      "metadata": {
        "id": "X_5C7HJoEndk"
      },
      "execution_count": 19,
      "outputs": []
    },
    {
      "cell_type": "code",
      "source": [
        "chartData = requests.get(\"https://api.tickertape.in/stocks/charts/inter/NBES?duration=1w\")\n",
        "# chartData.text"
      ],
      "metadata": {
        "id": "o7dGoc88Enf5"
      },
      "execution_count": 20,
      "outputs": []
    },
    {
      "cell_type": "code",
      "source": [
        "# chartData.json()['data'][0]['points'][0]['lp']\n",
        "x = [dt.datetime.strptime(data['ts'],'%Y-%m-%dT%H:%M:%S.%fZ') for data in chartData.json()['data'][0]['points']]\n",
        "y = [data['lp'] for data in chartData.json()['data'][0]['points']]\n",
        "\n",
        "plt.plot(x, y)\n",
        "plt.show()"
      ],
      "metadata": {
        "colab": {
          "base_uri": "https://localhost:8080/",
          "height": 265
        },
        "id": "TpDTe_DXEnj3",
        "outputId": "017553e2-6319-452c-f7eb-5ec580d48591"
      },
      "execution_count": 21,
      "outputs": [
        {
          "output_type": "display_data",
          "data": {
            "text/plain": [
              "<Figure size 432x288 with 1 Axes>"
            ],
            "image/png": "[encoded data removed]"
          },
          "metadata": {
            "needs_background": "light"
          }
        }
      ]
    },
    {
      "cell_type": "code",
      "source": [
        "rawData = pd.DataFrame(chartData.json()['data'][0]['points'])\n",
        "rawData['ts']= pd.to_datetime(rawData['ts'])\n",
        "rawData.info()"
      ],
      "metadata": {
        "colab": {
          "base_uri": "https://localhost:8080/"
        },
        "id": "on9xpX6II9R3",
        "outputId": "e1bdcdd9-0783-4a23-e076-688cec073d2b"
      },
      "execution_count": 22,
      "outputs": [
        {
          "output_type": "stream",
          "name": "stdout",
          "text": [
            "<class 'pandas.core.frame.DataFrame'>\n",
            "RangeIndex: 393 entries, 0 to 392\n",
            "Data columns (total 3 columns):\n",
            " #   Column  Non-Null Count  Dtype              \n",
            "---  ------  --------------  -----              \n",
            " 0   lp      393 non-null    float64            \n",
            " 1   v       393 non-null    int64              \n",
            " 2   ts      393 non-null    datetime64[ns, UTC]\n",
            "dtypes: datetime64[ns, UTC](1), float64(1), int64(1)\n",
            "memory usage: 9.3 KB\n"
          ]
        }
      ]
    },
    {
      "cell_type": "code",
      "source": [
        "fig = px.line(rawData, x='ts', y=\"lp\")\n",
        "fig.show()"
      ],
      "metadata": {
        "colab": {
          "base_uri": "https://localhost:8080/",
          "height": 542
        },
        "id": "ftcOiWbIWg41",
        "outputId": "8ec5f6e5-544c-4894-8a7d-7d391fb669cf"
      },
      "execution_count": 23,
      "outputs": [
        {
          "output_type": "display_data",
          "data": {
            "text/html": [
              "<html>\n",
              "<head><meta charset=\"utf-8\" /></head>\n",
              "<body>\n",
              "    <div>            <script src=\"https://cdnjs.cloudflare.com/ajax/libs/mathjax/2.7.5/MathJax.js?config=TeX-AMS-MML_SVG\"></script><script type=\"text/javascript\">if (window.MathJax) {MathJax.Hub.Config({SVG: {font: \"STIX-Web\"}});}</script>                <script type=\"text/javascript\">window.PlotlyConfig = {MathJaxConfig: 'local'};</script>\n",
              "        <script src=\"https://cdn.plot.ly/plotly-2.8.3.min.js\"></script>                <div id=\"0e052d30-8bb7-4870-b280-c3afefc2b1c7\" class=\"plotly-graph-div\" style=\"height:525px; width:100%;\"></div>            <script type=\"text/javascript\">                                    window.PLOTLYENV=window.PLOTLYENV || {};                                    if (document.getElementById(\"0e052d30-8bb7-4870-b280-c3afefc2b1c7\")) {                    Plotly.newPlot(                        \"0e052d30-8bb7-4870-b280-c3afefc2b1c7\",                        [{\"hovertemplate\":\"ts=%{x}<br>lp=%{y}<extra></extra>\",\"legendgroup\":\"\",\"line\":{\"color\":\"#636efa\",\"dash\":\"solid\"},\"marker\":{\"symbol\":\"circle\"},\"mode\":\"lines\",\"name\":\"\",\"orientation\":\"v\",\"showlegend\":false,\"x\":[\"2022-04-20T03:49:00+00:00\",\"2022-04-20T03:54:00+00:00\",\"2022-04-20T03:59:00+00:00\",\"2022-04-20T04:04:00+00:00\",\"2022-04-20T04:09:00+00:00\",\"2022-04-20T04:14:00+00:00\",\"2022-04-20T04:19:00+00:00\",\"2022-04-20T04:24:00+00:00\",\"2022-04-20T04:29:00+00:00\",\"2022-04-20T04:34:00+00:00\",\"2022-04-20T04:39:00+00:00\",\"2022-04-20T04:44:00+00:00\",\"2022-04-20T04:49:00+00:00\",\"2022-04-20T04:54:00+00:00\",\"2022-04-20T04:59:00+00:00\",\"2022-04-20T05:04:00+00:00\",\"2022-04-20T05:09:00+00:00\",\"2022-04-20T05:14:00+00:00\",\"2022-04-20T05:19:00+00:00\",\"2022-04-20T05:24:00+00:00\",\"2022-04-20T05:29:00+00:00\",\"2022-04-20T05:34:00+00:00\",\"2022-04-20T05:39:00+00:00\",\"2022-04-20T05:44:00+00:00\",\"2022-04-20T05:49:00+00:00\",\"2022-04-20T05:54:00+00:00\",\"2022-04-20T05:59:00+00:00\",\"2022-04-20T06:04:00+00:00\",\"2022-04-20T06:09:00+00:00\",\"2022-04-20T06:14:00+00:00\",\"2022-04-20T06:19:00+00:00\",\"2022-04-20T06:24:00+00:00\",\"2022-04-20T06:29:00+00:00\",\"2022-04-20T06:34:00+00:00\",\"2022-04-20T06:39:00+00:00\",\"2022-04-20T06:44:00+00:00\",\"2022-04-20T06:49:00+00:00\",\"2022-04-20T06:54:00+00:00\",\"2022-04-20T06:59:00+00:00\",\"2022-04-20T07:04:00+00:00\",\"2022-04-20T07:09:00+00:00\",\"2022-04-20T07:14:00+00:00\",\"2022-04-20T07:19:00+00:00\",\"2022-04-20T07:24:00+00:00\",\"2022-04-20T07:29:00+00:00\",\"2022-04-20T07:34:00+00:00\",\"2022-04-20T07:39:00+00:00\",\"2022-04-20T07:44:00+00:00\",\"2022-04-20T07:49:00+00:00\",\"2022-04-20T07:54:00+00:00\",\"2022-04-20T07:59:00+00:00\",\"2022-04-20T08:04:00+00:00\",\"2022-04-20T08:09:00+00:00\",\"2022-04-20T08:14:00+00:00\",\"2022-04-20T08:19:00+00:00\",\"2022-04-20T08:24:00+00:00\",\"2022-04-20T08:29:00+00:00\",\"2022-04-20T08:34:00+00:00\",\"2022-04-20T08:39:00+00:00\",\"2022-04-20T08:44:00+00:00\",\"2022-04-20T08:49:00+00:00\",\"2022-04-20T08:54:00+00:00\",\"2022-04-20T08:59:00+00:00\",\"2022-04-20T09:04:00+00:00\",\"2022-04-20T09:09:00+00:00\",\"2022-04-20T09:14:00+00:00\",\"2022-04-20T09:19:00+00:00\",\"2022-04-20T09:24:00+00:00\",\"2022-04-20T09:29:00+00:00\",\"2022-04-20T09:34:00+00:00\",\"2022-04-20T09:39:00+00:00\",\"2022-04-20T09:44:00+00:00\",\"2022-04-20T09:49:00+00:00\",\"2022-04-20T09:54:00+00:00\",\"2022-04-20T09:59:00+00:00\",\"2022-04-20T10:14:00+00:00\",\"2022-04-20T10:19:00+00:00\",\"2022-04-20T10:25:00+00:00\",\"2022-04-21T03:49:00+00:00\",\"2022-04-21T03:54:00+00:00\",\"2022-04-21T03:59:00+00:00\",\"2022-04-21T04:04:00+00:00\",\"2022-04-21T04:09:00+00:00\",\"2022-04-21T04:14:00+00:00\",\"2022-04-21T04:19:00+00:00\",\"2022-04-21T04:24:00+00:00\",\"2022-04-21T04:29:00+00:00\",\"2022-04-21T04:34:00+00:00\",\"2022-04-21T04:39:00+00:00\",\"2022-04-21T04:44:00+00:00\",\"2022-04-21T04:49:00+00:00\",\"2022-04-21T04:54:00+00:00\",\"2022-04-21T04:59:00+00:00\",\"2022-04-21T05:04:00+00:00\",\"2022-04-21T05:09:00+00:00\",\"2022-04-21T05:14:00+00:00\",\"2022-04-21T05:19:00+00:00\",\"2022-04-21T05:24:00+00:00\",\"2022-04-21T05:29:00+00:00\",\"2022-04-21T05:34:00+00:00\",\"2022-04-21T05:39:00+00:00\",\"2022-04-21T05:44:00+00:00\",\"2022-04-21T05:49:00+00:00\",\"2022-04-21T05:54:00+00:00\",\"2022-04-21T05:59:00+00:00\",\"2022-04-21T06:04:00+00:00\",\"2022-04-21T06:09:00+00:00\",\"2022-04-21T06:14:00+00:00\",\"2022-04-21T06:19:00+00:00\",\"2022-04-21T06:24:00+00:00\",\"2022-04-21T06:29:00+00:00\",\"2022-04-21T06:34:00+00:00\",\"2022-04-21T06:39:00+00:00\",\"2022-04-21T06:44:00+00:00\",\"2022-04-21T06:49:00+00:00\",\"2022-04-21T06:54:00+00:00\",\"2022-04-21T06:59:00+00:00\",\"2022-04-21T07:04:00+00:00\",\"2022-04-21T07:09:00+00:00\",\"2022-04-21T07:14:00+00:00\",\"2022-04-21T07:19:00+00:00\",\"2022-04-21T07:24:00+00:00\",\"2022-04-21T07:29:00+00:00\",\"2022-04-21T07:34:00+00:00\",\"2022-04-21T07:39:00+00:00\",\"2022-04-21T07:44:00+00:00\",\"2022-04-21T07:49:00+00:00\",\"2022-04-21T07:54:00+00:00\",\"2022-04-21T07:59:00+00:00\",\"2022-04-21T08:04:00+00:00\",\"2022-04-21T08:09:00+00:00\",\"2022-04-21T08:14:00+00:00\",\"2022-04-21T08:19:00+00:00\",\"2022-04-21T08:24:00+00:00\",\"2022-04-21T08:29:00+00:00\",\"2022-04-21T08:34:00+00:00\",\"2022-04-21T08:39:00+00:00\",\"2022-04-21T08:44:00+00:00\",\"2022-04-21T08:49:00+00:00\",\"2022-04-21T08:54:00+00:00\",\"2022-04-21T08:59:00+00:00\",\"2022-04-21T09:04:00+00:00\",\"2022-04-21T09:09:00+00:00\",\"2022-04-21T09:14:00+00:00\",\"2022-04-21T09:19:00+00:00\",\"2022-04-21T09:24:00+00:00\",\"2022-04-21T09:29:00+00:00\",\"2022-04-21T09:34:00+00:00\",\"2022-04-21T09:39:00+00:00\",\"2022-04-21T09:44:00+00:00\",\"2022-04-21T09:49:00+00:00\",\"2022-04-21T09:54:00+00:00\",\"2022-04-21T09:59:00+00:00\",\"2022-04-21T10:13:00+00:00\",\"2022-04-21T10:18:00+00:00\",\"2022-04-21T10:23:00+00:00\",\"2022-04-21T10:27:00+00:00\",\"2022-04-22T03:49:00+00:00\",\"2022-04-22T03:54:00+00:00\",\"2022-04-22T03:59:00+00:00\",\"2022-04-22T04:04:00+00:00\",\"2022-04-22T04:09:00+00:00\",\"2022-04-22T04:14:00+00:00\",\"2022-04-22T04:19:00+00:00\",\"2022-04-22T04:24:00+00:00\",\"2022-04-22T04:29:00+00:00\",\"2022-04-22T04:34:00+00:00\",\"2022-04-22T04:39:00+00:00\",\"2022-04-22T04:44:00+00:00\",\"2022-04-22T04:49:00+00:00\",\"2022-04-22T04:54:00+00:00\",\"2022-04-22T04:59:00+00:00\",\"2022-04-22T05:04:00+00:00\",\"2022-04-22T05:09:00+00:00\",\"2022-04-22T05:14:00+00:00\",\"2022-04-22T05:19:00+00:00\",\"2022-04-22T05:24:00+00:00\",\"2022-04-22T05:29:00+00:00\",\"2022-04-22T05:34:00+00:00\",\"2022-04-22T05:39:00+00:00\",\"2022-04-22T05:44:00+00:00\",\"2022-04-22T05:49:00+00:00\",\"2022-04-22T05:54:00+00:00\",\"2022-04-22T05:59:00+00:00\",\"2022-04-22T06:04:00+00:00\",\"2022-04-22T06:09:00+00:00\",\"2022-04-22T06:14:00+00:00\",\"2022-04-22T06:19:00+00:00\",\"2022-04-22T06:24:00+00:00\",\"2022-04-22T06:29:00+00:00\",\"2022-04-22T06:34:00+00:00\",\"2022-04-22T06:39:00+00:00\",\"2022-04-22T06:44:00+00:00\",\"2022-04-22T06:49:00+00:00\",\"2022-04-22T06:54:00+00:00\",\"2022-04-22T06:59:00+00:00\",\"2022-04-22T07:04:00+00:00\",\"2022-04-22T07:09:00+00:00\",\"2022-04-22T07:14:00+00:00\",\"2022-04-22T07:19:00+00:00\",\"2022-04-22T07:24:00+00:00\",\"2022-04-22T07:29:00+00:00\",\"2022-04-22T07:34:00+00:00\",\"2022-04-22T07:39:00+00:00\",\"2022-04-22T07:44:00+00:00\",\"2022-04-22T07:49:00+00:00\",\"2022-04-22T07:54:00+00:00\",\"2022-04-22T07:59:00+00:00\",\"2022-04-22T08:04:00+00:00\",\"2022-04-22T08:09:00+00:00\",\"2022-04-22T08:14:00+00:00\",\"2022-04-22T08:19:00+00:00\",\"2022-04-22T08:24:00+00:00\",\"2022-04-22T08:29:00+00:00\",\"2022-04-22T08:34:00+00:00\",\"2022-04-22T08:39:00+00:00\",\"2022-04-22T08:44:00+00:00\",\"2022-04-22T08:49:00+00:00\",\"2022-04-22T08:54:00+00:00\",\"2022-04-22T08:59:00+00:00\",\"2022-04-22T09:04:00+00:00\",\"2022-04-22T09:09:00+00:00\",\"2022-04-22T09:14:00+00:00\",\"2022-04-22T09:19:00+00:00\",\"2022-04-22T09:24:00+00:00\",\"2022-04-22T09:29:00+00:00\",\"2022-04-22T09:34:00+00:00\",\"2022-04-22T09:39:00+00:00\",\"2022-04-22T09:44:00+00:00\",\"2022-04-22T09:49:00+00:00\",\"2022-04-22T09:54:00+00:00\",\"2022-04-22T09:59:00+00:00\",\"2022-04-22T10:11:00+00:00\",\"2022-04-22T10:17:00+00:00\",\"2022-04-22T10:23:00+00:00\",\"2022-04-25T03:49:00+00:00\",\"2022-04-25T03:54:00+00:00\",\"2022-04-25T03:59:00+00:00\",\"2022-04-25T04:04:00+00:00\",\"2022-04-25T04:09:00+00:00\",\"2022-04-25T04:14:00+00:00\",\"2022-04-25T04:19:00+00:00\",\"2022-04-25T04:24:00+00:00\",\"2022-04-25T04:29:00+00:00\",\"2022-04-25T04:34:00+00:00\",\"2022-04-25T04:39:00+00:00\",\"2022-04-25T04:44:00+00:00\",\"2022-04-25T04:49:00+00:00\",\"2022-04-25T04:54:00+00:00\",\"2022-04-25T04:59:00+00:00\",\"2022-04-25T05:04:00+00:00\",\"2022-04-25T05:09:00+00:00\",\"2022-04-25T05:14:00+00:00\",\"2022-04-25T05:19:00+00:00\",\"2022-04-25T05:24:00+00:00\",\"2022-04-25T05:29:00+00:00\",\"2022-04-25T05:34:00+00:00\",\"2022-04-25T05:39:00+00:00\",\"2022-04-25T05:44:00+00:00\",\"2022-04-25T05:49:00+00:00\",\"2022-04-25T05:54:00+00:00\",\"2022-04-25T05:59:00+00:00\",\"2022-04-25T06:04:00+00:00\",\"2022-04-25T06:09:00+00:00\",\"2022-04-25T06:14:00+00:00\",\"2022-04-25T06:19:00+00:00\",\"2022-04-25T06:24:00+00:00\",\"2022-04-25T06:29:00+00:00\",\"2022-04-25T06:34:00+00:00\",\"2022-04-25T06:39:00+00:00\",\"2022-04-25T06:44:00+00:00\",\"2022-04-25T06:49:00+00:00\",\"2022-04-25T06:54:00+00:00\",\"2022-04-25T06:59:00+00:00\",\"2022-04-25T07:04:00+00:00\",\"2022-04-25T07:09:00+00:00\",\"2022-04-25T07:14:00+00:00\",\"2022-04-25T07:19:00+00:00\",\"2022-04-25T07:24:00+00:00\",\"2022-04-25T07:29:00+00:00\",\"2022-04-25T07:34:00+00:00\",\"2022-04-25T07:39:00+00:00\",\"2022-04-25T07:44:00+00:00\",\"2022-04-25T07:49:00+00:00\",\"2022-04-25T07:54:00+00:00\",\"2022-04-25T07:59:00+00:00\",\"2022-04-25T08:04:00+00:00\",\"2022-04-25T08:09:00+00:00\",\"2022-04-25T08:14:00+00:00\",\"2022-04-25T08:19:00+00:00\",\"2022-04-25T08:24:00+00:00\",\"2022-04-25T08:29:00+00:00\",\"2022-04-25T08:34:00+00:00\",\"2022-04-25T08:39:00+00:00\",\"2022-04-25T08:44:00+00:00\",\"2022-04-25T08:49:00+00:00\",\"2022-04-25T08:54:00+00:00\",\"2022-04-25T08:59:00+00:00\",\"2022-04-25T09:04:00+00:00\",\"2022-04-25T09:09:00+00:00\",\"2022-04-25T09:14:00+00:00\",\"2022-04-25T09:19:00+00:00\",\"2022-04-25T09:24:00+00:00\",\"2022-04-25T09:29:00+00:00\",\"2022-04-25T09:34:00+00:00\",\"2022-04-25T09:39:00+00:00\",\"2022-04-25T09:44:00+00:00\",\"2022-04-25T09:49:00+00:00\",\"2022-04-25T09:54:00+00:00\",\"2022-04-25T09:59:00+00:00\",\"2022-04-25T10:12:00+00:00\",\"2022-04-25T10:16:00+00:00\",\"2022-04-25T10:24:00+00:00\",\"2022-04-25T10:28:00+00:00\",\"2022-04-26T03:49:00+00:00\",\"2022-04-26T03:54:00+00:00\",\"2022-04-26T03:59:00+00:00\",\"2022-04-26T04:04:00+00:00\",\"2022-04-26T04:09:00+00:00\",\"2022-04-26T04:14:00+00:00\",\"2022-04-26T04:19:00+00:00\",\"2022-04-26T04:24:00+00:00\",\"2022-04-26T04:29:00+00:00\",\"2022-04-26T04:34:00+00:00\",\"2022-04-26T04:39:00+00:00\",\"2022-04-26T04:44:00+00:00\",\"2022-04-26T04:49:00+00:00\",\"2022-04-26T04:54:00+00:00\",\"2022-04-26T04:59:00+00:00\",\"2022-04-26T05:04:00+00:00\",\"2022-04-26T05:09:00+00:00\",\"2022-04-26T05:14:00+00:00\",\"2022-04-26T05:19:00+00:00\",\"2022-04-26T05:24:00+00:00\",\"2022-04-26T05:29:00+00:00\",\"2022-04-26T05:34:00+00:00\",\"2022-04-26T05:39:00+00:00\",\"2022-04-26T05:44:00+00:00\",\"2022-04-26T05:49:00+00:00\",\"2022-04-26T05:54:00+00:00\",\"2022-04-26T05:59:00+00:00\",\"2022-04-26T06:04:00+00:00\",\"2022-04-26T06:09:00+00:00\",\"2022-04-26T06:14:00+00:00\",\"2022-04-26T06:19:00+00:00\",\"2022-04-26T06:24:00+00:00\",\"2022-04-26T06:29:00+00:00\",\"2022-04-26T06:34:00+00:00\",\"2022-04-26T06:39:00+00:00\",\"2022-04-26T06:44:00+00:00\",\"2022-04-26T06:49:00+00:00\",\"2022-04-26T06:54:00+00:00\",\"2022-04-26T06:59:00+00:00\",\"2022-04-26T07:04:00+00:00\",\"2022-04-26T07:09:00+00:00\",\"2022-04-26T07:14:00+00:00\",\"2022-04-26T07:19:00+00:00\",\"2022-04-26T07:24:00+00:00\",\"2022-04-26T07:29:00+00:00\",\"2022-04-26T07:34:00+00:00\",\"2022-04-26T07:39:00+00:00\",\"2022-04-26T07:44:00+00:00\",\"2022-04-26T07:49:00+00:00\",\"2022-04-26T07:54:00+00:00\",\"2022-04-26T07:59:00+00:00\",\"2022-04-26T08:04:00+00:00\",\"2022-04-26T08:09:00+00:00\",\"2022-04-26T08:14:00+00:00\",\"2022-04-26T08:19:00+00:00\",\"2022-04-26T08:24:00+00:00\",\"2022-04-26T08:29:00+00:00\",\"2022-04-26T08:34:00+00:00\",\"2022-04-26T08:39:00+00:00\",\"2022-04-26T08:44:00+00:00\",\"2022-04-26T08:49:00+00:00\",\"2022-04-26T08:54:00+00:00\",\"2022-04-26T08:59:00+00:00\",\"2022-04-26T09:04:00+00:00\",\"2022-04-26T09:09:00+00:00\",\"2022-04-26T09:14:00+00:00\",\"2022-04-26T09:19:00+00:00\",\"2022-04-26T09:24:00+00:00\",\"2022-04-26T09:29:00+00:00\",\"2022-04-26T09:34:00+00:00\",\"2022-04-26T09:39:00+00:00\",\"2022-04-26T09:44:00+00:00\",\"2022-04-26T09:49:00+00:00\",\"2022-04-26T09:54:00+00:00\",\"2022-04-26T09:59:00+00:00\",\"2022-04-26T10:13:00+00:00\",\"2022-04-26T10:19:00+00:00\",\"2022-04-26T10:24:00+00:00\",\"2022-04-26T10:25:00+00:00\"],\"xaxis\":\"x\",\"y\":[184.94,185.06,185.19,185.45,185.58,185.42,185.34,185.62,185.64,185.6,185.62,185.6,185.64,185.59,185.61,185.3,185.22,185.32,185.38,185.42,185.31,185.43,185.55,185.51,185.6,185.6,185.31,185.3,185.01,185.22,185.22,185.21,185.14,185.21,185.25,185.5,185.51,185.49,185.67,185.57,186.04,186.0,186.15,186.04,186.09,186.19,186.0,185.85,185.72,185.79,185.92,185.65,185.76,185.8,185.49,185.13,185.19,185.4,185.44,185.4,185.17,185.38,185.2,185.12,185.4,185.86,185.98,185.73,185.47,185.6,185.84,185.7,185.9,185.9,185.86,185.86,185.86,187.23,186.72,186.72,186.64,186.69,186.65,186.77,186.87,186.76,186.73,186.8,186.72,186.85,186.84,186.7,186.6,186.75,186.76,186.84,186.93,187.11,187.05,187.35,187.5,187.68,187.56,187.72,187.66,187.61,187.5,187.59,187.5,187.51,187.56,187.62,187.68,187.65,187.54,187.58,187.57,187.69,187.7,187.82,187.87,187.77,187.78,187.85,187.8,187.9,187.76,187.71,187.98,187.95,187.85,188.01,188.0,187.98,187.79,187.89,187.83,187.99,188.06,188.11,188.2,188.12,188.02,188.11,188.15,188.23,188.25,188.25,187.96,188.12,188.09,188.14,188.1,188.1,188.1,188.1,186.45,186.05,186.07,186.57,186.26,186.27,186.32,186.3,186.55,186.39,186.26,186.27,186.24,186.31,186.22,186.33,186.37,186.4,186.5,186.46,186.54,186.66,186.69,186.98,187.0,187.08,187.1,186.9,187.1,187.05,187.15,187.01,187.02,187.11,187.15,187.1,186.92,187.0,187.14,186.98,186.99,187.06,187.19,187.08,187.1,186.97,186.85,186.95,186.86,186.84,186.79,186.94,186.96,187.1,186.98,186.83,186.95,186.88,186.17,186.21,186.31,186.29,186.35,186.34,186.16,186.09,186.08,186.0,185.87,186.13,186.29,186.19,186.02,186.05,186.14,186.09,186.09,186.09,184.92,184.01,184.15,184.27,184.37,184.34,184.19,184.08,184.08,184.23,184.16,184.5,184.74,184.7,184.45,184.47,184.3,184.13,184.33,184.5,184.35,184.41,184.59,184.42,184.42,184.37,184.42,184.44,184.34,184.29,184.19,184.32,184.39,184.38,184.38,184.24,184.0,184.02,183.61,183.8,183.44,183.69,183.62,183.94,183.89,183.92,183.93,184.1,184.3,184.25,184.18,184.23,184.15,183.93,183.86,184.04,183.99,183.92,184.17,184.26,184.11,183.92,183.54,183.7,183.65,183.63,183.26,183.56,183.79,183.8,183.93,183.78,183.82,183.75,183.93,183.86,183.86,183.86,183.86,185.6,185.5,185.74,185.8,185.92,185.85,185.88,185.89,185.9,185.89,185.99,185.97,185.73,185.75,185.75,185.72,185.73,185.57,185.61,185.5,185.64,185.56,185.6,185.57,185.51,185.64,185.84,185.84,185.88,185.95,185.95,185.74,185.83,185.88,185.79,185.7,185.6,185.7,185.77,185.62,185.57,185.59,185.58,185.2,185.25,185.1,185.2,185.29,185.2,185.26,185.4,185.5,185.49,185.55,185.6,185.7,185.68,185.67,185.55,185.6,185.67,185.79,185.48,185.49,185.75,185.64,185.7,185.71,185.7,185.71,185.91,186.16,186.28,186.25,186.2,186.11,186.11,186.11,186.11,184.83],\"yaxis\":\"y\",\"type\":\"scatter\"}],                        {\"template\":{\"data\":{\"bar\":[{\"error_x\":{\"color\":\"#2a3f5f\"},\"error_y\":{\"color\":\"#2a3f5f\"},\"marker\":{\"line\":{\"color\":\"#E5ECF6\",\"width\":0.5},\"pattern\":{\"fillmode\":\"overlay\",\"size\":10,\"solidity\":0.2}},\"type\":\"bar\"}],\"barpolar\":[{\"marker\":{\"line\":{\"color\":\"#E5ECF6\",\"width\":0.5},\"pattern\":{\"fillmode\":\"overlay\",\"size\":10,\"solidity\":0.2}},\"type\":\"barpolar\"}],\"carpet\":[{\"aaxis\":{\"endlinecolor\":\"#2a3f5f\",\"gridcolor\":\"white\",\"linecolor\":\"white\",\"minorgridcolor\":\"white\",\"startlinecolor\":\"#2a3f5f\"},\"baxis\":{\"endlinecolor\":\"#2a3f5f\",\"gridcolor\":\"white\",\"linecolor\":\"white\",\"minorgridcolor\":\"white\",\"startlinecolor\":\"#2a3f5f\"},\"type\":\"carpet\"}],\"choropleth\":[{\"colorbar\":{\"outlinewidth\":0,\"ticks\":\"\"},\"type\":\"choropleth\"}],\"contour\":[{\"colorbar\":{\"outlinewidth\":0,\"ticks\":\"\"},\"colorscale\":[[0.0,\"#0d0887\"],[0.1111111111111111,\"#46039f\"],[0.2222222222222222,\"#7201a8\"],[0.3333333333333333,\"#9c179e\"],[0.4444444444444444,\"#bd3786\"],[0.5555555555555556,\"#d8576b\"],[0.6666666666666666,\"#ed7953\"],[0.7777777777777778,\"#fb9f3a\"],[0.8888888888888888,\"#fdca26\"],[1.0,\"#f0f921\"]],\"type\":\"contour\"}],\"contourcarpet\":[{\"colorbar\":{\"outlinewidth\":0,\"ticks\":\"\"},\"type\":\"contourcarpet\"}],\"heatmap\":[{\"colorbar\":{\"outlinewidth\":0,\"ticks\":\"\"},\"colorscale\":[[0.0,\"#0d0887\"],[0.1111111111111111,\"#46039f\"],[0.2222222222222222,\"#7201a8\"],[0.3333333333333333,\"#9c179e\"],[0.4444444444444444,\"#bd3786\"],[0.5555555555555556,\"#d8576b\"],[0.6666666666666666,\"#ed7953\"],[0.7777777777777778,\"#fb9f3a\"],[0.8888888888888888,\"#fdca26\"],[1.0,\"#f0f921\"]],\"type\":\"heatmap\"}],\"heatmapgl\":[{\"colorbar\":{\"outlinewidth\":0,\"ticks\":\"\"},\"colorscale\":[[0.0,\"#0d0887\"],[0.1111111111111111,\"#46039f\"],[0.2222222222222222,\"#7201a8\"],[0.3333333333333333,\"#9c179e\"],[0.4444444444444444,\"#bd3786\"],[0.5555555555555556,\"#d8576b\"],[0.6666666666666666,\"#ed7953\"],[0.7777777777777778,\"#fb9f3a\"],[0.8888888888888888,\"#fdca26\"],[1.0,\"#f0f921\"]],\"type\":\"heatmapgl\"}],\"histogram\":[{\"marker\":{\"pattern\":{\"fillmode\":\"overlay\",\"size\":10,\"solidity\":0.2}},\"type\":\"histogram\"}],\"histogram2d\":[{\"colorbar\":{\"outlinewidth\":0,\"ticks\":\"\"},\"colorscale\":[[0.0,\"#0d0887\"],[0.1111111111111111,\"#46039f\"],[0.2222222222222222,\"#7201a8\"],[0.3333333333333333,\"#9c179e\"],[0.4444444444444444,\"#bd3786\"],[0.5555555555555556,\"#d8576b\"],[0.6666666666666666,\"#ed7953\"],[0.7777777777777778,\"#fb9f3a\"],[0.8888888888888888,\"#fdca26\"],[1.0,\"#f0f921\"]],\"type\":\"histogram2d\"}],\"histogram2dcontour\":[{\"colorbar\":{\"outlinewidth\":0,\"ticks\":\"\"},\"colorscale\":[[0.0,\"#0d0887\"],[0.1111111111111111,\"#46039f\"],[0.2222222222222222,\"#7201a8\"],[0.3333333333333333,\"#9c179e\"],[0.4444444444444444,\"#bd3786\"],[0.5555555555555556,\"#d8576b\"],[0.6666666666666666,\"#ed7953\"],[0.7777777777777778,\"#fb9f3a\"],[0.8888888888888888,\"#fdca26\"],[1.0,\"#f0f921\"]],\"type\":\"histogram2dcontour\"}],\"mesh3d\":[{\"colorbar\":{\"outlinewidth\":0,\"ticks\":\"\"},\"type\":\"mesh3d\"}],\"parcoords\":[{\"line\":{\"colorbar\":{\"outlinewidth\":0,\"ticks\":\"\"}},\"type\":\"parcoords\"}],\"pie\":[{\"automargin\":true,\"type\":\"pie\"}],\"scatter\":[{\"marker\":{\"colorbar\":{\"outlinewidth\":0,\"ticks\":\"\"}},\"type\":\"scatter\"}],\"scatter3d\":[{\"line\":{\"colorbar\":{\"outlinewidth\":0,\"ticks\":\"\"}},\"marker\":{\"colorbar\":{\"outlinewidth\":0,\"ticks\":\"\"}},\"type\":\"scatter3d\"}],\"scattercarpet\":[{\"marker\":{\"colorbar\":{\"outlinewidth\":0,\"ticks\":\"\"}},\"type\":\"scattercarpet\"}],\"scattergeo\":[{\"marker\":{\"colorbar\":{\"outlinewidth\":0,\"ticks\":\"\"}},\"type\":\"scattergeo\"}],\"scattergl\":[{\"marker\":{\"colorbar\":{\"outlinewidth\":0,\"ticks\":\"\"}},\"type\":\"scattergl\"}],\"scattermapbox\":[{\"marker\":{\"colorbar\":{\"outlinewidth\":0,\"ticks\":\"\"}},\"type\":\"scattermapbox\"}],\"scatterpolar\":[{\"marker\":{\"colorbar\":{\"outlinewidth\":0,\"ticks\":\"\"}},\"type\":\"scatterpolar\"}],\"scatterpolargl\":[{\"marker\":{\"colorbar\":{\"outlinewidth\":0,\"ticks\":\"\"}},\"type\":\"scatterpolargl\"}],\"scatterternary\":[{\"marker\":{\"colorbar\":{\"outlinewidth\":0,\"ticks\":\"\"}},\"type\":\"scatterternary\"}],\"surface\":[{\"colorbar\":{\"outlinewidth\":0,\"ticks\":\"\"},\"colorscale\":[[0.0,\"#0d0887\"],[0.1111111111111111,\"#46039f\"],[0.2222222222222222,\"#7201a8\"],[0.3333333333333333,\"#9c179e\"],[0.4444444444444444,\"#bd3786\"],[0.5555555555555556,\"#d8576b\"],[0.6666666666666666,\"#ed7953\"],[0.7777777777777778,\"#fb9f3a\"],[0.8888888888888888,\"#fdca26\"],[1.0,\"#f0f921\"]],\"type\":\"surface\"}],\"table\":[{\"cells\":{\"fill\":{\"color\":\"#EBF0F8\"},\"line\":{\"color\":\"white\"}},\"header\":{\"fill\":{\"color\":\"#C8D4E3\"},\"line\":{\"color\":\"white\"}},\"type\":\"table\"}]},\"layout\":{\"annotationdefaults\":{\"arrowcolor\":\"#2a3f5f\",\"arrowhead\":0,\"arrowwidth\":1},\"autotypenumbers\":\"strict\",\"coloraxis\":{\"colorbar\":{\"outlinewidth\":0,\"ticks\":\"\"}},\"colorscale\":{\"diverging\":[[0,\"#8e0152\"],[0.1,\"#c51b7d\"],[0.2,\"#de77ae\"],[0.3,\"#f1b6da\"],[0.4,\"#fde0ef\"],[0.5,\"#f7f7f7\"],[0.6,\"#e6f5d0\"],[0.7,\"#b8e186\"],[0.8,\"#7fbc41\"],[0.9,\"#4d9221\"],[1,\"#276419\"]],\"sequential\":[[0.0,\"#0d0887\"],[0.1111111111111111,\"#46039f\"],[0.2222222222222222,\"#7201a8\"],[0.3333333333333333,\"#9c179e\"],[0.4444444444444444,\"#bd3786\"],[0.5555555555555556,\"#d8576b\"],[0.6666666666666666,\"#ed7953\"],[0.7777777777777778,\"#fb9f3a\"],[0.8888888888888888,\"#fdca26\"],[1.0,\"#f0f921\"]],\"sequentialminus\":[[0.0,\"#0d0887\"],[0.1111111111111111,\"#46039f\"],[0.2222222222222222,\"#7201a8\"],[0.3333333333333333,\"#9c179e\"],[0.4444444444444444,\"#bd3786\"],[0.5555555555555556,\"#d8576b\"],[0.6666666666666666,\"#ed7953\"],[0.7777777777777778,\"#fb9f3a\"],[0.8888888888888888,\"#fdca26\"],[1.0,\"#f0f921\"]]},\"colorway\":[\"#636efa\",\"#EF553B\",\"#00cc96\",\"#ab63fa\",\"#FFA15A\",\"#19d3f3\",\"#FF6692\",\"#B6E880\",\"#FF97FF\",\"#FECB52\"],\"font\":{\"color\":\"#2a3f5f\"},\"geo\":{\"bgcolor\":\"white\",\"lakecolor\":\"white\",\"landcolor\":\"#E5ECF6\",\"showlakes\":true,\"showland\":true,\"subunitcolor\":\"white\"},\"hoverlabel\":{\"align\":\"left\"},\"hovermode\":\"closest\",\"mapbox\":{\"style\":\"light\"},\"paper_bgcolor\":\"white\",\"plot_bgcolor\":\"#E5ECF6\",\"polar\":{\"angularaxis\":{\"gridcolor\":\"white\",\"linecolor\":\"white\",\"ticks\":\"\"},\"bgcolor\":\"#E5ECF6\",\"radialaxis\":{\"gridcolor\":\"white\",\"linecolor\":\"white\",\"ticks\":\"\"}},\"scene\":{\"xaxis\":{\"backgroundcolor\":\"#E5ECF6\",\"gridcolor\":\"white\",\"gridwidth\":2,\"linecolor\":\"white\",\"showbackground\":true,\"ticks\":\"\",\"zerolinecolor\":\"white\"},\"yaxis\":{\"backgroundcolor\":\"#E5ECF6\",\"gridcolor\":\"white\",\"gridwidth\":2,\"linecolor\":\"white\",\"showbackground\":true,\"ticks\":\"\",\"zerolinecolor\":\"white\"},\"zaxis\":{\"backgroundcolor\":\"#E5ECF6\",\"gridcolor\":\"white\",\"gridwidth\":2,\"linecolor\":\"white\",\"showbackground\":true,\"ticks\":\"\",\"zerolinecolor\":\"white\"}},\"shapedefaults\":{\"line\":{\"color\":\"#2a3f5f\"}},\"ternary\":{\"aaxis\":{\"gridcolor\":\"white\",\"linecolor\":\"white\",\"ticks\":\"\"},\"baxis\":{\"gridcolor\":\"white\",\"linecolor\":\"white\",\"ticks\":\"\"},\"bgcolor\":\"#E5ECF6\",\"caxis\":{\"gridcolor\":\"white\",\"linecolor\":\"white\",\"ticks\":\"\"}},\"title\":{\"x\":0.05},\"xaxis\":{\"automargin\":true,\"gridcolor\":\"white\",\"linecolor\":\"white\",\"ticks\":\"\",\"title\":{\"standoff\":15},\"zerolinecolor\":\"white\",\"zerolinewidth\":2},\"yaxis\":{\"automargin\":true,\"gridcolor\":\"white\",\"linecolor\":\"white\",\"ticks\":\"\",\"title\":{\"standoff\":15},\"zerolinecolor\":\"white\",\"zerolinewidth\":2}}},\"xaxis\":{\"anchor\":\"y\",\"domain\":[0.0,1.0],\"title\":{\"text\":\"ts\"}},\"yaxis\":{\"anchor\":\"x\",\"domain\":[0.0,1.0],\"title\":{\"text\":\"lp\"}},\"legend\":{\"tracegroupgap\":0},\"margin\":{\"t\":60}},                        {\"responsive\": true}                    ).then(function(){\n",
              "                            \n",
              "var gd = document.getElementById('0e052d30-8bb7-4870-b280-c3afefc2b1c7');\n",
              "var x = new MutationObserver(function (mutations, observer) {{\n",
              "        var display = window.getComputedStyle(gd).display;\n",
              "        if (!display || display === 'none') {{\n",
              "            console.log([gd, 'removed!']);\n",
              "            Plotly.purge(gd);\n",
              "            observer.disconnect();\n",
              "        }}\n",
              "}});\n",
              "\n",
              "// Listen for the removal of the full notebook cells\n",
              "var notebookContainer = gd.closest('#notebook-container');\n",
              "if (notebookContainer) {{\n",
              "    x.observe(notebookContainer, {childList: true});\n",
              "}}\n",
              "\n",
              "// Listen for the clearing of the current output cell\n",
              "var outputEl = gd.closest('.output');\n",
              "if (outputEl) {{\n",
              "    x.observe(outputEl, {childList: true});\n",
              "}}\n",
              "\n",
              "                        })                };                            </script>        </div>\n",
              "</body>\n",
              "</html>"
            ]
          },
          "metadata": {}
        }
      ]
    },
    {
      "cell_type": "code",
      "source": [
        "# TO BE CONTINUED (in other notebook) . . ."
      ],
      "metadata": {
        "id": "9FFnrD1oWg8O"
      },
      "execution_count": 24,
      "outputs": []
    },
    {
      "cell_type": "code",
      "source": [
        ""
      ],
      "metadata": {
        "id": "JWXAtd67I9W2"
      },
      "execution_count": 24,
      "outputs": []
    },
    {
      "cell_type": "code",
      "source": [
        "# marketcap, sector and risk\n",
        "htmlBlock = soup.find(\"div\", class_=\"stock-labels\")\n",
        "titles = htmlBlock.find_all(\"span\", class_=\"stock-label-title\")\n",
        "descs = htmlBlock.find_all(\"span\", class_=\"stock-label-desc\")\n",
        "for title in titles:\n",
        "    print(title)\n",
        "for desc in descs:\n",
        "    print(desc)\n",
        "\n",
        "value = titles[0].text if titles[0] is not None else None\n",
        "print(value)\n",
        "value = descs[0].text if descs[0] is not None else None\n",
        "print(value)\n",
        "\n",
        "value = titles[1].text if titles[1] is not None else None\n",
        "print(value)\n",
        "value = descs[1].text if descs[1] is not None else None\n",
        "print(value)\n",
        "\n",
        "value = titles[2].text if titles[2] is not None else None\n",
        "print(value)\n",
        "value = descs[2].text if descs[2] is not None else None\n",
        "print(value)\n"
      ],
      "metadata": {
        "colab": {
          "base_uri": "https://localhost:8080/"
        },
        "id": "t6scN9siAUXa",
        "outputId": "77aa3f05-44bf-4d0e-a4c0-20861477acbd"
      },
      "execution_count": 25,
      "outputs": [
        {
          "output_type": "stream",
          "name": "stdout",
          "text": [
            "<span class=\"jsx-1903139372 stock-label-title typography-body-medium-xs\">ETF</span>\n",
            "<span class=\"jsx-1903139372 stock-label-title typography-body-medium-xs\">Large Cap</span>\n",
            "<span class=\"jsx-1903139372 stock-label-title typography-body-medium-xs\">High Liquidity</span>\n",
            "<span class=\"jsx-1903139372 stock-label-desc typography-body-regular-m desktop--only\">Equity</span>\n",
            "<span class=\"jsx-1903139372 stock-label-desc typography-body-regular-m desktop--only\"></span>\n",
            "<span class=\"jsx-1903139372 stock-label-desc typography-body-regular-m desktop--only\">Average daily traded value of the ETF is high</span>\n",
            "ETF\n",
            "Equity\n",
            "Large Cap\n",
            "\n",
            "High Liquidity\n",
            "Average daily traded value of the ETF is high\n"
          ]
        }
      ]
    },
    {
      "cell_type": "code",
      "source": [
        ""
      ],
      "metadata": {
        "id": "R6yLMkMlAUZ9"
      },
      "execution_count": 25,
      "outputs": []
    },
    {
      "cell_type": "code",
      "source": [
        ""
      ],
      "metadata": {
        "id": "iGqqb3XkAUca"
      },
      "execution_count": 25,
      "outputs": []
    },
    {
      "cell_type": "markdown",
      "source": [
        "### [3] Investment Checklist"
      ],
      "metadata": {
        "id": "BR3F0yCgpnIw"
      }
    },
    {
      "cell_type": "code",
      "source": [
        "# checklist-item carousel-item\n",
        "htmlBlock = soup.find(\"div\", class_=\"inv-chk-root\")\n",
        "# print(htmlBlock.prettify())\n",
        "\n",
        "htmlBlock.find_all(\"div\", class_=\"commentary-item-root\")"
      ],
      "metadata": {
        "id": "zg-X1ebllDSY",
        "colab": {
          "base_uri": "https://localhost:8080/"
        },
        "outputId": "281f1310-6632-4a0c-909e-c37010d2c0c6"
      },
      "execution_count": 26,
      "outputs": [
        {
          "output_type": "execute_result",
          "data": {
            "text/plain": [
              "[<div class=\"jsx-2732034756 jsx-482152645 commentary-item-root d-flex-row align-start justify-start \" eventlabel=\"Clicked Checklist Item\"><i class=\"jsx-2732034756 jsx-482152645 icon-mood icon-positive-comment text-24 mr12\"></i><div class=\"jsx-2732034756 jsx-482152645 content\"><h4 class=\"jsx-2732034756 jsx-482152645 typography-body-medium-m text-primary\"><span class=\"jsx-2732034756 jsx-482152645 relative no-select tooltip-holder\">NAV<div class=\"jsx-1503855875 tooltip-root sh-tooltip font-regular\">The net asset value (NAV) of an ETF is based on the current prices of the stocks/assets in the fund and an actual accounting of the total cash in the fund at the time of calculation. Market price can be different from real time NAV due to late market activity and both tend to converge periodically. A market price close to real time NAV is much better for investment!</div></span></h4><p class=\"jsx-2732034756 jsx-482152645 lh-138 text-13 text-secondary typography-body-regular-m commentary-desc\">Current price is close to the real time NAV</p></div></div>,\n",
              " <div class=\"jsx-2137651844 jsx-482152645 commentary-item-root d-flex-row align-start justify-start \" eventlabel=\"Clicked Checklist Item\"><i class=\"jsx-2137651844 jsx-482152645 icon-mood icon-positive-comment text-24 mr12\"></i><div class=\"jsx-2137651844 jsx-482152645 content\"><h4 class=\"jsx-2137651844 jsx-482152645 typography-body-medium-m text-primary\"><span class=\"jsx-2137651844 jsx-482152645 relative no-select tooltip-holder\">Expense Ratio<div class=\"jsx-1503855875 tooltip-root sh-tooltip font-regular\">ETFs charge their shareholders an expense ratio to cover the fund’s operating expenses, which is expressed as a percentage of the fund’s average net assets. This directly reduces the fund’s returns to its shareholders, and, therefore, the value of the investment. Lower is always better!</div></span></h4><p class=\"jsx-2137651844 jsx-482152645 lh-138 text-13 text-secondary typography-body-regular-m commentary-desc\">Less expense ratio implies better returns over the long term</p></div></div>,\n",
              " <div class=\"jsx-2906938702 jsx-482152645 commentary-item-root d-flex-row align-start justify-start \" eventlabel=\"Clicked Checklist Item\"><i class=\"jsx-2906938702 jsx-482152645 icon-mood icon-positive-comment text-24 mr12\"></i><div class=\"jsx-2906938702 jsx-482152645 content\"><h4 class=\"jsx-2906938702 jsx-482152645 typography-body-medium-m text-primary\"><span class=\"jsx-2906938702 jsx-482152645 relative no-select tooltip-holder\">Tracking Error<div class=\"jsx-1503855875 tooltip-root sh-tooltip font-regular\">Tracking error is the difference between the performance of the ETF and that of the underlying benchmark it's tracking. It's an important metric for investors who want to replicate an index's performance by investing in the ETF. The lower the tracking error, the better is the ETF's performance aligned with the investor's expectations</div></span></h4><p class=\"jsx-2906938702 jsx-482152645 lh-138 text-13 text-secondary typography-body-regular-m commentary-desc\">ETF has been able to closely match its benchmark's returns</p></div></div>,\n",
              " <div class=\"jsx-3514943789 jsx-482152645 commentary-item-root d-flex-row align-start justify-start \" eventlabel=\"Clicked Checklist Item\"><i class=\"jsx-3514943789 jsx-482152645 icon-mood icon-positive-comment text-24 mr12\"></i><div class=\"jsx-3514943789 jsx-482152645 content\"><h4 class=\"jsx-3514943789 jsx-482152645 typography-body-medium-m text-primary\"><span class=\"jsx-3514943789 jsx-482152645 relative no-select tooltip-holder\">Return vs FD Rates<div class=\"jsx-1503855875 tooltip-root sh-tooltip font-regular\">Fixed Deposit rate is a virtually risk-free rate where the investor assumes almost no risk on their investment. If the ETFs price return is lower than this rate, investors are better off investing the amount in a FD</div></span></h4><p class=\"jsx-3514943789 jsx-482152645 lh-138 text-13 text-secondary typography-body-regular-m commentary-desc\">ETF has been generating better price return than bank FD</p></div></div>,\n",
              " <div class=\"jsx-2983376578 jsx-482152645 commentary-item-root d-flex-row align-start justify-start \" eventlabel=\"Clicked Checklist Item\"><i class=\"jsx-2983376578 jsx-482152645 icon-mood icon-positive-comment text-24 mr12\"></i><div class=\"jsx-2983376578 jsx-482152645 content\"><h4 class=\"jsx-2983376578 jsx-482152645 typography-body-medium-m text-primary\"><span class=\"jsx-2983376578 jsx-482152645 relative no-select tooltip-holder\">Entry Point<div class=\"jsx-1503855875 tooltip-root sh-tooltip font-regular\">High demand for an ETF increases its price. If the price is pushed up to a level which is not justified, then it's considered to be in the overbought zone, which is not a good time to buy the ETF</div></span></h4><p class=\"jsx-2983376578 jsx-482152645 lh-138 text-13 text-secondary typography-body-regular-m commentary-desc\">Good time to consider, as ETF is not in overbought zone</p></div></div>]"
            ]
          },
          "metadata": {},
          "execution_count": 26
        }
      ]
    },
    {
      "cell_type": "code",
      "source": [
        "htmlBlock = soup.find(\"div\", class_=\"inv-chk-root\")\n",
        "htmlBlock = htmlBlock.find_all(\"div\", class_=\"commentary-item-root\")\n",
        "\n",
        "# get all keys and values\n",
        "for item in htmlBlock:\n",
        "    key = item.find(\"span\", class_=\"tooltip-holder\").contents[0]\n",
        "    key = key.title().replace(\" \", \"\")\n",
        "    key = key[0].lower() + key[1:]\n",
        "    value = item.find(\"i\")['class'][3].split(\"-\")[1]\n",
        "\n",
        "    print(key, \"     \\t:\", value)"
      ],
      "metadata": {
        "colab": {
          "base_uri": "https://localhost:8080/"
        },
        "id": "-OZstV6glDcC",
        "outputId": "131f24ac-ed35-45eb-a670-0a5ff6e6ff1d"
      },
      "execution_count": 27,
      "outputs": [
        {
          "output_type": "stream",
          "name": "stdout",
          "text": [
            "nav      \t: positive\n",
            "expenseRatio      \t: positive\n",
            "trackingError      \t: positive\n",
            "returnVsFdRates      \t: positive\n",
            "entryPoint      \t: positive\n"
          ]
        }
      ]
    },
    {
      "cell_type": "code",
      "source": [
        ""
      ],
      "metadata": {
        "id": "A-uCXOAoBcwB"
      },
      "execution_count": 27,
      "outputs": []
    },
    {
      "cell_type": "markdown",
      "source": [
        "### [4] Key Metrics"
      ],
      "metadata": {
        "id": "eo73RLqK1chc"
      }
    },
    {
      "cell_type": "code",
      "source": [
        "# ratios-card - PERatio, PBRatio, DividendYield, SectorPE, SectorPB, SectorDividendYield\n",
        "\n",
        "htmlBlock = soup.find(\"div\", class_=\"ratios-card\")\n",
        "# print(htmlBlock.prettify())\n",
        "\n",
        "keys = htmlBlock.select(\"span.ellipsis.desktop--only\")\n",
        "values = htmlBlock.find_all(\"div\", class_=\"value\")\n",
        "\n",
        "for i in range(len(keys)):\n",
        "    key = keys[i].text\n",
        "    key = key.replace(\" \", \"\")\n",
        "    value = values[i].text\n",
        "    value = None if str(value) == \"—\" else str(value)\n",
        "    print(key, \": \", value)\n"
      ],
      "metadata": {
        "id": "iNOzGEBI2D_h",
        "colab": {
          "base_uri": "https://localhost:8080/"
        },
        "outputId": "2e095569-9cf1-4d33-b88c-61ba0596eb73"
      },
      "execution_count": 28,
      "outputs": [
        {
          "output_type": "stream",
          "name": "stdout",
          "text": [
            "RealtimeNAV :  ₹ 184.35\n",
            "AUM :  ₹ 7,549.02cr\n",
            "ExpenseRatio :  0.05%\n",
            "SectorExpenseRatio :  0.23%\n",
            "TrackingError :  0.03%\n",
            "SectorTrackingError :  1,55,937.91%\n"
          ]
        }
      ]
    },
    {
      "cell_type": "code",
      "source": [
        ""
      ],
      "metadata": {
        "id": "a8QciuHzcCSK"
      },
      "execution_count": 28,
      "outputs": []
    },
    {
      "cell_type": "code",
      "source": [
        ""
      ],
      "metadata": {
        "id": "fGjgggatGz3-"
      },
      "execution_count": 28,
      "outputs": []
    },
    {
      "cell_type": "markdown",
      "source": [
        "# Let us try and extract data (from all the pages)"
      ],
      "metadata": {
        "id": "MwF82Yx93WQ3"
      }
    },
    {
      "cell_type": "markdown",
      "source": [
        "Import scraped data containing all stock/etf names and subdirectory, <br>\n",
        "and Hit \"https://www.tickertape.in/etfs/{etf-name}\""
      ],
      "metadata": {
        "id": "3J4teIPY4WR3"
      }
    },
    {
      "cell_type": "code",
      "source": [
        "with open('top-company-list.json', 'r') as fp:\n",
        "    topcompanies = json.load(fp)\n",
        "\n",
        "topcompanies[0]"
      ],
      "metadata": {
        "id": "s-0iLhJd3nVm",
        "outputId": "0746e034-f7ca-4fc0-ac54-9403124904bd",
        "colab": {
          "base_uri": "https://localhost:8080/"
        }
      },
      "execution_count": 29,
      "outputs": [
        {
          "output_type": "execute_result",
          "data": {
            "text/plain": [
              "{'name': 'Adani Enterprises Ltd',\n",
              " 'subdirectory': 'adani-enterprises-ADEL',\n",
              " 'type': 'stocks'}"
            ]
          },
          "metadata": {},
          "execution_count": 29
        }
      ]
    },
    {
      "cell_type": "code",
      "source": [
        "with open('full-company-list.json', 'r') as fp:\n",
        "    allcompanies = json.load(fp)\n",
        "\n",
        "allcompanies[0]"
      ],
      "metadata": {
        "id": "9dxNjdbj3n6a",
        "outputId": "f9d02e82-fa5f-4078-b5b2-cc89f0022eaf",
        "colab": {
          "base_uri": "https://localhost:8080/"
        }
      },
      "execution_count": 30,
      "outputs": [
        {
          "output_type": "execute_result",
          "data": {
            "text/plain": [
              "{'name': 'A & M Febcon Ltd',\n",
              " 'subdirectory': 'a-and-m-febcon-AMF',\n",
              " 'type': 'stocks'}"
            ]
          },
          "metadata": {},
          "execution_count": 30
        }
      ]
    },
    {
      "cell_type": "code",
      "source": [
        ""
      ],
      "metadata": {
        "id": "-GSihzev3n8-"
      },
      "execution_count": 30,
      "outputs": []
    },
    {
      "cell_type": "code",
      "source": [
        "def scrapeTickertape(name, stocktype, subdirectory):\n",
        "    _url = \"https://www.tickertape.in/\" + stocktype + \"/\" + subdirectory\n",
        "    _data = {}\n",
        "\n",
        "    try:\n",
        "        # hit the page and get html\n",
        "        _header = {\n",
        "            \"User-Agent\": \"Mozilla/5.0 (Windows NT 10.0; Win64; x64) AppleWebKit/537.36 (KHTML, like Gecko) Chrome/80.0.3987.163 Safari/537.36\"\n",
        "        }\n",
        "        _response = requests.get(_url, headers=_header)\n",
        "\n",
        "        # give the webpage to Beautiful Soup using parsers: \"html.parser\" or \"lxml\"\n",
        "        _soup = BeautifulSoup(_response.text, 'lxml')\n",
        "\n",
        "        ######### extract html data from webpage and form output data #########\n",
        "\n",
        "        ##### [1] Basics #####\n",
        "        # etf name\n",
        "        _htmlBlock = _soup.find(\"h3\", class_=\"security-name\")\n",
        "        _data[\"name\"] = _htmlBlock.text if _htmlBlock is not None else None\n",
        "\n",
        "        # ticker name\n",
        "        _htmlBlock = _soup.find(\"span\", class_=\"ticker\")\n",
        "        _data[\"ticker\"] = _htmlBlock.text if _htmlBlock is not None else None\n",
        "\n",
        "        # url\n",
        "        _data[\"url\"] = _url\n",
        "\n",
        "        # type\n",
        "        _data[\"type\"] = stocktype\n",
        "\n",
        "        # tracking\n",
        "        _htmlBlock = _soup.find(\"p\", class_=\"mb12\")\n",
        "        _data[\"tracking\"] = _htmlBlock.text if _htmlBlock is not None else None\n",
        "\n",
        "        # current price\n",
        "        _htmlBlock = _soup.find(\"span\", class_=\"current-price\")\n",
        "        _data[\"price\"] = _htmlBlock.text if _htmlBlock is not None else None\n",
        "\n",
        "        # marketcap, sector and risk\n",
        "        _htmlBlock = _soup.find(\"div\", class_=\"stock-labels\")\n",
        "        _htmlBlock = _htmlBlock.find_all(\"span\", class_=\"stock-label-title\")\n",
        "        _data[\"sector\"] = _htmlBlock[0].text if _htmlBlock[0] is not None else None\n",
        "        _data[\"marketcap\"] = _htmlBlock[1].text if _htmlBlock[1] is not None else None\n",
        "        _data[\"risk\"] = _htmlBlock[2].text if _htmlBlock[2] is not None else None\n",
        "\n",
        "        # profile\n",
        "        _htmlBlock = _soup.find(\"div\", class_=\"amc-profile\")\n",
        "        _value_h = _htmlBlock.h2.text if _htmlBlock.h2 is not None else \"\"\n",
        "        _value_p = _htmlBlock.p.text if _htmlBlock.p is not None else \"\"\n",
        "        _data[\"profile\"] = _value_h + \": \" + _value_p if (_value_h + _value_p) != \"\" else None\n",
        "\n",
        "        ##### [2] Overview #####\n",
        "        _overview = {}\n",
        "\n",
        "        # current price\n",
        "        _htmlBlock = _soup.find(\"span\", class_=\"current-price\")\n",
        "        _overview[\"currentPrice\"] = _htmlBlock.text if _htmlBlock is not None else None\n",
        "\n",
        "        # change absolute-value\n",
        "        _htmlBlock = _soup.find(\"span\", class_=\"absolute-value\")\n",
        "        _overview[\"absoluteChange\"] = _htmlBlock.text if _htmlBlock is not None else None\n",
        "\n",
        "        # change percentage-value\n",
        "        _htmlBlock = _soup.find(\"span\", class_=\"percentage-value\")\n",
        "        _overview[\"percentageChange\"] = str(_htmlBlock.text).replace(\"(\", \"\").replace(\")\", \"\").strip() if _htmlBlock is not None else None\n",
        "\n",
        "        # tracking\n",
        "        _htmlBlock = _soup.find(\"p\", class_=\"mb12\")\n",
        "        _data[\"tracking\"] = _htmlBlock.text if _htmlBlock is not None else None\n",
        "\n",
        "        # marketcap, sector and risk\n",
        "        _htmlBlock = _soup.find(\"div\", class_=\"stock-labels\")\n",
        "        _title = _htmlBlock.find_all(\"span\", class_=\"stock-label-title\")\n",
        "        _desc = _htmlBlock.find_all(\"span\", class_=\"stock-label-desc\")\n",
        "\n",
        "        _overview[\"sectorType\"] = _title[0].text if _title[0] is not None else None\n",
        "        _overview[\"sectorDesc\"] = _desc[0].text if _desc[0] is not None else None\n",
        "\n",
        "        _overview[\"capType\"] = _title[1].text if _title[1] is not None else None\n",
        "        _overview[\"capDesc\"] = _desc[1].text if _desc[1] is not None else None\n",
        "\n",
        "        _overview[\"riskType\"] = _title[2].text if _title[2] is not None else None\n",
        "        _overview[\"riskDesc\"] = _desc[2].text if _desc[2] is not None else None\n",
        "\n",
        "        # put overview into data\n",
        "        _data[\"overview\"] = _overview\n",
        "\n",
        "        ##### [3] Investment Checklist #####\n",
        "        _investmentChecklist = {}\n",
        "\n",
        "        # checklist carousel-item get all keys and values\n",
        "        _htmlBlock = _soup.find(\"div\", class_=\"inv-chk-root\")\n",
        "        _htmlBlock = _htmlBlock.find_all(\"div\", class_=\"commentary-item-root\")\n",
        "        for _item in _htmlBlock:\n",
        "            _key = _item.find(\"span\", class_=\"tooltip-holder\").contents[0]\n",
        "            _key = _key.title().replace(\" \", \"\")\n",
        "            _key = _key[0].lower() + _key[1:]\n",
        "            _value = _item.find(\"i\")['class'][3].split(\"-\")[1]\n",
        "            _investmentChecklist[_key] = _value\n",
        "\n",
        "        # put investmentChecklist into data\n",
        "        _data[\"investmentChecklist\"] = _investmentChecklist\n",
        "\n",
        "        ##### [4] Key Metrics #####\n",
        "        _keyMetrics = {}\n",
        "\n",
        "        # PERatio, PBRatio, DividendYield, SectorPE, SectorPB, SectorDividendYield\n",
        "        _htmlBlock = _soup.find(\"div\", class_=\"ratios-card\")\n",
        "        _keys = _htmlBlock.select(\"span.ellipsis.desktop--only\")\n",
        "        _values = _htmlBlock.find_all(\"div\", class_=\"value\")\n",
        "        for i in range(len(_keys)):\n",
        "            _key = _keys[i].text\n",
        "            _key = _key.replace(\" \", \"\")\n",
        "            _value = _values[i].text\n",
        "            _value = None if str(_value) == \"—\" else str(_value)\n",
        "            _keyMetrics[_key] = _value\n",
        "\n",
        "        # put keyMetrics into data\n",
        "        _data[\"keyMetrics\"] = _keyMetrics\n",
        "\n",
        "        # return the scraped data\n",
        "        return _data\n",
        "    except Exception as _e:\n",
        "        print(_e)\n",
        "        return []\n"
      ],
      "metadata": {
        "id": "V0fow5JZ6J1W"
      },
      "execution_count": 31,
      "outputs": []
    },
    {
      "cell_type": "code",
      "source": [
        "scrapeTickertape(\"Nippon India Nifty 50 Bees ETF\", \"etfs\", \"nippon-india-nifty-50-bees-etf-NBES\")"
      ],
      "metadata": {
        "id": "nGBNt8gW6J3v",
        "outputId": "2ab0ca53-77ee-4bb4-cc25-f8a8f7ea7f25",
        "colab": {
          "base_uri": "https://localhost:8080/"
        }
      },
      "execution_count": 32,
      "outputs": [
        {
          "output_type": "execute_result",
          "data": {
            "text/plain": [
              "{'investmentChecklist': {'entryPoint': 'positive',\n",
              "  'expenseRatio': 'positive',\n",
              "  'nav': 'positive',\n",
              "  'returnVsFdRates': 'positive',\n",
              "  'trackingError': 'positive'},\n",
              " 'keyMetrics': {'AUM': '₹ 7,549.02cr',\n",
              "  'ExpenseRatio': '0.05%',\n",
              "  'RealtimeNAV': '₹ 184.35',\n",
              "  'SectorExpenseRatio': '0.23%',\n",
              "  'SectorTrackingError': '1,55,937.91%',\n",
              "  'TrackingError': '0.03%'},\n",
              " 'marketcap': 'Large Cap',\n",
              " 'name': 'Nippon India Nifty 50 Bees ETF',\n",
              " 'overview': {'absoluteChange': '0.71%',\n",
              "  'capDesc': '',\n",
              "  'capType': 'Large Cap',\n",
              "  'currentPrice': '184.78',\n",
              "  'percentageChange': '-1.33',\n",
              "  'riskDesc': 'Average daily traded value of the ETF is high',\n",
              "  'riskType': 'High Liquidity',\n",
              "  'sectorDesc': 'Equity',\n",
              "  'sectorType': 'ETF'},\n",
              " 'price': '184.78',\n",
              " 'profile': 'AMC profile: Reliance Nippon Life Asset Management or RNAM is one of India’s two largest asset management companies. Currently, it has over $60 billion in its corpus. It is a wholly owned subsidiary of the Reliance Anil Dhirubhai Ambani or ADA Group.',\n",
              " 'risk': 'High Liquidity',\n",
              " 'sector': 'ETF',\n",
              " 'ticker': 'NIFTYBEES',\n",
              " 'tracking': 'Tracking\\xa0Nifty Index',\n",
              " 'type': 'etfs',\n",
              " 'url': 'https://www.tickertape.in/etfs/nippon-india-nifty-50-bees-etf-NBES'}"
            ]
          },
          "metadata": {},
          "execution_count": 32
        }
      ]
    },
    {
      "cell_type": "code",
      "source": [
        ""
      ],
      "metadata": {
        "id": "R70dmgT1IVis"
      },
      "execution_count": 32,
      "outputs": []
    },
    {
      "cell_type": "code",
      "source": [
        "# # let's scrape all the stocks & etfs!\n",
        "# allETFsData = []\n",
        "# count = 0\n",
        "\n",
        "# for companies in allcompanies:\n",
        "#     companyName = companies[\"name\"]\n",
        "#     companyType = companies[\"type\"]\n",
        "#     companyDir = companies[\"subdirectory\"]\n",
        "\n",
        "#     if companyType != \"etfs\":\n",
        "#         continue\n",
        "    \n",
        "#     print(companyName, \"url: https://www.tickertape.in/\" + companyType + \"/\" + companyDir)\n",
        "#     try:\n",
        "#         # get data from each page and append to data list\n",
        "#         if companyType == \"etfs\":\n",
        "#             allETFsData.append(scrapeTickertape(companyName, companyType, companyDir))\n",
        "#             print(\"successful!\")\n",
        "#             count += 1\n",
        "#     except Exception as _e:\n",
        "#         # some issue occured, catch exception\n",
        "#         print(\"failed!\")\n",
        "#         print(_e)\n",
        "\n",
        "# print(count, \"/\", len(allcompanies), \"completed\")"
      ],
      "metadata": {
        "id": "f6zmsCqVHgA8"
      },
      "execution_count": 33,
      "outputs": []
    },
    {
      "cell_type": "code",
      "source": [
        ""
      ],
      "metadata": {
        "id": "hEI4HLqVIaLB"
      },
      "execution_count": 33,
      "outputs": []
    },
    {
      "cell_type": "markdown",
      "source": [
        "## Exporting the data"
      ],
      "metadata": {
        "id": "6964EOvnJUlX"
      }
    },
    {
      "cell_type": "code",
      "source": [
        "# with open(\"all-etfs-tickertape-data.json\", \"w\") as outfile:\n",
        "#     json.dump(allETFsData, outfile)"
      ],
      "metadata": {
        "id": "XjUL8nkcIaOa"
      },
      "execution_count": 34,
      "outputs": []
    },
    {
      "cell_type": "code",
      "source": [
        ""
      ],
      "metadata": {
        "id": "w-KAZwEXi-3y"
      },
      "execution_count": 34,
      "outputs": []
    }
  ]
}