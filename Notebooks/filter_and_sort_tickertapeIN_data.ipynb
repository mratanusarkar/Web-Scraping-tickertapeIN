{
  "nbformat": 4,
  "nbformat_minor": 0,
  "metadata": {
    "colab": {
      "name": "filter_and_sort_tickertapeIN_data.ipynb",
      "provenance": [],
      "authorship_tag": "ABX9TyMZg+4/zKTPyjw6WheK+2ty",
      "include_colab_link": true
    },
    "kernelspec": {
      "name": "python3",
      "display_name": "Python 3"
    },
    "language_info": {
      "name": "python"
    }
  },
  "cells": [
    {
      "cell_type": "markdown",
      "metadata": {
        "id": "view-in-github",
        "colab_type": "text"
      },
      "source": [
        "<a href=\"https://colab.research.google.com/github/mratanusarkar/Web-Scraping-tickertapeIN/blob/feature%2Ffilter-and-sort/Notebooks/filter_and_sort_tickertapeIN_data.ipynb\" target=\"_parent\"><img src=\"https://colab.research.google.com/assets/colab-badge.svg\" alt=\"Open In Colab\"/></a>"
      ]
    },
    {
      "cell_type": "markdown",
      "source": [
        "# Filtering and Sorting data scraped from tickertape.in"
      ],
      "metadata": {
        "id": "_W33oMUSN3fo"
      }
    },
    {
      "cell_type": "markdown",
      "source": [
        "Input: \n",
        "* scraped JSON data (ETFs or Stocks)\n",
        "* list of keys and values and comparison type for filtering\n",
        "* list of keys and the order of the values for sorting\n",
        "\n",
        "Output: JSON data with the filters & sortings applied on the input data"
      ],
      "metadata": {
        "id": "XmRaEmI5OEFu"
      }
    },
    {
      "cell_type": "markdown",
      "source": [
        "## Import Packages"
      ],
      "metadata": {
        "id": "8vvVL5-x49am"
      }
    },
    {
      "cell_type": "code",
      "execution_count": 1,
      "metadata": {
        "id": "tax8H_4qLDUI"
      },
      "outputs": [],
      "source": [
        "import numpy as np\n",
        "import pandas as pd\n",
        "import requests\n",
        "from bs4 import BeautifulSoup\n",
        "\n",
        "import json\n",
        "import time\n",
        "import datetime as dt\n",
        "\n",
        "import matplotlib.pyplot as plt\n",
        "import plotly.express as px"
      ]
    },
    {
      "cell_type": "code",
      "source": [
        ""
      ],
      "metadata": {
        "id": "0v8T7ehON3PQ"
      },
      "execution_count": 1,
      "outputs": []
    },
    {
      "cell_type": "markdown",
      "source": [
        "## Input JSON Data from Scraping Scripts/Notebooks"
      ],
      "metadata": {
        "id": "nD4Lvk2l5InT"
      }
    },
    {
      "cell_type": "code",
      "source": [
        "with open('all-stocks-tickertape-data.json', 'r') as fp:\n",
        "    stocksData = json.load(fp)\n",
        "\n",
        "stocksData[0]"
      ],
      "metadata": {
        "id": "AHqZL4415Tz0",
        "outputId": "7315608f-3ba8-443c-e0fd-45f1f8c906f9",
        "colab": {
          "base_uri": "https://localhost:8080/"
        }
      },
      "execution_count": 2,
      "outputs": [
        {
          "output_type": "execute_result",
          "data": {
            "text/plain": [
              "{'forecasts': {'buyRecommendation': None, 'forecast': None},\n",
              " 'investmentChecklist': {'dividendReturns': 'negative',\n",
              "  'entryPoint': 'positive',\n",
              "  'intrinsicValue': 'neutral',\n",
              "  'noRedFlags': 'positive',\n",
              "  'roeVsFdRates': 'negative'},\n",
              " 'keyMetrics': {'DividendYield': None,\n",
              "  'PBRatio': '0.13',\n",
              "  'PERatio': '-4.05',\n",
              "  'SectorDivYld': '0.65%',\n",
              "  'SectorPB': '5.21',\n",
              "  'SectorPE': '68.27'},\n",
              " 'marketcap': 'Smallcap',\n",
              " 'name': 'A & M Febcon Ltd',\n",
              " 'overview': {'absoluteChange': '0.74%',\n",
              "  'capDesc': 'With a market cap of ₹1 cr, stock is ranked 4,213',\n",
              "  'capType': 'Smallcap',\n",
              "  'currentPrice': '1.35',\n",
              "  'percentageChange': '-0.01',\n",
              "  'riskDesc': 'Stock is 2.78x as volatile as Nifty',\n",
              "  'riskType': 'Moderate Risk',\n",
              "  'sectorDesc': 'Industrial Machinery',\n",
              "  'sectorType': 'Industrials'},\n",
              " 'price': '1.35',\n",
              " 'profile': 'Company Profile: A & M Febcon is engaged in the services of engineering which is applied to the planning, designing and control of industrial operations and in the business of Industrial equipment and metal fabrication',\n",
              " 'risk': 'Moderate Risk',\n",
              " 'sector': 'Industrials',\n",
              " 'ticker': 'AMFL',\n",
              " 'type': 'stocks'}"
            ]
          },
          "metadata": {},
          "execution_count": 2
        }
      ]
    },
    {
      "cell_type": "code",
      "source": [
        "with open('all-etfs-tickertape-data.json', 'r') as fp:\n",
        "    etfsData = json.load(fp)\n",
        "\n",
        "etfsData[0]"
      ],
      "metadata": {
        "id": "14_q6Pfp5T26",
        "outputId": "fa93619e-91e7-4ffc-fc2f-51354f17feaa",
        "colab": {
          "base_uri": "https://localhost:8080/"
        }
      },
      "execution_count": 3,
      "outputs": [
        {
          "output_type": "execute_result",
          "data": {
            "text/plain": [
              "{'investmentChecklist': {'entryPoint': 'negative',\n",
              "  'expenseRatio': 'negative',\n",
              "  'nav': 'neutral',\n",
              "  'returnVsFdRates': 'positive',\n",
              "  'trackingError': 'neutral'},\n",
              " 'keyMetrics': {'AUM': '₹ 347.68cr',\n",
              "  'ExpenseRatio': '0.58%',\n",
              "  'RealtimeNAV': None,\n",
              "  'SectorExpenseRatio': '0.61%',\n",
              "  'SectorTrackingError': None,\n",
              "  'TrackingError': None},\n",
              " 'marketcap': 'Gold',\n",
              " 'name': 'Aditya BSL Gold ETF',\n",
              " 'overview': {'absoluteChange': '0.41%',\n",
              "  'capDesc': 'ETF tracks gold prices',\n",
              "  'capType': 'Gold',\n",
              "  'currentPrice': '48.58',\n",
              "  'percentageChange': '+0.20',\n",
              "  'riskDesc': 'Average daily traded value of the ETF  is medium',\n",
              "  'riskType': 'Medium Liquidity',\n",
              "  'sectorDesc': 'Gold',\n",
              "  'sectorType': 'ETF'},\n",
              " 'price': '48.58',\n",
              " 'profile': \"AMC profile: Aditya Birla Sun Life AMC Limited, is a joint venture between the Aditya Birla Group and the Sun Life Financial Inc. of Canada. The joint venture brings together Aditya Birla Group's experience in the Indian market and Sun Life's global experience.\",\n",
              " 'risk': 'Medium Liquidity',\n",
              " 'sector': 'ETF',\n",
              " 'ticker': 'BSLGOLDETF',\n",
              " 'tracking': 'Tracking\\xa0Gold-India',\n",
              " 'type': 'etfs'}"
            ]
          },
          "metadata": {},
          "execution_count": 3
        }
      ]
    },
    {
      "cell_type": "code",
      "source": [
        ""
      ],
      "metadata": {
        "id": "k-XzS0sc6ZBS"
      },
      "execution_count": 3,
      "outputs": []
    },
    {
      "cell_type": "markdown",
      "source": [
        "## Input Filter/Sort Parameters"
      ],
      "metadata": {
        "id": "eVyNSPzP6ste"
      }
    },
    {
      "cell_type": "code",
      "source": [
        "# TODO"
      ],
      "metadata": {
        "id": "egVBj06Yglct"
      },
      "execution_count": 4,
      "outputs": []
    },
    {
      "cell_type": "code",
      "source": [
        ""
      ],
      "metadata": {
        "id": "N5SUautIgmwp"
      },
      "execution_count": 4,
      "outputs": []
    },
    {
      "cell_type": "markdown",
      "source": [
        "## Processing the Data"
      ],
      "metadata": {
        "id": "cVg3kY47gnAK"
      }
    },
    {
      "cell_type": "markdown",
      "source": [
        "#### 1. Stock Data"
      ],
      "metadata": {
        "id": "73i50m_ogsJK"
      }
    },
    {
      "cell_type": "code",
      "source": [
        "# handpicking the important filter-sort data fields\n",
        "\n",
        "index = 0\n",
        "print('name:', stocksData[index]['name'])\n",
        "print('marcap:', stocksData[index]['marketcap'])\n",
        "print('sector:', stocksData[index]['sector'])\n",
        "print('risk:', stocksData[index]['risk'])\n",
        "print('price:', stocksData[index]['price'])\n",
        "print('intr_val:', stocksData[index]['investmentChecklist']['intrinsicValue'])\n",
        "print('roe_fd:', stocksData[index]['investmentChecklist']['roeVsFdRates'])\n",
        "print('div_ret:', stocksData[index]['investmentChecklist']['dividendReturns'])\n",
        "print('entry_pt:', stocksData[index]['investmentChecklist']['entryPoint'])\n",
        "print('red_flag:', stocksData[index]['investmentChecklist']['noRedFlags'])\n",
        "print('recommend:', stocksData[index]['forecasts']['buyRecommendation'])"
      ],
      "metadata": {
        "id": "3RdVMHCk6ziY",
        "outputId": "d9a23c39-8143-4b96-eff2-7fd01876dbbf",
        "colab": {
          "base_uri": "https://localhost:8080/"
        }
      },
      "execution_count": 5,
      "outputs": [
        {
          "output_type": "stream",
          "name": "stdout",
          "text": [
            "name: A & M Febcon Ltd\n",
            "marcap: Smallcap\n",
            "sector: Industrials\n",
            "risk: Moderate Risk\n",
            "price: 1.35\n",
            "intr_val: neutral\n",
            "roe_fd: negative\n",
            "div_ret: negative\n",
            "entry_pt: positive\n",
            "red_flag: positive\n",
            "recommend: None\n"
          ]
        }
      ]
    },
    {
      "cell_type": "code",
      "source": [
        "# filter out the required parameters from the full data\n",
        "\n",
        "selectedDataList = []\n",
        "for i, data in enumerate(stocksData):\n",
        "    if len(data) == 0:\n",
        "        continue\n",
        "    selectedData = {}\n",
        "    selectedData['name'] = data['name']\n",
        "    selectedData['marcap'] = data['marketcap']\n",
        "    selectedData['sector'] = data['sector']\n",
        "    selectedData['risk'] = data['risk']\n",
        "    selectedData['price'] = data['price']\n",
        "    selectedData['intr_val'] = data['investmentChecklist']['intrinsicValue']\n",
        "    selectedData['roe_fd'] = data['investmentChecklist']['roeVsFdRates']\n",
        "    selectedData['div_ret'] = data['investmentChecklist']['dividendReturns']\n",
        "    selectedData['entry_pt'] = data['investmentChecklist']['entryPoint']\n",
        "    selectedData['red_flag'] = data['investmentChecklist']['noRedFlags'] if 'noRedFlags' in data['investmentChecklist'] else 'negative'\n",
        "    selectedData['recommend'] = data['forecasts']['buyRecommendation']\n",
        "\n",
        "    selectedDataList.append(selectedData)"
      ],
      "metadata": {
        "id": "AY7vmFqMAyFu"
      },
      "execution_count": 6,
      "outputs": []
    },
    {
      "cell_type": "code",
      "source": [
        "print(len(stocksData))\n",
        "print(len(selectedDataList))"
      ],
      "metadata": {
        "id": "oaVOJx0OAyIH",
        "outputId": "9e8b609c-2f74-492f-d4f0-4a0c89f4f7da",
        "colab": {
          "base_uri": "https://localhost:8080/"
        }
      },
      "execution_count": 7,
      "outputs": [
        {
          "output_type": "stream",
          "name": "stdout",
          "text": [
            "4487\n",
            "4404\n"
          ]
        }
      ]
    },
    {
      "cell_type": "code",
      "source": [
        "# convert into pandas dataframe for easier processing\n",
        "\n",
        "stockDf = pd.json_normalize(selectedDataList)\n",
        "stockDf"
      ],
      "metadata": {
        "id": "OaNh34lj5Z8-",
        "outputId": "ef4a32b3-6392-48a3-c186-4a29db907d8c",
        "colab": {
          "base_uri": "https://localhost:8080/",
          "height": 423
        }
      },
      "execution_count": 8,
      "outputs": [
        {
          "output_type": "execute_result",
          "data": {
            "text/plain": [
              "                            name    marcap                  sector  \\\n",
              "0               A & M Febcon Ltd  Smallcap             Industrials   \n",
              "1          A B Cotspin India Ltd  Smallcap  Consumer Discretionary   \n",
              "2             A B Infrabuild Ltd  Smallcap             Industrials   \n",
              "3            A F Enterprises Ltd  Smallcap              Financials   \n",
              "4           A Infrastructure Ltd  Smallcap             Industrials   \n",
              "...                          ...       ...                     ...   \n",
              "4399  52 Weeks Entertainment Ltd  Smallcap  Communication Services   \n",
              "4400          5Paisa Capital Ltd  Smallcap              Financials   \n",
              "4401   63 Moons Technologies Ltd  Smallcap  Information Technology   \n",
              "4402              7NR Retail Ltd  Smallcap                           \n",
              "4403     7Seas Entertainment Ltd  Smallcap                           \n",
              "\n",
              "               risk   price  intr_val    roe_fd   div_ret  entry_pt  red_flag  \\\n",
              "0     Moderate Risk    1.35   neutral  negative  negative  positive  positive   \n",
              "1         High Risk   44.90  positive   neutral   neutral  positive  positive   \n",
              "2         High Risk   11.10   neutral  positive   neutral  negative  positive   \n",
              "3     Moderate Risk  135.45   neutral  positive  negative  negative  negative   \n",
              "4         High Risk   64.15   neutral  negative  negative  positive  negative   \n",
              "...             ...     ...       ...       ...       ...       ...       ...   \n",
              "4399      High Risk    2.77   neutral  negative  negative  positive  negative   \n",
              "4400      High Risk  364.80  negative  negative  negative  positive  positive   \n",
              "4401      High Risk  294.35   neutral  negative  positive  positive  negative   \n",
              "4402      High Risk    2.25   neutral  negative  negative  positive  negative   \n",
              "4403      High Risk   22.40   neutral   neutral  negative  positive  positive   \n",
              "\n",
              "     recommend  \n",
              "0         None  \n",
              "1         None  \n",
              "2         None  \n",
              "3         None  \n",
              "4         None  \n",
              "...        ...  \n",
              "4399      None  \n",
              "4400      100%  \n",
              "4401      None  \n",
              "4402      None  \n",
              "4403      None  \n",
              "\n",
              "[4404 rows x 11 columns]"
            ],
            "text/html": [
              "\n",
              "  <div id=\"df-ba616253-fcdb-40ed-a5b0-3a9718c969b9\">\n",
              "    <div class=\"colab-df-container\">\n",
              "      <div>\n",
              "<style scoped>\n",
              "    .dataframe tbody tr th:only-of-type {\n",
              "        vertical-align: middle;\n",
              "    }\n",
              "\n",
              "    .dataframe tbody tr th {\n",
              "        vertical-align: top;\n",
              "    }\n",
              "\n",
              "    .dataframe thead th {\n",
              "        text-align: right;\n",
              "    }\n",
              "</style>\n",
              "<table border=\"1\" class=\"dataframe\">\n",
              "  <thead>\n",
              "    <tr style=\"text-align: right;\">\n",
              "      <th></th>\n",
              "      <th>name</th>\n",
              "      <th>marcap</th>\n",
              "      <th>sector</th>\n",
              "      <th>risk</th>\n",
              "      <th>price</th>\n",
              "      <th>intr_val</th>\n",
              "      <th>roe_fd</th>\n",
              "      <th>div_ret</th>\n",
              "      <th>entry_pt</th>\n",
              "      <th>red_flag</th>\n",
              "      <th>recommend</th>\n",
              "    </tr>\n",
              "  </thead>\n",
              "  <tbody>\n",
              "    <tr>\n",
              "      <th>0</th>\n",
              "      <td>A &amp; M Febcon Ltd</td>\n",
              "      <td>Smallcap</td>\n",
              "      <td>Industrials</td>\n",
              "      <td>Moderate Risk</td>\n",
              "      <td>1.35</td>\n",
              "      <td>neutral</td>\n",
              "      <td>negative</td>\n",
              "      <td>negative</td>\n",
              "      <td>positive</td>\n",
              "      <td>positive</td>\n",
              "      <td>None</td>\n",
              "    </tr>\n",
              "    <tr>\n",
              "      <th>1</th>\n",
              "      <td>A B Cotspin India Ltd</td>\n",
              "      <td>Smallcap</td>\n",
              "      <td>Consumer Discretionary</td>\n",
              "      <td>High Risk</td>\n",
              "      <td>44.90</td>\n",
              "      <td>positive</td>\n",
              "      <td>neutral</td>\n",
              "      <td>neutral</td>\n",
              "      <td>positive</td>\n",
              "      <td>positive</td>\n",
              "      <td>None</td>\n",
              "    </tr>\n",
              "    <tr>\n",
              "      <th>2</th>\n",
              "      <td>A B Infrabuild Ltd</td>\n",
              "      <td>Smallcap</td>\n",
              "      <td>Industrials</td>\n",
              "      <td>High Risk</td>\n",
              "      <td>11.10</td>\n",
              "      <td>neutral</td>\n",
              "      <td>positive</td>\n",
              "      <td>neutral</td>\n",
              "      <td>negative</td>\n",
              "      <td>positive</td>\n",
              "      <td>None</td>\n",
              "    </tr>\n",
              "    <tr>\n",
              "      <th>3</th>\n",
              "      <td>A F Enterprises Ltd</td>\n",
              "      <td>Smallcap</td>\n",
              "      <td>Financials</td>\n",
              "      <td>Moderate Risk</td>\n",
              "      <td>135.45</td>\n",
              "      <td>neutral</td>\n",
              "      <td>positive</td>\n",
              "      <td>negative</td>\n",
              "      <td>negative</td>\n",
              "      <td>negative</td>\n",
              "      <td>None</td>\n",
              "    </tr>\n",
              "    <tr>\n",
              "      <th>4</th>\n",
              "      <td>A Infrastructure Ltd</td>\n",
              "      <td>Smallcap</td>\n",
              "      <td>Industrials</td>\n",
              "      <td>High Risk</td>\n",
              "      <td>64.15</td>\n",
              "      <td>neutral</td>\n",
              "      <td>negative</td>\n",
              "      <td>negative</td>\n",
              "      <td>positive</td>\n",
              "      <td>negative</td>\n",
              "      <td>None</td>\n",
              "    </tr>\n",
              "    <tr>\n",
              "      <th>...</th>\n",
              "      <td>...</td>\n",
              "      <td>...</td>\n",
              "      <td>...</td>\n",
              "      <td>...</td>\n",
              "      <td>...</td>\n",
              "      <td>...</td>\n",
              "      <td>...</td>\n",
              "      <td>...</td>\n",
              "      <td>...</td>\n",
              "      <td>...</td>\n",
              "      <td>...</td>\n",
              "    </tr>\n",
              "    <tr>\n",
              "      <th>4399</th>\n",
              "      <td>52 Weeks Entertainment Ltd</td>\n",
              "      <td>Smallcap</td>\n",
              "      <td>Communication Services</td>\n",
              "      <td>High Risk</td>\n",
              "      <td>2.77</td>\n",
              "      <td>neutral</td>\n",
              "      <td>negative</td>\n",
              "      <td>negative</td>\n",
              "      <td>positive</td>\n",
              "      <td>negative</td>\n",
              "      <td>None</td>\n",
              "    </tr>\n",
              "    <tr>\n",
              "      <th>4400</th>\n",
              "      <td>5Paisa Capital Ltd</td>\n",
              "      <td>Smallcap</td>\n",
              "      <td>Financials</td>\n",
              "      <td>High Risk</td>\n",
              "      <td>364.80</td>\n",
              "      <td>negative</td>\n",
              "      <td>negative</td>\n",
              "      <td>negative</td>\n",
              "      <td>positive</td>\n",
              "      <td>positive</td>\n",
              "      <td>100%</td>\n",
              "    </tr>\n",
              "    <tr>\n",
              "      <th>4401</th>\n",
              "      <td>63 Moons Technologies Ltd</td>\n",
              "      <td>Smallcap</td>\n",
              "      <td>Information Technology</td>\n",
              "      <td>High Risk</td>\n",
              "      <td>294.35</td>\n",
              "      <td>neutral</td>\n",
              "      <td>negative</td>\n",
              "      <td>positive</td>\n",
              "      <td>positive</td>\n",
              "      <td>negative</td>\n",
              "      <td>None</td>\n",
              "    </tr>\n",
              "    <tr>\n",
              "      <th>4402</th>\n",
              "      <td>7NR Retail Ltd</td>\n",
              "      <td>Smallcap</td>\n",
              "      <td></td>\n",
              "      <td>High Risk</td>\n",
              "      <td>2.25</td>\n",
              "      <td>neutral</td>\n",
              "      <td>negative</td>\n",
              "      <td>negative</td>\n",
              "      <td>positive</td>\n",
              "      <td>negative</td>\n",
              "      <td>None</td>\n",
              "    </tr>\n",
              "    <tr>\n",
              "      <th>4403</th>\n",
              "      <td>7Seas Entertainment Ltd</td>\n",
              "      <td>Smallcap</td>\n",
              "      <td></td>\n",
              "      <td>High Risk</td>\n",
              "      <td>22.40</td>\n",
              "      <td>neutral</td>\n",
              "      <td>neutral</td>\n",
              "      <td>negative</td>\n",
              "      <td>positive</td>\n",
              "      <td>positive</td>\n",
              "      <td>None</td>\n",
              "    </tr>\n",
              "  </tbody>\n",
              "</table>\n",
              "<p>4404 rows × 11 columns</p>\n",
              "</div>\n",
              "      <button class=\"colab-df-convert\" onclick=\"convertToInteractive('df-ba616253-fcdb-40ed-a5b0-3a9718c969b9')\"\n",
              "              title=\"Convert this dataframe to an interactive table.\"\n",
              "              style=\"display:none;\">\n",
              "        \n",
              "  <svg xmlns=\"http://www.w3.org/2000/svg\" height=\"24px\"viewBox=\"0 0 24 24\"\n",
              "       width=\"24px\">\n",
              "    <path d=\"M0 0h24v24H0V0z\" fill=\"none\"/>\n",
              "    <path d=\"M18.56 5.44l.94 2.06.94-2.06 2.06-.94-2.06-.94-.94-2.06-.94 2.06-2.06.94zm-11 1L8.5 8.5l.94-2.06 2.06-.94-2.06-.94L8.5 2.5l-.94 2.06-2.06.94zm10 10l.94 2.06.94-2.06 2.06-.94-2.06-.94-.94-2.06-.94 2.06-2.06.94z\"/><path d=\"M17.41 7.96l-1.37-1.37c-.4-.4-.92-.59-1.43-.59-.52 0-1.04.2-1.43.59L10.3 9.45l-7.72 7.72c-.78.78-.78 2.05 0 2.83L4 21.41c.39.39.9.59 1.41.59.51 0 1.02-.2 1.41-.59l7.78-7.78 2.81-2.81c.8-.78.8-2.07 0-2.86zM5.41 20L4 18.59l7.72-7.72 1.47 1.35L5.41 20z\"/>\n",
              "  </svg>\n",
              "      </button>\n",
              "      \n",
              "  <style>\n",
              "    .colab-df-container {\n",
              "      display:flex;\n",
              "      flex-wrap:wrap;\n",
              "      gap: 12px;\n",
              "    }\n",
              "\n",
              "    .colab-df-convert {\n",
              "      background-color: #E8F0FE;\n",
              "      border: none;\n",
              "      border-radius: 50%;\n",
              "      cursor: pointer;\n",
              "      display: none;\n",
              "      fill: #1967D2;\n",
              "      height: 32px;\n",
              "      padding: 0 0 0 0;\n",
              "      width: 32px;\n",
              "    }\n",
              "\n",
              "    .colab-df-convert:hover {\n",
              "      background-color: #E2EBFA;\n",
              "      box-shadow: 0px 1px 2px rgba(60, 64, 67, 0.3), 0px 1px 3px 1px rgba(60, 64, 67, 0.15);\n",
              "      fill: #174EA6;\n",
              "    }\n",
              "\n",
              "    [theme=dark] .colab-df-convert {\n",
              "      background-color: #3B4455;\n",
              "      fill: #D2E3FC;\n",
              "    }\n",
              "\n",
              "    [theme=dark] .colab-df-convert:hover {\n",
              "      background-color: #434B5C;\n",
              "      box-shadow: 0px 1px 3px 1px rgba(0, 0, 0, 0.15);\n",
              "      filter: drop-shadow(0px 1px 2px rgba(0, 0, 0, 0.3));\n",
              "      fill: #FFFFFF;\n",
              "    }\n",
              "  </style>\n",
              "\n",
              "      <script>\n",
              "        const buttonEl =\n",
              "          document.querySelector('#df-ba616253-fcdb-40ed-a5b0-3a9718c969b9 button.colab-df-convert');\n",
              "        buttonEl.style.display =\n",
              "          google.colab.kernel.accessAllowed ? 'block' : 'none';\n",
              "\n",
              "        async function convertToInteractive(key) {\n",
              "          const element = document.querySelector('#df-ba616253-fcdb-40ed-a5b0-3a9718c969b9');\n",
              "          const dataTable =\n",
              "            await google.colab.kernel.invokeFunction('convertToInteractive',\n",
              "                                                     [key], {});\n",
              "          if (!dataTable) return;\n",
              "\n",
              "          const docLinkHtml = 'Like what you see? Visit the ' +\n",
              "            '<a target=\"_blank\" href=https://colab.research.google.com/notebooks/data_table.ipynb>data table notebook</a>'\n",
              "            + ' to learn more about interactive tables.';\n",
              "          element.innerHTML = '';\n",
              "          dataTable['output_type'] = 'display_data';\n",
              "          await google.colab.output.renderOutput(dataTable, element);\n",
              "          const docLink = document.createElement('div');\n",
              "          docLink.innerHTML = docLinkHtml;\n",
              "          element.appendChild(docLink);\n",
              "        }\n",
              "      </script>\n",
              "    </div>\n",
              "  </div>\n",
              "  "
            ]
          },
          "metadata": {},
          "execution_count": 8
        }
      ]
    },
    {
      "cell_type": "code",
      "source": [
        "stockDf.info()"
      ],
      "metadata": {
        "id": "U482qHWG5cao",
        "outputId": "4f4280b6-91cf-4276-f21d-8ca59f43bd67",
        "colab": {
          "base_uri": "https://localhost:8080/"
        }
      },
      "execution_count": 9,
      "outputs": [
        {
          "output_type": "stream",
          "name": "stdout",
          "text": [
            "<class 'pandas.core.frame.DataFrame'>\n",
            "RangeIndex: 4404 entries, 0 to 4403\n",
            "Data columns (total 11 columns):\n",
            " #   Column     Non-Null Count  Dtype \n",
            "---  ------     --------------  ----- \n",
            " 0   name       4404 non-null   object\n",
            " 1   marcap     4404 non-null   object\n",
            " 2   sector     4404 non-null   object\n",
            " 3   risk       4404 non-null   object\n",
            " 4   price      4404 non-null   object\n",
            " 5   intr_val   4404 non-null   object\n",
            " 6   roe_fd     4404 non-null   object\n",
            " 7   div_ret    4404 non-null   object\n",
            " 8   entry_pt   4404 non-null   object\n",
            " 9   red_flag   4404 non-null   object\n",
            " 10  recommend  696 non-null    object\n",
            "dtypes: object(11)\n",
            "memory usage: 378.6+ KB\n"
          ]
        }
      ]
    },
    {
      "cell_type": "code",
      "source": [
        "# categorical columns\n",
        "\n",
        "cat_cols = ['marcap', 'sector', 'risk', 'intr_val', 'roe_fd', 'div_ret', 'entry_pt', 'red_flag', 'recommend']\n",
        "for col in cat_cols:\n",
        "    print(col + ': ', stockDf[col].unique())"
      ],
      "metadata": {
        "id": "LmEyHH25Ypg6",
        "outputId": "0c458b63-ce83-4c02-a581-0b150a6824ce",
        "colab": {
          "base_uri": "https://localhost:8080/"
        }
      },
      "execution_count": 10,
      "outputs": [
        {
          "output_type": "stream",
          "name": "stdout",
          "text": [
            "marcap:  ['Smallcap' 'Unknown' 'Midcap' 'Largecap']\n",
            "sector:  ['Industrials' 'Consumer Discretionary' 'Financials' 'Materials' ''\n",
            " 'Information Technology' 'Consumer Staples' 'Real Estate' 'Health Care'\n",
            " 'Energy' 'Communication Services' 'Utilities' 'Unknown']\n",
            "risk:  ['Moderate Risk' 'High Risk' 'Low Risk']\n",
            "intr_val:  ['neutral' 'positive' 'negative']\n",
            "roe_fd:  ['negative' 'neutral' 'positive']\n",
            "div_ret:  ['negative' 'neutral' 'positive']\n",
            "entry_pt:  ['positive' 'negative' 'neutral']\n",
            "red_flag:  ['positive' 'negative']\n",
            "recommend:  [None '42%' '85%' '62%' '92%' '100%' '60%' '40%' '71%' '0%' '95%' '33%'\n",
            " '83%' '89%' '50%' '70%' '44%' '53%' '63%' '80%' '79%' '94%' '46%' '22%'\n",
            " '21%' '88%' '67%' '76%' '75%' '73%' '61%' '65%' '82%' '25%' '16%' '81%'\n",
            " '97%' '93%' '55%' '90%' '48%' '77%' '74%' '43%' '78%' '87%' '72%' '58%'\n",
            " '37%' '91%' '86%' '35%' '17%' '64%' '84%' '11%' '54%' '59%' '49%' '52%'\n",
            " '20%' '98%' '68%' '13%' '69%' '45%' '10%' '36%' '31%' '96%' '39%' '30%'\n",
            " '5%' '38%' '57%' '14%' '28%' '56%']\n"
          ]
        }
      ]
    },
    {
      "cell_type": "code",
      "source": [
        "stockDf[\"marcap\"] = stockDf[\"marcap\"].replace('Unknown', '0').replace('Smallcap', '1').replace('Midcap', '2').replace('Largecap', '3').astype(int)\n",
        "stockDf[\"risk\"] = stockDf[\"risk\"].replace('Unknown', '0').replace('Low Risk', '1').replace('Moderate Risk', '2').replace('High Risk', '3').astype(int)\n",
        "stockDf[\"intr_val\"] = stockDf[\"intr_val\"].replace('negative', '-1').replace('neutral', '0').replace('positive', '1').astype(int)\n",
        "stockDf[\"roe_fd\"] = stockDf[\"roe_fd\"].replace('negative', '-1').replace('neutral', '0').replace('positive', '1').astype(int)\n",
        "stockDf[\"div_ret\"] = stockDf[\"div_ret\"].replace('negative', '-1').replace('neutral', '0').replace('positive', '1').astype(int)\n",
        "stockDf[\"entry_pt\"] = stockDf[\"entry_pt\"].replace('negative', '-1').replace('neutral', '0').replace('positive', '1').astype(int)\n",
        "stockDf[\"red_flag\"] = stockDf[\"intr_val\"].replace('negative', '-1').replace('neutral', '0').replace('positive', '1').astype(int)"
      ],
      "metadata": {
        "id": "jt1RTow9Ypjh"
      },
      "execution_count": 11,
      "outputs": []
    },
    {
      "cell_type": "code",
      "source": [
        "# decimal column\n",
        "\n",
        "stockDf[\"recommend\"].fillna(value=np.nan).replace('[\\%]', '', regex=True).astype(float)"
      ],
      "metadata": {
        "id": "fxD7FTnxe2rv",
        "outputId": "25331419-9111-4a4e-987f-e49a1dcf94d5",
        "colab": {
          "base_uri": "https://localhost:8080/"
        }
      },
      "execution_count": 12,
      "outputs": [
        {
          "output_type": "execute_result",
          "data": {
            "text/plain": [
              "0         NaN\n",
              "1         NaN\n",
              "2         NaN\n",
              "3         NaN\n",
              "4         NaN\n",
              "        ...  \n",
              "4399      NaN\n",
              "4400    100.0\n",
              "4401      NaN\n",
              "4402      NaN\n",
              "4403      NaN\n",
              "Name: recommend, Length: 4404, dtype: float64"
            ]
          },
          "metadata": {},
          "execution_count": 12
        }
      ]
    },
    {
      "cell_type": "code",
      "source": [
        "stockDf[\"recommend\"] = stockDf[\"recommend\"].fillna(value=np.nan).replace('[\\%]', '', regex=True).astype(float)"
      ],
      "metadata": {
        "id": "WrpPwAAEdjUm"
      },
      "execution_count": 13,
      "outputs": []
    },
    {
      "cell_type": "code",
      "source": [
        "# pricing column\n",
        "\n",
        "stockDf[\"price\"].replace('[\\—,]', '', regex=True).replace('', 'nan').astype(float)"
      ],
      "metadata": {
        "id": "IKOukU1CVkG-",
        "outputId": "6c693192-a78e-47c7-c528-e9fb542179c4",
        "colab": {
          "base_uri": "https://localhost:8080/"
        }
      },
      "execution_count": 14,
      "outputs": [
        {
          "output_type": "execute_result",
          "data": {
            "text/plain": [
              "0         1.35\n",
              "1        44.90\n",
              "2        11.10\n",
              "3       135.45\n",
              "4        64.15\n",
              "         ...  \n",
              "4399      2.77\n",
              "4400    364.80\n",
              "4401    294.35\n",
              "4402      2.25\n",
              "4403     22.40\n",
              "Name: price, Length: 4404, dtype: float64"
            ]
          },
          "metadata": {},
          "execution_count": 14
        }
      ]
    },
    {
      "cell_type": "code",
      "source": [
        "stockDf[\"price\"] = stockDf[\"price\"].replace('[\\—,]', '', regex=True).replace('', 'nan').astype(float)"
      ],
      "metadata": {
        "id": "7dRJp8skOoLf"
      },
      "execution_count": 15,
      "outputs": []
    },
    {
      "cell_type": "code",
      "source": [
        ""
      ],
      "metadata": {
        "id": "9wKXOHrSYpmN"
      },
      "execution_count": 15,
      "outputs": []
    },
    {
      "cell_type": "code",
      "source": [
        "# final dataframe\n",
        "stockDf"
      ],
      "metadata": {
        "id": "-X8l5BwLgErz",
        "outputId": "e5d227d8-c79b-4b23-ec33-50bedb622287",
        "colab": {
          "base_uri": "https://localhost:8080/",
          "height": 423
        }
      },
      "execution_count": 16,
      "outputs": [
        {
          "output_type": "execute_result",
          "data": {
            "text/plain": [
              "                            name  marcap                  sector  risk  \\\n",
              "0               A & M Febcon Ltd       1             Industrials     2   \n",
              "1          A B Cotspin India Ltd       1  Consumer Discretionary     3   \n",
              "2             A B Infrabuild Ltd       1             Industrials     3   \n",
              "3            A F Enterprises Ltd       1              Financials     2   \n",
              "4           A Infrastructure Ltd       1             Industrials     3   \n",
              "...                          ...     ...                     ...   ...   \n",
              "4399  52 Weeks Entertainment Ltd       1  Communication Services     3   \n",
              "4400          5Paisa Capital Ltd       1              Financials     3   \n",
              "4401   63 Moons Technologies Ltd       1  Information Technology     3   \n",
              "4402              7NR Retail Ltd       1                             3   \n",
              "4403     7Seas Entertainment Ltd       1                             3   \n",
              "\n",
              "       price  intr_val  roe_fd  div_ret  entry_pt  red_flag  recommend  \n",
              "0       1.35         0      -1       -1         1         0        NaN  \n",
              "1      44.90         1       0        0         1         1        NaN  \n",
              "2      11.10         0       1        0        -1         0        NaN  \n",
              "3     135.45         0       1       -1        -1         0        NaN  \n",
              "4      64.15         0      -1       -1         1         0        NaN  \n",
              "...      ...       ...     ...      ...       ...       ...        ...  \n",
              "4399    2.77         0      -1       -1         1         0        NaN  \n",
              "4400  364.80        -1      -1       -1         1        -1      100.0  \n",
              "4401  294.35         0      -1        1         1         0        NaN  \n",
              "4402    2.25         0      -1       -1         1         0        NaN  \n",
              "4403   22.40         0       0       -1         1         0        NaN  \n",
              "\n",
              "[4404 rows x 11 columns]"
            ],
            "text/html": [
              "\n",
              "  <div id=\"df-2cc13faa-c8b7-4dee-8c37-8b261c076185\">\n",
              "    <div class=\"colab-df-container\">\n",
              "      <div>\n",
              "<style scoped>\n",
              "    .dataframe tbody tr th:only-of-type {\n",
              "        vertical-align: middle;\n",
              "    }\n",
              "\n",
              "    .dataframe tbody tr th {\n",
              "        vertical-align: top;\n",
              "    }\n",
              "\n",
              "    .dataframe thead th {\n",
              "        text-align: right;\n",
              "    }\n",
              "</style>\n",
              "<table border=\"1\" class=\"dataframe\">\n",
              "  <thead>\n",
              "    <tr style=\"text-align: right;\">\n",
              "      <th></th>\n",
              "      <th>name</th>\n",
              "      <th>marcap</th>\n",
              "      <th>sector</th>\n",
              "      <th>risk</th>\n",
              "      <th>price</th>\n",
              "      <th>intr_val</th>\n",
              "      <th>roe_fd</th>\n",
              "      <th>div_ret</th>\n",
              "      <th>entry_pt</th>\n",
              "      <th>red_flag</th>\n",
              "      <th>recommend</th>\n",
              "    </tr>\n",
              "  </thead>\n",
              "  <tbody>\n",
              "    <tr>\n",
              "      <th>0</th>\n",
              "      <td>A &amp; M Febcon Ltd</td>\n",
              "      <td>1</td>\n",
              "      <td>Industrials</td>\n",
              "      <td>2</td>\n",
              "      <td>1.35</td>\n",
              "      <td>0</td>\n",
              "      <td>-1</td>\n",
              "      <td>-1</td>\n",
              "      <td>1</td>\n",
              "      <td>0</td>\n",
              "      <td>NaN</td>\n",
              "    </tr>\n",
              "    <tr>\n",
              "      <th>1</th>\n",
              "      <td>A B Cotspin India Ltd</td>\n",
              "      <td>1</td>\n",
              "      <td>Consumer Discretionary</td>\n",
              "      <td>3</td>\n",
              "      <td>44.90</td>\n",
              "      <td>1</td>\n",
              "      <td>0</td>\n",
              "      <td>0</td>\n",
              "      <td>1</td>\n",
              "      <td>1</td>\n",
              "      <td>NaN</td>\n",
              "    </tr>\n",
              "    <tr>\n",
              "      <th>2</th>\n",
              "      <td>A B Infrabuild Ltd</td>\n",
              "      <td>1</td>\n",
              "      <td>Industrials</td>\n",
              "      <td>3</td>\n",
              "      <td>11.10</td>\n",
              "      <td>0</td>\n",
              "      <td>1</td>\n",
              "      <td>0</td>\n",
              "      <td>-1</td>\n",
              "      <td>0</td>\n",
              "      <td>NaN</td>\n",
              "    </tr>\n",
              "    <tr>\n",
              "      <th>3</th>\n",
              "      <td>A F Enterprises Ltd</td>\n",
              "      <td>1</td>\n",
              "      <td>Financials</td>\n",
              "      <td>2</td>\n",
              "      <td>135.45</td>\n",
              "      <td>0</td>\n",
              "      <td>1</td>\n",
              "      <td>-1</td>\n",
              "      <td>-1</td>\n",
              "      <td>0</td>\n",
              "      <td>NaN</td>\n",
              "    </tr>\n",
              "    <tr>\n",
              "      <th>4</th>\n",
              "      <td>A Infrastructure Ltd</td>\n",
              "      <td>1</td>\n",
              "      <td>Industrials</td>\n",
              "      <td>3</td>\n",
              "      <td>64.15</td>\n",
              "      <td>0</td>\n",
              "      <td>-1</td>\n",
              "      <td>-1</td>\n",
              "      <td>1</td>\n",
              "      <td>0</td>\n",
              "      <td>NaN</td>\n",
              "    </tr>\n",
              "    <tr>\n",
              "      <th>...</th>\n",
              "      <td>...</td>\n",
              "      <td>...</td>\n",
              "      <td>...</td>\n",
              "      <td>...</td>\n",
              "      <td>...</td>\n",
              "      <td>...</td>\n",
              "      <td>...</td>\n",
              "      <td>...</td>\n",
              "      <td>...</td>\n",
              "      <td>...</td>\n",
              "      <td>...</td>\n",
              "    </tr>\n",
              "    <tr>\n",
              "      <th>4399</th>\n",
              "      <td>52 Weeks Entertainment Ltd</td>\n",
              "      <td>1</td>\n",
              "      <td>Communication Services</td>\n",
              "      <td>3</td>\n",
              "      <td>2.77</td>\n",
              "      <td>0</td>\n",
              "      <td>-1</td>\n",
              "      <td>-1</td>\n",
              "      <td>1</td>\n",
              "      <td>0</td>\n",
              "      <td>NaN</td>\n",
              "    </tr>\n",
              "    <tr>\n",
              "      <th>4400</th>\n",
              "      <td>5Paisa Capital Ltd</td>\n",
              "      <td>1</td>\n",
              "      <td>Financials</td>\n",
              "      <td>3</td>\n",
              "      <td>364.80</td>\n",
              "      <td>-1</td>\n",
              "      <td>-1</td>\n",
              "      <td>-1</td>\n",
              "      <td>1</td>\n",
              "      <td>-1</td>\n",
              "      <td>100.0</td>\n",
              "    </tr>\n",
              "    <tr>\n",
              "      <th>4401</th>\n",
              "      <td>63 Moons Technologies Ltd</td>\n",
              "      <td>1</td>\n",
              "      <td>Information Technology</td>\n",
              "      <td>3</td>\n",
              "      <td>294.35</td>\n",
              "      <td>0</td>\n",
              "      <td>-1</td>\n",
              "      <td>1</td>\n",
              "      <td>1</td>\n",
              "      <td>0</td>\n",
              "      <td>NaN</td>\n",
              "    </tr>\n",
              "    <tr>\n",
              "      <th>4402</th>\n",
              "      <td>7NR Retail Ltd</td>\n",
              "      <td>1</td>\n",
              "      <td></td>\n",
              "      <td>3</td>\n",
              "      <td>2.25</td>\n",
              "      <td>0</td>\n",
              "      <td>-1</td>\n",
              "      <td>-1</td>\n",
              "      <td>1</td>\n",
              "      <td>0</td>\n",
              "      <td>NaN</td>\n",
              "    </tr>\n",
              "    <tr>\n",
              "      <th>4403</th>\n",
              "      <td>7Seas Entertainment Ltd</td>\n",
              "      <td>1</td>\n",
              "      <td></td>\n",
              "      <td>3</td>\n",
              "      <td>22.40</td>\n",
              "      <td>0</td>\n",
              "      <td>0</td>\n",
              "      <td>-1</td>\n",
              "      <td>1</td>\n",
              "      <td>0</td>\n",
              "      <td>NaN</td>\n",
              "    </tr>\n",
              "  </tbody>\n",
              "</table>\n",
              "<p>4404 rows × 11 columns</p>\n",
              "</div>\n",
              "      <button class=\"colab-df-convert\" onclick=\"convertToInteractive('df-2cc13faa-c8b7-4dee-8c37-8b261c076185')\"\n",
              "              title=\"Convert this dataframe to an interactive table.\"\n",
              "              style=\"display:none;\">\n",
              "        \n",
              "  <svg xmlns=\"http://www.w3.org/2000/svg\" height=\"24px\"viewBox=\"0 0 24 24\"\n",
              "       width=\"24px\">\n",
              "    <path d=\"M0 0h24v24H0V0z\" fill=\"none\"/>\n",
              "    <path d=\"M18.56 5.44l.94 2.06.94-2.06 2.06-.94-2.06-.94-.94-2.06-.94 2.06-2.06.94zm-11 1L8.5 8.5l.94-2.06 2.06-.94-2.06-.94L8.5 2.5l-.94 2.06-2.06.94zm10 10l.94 2.06.94-2.06 2.06-.94-2.06-.94-.94-2.06-.94 2.06-2.06.94z\"/><path d=\"M17.41 7.96l-1.37-1.37c-.4-.4-.92-.59-1.43-.59-.52 0-1.04.2-1.43.59L10.3 9.45l-7.72 7.72c-.78.78-.78 2.05 0 2.83L4 21.41c.39.39.9.59 1.41.59.51 0 1.02-.2 1.41-.59l7.78-7.78 2.81-2.81c.8-.78.8-2.07 0-2.86zM5.41 20L4 18.59l7.72-7.72 1.47 1.35L5.41 20z\"/>\n",
              "  </svg>\n",
              "      </button>\n",
              "      \n",
              "  <style>\n",
              "    .colab-df-container {\n",
              "      display:flex;\n",
              "      flex-wrap:wrap;\n",
              "      gap: 12px;\n",
              "    }\n",
              "\n",
              "    .colab-df-convert {\n",
              "      background-color: #E8F0FE;\n",
              "      border: none;\n",
              "      border-radius: 50%;\n",
              "      cursor: pointer;\n",
              "      display: none;\n",
              "      fill: #1967D2;\n",
              "      height: 32px;\n",
              "      padding: 0 0 0 0;\n",
              "      width: 32px;\n",
              "    }\n",
              "\n",
              "    .colab-df-convert:hover {\n",
              "      background-color: #E2EBFA;\n",
              "      box-shadow: 0px 1px 2px rgba(60, 64, 67, 0.3), 0px 1px 3px 1px rgba(60, 64, 67, 0.15);\n",
              "      fill: #174EA6;\n",
              "    }\n",
              "\n",
              "    [theme=dark] .colab-df-convert {\n",
              "      background-color: #3B4455;\n",
              "      fill: #D2E3FC;\n",
              "    }\n",
              "\n",
              "    [theme=dark] .colab-df-convert:hover {\n",
              "      background-color: #434B5C;\n",
              "      box-shadow: 0px 1px 3px 1px rgba(0, 0, 0, 0.15);\n",
              "      filter: drop-shadow(0px 1px 2px rgba(0, 0, 0, 0.3));\n",
              "      fill: #FFFFFF;\n",
              "    }\n",
              "  </style>\n",
              "\n",
              "      <script>\n",
              "        const buttonEl =\n",
              "          document.querySelector('#df-2cc13faa-c8b7-4dee-8c37-8b261c076185 button.colab-df-convert');\n",
              "        buttonEl.style.display =\n",
              "          google.colab.kernel.accessAllowed ? 'block' : 'none';\n",
              "\n",
              "        async function convertToInteractive(key) {\n",
              "          const element = document.querySelector('#df-2cc13faa-c8b7-4dee-8c37-8b261c076185');\n",
              "          const dataTable =\n",
              "            await google.colab.kernel.invokeFunction('convertToInteractive',\n",
              "                                                     [key], {});\n",
              "          if (!dataTable) return;\n",
              "\n",
              "          const docLinkHtml = 'Like what you see? Visit the ' +\n",
              "            '<a target=\"_blank\" href=https://colab.research.google.com/notebooks/data_table.ipynb>data table notebook</a>'\n",
              "            + ' to learn more about interactive tables.';\n",
              "          element.innerHTML = '';\n",
              "          dataTable['output_type'] = 'display_data';\n",
              "          await google.colab.output.renderOutput(dataTable, element);\n",
              "          const docLink = document.createElement('div');\n",
              "          docLink.innerHTML = docLinkHtml;\n",
              "          element.appendChild(docLink);\n",
              "        }\n",
              "      </script>\n",
              "    </div>\n",
              "  </div>\n",
              "  "
            ]
          },
          "metadata": {},
          "execution_count": 16
        }
      ]
    },
    {
      "cell_type": "code",
      "source": [
        "stockDf.info()"
      ],
      "metadata": {
        "id": "Fkp30HSpgEuJ",
        "outputId": "e5142015-d0fa-4881-8ff5-de83f8faa75a",
        "colab": {
          "base_uri": "https://localhost:8080/"
        }
      },
      "execution_count": 17,
      "outputs": [
        {
          "output_type": "stream",
          "name": "stdout",
          "text": [
            "<class 'pandas.core.frame.DataFrame'>\n",
            "RangeIndex: 4404 entries, 0 to 4403\n",
            "Data columns (total 11 columns):\n",
            " #   Column     Non-Null Count  Dtype  \n",
            "---  ------     --------------  -----  \n",
            " 0   name       4404 non-null   object \n",
            " 1   marcap     4404 non-null   int64  \n",
            " 2   sector     4404 non-null   object \n",
            " 3   risk       4404 non-null   int64  \n",
            " 4   price      4398 non-null   float64\n",
            " 5   intr_val   4404 non-null   int64  \n",
            " 6   roe_fd     4404 non-null   int64  \n",
            " 7   div_ret    4404 non-null   int64  \n",
            " 8   entry_pt   4404 non-null   int64  \n",
            " 9   red_flag   4404 non-null   int64  \n",
            " 10  recommend  696 non-null    float64\n",
            "dtypes: float64(2), int64(7), object(2)\n",
            "memory usage: 378.6+ KB\n"
          ]
        }
      ]
    },
    {
      "cell_type": "code",
      "source": [
        ""
      ],
      "metadata": {
        "id": "2liOY92yhtfP"
      },
      "execution_count": 17,
      "outputs": []
    },
    {
      "cell_type": "code",
      "source": [
        ""
      ],
      "metadata": {
        "id": "CqeksA4ehthw"
      },
      "execution_count": 17,
      "outputs": []
    },
    {
      "cell_type": "markdown",
      "source": [
        "#### 2. ETF Data"
      ],
      "metadata": {
        "id": "VdsjFDVhhuno"
      }
    },
    {
      "cell_type": "code",
      "source": [
        "# TODO"
      ],
      "metadata": {
        "id": "ere131kUhtkb"
      },
      "execution_count": 18,
      "outputs": []
    },
    {
      "cell_type": "code",
      "source": [
        ""
      ],
      "metadata": {
        "id": "oyCpG5iihyhI"
      },
      "execution_count": 18,
      "outputs": []
    },
    {
      "cell_type": "markdown",
      "source": [
        "## Data Analysis and EDA"
      ],
      "metadata": {
        "id": "_FSUSK5Y5Iqa"
      }
    },
    {
      "cell_type": "code",
      "source": [
        "# TODO"
      ],
      "metadata": {
        "id": "m1u_FONzOoRA"
      },
      "execution_count": 19,
      "outputs": []
    },
    {
      "cell_type": "code",
      "source": [
        ""
      ],
      "metadata": {
        "id": "p8_4luiAhstf"
      },
      "execution_count": 19,
      "outputs": []
    },
    {
      "cell_type": "markdown",
      "source": [
        "## Filter and Sort Data based on Input Parameters"
      ],
      "metadata": {
        "id": "zcImlOMm5c-2"
      }
    },
    {
      "cell_type": "code",
      "source": [
        "# TODO"
      ],
      "metadata": {
        "id": "FR2b_H0o5inm"
      },
      "execution_count": 20,
      "outputs": []
    },
    {
      "cell_type": "code",
      "source": [
        ""
      ],
      "metadata": {
        "id": "yEPbEZqU5jFn"
      },
      "execution_count": 20,
      "outputs": []
    }
  ]
}