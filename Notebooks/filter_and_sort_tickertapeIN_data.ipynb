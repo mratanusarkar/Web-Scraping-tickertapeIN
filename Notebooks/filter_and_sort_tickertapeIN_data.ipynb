{
  "nbformat": 4,
  "nbformat_minor": 0,
  "metadata": {
    "colab": {
      "name": "filter_and_sort_tickertapeIN_data.ipynb",
      "provenance": [],
      "authorship_tag": "ABX9TyOGZ97FljJAN1QUZ1sEgGsp",
      "include_colab_link": true
    },
    "kernelspec": {
      "name": "python3",
      "display_name": "Python 3"
    },
    "language_info": {
      "name": "python"
    }
  },
  "cells": [
    {
      "cell_type": "markdown",
      "metadata": {
        "id": "view-in-github",
        "colab_type": "text"
      },
      "source": [
        "<a href=\"https://colab.research.google.com/github/mratanusarkar/Web-Scraping-tickertapeIN/blob/feature%2Ffilter-and-sort/Notebooks/filter_and_sort_tickertapeIN_data.ipynb\" target=\"_parent\"><img src=\"https://colab.research.google.com/assets/colab-badge.svg\" alt=\"Open In Colab\"/></a>"
      ]
    },
    {
      "cell_type": "markdown",
      "source": [
        "# Filtering and Sorting data scraped from tickertape.in"
      ],
      "metadata": {
        "id": "_W33oMUSN3fo"
      }
    },
    {
      "cell_type": "markdown",
      "source": [
        "Input: \n",
        "* scraped JSON data (ETFs or Stocks)\n",
        "* list of keys and values and comparison type for filtering\n",
        "* list of keys and the order of the values for sorting\n",
        "\n",
        "Output: JSON data with the filters & sortings applied on the input data"
      ],
      "metadata": {
        "id": "XmRaEmI5OEFu"
      }
    },
    {
      "cell_type": "markdown",
      "source": [
        "## Import Packages"
      ],
      "metadata": {
        "id": "8vvVL5-x49am"
      }
    },
    {
      "cell_type": "code",
      "execution_count": 1,
      "metadata": {
        "id": "tax8H_4qLDUI"
      },
      "outputs": [],
      "source": [
        "import numpy as np\n",
        "import pandas as pd\n",
        "import requests\n",
        "from bs4 import BeautifulSoup\n",
        "\n",
        "import json\n",
        "import time\n",
        "import datetime as dt\n",
        "\n",
        "import matplotlib.pyplot as plt\n",
        "import plotly.express as px"
      ]
    },
    {
      "cell_type": "code",
      "source": [
        ""
      ],
      "metadata": {
        "id": "0v8T7ehON3PQ"
      },
      "execution_count": null,
      "outputs": []
    },
    {
      "cell_type": "markdown",
      "source": [
        "## Input JSON Data from Scraping Scripts/Notebooks"
      ],
      "metadata": {
        "id": "nD4Lvk2l5InT"
      }
    },
    {
      "cell_type": "code",
      "source": [
        "with open('all-stocks-tickertape-data.json', 'r') as fp:\n",
        "    stocksData = json.load(fp)\n",
        "\n",
        "stocksData[0]"
      ],
      "metadata": {
        "id": "AHqZL4415Tz0"
      },
      "execution_count": null,
      "outputs": []
    },
    {
      "cell_type": "code",
      "source": [
        "with open('all-etfs-tickertape-data.json', 'r') as fp:\n",
        "    etfsData = json.load(fp)\n",
        "\n",
        "etfsData[0]"
      ],
      "metadata": {
        "id": "14_q6Pfp5T26"
      },
      "execution_count": null,
      "outputs": []
    },
    {
      "cell_type": "code",
      "source": [
        ""
      ],
      "metadata": {
        "id": "k-XzS0sc6ZBS"
      },
      "execution_count": null,
      "outputs": []
    },
    {
      "cell_type": "markdown",
      "source": [
        "## Input Filter/Sort Parameters"
      ],
      "metadata": {
        "id": "eVyNSPzP6ste"
      }
    },
    {
      "cell_type": "code",
      "source": [
        "# TODO"
      ],
      "metadata": {
        "id": "spup7NHV6zga"
      },
      "execution_count": null,
      "outputs": []
    },
    {
      "cell_type": "code",
      "source": [
        ""
      ],
      "metadata": {
        "id": "3RdVMHCk6ziY"
      },
      "execution_count": null,
      "outputs": []
    },
    {
      "cell_type": "markdown",
      "source": [
        "## Data Analysis and EDA"
      ],
      "metadata": {
        "id": "_FSUSK5Y5Iqa"
      }
    },
    {
      "cell_type": "code",
      "source": [
        "# TODO"
      ],
      "metadata": {
        "id": "OaNh34lj5Z8-"
      },
      "execution_count": null,
      "outputs": []
    },
    {
      "cell_type": "code",
      "source": [
        ""
      ],
      "metadata": {
        "id": "U482qHWG5cao"
      },
      "execution_count": null,
      "outputs": []
    },
    {
      "cell_type": "markdown",
      "source": [
        "## Filter and Sort Data based on Input Parameters"
      ],
      "metadata": {
        "id": "zcImlOMm5c-2"
      }
    },
    {
      "cell_type": "code",
      "source": [
        "# TODO"
      ],
      "metadata": {
        "id": "FR2b_H0o5inm"
      },
      "execution_count": null,
      "outputs": []
    },
    {
      "cell_type": "code",
      "source": [
        ""
      ],
      "metadata": {
        "id": "yEPbEZqU5jFn"
      },
      "execution_count": null,
      "outputs": []
    }
  ]
}