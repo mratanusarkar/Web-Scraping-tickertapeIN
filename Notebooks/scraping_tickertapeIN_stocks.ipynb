{
  "nbformat": 4,
  "nbformat_minor": 0,
  "metadata": {
    "colab": {
      "name": "Web Scraping tickertapeIN - stocks.ipynb",
      "provenance": [],
      "authorship_tag": "ABX9TyOWBNwIc9GIwpjxvh/t0Ixl",
      "include_colab_link": true
    },
    "kernelspec": {
      "name": "python3",
      "display_name": "Python 3"
    },
    "language_info": {
      "name": "python"
    }
  },
  "cells": [
    {
      "cell_type": "markdown",
      "metadata": {
        "id": "view-in-github",
        "colab_type": "text"
      },
      "source": [
        "<a href=\"https://colab.research.google.com/github/mratanusarkar/Web-Scraping-tickertapeIN/blob/main/Notebooks/scraping_tickertapeIN_stocks.ipynb\" target=\"_parent\"><img src=\"https://colab.research.google.com/assets/colab-badge.svg\" alt=\"Open In Colab\"/></a>"
      ]
    },
    {
      "cell_type": "markdown",
      "source": [
        "# Web Scraping stock data from tickertape.in"
      ],
      "metadata": {
        "id": "vVeC3IHLbQ1S"
      }
    },
    {
      "cell_type": "markdown",
      "source": [
        "**Input**: stock name in \"https://www.tickertape.in/stocks/{stock-name}\" <br>\n",
        "**Output**: full stock data & predictions from tickertape in JSON/Py Dictionary format\n"
      ],
      "metadata": {
        "id": "gwGMUzOsbfK_"
      }
    },
    {
      "cell_type": "markdown",
      "source": [
        "## Import Packages"
      ],
      "metadata": {
        "id": "OcFpi1cFcDW0"
      }
    },
    {
      "cell_type": "code",
      "source": [
        "import numpy as np\n",
        "import pandas as pd\n",
        "import requests\n",
        "from bs4 import BeautifulSoup\n",
        "\n",
        "import json\n",
        "import time\n",
        "import datetime as dt\n",
        "\n",
        "import matplotlib.pyplot as plt\n",
        "import plotly.express as px"
      ],
      "metadata": {
        "id": "c0wD-RzybeO9"
      },
      "execution_count": 1,
      "outputs": []
    },
    {
      "cell_type": "markdown",
      "source": [
        "## Request and Fetch the Webpage"
      ],
      "metadata": {
        "id": "igOJKmX7cIWj"
      }
    },
    {
      "cell_type": "markdown",
      "source": [
        "Let's try with a sample stock name, say \"TCS\""
      ],
      "metadata": {
        "id": "Pcn82_QzcLGq"
      }
    },
    {
      "cell_type": "code",
      "source": [
        "# enter company subdirectory\n",
        "subdir = \"tata-consultancy-services-TCS\"\n",
        "# subdir = \"adani-green-energy-ADNA\""
      ],
      "metadata": {
        "id": "2VvAxCA37RBN"
      },
      "execution_count": 2,
      "outputs": []
    },
    {
      "cell_type": "code",
      "source": [
        "# hit \"https://www.tickertape.in/stocks/tata-consultancy-services-TCS\"\n",
        "requests.get(\"https://www.tickertape.in/stocks/\" + subdir)"
      ],
      "metadata": {
        "colab": {
          "base_uri": "https://localhost:8080/"
        },
        "id": "uN6CTb4tcWTd",
        "outputId": "ce6e2d18-27d8-4510-cfd8-24138b4a892c"
      },
      "execution_count": 3,
      "outputs": [
        {
          "output_type": "execute_result",
          "data": {
            "text/plain": [
              "<Response [200]>"
            ]
          },
          "metadata": {},
          "execution_count": 3
        }
      ]
    },
    {
      "cell_type": "code",
      "source": [
        "# wow! no restriction for bots! no need of any headers!\n",
        "response = requests.get(\"https://www.tickertape.in/stocks/\" + subdir)\n",
        "response.text[0:500]"
      ],
      "metadata": {
        "colab": {
          "base_uri": "https://localhost:8080/",
          "height": 70
        },
        "id": "O-3k6Ngicr2N",
        "outputId": "fbe950fa-cbf3-4372-8b19-4fae7448d3f1"
      },
      "execution_count": 4,
      "outputs": [
        {
          "output_type": "execute_result",
          "data": {
            "text/plain": [
              "'<!DOCTYPE html><html lang=\"en-US\"><head><meta http-equiv=\"X-UA-Compatible\" content=\"IE=edge\"/><link rel=\"shortcut icon\" href=\"/favicon/favicon.png\"/><link rel=\"apple-touch-icon\" href=\"/favicon/favicon-192x192.png\"/><link rel=\"manifest\" href=\"/manifest/manifest.json\"/><style type=\"text/css\">:root {--white: #ffffff; --font_primary: #535B62; --font_dark: #2f363f; --font_light: #81878c; --font_blue: #0088ea; --font_lighter: #a2a8ae; --brand_primary: #151e28; --brand_success: #28c39a; --brand_danger:'"
            ],
            "application/vnd.google.colaboratory.intrinsic+json": {
              "type": "string"
            }
          },
          "metadata": {},
          "execution_count": 4
        }
      ]
    },
    {
      "cell_type": "code",
      "source": [
        "# not required for this webpage, use if bot restrictions are added in future.\n",
        "\n",
        "# google chrome browser's request header (to make it look like, we are making this request from a browser)\n",
        "header = {\n",
        "  \"User-Agent\": \"Mozilla/5.0 (Windows NT 10.0; Win64; x64) AppleWebKit/537.36 (KHTML, like Gecko) Chrome/80.0.3987.163 Safari/537.36\"\n",
        "}\n",
        "\n",
        "# hit using the header\n",
        "response = requests.get(\"https://www.tickertape.in/stocks/\" + subdir, headers=header)\n",
        "response.text[0:500]"
      ],
      "metadata": {
        "colab": {
          "base_uri": "https://localhost:8080/",
          "height": 70
        },
        "id": "ZMW71O25c9Hl",
        "outputId": "16f77f65-325a-4e4c-9134-e49cfb453eb3"
      },
      "execution_count": 5,
      "outputs": [
        {
          "output_type": "execute_result",
          "data": {
            "text/plain": [
              "'<!DOCTYPE html><html lang=\"en-US\"><head><meta http-equiv=\"X-UA-Compatible\" content=\"IE=edge\"/><link rel=\"shortcut icon\" href=\"/favicon/favicon.png\"/><link rel=\"apple-touch-icon\" href=\"/favicon/favicon-192x192.png\"/><link rel=\"manifest\" href=\"/manifest/manifest.json\"/><style type=\"text/css\">:root {--white: #ffffff; --font_primary: #535B62; --font_dark: #2f363f; --font_light: #81878c; --font_blue: #0088ea; --font_lighter: #a2a8ae; --brand_primary: #151e28; --brand_success: #28c39a; --brand_danger:'"
            ],
            "application/vnd.google.colaboratory.intrinsic+json": {
              "type": "string"
            }
          },
          "metadata": {},
          "execution_count": 5
        }
      ]
    },
    {
      "cell_type": "markdown",
      "source": [
        "## Pass the fetched webpage response to Beautiful Soup"
      ],
      "metadata": {
        "id": "XJNdAiOReo2n"
      }
    },
    {
      "cell_type": "code",
      "source": [
        "# give the webpage to Beautiful Soup using parsers: \"html.parser\" or \"lxml\"\n",
        "soup = BeautifulSoup(response.text, 'lxml')"
      ],
      "metadata": {
        "id": "RA-dseaKd1GS"
      },
      "execution_count": 6,
      "outputs": []
    },
    {
      "cell_type": "markdown",
      "source": [
        "## Let us try and extract some data from the soup"
      ],
      "metadata": {
        "id": "ZKYRke2Ilhrt"
      }
    },
    {
      "cell_type": "markdown",
      "source": [
        "- we see the whole webpage and how the html dom structure is made\n",
        "- on inspecting, we see that all our required info is mostly inside div blocks with unique class names\n",
        "- few are inside span or h tags, but all blocks has classes\n",
        "- Let us extract few important html dom blocks and see"
      ],
      "metadata": {
        "id": "8pCfA5bWjJRE"
      }
    },
    {
      "cell_type": "markdown",
      "source": [
        "### [1] Basic Company Information"
      ],
      "metadata": {
        "id": "IqCNbmt8l3Ec"
      }
    },
    {
      "cell_type": "code",
      "source": [
        "# company name\n",
        "htmlBlock = soup.find(\"h3\", class_=\"security-name\")\n",
        "print(htmlBlock.prettify())\n",
        "\n",
        "value = htmlBlock.text if htmlBlock is not None else None\n",
        "print(value)"
      ],
      "metadata": {
        "colab": {
          "base_uri": "https://localhost:8080/"
        },
        "id": "2zTscJQSd1In",
        "outputId": "314c935d-eef8-44e1-8862-9fb40b4e30ca"
      },
      "execution_count": 7,
      "outputs": [
        {
          "output_type": "stream",
          "name": "stdout",
          "text": [
            "<h3 class=\"jsx-2903438179 security-name\">\n",
            " Tata Consultancy Services Ltd\n",
            "</h3>\n",
            "Tata Consultancy Services Ltd\n"
          ]
        }
      ]
    },
    {
      "cell_type": "code",
      "source": [
        "# ticker name\n",
        "htmlBlock = soup.find(\"span\", class_=\"ticker\")\n",
        "print(htmlBlock.prettify())\n",
        "\n",
        "value = htmlBlock.text if htmlBlock is not None else None\n",
        "print(value)"
      ],
      "metadata": {
        "colab": {
          "base_uri": "https://localhost:8080/"
        },
        "id": "HsrIqPujd1LG",
        "outputId": "ff7af1d0-6a9e-4568-d42d-ed84fe41f710"
      },
      "execution_count": 8,
      "outputs": [
        {
          "output_type": "stream",
          "name": "stdout",
          "text": [
            "<span class=\"jsx-2903438179 ticker text-teritiary font-medium\">\n",
            " TCS\n",
            "</span>\n",
            "TCS\n"
          ]
        }
      ]
    },
    {
      "cell_type": "code",
      "source": [
        "# type\n",
        "print(\"stocks\")"
      ],
      "metadata": {
        "colab": {
          "base_uri": "https://localhost:8080/"
        },
        "id": "Ls9mQZSa3f46",
        "outputId": "7da3b23d-7b6a-48ee-f91b-c9862e53ef69"
      },
      "execution_count": 9,
      "outputs": [
        {
          "output_type": "stream",
          "name": "stdout",
          "text": [
            "stocks\n"
          ]
        }
      ]
    },
    {
      "cell_type": "code",
      "source": [
        "# current price\n",
        "htmlBlock = soup.find(\"span\", class_=\"current-price\")\n",
        "print(htmlBlock.prettify())\n",
        "\n",
        "value = htmlBlock.text if htmlBlock is not None else None\n",
        "print(value)"
      ],
      "metadata": {
        "colab": {
          "base_uri": "https://localhost:8080/"
        },
        "id": "zdTUd2Led1NO",
        "outputId": "24db315e-8578-4879-f929-31de8bee63f7"
      },
      "execution_count": 10,
      "outputs": [
        {
          "output_type": "stream",
          "name": "stdout",
          "text": [
            "<span class=\"jsx-3168773259 current-price typography-h1 text-primary\">\n",
            " 3,528.05\n",
            "</span>\n",
            "\n",
            "3,528.05\n"
          ]
        }
      ]
    },
    {
      "cell_type": "code",
      "source": [
        "# marketcap, sector and risk\n",
        "htmlBlock = soup.find(\"div\", class_=\"stock-labels\")\n",
        "htmlBlock = htmlBlock.find_all(\"span\", class_=\"stock-label-title\")\n",
        "for block in htmlBlock:\n",
        "    print(block)\n",
        "\n",
        "value = htmlBlock[0].text if htmlBlock[0] is not None else None\n",
        "print(value)\n",
        "\n",
        "value = htmlBlock[1].text if htmlBlock[1] is not None else None\n",
        "print(value)\n",
        "\n",
        "value = htmlBlock[2].text if htmlBlock[2] is not None else None\n",
        "print(value)"
      ],
      "metadata": {
        "colab": {
          "base_uri": "https://localhost:8080/"
        },
        "id": "ReDtU1Zn3V4x",
        "outputId": "d4ee5ecd-5bb7-4840-9d47-e146a6189409"
      },
      "execution_count": 11,
      "outputs": [
        {
          "output_type": "stream",
          "name": "stdout",
          "text": [
            "<span class=\"jsx-1903139372 stock-label-title typography-body-medium-xs\">Information Technology</span>\n",
            "<span class=\"jsx-1903139372 stock-label-title typography-body-medium-xs\">Largecap</span>\n",
            "<span class=\"jsx-1903139372 stock-label-title typography-body-medium-xs\">Low Risk</span>\n",
            "Information Technology\n",
            "Largecap\n",
            "Low Risk\n"
          ]
        }
      ]
    },
    {
      "cell_type": "code",
      "source": [
        "# profile\n",
        "\n",
        "htmlBlock = soup.find(\"div\", class_=\"peers-card\")\n",
        "# print(htmlBlock.prettify())\n",
        "\n",
        "print(htmlBlock.h2.text)\n",
        "print(htmlBlock.p.text)\n",
        "\n",
        "value_h = htmlBlock.h2.text if htmlBlock.h2 is not None else \"\"\n",
        "value_p = htmlBlock.p.text if htmlBlock.p is not None else \"\"\n",
        "value = value_h + \": \" + value_p if (value_h + value_p) != \"\" else None\n",
        "print(value)"
      ],
      "metadata": {
        "colab": {
          "base_uri": "https://localhost:8080/"
        },
        "id": "mnkbOAIG3V7J",
        "outputId": "c8c0c4c9-8d0b-402a-d5b1-d7cb5e1dac76"
      },
      "execution_count": 12,
      "outputs": [
        {
          "output_type": "stream",
          "name": "stdout",
          "text": [
            "Company Profile\n",
            "Tata Consultancy Services Limited (TCS) is engaged in providing information technology (IT) services, digital and business solutions.\n",
            "Company Profile: Tata Consultancy Services Limited (TCS) is engaged in providing information technology (IT) services, digital and business solutions.\n"
          ]
        }
      ]
    },
    {
      "cell_type": "code",
      "source": [
        ""
      ],
      "metadata": {
        "id": "OqosrS1L3V9y"
      },
      "execution_count": 12,
      "outputs": []
    },
    {
      "cell_type": "markdown",
      "source": [
        "### [2] Overview"
      ],
      "metadata": {
        "id": "Hl7pzStc-rt9"
      }
    },
    {
      "cell_type": "code",
      "source": [
        "# current price\n",
        "htmlBlock = soup.find(\"span\", class_=\"current-price\")\n",
        "print(htmlBlock.prettify())\n",
        "\n",
        "value = htmlBlock.text if htmlBlock is not None else None\n",
        "print(value)"
      ],
      "metadata": {
        "colab": {
          "base_uri": "https://localhost:8080/"
        },
        "id": "kPe2Uab63WAA",
        "outputId": "8a20503c-a1f3-42ea-8cd0-19895ac8c59b"
      },
      "execution_count": 13,
      "outputs": [
        {
          "output_type": "stream",
          "name": "stdout",
          "text": [
            "<span class=\"jsx-3168773259 current-price typography-h1 text-primary\">\n",
            " 3,528.05\n",
            "</span>\n",
            "\n",
            "3,528.05\n"
          ]
        }
      ]
    },
    {
      "cell_type": "code",
      "source": [
        "# change absolute-value\n",
        "htmlBlock = soup.find(\"span\", class_=\"absolute-value\")\n",
        "print(htmlBlock.prettify())\n",
        "\n",
        "value = htmlBlock.text if htmlBlock is not None else None\n",
        "print(value)"
      ],
      "metadata": {
        "colab": {
          "base_uri": "https://localhost:8080/"
        },
        "id": "7CvuSrAplDBR",
        "outputId": "b48536cb-a6a1-407a-b11d-87c612db61ca"
      },
      "execution_count": 14,
      "outputs": [
        {
          "output_type": "stream",
          "name": "stdout",
          "text": [
            "<span class=\"jsx-3168773259 change absolute-value text-14 typography-body-medium-l down\">\n",
            " <i class=\"jsx-3168773259 icon-Red-down\">\n",
            " </i>\n",
            " 3.66\n",
            " <!-- -->\n",
            " %\n",
            "</span>\n",
            "\n",
            "3.66%\n"
          ]
        }
      ]
    },
    {
      "cell_type": "code",
      "source": [
        "# change percentage-value\n",
        "htmlBlock = soup.find(\"span\", class_=\"percentage-value\")\n",
        "print(htmlBlock.prettify())\n",
        "\n",
        "value = str(htmlBlock.text).replace(\"(\", \"\").replace(\")\", \"\").strip() if htmlBlock is not None else None\n",
        "print(value)"
      ],
      "metadata": {
        "colab": {
          "base_uri": "https://localhost:8080/"
        },
        "id": "u_RW7wVYlDEH",
        "outputId": "76f94387-a5fb-4eb9-c3a4-6c36f2950102"
      },
      "execution_count": 15,
      "outputs": [
        {
          "output_type": "stream",
          "name": "stdout",
          "text": [
            "<span class=\"jsx-3168773259 change percentage-value text-14 down\">\n",
            " (\n",
            " <!-- -->\n",
            " -\n",
            " <!-- -->\n",
            " 133.90\n",
            " <!-- -->\n",
            " )\n",
            "</span>\n",
            "-133.90\n"
          ]
        }
      ]
    },
    {
      "cell_type": "code",
      "source": [
        "# day high, low, returns\n",
        "htmlBlock = soup.find(\"div\", class_=\"statbox\")\n",
        "print(htmlBlock.prettify())\n",
        "\n",
        "# value = htmlBlock.text if htmlBlock is not None else None\n",
        "# print(value)\n",
        "\n",
        "# NOT POSSIBLE, DYNAMICALLY CALCULATED AFTER PAGE LOAD!!!!"
      ],
      "metadata": {
        "colab": {
          "base_uri": "https://localhost:8080/"
        },
        "id": "dIhdpRgBAUU5",
        "outputId": "1c4e90ad-104f-4f4b-e645-70f6e2877738"
      },
      "execution_count": 16,
      "outputs": [
        {
          "output_type": "stream",
          "name": "stdout",
          "text": [
            "<div class=\"jsx-1785027547 statbox \">\n",
            " <div class=\"jsx-3420801268\">\n",
            "  <div class=\"jsx-3420801268 typography-body-regular-m text-secondary \">\n",
            "   High\n",
            "  </div>\n",
            "  <div class=\"jsx-3420801268 value typography-body-medium-l text-primary \">\n",
            "   —\n",
            "  </div>\n",
            " </div>\n",
            " <div class=\"jsx-3420801268\">\n",
            "  <div class=\"jsx-3420801268 typography-body-regular-m text-secondary \">\n",
            "   Low\n",
            "  </div>\n",
            "  <div class=\"jsx-3420801268 value typography-body-medium-l text-primary \">\n",
            "   —\n",
            "  </div>\n",
            " </div>\n",
            " <div class=\"jsx-3420801268\">\n",
            "  <div class=\"jsx-3420801268 typography-body-regular-m text-secondary \">\n",
            "   Returns\n",
            "  </div>\n",
            "  <div class=\"jsx-3420801268 value typography-body-medium-l text-primary \">\n",
            "   —\n",
            "  </div>\n",
            " </div>\n",
            "</div>\n"
          ]
        }
      ]
    },
    {
      "cell_type": "code",
      "source": [
        ""
      ],
      "metadata": {
        "id": "nssx6D3kIQ2L"
      },
      "execution_count": 16,
      "outputs": []
    },
    {
      "cell_type": "code",
      "source": [
        "# we can get the full price data from this url:\n",
        "\n",
        "# for day chart:\n",
        "# \"https://api.tickertape.in/stocks/charts/intra/TCS\"\n",
        "\n",
        "# for other durations:\n",
        "# \"https://api.tickertape.in/stocks/charts/inter/{Ticker}?duration={Duration}\"\n",
        "# dutations: \"1w\" for week, \"1mo\" for month, \"1y\" for 1year, \"5y\" for 5year, \"max\" for full\n",
        "\n",
        "# for SIP:\n",
        "# https://api.tickertape.in/stocks/charts/sip/TCS\n",
        "\n",
        "# Example: \"https://api.tickertape.in/stocks/charts/inter/TCS?duration=1w\"\n"
      ],
      "metadata": {
        "id": "X_5C7HJoEndk"
      },
      "execution_count": 17,
      "outputs": []
    },
    {
      "cell_type": "code",
      "source": [
        "chartData = requests.get(\"https://api.tickertape.in/stocks/charts/intra/TCS\")\n",
        "chartData.text"
      ],
      "metadata": {
        "colab": {
          "base_uri": "https://localhost:8080/",
          "height": 122
        },
        "id": "o7dGoc88Enf5",
        "outputId": "ead88a9d-f5e5-4561-d2cf-1aa822de8dff"
      },
      "execution_count": 18,
      "outputs": [
        {
          "output_type": "execute_result",
          "data": {
            "text/plain": [
              "'{\"success\":true,\"data\":[{\"sid\":\"TCS\",\"points\":[{\"ts\":\"2022-04-18T03:46:00.000Z\",\"lp\":3585.8,\"v\":170695},{\"ts\":\"2022-04-18T03:47:00.000Z\",\"lp\":3577.75,\"v\":205082},{\"ts\":\"2022-04-18T03:48:00.000Z\",\"lp\":3583.35,\"v\":239429},{\"ts\":\"2022-04-18T03:49:00.000Z\",\"lp\":3581.5,\"v\":259687},{\"ts\":\"2022-04-18T03:50:00.000Z\",\"lp\":3585.15,\"v\":282719},{\"ts\":\"2022-04-18T03:51:00.000Z\",\"lp\":3591.7,\"v\":300554},{\"ts\":\"2022-04-18T03:52:00.000Z\",\"lp\":3589,\"v\":314149},{\"ts\":\"2022-04-18T03:53:00.000Z\",\"lp\":3593.25,\"v\":337341},{\"ts\":\"2022-04-18T03:54:00.000Z\",\"lp\":3584.1,\"v\":352870},{\"ts\":\"2022-04-18T03:55:00.000Z\",\"lp\":3579.3,\"v\":390212},{\"ts\":\"2022-04-18T03:56:00.000Z\",\"lp\":3575,\"v\":442083},{\"ts\":\"2022-04-18T03:57:00.000Z\",\"lp\":3574.5,\"v\":478360},{\"ts\":\"2022-04-18T03:58:00.000Z\",\"lp\":3571.9,\"v\":551498},{\"ts\":\"2022-04-18T03:59:00.000Z\",\"lp\":3567.35,\"v\":569737},{\"ts\":\"2022-04-18T04:00:00.000Z\",\"lp\":3554.1,\"v\":629610},{\"ts\":\"2022-04-18T04:01:00.000Z\",\"lp\":3544.65,\"v\":684046},{\"ts\":\"2022-04-18T04:02:00.000Z\",\"lp\":3544.95,\"v\":730686},{\"ts\":\"2022-04-18T04:03:00.000Z\",\"lp\":3541.65,\"v\":763320},{\"ts\":\"2022-04-18T04:04:00.000Z\",\"lp\":3537.4,\"v\":800993},{\"ts\":\"2022-04-18T04:05:00.000Z\",\"lp\":3541.85,\"v\":822943},{\"ts\":\"2022-04-18T04:06:00.000Z\",\"lp\":3544.45,\"v\":841623},{\"ts\":\"2022-04-18T04:07:00.000Z\",\"lp\":3548,\"v\":857189},{\"ts\":\"2022-04-18T04:08:00.000Z\",\"lp\":3543.75,\"v\":880343},{\"ts\":\"2022-04-18T04:09:00.000Z\",\"lp\":3547.7,\"v\":900467},{\"ts\":\"2022-04-18T04:10:00.000Z\",\"lp\":3553.5,\"v\":921793},{\"ts\":\"2022-04-18T04:11:00.000Z\",\"lp\":3549.9,\"v\":941781},{\"ts\":\"2022-04-18T04:12:00.000Z\",\"lp\":3549,\"v\":959285},{\"ts\":\"2022-04-18T04:13:00.000Z\",\"lp\":3552,\"v\":980814},{\"ts\":\"2022-04-18T04:14:00.000Z\",\"lp\":3552.1,\"v\":999041},{\"ts\":\"2022-04-18T04:15:00.000Z\",\"lp\":3549.95,\"v\":1023971},{\"ts\":\"2022-04-18T04:16:00.000Z\",\"lp\":3550,\"v\":1062829},{\"ts\":\"2022-04-18T04:17:00.000Z\",\"lp\":3555,\"v\":1084866},{\"ts\":\"2022-04-18T04:18:00.000Z\",\"lp\":3558.1,\"v\":1104346},{\"ts\":\"2022-04-18T04:19:00.000Z\",\"lp\":3560.95,\"v\":1119687},{\"ts\":\"2022-04-18T04:20:00.000Z\",\"lp\":3559.95,\"v\":1129982},{\"ts\":\"2022-04-18T04:21:00.000Z\",\"lp\":3559.95,\"v\":1140818},{\"ts\":\"2022-04-18T04:22:00.000Z\",\"lp\":3558.75,\"v\":1146909},{\"ts\":\"2022-04-18T04:23:00.000Z\",\"lp\":3558,\"v\":1151771},{\"ts\":\"2022-04-18T04:24:00.000Z\",\"lp\":3557.45,\"v\":1161332},{\"ts\":\"2022-04-18T04:25:00.000Z\",\"lp\":3554.8,\"v\":1178739},{\"ts\":\"2022-04-18T04:26:00.000Z\",\"lp\":3554.65,\"v\":1183048},{\"ts\":\"2022-04-18T04:27:00.000Z\",\"lp\":3558.55,\"v\":1193732},{\"ts\":\"2022-04-18T04:28:00.000Z\",\"lp\":3559.3,\"v\":1199272},{\"ts\":\"2022-04-18T04:29:00.000Z\",\"lp\":3559.95,\"v\":1205394},{\"ts\":\"2022-04-18T04:30:00.000Z\",\"lp\":3560,\"v\":1213833},{\"ts\":\"2022-04-18T04:31:00.000Z\",\"lp\":3562.45,\"v\":1228463},{\"ts\":\"2022-04-18T04:32:00.000Z\",\"lp\":3561.4,\"v\":1238373},{\"ts\":\"2022-04-18T04:33:00.000Z\",\"lp\":3559.95,\"v\":1245692},{\"ts\":\"2022-04-18T04:34:00.000Z\",\"lp\":3556.8,\"v\":1253083},{\"ts\":\"2022-04-18T04:35:00.000Z\",\"lp\":3557,\"v\":1260148},{\"ts\":\"2022-04-18T04:36:00.000Z\",\"lp\":3558.65,\"v\":1266854},{\"ts\":\"2022-04-18T04:37:00.000Z\",\"lp\":3554.3,\"v\":1273558},{\"ts\":\"2022-04-18T04:38:00.000Z\",\"lp\":3550.25,\"v\":1279886},{\"ts\":\"2022-04-18T04:39:00.000Z\",\"lp\":3549.4,\"v\":1298416},{\"ts\":\"2022-04-18T04:40:00.000Z\",\"lp\":3541.85,\"v\":1333979},{\"ts\":\"2022-04-18T04:41:00.000Z\",\"lp\":3546.9,\"v\":1342533},{\"ts\":\"2022-04-18T04:42:00.000Z\",\"lp\":3545.25,\"v\":1349323},{\"ts\":\"2022-04-18T04:43:00.000Z\",\"lp\":3549,\"v\":1357994},{\"ts\":\"2022-04-18T04:44:00.000Z\",\"lp\":3549.4,\"v\":1366498},{\"ts\":\"2022-04-18T04:45:00.000Z\",\"lp\":3549.35,\"v\":1371998},{\"ts\":\"2022-04-18T04:46:00.000Z\",\"lp\":3548.25,\"v\":1378039},{\"ts\":\"2022-04-18T04:47:00.000Z\",\"lp\":3549.5,\"v\":1383902},{\"ts\":\"2022-04-18T04:48:00.000Z\",\"lp\":3547.5,\"v\":1393438},{\"ts\":\"2022-04-18T04:49:00.000Z\",\"lp\":3549.9,\"v\":1399849},{\"ts\":\"2022-04-18T04:50:00.000Z\",\"lp\":3549.85,\"v\":1408088},{\"ts\":\"2022-04-18T04:51:00.000Z\",\"lp\":3555.3,\"v\":1413959},{\"ts\":\"2022-04-18T04:52:00.000Z\",\"lp\":3555.85,\"v\":1421715},{\"ts\":\"2022-04-18T04:53:00.000Z\",\"lp\":3557.45,\"v\":1428402},{\"ts\":\"2022-04-18T04:54:00.000Z\",\"lp\":3557,\"v\":1435191},{\"ts\":\"2022-04-18T04:55:00.000Z\",\"lp\":3557.95,\"v\":1441233},{\"ts\":\"2022-04-18T04:56:00.000Z\",\"lp\":3555.7,\"v\":1445700},{\"ts\":\"2022-04-18T04:57:00.000Z\",\"lp\":3558,\"v\":1452582},{\"ts\":\"2022-04-18T04:58:00.000Z\",\"lp\":3557,\"v\":1458228},{\"ts\":\"2022-04-18T04:59:00.000Z\",\"lp\":3555.9,\"v\":1463277},{\"ts\":\"2022-04-18T05:00:00.000Z\",\"lp\":3557.45,\"v\":1468466},{\"ts\":\"2022-04-18T05:01:00.000Z\",\"lp\":3556.5,\"v\":1474442},{\"ts\":\"2022-04-18T05:02:00.000Z\",\"lp\":3556,\"v\":1479744},{\"ts\":\"2022-04-18T05:03:00.000Z\",\"lp\":3556.5,\"v\":1490211},{\"ts\":\"2022-04-18T05:04:00.000Z\",\"lp\":3555.1,\"v\":1497093},{\"ts\":\"2022-04-18T05:05:00.000Z\",\"lp\":3556.5,\"v\":1502313},{\"ts\":\"2022-04-18T05:06:00.000Z\",\"lp\":3556.5,\"v\":1514546},{\"ts\":\"2022-04-18T05:07:00.000Z\",\"lp\":3555.95,\"v\":1526164},{\"ts\":\"2022-04-18T05:08:00.000Z\",\"lp\":3556,\"v\":1533334},{\"ts\":\"2022-04-18T05:09:00.000Z\",\"lp\":3555.6,\"v\":1544973},{\"ts\":\"2022-04-18T05:10:00.000Z\",\"lp\":3557.4,\"v\":1563850},{\"ts\":\"2022-04-18T05:11:00.000Z\",\"lp\":3557,\"v\":1572830},{\"ts\":\"2022-04-18T05:12:00.000Z\",\"lp\":3559,\"v\":1576921},{\"ts\":\"2022-04-18T05:13:00.000Z\",\"lp\":3558.85,\"v\":1583905},{\"ts\":\"2022-04-18T05:14:00.000Z\",\"lp\":3558.9,\"v\":1587916},{\"ts\":\"2022-04-18T05:15:00.000Z\",\"lp\":3558.55,\"v\":1590928},{\"ts\":\"2022-04-18T05:16:00.000Z\",\"lp\":3557.55,\"v\":1596378},{\"ts\":\"2022-04-18T05:17:00.000Z\",\"lp\":3558,\"v\":1599231},{\"ts\":\"2022-04-18T05:18:00.000Z\",\"lp\":3559.95,\"v\":1603073},{\"ts\":\"2022-04-18T05:19:00.000Z\",\"lp\":3559,\"v\":1606201},{\"ts\":\"2022-04-18T05:20:00.000Z\",\"lp\":3557.95,\"v\":1629172},{\"ts\":\"2022-04-18T05:21:00.000Z\",\"lp\":3557.35,\"v\":1652014},{\"ts\":\"2022-04-18T05:22:00.000Z\",\"lp\":3558.05,\"v\":1658863},{\"ts\":\"2022-04-18T05:23:00.000Z\",\"lp\":3556.45,\"v\":1678621},{\"ts\":\"2022-04-18T05:24:00.000Z\",\"lp\":3558,\"v\":1694961},{\"ts\":\"2022-04-18T05:25:00.000Z\",\"lp\":3558.85,\"v\":1708604},{\"ts\":\"2022-04-18T05:26:00.000Z\",\"lp\":3555.8,\"v\":1717752},{\"ts\":\"2022-04-18T05:27:00.000Z\",\"lp\":3552.35,\"v\":1722950},{\"ts\":\"2022-04-18T05:28:00.000Z\",\"lp\":3555.5,\"v\":1730838},{\"ts\":\"2022-04-18T05:29:00.000Z\",\"lp\":3556.15,\"v\":1735793},{\"ts\":\"2022-04-18T05:30:00.000Z\",\"lp\":3551.85,\"v\":1742022},{\"ts\":\"2022-04-18T05:31:00.000Z\",\"lp\":3554.45,\"v\":1746201},{\"ts\":\"2022-04-18T05:32:00.000Z\",\"lp\":3554.95,\"v\":1750404},{\"ts\":\"2022-04-18T05:33:00.000Z\",\"lp\":3553.25,\"v\":1754496},{\"ts\":\"2022-04-18T05:34:00.000Z\",\"lp\":3553.3,\"v\":1756879},{\"ts\":\"2022-04-18T05:35:00.000Z\",\"lp\":3554.7,\"v\":1758862},{\"ts\":\"2022-04-18T05:36:00.000Z\",\"lp\":3552.95,\"v\":1762347},{\"ts\":\"2022-04-18T05:37:00.000Z\",\"lp\":3553.5,\"v\":1765840},{\"ts\":\"2022-04-18T05:38:00.000Z\",\"lp\":3554.5,\"v\":1768577},{\"ts\":\"2022-04-18T05:39:00.000Z\",\"lp\":3554,\"v\":1773966},{\"ts\":\"2022-04-18T05:40:00.000Z\",\"lp\":3555.15,\"v\":1782885},{\"ts\":\"2022-04-18T05:41:00.000Z\",\"lp\":3556.5,\"v\":1789471},{\"ts\":\"2022-04-18T05:42:00.000Z\",\"lp\":3555.4,\"v\":1792074},{\"ts\":\"2022-04-18T05:43:00.000Z\",\"lp\":3556.9,\"v\":1797152},{\"ts\":\"2022-04-18T05:44:00.000Z\",\"lp\":3557.8,\"v\":1800159},{\"ts\":\"2022-04-18T05:45:00.000Z\",\"lp\":3557.3,\"v\":1804098},{\"ts\":\"2022-04-18T05:46:00.000Z\",\"lp\":3558,\"v\":1807630},{\"ts\":\"2022-04-18T05:47:00.000Z\",\"lp\":3553,\"v\":1815839},{\"ts\":\"2022-04-18T05:48:00.000Z\",\"lp\":3550.05,\"v\":1822283},{\"ts\":\"2022-04-18T05:49:00.000Z\",\"lp\":3543.75,\"v\":1857981},{\"ts\":\"2022-04-18T05:50:00.000Z\",\"lp\":3545.45,\"v\":1859632},{\"ts\":\"2022-04-18T05:50:00.000Z\",\"lp\":3546.75,\"v\":1861010},{\"ts\":\"2022-04-18T05:51:00.000Z\",\"lp\":3549.9,\"v\":1871647},{\"ts\":\"2022-04-18T05:52:00.000Z\",\"lp\":3550.15,\"v\":1875478},{\"ts\":\"2022-04-18T05:53:00.000Z\",\"lp\":3550.55,\"v\":1881868},{\"ts\":\"2022-04-18T05:54:00.000Z\",\"lp\":3552.7,\"v\":1888539},{\"ts\":\"2022-04-18T05:55:00.000Z\",\"lp\":3551.65,\"v\":1893394},{\"ts\":\"2022-04-18T05:56:00.000Z\",\"lp\":3554.9,\"v\":1899882},{\"ts\":\"2022-04-18T05:57:00.000Z\",\"lp\":3552.8,\"v\":1907113},{\"ts\":\"2022-04-18T05:58:00.000Z\",\"lp\":3552.05,\"v\":1913752},{\"ts\":\"2022-04-18T05:59:00.000Z\",\"lp\":3552.4,\"v\":1923232},{\"ts\":\"2022-04-18T06:00:00.000Z\",\"lp\":3554.6,\"v\":1930561},{\"ts\":\"2022-04-18T06:01:00.000Z\",\"lp\":3553.05,\"v\":1934661},{\"ts\":\"2022-04-18T06:02:00.000Z\",\"lp\":3549.65,\"v\":1939112},{\"ts\":\"2022-04-18T06:03:00.000Z\",\"lp\":3550,\"v\":1944599},{\"ts\":\"2022-04-18T06:04:00.000Z\",\"lp\":3549,\"v\":1947666},{\"ts\":\"2022-04-18T06:05:00.000Z\",\"lp\":3549.25,\"v\":1951707},{\"ts\":\"2022-04-18T06:06:00.000Z\",\"lp\":3550,\"v\":1956929},{\"ts\":\"2022-04-18T06:07:00.000Z\",\"lp\":3547.6,\"v\":1964225},{\"ts\":\"2022-04-18T06:08:00.000Z\",\"lp\":3549.6,\"v\":1969448},{\"ts\":\"2022-04-18T06:09:00.000Z\",\"lp\":3547.75,\"v\":1972883},{\"ts\":\"2022-04-18T06:10:00.000Z\",\"lp\":3548.6,\"v\":1976088},{\"ts\":\"2022-04-18T06:11:00.000Z\",\"lp\":3549.15,\"v\":1979484},{\"ts\":\"2022-04-18T06:12:00.000Z\",\"lp\":3549.25,\"v\":1983068},{\"ts\":\"2022-04-18T06:13:00.000Z\",\"lp\":3550.15,\"v\":1988506},{\"ts\":\"2022-04-18T06:14:00.000Z\",\"lp\":3549.5,\"v\":1992012},{\"ts\":\"2022-04-18T06:15:00.000Z\",\"lp\":3550,\"v\":1995805},{\"ts\":\"2022-04-18T06:16:00.000Z\",\"lp\":3549.05,\"v\":1998454},{\"ts\":\"2022-04-18T06:17:00.000Z\",\"lp\":3548.25,\"v\":2001212},{\"ts\":\"2022-04-18T06:18:00.000Z\",\"lp\":3550.05,\"v\":2009386},{\"ts\":\"2022-04-18T06:19:00.000Z\",\"lp\":3549.5,\"v\":2012738},{\"ts\":\"2022-04-18T06:20:00.000Z\",\"lp\":3550,\"v\":2016043},{\"ts\":\"2022-04-18T06:21:00.000Z\",\"lp\":3549,\"v\":2019694},{\"ts\":\"2022-04-18T06:22:00.000Z\",\"lp\":3548.8,\"v\":2023204},{\"ts\":\"2022-04-18T06:23:00.000Z\",\"lp\":3550,\"v\":2027527},{\"ts\":\"2022-04-18T06:24:00.000Z\",\"lp\":3549.35,\"v\":2034551},{\"ts\":\"2022-04-18T06:25:00.000Z\",\"lp\":3549.8,\"v\":2037255},{\"ts\":\"2022-04-18T06:26:00.000Z\",\"lp\":3551.75,\"v\":2052560},{\"ts\":\"2022-04-18T06:27:00.000Z\",\"lp\":3549.85,\"v\":2063902},{\"ts\":\"2022-04-18T06:28:00.000Z\",\"lp\":3549.7,\"v\":2071143},{\"ts\":\"2022-04-18T06:29:00.000Z\",\"lp\":3549.9,\"v\":2077522},{\"ts\":\"2022-04-18T06:30:00.000Z\",\"lp\":3547.4,\"v\":2084888},{\"ts\":\"2022-04-18T06:31:00.000Z\",\"lp\":3549.5,\"v\":2090248},{\"ts\":\"2022-04-18T06:32:00.000Z\",\"lp\":3548.1,\"v\":2094388},{\"ts\":\"2022-04-18T06:33:00.000Z\",\"lp\":3546.6,\"v\":2097324},{\"ts\":\"2022-04-18T06:34:00.000Z\",\"lp\":3546.4,\"v\":2100091},{\"ts\":\"2022-04-18T06:35:00.000Z\",\"lp\":3546.5,\"v\":2104377},{\"ts\":\"2022-04-18T06:36:00.000Z\",\"lp\":3546.55,\"v\":2107454},{\"ts\":\"2022-04-18T06:37:00.000Z\",\"lp\":3547.1,\"v\":2109014},{\"ts\":\"2022-04-18T06:38:00.000Z\",\"lp\":3543.8,\"v\":2119746},{\"ts\":\"2022-04-18T06:39:00.000Z\",\"lp\":3544,\"v\":2124709},{\"ts\":\"2022-04-18T06:40:00.000Z\",\"lp\":3542.1,\"v\":2131585},{\"ts\":\"2022-04-18T06:41:00.000Z\",\"lp\":3542.5,\"v\":2136062},{\"ts\":\"2022-04-18T06:42:00.000Z\",\"lp\":3542.6,\"v\":2139535},{\"ts\":\"2022-04-18T06:43:00.000Z\",\"lp\":3542.95,\"v\":2143839},{\"ts\":\"2022-04-18T06:44:00.000Z\",\"lp\":3541.7,\"v\":2147294},{\"ts\":\"2022-04-18T06:45:00.000Z\",\"lp\":3538.5,\"v\":2188423},{\"ts\":\"2022-04-18T06:46:00.000Z\",\"lp\":3536,\"v\":2200936},{\"ts\":\"2022-04-18T06:47:00.000Z\",\"lp\":3540,\"v\":2207759},{\"ts\":\"2022-04-18T06:48:00.000Z\",\"lp\":3542.55,\"v\":2216011},{\"ts\":\"2022-04-18T06:49:00.000Z\",\"lp\":3542,\"v\":2233947},{\"ts\":\"2022-04-18T06:50:00.000Z\",\"lp\":3540.65,\"v\":2242514},{\"ts\":\"2022-04-18T06:51:00.000Z\",\"lp\":3537.85,\"v\":2248333},{\"ts\":\"2022-04-18T06:52:00.000Z\",\"lp\":3538,\"v\":2253691},{\"ts\":\"2022-04-18T06:53:00.000Z\",\"lp\":3536.65,\"v\":2258325},{\"ts\":\"2022-04-18T06:54:00.000Z\",\"lp\":3536.9,\"v\":2263341},{\"ts\":\"2022-04-18T06:55:00.000Z\",\"lp\":3536.3,\"v\":2268102},{\"ts\":\"2022-04-18T06:56:00.000Z\",\"lp\":3533.35,\"v\":2307883},{\"ts\":\"2022-04-18T06:57:00.000Z\",\"lp\":3532,\"v\":2314955},{\"ts\":\"2022-04-18T06:58:00.000Z\",\"lp\":3532.4,\"v\":2324585},{\"ts\":\"2022-04-18T06:59:00.000Z\",\"lp\":3532,\"v\":2331762},{\"ts\":\"2022-04-18T07:00:00.000Z\",\"lp\":3530.9,\"v\":2351951},{\"ts\":\"2022-04-18T07:01:00.000Z\",\"lp\":3529.8,\"v\":2362782},{\"ts\":\"2022-04-18T07:02:00.000Z\",\"lp\":3532.9,\"v\":2370383},{\"ts\":\"2022-04-18T07:03:00.000Z\",\"lp\":3532.1,\"v\":2377413},{\"ts\":\"2022-04-18T07:04:00.000Z\",\"lp\":3533.05,\"v\":2389408},{\"ts\":\"2022-04-18T07:05:00.000Z\",\"lp\":3533.8,\"v\":2408986},{\"ts\":\"2022-04-18T07:06:00.000Z\",\"lp\":3533.05,\"v\":2414903},{\"ts\":\"2022-04-18T07:07:00.000Z\",\"lp\":3532.55,\"v\":2419401},{\"ts\":\"2022-04-18T07:08:00.000Z\",\"lp\":3530.45,\"v\":2426958},{\"ts\":\"2022-04-18T07:09:00.000Z\",\"lp\":3529.9,\"v\":2431537},{\"ts\":\"2022-04-18T07:10:00.000Z\",\"lp\":3529.65,\"v\":2435358},{\"ts\":\"2022-04-18T07:11:00.000Z\",\"lp\":3530,\"v\":2440000},{\"ts\":\"2022-04-18T07:12:00.000Z\",\"lp\":3530,\"v\":2444658},{\"ts\":\"2022-04-18T07:13:00.000Z\",\"lp\":3530.85,\"v\":2451432},{\"ts\":\"2022-04-18T07:14:00.000Z\",\"lp\":3530.5,\"v\":2456986},{\"ts\":\"2022-04-18T07:15:00.000Z\",\"lp\":3530.4,\"v\":2459864},{\"ts\":\"2022-04-18T07:16:00.000Z\",\"lp\":3529.95,\"v\":2463849},{\"ts\":\"2022-04-18T07:17:00.000Z\",\"lp\":3530.95,\"v\":2473192},{\"ts\":\"2022-04-18T07:18:00.000Z\",\"lp\":3532.2,\"v\":2482895},{\"ts\":\"2022-04-18T07:19:00.000Z\",\"lp\":3532.25,\"v\":2491888},{\"ts\":\"2022-04-18T07:20:00.000Z\",\"lp\":3533.1,\"v\":2500531},{\"ts\":\"2022-04-18T07:21:00.000Z\",\"lp\":3532.35,\"v\":2509276},{\"ts\":\"2022-04-18T07:22:00.000Z\",\"lp\":3530.4,\"v\":2515384},{\"ts\":\"2022-04-18T07:23:00.000Z\",\"lp\":3530,\"v\":2521473},{\"ts\":\"2022-04-18T07:24:00.000Z\",\"lp\":3530,\"v\":2529503},{\"ts\":\"2022-04-18T07:25:00.000Z\",\"lp\":3529.35,\"v\":2534592},{\"ts\":\"2022-04-18T07:26:00.000Z\",\"lp\":3530,\"v\":2539334},{\"ts\":\"2022-04-18T07:27:00.000Z\",\"lp\":3529.85,\"v\":2543230},{\"ts\":\"2022-04-18T07:28:00.000Z\",\"lp\":3529.7,\"v\":2546405},{\"ts\":\"2022-04-18T07:29:00.000Z\",\"lp\":3529.65,\"v\":2549825},{\"ts\":\"2022-04-18T07:30:00.000Z\",\"lp\":3530,\"v\":2554152},{\"ts\":\"2022-04-18T07:31:00.000Z\",\"lp\":3530,\"v\":2563937},{\"ts\":\"2022-04-18T07:32:00.000Z\",\"lp\":3530,\"v\":2571828},{\"ts\":\"2022-04-18T07:33:00.000Z\",\"lp\":3529.25,\"v\":2578269},{\"ts\":\"2022-04-18T07:34:00.000Z\",\"lp\":3529.45,\"v\":2584900},{\"ts\":\"2022-04-18T07:35:00.000Z\",\"lp\":3530,\"v\":2590521},{\"ts\":\"2022-04-18T07:36:00.000Z\",\"lp\":3530,\"v\":2599121},{\"ts\":\"2022-04-18T07:37:00.000Z\",\"lp\":3529.6,\"v\":2603882},{\"ts\":\"2022-04-18T07:38:00.000Z\",\"lp\":3529.85,\"v\":2610663},{\"ts\":\"2022-04-18T07:39:00.000Z\",\"lp\":3529.35,\"v\":2614732},{\"ts\":\"2022-04-18T07:40:00.000Z\",\"lp\":3529.7,\"v\":2618147},{\"ts\":\"2022-04-18T07:41:00.000Z\",\"lp\":3529.35,\"v\":2621498},{\"ts\":\"2022-04-18T07:42:00.000Z\",\"lp\":3530,\"v\":2633516},{\"ts\":\"2022-04-18T07:43:00.000Z\",\"lp\":3529.9,\"v\":2644560},{\"ts\":\"2022-04-18T07:44:00.000Z\",\"lp\":3529.15,\"v\":2653256},{\"ts\":\"2022-04-18T07:45:00.000Z\",\"lp\":3531.1,\"v\":2662855},{\"ts\":\"2022-04-18T07:46:00.000Z\",\"lp\":3531.75,\"v\":2668893},{\"ts\":\"2022-04-18T07:47:00.000Z\",\"lp\":3531.65,\"v\":2673786},{\"ts\":\"2022-04-18T07:48:00.000Z\",\"lp\":3532.35,\"v\":2678362},{\"ts\":\"2022-04-18T07:49:00.000Z\",\"lp\":3532.75,\"v\":2682534},{\"ts\":\"2022-04-18T07:50:00.000Z\",\"lp\":3532.05,\"v\":2686464},{\"ts\":\"2022-04-18T07:51:00.000Z\",\"lp\":3531.95,\"v\":2691702},{\"ts\":\"2022-04-18T07:52:00.000Z\",\"lp\":3531.75,\"v\":2698419},{\"ts\":\"2022-04-18T07:53:00.000Z\",\"lp\":3535.8,\"v\":2707083},{\"ts\":\"2022-04-18T07:54:00.000Z\",\"lp\":3534.5,\"v\":2713862},{\"ts\":\"2022-04-18T07:55:00.000Z\",\"lp\":3534.35,\"v\":2723443},{\"ts\":\"2022-04-18T07:56:00.000Z\",\"lp\":3534.3,\"v\":2728287},{\"ts\":\"2022-04-18T07:57:00.000Z\",\"lp\":3534,\"v\":2733771},{\"ts\":\"2022-04-18T07:58:00.000Z\",\"lp\":3533.55,\"v\":2742640},{\"ts\":\"2022-04-18T07:59:00.000Z\",\"lp\":3531.95,\"v\":2754145},{\"ts\":\"2022-04-18T08:00:00.000Z\",\"lp\":3533.3,\"v\":2760339},{\"ts\":\"2022-04-18T08:01:00.000Z\",\"lp\":3534,\"v\":2774125},{\"ts\":\"2022-04-18T08:02:00.000Z\",\"lp\":3535.9,\"v\":2784550},{\"ts\":\"2022-04-18T08:03:00.000Z\",\"lp\":3531.85,\"v\":2790230},{\"ts\":\"2022-04-18T08:04:00.000Z\",\"lp\":3535,\"v\":2795271},{\"ts\":\"2022-04-18T08:05:00.000Z\",\"lp\":3534.5,\"v\":2805277},{\"ts\":\"2022-04-18T08:06:00.000Z\",\"lp\":3537.05,\"v\":2810545},{\"ts\":\"2022-04-18T08:07:00.000Z\",\"lp\":3539.75,\"v\":2814485},{\"ts\":\"2022-04-18T08:08:00.000Z\",\"lp\":3538.9,\"v\":2817981},{\"ts\":\"2022-04-18T08:09:00.000Z\",\"lp\":3538.15,\"v\":2823996},{\"ts\":\"2022-04-18T08:10:00.000Z\",\"lp\":3540.85,\"v\":2828860},{\"ts\":\"2022-04-18T08:11:00.000Z\",\"lp\":3538.45,\"v\":2833931},{\"ts\":\"2022-04-18T08:12:00.000Z\",\"lp\":3539.55,\"v\":2837872},{\"ts\":\"2022-04-18T08:13:00.000Z\",\"lp\":3540,\"v\":2841492},{\"ts\":\"2022-04-18T08:14:00.000Z\",\"lp\":3539.65,\"v\":2845371},{\"ts\":\"2022-04-18T08:15:00.000Z\",\"lp\":3541.9,\"v\":2850072},{\"ts\":\"2022-04-18T08:16:00.000Z\",\"lp\":3541.45,\"v\":2854480},{\"ts\":\"2022-04-18T08:17:00.000Z\",\"lp\":3541.6,\"v\":2858176},{\"ts\":\"2022-04-18T08:18:00.000Z\",\"lp\":3542,\"v\":2862247},{\"ts\":\"2022-04-18T08:19:00.000Z\",\"lp\":3535.15,\"v\":2896119},{\"ts\":\"2022-04-18T08:20:00.000Z\",\"lp\":3541.45,\"v\":2901624},{\"ts\":\"2022-04-18T08:21:00.000Z\",\"lp\":3541.8,\"v\":2905139},{\"ts\":\"2022-04-18T08:22:00.000Z\",\"lp\":3541.75,\"v\":2907643},{\"ts\":\"2022-04-18T08:23:00.000Z\",\"lp\":3541,\"v\":2912037},{\"ts\":\"2022-04-18T08:24:00.000Z\",\"lp\":3542.15,\"v\":2915389},{\"ts\":\"2022-04-18T08:25:00.000Z\",\"lp\":3542,\"v\":2918994},{\"ts\":\"2022-04-18T08:26:00.000Z\",\"lp\":3541.05,\"v\":2927598},{\"ts\":\"2022-04-18T08:27:00.000Z\",\"lp\":3540.6,\"v\":2932353},{\"ts\":\"2022-04-18T08:28:00.000Z\",\"lp\":3540.8,\"v\":2971894},{\"ts\":\"2022-04-18T08:29:00.000Z\",\"lp\":3542,\"v\":2977516},{\"ts\":\"2022-04-18T08:30:00.000Z\",\"lp\":3544,\"v\":2984560},{\"ts\":\"2022-04-18T08:31:00.000Z\",\"lp\":3542.1,\"v\":2988082},{\"ts\":\"2022-04-18T08:32:00.000Z\",\"lp\":3542.2,\"v\":2991226},{\"ts\":\"2022-04-18T08:33:00.000Z\",\"lp\":3543,\"v\":3006004},{\"ts\":\"2022-04-18T08:34:00.000Z\",\"lp\":3543.5,\"v\":3009685},{\"ts\":\"2022-04-18T08:35:00.000Z\",\"lp\":3544.7,\"v\":3013423},{\"ts\":\"2022-04-18T08:36:00.000Z\",\"lp\":3544.2,\"v\":3025572},{\"ts\":\"2022-04-18T08:37:00.000Z\",\"lp\":3544.25,\"v\":3028329},{\"ts\":\"2022-04-18T08:38:00.000Z\",\"lp\":3544.05,\"v\":3032499},{\"ts\":\"2022-04-18T08:39:00.000Z\",\"lp\":3545,\"v\":3035315},{\"ts\":\"2022-04-18T08:40:00.000Z\",\"lp\":3546,\"v\":3038827},{\"ts\":\"2022-04-18T08:41:00.000Z\",\"lp\":3545.5,\"v\":3047622},{\"ts\":\"2022-04-18T08:42:00.000Z\",\"lp\":3544.3,\"v\":3054377},{\"ts\":\"2022-04-18T08:43:00.000Z\",\"lp\":3544.95,\"v\":3059120},{\"ts\":\"2022-04-18T08:44:00.000Z\",\"lp\":3545,\"v\":3069075},{\"ts\":\"2022-04-18T08:45:00.000Z\",\"lp\":3545,\"v\":3073471},{\"ts\":\"2022-04-18T08:46:00.000Z\",\"lp\":3546.2,\"v\":3078236},{\"ts\":\"2022-04-18T08:47:00.000Z\",\"lp\":3545,\"v\":3085338},{\"ts\":\"2022-04-18T08:48:00.000Z\",\"lp\":3547,\"v\":3090773},{\"ts\":\"2022-04-18T08:49:00.000Z\",\"lp\":3546.55,\"v\":3105143},{\"ts\":\"2022-04-18T08:50:00.000Z\",\"lp\":3546.2,\"v\":3110327},{\"ts\":\"2022-04-18T08:51:00.000Z\",\"lp\":3546.8,\"v\":3116614},{\"ts\":\"2022-04-18T08:52:00.000Z\",\"lp\":3545.4,\"v\":3120530},{\"ts\":\"2022-04-18T08:53:00.000Z\",\"lp\":3543.3,\"v\":3127268},{\"ts\":\"2022-04-18T08:54:00.000Z\",\"lp\":3543.95,\"v\":3134966},{\"ts\":\"2022-04-18T08:55:00.000Z\",\"lp\":3543.4,\"v\":3140986},{\"ts\":\"2022-04-18T08:56:00.000Z\",\"lp\":3540.65,\"v\":3146814},{\"ts\":\"2022-04-18T08:57:00.000Z\",\"lp\":3539.8,\"v\":3156088},{\"ts\":\"2022-04-18T08:58:00.000Z\",\"lp\":3539.7,\"v\":3161416},{\"ts\":\"2022-04-18T08:59:00.000Z\",\"lp\":3539.8,\"v\":3164756},{\"ts\":\"2022-04-18T09:00:00.000Z\",\"lp\":3539.95,\"v\":3170801},{\"ts\":\"2022-04-18T09:01:00.000Z\",\"lp\":3539.25,\"v\":3174864},{\"ts\":\"2022-04-18T09:02:00.000Z\",\"lp\":3538.1,\"v\":3178545},{\"ts\":\"2022-04-18T09:03:00.000Z\",\"lp\":3535.05,\"v\":3184759},{\"ts\":\"2022-04-18T09:04:00.000Z\",\"lp\":3535.9,\"v\":3189945},{\"ts\":\"2022-04-18T09:05:00.000Z\",\"lp\":3538.8,\"v\":3196138},{\"ts\":\"2022-04-18T09:06:00.000Z\",\"lp\":3537.15,\"v\":3202180},{\"ts\":\"2022-04-18T09:07:00.000Z\",\"lp\":3534.4,\"v\":3219932},{\"ts\":\"2022-04-18T09:08:00.000Z\",\"lp\":3535,\"v\":3225840},{\"ts\":\"2022-04-18T09:09:00.000Z\",\"lp\":3533.1,\"v\":3230772},{\"ts\":\"2022-04-18T09:10:00.000Z\",\"lp\":3533.55,\"v\":3236523},{\"ts\":\"2022-04-18T09:11:00.000Z\",\"lp\":3534.45,\"v\":3242546},{\"ts\":\"2022-04-18T09:12:00.000Z\",\"lp\":3533.85,\"v\":3248613},{\"ts\":\"2022-04-18T09:13:00.000Z\",\"lp\":3534.5,\"v\":3254866},{\"ts\":\"2022-04-18T09:14:00.000Z\",\"lp\":3533.85,\"v\":3262473},{\"ts\":\"2022-04-18T09:15:00.000Z\",\"lp\":3535.05,\"v\":3270310},{\"ts\":\"2022-04-18T09:16:00.000Z\",\"lp\":3535.15,\"v\":3277458},{\"ts\":\"2022-04-18T09:17:00.000Z\",\"lp\":3534.95,\"v\":3286992},{\"ts\":\"2022-04-18T09:18:00.000Z\",\"lp\":3533.65,\"v\":3294720},{\"ts\":\"2022-04-18T09:19:00.000Z\",\"lp\":3530.6,\"v\":3304951},{\"ts\":\"2022-04-18T09:20:00.000Z\",\"lp\":3531.5,\"v\":3318239},{\"ts\":\"2022-04-18T09:21:00.000Z\",\"lp\":3533.05,\"v\":3324841},{\"ts\":\"2022-04-18T09:22:00.000Z\",\"lp\":3533.05,\"v\":3331937},{\"ts\":\"2022-04-18T09:23:00.000Z\",\"lp\":3531,\"v\":3339042},{\"ts\":\"2022-04-18T09:24:00.000Z\",\"lp\":3529,\"v\":3365904},{\"ts\":\"2022-04-18T09:25:00.000Z\",\"lp\":3529.15,\"v\":3374123},{\"ts\":\"2022-04-18T09:26:00.000Z\",\"lp\":3530.05,\"v\":3381636},{\"ts\":\"2022-04-18T09:27:00.000Z\",\"lp\":3529.95,\"v\":3388262},{\"ts\":\"2022-04-18T09:28:00.000Z\",\"lp\":3529.95,\"v\":3394181},{\"ts\":\"2022-04-18T09:29:00.000Z\",\"lp\":3530.05,\"v\":3402125},{\"ts\":\"2022-04-18T09:30:00.000Z\",\"lp\":3531,\"v\":3413258},{\"ts\":\"2022-04-18T09:31:00.000Z\",\"lp\":3528.4,\"v\":3423572},{\"ts\":\"2022-04-18T09:32:00.000Z\",\"lp\":3527.45,\"v\":3446861},{\"ts\":\"2022-04-18T09:33:00.000Z\",\"lp\":3527.7,\"v\":3457467},{\"ts\":\"2022-04-18T09:34:00.000Z\",\"lp\":3526.15,\"v\":3474492},{\"ts\":\"2022-04-18T09:35:00.000Z\",\"lp\":3525.05,\"v\":3483397},{\"ts\":\"2022-04-18T09:36:00.000Z\",\"lp\":3525.1,\"v\":3497807},{\"ts\":\"2022-04-18T09:37:00.000Z\",\"lp\":3525.15,\"v\":3507143},{\"ts\":\"2022-04-18T09:38:00.000Z\",\"lp\":3525.5,\"v\":3517613},{\"ts\":\"2022-04-18T09:39:00.000Z\",\"lp\":3525.6,\"v\":3525501},{\"ts\":\"2022-04-18T09:40:00.000Z\",\"lp\":3527.1,\"v\":3537364},{\"ts\":\"2022-04-18T09:41:00.000Z\",\"lp\":3525.2,\"v\":3566090},{\"ts\":\"2022-04-18T09:42:00.000Z\",\"lp\":3526.35,\"v\":3580835},{\"ts\":\"2022-04-18T09:43:00.000Z\",\"lp\":3527.85,\"v\":3592235},{\"ts\":\"2022-04-18T09:44:00.000Z\",\"lp\":3530,\"v\":3609333},{\"ts\":\"2022-04-18T09:45:00.000Z\",\"lp\":3531.7,\"v\":3626423},{\"ts\":\"2022-04-18T09:46:00.000Z\",\"lp\":3531,\"v\":3639221},{\"ts\":\"2022-04-18T09:47:00.000Z\",\"lp\":3530.2,\"v\":3651531},{\"ts\":\"2022-04-18T09:48:00.000Z\",\"lp\":3529.7,\"v\":3667589},{\"ts\":\"2022-04-18T09:49:00.000Z\",\"lp\":3528.85,\"v\":3681495},{\"ts\":\"2022-04-18T09:50:00.000Z\",\"lp\":3527.1,\"v\":3723229},{\"ts\":\"2022-04-18T09:51:00.000Z\",\"lp\":3530,\"v\":3737133},{\"ts\":\"2022-04-18T09:52:00.000Z\",\"lp\":3527.6,\"v\":3749018},{\"ts\":\"2022-04-18T09:53:00.000Z\",\"lp\":3529.3,\"v\":3760122},{\"ts\":\"2022-04-18T09:54:00.000Z\",\"lp\":3529.8,\"v\":3770136},{\"ts\":\"2022-04-18T09:55:00.000Z\",\"lp\":3529.4,\"v\":3777766},{\"ts\":\"2022-04-18T09:56:00.000Z\",\"lp\":3529.95,\"v\":3785197},{\"ts\":\"2022-04-18T09:57:00.000Z\",\"lp\":3530.8,\"v\":3794009},{\"ts\":\"2022-04-18T09:58:00.000Z\",\"lp\":3528.3,\"v\":3812078},{\"ts\":\"2022-04-18T09:59:00.000Z\",\"lp\":3528.05,\"v\":3820050}]}],\"error\":null}'"
            ],
            "application/vnd.google.colaboratory.intrinsic+json": {
              "type": "string"
            }
          },
          "metadata": {},
          "execution_count": 18
        }
      ]
    },
    {
      "cell_type": "code",
      "source": [
        "# chartData.json()['data'][0]['points'][0]['lp']\n",
        "x = [dt.datetime.strptime(data['ts'],'%Y-%m-%dT%H:%M:%S.%fZ') for data in chartData.json()['data'][0]['points']]\n",
        "y = [data['lp'] for data in chartData.json()['data'][0]['points']]\n",
        "\n",
        "plt.plot(x, y)\n",
        "plt.show()"
      ],
      "metadata": {
        "colab": {
          "base_uri": "https://localhost:8080/",
          "height": 265
        },
        "id": "TpDTe_DXEnj3",
        "outputId": "a172fb4f-7232-4557-f10a-903fcc1cf64e"
      },
      "execution_count": 19,
      "outputs": [
        {
          "output_type": "display_data",
          "data": {
            "text/plain": [
              "<Figure size 432x288 with 1 Axes>"
            ],
            "image/png": "[encoded data removed]"
          },
          "metadata": {
            "needs_background": "light"
          }
        }
      ]
    },
    {
      "cell_type": "code",
      "source": [
        "rawData = pd.DataFrame(chartData.json()['data'][0]['points'])\n",
        "rawData['ts']= pd.to_datetime(rawData['ts'])\n",
        "rawData.info()"
      ],
      "metadata": {
        "colab": {
          "base_uri": "https://localhost:8080/"
        },
        "id": "on9xpX6II9R3",
        "outputId": "c34ad921-ee90-4be3-cae4-4a021e8c404b"
      },
      "execution_count": 20,
      "outputs": [
        {
          "output_type": "stream",
          "name": "stdout",
          "text": [
            "<class 'pandas.core.frame.DataFrame'>\n",
            "RangeIndex: 375 entries, 0 to 374\n",
            "Data columns (total 3 columns):\n",
            " #   Column  Non-Null Count  Dtype              \n",
            "---  ------  --------------  -----              \n",
            " 0   ts      375 non-null    datetime64[ns, UTC]\n",
            " 1   lp      375 non-null    float64            \n",
            " 2   v       375 non-null    int64              \n",
            "dtypes: datetime64[ns, UTC](1), float64(1), int64(1)\n",
            "memory usage: 8.9 KB\n"
          ]
        }
      ]
    },
    {
      "cell_type": "code",
      "source": [
        "fig = px.line(rawData, x='ts', y=\"lp\")\n",
        "fig.show()"
      ],
      "metadata": {
        "colab": {
          "base_uri": "https://localhost:8080/",
          "height": 542
        },
        "id": "ftcOiWbIWg41",
        "outputId": "9a35ecdd-6443-4ea4-9445-0eb8d31809e3"
      },
      "execution_count": 21,
      "outputs": [
        {
          "output_type": "display_data",
          "data": {
            "text/html": [
              "<html>\n",
              "<head><meta charset=\"utf-8\" /></head>\n",
              "<body>\n",
              "    <div>            <script src=\"https://cdnjs.cloudflare.com/ajax/libs/mathjax/2.7.5/MathJax.js?config=TeX-AMS-MML_SVG\"></script><script type=\"text/javascript\">if (window.MathJax) {MathJax.Hub.Config({SVG: {font: \"STIX-Web\"}});}</script>                <script type=\"text/javascript\">window.PlotlyConfig = {MathJaxConfig: 'local'};</script>\n",
              "        <script src=\"https://cdn.plot.ly/plotly-2.8.3.min.js\"></script>                <div id=\"c10f81e3-215b-436b-b48e-220968a043a0\" class=\"plotly-graph-div\" style=\"height:525px; width:100%;\"></div>            <script type=\"text/javascript\">                                    window.PLOTLYENV=window.PLOTLYENV || {};                                    if (document.getElementById(\"c10f81e3-215b-436b-b48e-220968a043a0\")) {                    Plotly.newPlot(                        \"c10f81e3-215b-436b-b48e-220968a043a0\",                        [{\"hovertemplate\":\"ts=%{x}<br>lp=%{y}<extra></extra>\",\"legendgroup\":\"\",\"line\":{\"color\":\"#636efa\",\"dash\":\"solid\"},\"marker\":{\"symbol\":\"circle\"},\"mode\":\"lines\",\"name\":\"\",\"orientation\":\"v\",\"showlegend\":false,\"x\":[\"2022-04-18T03:46:00+00:00\",\"2022-04-18T03:47:00+00:00\",\"2022-04-18T03:48:00+00:00\",\"2022-04-18T03:49:00+00:00\",\"2022-04-18T03:50:00+00:00\",\"2022-04-18T03:51:00+00:00\",\"2022-04-18T03:52:00+00:00\",\"2022-04-18T03:53:00+00:00\",\"2022-04-18T03:54:00+00:00\",\"2022-04-18T03:55:00+00:00\",\"2022-04-18T03:56:00+00:00\",\"2022-04-18T03:57:00+00:00\",\"2022-04-18T03:58:00+00:00\",\"2022-04-18T03:59:00+00:00\",\"2022-04-18T04:00:00+00:00\",\"2022-04-18T04:01:00+00:00\",\"2022-04-18T04:02:00+00:00\",\"2022-04-18T04:03:00+00:00\",\"2022-04-18T04:04:00+00:00\",\"2022-04-18T04:05:00+00:00\",\"2022-04-18T04:06:00+00:00\",\"2022-04-18T04:07:00+00:00\",\"2022-04-18T04:08:00+00:00\",\"2022-04-18T04:09:00+00:00\",\"2022-04-18T04:10:00+00:00\",\"2022-04-18T04:11:00+00:00\",\"2022-04-18T04:12:00+00:00\",\"2022-04-18T04:13:00+00:00\",\"2022-04-18T04:14:00+00:00\",\"2022-04-18T04:15:00+00:00\",\"2022-04-18T04:16:00+00:00\",\"2022-04-18T04:17:00+00:00\",\"2022-04-18T04:18:00+00:00\",\"2022-04-18T04:19:00+00:00\",\"2022-04-18T04:20:00+00:00\",\"2022-04-18T04:21:00+00:00\",\"2022-04-18T04:22:00+00:00\",\"2022-04-18T04:23:00+00:00\",\"2022-04-18T04:24:00+00:00\",\"2022-04-18T04:25:00+00:00\",\"2022-04-18T04:26:00+00:00\",\"2022-04-18T04:27:00+00:00\",\"2022-04-18T04:28:00+00:00\",\"2022-04-18T04:29:00+00:00\",\"2022-04-18T04:30:00+00:00\",\"2022-04-18T04:31:00+00:00\",\"2022-04-18T04:32:00+00:00\",\"2022-04-18T04:33:00+00:00\",\"2022-04-18T04:34:00+00:00\",\"2022-04-18T04:35:00+00:00\",\"2022-04-18T04:36:00+00:00\",\"2022-04-18T04:37:00+00:00\",\"2022-04-18T04:38:00+00:00\",\"2022-04-18T04:39:00+00:00\",\"2022-04-18T04:40:00+00:00\",\"2022-04-18T04:41:00+00:00\",\"2022-04-18T04:42:00+00:00\",\"2022-04-18T04:43:00+00:00\",\"2022-04-18T04:44:00+00:00\",\"2022-04-18T04:45:00+00:00\",\"2022-04-18T04:46:00+00:00\",\"2022-04-18T04:47:00+00:00\",\"2022-04-18T04:48:00+00:00\",\"2022-04-18T04:49:00+00:00\",\"2022-04-18T04:50:00+00:00\",\"2022-04-18T04:51:00+00:00\",\"2022-04-18T04:52:00+00:00\",\"2022-04-18T04:53:00+00:00\",\"2022-04-18T04:54:00+00:00\",\"2022-04-18T04:55:00+00:00\",\"2022-04-18T04:56:00+00:00\",\"2022-04-18T04:57:00+00:00\",\"2022-04-18T04:58:00+00:00\",\"2022-04-18T04:59:00+00:00\",\"2022-04-18T05:00:00+00:00\",\"2022-04-18T05:01:00+00:00\",\"2022-04-18T05:02:00+00:00\",\"2022-04-18T05:03:00+00:00\",\"2022-04-18T05:04:00+00:00\",\"2022-04-18T05:05:00+00:00\",\"2022-04-18T05:06:00+00:00\",\"2022-04-18T05:07:00+00:00\",\"2022-04-18T05:08:00+00:00\",\"2022-04-18T05:09:00+00:00\",\"2022-04-18T05:10:00+00:00\",\"2022-04-18T05:11:00+00:00\",\"2022-04-18T05:12:00+00:00\",\"2022-04-18T05:13:00+00:00\",\"2022-04-18T05:14:00+00:00\",\"2022-04-18T05:15:00+00:00\",\"2022-04-18T05:16:00+00:00\",\"2022-04-18T05:17:00+00:00\",\"2022-04-18T05:18:00+00:00\",\"2022-04-18T05:19:00+00:00\",\"2022-04-18T05:20:00+00:00\",\"2022-04-18T05:21:00+00:00\",\"2022-04-18T05:22:00+00:00\",\"2022-04-18T05:23:00+00:00\",\"2022-04-18T05:24:00+00:00\",\"2022-04-18T05:25:00+00:00\",\"2022-04-18T05:26:00+00:00\",\"2022-04-18T05:27:00+00:00\",\"2022-04-18T05:28:00+00:00\",\"2022-04-18T05:29:00+00:00\",\"2022-04-18T05:30:00+00:00\",\"2022-04-18T05:31:00+00:00\",\"2022-04-18T05:32:00+00:00\",\"2022-04-18T05:33:00+00:00\",\"2022-04-18T05:34:00+00:00\",\"2022-04-18T05:35:00+00:00\",\"2022-04-18T05:36:00+00:00\",\"2022-04-18T05:37:00+00:00\",\"2022-04-18T05:38:00+00:00\",\"2022-04-18T05:39:00+00:00\",\"2022-04-18T05:40:00+00:00\",\"2022-04-18T05:41:00+00:00\",\"2022-04-18T05:42:00+00:00\",\"2022-04-18T05:43:00+00:00\",\"2022-04-18T05:44:00+00:00\",\"2022-04-18T05:45:00+00:00\",\"2022-04-18T05:46:00+00:00\",\"2022-04-18T05:47:00+00:00\",\"2022-04-18T05:48:00+00:00\",\"2022-04-18T05:49:00+00:00\",\"2022-04-18T05:50:00+00:00\",\"2022-04-18T05:50:00+00:00\",\"2022-04-18T05:51:00+00:00\",\"2022-04-18T05:52:00+00:00\",\"2022-04-18T05:53:00+00:00\",\"2022-04-18T05:54:00+00:00\",\"2022-04-18T05:55:00+00:00\",\"2022-04-18T05:56:00+00:00\",\"2022-04-18T05:57:00+00:00\",\"2022-04-18T05:58:00+00:00\",\"2022-04-18T05:59:00+00:00\",\"2022-04-18T06:00:00+00:00\",\"2022-04-18T06:01:00+00:00\",\"2022-04-18T06:02:00+00:00\",\"2022-04-18T06:03:00+00:00\",\"2022-04-18T06:04:00+00:00\",\"2022-04-18T06:05:00+00:00\",\"2022-04-18T06:06:00+00:00\",\"2022-04-18T06:07:00+00:00\",\"2022-04-18T06:08:00+00:00\",\"2022-04-18T06:09:00+00:00\",\"2022-04-18T06:10:00+00:00\",\"2022-04-18T06:11:00+00:00\",\"2022-04-18T06:12:00+00:00\",\"2022-04-18T06:13:00+00:00\",\"2022-04-18T06:14:00+00:00\",\"2022-04-18T06:15:00+00:00\",\"2022-04-18T06:16:00+00:00\",\"2022-04-18T06:17:00+00:00\",\"2022-04-18T06:18:00+00:00\",\"2022-04-18T06:19:00+00:00\",\"2022-04-18T06:20:00+00:00\",\"2022-04-18T06:21:00+00:00\",\"2022-04-18T06:22:00+00:00\",\"2022-04-18T06:23:00+00:00\",\"2022-04-18T06:24:00+00:00\",\"2022-04-18T06:25:00+00:00\",\"2022-04-18T06:26:00+00:00\",\"2022-04-18T06:27:00+00:00\",\"2022-04-18T06:28:00+00:00\",\"2022-04-18T06:29:00+00:00\",\"2022-04-18T06:30:00+00:00\",\"2022-04-18T06:31:00+00:00\",\"2022-04-18T06:32:00+00:00\",\"2022-04-18T06:33:00+00:00\",\"2022-04-18T06:34:00+00:00\",\"2022-04-18T06:35:00+00:00\",\"2022-04-18T06:36:00+00:00\",\"2022-04-18T06:37:00+00:00\",\"2022-04-18T06:38:00+00:00\",\"2022-04-18T06:39:00+00:00\",\"2022-04-18T06:40:00+00:00\",\"2022-04-18T06:41:00+00:00\",\"2022-04-18T06:42:00+00:00\",\"2022-04-18T06:43:00+00:00\",\"2022-04-18T06:44:00+00:00\",\"2022-04-18T06:45:00+00:00\",\"2022-04-18T06:46:00+00:00\",\"2022-04-18T06:47:00+00:00\",\"2022-04-18T06:48:00+00:00\",\"2022-04-18T06:49:00+00:00\",\"2022-04-18T06:50:00+00:00\",\"2022-04-18T06:51:00+00:00\",\"2022-04-18T06:52:00+00:00\",\"2022-04-18T06:53:00+00:00\",\"2022-04-18T06:54:00+00:00\",\"2022-04-18T06:55:00+00:00\",\"2022-04-18T06:56:00+00:00\",\"2022-04-18T06:57:00+00:00\",\"2022-04-18T06:58:00+00:00\",\"2022-04-18T06:59:00+00:00\",\"2022-04-18T07:00:00+00:00\",\"2022-04-18T07:01:00+00:00\",\"2022-04-18T07:02:00+00:00\",\"2022-04-18T07:03:00+00:00\",\"2022-04-18T07:04:00+00:00\",\"2022-04-18T07:05:00+00:00\",\"2022-04-18T07:06:00+00:00\",\"2022-04-18T07:07:00+00:00\",\"2022-04-18T07:08:00+00:00\",\"2022-04-18T07:09:00+00:00\",\"2022-04-18T07:10:00+00:00\",\"2022-04-18T07:11:00+00:00\",\"2022-04-18T07:12:00+00:00\",\"2022-04-18T07:13:00+00:00\",\"2022-04-18T07:14:00+00:00\",\"2022-04-18T07:15:00+00:00\",\"2022-04-18T07:16:00+00:00\",\"2022-04-18T07:17:00+00:00\",\"2022-04-18T07:18:00+00:00\",\"2022-04-18T07:19:00+00:00\",\"2022-04-18T07:20:00+00:00\",\"2022-04-18T07:21:00+00:00\",\"2022-04-18T07:22:00+00:00\",\"2022-04-18T07:23:00+00:00\",\"2022-04-18T07:24:00+00:00\",\"2022-04-18T07:25:00+00:00\",\"2022-04-18T07:26:00+00:00\",\"2022-04-18T07:27:00+00:00\",\"2022-04-18T07:28:00+00:00\",\"2022-04-18T07:29:00+00:00\",\"2022-04-18T07:30:00+00:00\",\"2022-04-18T07:31:00+00:00\",\"2022-04-18T07:32:00+00:00\",\"2022-04-18T07:33:00+00:00\",\"2022-04-18T07:34:00+00:00\",\"2022-04-18T07:35:00+00:00\",\"2022-04-18T07:36:00+00:00\",\"2022-04-18T07:37:00+00:00\",\"2022-04-18T07:38:00+00:00\",\"2022-04-18T07:39:00+00:00\",\"2022-04-18T07:40:00+00:00\",\"2022-04-18T07:41:00+00:00\",\"2022-04-18T07:42:00+00:00\",\"2022-04-18T07:43:00+00:00\",\"2022-04-18T07:44:00+00:00\",\"2022-04-18T07:45:00+00:00\",\"2022-04-18T07:46:00+00:00\",\"2022-04-18T07:47:00+00:00\",\"2022-04-18T07:48:00+00:00\",\"2022-04-18T07:49:00+00:00\",\"2022-04-18T07:50:00+00:00\",\"2022-04-18T07:51:00+00:00\",\"2022-04-18T07:52:00+00:00\",\"2022-04-18T07:53:00+00:00\",\"2022-04-18T07:54:00+00:00\",\"2022-04-18T07:55:00+00:00\",\"2022-04-18T07:56:00+00:00\",\"2022-04-18T07:57:00+00:00\",\"2022-04-18T07:58:00+00:00\",\"2022-04-18T07:59:00+00:00\",\"2022-04-18T08:00:00+00:00\",\"2022-04-18T08:01:00+00:00\",\"2022-04-18T08:02:00+00:00\",\"2022-04-18T08:03:00+00:00\",\"2022-04-18T08:04:00+00:00\",\"2022-04-18T08:05:00+00:00\",\"2022-04-18T08:06:00+00:00\",\"2022-04-18T08:07:00+00:00\",\"2022-04-18T08:08:00+00:00\",\"2022-04-18T08:09:00+00:00\",\"2022-04-18T08:10:00+00:00\",\"2022-04-18T08:11:00+00:00\",\"2022-04-18T08:12:00+00:00\",\"2022-04-18T08:13:00+00:00\",\"2022-04-18T08:14:00+00:00\",\"2022-04-18T08:15:00+00:00\",\"2022-04-18T08:16:00+00:00\",\"2022-04-18T08:17:00+00:00\",\"2022-04-18T08:18:00+00:00\",\"2022-04-18T08:19:00+00:00\",\"2022-04-18T08:20:00+00:00\",\"2022-04-18T08:21:00+00:00\",\"2022-04-18T08:22:00+00:00\",\"2022-04-18T08:23:00+00:00\",\"2022-04-18T08:24:00+00:00\",\"2022-04-18T08:25:00+00:00\",\"2022-04-18T08:26:00+00:00\",\"2022-04-18T08:27:00+00:00\",\"2022-04-18T08:28:00+00:00\",\"2022-04-18T08:29:00+00:00\",\"2022-04-18T08:30:00+00:00\",\"2022-04-18T08:31:00+00:00\",\"2022-04-18T08:32:00+00:00\",\"2022-04-18T08:33:00+00:00\",\"2022-04-18T08:34:00+00:00\",\"2022-04-18T08:35:00+00:00\",\"2022-04-18T08:36:00+00:00\",\"2022-04-18T08:37:00+00:00\",\"2022-04-18T08:38:00+00:00\",\"2022-04-18T08:39:00+00:00\",\"2022-04-18T08:40:00+00:00\",\"2022-04-18T08:41:00+00:00\",\"2022-04-18T08:42:00+00:00\",\"2022-04-18T08:43:00+00:00\",\"2022-04-18T08:44:00+00:00\",\"2022-04-18T08:45:00+00:00\",\"2022-04-18T08:46:00+00:00\",\"2022-04-18T08:47:00+00:00\",\"2022-04-18T08:48:00+00:00\",\"2022-04-18T08:49:00+00:00\",\"2022-04-18T08:50:00+00:00\",\"2022-04-18T08:51:00+00:00\",\"2022-04-18T08:52:00+00:00\",\"2022-04-18T08:53:00+00:00\",\"2022-04-18T08:54:00+00:00\",\"2022-04-18T08:55:00+00:00\",\"2022-04-18T08:56:00+00:00\",\"2022-04-18T08:57:00+00:00\",\"2022-04-18T08:58:00+00:00\",\"2022-04-18T08:59:00+00:00\",\"2022-04-18T09:00:00+00:00\",\"2022-04-18T09:01:00+00:00\",\"2022-04-18T09:02:00+00:00\",\"2022-04-18T09:03:00+00:00\",\"2022-04-18T09:04:00+00:00\",\"2022-04-18T09:05:00+00:00\",\"2022-04-18T09:06:00+00:00\",\"2022-04-18T09:07:00+00:00\",\"2022-04-18T09:08:00+00:00\",\"2022-04-18T09:09:00+00:00\",\"2022-04-18T09:10:00+00:00\",\"2022-04-18T09:11:00+00:00\",\"2022-04-18T09:12:00+00:00\",\"2022-04-18T09:13:00+00:00\",\"2022-04-18T09:14:00+00:00\",\"2022-04-18T09:15:00+00:00\",\"2022-04-18T09:16:00+00:00\",\"2022-04-18T09:17:00+00:00\",\"2022-04-18T09:18:00+00:00\",\"2022-04-18T09:19:00+00:00\",\"2022-04-18T09:20:00+00:00\",\"2022-04-18T09:21:00+00:00\",\"2022-04-18T09:22:00+00:00\",\"2022-04-18T09:23:00+00:00\",\"2022-04-18T09:24:00+00:00\",\"2022-04-18T09:25:00+00:00\",\"2022-04-18T09:26:00+00:00\",\"2022-04-18T09:27:00+00:00\",\"2022-04-18T09:28:00+00:00\",\"2022-04-18T09:29:00+00:00\",\"2022-04-18T09:30:00+00:00\",\"2022-04-18T09:31:00+00:00\",\"2022-04-18T09:32:00+00:00\",\"2022-04-18T09:33:00+00:00\",\"2022-04-18T09:34:00+00:00\",\"2022-04-18T09:35:00+00:00\",\"2022-04-18T09:36:00+00:00\",\"2022-04-18T09:37:00+00:00\",\"2022-04-18T09:38:00+00:00\",\"2022-04-18T09:39:00+00:00\",\"2022-04-18T09:40:00+00:00\",\"2022-04-18T09:41:00+00:00\",\"2022-04-18T09:42:00+00:00\",\"2022-04-18T09:43:00+00:00\",\"2022-04-18T09:44:00+00:00\",\"2022-04-18T09:45:00+00:00\",\"2022-04-18T09:46:00+00:00\",\"2022-04-18T09:47:00+00:00\",\"2022-04-18T09:48:00+00:00\",\"2022-04-18T09:49:00+00:00\",\"2022-04-18T09:50:00+00:00\",\"2022-04-18T09:51:00+00:00\",\"2022-04-18T09:52:00+00:00\",\"2022-04-18T09:53:00+00:00\",\"2022-04-18T09:54:00+00:00\",\"2022-04-18T09:55:00+00:00\",\"2022-04-18T09:56:00+00:00\",\"2022-04-18T09:57:00+00:00\",\"2022-04-18T09:58:00+00:00\",\"2022-04-18T09:59:00+00:00\"],\"xaxis\":\"x\",\"y\":[3585.8,3577.75,3583.35,3581.5,3585.15,3591.7,3589.0,3593.25,3584.1,3579.3,3575.0,3574.5,3571.9,3567.35,3554.1,3544.65,3544.95,3541.65,3537.4,3541.85,3544.45,3548.0,3543.75,3547.7,3553.5,3549.9,3549.0,3552.0,3552.1,3549.95,3550.0,3555.0,3558.1,3560.95,3559.95,3559.95,3558.75,3558.0,3557.45,3554.8,3554.65,3558.55,3559.3,3559.95,3560.0,3562.45,3561.4,3559.95,3556.8,3557.0,3558.65,3554.3,3550.25,3549.4,3541.85,3546.9,3545.25,3549.0,3549.4,3549.35,3548.25,3549.5,3547.5,3549.9,3549.85,3555.3,3555.85,3557.45,3557.0,3557.95,3555.7,3558.0,3557.0,3555.9,3557.45,3556.5,3556.0,3556.5,3555.1,3556.5,3556.5,3555.95,3556.0,3555.6,3557.4,3557.0,3559.0,3558.85,3558.9,3558.55,3557.55,3558.0,3559.95,3559.0,3557.95,3557.35,3558.05,3556.45,3558.0,3558.85,3555.8,3552.35,3555.5,3556.15,3551.85,3554.45,3554.95,3553.25,3553.3,3554.7,3552.95,3553.5,3554.5,3554.0,3555.15,3556.5,3555.4,3556.9,3557.8,3557.3,3558.0,3553.0,3550.05,3543.75,3545.45,3546.75,3549.9,3550.15,3550.55,3552.7,3551.65,3554.9,3552.8,3552.05,3552.4,3554.6,3553.05,3549.65,3550.0,3549.0,3549.25,3550.0,3547.6,3549.6,3547.75,3548.6,3549.15,3549.25,3550.15,3549.5,3550.0,3549.05,3548.25,3550.05,3549.5,3550.0,3549.0,3548.8,3550.0,3549.35,3549.8,3551.75,3549.85,3549.7,3549.9,3547.4,3549.5,3548.1,3546.6,3546.4,3546.5,3546.55,3547.1,3543.8,3544.0,3542.1,3542.5,3542.6,3542.95,3541.7,3538.5,3536.0,3540.0,3542.55,3542.0,3540.65,3537.85,3538.0,3536.65,3536.9,3536.3,3533.35,3532.0,3532.4,3532.0,3530.9,3529.8,3532.9,3532.1,3533.05,3533.8,3533.05,3532.55,3530.45,3529.9,3529.65,3530.0,3530.0,3530.85,3530.5,3530.4,3529.95,3530.95,3532.2,3532.25,3533.1,3532.35,3530.4,3530.0,3530.0,3529.35,3530.0,3529.85,3529.7,3529.65,3530.0,3530.0,3530.0,3529.25,3529.45,3530.0,3530.0,3529.6,3529.85,3529.35,3529.7,3529.35,3530.0,3529.9,3529.15,3531.1,3531.75,3531.65,3532.35,3532.75,3532.05,3531.95,3531.75,3535.8,3534.5,3534.35,3534.3,3534.0,3533.55,3531.95,3533.3,3534.0,3535.9,3531.85,3535.0,3534.5,3537.05,3539.75,3538.9,3538.15,3540.85,3538.45,3539.55,3540.0,3539.65,3541.9,3541.45,3541.6,3542.0,3535.15,3541.45,3541.8,3541.75,3541.0,3542.15,3542.0,3541.05,3540.6,3540.8,3542.0,3544.0,3542.1,3542.2,3543.0,3543.5,3544.7,3544.2,3544.25,3544.05,3545.0,3546.0,3545.5,3544.3,3544.95,3545.0,3545.0,3546.2,3545.0,3547.0,3546.55,3546.2,3546.8,3545.4,3543.3,3543.95,3543.4,3540.65,3539.8,3539.7,3539.8,3539.95,3539.25,3538.1,3535.05,3535.9,3538.8,3537.15,3534.4,3535.0,3533.1,3533.55,3534.45,3533.85,3534.5,3533.85,3535.05,3535.15,3534.95,3533.65,3530.6,3531.5,3533.05,3533.05,3531.0,3529.0,3529.15,3530.05,3529.95,3529.95,3530.05,3531.0,3528.4,3527.45,3527.7,3526.15,3525.05,3525.1,3525.15,3525.5,3525.6,3527.1,3525.2,3526.35,3527.85,3530.0,3531.7,3531.0,3530.2,3529.7,3528.85,3527.1,3530.0,3527.6,3529.3,3529.8,3529.4,3529.95,3530.8,3528.3,3528.05],\"yaxis\":\"y\",\"type\":\"scatter\"}],                        {\"template\":{\"data\":{\"bar\":[{\"error_x\":{\"color\":\"#2a3f5f\"},\"error_y\":{\"color\":\"#2a3f5f\"},\"marker\":{\"line\":{\"color\":\"#E5ECF6\",\"width\":0.5},\"pattern\":{\"fillmode\":\"overlay\",\"size\":10,\"solidity\":0.2}},\"type\":\"bar\"}],\"barpolar\":[{\"marker\":{\"line\":{\"color\":\"#E5ECF6\",\"width\":0.5},\"pattern\":{\"fillmode\":\"overlay\",\"size\":10,\"solidity\":0.2}},\"type\":\"barpolar\"}],\"carpet\":[{\"aaxis\":{\"endlinecolor\":\"#2a3f5f\",\"gridcolor\":\"white\",\"linecolor\":\"white\",\"minorgridcolor\":\"white\",\"startlinecolor\":\"#2a3f5f\"},\"baxis\":{\"endlinecolor\":\"#2a3f5f\",\"gridcolor\":\"white\",\"linecolor\":\"white\",\"minorgridcolor\":\"white\",\"startlinecolor\":\"#2a3f5f\"},\"type\":\"carpet\"}],\"choropleth\":[{\"colorbar\":{\"outlinewidth\":0,\"ticks\":\"\"},\"type\":\"choropleth\"}],\"contour\":[{\"colorbar\":{\"outlinewidth\":0,\"ticks\":\"\"},\"colorscale\":[[0.0,\"#0d0887\"],[0.1111111111111111,\"#46039f\"],[0.2222222222222222,\"#7201a8\"],[0.3333333333333333,\"#9c179e\"],[0.4444444444444444,\"#bd3786\"],[0.5555555555555556,\"#d8576b\"],[0.6666666666666666,\"#ed7953\"],[0.7777777777777778,\"#fb9f3a\"],[0.8888888888888888,\"#fdca26\"],[1.0,\"#f0f921\"]],\"type\":\"contour\"}],\"contourcarpet\":[{\"colorbar\":{\"outlinewidth\":0,\"ticks\":\"\"},\"type\":\"contourcarpet\"}],\"heatmap\":[{\"colorbar\":{\"outlinewidth\":0,\"ticks\":\"\"},\"colorscale\":[[0.0,\"#0d0887\"],[0.1111111111111111,\"#46039f\"],[0.2222222222222222,\"#7201a8\"],[0.3333333333333333,\"#9c179e\"],[0.4444444444444444,\"#bd3786\"],[0.5555555555555556,\"#d8576b\"],[0.6666666666666666,\"#ed7953\"],[0.7777777777777778,\"#fb9f3a\"],[0.8888888888888888,\"#fdca26\"],[1.0,\"#f0f921\"]],\"type\":\"heatmap\"}],\"heatmapgl\":[{\"colorbar\":{\"outlinewidth\":0,\"ticks\":\"\"},\"colorscale\":[[0.0,\"#0d0887\"],[0.1111111111111111,\"#46039f\"],[0.2222222222222222,\"#7201a8\"],[0.3333333333333333,\"#9c179e\"],[0.4444444444444444,\"#bd3786\"],[0.5555555555555556,\"#d8576b\"],[0.6666666666666666,\"#ed7953\"],[0.7777777777777778,\"#fb9f3a\"],[0.8888888888888888,\"#fdca26\"],[1.0,\"#f0f921\"]],\"type\":\"heatmapgl\"}],\"histogram\":[{\"marker\":{\"pattern\":{\"fillmode\":\"overlay\",\"size\":10,\"solidity\":0.2}},\"type\":\"histogram\"}],\"histogram2d\":[{\"colorbar\":{\"outlinewidth\":0,\"ticks\":\"\"},\"colorscale\":[[0.0,\"#0d0887\"],[0.1111111111111111,\"#46039f\"],[0.2222222222222222,\"#7201a8\"],[0.3333333333333333,\"#9c179e\"],[0.4444444444444444,\"#bd3786\"],[0.5555555555555556,\"#d8576b\"],[0.6666666666666666,\"#ed7953\"],[0.7777777777777778,\"#fb9f3a\"],[0.8888888888888888,\"#fdca26\"],[1.0,\"#f0f921\"]],\"type\":\"histogram2d\"}],\"histogram2dcontour\":[{\"colorbar\":{\"outlinewidth\":0,\"ticks\":\"\"},\"colorscale\":[[0.0,\"#0d0887\"],[0.1111111111111111,\"#46039f\"],[0.2222222222222222,\"#7201a8\"],[0.3333333333333333,\"#9c179e\"],[0.4444444444444444,\"#bd3786\"],[0.5555555555555556,\"#d8576b\"],[0.6666666666666666,\"#ed7953\"],[0.7777777777777778,\"#fb9f3a\"],[0.8888888888888888,\"#fdca26\"],[1.0,\"#f0f921\"]],\"type\":\"histogram2dcontour\"}],\"mesh3d\":[{\"colorbar\":{\"outlinewidth\":0,\"ticks\":\"\"},\"type\":\"mesh3d\"}],\"parcoords\":[{\"line\":{\"colorbar\":{\"outlinewidth\":0,\"ticks\":\"\"}},\"type\":\"parcoords\"}],\"pie\":[{\"automargin\":true,\"type\":\"pie\"}],\"scatter\":[{\"marker\":{\"colorbar\":{\"outlinewidth\":0,\"ticks\":\"\"}},\"type\":\"scatter\"}],\"scatter3d\":[{\"line\":{\"colorbar\":{\"outlinewidth\":0,\"ticks\":\"\"}},\"marker\":{\"colorbar\":{\"outlinewidth\":0,\"ticks\":\"\"}},\"type\":\"scatter3d\"}],\"scattercarpet\":[{\"marker\":{\"colorbar\":{\"outlinewidth\":0,\"ticks\":\"\"}},\"type\":\"scattercarpet\"}],\"scattergeo\":[{\"marker\":{\"colorbar\":{\"outlinewidth\":0,\"ticks\":\"\"}},\"type\":\"scattergeo\"}],\"scattergl\":[{\"marker\":{\"colorbar\":{\"outlinewidth\":0,\"ticks\":\"\"}},\"type\":\"scattergl\"}],\"scattermapbox\":[{\"marker\":{\"colorbar\":{\"outlinewidth\":0,\"ticks\":\"\"}},\"type\":\"scattermapbox\"}],\"scatterpolar\":[{\"marker\":{\"colorbar\":{\"outlinewidth\":0,\"ticks\":\"\"}},\"type\":\"scatterpolar\"}],\"scatterpolargl\":[{\"marker\":{\"colorbar\":{\"outlinewidth\":0,\"ticks\":\"\"}},\"type\":\"scatterpolargl\"}],\"scatterternary\":[{\"marker\":{\"colorbar\":{\"outlinewidth\":0,\"ticks\":\"\"}},\"type\":\"scatterternary\"}],\"surface\":[{\"colorbar\":{\"outlinewidth\":0,\"ticks\":\"\"},\"colorscale\":[[0.0,\"#0d0887\"],[0.1111111111111111,\"#46039f\"],[0.2222222222222222,\"#7201a8\"],[0.3333333333333333,\"#9c179e\"],[0.4444444444444444,\"#bd3786\"],[0.5555555555555556,\"#d8576b\"],[0.6666666666666666,\"#ed7953\"],[0.7777777777777778,\"#fb9f3a\"],[0.8888888888888888,\"#fdca26\"],[1.0,\"#f0f921\"]],\"type\":\"surface\"}],\"table\":[{\"cells\":{\"fill\":{\"color\":\"#EBF0F8\"},\"line\":{\"color\":\"white\"}},\"header\":{\"fill\":{\"color\":\"#C8D4E3\"},\"line\":{\"color\":\"white\"}},\"type\":\"table\"}]},\"layout\":{\"annotationdefaults\":{\"arrowcolor\":\"#2a3f5f\",\"arrowhead\":0,\"arrowwidth\":1},\"autotypenumbers\":\"strict\",\"coloraxis\":{\"colorbar\":{\"outlinewidth\":0,\"ticks\":\"\"}},\"colorscale\":{\"diverging\":[[0,\"#8e0152\"],[0.1,\"#c51b7d\"],[0.2,\"#de77ae\"],[0.3,\"#f1b6da\"],[0.4,\"#fde0ef\"],[0.5,\"#f7f7f7\"],[0.6,\"#e6f5d0\"],[0.7,\"#b8e186\"],[0.8,\"#7fbc41\"],[0.9,\"#4d9221\"],[1,\"#276419\"]],\"sequential\":[[0.0,\"#0d0887\"],[0.1111111111111111,\"#46039f\"],[0.2222222222222222,\"#7201a8\"],[0.3333333333333333,\"#9c179e\"],[0.4444444444444444,\"#bd3786\"],[0.5555555555555556,\"#d8576b\"],[0.6666666666666666,\"#ed7953\"],[0.7777777777777778,\"#fb9f3a\"],[0.8888888888888888,\"#fdca26\"],[1.0,\"#f0f921\"]],\"sequentialminus\":[[0.0,\"#0d0887\"],[0.1111111111111111,\"#46039f\"],[0.2222222222222222,\"#7201a8\"],[0.3333333333333333,\"#9c179e\"],[0.4444444444444444,\"#bd3786\"],[0.5555555555555556,\"#d8576b\"],[0.6666666666666666,\"#ed7953\"],[0.7777777777777778,\"#fb9f3a\"],[0.8888888888888888,\"#fdca26\"],[1.0,\"#f0f921\"]]},\"colorway\":[\"#636efa\",\"#EF553B\",\"#00cc96\",\"#ab63fa\",\"#FFA15A\",\"#19d3f3\",\"#FF6692\",\"#B6E880\",\"#FF97FF\",\"#FECB52\"],\"font\":{\"color\":\"#2a3f5f\"},\"geo\":{\"bgcolor\":\"white\",\"lakecolor\":\"white\",\"landcolor\":\"#E5ECF6\",\"showlakes\":true,\"showland\":true,\"subunitcolor\":\"white\"},\"hoverlabel\":{\"align\":\"left\"},\"hovermode\":\"closest\",\"mapbox\":{\"style\":\"light\"},\"paper_bgcolor\":\"white\",\"plot_bgcolor\":\"#E5ECF6\",\"polar\":{\"angularaxis\":{\"gridcolor\":\"white\",\"linecolor\":\"white\",\"ticks\":\"\"},\"bgcolor\":\"#E5ECF6\",\"radialaxis\":{\"gridcolor\":\"white\",\"linecolor\":\"white\",\"ticks\":\"\"}},\"scene\":{\"xaxis\":{\"backgroundcolor\":\"#E5ECF6\",\"gridcolor\":\"white\",\"gridwidth\":2,\"linecolor\":\"white\",\"showbackground\":true,\"ticks\":\"\",\"zerolinecolor\":\"white\"},\"yaxis\":{\"backgroundcolor\":\"#E5ECF6\",\"gridcolor\":\"white\",\"gridwidth\":2,\"linecolor\":\"white\",\"showbackground\":true,\"ticks\":\"\",\"zerolinecolor\":\"white\"},\"zaxis\":{\"backgroundcolor\":\"#E5ECF6\",\"gridcolor\":\"white\",\"gridwidth\":2,\"linecolor\":\"white\",\"showbackground\":true,\"ticks\":\"\",\"zerolinecolor\":\"white\"}},\"shapedefaults\":{\"line\":{\"color\":\"#2a3f5f\"}},\"ternary\":{\"aaxis\":{\"gridcolor\":\"white\",\"linecolor\":\"white\",\"ticks\":\"\"},\"baxis\":{\"gridcolor\":\"white\",\"linecolor\":\"white\",\"ticks\":\"\"},\"bgcolor\":\"#E5ECF6\",\"caxis\":{\"gridcolor\":\"white\",\"linecolor\":\"white\",\"ticks\":\"\"}},\"title\":{\"x\":0.05},\"xaxis\":{\"automargin\":true,\"gridcolor\":\"white\",\"linecolor\":\"white\",\"ticks\":\"\",\"title\":{\"standoff\":15},\"zerolinecolor\":\"white\",\"zerolinewidth\":2},\"yaxis\":{\"automargin\":true,\"gridcolor\":\"white\",\"linecolor\":\"white\",\"ticks\":\"\",\"title\":{\"standoff\":15},\"zerolinecolor\":\"white\",\"zerolinewidth\":2}}},\"xaxis\":{\"anchor\":\"y\",\"domain\":[0.0,1.0],\"title\":{\"text\":\"ts\"}},\"yaxis\":{\"anchor\":\"x\",\"domain\":[0.0,1.0],\"title\":{\"text\":\"lp\"}},\"legend\":{\"tracegroupgap\":0},\"margin\":{\"t\":60}},                        {\"responsive\": true}                    ).then(function(){\n",
              "                            \n",
              "var gd = document.getElementById('c10f81e3-215b-436b-b48e-220968a043a0');\n",
              "var x = new MutationObserver(function (mutations, observer) {{\n",
              "        var display = window.getComputedStyle(gd).display;\n",
              "        if (!display || display === 'none') {{\n",
              "            console.log([gd, 'removed!']);\n",
              "            Plotly.purge(gd);\n",
              "            observer.disconnect();\n",
              "        }}\n",
              "}});\n",
              "\n",
              "// Listen for the removal of the full notebook cells\n",
              "var notebookContainer = gd.closest('#notebook-container');\n",
              "if (notebookContainer) {{\n",
              "    x.observe(notebookContainer, {childList: true});\n",
              "}}\n",
              "\n",
              "// Listen for the clearing of the current output cell\n",
              "var outputEl = gd.closest('.output');\n",
              "if (outputEl) {{\n",
              "    x.observe(outputEl, {childList: true});\n",
              "}}\n",
              "\n",
              "                        })                };                            </script>        </div>\n",
              "</body>\n",
              "</html>"
            ]
          },
          "metadata": {}
        }
      ]
    },
    {
      "cell_type": "code",
      "source": [
        "# TO BE CONTINUED (in other notebook) . . ."
      ],
      "metadata": {
        "id": "9FFnrD1oWg8O"
      },
      "execution_count": 22,
      "outputs": []
    },
    {
      "cell_type": "code",
      "source": [
        ""
      ],
      "metadata": {
        "id": "JWXAtd67I9W2"
      },
      "execution_count": 22,
      "outputs": []
    },
    {
      "cell_type": "code",
      "source": [
        "# marketcap, sector and risk\n",
        "htmlBlock = soup.find(\"div\", class_=\"stock-labels\")\n",
        "titles = htmlBlock.find_all(\"span\", class_=\"stock-label-title\")\n",
        "descs = htmlBlock.find_all(\"span\", class_=\"stock-label-desc\")\n",
        "for title in titles:\n",
        "    print(title)\n",
        "for desc in descs:\n",
        "    print(desc)\n",
        "\n",
        "value = titles[0].text if titles[0] is not None else None\n",
        "print(value)\n",
        "value = descs[0].text if descs[0] is not None else None\n",
        "print(value)\n",
        "\n",
        "value = titles[1].text if titles[1] is not None else None\n",
        "print(value)\n",
        "value = descs[1].text if descs[1] is not None else None\n",
        "print(value)\n",
        "\n",
        "value = titles[2].text if titles[2] is not None else None\n",
        "print(value)\n",
        "value = descs[2].text if descs[2] is not None else None\n",
        "print(value)\n"
      ],
      "metadata": {
        "colab": {
          "base_uri": "https://localhost:8080/"
        },
        "id": "t6scN9siAUXa",
        "outputId": "c020c383-6468-45a2-c203-7211ceb0e445"
      },
      "execution_count": 23,
      "outputs": [
        {
          "output_type": "stream",
          "name": "stdout",
          "text": [
            "<span class=\"jsx-1903139372 stock-label-title typography-body-medium-xs\">Information Technology</span>\n",
            "<span class=\"jsx-1903139372 stock-label-title typography-body-medium-xs\">Largecap</span>\n",
            "<span class=\"jsx-1903139372 stock-label-title typography-body-medium-xs\">Low Risk</span>\n",
            "<span class=\"jsx-1903139372 stock-label-desc typography-body-regular-m desktop--only\">IT Services &amp; Consulting</span>\n",
            "<span class=\"jsx-1903139372 stock-label-desc typography-body-regular-m desktop--only\">With a market cap of ₹13,55,286 cr, stock is ranked 2</span>\n",
            "<span class=\"jsx-1903139372 stock-label-desc typography-body-regular-m desktop--only\">Stock is 1.30x as volatile as Nifty</span>\n",
            "Information Technology\n",
            "IT Services & Consulting\n",
            "Largecap\n",
            "With a market cap of ₹13,55,286 cr, stock is ranked 2\n",
            "Low Risk\n",
            "Stock is 1.30x as volatile as Nifty\n"
          ]
        }
      ]
    },
    {
      "cell_type": "code",
      "source": [
        ""
      ],
      "metadata": {
        "id": "R6yLMkMlAUZ9"
      },
      "execution_count": 23,
      "outputs": []
    },
    {
      "cell_type": "code",
      "source": [
        ""
      ],
      "metadata": {
        "id": "iGqqb3XkAUca"
      },
      "execution_count": 23,
      "outputs": []
    },
    {
      "cell_type": "markdown",
      "source": [
        "### [3] Investment Checklist"
      ],
      "metadata": {
        "id": "BR3F0yCgpnIw"
      }
    },
    {
      "cell_type": "code",
      "source": [
        "# checklist-item carousel-item\n",
        "htmlBlock = soup.find(\"div\", class_=\"carousel-item\")\n",
        "# print(htmlBlock.prettify())"
      ],
      "metadata": {
        "id": "zg-X1ebllDSY"
      },
      "execution_count": 24,
      "outputs": []
    },
    {
      "cell_type": "code",
      "source": [
        "htmlBlock = soup.find(\"div\", class_=\"carousel-item\")\n",
        "\n",
        "# get all keys and values\n",
        "for item in htmlBlock.childGenerator():\n",
        "    key = item.find(\"span\", class_=\"tooltip-holder\").contents[0]\n",
        "    key = key.title().replace(\" \", \"\")\n",
        "    key = key[0].lower() + key[1:]\n",
        "    value = item.find(\"i\")['class'][3].split(\"-\")[1]\n",
        "\n",
        "    print(key, \"     \\t:\", value)"
      ],
      "metadata": {
        "colab": {
          "base_uri": "https://localhost:8080/"
        },
        "id": "-OZstV6glDcC",
        "outputId": "2781216d-a894-4991-a9a5-862e9aafc819"
      },
      "execution_count": 25,
      "outputs": [
        {
          "output_type": "stream",
          "name": "stdout",
          "text": [
            "intrinsicValue      \t: negative\n",
            "roeVsFdRates      \t: positive\n",
            "dividendReturns      \t: positive\n",
            "entryPoint      \t: positive\n",
            "noRedFlags      \t: positive\n"
          ]
        }
      ]
    },
    {
      "cell_type": "code",
      "source": [
        ""
      ],
      "metadata": {
        "id": "A-uCXOAoBcwB"
      },
      "execution_count": 25,
      "outputs": []
    },
    {
      "cell_type": "markdown",
      "source": [
        "### [4] Key Metrics"
      ],
      "metadata": {
        "id": "eo73RLqK1chc"
      }
    },
    {
      "cell_type": "code",
      "source": [
        "# ratios-card - PERatio, PBRatio, DividendYield, SectorPE, SectorPB, SectorDividendYield\n",
        "\n",
        "htmlBlock = soup.find(\"div\", class_=\"ratios-card\")\n",
        "# print(htmlBlock.prettify())\n",
        "\n",
        "keys = htmlBlock.select(\"span.ellipsis.desktop--only\")\n",
        "values = htmlBlock.find_all(\"div\", class_=\"value\")\n",
        "\n",
        "for i in range(len(keys)):\n",
        "    key = keys[i].text\n",
        "    key = key.replace(\" \", \"\")\n",
        "    value = values[i].text\n",
        "    value = None if str(value) == \"—\" else str(value)\n",
        "    print(key, \"\\t: \", value)\n"
      ],
      "metadata": {
        "id": "iNOzGEBI2D_h",
        "colab": {
          "base_uri": "https://localhost:8080/"
        },
        "outputId": "031e9b49-0dee-45aa-dee3-43698b4c3a93"
      },
      "execution_count": 26,
      "outputs": [
        {
          "output_type": "stream",
          "name": "stdout",
          "text": [
            "PERatio \t:  35.36\n",
            "PBRatio \t:  15.08\n",
            "DividendYield \t:  1.16%\n",
            "SectorPE \t:  34.54\n",
            "SectorPB \t:  9.10\n",
            "SectorDivYld \t:  1.23%\n"
          ]
        }
      ]
    },
    {
      "cell_type": "code",
      "source": [
        ""
      ],
      "metadata": {
        "id": "a8QciuHzcCSK"
      },
      "execution_count": 26,
      "outputs": []
    },
    {
      "cell_type": "markdown",
      "source": [
        "### [5] Forecast & Ratings"
      ],
      "metadata": {
        "id": "_XWI16cP1cj4"
      }
    },
    {
      "cell_type": "code",
      "source": [
        "# Forecast\n",
        "htmlBlock = soup.find(\"div\", class_=\"forecast-radial\")\n",
        "# print(htmlBlock.prettify())"
      ],
      "metadata": {
        "id": "u45ihTJ_1ri8"
      },
      "execution_count": 27,
      "outputs": []
    },
    {
      "cell_type": "code",
      "source": [
        "# get forcast percentage\n",
        "\n",
        "value = htmlBlock.div.span.contents[0] if str(htmlBlock.div.span.contents[0]) != \"—\" else \"\"\n",
        "print(value)\n",
        "\n",
        "symbol = htmlBlock.div.span.span.text if htmlBlock.div.span.span is not None else \"\"\n",
        "print(symbol)\n",
        "\n",
        "print(value + symbol if (value + symbol) != \"\" else None)"
      ],
      "metadata": {
        "colab": {
          "base_uri": "https://localhost:8080/"
        },
        "id": "uhBslxTp38Qe",
        "outputId": "9be5a6e2-e74d-44d3-d13c-073bf6284438"
      },
      "execution_count": 28,
      "outputs": [
        {
          "output_type": "stream",
          "name": "stdout",
          "text": [
            "49\n",
            "%\n",
            "49%\n"
          ]
        }
      ]
    },
    {
      "cell_type": "code",
      "source": [
        "\"\" + \"\""
      ],
      "metadata": {
        "id": "bSge6J4Z2Joq",
        "colab": {
          "base_uri": "https://localhost:8080/",
          "height": 35
        },
        "outputId": "4dcef992-3c10-48a7-bea2-e5f2e5504080"
      },
      "execution_count": 29,
      "outputs": [
        {
          "output_type": "execute_result",
          "data": {
            "text/plain": [
              "''"
            ],
            "application/vnd.google.colaboratory.intrinsic+json": {
              "type": "string"
            }
          },
          "metadata": {},
          "execution_count": 29
        }
      ]
    },
    {
      "cell_type": "code",
      "source": [
        "# get forcast text\n",
        "value = htmlBlock.h4.text if htmlBlock.h4 is not None else None\n",
        "print(value)"
      ],
      "metadata": {
        "colab": {
          "base_uri": "https://localhost:8080/"
        },
        "id": "tZj0heN_2JmP",
        "outputId": "83e16dad-2431-45f1-a4c3-4bffa1116de5"
      },
      "execution_count": 30,
      "outputs": [
        {
          "output_type": "stream",
          "name": "stdout",
          "text": [
            "Analysts have suggested that investors can buy this stock\n"
          ]
        }
      ]
    },
    {
      "cell_type": "code",
      "source": [
        ""
      ],
      "metadata": {
        "id": "WZDuVZEJ3WCb"
      },
      "execution_count": null,
      "outputs": []
    },
    {
      "cell_type": "markdown",
      "source": [
        "# Let us try and extract data (from all the pages)"
      ],
      "metadata": {
        "id": "MwF82Yx93WQ3"
      }
    },
    {
      "cell_type": "markdown",
      "source": [
        "Import scraped data containing all stock/etf names and subdirectory, <br>\n",
        "and Hit \"https://www.tickertape.in/stocks/{stock-name}\""
      ],
      "metadata": {
        "id": "3J4teIPY4WR3"
      }
    },
    {
      "cell_type": "code",
      "source": [
        "with open('top-company-list.json', 'r') as fp:\n",
        "    topcompanies = json.load(fp)\n",
        "\n",
        "topcompanies[0]"
      ],
      "metadata": {
        "id": "s-0iLhJd3nVm",
        "outputId": "f69b7319-b764-428d-b85f-189603567332",
        "colab": {
          "base_uri": "https://localhost:8080/"
        }
      },
      "execution_count": null,
      "outputs": [
        {
          "output_type": "execute_result",
          "data": {
            "text/plain": [
              "{'name': 'Adani Enterprises Ltd',\n",
              " 'subdirectory': 'adani-enterprises-ADEL',\n",
              " 'type': 'stocks'}"
            ]
          },
          "metadata": {},
          "execution_count": 31
        }
      ]
    },
    {
      "cell_type": "code",
      "source": [
        "with open('full-company-list.json', 'r') as fp:\n",
        "    allcompanies = json.load(fp)\n",
        "\n",
        "allcompanies[0]"
      ],
      "metadata": {
        "id": "9dxNjdbj3n6a",
        "outputId": "c9663e03-fc3b-476a-b033-d61814dfd355",
        "colab": {
          "base_uri": "https://localhost:8080/"
        }
      },
      "execution_count": null,
      "outputs": [
        {
          "output_type": "execute_result",
          "data": {
            "text/plain": [
              "{'name': 'A & M Febcon Ltd',\n",
              " 'subdirectory': 'a-and-m-febcon-AMF',\n",
              " 'type': 'stocks'}"
            ]
          },
          "metadata": {},
          "execution_count": 32
        }
      ]
    },
    {
      "cell_type": "code",
      "source": [
        ""
      ],
      "metadata": {
        "id": "-GSihzev3n8-"
      },
      "execution_count": null,
      "outputs": []
    },
    {
      "cell_type": "code",
      "source": [
        "def scrapeTickertape(name, stocktype, subdirectory):\n",
        "    _url = \"https://www.tickertape.in/\" + stocktype + \"/\" + subdirectory\n",
        "    _data = {}\n",
        "\n",
        "    try:\n",
        "        # hit the page and get html\n",
        "        _header = {\n",
        "            \"User-Agent\": \"Mozilla/5.0 (Windows NT 10.0; Win64; x64) AppleWebKit/537.36 (KHTML, like Gecko) Chrome/80.0.3987.163 Safari/537.36\"\n",
        "        }\n",
        "        _response = requests.get(_url, headers=_header)\n",
        "\n",
        "        # give the webpage to Beautiful Soup using parsers: \"html.parser\" or \"lxml\"\n",
        "        _soup = BeautifulSoup(_response.text, 'lxml')\n",
        "\n",
        "        ######### extract html data from webpage and form output data #########\n",
        "\n",
        "        ##### [1] Basics #####\n",
        "        # company name\n",
        "        _htmlBlock = _soup.find(\"h3\", class_=\"security-name\")\n",
        "        _data[\"name\"] = _htmlBlock.text if _htmlBlock is not None else None\n",
        "\n",
        "        # ticker name\n",
        "        _htmlBlock = _soup.find(\"span\", class_=\"ticker\")\n",
        "        _data[\"ticker\"] = _htmlBlock.text if _htmlBlock is not None else None\n",
        "\n",
        "        # type\n",
        "        _data[\"type\"] = stocktype\n",
        "\n",
        "        # current price\n",
        "        _htmlBlock = _soup.find(\"span\", class_=\"current-price\")\n",
        "        _data[\"price\"] = _htmlBlock.text if _htmlBlock is not None else None\n",
        "\n",
        "        # marketcap, sector and risk\n",
        "        _htmlBlock = _soup.find(\"div\", class_=\"stock-labels\")\n",
        "        _htmlBlock = _htmlBlock.find_all(\"span\", class_=\"stock-label-title\")\n",
        "        _data[\"sector\"] = _htmlBlock[0].text if _htmlBlock[0] is not None else None\n",
        "        _data[\"marketcap\"] = _htmlBlock[1].text if _htmlBlock[1] is not None else None\n",
        "        _data[\"risk\"] = _htmlBlock[2].text if _htmlBlock[2] is not None else None\n",
        "\n",
        "        # profile\n",
        "        _htmlBlock = _soup.find(\"div\", class_=\"peers-card\")\n",
        "        _value_h = _htmlBlock.h2.text if _htmlBlock.h2 is not None else \"\"\n",
        "        _value_p = _htmlBlock.p.text if _htmlBlock.p is not None else \"\"\n",
        "        _data[\"profile\"] = _value_h + \": \" + _value_p if (_value_h + _value_p) != \"\" else None\n",
        "\n",
        "        ##### [2] Overview #####\n",
        "        _overview = {}\n",
        "\n",
        "        # current price\n",
        "        _htmlBlock = _soup.find(\"span\", class_=\"current-price\")\n",
        "        _overview[\"currentPrice\"] = _htmlBlock.text if _htmlBlock is not None else None\n",
        "\n",
        "        # change absolute-value\n",
        "        _htmlBlock = _soup.find(\"span\", class_=\"absolute-value\")\n",
        "        _overview[\"absoluteChange\"] = _htmlBlock.text if _htmlBlock is not None else None\n",
        "\n",
        "        # change percentage-value\n",
        "        _htmlBlock = _soup.find(\"span\", class_=\"percentage-value\")\n",
        "        _overview[\"percentageChange\"] = str(_htmlBlock.text).replace(\"(\", \"\").replace(\")\", \"\").strip() if _htmlBlock is not None else None\n",
        "\n",
        "        # marketcap, sector and risk\n",
        "        _htmlBlock = _soup.find(\"div\", class_=\"stock-labels\")\n",
        "        _title = _htmlBlock.find_all(\"span\", class_=\"stock-label-title\")\n",
        "        _desc = _htmlBlock.find_all(\"span\", class_=\"stock-label-desc\")\n",
        "\n",
        "        _overview[\"sectorType\"] = _title[0].text if _title[0] is not None else None\n",
        "        _overview[\"sectorDesc\"] = _desc[0].text if _desc[0] is not None else None\n",
        "\n",
        "        _overview[\"capType\"] = _title[1].text if _title[1] is not None else None\n",
        "        _overview[\"capDesc\"] = _desc[1].text if _desc[1] is not None else None\n",
        "\n",
        "        _overview[\"riskType\"] = _title[2].text if _title[2] is not None else None\n",
        "        _overview[\"riskDesc\"] = _desc[2].text if _desc[2] is not None else None\n",
        "\n",
        "        # put overview into data\n",
        "        _data[\"overview\"] = _overview\n",
        "\n",
        "        ##### [3] Investment Checklist #####\n",
        "        _investmentChecklist = {}\n",
        "\n",
        "        # checklist carousel-item get all keys and values\n",
        "        _htmlBlock = _soup.find(\"div\", class_=\"carousel-item\")\n",
        "        for _item in _htmlBlock.childGenerator():\n",
        "            _key = _item.find(\"span\", class_=\"tooltip-holder\").contents[0]\n",
        "            _key = _key.title().replace(\" \", \"\")\n",
        "            _key = _key[0].lower() + _key[1:]\n",
        "            _value = _item.find(\"i\")['class'][3].split(\"-\")[1]\n",
        "            _investmentChecklist[_key] = _value\n",
        "\n",
        "        # put investmentChecklist into data\n",
        "        _data[\"investmentChecklist\"] = _investmentChecklist\n",
        "\n",
        "        ##### [4] Key Metrics #####\n",
        "        _keyMetrics = {}\n",
        "\n",
        "        # PERatio, PBRatio, DividendYield, SectorPE, SectorPB, SectorDividendYield\n",
        "        _htmlBlock = _soup.find(\"div\", class_=\"ratios-card\")\n",
        "        _keys = _htmlBlock.select(\"span.ellipsis.desktop--only\")\n",
        "        _values = _htmlBlock.find_all(\"div\", class_=\"value\")\n",
        "        for i in range(len(_keys)):\n",
        "            _key = _keys[i].text\n",
        "            _key = _key.replace(\" \", \"\")\n",
        "            _value = _values[i].text\n",
        "            _value = None if str(_value) == \"—\" else str(_value)\n",
        "            _keyMetrics[_key] = _value\n",
        "\n",
        "        # put keyMetrics into data\n",
        "        _data[\"keyMetrics\"] = _keyMetrics\n",
        "\n",
        "        ##### [5] Forecast & Ratings #####\n",
        "        _forecasts = {}\n",
        "\n",
        "        # Forecast\n",
        "        _htmlBlock = _soup.find(\"div\", class_=\"forecast-radial\")\n",
        "        _value = _htmlBlock.div.span.contents[0] if str(_htmlBlock.div.span.contents[0]) != \"—\" else \"\"\n",
        "        _symbol = _htmlBlock.div.span.span.text if _htmlBlock.div.span.span is not None else \"\"\n",
        "        _forecasts[\"buyRecommendation\"] = _value + _symbol if (_value + _symbol) != \"\" else None\n",
        "        _forecasts[\"forecast\"] = _htmlBlock.h4.text if _htmlBlock.h4 is not None else None\n",
        "\n",
        "        # put keyMetrics into data\n",
        "        _data[\"forecasts\"] = _forecasts\n",
        "\n",
        "        # return the scraped data\n",
        "        return _data\n",
        "    except Exception as _e:\n",
        "        print(_e)\n",
        "        return []\n"
      ],
      "metadata": {
        "id": "V0fow5JZ6J1W"
      },
      "execution_count": null,
      "outputs": []
    },
    {
      "cell_type": "code",
      "source": [
        "scrapeTickertape(topcompanies[0][\"name\"], topcompanies[0][\"type\"], topcompanies[0][\"subdirectory\"])"
      ],
      "metadata": {
        "id": "nGBNt8gW6J3v",
        "outputId": "c91c2d60-0aaf-4888-bd6d-5104d9486353",
        "colab": {
          "base_uri": "https://localhost:8080/"
        }
      },
      "execution_count": null,
      "outputs": [
        {
          "output_type": "execute_result",
          "data": {
            "text/plain": [
              "{'forecasts': {'buyRecommendation': '0%',\n",
              "  'forecast': 'Analysts have suggested that investors can buy this stock'},\n",
              " 'investmentChecklist': {'dividendReturns': 'negative',\n",
              "  'entryPoint': 'negative',\n",
              "  'intrinsicValue': 'negative',\n",
              "  'noRedFlags': 'positive',\n",
              "  'roeVsFdRates': 'negative'},\n",
              " 'keyMetrics': {'DividendYield': '0.05%',\n",
              "  'PBRatio': '12.79',\n",
              "  'PERatio': '262.18',\n",
              "  'SectorDivYld': '0.65%',\n",
              "  'SectorPB': '5.20',\n",
              "  'SectorPE': '67.74'},\n",
              " 'marketcap': 'Largecap',\n",
              " 'name': 'Adani Enterprises Ltd',\n",
              " 'overview': {'absoluteChange': '0.00%',\n",
              "  'capDesc': 'With a market cap of ₹2,41,897 cr, stock is ranked 23',\n",
              "  'capType': 'Largecap',\n",
              "  'currentPrice': '2,199.45',\n",
              "  'percentageChange': '+0.00',\n",
              "  'riskDesc': 'Stock is 2.70x as volatile as Nifty',\n",
              "  'riskType': 'Moderate Risk',\n",
              "  'sectorDesc': 'Commodities Trading',\n",
              "  'sectorType': 'Industrials'},\n",
              " 'price': '2,199.45',\n",
              " 'profile': 'Company Profile: Adani Enterprises Limited is an infrastructure company with businesses spanning coal trading, coal mining, oil and gas exploration, ports, multi-modal logistics, power generation, and transmission and gas distribution. ',\n",
              " 'risk': 'Moderate Risk',\n",
              " 'sector': 'Industrials',\n",
              " 'ticker': 'ADANIENT',\n",
              " 'type': 'stocks'}"
            ]
          },
          "metadata": {},
          "execution_count": 34
        }
      ]
    },
    {
      "cell_type": "code",
      "source": [
        "# # let's scrape all the stocks & etfs!\n",
        "# topStocksData = []\n",
        "# count = 0\n",
        "\n",
        "# for companies in topcompanies:\n",
        "#     companyName = companies[\"name\"]\n",
        "#     companyType = companies[\"type\"]\n",
        "#     companyDir = companies[\"subdirectory\"]\n",
        "#     print(companyName, \"url: https://www.tickertape.in/\" + companyType + \"/\" + companyDir)\n",
        "#     try:\n",
        "#         # get data from each page and append to data list\n",
        "#         if companyType == \"stocks\":\n",
        "#             topStocksData.append(scrapeTickertape(companyName, companyType, companyDir))\n",
        "#             print(\"successful!\")\n",
        "#             count += 1\n",
        "#     except Exception as _e:\n",
        "#         # some issue occured, catch exception\n",
        "#         print(\"failed!\")\n",
        "#         print(_e)\n",
        "\n",
        "# print(count, \"/\", len(topcompanies), \"completed\")"
      ],
      "metadata": {
        "id": "b6oT7m8iE-lT"
      },
      "execution_count": 31,
      "outputs": []
    },
    {
      "cell_type": "code",
      "source": [
        ""
      ],
      "metadata": {
        "id": "R70dmgT1IVis"
      },
      "execution_count": null,
      "outputs": []
    },
    {
      "cell_type": "code",
      "source": [
        "# # let's scrape all the stocks & etfs!\n",
        "# allStocksData = []\n",
        "# count = 0\n",
        "\n",
        "# for companies in allcompanies:\n",
        "#     companyName = companies[\"name\"]\n",
        "#     companyType = companies[\"type\"]\n",
        "#     companyDir = companies[\"subdirectory\"]\n",
        "#     print(companyName, \"url: https://www.tickertape.in/\" + companyType + \"/\" + companyDir)\n",
        "#     try:\n",
        "#         # get data from each page and append to data list\n",
        "#         if companyType == \"stocks\":\n",
        "#             allStocksData.append(scrapeTickertape(companyName, companyType, companyDir))\n",
        "#             print(\"successful!\")\n",
        "#             count += 1\n",
        "#     except Exception as _e:\n",
        "#         # some issue occured, catch exception\n",
        "#         print(\"failed!\")\n",
        "#         print(_e)\n",
        "\n",
        "# print(count, \"/\", len(topcompanies), \"completed\")"
      ],
      "metadata": {
        "id": "f6zmsCqVHgA8"
      },
      "execution_count": 32,
      "outputs": []
    },
    {
      "cell_type": "code",
      "source": [
        ""
      ],
      "metadata": {
        "id": "hEI4HLqVIaLB"
      },
      "execution_count": null,
      "outputs": []
    },
    {
      "cell_type": "markdown",
      "source": [
        "## Exporting the data"
      ],
      "metadata": {
        "id": "6964EOvnJUlX"
      }
    },
    {
      "cell_type": "code",
      "source": [
        "# with open(\"top-company-tickertape-data.json\", \"w\") as outfile:\n",
        "#     json.dump(topStocksData, outfile)"
      ],
      "metadata": {
        "id": "XjUL8nkcIaOa"
      },
      "execution_count": null,
      "outputs": []
    },
    {
      "cell_type": "code",
      "source": [
        "# with open(\"all-company-tickertape-data.json\", \"w\") as outfile:\n",
        "#     json.dump(allStocksData, outfile)"
      ],
      "metadata": {
        "id": "hyvH5cFuJbHG"
      },
      "execution_count": null,
      "outputs": []
    },
    {
      "cell_type": "code",
      "source": [
        ""
      ],
      "metadata": {
        "id": "w-KAZwEXi-3y"
      },
      "execution_count": null,
      "outputs": []
    }
  ]
}