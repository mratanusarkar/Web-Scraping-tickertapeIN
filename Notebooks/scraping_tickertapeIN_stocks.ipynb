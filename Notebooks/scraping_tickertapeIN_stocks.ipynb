{
  "nbformat": 4,
  "nbformat_minor": 0,
  "metadata": {
    "colab": {
      "name": "Web Scraping tickertapeIN - stocks.ipynb",
      "provenance": [],
      "authorship_tag": "ABX9TyPIUtrQQOHkYUCFaMTEOS5h",
      "include_colab_link": true
    },
    "kernelspec": {
      "name": "python3",
      "display_name": "Python 3"
    },
    "language_info": {
      "name": "python"
    }
  },
  "cells": [
    {
      "cell_type": "markdown",
      "metadata": {
        "id": "view-in-github",
        "colab_type": "text"
      },
      "source": [
        "<a href=\"https://colab.research.google.com/github/mratanusarkar/Web-Scraping-tickertapeIN/blob/feature%2Ffilter-and-sort/Notebooks/scraping_tickertapeIN_stocks.ipynb\" target=\"_parent\"><img src=\"https://colab.research.google.com/assets/colab-badge.svg\" alt=\"Open In Colab\"/></a>"
      ]
    },
    {
      "cell_type": "markdown",
      "source": [
        "# Web Scraping stock data from tickertape.in"
      ],
      "metadata": {
        "id": "vVeC3IHLbQ1S"
      }
    },
    {
      "cell_type": "markdown",
      "source": [
        "**Input**: stock name in \"https://www.tickertape.in/stocks/{stock-name}\" <br>\n",
        "**Output**: full stock data & predictions from tickertape in JSON/Py Dictionary format\n"
      ],
      "metadata": {
        "id": "gwGMUzOsbfK_"
      }
    },
    {
      "cell_type": "markdown",
      "source": [
        "## Import Packages"
      ],
      "metadata": {
        "id": "OcFpi1cFcDW0"
      }
    },
    {
      "cell_type": "code",
      "source": [
        "import numpy as np\n",
        "import pandas as pd\n",
        "import requests\n",
        "from bs4 import BeautifulSoup\n",
        "\n",
        "import json\n",
        "import time\n",
        "import datetime as dt\n",
        "\n",
        "import matplotlib.pyplot as plt\n",
        "import plotly.express as px"
      ],
      "metadata": {
        "id": "c0wD-RzybeO9"
      },
      "execution_count": 1,
      "outputs": []
    },
    {
      "cell_type": "markdown",
      "source": [
        "## Request and Fetch the Webpage"
      ],
      "metadata": {
        "id": "igOJKmX7cIWj"
      }
    },
    {
      "cell_type": "markdown",
      "source": [
        "Let's try with a sample stock name, say \"TCS\""
      ],
      "metadata": {
        "id": "Pcn82_QzcLGq"
      }
    },
    {
      "cell_type": "code",
      "source": [
        "# enter company subdirectory\n",
        "subdir = \"tata-consultancy-services-TCS\"\n",
        "# subdir = \"adani-green-energy-ADNA\""
      ],
      "metadata": {
        "id": "2VvAxCA37RBN"
      },
      "execution_count": 2,
      "outputs": []
    },
    {
      "cell_type": "code",
      "source": [
        "# hit \"https://www.tickertape.in/stocks/tata-consultancy-services-TCS\"\n",
        "requests.get(\"https://www.tickertape.in/stocks/\" + subdir)"
      ],
      "metadata": {
        "colab": {
          "base_uri": "https://localhost:8080/"
        },
        "id": "uN6CTb4tcWTd",
        "outputId": "bbbd5795-c618-4cc2-9d80-38ec7f0cee7d"
      },
      "execution_count": 3,
      "outputs": [
        {
          "output_type": "execute_result",
          "data": {
            "text/plain": [
              "<Response [200]>"
            ]
          },
          "metadata": {},
          "execution_count": 3
        }
      ]
    },
    {
      "cell_type": "code",
      "source": [
        "# wow! no restriction for bots! no need of any headers!\n",
        "response = requests.get(\"https://www.tickertape.in/stocks/\" + subdir)\n",
        "response.text[0:500]"
      ],
      "metadata": {
        "colab": {
          "base_uri": "https://localhost:8080/",
          "height": 70
        },
        "id": "O-3k6Ngicr2N",
        "outputId": "663fcb08-367a-4614-faad-4f28323d2ce6"
      },
      "execution_count": 4,
      "outputs": [
        {
          "output_type": "execute_result",
          "data": {
            "text/plain": [
              "'<!DOCTYPE html><html lang=\"en-US\"><head><meta http-equiv=\"X-UA-Compatible\" content=\"IE=edge\"/><link rel=\"shortcut icon\" href=\"/favicon/favicon.png\"/><link rel=\"apple-touch-icon\" href=\"/favicon/favicon-192x192.png\"/><link rel=\"manifest\" href=\"/manifest/manifest.json\"/><style type=\"text/css\">:root {--white: #ffffff; --font_primary: #535B62; --font_dark: #2f363f; --font_light: #81878c; --font_blue: #0088ea; --font_lighter: #a2a8ae; --brand_primary: #151e28; --brand_success: #28c39a; --brand_danger:'"
            ],
            "application/vnd.google.colaboratory.intrinsic+json": {
              "type": "string"
            }
          },
          "metadata": {},
          "execution_count": 4
        }
      ]
    },
    {
      "cell_type": "code",
      "source": [
        "# not required for this webpage, use if bot restrictions are added in future.\n",
        "\n",
        "# google chrome browser's request header (to make it look like, we are making this request from a browser)\n",
        "header = {\n",
        "  \"User-Agent\": \"Mozilla/5.0 (Windows NT 10.0; Win64; x64) AppleWebKit/537.36 (KHTML, like Gecko) Chrome/80.0.3987.163 Safari/537.36\"\n",
        "}\n",
        "\n",
        "# hit using the header\n",
        "response = requests.get(\"https://www.tickertape.in/stocks/\" + subdir, headers=header)\n",
        "response.text[0:500]"
      ],
      "metadata": {
        "colab": {
          "base_uri": "https://localhost:8080/",
          "height": 70
        },
        "id": "ZMW71O25c9Hl",
        "outputId": "f5546258-4941-4dee-ca76-5a080f2a9634"
      },
      "execution_count": 5,
      "outputs": [
        {
          "output_type": "execute_result",
          "data": {
            "text/plain": [
              "'<!DOCTYPE html><html lang=\"en-US\"><head><meta http-equiv=\"X-UA-Compatible\" content=\"IE=edge\"/><link rel=\"shortcut icon\" href=\"/favicon/favicon.png\"/><link rel=\"apple-touch-icon\" href=\"/favicon/favicon-192x192.png\"/><link rel=\"manifest\" href=\"/manifest/manifest.json\"/><style type=\"text/css\">:root {--white: #ffffff; --font_primary: #535B62; --font_dark: #2f363f; --font_light: #81878c; --font_blue: #0088ea; --font_lighter: #a2a8ae; --brand_primary: #151e28; --brand_success: #28c39a; --brand_danger:'"
            ],
            "application/vnd.google.colaboratory.intrinsic+json": {
              "type": "string"
            }
          },
          "metadata": {},
          "execution_count": 5
        }
      ]
    },
    {
      "cell_type": "markdown",
      "source": [
        "## Pass the fetched webpage response to Beautiful Soup"
      ],
      "metadata": {
        "id": "XJNdAiOReo2n"
      }
    },
    {
      "cell_type": "code",
      "source": [
        "# give the webpage to Beautiful Soup using parsers: \"html.parser\" or \"lxml\"\n",
        "soup = BeautifulSoup(response.text, 'lxml')"
      ],
      "metadata": {
        "id": "RA-dseaKd1GS"
      },
      "execution_count": 6,
      "outputs": []
    },
    {
      "cell_type": "markdown",
      "source": [
        "## Let us try and extract some data from the soup"
      ],
      "metadata": {
        "id": "ZKYRke2Ilhrt"
      }
    },
    {
      "cell_type": "markdown",
      "source": [
        "- we see the whole webpage and how the html dom structure is made\n",
        "- on inspecting, we see that all our required info is mostly inside div blocks with unique class names\n",
        "- few are inside span or h tags, but all blocks has classes\n",
        "- Let us extract few important html dom blocks and see"
      ],
      "metadata": {
        "id": "8pCfA5bWjJRE"
      }
    },
    {
      "cell_type": "markdown",
      "source": [
        "### [1] Basic Company Information"
      ],
      "metadata": {
        "id": "IqCNbmt8l3Ec"
      }
    },
    {
      "cell_type": "code",
      "source": [
        "# company name\n",
        "htmlBlock = soup.find(\"h3\", class_=\"security-name\")\n",
        "print(htmlBlock.prettify())\n",
        "\n",
        "value = htmlBlock.text if htmlBlock is not None else None\n",
        "print(value)"
      ],
      "metadata": {
        "colab": {
          "base_uri": "https://localhost:8080/"
        },
        "id": "2zTscJQSd1In",
        "outputId": "f2bc48c4-97c3-42cc-e3b6-55c6fede8db9"
      },
      "execution_count": 7,
      "outputs": [
        {
          "output_type": "stream",
          "name": "stdout",
          "text": [
            "<h3 class=\"jsx-2903438179 security-name\">\n",
            " Tata Consultancy Services Ltd\n",
            "</h3>\n",
            "Tata Consultancy Services Ltd\n"
          ]
        }
      ]
    },
    {
      "cell_type": "code",
      "source": [
        "# ticker name\n",
        "htmlBlock = soup.find(\"span\", class_=\"ticker\")\n",
        "print(htmlBlock.prettify())\n",
        "\n",
        "value = htmlBlock.text if htmlBlock is not None else None\n",
        "print(value)"
      ],
      "metadata": {
        "colab": {
          "base_uri": "https://localhost:8080/"
        },
        "id": "HsrIqPujd1LG",
        "outputId": "fa087bf3-b79a-42e3-9d77-d8925faaf857"
      },
      "execution_count": 8,
      "outputs": [
        {
          "output_type": "stream",
          "name": "stdout",
          "text": [
            "<span class=\"jsx-2903438179 ticker text-teritiary font-medium\">\n",
            " TCS\n",
            "</span>\n",
            "TCS\n"
          ]
        }
      ]
    },
    {
      "cell_type": "code",
      "source": [
        "# type\n",
        "print(\"stocks\")"
      ],
      "metadata": {
        "colab": {
          "base_uri": "https://localhost:8080/"
        },
        "id": "Ls9mQZSa3f46",
        "outputId": "1d5dfc55-7ddf-4c6e-abff-8ff71a12fa3c"
      },
      "execution_count": 9,
      "outputs": [
        {
          "output_type": "stream",
          "name": "stdout",
          "text": [
            "stocks\n"
          ]
        }
      ]
    },
    {
      "cell_type": "code",
      "source": [
        "# current price\n",
        "htmlBlock = soup.find(\"span\", class_=\"current-price\")\n",
        "print(htmlBlock.prettify())\n",
        "\n",
        "value = htmlBlock.text if htmlBlock is not None else None\n",
        "print(value)"
      ],
      "metadata": {
        "colab": {
          "base_uri": "https://localhost:8080/"
        },
        "id": "zdTUd2Led1NO",
        "outputId": "d0f86bc8-2336-4655-ae56-10781b7f9d78"
      },
      "execution_count": 10,
      "outputs": [
        {
          "output_type": "stream",
          "name": "stdout",
          "text": [
            "<span class=\"jsx-3168773259 current-price typography-h1 text-primary\">\n",
            " 3,561.20\n",
            "</span>\n",
            "\n",
            "3,561.20\n"
          ]
        }
      ]
    },
    {
      "cell_type": "code",
      "source": [
        "# marketcap, sector and risk\n",
        "htmlBlock = soup.find(\"div\", class_=\"stock-labels\")\n",
        "htmlBlock = htmlBlock.find_all(\"span\", class_=\"stock-label-title\")\n",
        "for block in htmlBlock:\n",
        "    print(block)\n",
        "\n",
        "value = htmlBlock[0].text if htmlBlock[0] is not None else None\n",
        "print(value)\n",
        "\n",
        "value = htmlBlock[1].text if htmlBlock[1] is not None else None\n",
        "print(value)\n",
        "\n",
        "value = htmlBlock[2].text if htmlBlock[2] is not None else None\n",
        "print(value)"
      ],
      "metadata": {
        "colab": {
          "base_uri": "https://localhost:8080/"
        },
        "id": "ReDtU1Zn3V4x",
        "outputId": "dd42f5c5-b68d-47a0-f5e0-218c0443feec"
      },
      "execution_count": 11,
      "outputs": [
        {
          "output_type": "stream",
          "name": "stdout",
          "text": [
            "<span class=\"jsx-1903139372 stock-label-title typography-body-medium-xs\">Information Technology</span>\n",
            "<span class=\"jsx-1903139372 stock-label-title typography-body-medium-xs\">Largecap</span>\n",
            "<span class=\"jsx-1903139372 stock-label-title typography-body-medium-xs\">Low Risk</span>\n",
            "Information Technology\n",
            "Largecap\n",
            "Low Risk\n"
          ]
        }
      ]
    },
    {
      "cell_type": "code",
      "source": [
        "# profile\n",
        "\n",
        "htmlBlock = soup.find(\"div\", class_=\"peers-card\")\n",
        "# print(htmlBlock.prettify())\n",
        "\n",
        "print(htmlBlock.h2.text)\n",
        "print(htmlBlock.p.text)\n",
        "\n",
        "value_h = htmlBlock.h2.text if htmlBlock.h2 is not None else \"\"\n",
        "value_p = htmlBlock.p.text if htmlBlock.p is not None else \"\"\n",
        "value = value_h + \": \" + value_p if (value_h + value_p) != \"\" else None\n",
        "print(value)"
      ],
      "metadata": {
        "colab": {
          "base_uri": "https://localhost:8080/"
        },
        "id": "mnkbOAIG3V7J",
        "outputId": "9924b969-677c-4e01-b87e-bc8cacee08dc"
      },
      "execution_count": 12,
      "outputs": [
        {
          "output_type": "stream",
          "name": "stdout",
          "text": [
            "Company Profile\n",
            "Tata Consultancy Services Limited (TCS) is engaged in providing information technology (IT) services, digital and business solutions.\n",
            "Company Profile: Tata Consultancy Services Limited (TCS) is engaged in providing information technology (IT) services, digital and business solutions.\n"
          ]
        }
      ]
    },
    {
      "cell_type": "code",
      "source": [
        ""
      ],
      "metadata": {
        "id": "OqosrS1L3V9y"
      },
      "execution_count": 12,
      "outputs": []
    },
    {
      "cell_type": "markdown",
      "source": [
        "### [2] Overview"
      ],
      "metadata": {
        "id": "Hl7pzStc-rt9"
      }
    },
    {
      "cell_type": "code",
      "source": [
        "# current price\n",
        "htmlBlock = soup.find(\"span\", class_=\"current-price\")\n",
        "print(htmlBlock.prettify())\n",
        "\n",
        "value = htmlBlock.text if htmlBlock is not None else None\n",
        "print(value)"
      ],
      "metadata": {
        "colab": {
          "base_uri": "https://localhost:8080/"
        },
        "id": "kPe2Uab63WAA",
        "outputId": "49eb5157-ba2a-4e39-8300-107658f59e97"
      },
      "execution_count": 13,
      "outputs": [
        {
          "output_type": "stream",
          "name": "stdout",
          "text": [
            "<span class=\"jsx-3168773259 current-price typography-h1 text-primary\">\n",
            " 3,561.20\n",
            "</span>\n",
            "\n",
            "3,561.20\n"
          ]
        }
      ]
    },
    {
      "cell_type": "code",
      "source": [
        "# change absolute-value\n",
        "htmlBlock = soup.find(\"span\", class_=\"absolute-value\")\n",
        "print(htmlBlock.prettify())\n",
        "\n",
        "value = htmlBlock.text if htmlBlock is not None else None\n",
        "print(value)"
      ],
      "metadata": {
        "colab": {
          "base_uri": "https://localhost:8080/"
        },
        "id": "7CvuSrAplDBR",
        "outputId": "95bea314-39a9-4260-d31d-a2bc66db2cd2"
      },
      "execution_count": 14,
      "outputs": [
        {
          "output_type": "stream",
          "name": "stdout",
          "text": [
            "<span class=\"jsx-3168773259 change absolute-value text-14 typography-body-medium-l up\">\n",
            " <i class=\"jsx-3168773259 icon-Green-up\">\n",
            " </i>\n",
            " 0.42\n",
            " <!-- -->\n",
            " %\n",
            "</span>\n",
            "\n",
            "0.42%\n"
          ]
        }
      ]
    },
    {
      "cell_type": "code",
      "source": [
        "# change percentage-value\n",
        "htmlBlock = soup.find(\"span\", class_=\"percentage-value\")\n",
        "print(htmlBlock.prettify())\n",
        "\n",
        "value = str(htmlBlock.text).replace(\"(\", \"\").replace(\")\", \"\").strip() if htmlBlock is not None else None\n",
        "print(value)"
      ],
      "metadata": {
        "colab": {
          "base_uri": "https://localhost:8080/"
        },
        "id": "u_RW7wVYlDEH",
        "outputId": "b1739261-62cc-44db-8fb2-5ae351a09116"
      },
      "execution_count": 15,
      "outputs": [
        {
          "output_type": "stream",
          "name": "stdout",
          "text": [
            "<span class=\"jsx-3168773259 change percentage-value text-14 up\">\n",
            " (\n",
            " <!-- -->\n",
            " +\n",
            " <!-- -->\n",
            " 14.90\n",
            " <!-- -->\n",
            " )\n",
            "</span>\n",
            "+14.90\n"
          ]
        }
      ]
    },
    {
      "cell_type": "code",
      "source": [
        "# day high, low, returns\n",
        "htmlBlock = soup.find(\"div\", class_=\"statbox\")\n",
        "print(htmlBlock.prettify())\n",
        "\n",
        "# value = htmlBlock.text if htmlBlock is not None else None\n",
        "# print(value)\n",
        "\n",
        "# NOT POSSIBLE, DYNAMICALLY CALCULATED AFTER PAGE LOAD!!!!"
      ],
      "metadata": {
        "colab": {
          "base_uri": "https://localhost:8080/"
        },
        "id": "dIhdpRgBAUU5",
        "outputId": "3f4d64d8-ea03-4e1c-bce2-dce05d26fabd"
      },
      "execution_count": 16,
      "outputs": [
        {
          "output_type": "stream",
          "name": "stdout",
          "text": [
            "<div class=\"jsx-1785027547 statbox \">\n",
            " <div class=\"jsx-3420801268\">\n",
            "  <div class=\"jsx-3420801268 typography-body-regular-m text-secondary \">\n",
            "   High\n",
            "  </div>\n",
            "  <div class=\"jsx-3420801268 value typography-body-medium-l text-primary \">\n",
            "   —\n",
            "  </div>\n",
            " </div>\n",
            " <div class=\"jsx-3420801268\">\n",
            "  <div class=\"jsx-3420801268 typography-body-regular-m text-secondary \">\n",
            "   Low\n",
            "  </div>\n",
            "  <div class=\"jsx-3420801268 value typography-body-medium-l text-primary \">\n",
            "   —\n",
            "  </div>\n",
            " </div>\n",
            " <div class=\"jsx-3420801268\">\n",
            "  <div class=\"jsx-3420801268 typography-body-regular-m text-secondary \">\n",
            "   Returns\n",
            "  </div>\n",
            "  <div class=\"jsx-3420801268 value typography-body-medium-l text-primary \">\n",
            "   —\n",
            "  </div>\n",
            " </div>\n",
            "</div>\n"
          ]
        }
      ]
    },
    {
      "cell_type": "code",
      "source": [
        ""
      ],
      "metadata": {
        "id": "nssx6D3kIQ2L"
      },
      "execution_count": 16,
      "outputs": []
    },
    {
      "cell_type": "code",
      "source": [
        "# we can get the full price data from this url:\n",
        "\n",
        "# for day chart:\n",
        "# \"https://api.tickertape.in/stocks/charts/intra/TCS\"\n",
        "\n",
        "# for other durations:\n",
        "# \"https://api.tickertape.in/stocks/charts/inter/{Ticker}?duration={Duration}\"\n",
        "# dutations: \"1w\" for week, \"1mo\" for month, \"1y\" for 1year, \"5y\" for 5year, \"max\" for full\n",
        "\n",
        "# for SIP:\n",
        "# https://api.tickertape.in/stocks/charts/sip/TCS\n",
        "\n",
        "# Example: \"https://api.tickertape.in/stocks/charts/inter/TCS?duration=1w\"\n"
      ],
      "metadata": {
        "id": "X_5C7HJoEndk"
      },
      "execution_count": 17,
      "outputs": []
    },
    {
      "cell_type": "code",
      "source": [
        "chartData = requests.get(\"https://api.tickertape.in/stocks/charts/intra/TCS\")\n",
        "# chartData.text"
      ],
      "metadata": {
        "id": "o7dGoc88Enf5"
      },
      "execution_count": 18,
      "outputs": []
    },
    {
      "cell_type": "code",
      "source": [
        "# chartData.json()['data'][0]['points'][0]['lp']\n",
        "x = [dt.datetime.strptime(data['ts'],'%Y-%m-%dT%H:%M:%S.%fZ') for data in chartData.json()['data'][0]['points']]\n",
        "y = [data['lp'] for data in chartData.json()['data'][0]['points']]\n",
        "\n",
        "plt.plot(x, y)\n",
        "plt.show()"
      ],
      "metadata": {
        "colab": {
          "base_uri": "https://localhost:8080/",
          "height": 266
        },
        "id": "TpDTe_DXEnj3",
        "outputId": "776922b8-a4be-4f4b-9bcb-2bcef004085a"
      },
      "execution_count": 19,
      "outputs": [
        {
          "output_type": "display_data",
          "data": {
            "text/plain": [
              "<Figure size 432x288 with 1 Axes>"
            ],
            "image/png": "[encoded data removed]"
          },
          "metadata": {
            "needs_background": "light"
          }
        }
      ]
    },
    {
      "cell_type": "code",
      "source": [
        "rawData = pd.DataFrame(chartData.json()['data'][0]['points'])\n",
        "rawData['ts']= pd.to_datetime(rawData['ts'])\n",
        "rawData.info()"
      ],
      "metadata": {
        "colab": {
          "base_uri": "https://localhost:8080/"
        },
        "id": "on9xpX6II9R3",
        "outputId": "2404c433-c4d3-4f76-8737-a013c773b027"
      },
      "execution_count": 20,
      "outputs": [
        {
          "output_type": "stream",
          "name": "stdout",
          "text": [
            "<class 'pandas.core.frame.DataFrame'>\n",
            "RangeIndex: 374 entries, 0 to 373\n",
            "Data columns (total 3 columns):\n",
            " #   Column  Non-Null Count  Dtype              \n",
            "---  ------  --------------  -----              \n",
            " 0   ts      374 non-null    datetime64[ns, UTC]\n",
            " 1   lp      374 non-null    float64            \n",
            " 2   v       374 non-null    int64              \n",
            "dtypes: datetime64[ns, UTC](1), float64(1), int64(1)\n",
            "memory usage: 8.9 KB\n"
          ]
        }
      ]
    },
    {
      "cell_type": "code",
      "source": [
        "fig = px.line(rawData, x='ts', y=\"lp\")\n",
        "fig.show()"
      ],
      "metadata": {
        "colab": {
          "base_uri": "https://localhost:8080/",
          "height": 542
        },
        "id": "ftcOiWbIWg41",
        "outputId": "3e273817-e609-4570-b9fe-badef3ccc4fe"
      },
      "execution_count": 21,
      "outputs": [
        {
          "output_type": "display_data",
          "data": {
            "text/html": [
              "<html>\n",
              "<head><meta charset=\"utf-8\" /></head>\n",
              "<body>\n",
              "    <div>            <script src=\"https://cdnjs.cloudflare.com/ajax/libs/mathjax/2.7.5/MathJax.js?config=TeX-AMS-MML_SVG\"></script><script type=\"text/javascript\">if (window.MathJax) {MathJax.Hub.Config({SVG: {font: \"STIX-Web\"}});}</script>                <script type=\"text/javascript\">window.PlotlyConfig = {MathJaxConfig: 'local'};</script>\n",
              "        <script src=\"https://cdn.plot.ly/plotly-2.8.3.min.js\"></script>                <div id=\"e49c0970-1213-45d1-9703-479359bb4f14\" class=\"plotly-graph-div\" style=\"height:525px; width:100%;\"></div>            <script type=\"text/javascript\">                                    window.PLOTLYENV=window.PLOTLYENV || {};                                    if (document.getElementById(\"e49c0970-1213-45d1-9703-479359bb4f14\")) {                    Plotly.newPlot(                        \"e49c0970-1213-45d1-9703-479359bb4f14\",                        [{\"hovertemplate\":\"ts=%{x}<br>lp=%{y}<extra></extra>\",\"legendgroup\":\"\",\"line\":{\"color\":\"#636efa\",\"dash\":\"solid\"},\"marker\":{\"symbol\":\"circle\"},\"mode\":\"lines\",\"name\":\"\",\"orientation\":\"v\",\"showlegend\":false,\"x\":[\"2022-04-27T03:46:00+00:00\",\"2022-04-27T03:47:00+00:00\",\"2022-04-27T03:48:00+00:00\",\"2022-04-27T03:49:00+00:00\",\"2022-04-27T03:50:00+00:00\",\"2022-04-27T03:51:00+00:00\",\"2022-04-27T03:52:00+00:00\",\"2022-04-27T03:53:00+00:00\",\"2022-04-27T03:54:00+00:00\",\"2022-04-27T03:55:00+00:00\",\"2022-04-27T03:56:00+00:00\",\"2022-04-27T03:57:00+00:00\",\"2022-04-27T03:58:00+00:00\",\"2022-04-27T03:59:00+00:00\",\"2022-04-27T04:00:00+00:00\",\"2022-04-27T04:01:00+00:00\",\"2022-04-27T04:02:00+00:00\",\"2022-04-27T04:03:00+00:00\",\"2022-04-27T04:04:00+00:00\",\"2022-04-27T04:05:00+00:00\",\"2022-04-27T04:06:00+00:00\",\"2022-04-27T04:07:00+00:00\",\"2022-04-27T04:08:00+00:00\",\"2022-04-27T04:09:00+00:00\",\"2022-04-27T04:10:00+00:00\",\"2022-04-27T04:11:00+00:00\",\"2022-04-27T04:12:00+00:00\",\"2022-04-27T04:13:00+00:00\",\"2022-04-27T04:14:00+00:00\",\"2022-04-27T04:15:00+00:00\",\"2022-04-27T04:16:00+00:00\",\"2022-04-27T04:17:00+00:00\",\"2022-04-27T04:18:00+00:00\",\"2022-04-27T04:19:00+00:00\",\"2022-04-27T04:20:00+00:00\",\"2022-04-27T04:21:00+00:00\",\"2022-04-27T04:22:00+00:00\",\"2022-04-27T04:23:00+00:00\",\"2022-04-27T04:24:00+00:00\",\"2022-04-27T04:25:00+00:00\",\"2022-04-27T04:26:00+00:00\",\"2022-04-27T04:27:00+00:00\",\"2022-04-27T04:28:00+00:00\",\"2022-04-27T04:29:00+00:00\",\"2022-04-27T04:30:00+00:00\",\"2022-04-27T04:31:00+00:00\",\"2022-04-27T04:32:00+00:00\",\"2022-04-27T04:33:00+00:00\",\"2022-04-27T04:34:00+00:00\",\"2022-04-27T04:35:00+00:00\",\"2022-04-27T04:36:00+00:00\",\"2022-04-27T04:37:00+00:00\",\"2022-04-27T04:38:00+00:00\",\"2022-04-27T04:39:00+00:00\",\"2022-04-27T04:40:00+00:00\",\"2022-04-27T04:41:00+00:00\",\"2022-04-27T04:42:00+00:00\",\"2022-04-27T04:43:00+00:00\",\"2022-04-27T04:44:00+00:00\",\"2022-04-27T04:45:00+00:00\",\"2022-04-27T04:46:00+00:00\",\"2022-04-27T04:47:00+00:00\",\"2022-04-27T04:48:00+00:00\",\"2022-04-27T04:49:00+00:00\",\"2022-04-27T04:50:00+00:00\",\"2022-04-27T04:51:00+00:00\",\"2022-04-27T04:52:00+00:00\",\"2022-04-27T04:53:00+00:00\",\"2022-04-27T04:54:00+00:00\",\"2022-04-27T04:55:00+00:00\",\"2022-04-27T04:56:00+00:00\",\"2022-04-27T04:57:00+00:00\",\"2022-04-27T04:58:00+00:00\",\"2022-04-27T04:59:00+00:00\",\"2022-04-27T05:00:00+00:00\",\"2022-04-27T05:01:00+00:00\",\"2022-04-27T05:02:00+00:00\",\"2022-04-27T05:03:00+00:00\",\"2022-04-27T05:04:00+00:00\",\"2022-04-27T05:05:00+00:00\",\"2022-04-27T05:06:00+00:00\",\"2022-04-27T05:07:00+00:00\",\"2022-04-27T05:08:00+00:00\",\"2022-04-27T05:09:00+00:00\",\"2022-04-27T05:10:00+00:00\",\"2022-04-27T05:11:00+00:00\",\"2022-04-27T05:12:00+00:00\",\"2022-04-27T05:13:00+00:00\",\"2022-04-27T05:14:00+00:00\",\"2022-04-27T05:15:00+00:00\",\"2022-04-27T05:16:00+00:00\",\"2022-04-27T05:17:00+00:00\",\"2022-04-27T05:18:00+00:00\",\"2022-04-27T05:19:00+00:00\",\"2022-04-27T05:20:00+00:00\",\"2022-04-27T05:21:00+00:00\",\"2022-04-27T05:22:00+00:00\",\"2022-04-27T05:23:00+00:00\",\"2022-04-27T05:24:00+00:00\",\"2022-04-27T05:25:00+00:00\",\"2022-04-27T05:26:00+00:00\",\"2022-04-27T05:27:00+00:00\",\"2022-04-27T05:28:00+00:00\",\"2022-04-27T05:29:00+00:00\",\"2022-04-27T05:30:00+00:00\",\"2022-04-27T05:31:00+00:00\",\"2022-04-27T05:32:00+00:00\",\"2022-04-27T05:33:00+00:00\",\"2022-04-27T05:34:00+00:00\",\"2022-04-27T05:35:00+00:00\",\"2022-04-27T05:36:00+00:00\",\"2022-04-27T05:37:00+00:00\",\"2022-04-27T05:38:00+00:00\",\"2022-04-27T05:39:00+00:00\",\"2022-04-27T05:40:00+00:00\",\"2022-04-27T05:41:00+00:00\",\"2022-04-27T05:42:00+00:00\",\"2022-04-27T05:43:00+00:00\",\"2022-04-27T05:44:00+00:00\",\"2022-04-27T05:45:00+00:00\",\"2022-04-27T05:46:00+00:00\",\"2022-04-27T05:47:00+00:00\",\"2022-04-27T05:48:00+00:00\",\"2022-04-27T05:49:00+00:00\",\"2022-04-27T05:50:00+00:00\",\"2022-04-27T05:51:00+00:00\",\"2022-04-27T05:52:00+00:00\",\"2022-04-27T05:53:00+00:00\",\"2022-04-27T05:54:00+00:00\",\"2022-04-27T05:55:00+00:00\",\"2022-04-27T05:56:00+00:00\",\"2022-04-27T05:57:00+00:00\",\"2022-04-27T05:58:00+00:00\",\"2022-04-27T05:59:00+00:00\",\"2022-04-27T06:00:00+00:00\",\"2022-04-27T06:01:00+00:00\",\"2022-04-27T06:02:00+00:00\",\"2022-04-27T06:03:00+00:00\",\"2022-04-27T06:04:00+00:00\",\"2022-04-27T06:05:00+00:00\",\"2022-04-27T06:06:00+00:00\",\"2022-04-27T06:07:00+00:00\",\"2022-04-27T06:08:00+00:00\",\"2022-04-27T06:09:00+00:00\",\"2022-04-27T06:10:00+00:00\",\"2022-04-27T06:11:00+00:00\",\"2022-04-27T06:12:00+00:00\",\"2022-04-27T06:13:00+00:00\",\"2022-04-27T06:14:00+00:00\",\"2022-04-27T06:15:00+00:00\",\"2022-04-27T06:16:00+00:00\",\"2022-04-27T06:17:00+00:00\",\"2022-04-27T06:18:00+00:00\",\"2022-04-27T06:19:00+00:00\",\"2022-04-27T06:20:00+00:00\",\"2022-04-27T06:21:00+00:00\",\"2022-04-27T06:22:00+00:00\",\"2022-04-27T06:23:00+00:00\",\"2022-04-27T06:24:00+00:00\",\"2022-04-27T06:25:00+00:00\",\"2022-04-27T06:26:00+00:00\",\"2022-04-27T06:27:00+00:00\",\"2022-04-27T06:28:00+00:00\",\"2022-04-27T06:29:00+00:00\",\"2022-04-27T06:30:00+00:00\",\"2022-04-27T06:31:00+00:00\",\"2022-04-27T06:32:00+00:00\",\"2022-04-27T06:33:00+00:00\",\"2022-04-27T06:34:00+00:00\",\"2022-04-27T06:35:00+00:00\",\"2022-04-27T06:36:00+00:00\",\"2022-04-27T06:37:00+00:00\",\"2022-04-27T06:38:00+00:00\",\"2022-04-27T06:39:00+00:00\",\"2022-04-27T06:40:00+00:00\",\"2022-04-27T06:41:00+00:00\",\"2022-04-27T06:42:00+00:00\",\"2022-04-27T06:43:00+00:00\",\"2022-04-27T06:44:00+00:00\",\"2022-04-27T06:45:00+00:00\",\"2022-04-27T06:46:00+00:00\",\"2022-04-27T06:47:00+00:00\",\"2022-04-27T06:48:00+00:00\",\"2022-04-27T06:49:00+00:00\",\"2022-04-27T06:50:00+00:00\",\"2022-04-27T06:51:00+00:00\",\"2022-04-27T06:52:00+00:00\",\"2022-04-27T06:53:00+00:00\",\"2022-04-27T06:54:00+00:00\",\"2022-04-27T06:55:00+00:00\",\"2022-04-27T06:56:00+00:00\",\"2022-04-27T06:57:00+00:00\",\"2022-04-27T06:58:00+00:00\",\"2022-04-27T06:59:00+00:00\",\"2022-04-27T07:00:00+00:00\",\"2022-04-27T07:01:00+00:00\",\"2022-04-27T07:02:00+00:00\",\"2022-04-27T07:03:00+00:00\",\"2022-04-27T07:04:00+00:00\",\"2022-04-27T07:05:00+00:00\",\"2022-04-27T07:06:00+00:00\",\"2022-04-27T07:07:00+00:00\",\"2022-04-27T07:08:00+00:00\",\"2022-04-27T07:09:00+00:00\",\"2022-04-27T07:10:00+00:00\",\"2022-04-27T07:11:00+00:00\",\"2022-04-27T07:12:00+00:00\",\"2022-04-27T07:13:00+00:00\",\"2022-04-27T07:14:00+00:00\",\"2022-04-27T07:15:00+00:00\",\"2022-04-27T07:16:00+00:00\",\"2022-04-27T07:17:00+00:00\",\"2022-04-27T07:18:00+00:00\",\"2022-04-27T07:19:00+00:00\",\"2022-04-27T07:20:00+00:00\",\"2022-04-27T07:21:00+00:00\",\"2022-04-27T07:22:00+00:00\",\"2022-04-27T07:23:00+00:00\",\"2022-04-27T07:24:00+00:00\",\"2022-04-27T07:25:00+00:00\",\"2022-04-27T07:26:00+00:00\",\"2022-04-27T07:27:00+00:00\",\"2022-04-27T07:28:00+00:00\",\"2022-04-27T07:29:00+00:00\",\"2022-04-27T07:30:00+00:00\",\"2022-04-27T07:31:00+00:00\",\"2022-04-27T07:32:00+00:00\",\"2022-04-27T07:33:00+00:00\",\"2022-04-27T07:34:00+00:00\",\"2022-04-27T07:35:00+00:00\",\"2022-04-27T07:36:00+00:00\",\"2022-04-27T07:37:00+00:00\",\"2022-04-27T07:38:00+00:00\",\"2022-04-27T07:39:00+00:00\",\"2022-04-27T07:40:00+00:00\",\"2022-04-27T07:41:00+00:00\",\"2022-04-27T07:42:00+00:00\",\"2022-04-27T07:43:00+00:00\",\"2022-04-27T07:44:00+00:00\",\"2022-04-27T07:45:00+00:00\",\"2022-04-27T07:46:00+00:00\",\"2022-04-27T07:47:00+00:00\",\"2022-04-27T07:48:00+00:00\",\"2022-04-27T07:49:00+00:00\",\"2022-04-27T07:50:00+00:00\",\"2022-04-27T07:51:00+00:00\",\"2022-04-27T07:52:00+00:00\",\"2022-04-27T07:53:00+00:00\",\"2022-04-27T07:54:00+00:00\",\"2022-04-27T07:55:00+00:00\",\"2022-04-27T07:56:00+00:00\",\"2022-04-27T07:57:00+00:00\",\"2022-04-27T07:58:00+00:00\",\"2022-04-27T07:59:00+00:00\",\"2022-04-27T08:00:00+00:00\",\"2022-04-27T08:01:00+00:00\",\"2022-04-27T08:02:00+00:00\",\"2022-04-27T08:03:00+00:00\",\"2022-04-27T08:04:00+00:00\",\"2022-04-27T08:05:00+00:00\",\"2022-04-27T08:06:00+00:00\",\"2022-04-27T08:07:00+00:00\",\"2022-04-27T08:08:00+00:00\",\"2022-04-27T08:09:00+00:00\",\"2022-04-27T08:10:00+00:00\",\"2022-04-27T08:11:00+00:00\",\"2022-04-27T08:12:00+00:00\",\"2022-04-27T08:13:00+00:00\",\"2022-04-27T08:14:00+00:00\",\"2022-04-27T08:15:00+00:00\",\"2022-04-27T08:16:00+00:00\",\"2022-04-27T08:17:00+00:00\",\"2022-04-27T08:18:00+00:00\",\"2022-04-27T08:19:00+00:00\",\"2022-04-27T08:20:00+00:00\",\"2022-04-27T08:21:00+00:00\",\"2022-04-27T08:22:00+00:00\",\"2022-04-27T08:23:00+00:00\",\"2022-04-27T08:24:00+00:00\",\"2022-04-27T08:25:00+00:00\",\"2022-04-27T08:26:00+00:00\",\"2022-04-27T08:27:00+00:00\",\"2022-04-27T08:28:00+00:00\",\"2022-04-27T08:29:00+00:00\",\"2022-04-27T08:30:00+00:00\",\"2022-04-27T08:31:00+00:00\",\"2022-04-27T08:32:00+00:00\",\"2022-04-27T08:33:00+00:00\",\"2022-04-27T08:34:00+00:00\",\"2022-04-27T08:35:00+00:00\",\"2022-04-27T08:36:00+00:00\",\"2022-04-27T08:37:00+00:00\",\"2022-04-27T08:38:00+00:00\",\"2022-04-27T08:39:00+00:00\",\"2022-04-27T08:40:00+00:00\",\"2022-04-27T08:41:00+00:00\",\"2022-04-27T08:42:00+00:00\",\"2022-04-27T08:43:00+00:00\",\"2022-04-27T08:44:00+00:00\",\"2022-04-27T08:45:00+00:00\",\"2022-04-27T08:46:00+00:00\",\"2022-04-27T08:47:00+00:00\",\"2022-04-27T08:48:00+00:00\",\"2022-04-27T08:49:00+00:00\",\"2022-04-27T08:50:00+00:00\",\"2022-04-27T08:51:00+00:00\",\"2022-04-27T08:52:00+00:00\",\"2022-04-27T08:53:00+00:00\",\"2022-04-27T08:54:00+00:00\",\"2022-04-27T08:55:00+00:00\",\"2022-04-27T08:56:00+00:00\",\"2022-04-27T08:57:00+00:00\",\"2022-04-27T08:58:00+00:00\",\"2022-04-27T08:59:00+00:00\",\"2022-04-27T09:00:00+00:00\",\"2022-04-27T09:01:00+00:00\",\"2022-04-27T09:02:00+00:00\",\"2022-04-27T09:03:00+00:00\",\"2022-04-27T09:04:00+00:00\",\"2022-04-27T09:05:00+00:00\",\"2022-04-27T09:06:00+00:00\",\"2022-04-27T09:07:00+00:00\",\"2022-04-27T09:08:00+00:00\",\"2022-04-27T09:09:00+00:00\",\"2022-04-27T09:10:00+00:00\",\"2022-04-27T09:11:00+00:00\",\"2022-04-27T09:12:00+00:00\",\"2022-04-27T09:13:00+00:00\",\"2022-04-27T09:14:00+00:00\",\"2022-04-27T09:15:00+00:00\",\"2022-04-27T09:16:00+00:00\",\"2022-04-27T09:17:00+00:00\",\"2022-04-27T09:18:00+00:00\",\"2022-04-27T09:19:00+00:00\",\"2022-04-27T09:20:00+00:00\",\"2022-04-27T09:21:00+00:00\",\"2022-04-27T09:22:00+00:00\",\"2022-04-27T09:23:00+00:00\",\"2022-04-27T09:24:00+00:00\",\"2022-04-27T09:25:00+00:00\",\"2022-04-27T09:26:00+00:00\",\"2022-04-27T09:27:00+00:00\",\"2022-04-27T09:28:00+00:00\",\"2022-04-27T09:29:00+00:00\",\"2022-04-27T09:30:00+00:00\",\"2022-04-27T09:31:00+00:00\",\"2022-04-27T09:32:00+00:00\",\"2022-04-27T09:33:00+00:00\",\"2022-04-27T09:34:00+00:00\",\"2022-04-27T09:35:00+00:00\",\"2022-04-27T09:36:00+00:00\",\"2022-04-27T09:37:00+00:00\",\"2022-04-27T09:38:00+00:00\",\"2022-04-27T09:39:00+00:00\",\"2022-04-27T09:40:00+00:00\",\"2022-04-27T09:41:00+00:00\",\"2022-04-27T09:42:00+00:00\",\"2022-04-27T09:43:00+00:00\",\"2022-04-27T09:44:00+00:00\",\"2022-04-27T09:45:00+00:00\",\"2022-04-27T09:46:00+00:00\",\"2022-04-27T09:47:00+00:00\",\"2022-04-27T09:48:00+00:00\",\"2022-04-27T09:49:00+00:00\",\"2022-04-27T09:50:00+00:00\",\"2022-04-27T09:51:00+00:00\",\"2022-04-27T09:52:00+00:00\",\"2022-04-27T09:53:00+00:00\",\"2022-04-27T09:54:00+00:00\",\"2022-04-27T09:55:00+00:00\",\"2022-04-27T09:56:00+00:00\",\"2022-04-27T09:57:00+00:00\",\"2022-04-27T09:58:00+00:00\",\"2022-04-27T09:59:00+00:00\"],\"xaxis\":\"x\",\"y\":[3529.4,3527.9,3527.0,3530.85,3528.75,3526.3,3529.3,3534.9,3528.15,3521.05,3521.25,3520.0,3521.0,3520.0,3522.7,3523.85,3522.05,3522.0,3521.0,3520.0,3515.95,3516.95,3518.5,3514.1,3506.5,3511.6,3514.8,3512.0,3514.15,3510.25,3511.25,3509.1,3511.55,3517.5,3519.4,3522.05,3525.9,3524.75,3524.85,3525.0,3525.0,3523.9,3521.9,3521.0,3519.65,3524.8,3525.4,3523.75,3524.75,3525.3,3525.15,3525.95,3524.95,3524.3,3522.1,3524.45,3525.0,3526.4,3524.45,3525.0,3526.55,3525.8,3524.8,3522.3,3524.7,3521.05,3520.25,3520.55,3518.5,3517.2,3516.8,3519.8,3518.0,3517.35,3516.6,3515.45,3511.25,3513.75,3514.85,3515.0,3511.9,3511.35,3513.5,3514.0,3513.55,3515.0,3514.9,3516.2,3513.8,3515.65,3513.8,3513.6,3511.9,3510.95,3508.55,3509.7,3509.0,3509.35,3510.5,3510.3,3510.3,3513.3,3511.55,3512.05,3513.0,3512.0,3510.45,3512.65,3515.25,3516.65,3516.7,3519.1,3517.75,3517.1,3519.5,3520.0,3520.6,3523.35,3522.3,3520.15,3522.0,3522.1,3520.75,3522.75,3522.0,3522.55,3522.65,3520.0,3520.0,3520.2,3520.3,3516.1,3517.9,3516.8,3516.95,3519.55,3517.8,3517.45,3517.4,3517.35,3519.9,3519.95,3521.0,3520.5,3521.0,3521.95,3522.85,3522.9,3524.05,3525.2,3523.35,3524.15,3524.8,3524.7,3524.65,3524.0,3527.9,3527.8,3528.5,3528.25,3528.4,3528.75,3527.9,3528.0,3529.0,3528.6,3529.8,3529.95,3531.0,3528.9,3528.65,3528.65,3528.3,3528.4,3528.0,3528.95,3529.0,3528.7,3528.8,3528.5,3528.0,3528.25,3528.5,3528.6,3528.35,3532.0,3531.95,3531.45,3529.9,3530.35,3530.05,3530.05,3529.8,3528.8,3528.7,3529.95,3532.25,3532.6,3530.5,3531.6,3531.15,3532.95,3533.0,3533.35,3532.0,3532.1,3533.0,3533.6,3533.7,3532.0,3531.7,3528.65,3528.6,3529.0,3528.65,3527.6,3527.6,3527.65,3525.0,3526.0,3525.05,3528.0,3527.25,3526.5,3526.7,3525.1,3526.1,3529.6,3526.8,3529.0,3529.0,3525.8,3527.8,3528.6,3528.6,3526.95,3528.1,3530.45,3533.4,3533.0,3533.4,3537.55,3537.65,3537.6,3537.85,3542.4,3542.55,3542.05,3544.65,3547.45,3552.0,3554.05,3555.0,3552.9,3553.9,3558.15,3557.15,3558.0,3556.7,3552.7,3552.95,3551.95,3551.0,3553.15,3553.8,3555.0,3558.15,3558.0,3557.65,3563.0,3567.05,3563.25,3565.0,3563.0,3560.65,3560.4,3562.15,3561.85,3562.05,3561.1,3561.2,3554.7,3554.85,3556.25,3554.85,3558.35,3560.0,3560.0,3556.0,3550.0,3554.7,3557.1,3560.85,3559.25,3561.0,3561.0,3561.95,3563.0,3560.0,3556.45,3555.15,3554.55,3555.35,3557.3,3555.95,3553.55,3552.95,3553.85,3555.9,3556.2,3556.95,3560.0,3559.75,3559.75,3559.3,3562.2,3561.0,3560.5,3560.5,3559.35,3559.75,3560.0,3560.05,3560.35,3560.55,3565.9,3565.4,3565.95,3566.0,3565.25,3565.35,3563.95,3565.25,3567.85,3566.0,3565.65,3566.5,3566.25,3565.05,3562.55,3563.8,3565.6,3565.6,3564.9,3563.95,3562.05,3563.4,3564.7,3564.85,3560.95,3558.0,3557.6,3561.4,3561.0,3558.65,3558.1,3560.1,3560.0,3559.9,3559.6,3561.5,3560.5,3562.35,3561.85,3559.75,3560.45,3560.95,3560.8,3562.95,3563.05,3563.1,3564.85,3562.9,3561.2],\"yaxis\":\"y\",\"type\":\"scatter\"}],                        {\"template\":{\"data\":{\"bar\":[{\"error_x\":{\"color\":\"#2a3f5f\"},\"error_y\":{\"color\":\"#2a3f5f\"},\"marker\":{\"line\":{\"color\":\"#E5ECF6\",\"width\":0.5},\"pattern\":{\"fillmode\":\"overlay\",\"size\":10,\"solidity\":0.2}},\"type\":\"bar\"}],\"barpolar\":[{\"marker\":{\"line\":{\"color\":\"#E5ECF6\",\"width\":0.5},\"pattern\":{\"fillmode\":\"overlay\",\"size\":10,\"solidity\":0.2}},\"type\":\"barpolar\"}],\"carpet\":[{\"aaxis\":{\"endlinecolor\":\"#2a3f5f\",\"gridcolor\":\"white\",\"linecolor\":\"white\",\"minorgridcolor\":\"white\",\"startlinecolor\":\"#2a3f5f\"},\"baxis\":{\"endlinecolor\":\"#2a3f5f\",\"gridcolor\":\"white\",\"linecolor\":\"white\",\"minorgridcolor\":\"white\",\"startlinecolor\":\"#2a3f5f\"},\"type\":\"carpet\"}],\"choropleth\":[{\"colorbar\":{\"outlinewidth\":0,\"ticks\":\"\"},\"type\":\"choropleth\"}],\"contour\":[{\"colorbar\":{\"outlinewidth\":0,\"ticks\":\"\"},\"colorscale\":[[0.0,\"#0d0887\"],[0.1111111111111111,\"#46039f\"],[0.2222222222222222,\"#7201a8\"],[0.3333333333333333,\"#9c179e\"],[0.4444444444444444,\"#bd3786\"],[0.5555555555555556,\"#d8576b\"],[0.6666666666666666,\"#ed7953\"],[0.7777777777777778,\"#fb9f3a\"],[0.8888888888888888,\"#fdca26\"],[1.0,\"#f0f921\"]],\"type\":\"contour\"}],\"contourcarpet\":[{\"colorbar\":{\"outlinewidth\":0,\"ticks\":\"\"},\"type\":\"contourcarpet\"}],\"heatmap\":[{\"colorbar\":{\"outlinewidth\":0,\"ticks\":\"\"},\"colorscale\":[[0.0,\"#0d0887\"],[0.1111111111111111,\"#46039f\"],[0.2222222222222222,\"#7201a8\"],[0.3333333333333333,\"#9c179e\"],[0.4444444444444444,\"#bd3786\"],[0.5555555555555556,\"#d8576b\"],[0.6666666666666666,\"#ed7953\"],[0.7777777777777778,\"#fb9f3a\"],[0.8888888888888888,\"#fdca26\"],[1.0,\"#f0f921\"]],\"type\":\"heatmap\"}],\"heatmapgl\":[{\"colorbar\":{\"outlinewidth\":0,\"ticks\":\"\"},\"colorscale\":[[0.0,\"#0d0887\"],[0.1111111111111111,\"#46039f\"],[0.2222222222222222,\"#7201a8\"],[0.3333333333333333,\"#9c179e\"],[0.4444444444444444,\"#bd3786\"],[0.5555555555555556,\"#d8576b\"],[0.6666666666666666,\"#ed7953\"],[0.7777777777777778,\"#fb9f3a\"],[0.8888888888888888,\"#fdca26\"],[1.0,\"#f0f921\"]],\"type\":\"heatmapgl\"}],\"histogram\":[{\"marker\":{\"pattern\":{\"fillmode\":\"overlay\",\"size\":10,\"solidity\":0.2}},\"type\":\"histogram\"}],\"histogram2d\":[{\"colorbar\":{\"outlinewidth\":0,\"ticks\":\"\"},\"colorscale\":[[0.0,\"#0d0887\"],[0.1111111111111111,\"#46039f\"],[0.2222222222222222,\"#7201a8\"],[0.3333333333333333,\"#9c179e\"],[0.4444444444444444,\"#bd3786\"],[0.5555555555555556,\"#d8576b\"],[0.6666666666666666,\"#ed7953\"],[0.7777777777777778,\"#fb9f3a\"],[0.8888888888888888,\"#fdca26\"],[1.0,\"#f0f921\"]],\"type\":\"histogram2d\"}],\"histogram2dcontour\":[{\"colorbar\":{\"outlinewidth\":0,\"ticks\":\"\"},\"colorscale\":[[0.0,\"#0d0887\"],[0.1111111111111111,\"#46039f\"],[0.2222222222222222,\"#7201a8\"],[0.3333333333333333,\"#9c179e\"],[0.4444444444444444,\"#bd3786\"],[0.5555555555555556,\"#d8576b\"],[0.6666666666666666,\"#ed7953\"],[0.7777777777777778,\"#fb9f3a\"],[0.8888888888888888,\"#fdca26\"],[1.0,\"#f0f921\"]],\"type\":\"histogram2dcontour\"}],\"mesh3d\":[{\"colorbar\":{\"outlinewidth\":0,\"ticks\":\"\"},\"type\":\"mesh3d\"}],\"parcoords\":[{\"line\":{\"colorbar\":{\"outlinewidth\":0,\"ticks\":\"\"}},\"type\":\"parcoords\"}],\"pie\":[{\"automargin\":true,\"type\":\"pie\"}],\"scatter\":[{\"marker\":{\"colorbar\":{\"outlinewidth\":0,\"ticks\":\"\"}},\"type\":\"scatter\"}],\"scatter3d\":[{\"line\":{\"colorbar\":{\"outlinewidth\":0,\"ticks\":\"\"}},\"marker\":{\"colorbar\":{\"outlinewidth\":0,\"ticks\":\"\"}},\"type\":\"scatter3d\"}],\"scattercarpet\":[{\"marker\":{\"colorbar\":{\"outlinewidth\":0,\"ticks\":\"\"}},\"type\":\"scattercarpet\"}],\"scattergeo\":[{\"marker\":{\"colorbar\":{\"outlinewidth\":0,\"ticks\":\"\"}},\"type\":\"scattergeo\"}],\"scattergl\":[{\"marker\":{\"colorbar\":{\"outlinewidth\":0,\"ticks\":\"\"}},\"type\":\"scattergl\"}],\"scattermapbox\":[{\"marker\":{\"colorbar\":{\"outlinewidth\":0,\"ticks\":\"\"}},\"type\":\"scattermapbox\"}],\"scatterpolar\":[{\"marker\":{\"colorbar\":{\"outlinewidth\":0,\"ticks\":\"\"}},\"type\":\"scatterpolar\"}],\"scatterpolargl\":[{\"marker\":{\"colorbar\":{\"outlinewidth\":0,\"ticks\":\"\"}},\"type\":\"scatterpolargl\"}],\"scatterternary\":[{\"marker\":{\"colorbar\":{\"outlinewidth\":0,\"ticks\":\"\"}},\"type\":\"scatterternary\"}],\"surface\":[{\"colorbar\":{\"outlinewidth\":0,\"ticks\":\"\"},\"colorscale\":[[0.0,\"#0d0887\"],[0.1111111111111111,\"#46039f\"],[0.2222222222222222,\"#7201a8\"],[0.3333333333333333,\"#9c179e\"],[0.4444444444444444,\"#bd3786\"],[0.5555555555555556,\"#d8576b\"],[0.6666666666666666,\"#ed7953\"],[0.7777777777777778,\"#fb9f3a\"],[0.8888888888888888,\"#fdca26\"],[1.0,\"#f0f921\"]],\"type\":\"surface\"}],\"table\":[{\"cells\":{\"fill\":{\"color\":\"#EBF0F8\"},\"line\":{\"color\":\"white\"}},\"header\":{\"fill\":{\"color\":\"#C8D4E3\"},\"line\":{\"color\":\"white\"}},\"type\":\"table\"}]},\"layout\":{\"annotationdefaults\":{\"arrowcolor\":\"#2a3f5f\",\"arrowhead\":0,\"arrowwidth\":1},\"autotypenumbers\":\"strict\",\"coloraxis\":{\"colorbar\":{\"outlinewidth\":0,\"ticks\":\"\"}},\"colorscale\":{\"diverging\":[[0,\"#8e0152\"],[0.1,\"#c51b7d\"],[0.2,\"#de77ae\"],[0.3,\"#f1b6da\"],[0.4,\"#fde0ef\"],[0.5,\"#f7f7f7\"],[0.6,\"#e6f5d0\"],[0.7,\"#b8e186\"],[0.8,\"#7fbc41\"],[0.9,\"#4d9221\"],[1,\"#276419\"]],\"sequential\":[[0.0,\"#0d0887\"],[0.1111111111111111,\"#46039f\"],[0.2222222222222222,\"#7201a8\"],[0.3333333333333333,\"#9c179e\"],[0.4444444444444444,\"#bd3786\"],[0.5555555555555556,\"#d8576b\"],[0.6666666666666666,\"#ed7953\"],[0.7777777777777778,\"#fb9f3a\"],[0.8888888888888888,\"#fdca26\"],[1.0,\"#f0f921\"]],\"sequentialminus\":[[0.0,\"#0d0887\"],[0.1111111111111111,\"#46039f\"],[0.2222222222222222,\"#7201a8\"],[0.3333333333333333,\"#9c179e\"],[0.4444444444444444,\"#bd3786\"],[0.5555555555555556,\"#d8576b\"],[0.6666666666666666,\"#ed7953\"],[0.7777777777777778,\"#fb9f3a\"],[0.8888888888888888,\"#fdca26\"],[1.0,\"#f0f921\"]]},\"colorway\":[\"#636efa\",\"#EF553B\",\"#00cc96\",\"#ab63fa\",\"#FFA15A\",\"#19d3f3\",\"#FF6692\",\"#B6E880\",\"#FF97FF\",\"#FECB52\"],\"font\":{\"color\":\"#2a3f5f\"},\"geo\":{\"bgcolor\":\"white\",\"lakecolor\":\"white\",\"landcolor\":\"#E5ECF6\",\"showlakes\":true,\"showland\":true,\"subunitcolor\":\"white\"},\"hoverlabel\":{\"align\":\"left\"},\"hovermode\":\"closest\",\"mapbox\":{\"style\":\"light\"},\"paper_bgcolor\":\"white\",\"plot_bgcolor\":\"#E5ECF6\",\"polar\":{\"angularaxis\":{\"gridcolor\":\"white\",\"linecolor\":\"white\",\"ticks\":\"\"},\"bgcolor\":\"#E5ECF6\",\"radialaxis\":{\"gridcolor\":\"white\",\"linecolor\":\"white\",\"ticks\":\"\"}},\"scene\":{\"xaxis\":{\"backgroundcolor\":\"#E5ECF6\",\"gridcolor\":\"white\",\"gridwidth\":2,\"linecolor\":\"white\",\"showbackground\":true,\"ticks\":\"\",\"zerolinecolor\":\"white\"},\"yaxis\":{\"backgroundcolor\":\"#E5ECF6\",\"gridcolor\":\"white\",\"gridwidth\":2,\"linecolor\":\"white\",\"showbackground\":true,\"ticks\":\"\",\"zerolinecolor\":\"white\"},\"zaxis\":{\"backgroundcolor\":\"#E5ECF6\",\"gridcolor\":\"white\",\"gridwidth\":2,\"linecolor\":\"white\",\"showbackground\":true,\"ticks\":\"\",\"zerolinecolor\":\"white\"}},\"shapedefaults\":{\"line\":{\"color\":\"#2a3f5f\"}},\"ternary\":{\"aaxis\":{\"gridcolor\":\"white\",\"linecolor\":\"white\",\"ticks\":\"\"},\"baxis\":{\"gridcolor\":\"white\",\"linecolor\":\"white\",\"ticks\":\"\"},\"bgcolor\":\"#E5ECF6\",\"caxis\":{\"gridcolor\":\"white\",\"linecolor\":\"white\",\"ticks\":\"\"}},\"title\":{\"x\":0.05},\"xaxis\":{\"automargin\":true,\"gridcolor\":\"white\",\"linecolor\":\"white\",\"ticks\":\"\",\"title\":{\"standoff\":15},\"zerolinecolor\":\"white\",\"zerolinewidth\":2},\"yaxis\":{\"automargin\":true,\"gridcolor\":\"white\",\"linecolor\":\"white\",\"ticks\":\"\",\"title\":{\"standoff\":15},\"zerolinecolor\":\"white\",\"zerolinewidth\":2}}},\"xaxis\":{\"anchor\":\"y\",\"domain\":[0.0,1.0],\"title\":{\"text\":\"ts\"}},\"yaxis\":{\"anchor\":\"x\",\"domain\":[0.0,1.0],\"title\":{\"text\":\"lp\"}},\"legend\":{\"tracegroupgap\":0},\"margin\":{\"t\":60}},                        {\"responsive\": true}                    ).then(function(){\n",
              "                            \n",
              "var gd = document.getElementById('e49c0970-1213-45d1-9703-479359bb4f14');\n",
              "var x = new MutationObserver(function (mutations, observer) {{\n",
              "        var display = window.getComputedStyle(gd).display;\n",
              "        if (!display || display === 'none') {{\n",
              "            console.log([gd, 'removed!']);\n",
              "            Plotly.purge(gd);\n",
              "            observer.disconnect();\n",
              "        }}\n",
              "}});\n",
              "\n",
              "// Listen for the removal of the full notebook cells\n",
              "var notebookContainer = gd.closest('#notebook-container');\n",
              "if (notebookContainer) {{\n",
              "    x.observe(notebookContainer, {childList: true});\n",
              "}}\n",
              "\n",
              "// Listen for the clearing of the current output cell\n",
              "var outputEl = gd.closest('.output');\n",
              "if (outputEl) {{\n",
              "    x.observe(outputEl, {childList: true});\n",
              "}}\n",
              "\n",
              "                        })                };                            </script>        </div>\n",
              "</body>\n",
              "</html>"
            ]
          },
          "metadata": {}
        }
      ]
    },
    {
      "cell_type": "code",
      "source": [
        "# TO BE CONTINUED (in other notebook) . . ."
      ],
      "metadata": {
        "id": "9FFnrD1oWg8O"
      },
      "execution_count": 22,
      "outputs": []
    },
    {
      "cell_type": "code",
      "source": [
        ""
      ],
      "metadata": {
        "id": "JWXAtd67I9W2"
      },
      "execution_count": 22,
      "outputs": []
    },
    {
      "cell_type": "code",
      "source": [
        "# marketcap, sector and risk\n",
        "htmlBlock = soup.find(\"div\", class_=\"stock-labels\")\n",
        "titles = htmlBlock.find_all(\"span\", class_=\"stock-label-title\")\n",
        "descs = htmlBlock.find_all(\"span\", class_=\"stock-label-desc\")\n",
        "for title in titles:\n",
        "    print(title)\n",
        "for desc in descs:\n",
        "    print(desc)\n",
        "\n",
        "value = titles[0].text if titles[0] is not None else None\n",
        "print(value)\n",
        "value = descs[0].text if descs[0] is not None else None\n",
        "print(value)\n",
        "\n",
        "value = titles[1].text if titles[1] is not None else None\n",
        "print(value)\n",
        "value = descs[1].text if descs[1] is not None else None\n",
        "print(value)\n",
        "\n",
        "value = titles[2].text if titles[2] is not None else None\n",
        "print(value)\n",
        "value = descs[2].text if descs[2] is not None else None\n",
        "print(value)\n"
      ],
      "metadata": {
        "colab": {
          "base_uri": "https://localhost:8080/"
        },
        "id": "t6scN9siAUXa",
        "outputId": "80aa4b42-556b-4e0a-eafb-bb73f93ff644"
      },
      "execution_count": 23,
      "outputs": [
        {
          "output_type": "stream",
          "name": "stdout",
          "text": [
            "<span class=\"jsx-1903139372 stock-label-title typography-body-medium-xs\">Information Technology</span>\n",
            "<span class=\"jsx-1903139372 stock-label-title typography-body-medium-xs\">Largecap</span>\n",
            "<span class=\"jsx-1903139372 stock-label-title typography-body-medium-xs\">Low Risk</span>\n",
            "<span class=\"jsx-1903139372 stock-label-desc typography-body-regular-m desktop--only\">IT Services &amp; Consulting</span>\n",
            "<span class=\"jsx-1903139372 stock-label-desc typography-body-regular-m desktop--only\">With a market cap of ₹13,11,794 cr, stock is ranked 2</span>\n",
            "<span class=\"jsx-1903139372 stock-label-desc typography-body-regular-m desktop--only\">Stock is 1.30x as volatile as Nifty</span>\n",
            "Information Technology\n",
            "IT Services & Consulting\n",
            "Largecap\n",
            "With a market cap of ₹13,11,794 cr, stock is ranked 2\n",
            "Low Risk\n",
            "Stock is 1.30x as volatile as Nifty\n"
          ]
        }
      ]
    },
    {
      "cell_type": "code",
      "source": [
        ""
      ],
      "metadata": {
        "id": "R6yLMkMlAUZ9"
      },
      "execution_count": 23,
      "outputs": []
    },
    {
      "cell_type": "code",
      "source": [
        ""
      ],
      "metadata": {
        "id": "iGqqb3XkAUca"
      },
      "execution_count": 23,
      "outputs": []
    },
    {
      "cell_type": "markdown",
      "source": [
        "### [3] Investment Checklist"
      ],
      "metadata": {
        "id": "BR3F0yCgpnIw"
      }
    },
    {
      "cell_type": "code",
      "source": [
        "# checklist-item carousel-item\n",
        "htmlBlock = soup.find(\"div\", class_=\"carousel-item\")\n",
        "# print(htmlBlock.prettify())"
      ],
      "metadata": {
        "id": "zg-X1ebllDSY"
      },
      "execution_count": 24,
      "outputs": []
    },
    {
      "cell_type": "code",
      "source": [
        "htmlBlock = soup.find(\"div\", class_=\"carousel-item\")\n",
        "\n",
        "# get all keys and values\n",
        "for item in htmlBlock.childGenerator():\n",
        "    key = item.find(\"span\", class_=\"tooltip-holder\").contents[0]\n",
        "    key = key.title().replace(\" \", \"\")\n",
        "    key = key[0].lower() + key[1:]\n",
        "    value = item.find(\"i\")['class'][3].split(\"-\")[1]\n",
        "\n",
        "    print(key, \"     \\t:\", value)"
      ],
      "metadata": {
        "colab": {
          "base_uri": "https://localhost:8080/"
        },
        "id": "-OZstV6glDcC",
        "outputId": "2985ffae-06d3-4b2b-e05c-b303659fde1d"
      },
      "execution_count": 25,
      "outputs": [
        {
          "output_type": "stream",
          "name": "stdout",
          "text": [
            "intrinsicValue      \t: negative\n",
            "roeVsFdRates      \t: positive\n",
            "dividendReturns      \t: positive\n",
            "entryPoint      \t: positive\n",
            "noRedFlags      \t: positive\n"
          ]
        }
      ]
    },
    {
      "cell_type": "code",
      "source": [
        ""
      ],
      "metadata": {
        "id": "A-uCXOAoBcwB"
      },
      "execution_count": 25,
      "outputs": []
    },
    {
      "cell_type": "markdown",
      "source": [
        "### [4] Key Metrics"
      ],
      "metadata": {
        "id": "eo73RLqK1chc"
      }
    },
    {
      "cell_type": "code",
      "source": [
        "# ratios-card - PERatio, PBRatio, DividendYield, SectorPE, SectorPB, SectorDividendYield\n",
        "\n",
        "htmlBlock = soup.find(\"div\", class_=\"ratios-card\")\n",
        "# print(htmlBlock.prettify())\n",
        "\n",
        "keys = htmlBlock.select(\"span.ellipsis.desktop--only\")\n",
        "values = htmlBlock.find_all(\"div\", class_=\"value\")\n",
        "\n",
        "for i in range(len(keys)):\n",
        "    key = keys[i].text\n",
        "    key = key.replace(\" \", \"\")\n",
        "    value = values[i].text\n",
        "    value = None if str(value) == \"—\" else str(value)\n",
        "    print(key, \"\\t: \", value)\n"
      ],
      "metadata": {
        "id": "iNOzGEBI2D_h",
        "colab": {
          "base_uri": "https://localhost:8080/"
        },
        "outputId": "ca6402a1-7708-4452-b2ff-c8f3d3f65a2b"
      },
      "execution_count": 26,
      "outputs": [
        {
          "output_type": "stream",
          "name": "stdout",
          "text": [
            "PERatio \t:  34.23\n",
            "PBRatio \t:  14.60\n",
            "DividendYield \t:  1.20%\n",
            "SectorPE \t:  31.48\n",
            "SectorPB \t:  8.56\n",
            "SectorDivYld \t:  1.58%\n"
          ]
        }
      ]
    },
    {
      "cell_type": "code",
      "source": [
        ""
      ],
      "metadata": {
        "id": "a8QciuHzcCSK"
      },
      "execution_count": 26,
      "outputs": []
    },
    {
      "cell_type": "markdown",
      "source": [
        "### [5] Forecast & Ratings"
      ],
      "metadata": {
        "id": "_XWI16cP1cj4"
      }
    },
    {
      "cell_type": "code",
      "source": [
        "# Forecast\n",
        "htmlBlock = soup.find(\"div\", class_=\"forecast-radial\")\n",
        "# print(htmlBlock.prettify())"
      ],
      "metadata": {
        "id": "u45ihTJ_1ri8"
      },
      "execution_count": 27,
      "outputs": []
    },
    {
      "cell_type": "code",
      "source": [
        "# get forcast percentage\n",
        "\n",
        "value = htmlBlock.div.span.contents[0] if str(htmlBlock.div.span.contents[0]) != \"—\" else \"\"\n",
        "print(value)\n",
        "\n",
        "symbol = htmlBlock.div.span.span.text if htmlBlock.div.span.span is not None else \"\"\n",
        "print(symbol)\n",
        "\n",
        "print(value + symbol if (value + symbol) != \"\" else None)"
      ],
      "metadata": {
        "colab": {
          "base_uri": "https://localhost:8080/"
        },
        "id": "uhBslxTp38Qe",
        "outputId": "50a61e43-a1f4-4ceb-d46c-bd794e715178"
      },
      "execution_count": 28,
      "outputs": [
        {
          "output_type": "stream",
          "name": "stdout",
          "text": [
            "49\n",
            "%\n",
            "49%\n"
          ]
        }
      ]
    },
    {
      "cell_type": "code",
      "source": [
        "\"\" + \"\""
      ],
      "metadata": {
        "id": "bSge6J4Z2Joq",
        "colab": {
          "base_uri": "https://localhost:8080/",
          "height": 0
        },
        "outputId": "09ac1319-3969-4636-88ee-6e608f040b8a"
      },
      "execution_count": 29,
      "outputs": [
        {
          "output_type": "execute_result",
          "data": {
            "text/plain": [
              "''"
            ],
            "application/vnd.google.colaboratory.intrinsic+json": {
              "type": "string"
            }
          },
          "metadata": {},
          "execution_count": 29
        }
      ]
    },
    {
      "cell_type": "code",
      "source": [
        "# get forcast text\n",
        "value = htmlBlock.h4.text if htmlBlock.h4 is not None else None\n",
        "print(value)"
      ],
      "metadata": {
        "colab": {
          "base_uri": "https://localhost:8080/"
        },
        "id": "tZj0heN_2JmP",
        "outputId": "8f7f8aa5-1c62-4176-9542-4da3ec1374d5"
      },
      "execution_count": 30,
      "outputs": [
        {
          "output_type": "stream",
          "name": "stdout",
          "text": [
            "Analysts have suggested that investors can buy this stock\n"
          ]
        }
      ]
    },
    {
      "cell_type": "code",
      "source": [
        ""
      ],
      "metadata": {
        "id": "WZDuVZEJ3WCb"
      },
      "execution_count": 30,
      "outputs": []
    },
    {
      "cell_type": "markdown",
      "source": [
        "# Let us try and extract data (from all the pages)"
      ],
      "metadata": {
        "id": "MwF82Yx93WQ3"
      }
    },
    {
      "cell_type": "markdown",
      "source": [
        "Import scraped data containing all stock/etf names and subdirectory, <br>\n",
        "and Hit \"https://www.tickertape.in/stocks/{stock-name}\""
      ],
      "metadata": {
        "id": "3J4teIPY4WR3"
      }
    },
    {
      "cell_type": "code",
      "source": [
        "with open('top-company-list.json', 'r') as fp:\n",
        "    topcompanies = json.load(fp)\n",
        "\n",
        "topcompanies[0]"
      ],
      "metadata": {
        "id": "s-0iLhJd3nVm",
        "outputId": "25d96ba9-bb5d-4af8-b954-b74082e2d139",
        "colab": {
          "base_uri": "https://localhost:8080/"
        }
      },
      "execution_count": 31,
      "outputs": [
        {
          "output_type": "execute_result",
          "data": {
            "text/plain": [
              "{'name': 'Adani Enterprises Ltd',\n",
              " 'subdirectory': 'adani-enterprises-ADEL',\n",
              " 'type': 'stocks'}"
            ]
          },
          "metadata": {},
          "execution_count": 31
        }
      ]
    },
    {
      "cell_type": "code",
      "source": [
        "with open('full-company-list.json', 'r') as fp:\n",
        "    allcompanies = json.load(fp)\n",
        "\n",
        "allcompanies[0]"
      ],
      "metadata": {
        "id": "9dxNjdbj3n6a",
        "outputId": "f4453ce1-95ce-4532-9bea-2f3fdc42651b",
        "colab": {
          "base_uri": "https://localhost:8080/"
        }
      },
      "execution_count": 32,
      "outputs": [
        {
          "output_type": "execute_result",
          "data": {
            "text/plain": [
              "{'name': 'A & M Febcon Ltd',\n",
              " 'subdirectory': 'a-and-m-febcon-AMF',\n",
              " 'type': 'stocks'}"
            ]
          },
          "metadata": {},
          "execution_count": 32
        }
      ]
    },
    {
      "cell_type": "code",
      "source": [
        ""
      ],
      "metadata": {
        "id": "-GSihzev3n8-"
      },
      "execution_count": 32,
      "outputs": []
    },
    {
      "cell_type": "code",
      "source": [
        "def scrapeTickertape(name, stocktype, subdirectory):\n",
        "    _url = \"https://www.tickertape.in/\" + stocktype + \"/\" + subdirectory\n",
        "    _data = {}\n",
        "\n",
        "    try:\n",
        "        # hit the page and get html\n",
        "        _header = {\n",
        "            \"User-Agent\": \"Mozilla/5.0 (Windows NT 10.0; Win64; x64) AppleWebKit/537.36 (KHTML, like Gecko) Chrome/80.0.3987.163 Safari/537.36\"\n",
        "        }\n",
        "        _response = requests.get(_url, headers=_header)\n",
        "\n",
        "        # give the webpage to Beautiful Soup using parsers: \"html.parser\" or \"lxml\"\n",
        "        _soup = BeautifulSoup(_response.text, 'lxml')\n",
        "\n",
        "        ######### extract html data from webpage and form output data #########\n",
        "\n",
        "        ##### [1] Basics #####\n",
        "        # company name\n",
        "        _htmlBlock = _soup.find(\"h3\", class_=\"security-name\")\n",
        "        _data[\"name\"] = _htmlBlock.text if _htmlBlock is not None else None\n",
        "\n",
        "        # ticker name\n",
        "        _htmlBlock = _soup.find(\"span\", class_=\"ticker\")\n",
        "        _data[\"ticker\"] = _htmlBlock.text if _htmlBlock is not None else None\n",
        "\n",
        "        # url\n",
        "        _data[\"url\"] = _url\n",
        "\n",
        "        # type\n",
        "        _data[\"type\"] = stocktype\n",
        "\n",
        "        # current price\n",
        "        _htmlBlock = _soup.find(\"span\", class_=\"current-price\")\n",
        "        _data[\"price\"] = _htmlBlock.text if _htmlBlock is not None else None\n",
        "\n",
        "        # marketcap, sector and risk\n",
        "        _htmlBlock = _soup.find(\"div\", class_=\"stock-labels\")\n",
        "        _htmlBlock = _htmlBlock.find_all(\"span\", class_=\"stock-label-title\")\n",
        "        _data[\"sector\"] = _htmlBlock[0].text if _htmlBlock[0] is not None else None\n",
        "        _data[\"marketcap\"] = _htmlBlock[1].text if _htmlBlock[1] is not None else None\n",
        "        _data[\"risk\"] = _htmlBlock[2].text if _htmlBlock[2] is not None else None\n",
        "\n",
        "        # profile\n",
        "        _htmlBlock = _soup.find(\"div\", class_=\"peers-card\")\n",
        "        _value_h = _htmlBlock.h2.text if _htmlBlock.h2 is not None else \"\"\n",
        "        _value_p = _htmlBlock.p.text if _htmlBlock.p is not None else \"\"\n",
        "        _data[\"profile\"] = _value_h + \": \" + _value_p if (_value_h + _value_p) != \"\" else None\n",
        "\n",
        "        ##### [2] Overview #####\n",
        "        _overview = {}\n",
        "\n",
        "        # current price\n",
        "        _htmlBlock = _soup.find(\"span\", class_=\"current-price\")\n",
        "        _overview[\"currentPrice\"] = _htmlBlock.text if _htmlBlock is not None else None\n",
        "\n",
        "        # change absolute-value\n",
        "        _htmlBlock = _soup.find(\"span\", class_=\"absolute-value\")\n",
        "        _overview[\"absoluteChange\"] = _htmlBlock.text if _htmlBlock is not None else None\n",
        "\n",
        "        # change percentage-value\n",
        "        _htmlBlock = _soup.find(\"span\", class_=\"percentage-value\")\n",
        "        _overview[\"percentageChange\"] = str(_htmlBlock.text).replace(\"(\", \"\").replace(\")\", \"\").strip() if _htmlBlock is not None else None\n",
        "\n",
        "        # marketcap, sector and risk\n",
        "        _htmlBlock = _soup.find(\"div\", class_=\"stock-labels\")\n",
        "        _title = _htmlBlock.find_all(\"span\", class_=\"stock-label-title\")\n",
        "        _desc = _htmlBlock.find_all(\"span\", class_=\"stock-label-desc\")\n",
        "\n",
        "        _overview[\"sectorType\"] = _title[0].text if _title[0] is not None else None\n",
        "        _overview[\"sectorDesc\"] = _desc[0].text if _desc[0] is not None else None\n",
        "\n",
        "        _overview[\"capType\"] = _title[1].text if _title[1] is not None else None\n",
        "        _overview[\"capDesc\"] = _desc[1].text if _desc[1] is not None else None\n",
        "\n",
        "        _overview[\"riskType\"] = _title[2].text if _title[2] is not None else None\n",
        "        _overview[\"riskDesc\"] = _desc[2].text if _desc[2] is not None else None\n",
        "\n",
        "        # put overview into data\n",
        "        _data[\"overview\"] = _overview\n",
        "\n",
        "        ##### [3] Investment Checklist #####\n",
        "        _investmentChecklist = {}\n",
        "\n",
        "        # checklist carousel-item get all keys and values\n",
        "        _htmlBlock = _soup.find(\"div\", class_=\"carousel-item\")\n",
        "        for _item in _htmlBlock.childGenerator():\n",
        "            _key = _item.find(\"span\", class_=\"tooltip-holder\").contents[0]\n",
        "            _key = _key.title().replace(\" \", \"\")\n",
        "            _key = _key[0].lower() + _key[1:]\n",
        "            _value = _item.find(\"i\")['class'][3].split(\"-\")[1]\n",
        "            _investmentChecklist[_key] = _value\n",
        "\n",
        "        # put investmentChecklist into data\n",
        "        _data[\"investmentChecklist\"] = _investmentChecklist\n",
        "\n",
        "        ##### [4] Key Metrics #####\n",
        "        _keyMetrics = {}\n",
        "\n",
        "        # PERatio, PBRatio, DividendYield, SectorPE, SectorPB, SectorDividendYield\n",
        "        _htmlBlock = _soup.find(\"div\", class_=\"ratios-card\")\n",
        "        _keys = _htmlBlock.select(\"span.ellipsis.desktop--only\")\n",
        "        _values = _htmlBlock.find_all(\"div\", class_=\"value\")\n",
        "        for i in range(len(_keys)):\n",
        "            _key = _keys[i].text\n",
        "            _key = _key.replace(\" \", \"\")\n",
        "            _value = _values[i].text\n",
        "            _value = None if str(_value) == \"—\" else str(_value)\n",
        "            _keyMetrics[_key] = _value\n",
        "\n",
        "        # put keyMetrics into data\n",
        "        _data[\"keyMetrics\"] = _keyMetrics\n",
        "\n",
        "        ##### [5] Forecast & Ratings #####\n",
        "        _forecasts = {}\n",
        "\n",
        "        # Forecast\n",
        "        _htmlBlock = _soup.find(\"div\", class_=\"forecast-radial\")\n",
        "        _value = _htmlBlock.div.span.contents[0] if str(_htmlBlock.div.span.contents[0]) != \"—\" else \"\"\n",
        "        _symbol = _htmlBlock.div.span.span.text if _htmlBlock.div.span.span is not None else \"\"\n",
        "        _forecasts[\"buyRecommendation\"] = _value + _symbol if (_value + _symbol) != \"\" else None\n",
        "        _forecasts[\"forecast\"] = _htmlBlock.h4.text if _htmlBlock.h4 is not None else None\n",
        "\n",
        "        # put keyMetrics into data\n",
        "        _data[\"forecasts\"] = _forecasts\n",
        "\n",
        "        # return the scraped data\n",
        "        return _data\n",
        "    except Exception as _e:\n",
        "        print(_e)\n",
        "        return []\n"
      ],
      "metadata": {
        "id": "V0fow5JZ6J1W"
      },
      "execution_count": 33,
      "outputs": []
    },
    {
      "cell_type": "code",
      "source": [
        "scrapeTickertape(topcompanies[0][\"name\"], topcompanies[0][\"type\"], topcompanies[0][\"subdirectory\"])"
      ],
      "metadata": {
        "id": "nGBNt8gW6J3v",
        "outputId": "a7b7f870-5fc4-4138-a3be-a6056475ed21",
        "colab": {
          "base_uri": "https://localhost:8080/"
        }
      },
      "execution_count": 34,
      "outputs": [
        {
          "output_type": "execute_result",
          "data": {
            "text/plain": [
              "{'forecasts': {'buyRecommendation': '0%',\n",
              "  'forecast': 'Analysts have suggested that investors can buy this stock'},\n",
              " 'investmentChecklist': {'dividendReturns': 'negative',\n",
              "  'entryPoint': 'negative',\n",
              "  'intrinsicValue': 'negative',\n",
              "  'noRedFlags': 'positive',\n",
              "  'roeVsFdRates': 'negative'},\n",
              " 'keyMetrics': {'DividendYield': '0.04%',\n",
              "  'PBRatio': '13.93',\n",
              "  'PERatio': '285.53',\n",
              "  'SectorDivYld': '0.65%',\n",
              "  'SectorPB': '5.28',\n",
              "  'SectorPE': '65.49'},\n",
              " 'marketcap': 'Largecap',\n",
              " 'name': 'Adani Enterprises Ltd',\n",
              " 'overview': {'absoluteChange': '2.56%',\n",
              "  'capDesc': 'With a market cap of ₹2,63,437 cr, stock is ranked 19',\n",
              "  'capType': 'Largecap',\n",
              "  'currentPrice': '2,334.10',\n",
              "  'percentageChange': '-61.20',\n",
              "  'riskDesc': 'Stock is 2.69x as volatile as Nifty',\n",
              "  'riskType': 'Moderate Risk',\n",
              "  'sectorDesc': 'Commodities Trading',\n",
              "  'sectorType': 'Industrials'},\n",
              " 'price': '2,334.10',\n",
              " 'profile': 'Company Profile: Adani Enterprises Limited is an infrastructure company with businesses spanning coal trading, coal mining, oil and gas exploration, ports, multi-modal logistics, power generation, and transmission and gas distribution. ',\n",
              " 'risk': 'Moderate Risk',\n",
              " 'sector': 'Industrials',\n",
              " 'ticker': 'ADANIENT',\n",
              " 'type': 'stocks',\n",
              " 'url': 'https://www.tickertape.in/stocks/adani-enterprises-ADEL'}"
            ]
          },
          "metadata": {},
          "execution_count": 34
        }
      ]
    },
    {
      "cell_type": "code",
      "source": [
        "# # let's scrape all the stocks & etfs!\n",
        "# topStocksData = []\n",
        "# count = 0\n",
        "\n",
        "# for companies in topcompanies:\n",
        "#     companyName = companies[\"name\"]\n",
        "#     companyType = companies[\"type\"]\n",
        "#     companyDir = companies[\"subdirectory\"]\n",
        "#     print(companyName, \"url: https://www.tickertape.in/\" + companyType + \"/\" + companyDir)\n",
        "#     try:\n",
        "#         # get data from each page and append to data list\n",
        "#         if companyType == \"stocks\":\n",
        "#             topStocksData.append(scrapeTickertape(companyName, companyType, companyDir))\n",
        "#             print(\"successful!\")\n",
        "#             count += 1\n",
        "#     except Exception as _e:\n",
        "#         # some issue occured, catch exception\n",
        "#         print(\"failed!\")\n",
        "#         print(_e)\n",
        "\n",
        "# print(count, \"/\", len(topcompanies), \"completed\")"
      ],
      "metadata": {
        "id": "b6oT7m8iE-lT"
      },
      "execution_count": 35,
      "outputs": []
    },
    {
      "cell_type": "code",
      "source": [
        ""
      ],
      "metadata": {
        "id": "R70dmgT1IVis"
      },
      "execution_count": 35,
      "outputs": []
    },
    {
      "cell_type": "code",
      "source": [
        "# # let's scrape all the stocks & etfs!\n",
        "# allStocksData = []\n",
        "# count = 0\n",
        "\n",
        "# for companies in allcompanies:\n",
        "#     companyName = companies[\"name\"]\n",
        "#     companyType = companies[\"type\"]\n",
        "#     companyDir = companies[\"subdirectory\"]\n",
        "#     print(companyName, \"url: https://www.tickertape.in/\" + companyType + \"/\" + companyDir)\n",
        "#     try:\n",
        "#         # get data from each page and append to data list\n",
        "#         if companyType == \"stocks\":\n",
        "#             allStocksData.append(scrapeTickertape(companyName, companyType, companyDir))\n",
        "#             print(\"successful!\")\n",
        "#             count += 1\n",
        "#     except Exception as _e:\n",
        "#         # some issue occured, catch exception\n",
        "#         print(\"failed!\")\n",
        "#         print(_e)\n",
        "\n",
        "# print(count, \"/\", len(topcompanies), \"completed\")"
      ],
      "metadata": {
        "id": "f6zmsCqVHgA8"
      },
      "execution_count": 36,
      "outputs": []
    },
    {
      "cell_type": "code",
      "source": [
        ""
      ],
      "metadata": {
        "id": "hEI4HLqVIaLB"
      },
      "execution_count": 36,
      "outputs": []
    },
    {
      "cell_type": "markdown",
      "source": [
        "## Exporting the data"
      ],
      "metadata": {
        "id": "6964EOvnJUlX"
      }
    },
    {
      "cell_type": "code",
      "source": [
        "# with open(\"top-company-tickertape-data.json\", \"w\") as outfile:\n",
        "#     json.dump(topStocksData, outfile)"
      ],
      "metadata": {
        "id": "XjUL8nkcIaOa"
      },
      "execution_count": 37,
      "outputs": []
    },
    {
      "cell_type": "code",
      "source": [
        "# with open(\"all-company-tickertape-data.json\", \"w\") as outfile:\n",
        "#     json.dump(allStocksData, outfile)"
      ],
      "metadata": {
        "id": "hyvH5cFuJbHG"
      },
      "execution_count": 38,
      "outputs": []
    },
    {
      "cell_type": "code",
      "source": [
        ""
      ],
      "metadata": {
        "id": "w-KAZwEXi-3y"
      },
      "execution_count": 38,
      "outputs": []
    }
  ]
}