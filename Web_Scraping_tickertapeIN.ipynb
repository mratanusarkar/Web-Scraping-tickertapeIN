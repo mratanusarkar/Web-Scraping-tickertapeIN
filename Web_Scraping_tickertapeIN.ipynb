{
  "nbformat": 4,
  "nbformat_minor": 0,
  "metadata": {
    "colab": {
      "name": "Web Scraping tickertapeIN.ipynb",
      "provenance": [],
      "authorship_tag": "ABX9TyNmjvtJxEcB5f9CkRGwsrLK",
      "include_colab_link": true
    },
    "kernelspec": {
      "name": "python3",
      "display_name": "Python 3"
    },
    "language_info": {
      "name": "python"
    }
  },
  "cells": [
    {
      "cell_type": "markdown",
      "metadata": {
        "id": "view-in-github",
        "colab_type": "text"
      },
      "source": [
        "<a href=\"https://colab.research.google.com/github/mratanusarkar/Web-Scraping-tickertapeIN/blob/basic-scraper-colab/Web_Scraping_tickertapeIN.ipynb\" target=\"_parent\"><img src=\"https://colab.research.google.com/assets/colab-badge.svg\" alt=\"Open In Colab\"/></a>"
      ]
    },
    {
      "cell_type": "markdown",
      "source": [
        "# Web Scraping stock data from tickertape.in"
      ],
      "metadata": {
        "id": "vVeC3IHLbQ1S"
      }
    },
    {
      "cell_type": "markdown",
      "source": [
        "**Input**: stock name in \"https://www.tickertape.in/stocks/{stock-name}\" <br>\n",
        "**Output**: full stock data & predictions from tickertape in JSON/Py Dictionary format\n"
      ],
      "metadata": {
        "id": "gwGMUzOsbfK_"
      }
    },
    {
      "cell_type": "markdown",
      "source": [
        "## Import Packages"
      ],
      "metadata": {
        "id": "OcFpi1cFcDW0"
      }
    },
    {
      "cell_type": "code",
      "source": [
        "import numpy as np\n",
        "import pandas as pd\n",
        "import requests\n",
        "from bs4 import BeautifulSoup\n",
        "\n",
        "import time\n",
        "from datetime import timedelta"
      ],
      "metadata": {
        "id": "c0wD-RzybeO9"
      },
      "execution_count": 13,
      "outputs": []
    },
    {
      "cell_type": "markdown",
      "source": [
        "## Request and Fetch the Webpage"
      ],
      "metadata": {
        "id": "igOJKmX7cIWj"
      }
    },
    {
      "cell_type": "markdown",
      "source": [
        "Let's try with a sample stock name, say \"TCS\""
      ],
      "metadata": {
        "id": "Pcn82_QzcLGq"
      }
    },
    {
      "cell_type": "code",
      "source": [
        "# hit \"https://www.tickertape.in/stocks/tata-consultancy-services-TCS\"\n",
        "requests.get(\"https://www.tickertape.in/stocks/tata-consultancy-services-TCS\")"
      ],
      "metadata": {
        "colab": {
          "base_uri": "https://localhost:8080/"
        },
        "id": "uN6CTb4tcWTd",
        "outputId": "b756aa42-942d-4275-91c9-7a165d10b1f6"
      },
      "execution_count": 14,
      "outputs": [
        {
          "output_type": "execute_result",
          "data": {
            "text/plain": [
              "<Response [200]>"
            ]
          },
          "metadata": {},
          "execution_count": 14
        }
      ]
    },
    {
      "cell_type": "code",
      "source": [
        "# wow! no restriction for bots! no need of any headers!\n",
        "response = requests.get(\"https://www.tickertape.in/stocks/tata-consultancy-services-TCS\")\n",
        "response.text[0:500]"
      ],
      "metadata": {
        "colab": {
          "base_uri": "https://localhost:8080/",
          "height": 70
        },
        "id": "O-3k6Ngicr2N",
        "outputId": "6f74db1c-2bd3-4612-fedc-aff7bec37c80"
      },
      "execution_count": 15,
      "outputs": [
        {
          "output_type": "execute_result",
          "data": {
            "text/plain": [
              "'<!DOCTYPE html><html lang=\"en-US\"><head><meta http-equiv=\"X-UA-Compatible\" content=\"IE=edge\"/><link rel=\"shortcut icon\" href=\"/favicon/favicon.png\"/><link rel=\"apple-touch-icon\" href=\"/favicon/favicon-192x192.png\"/><link rel=\"manifest\" href=\"/manifest/manifest.json\"/><style type=\"text/css\">:root {--white: #ffffff; --font_primary: #535B62; --font_dark: #2f363f; --font_light: #81878c; --font_blue: #0088ea; --font_lighter: #a2a8ae; --brand_primary: #151e28; --brand_success: #28c39a; --brand_danger:'"
            ],
            "application/vnd.google.colaboratory.intrinsic+json": {
              "type": "string"
            }
          },
          "metadata": {},
          "execution_count": 15
        }
      ]
    },
    {
      "cell_type": "code",
      "source": [
        "# not required for this webpage, use if bot restrictions are added in future.\n",
        "\n",
        "# google chrome browser's request header (to make it look like, we are making this request from a browser)\n",
        "header = {\n",
        "  \"User-Agent\": \"Mozilla/5.0 (Windows NT 10.0; Win64; x64) AppleWebKit/537.36 (KHTML, like Gecko) Chrome/80.0.3987.163 Safari/537.36\"\n",
        "}\n",
        "\n",
        "# hit using the header\n",
        "response = requests.get(\"https://www.tickertape.in/stocks/tata-consultancy-services-TCS\", headers=header)\n",
        "response.text[0:500]"
      ],
      "metadata": {
        "colab": {
          "base_uri": "https://localhost:8080/",
          "height": 70
        },
        "id": "ZMW71O25c9Hl",
        "outputId": "de00779c-f050-4bab-c9a0-5aba6a7df715"
      },
      "execution_count": 100,
      "outputs": [
        {
          "output_type": "execute_result",
          "data": {
            "text/plain": [
              "'<!DOCTYPE html><html lang=\"en-US\"><head><meta http-equiv=\"X-UA-Compatible\" content=\"IE=edge\"/><link rel=\"shortcut icon\" href=\"/favicon/favicon.png\"/><link rel=\"apple-touch-icon\" href=\"/favicon/favicon-192x192.png\"/><link rel=\"manifest\" href=\"/manifest/manifest.json\"/><style type=\"text/css\">:root {--white: #ffffff; --font_primary: #535B62; --font_dark: #2f363f; --font_light: #81878c; --font_blue: #0088ea; --font_lighter: #a2a8ae; --brand_primary: #151e28; --brand_success: #28c39a; --brand_danger:'"
            ],
            "application/vnd.google.colaboratory.intrinsic+json": {
              "type": "string"
            }
          },
          "metadata": {},
          "execution_count": 100
        }
      ]
    },
    {
      "cell_type": "markdown",
      "source": [
        "## Pass the fetched webpage response to Beautiful Soup"
      ],
      "metadata": {
        "id": "XJNdAiOReo2n"
      }
    },
    {
      "cell_type": "code",
      "source": [
        "# give the webpage to Beautiful Soup using parsers: \"html.parser\" or \"lxml\"\n",
        "soup = BeautifulSoup(response.text, 'lxml')"
      ],
      "metadata": {
        "id": "RA-dseaKd1GS"
      },
      "execution_count": 101,
      "outputs": []
    },
    {
      "cell_type": "markdown",
      "source": [
        "## Let us try and extract some data from the soup"
      ],
      "metadata": {
        "id": "ZKYRke2Ilhrt"
      }
    },
    {
      "cell_type": "markdown",
      "source": [
        "- we see the whole webpage and how the html dom structure is made\n",
        "- on inspecting, we see that all our required info is mostly inside div blocks with unique class names\n",
        "- few are inside span or h tags, but all blocks has classes\n",
        "- Let us extract few important html dom blocks and see"
      ],
      "metadata": {
        "id": "8pCfA5bWjJRE"
      }
    },
    {
      "cell_type": "markdown",
      "source": [
        "### [1] Basic Company Information"
      ],
      "metadata": {
        "id": "IqCNbmt8l3Ec"
      }
    },
    {
      "cell_type": "code",
      "source": [
        "# company name\n",
        "htmlBlock = soup.find(\"h3\", class_=\"security-name\")\n",
        "print(htmlBlock.prettify())"
      ],
      "metadata": {
        "colab": {
          "base_uri": "https://localhost:8080/"
        },
        "id": "2zTscJQSd1In",
        "outputId": "1ea4e91d-6662-4d34-e683-6b17efa0eebd"
      },
      "execution_count": 29,
      "outputs": [
        {
          "output_type": "stream",
          "name": "stdout",
          "text": [
            "<h3 class=\"jsx-2903438179 security-name\">\n",
            " Tata Consultancy Services Ltd\n",
            "</h3>\n"
          ]
        }
      ]
    },
    {
      "cell_type": "code",
      "source": [
        "# ticker name\n",
        "htmlBlock = soup.find(\"span\", class_=\"ticker\")\n",
        "print(htmlBlock.prettify())"
      ],
      "metadata": {
        "colab": {
          "base_uri": "https://localhost:8080/"
        },
        "id": "HsrIqPujd1LG",
        "outputId": "6b80619c-9520-484e-80db-db84168b2bf4"
      },
      "execution_count": 30,
      "outputs": [
        {
          "output_type": "stream",
          "name": "stdout",
          "text": [
            "<span class=\"jsx-2903438179 ticker text-teritiary font-medium\">\n",
            " TCS\n",
            "</span>\n"
          ]
        }
      ]
    },
    {
      "cell_type": "code",
      "source": [
        "# current price\n",
        "htmlBlock = soup.find(\"span\", class_=\"current-price\")\n",
        "print(htmlBlock.prettify())"
      ],
      "metadata": {
        "colab": {
          "base_uri": "https://localhost:8080/"
        },
        "id": "zdTUd2Led1NO",
        "outputId": "e4471e34-5689-4a63-b98a-e0a17fcd6e8f"
      },
      "execution_count": 31,
      "outputs": [
        {
          "output_type": "stream",
          "name": "stdout",
          "text": [
            "<span class=\"jsx-3168773259 current-price typography-h1 text-primary\">\n",
            " 3,685.65\n",
            "</span>\n",
            "\n"
          ]
        }
      ]
    },
    {
      "cell_type": "code",
      "source": [
        "# change absolute-value\n",
        "htmlBlock = soup.find(\"span\", class_=\"absolute-value\")\n",
        "print(htmlBlock.prettify())"
      ],
      "metadata": {
        "colab": {
          "base_uri": "https://localhost:8080/"
        },
        "id": "7CvuSrAplDBR",
        "outputId": "7c9b61e3-6001-4ff5-f51f-57b3ae20f91c"
      },
      "execution_count": 102,
      "outputs": [
        {
          "output_type": "stream",
          "name": "stdout",
          "text": [
            "<span class=\"jsx-3168773259 change absolute-value text-14 typography-body-medium-l up\">\n",
            " <i class=\"jsx-3168773259 icon-Green-up\">\n",
            " </i>\n",
            " 0.04\n",
            " <!-- -->\n",
            " %\n",
            "</span>\n",
            "\n"
          ]
        }
      ]
    },
    {
      "cell_type": "code",
      "source": [
        "# change percentage-value\n",
        "htmlBlock = soup.find(\"span\", class_=\"percentage-value\")\n",
        "print(htmlBlock.prettify())"
      ],
      "metadata": {
        "colab": {
          "base_uri": "https://localhost:8080/"
        },
        "id": "u_RW7wVYlDEH",
        "outputId": "a5530e47-1980-4aae-8559-2ec2ac782fb2"
      },
      "execution_count": 53,
      "outputs": [
        {
          "output_type": "stream",
          "name": "stdout",
          "text": [
            "<span class=\"jsx-3168773259 change percentage-value text-14 up\">\n",
            " (\n",
            " <!-- -->\n",
            " +\n",
            " <!-- -->\n",
            " 1.50\n",
            " <!-- -->\n",
            " )\n",
            "</span>\n"
          ]
        }
      ]
    },
    {
      "cell_type": "markdown",
      "source": [
        "### [2] Investment Checklist"
      ],
      "metadata": {
        "id": "BR3F0yCgpnIw"
      }
    },
    {
      "cell_type": "code",
      "source": [
        "# checklist-item carousel-item\n",
        "htmlBlock = soup.find(\"div\", class_=\"carousel-item\")\n",
        "print(htmlBlock.prettify())"
      ],
      "metadata": {
        "colab": {
          "base_uri": "https://localhost:8080/"
        },
        "id": "zg-X1ebllDSY",
        "outputId": "0e0f641e-af41-4166-f799-199116aa5a72"
      },
      "execution_count": 70,
      "outputs": [
        {
          "output_type": "stream",
          "name": "stdout",
          "text": [
            "<div class=\"jsx-3083281824 checklist-item carousel-item selected\">\n",
            " <div class=\"jsx-3228946760 jsx-482152645 commentary-item-root d-flex-row align-start justify-start \" eventlabel=\"Clicked Checklist Item\">\n",
            "  <i class=\"jsx-3228946760 jsx-482152645 icon-mood icon-negative-comment text-24 mr12\">\n",
            "  </i>\n",
            "  <div class=\"jsx-3228946760 jsx-482152645 content\">\n",
            "   <h4 class=\"jsx-3228946760 jsx-482152645 typography-body-medium-m text-primary\">\n",
            "    <span class=\"jsx-3228946760 jsx-482152645 relative no-select tooltip-holder\">\n",
            "     Intrinsic Value\n",
            "     <div class=\"jsx-1503855875 tooltip-root sh-tooltip font-regular\">\n",
            "      Intrinsic value is the calculated value of the company and may differ from current stock price. If intrinsic value &gt; current price, price increase is expected in the future to reduce the gap and vice-versa\n",
            "     </div>\n",
            "    </span>\n",
            "   </h4>\n",
            "   <p class=\"jsx-3228946760 jsx-482152645 lh-138 text-13 text-secondary typography-body-regular-m commentary-desc\">\n",
            "    Current price is more than the intrinsic value\n",
            "   </p>\n",
            "  </div>\n",
            " </div>\n",
            " <div class=\"jsx-31738415 jsx-482152645 commentary-item-root d-flex-row align-start justify-start \" eventlabel=\"Clicked Checklist Item\">\n",
            "  <i class=\"jsx-31738415 jsx-482152645 icon-mood icon-positive-comment text-24 mr12\">\n",
            "  </i>\n",
            "  <div class=\"jsx-31738415 jsx-482152645 content\">\n",
            "   <h4 class=\"jsx-31738415 jsx-482152645 typography-body-medium-m text-primary\">\n",
            "    <span class=\"jsx-31738415 jsx-482152645 relative no-select tooltip-holder\">\n",
            "     ROE vs FD rates\n",
            "     <div class=\"jsx-1503855875 tooltip-root sh-tooltip font-regular\">\n",
            "      Fixed Deposit rate is a virtually risk-free rate where the investor assumes almost no risk on their investment. If stock's long term average ROE is lower than this rate, investors are better off investing the amount in a FD\n",
            "     </div>\n",
            "    </span>\n",
            "   </h4>\n",
            "   <p class=\"jsx-31738415 jsx-482152645 lh-138 text-13 text-secondary typography-body-regular-m commentary-desc\">\n",
            "    Stock has been generating better return on equity than bank FD\n",
            "   </p>\n",
            "  </div>\n",
            " </div>\n",
            " <div class=\"jsx-2638469698 jsx-482152645 commentary-item-root d-flex-row align-start justify-start \" eventlabel=\"Clicked Checklist Item\">\n",
            "  <i class=\"jsx-2638469698 jsx-482152645 icon-mood icon-positive-comment text-24 mr12\">\n",
            "  </i>\n",
            "  <div class=\"jsx-2638469698 jsx-482152645 content\">\n",
            "   <h4 class=\"jsx-2638469698 jsx-482152645 typography-body-medium-m text-primary\">\n",
            "    <span class=\"jsx-2638469698 jsx-482152645 relative no-select tooltip-holder\">\n",
            "     Dividend Returns\n",
            "     <div class=\"jsx-1503855875 tooltip-root sh-tooltip font-regular\">\n",
            "      A dividend is the distribution of reward from a portion of company's earnings and is paid to its shareholders. Good dividend returns indicate good health and outlook for the company\n",
            "     </div>\n",
            "    </span>\n",
            "   </h4>\n",
            "   <p class=\"jsx-2638469698 jsx-482152645 lh-138 text-13 text-secondary typography-body-regular-m commentary-desc\">\n",
            "    Stock offers good dividend returns\n",
            "   </p>\n",
            "  </div>\n",
            " </div>\n",
            " <div class=\"jsx-3261526196 jsx-482152645 commentary-item-root d-flex-row align-start justify-start \" eventlabel=\"Clicked Checklist Item\">\n",
            "  <i class=\"jsx-3261526196 jsx-482152645 icon-mood icon-positive-comment text-24 mr12\">\n",
            "  </i>\n",
            "  <div class=\"jsx-3261526196 jsx-482152645 content\">\n",
            "   <h4 class=\"jsx-3261526196 jsx-482152645 typography-body-medium-m text-primary\">\n",
            "    <span class=\"jsx-3261526196 jsx-482152645 relative no-select tooltip-holder\">\n",
            "     Entry Point\n",
            "     <div class=\"jsx-1503855875 tooltip-root sh-tooltip font-regular\">\n",
            "      High demand for a stock increases its price. If the price is pushed up to a level which is not justified, then it's considered to be in the overbought zone, which is not a good time to buy the stock\n",
            "     </div>\n",
            "    </span>\n",
            "   </h4>\n",
            "   <p class=\"jsx-3261526196 jsx-482152645 lh-138 text-13 text-secondary typography-body-regular-m commentary-desc\">\n",
            "    Good time to consider, as stock is not in overbought zone\n",
            "   </p>\n",
            "  </div>\n",
            " </div>\n",
            " <div class=\"jsx-3791761484 jsx-482152645 commentary-item-root d-flex-row align-start justify-start \" eventlabel=\"Clicked Checklist Item\">\n",
            "  <i class=\"jsx-3791761484 jsx-482152645 icon-mood icon-positive-comment text-24 mr12\">\n",
            "  </i>\n",
            "  <div class=\"jsx-3791761484 jsx-482152645 content\">\n",
            "   <h4 class=\"jsx-3791761484 jsx-482152645 typography-body-medium-m text-primary\">\n",
            "    <span class=\"jsx-3791761484 jsx-482152645 relative no-select tooltip-holder\">\n",
            "     No Red Flags\n",
            "     <div class=\"jsx-1503855875 tooltip-root sh-tooltip font-regular\">\n",
            "      ASM and GSM lists are measures to safeguard investors against volatility and unjustified stock prices. Pledging holdings means taking loans against held promoter shares. Stocks in ASM/GSM list or with high pledged promoter holding should be handled with caution. Unsolicited tips are sometimes circulated to manipulate the market. Beware of these stocks\n",
            "     </div>\n",
            "    </span>\n",
            "   </h4>\n",
            "   <p class=\"jsx-3791761484 jsx-482152645 lh-138 text-13 text-secondary typography-body-regular-m commentary-desc\">\n",
            "    Stock not in ASM/GSM lists and not a lot of promoter holding is pledged\n",
            "   </p>\n",
            "  </div>\n",
            " </div>\n",
            "</div>\n",
            "\n"
          ]
        }
      ]
    },
    {
      "cell_type": "code",
      "source": [
        "# get all keys and values\n",
        "\n",
        "for item in htmlBlock.childGenerator():\n",
        "  print(item.find(\"span\", class_=\"tooltip-holder\").contents[0], end=\": \")\n",
        "  print(item.find(\"i\")['class'][3].split(\"-\")[1])"
      ],
      "metadata": {
        "colab": {
          "base_uri": "https://localhost:8080/"
        },
        "id": "-OZstV6glDcC",
        "outputId": "5f770cb8-2f65-4b71-9576-c87f722cda5d"
      },
      "execution_count": 98,
      "outputs": [
        {
          "output_type": "stream",
          "name": "stdout",
          "text": [
            "Intrinsic Value: negative\n",
            "ROE vs FD rates: positive\n",
            "Dividend Returns: positive\n",
            "Entry Point: positive\n",
            "No Red Flags: positive\n"
          ]
        }
      ]
    },
    {
      "cell_type": "markdown",
      "source": [
        "### [3] Price Chart"
      ],
      "metadata": {
        "id": "orSWUF2B1TPc"
      }
    },
    {
      "cell_type": "code",
      "source": [
        ""
      ],
      "metadata": {
        "id": "tWnS8wzN1ajR"
      },
      "execution_count": null,
      "outputs": []
    },
    {
      "cell_type": "markdown",
      "source": [
        "### [4] Key Metrics"
      ],
      "metadata": {
        "id": "eo73RLqK1chc"
      }
    },
    {
      "cell_type": "code",
      "source": [
        ""
      ],
      "metadata": {
        "id": "iNOzGEBI2D_h"
      },
      "execution_count": null,
      "outputs": []
    },
    {
      "cell_type": "markdown",
      "source": [
        "### [5] Forecast & Ratings"
      ],
      "metadata": {
        "id": "_XWI16cP1cj4"
      }
    },
    {
      "cell_type": "code",
      "source": [
        "# Forecast\n",
        "htmlBlock = soup.find(\"div\", class_=\"forecast-radial\")\n",
        "print(htmlBlock.prettify())"
      ],
      "metadata": {
        "colab": {
          "base_uri": "https://localhost:8080/"
        },
        "id": "u45ihTJ_1ri8",
        "outputId": "08240d49-ac9a-44f9-864b-3f2c778a71c2"
      },
      "execution_count": 104,
      "outputs": [
        {
          "output_type": "stream",
          "name": "stdout",
          "text": [
            "<div class=\"jsx-3770717616 forecast-radial\">\n",
            " <div class=\"jsx-3770717616 radial-holder\">\n",
            "  <div class=\"rv-xy-plot rv-radial-chart\" style=\"width:64px;height:64px\">\n",
            "   <svg class=\"rv-xy-plot__inner\" height=\"64\" width=\"64\">\n",
            "    <g class=\"rv-xy-plot__series rv-xy-plot__series--arc \" opacity=\"1\" pointer-events=\"all\" transform=\"translate(32,32)\">\n",
            "     <path class=\"rv-xy-plot__series rv-xy-plot__series--arc-path rv-radial-chart__series--pie__slice \" d=\"M-6.95776561860984,31.234428081789666A32,32,0,0,1,2.254340479449671e-14,-32L1.6907553595872534e-14,-24A24,24,0,0,0,-5.21832421395738,23.425821061342248Z\" style=\"opacity:1;stroke:transparent;fill:rgba(129, 135, 140, 0.22)\">\n",
            "     </path>\n",
            "     <path class=\"rv-xy-plot__series rv-xy-plot__series--arc-path rv-radial-chart__series--pie__slice \" d=\"M1.959434878635765e-15,-32A32,32,0,1,1,-6.95776561860984,31.234428081789666L-5.21832421395738,23.425821061342248A24,24,0,1,0,1.4695761589768238e-15,-24Z\" style=\"opacity:1;stroke:transparent;fill:#07d459\">\n",
            "     </path>\n",
            "    </g>\n",
            "   </svg>\n",
            "  </div>\n",
            "  <span class=\"jsx-3770717616 percBuyReco-value typography-h5 text-primary \">\n",
            "   53\n",
            "   <span class=\"jsx-3770717616\">\n",
            "    %\n",
            "   </span>\n",
            "  </span>\n",
            " </div>\n",
            " <h4 class=\"jsx-3770717616 typography-body-medium-m text-primary\">\n",
            "  Analysts have suggested that investors can buy this stock\n",
            " </h4>\n",
            "</div>\n",
            "\n"
          ]
        }
      ]
    },
    {
      "cell_type": "code",
      "source": [
        "print(htmlBlock.div.span.contents[0], htmlBlock.div.span.span.text)"
      ],
      "metadata": {
        "colab": {
          "base_uri": "https://localhost:8080/"
        },
        "id": "uhBslxTp38Qe",
        "outputId": "29085d5e-eb5b-4ea3-884e-c84fbfcecda3"
      },
      "execution_count": 115,
      "outputs": [
        {
          "output_type": "stream",
          "name": "stdout",
          "text": [
            "53 %\n"
          ]
        }
      ]
    },
    {
      "cell_type": "code",
      "source": [
        "print(htmlBlock.h4.text)"
      ],
      "metadata": {
        "colab": {
          "base_uri": "https://localhost:8080/"
        },
        "id": "tZj0heN_2JmP",
        "outputId": "89c156aa-8857-4c99-817c-6cf3bc42f96d"
      },
      "execution_count": 111,
      "outputs": [
        {
          "output_type": "stream",
          "name": "stdout",
          "text": [
            "Analysts have suggested that investors can buy this stock\n"
          ]
        }
      ]
    },
    {
      "cell_type": "code",
      "source": [
        ""
      ],
      "metadata": {
        "id": "bSge6J4Z2Joq"
      },
      "execution_count": null,
      "outputs": []
    }
  ]
}